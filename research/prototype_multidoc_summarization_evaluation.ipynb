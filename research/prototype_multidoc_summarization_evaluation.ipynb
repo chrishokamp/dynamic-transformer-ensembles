{
 "cells": [
  {
   "cell_type": "code",
   "execution_count": null,
   "metadata": {},
   "outputs": [],
   "source": [
    "# load MDS test dataset, get summaries for clusters, evaluate"
   ]
  },
  {
   "cell_type": "code",
   "execution_count": null,
   "metadata": {},
   "outputs": [],
   "source": [
    "import json\n",
    "from pathlib import Path\n",
    "import tqdm\n",
    "\n",
    "from transformers import (modeling_utils,\n",
    "                          BartTokenizer,\n",
    "                          BartForConditionalGeneration,\n",
    "                          BartConfig)\n",
    "\n",
    "from transformer_decoding import decoding_utils\n",
    "from transformer_decoding.test_decoding import get_start_state\n"
   ]
  },
  {
   "cell_type": "code",
   "execution_count": null,
   "metadata": {},
   "outputs": [],
   "source": [
    "bart_cnndm_model = BartForConditionalGeneration.from_pretrained('bart-large-cnn'),\n",
    "bart_tokenizer = BartTokenizer.from_pretrained('bart-large-cnn'),"
   ]
  },
  {
   "cell_type": "code",
   "execution_count": null,
   "metadata": {},
   "outputs": [],
   "source": [
    "# see ``examples/summarization/bart/evaluate_cnn.py`` for a longer example\n",
    "\n",
    "def article_to_text(article):\n",
    "    return f'{article[\"title\"]} {article[\"text\"]}'\n",
    "\n",
    "\n",
    "def evaluate(args):\n",
    "\n",
    "    model = args['model']\n",
    "    tokenizer = args['tokenizer']\n",
    "    decoding_hyperparams = {\n",
    "        'max_length': args['max_length'],\n",
    "        'num_beams': args['num_beams']\n",
    "    }\n",
    "    dataset = [json.loads(l) for l in open(args['evaluation_dataset'])]\n",
    "\n",
    "    summaries = []\n",
    "    # get summary for each cluster\n",
    "    for cluster in tqdm.tqdm(dataset[:2]):\n",
    "        articles = [article_to_text(a) for a in cluster['articles'][:args['max_articles']]]\n",
    "        \n",
    "        component_states = [get_start_state(a, model, tokenizer, decoding_hyperparams)\n",
    "                            for a in articles]\n",
    "        ensemble_state = get_start_state(articles[0], model, tokenizer, decoding_hyperparams)\n",
    "\n",
    "        component_states, ensemble_state = \\\n",
    "            decoding_utils.generate(component_states, decoding_hyperparams['max_length'],\n",
    "                                    ensemble_state=ensemble_state)\n",
    "        \n",
    "        #assert len(ensemble_state['input_ids']) == 1, 'We currently have batch size=1 (we decode one cluster at a time)'\n",
    "        print(f'input_ids shape: {ensemble_state[\"input_ids\"].shape}')\n",
    "        print(f'Reference Summary:\\n{cluster[\"summary\"]}')\n",
    "        predictions = [tokenizer.decode(input_ids,\n",
    "                                        skip_special_tokens=True,\n",
    "                                        clean_up_tokenization_spaces=False)\n",
    "                       for input_ids in ensemble_state['input_ids']]\n",
    "        print(f'Predictions: \\n{predictions}')\n",
    "        print()\n",
    "        \n",
    "        summaries.append(predictions)\n",
    "    return summaries\n"
   ]
  },
  {
   "cell_type": "code",
   "execution_count": null,
   "metadata": {},
   "outputs": [],
   "source": [
    "evaluation_args = {\n",
    "    'evaluation_dataset': '/home/chris/projects/aylien/dynamic-ensembles/data/WCEP/test.jsonl',\n",
    "    'model': bart_cnndm_model,\n",
    "    'tokenizer': bart_tokenizer,\n",
    "    'max_length': 40,\n",
    "    'num_beams': 2,\n",
    "    'max_articles': 10\n",
    "}\n",
    "\n",
    "cluster_summaries = evaluate(evaluation_args)"
   ]
  },
  {
   "cell_type": "code",
   "execution_count": null,
   "metadata": {},
   "outputs": [],
   "source": [
    "cluster_summaries[0][0] == cluster_summaries[0][1]"
   ]
  },
  {
   "cell_type": "code",
   "execution_count": null,
   "metadata": {},
   "outputs": [],
   "source": [
    "predictions[0] == preditions[1]"
   ]
  },
  {
   "cell_type": "code",
   "execution_count": null,
   "metadata": {},
   "outputs": [],
   "source": []
  },
  {
   "cell_type": "code",
   "execution_count": null,
   "metadata": {},
   "outputs": [],
   "source": []
  },
  {
   "cell_type": "code",
   "execution_count": null,
   "metadata": {},
   "outputs": [],
   "source": []
  },
  {
   "cell_type": "code",
   "execution_count": null,
   "metadata": {},
   "outputs": [],
   "source": []
  },
  {
   "cell_type": "code",
   "execution_count": null,
   "metadata": {},
   "outputs": [],
   "source": [
    "cls.test_news_article_1 = 'New Zealand says it has stopped community transmission of Covid-19, ' \\\n",
    "                    'effectively eliminating the virus. With new cases in single figures for several days - one on Sunday ' \\\n",
    "                    '- Prime Minister Jacinda Ardern said the virus was \"currently\" eliminated. But officials have warned ' \\\n",
    "                    'against complacency, saying it does not mean a total end to new coronavirus cases. ' \\\n",
    "                    'The news comes hours before New Zealand is set to move out of its toughest level of social restrictions. ' \\\n",
    "                    'From Tuesday, some non-essential business, healthcare and education activity will be able to resume. ' \\\n",
    "                    'Most people will still be required to remain at home at all times and avoid all social interactions.'\n",
    "\n",
    "cls.test_news_article_2 = \\\n",
    "    'But officials have warned against complacency, saying it does not mean a total end to new HIV cases. ' \\\n",
    "    'Most people will still be required to remain at home at all times and avoid all social interactions.' \\\n",
    "    'Germany says it has stopped community transmission of HIV, ' \\\n",
    "    'effectively eliminating the virus. With new cases in single figures for several days - one on Sunday ' \\\n",
    "    '- Prime Minister Angela Merkle said the virus was \"currently\" eliminated. ' \\\n",
    "    'From Tuesday, some non-essential business, healthcare and education activity will be able to resume. ' \\\n",
    "    'The news comes hours before Germany is set to move out of its toughest level of social restrictions. '\n"
   ]
  }
 ],
 "metadata": {
  "kernelspec": {
   "display_name": "Python 3",
   "language": "python",
   "name": "python3"
  },
  "language_info": {
   "codemirror_mode": {
    "name": "ipython",
    "version": 3
   },
   "file_extension": ".py",
   "mimetype": "text/x-python",
   "name": "python",
   "nbconvert_exporter": "python",
   "pygments_lexer": "ipython3",
   "version": "3.6.10"
  }
 },
 "nbformat": 4,
 "nbformat_minor": 4
}
