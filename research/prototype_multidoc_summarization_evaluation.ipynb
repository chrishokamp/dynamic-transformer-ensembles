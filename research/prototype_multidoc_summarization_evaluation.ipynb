{
 "cells": [
  {
   "cell_type": "code",
   "execution_count": null,
   "metadata": {},
   "outputs": [],
   "source": [
    "# load MDS test dataset, get summaries for clusters, evaluate"
   ]
  },
  {
   "cell_type": "code",
   "execution_count": 1,
   "metadata": {},
   "outputs": [],
   "source": [
    "import json\n",
    "from pathlib import Path\n",
    "import tqdm\n",
    "\n",
    "from transformers import (modeling_utils,\n",
    "                          BartTokenizer,\n",
    "                          BartForConditionalGeneration,\n",
    "                          BartConfig)\n",
    "\n",
    "from transformer_decoding import decoding_utils\n",
    "from transformer_decoding.test_decoding import get_start_state\n"
   ]
  },
  {
   "cell_type": "code",
   "execution_count": 2,
   "metadata": {},
   "outputs": [],
   "source": [
    "bart_cnndm_model = BartForConditionalGeneration.from_pretrained('bart-large-cnn')\n",
    "bart_tokenizer = BartTokenizer.from_pretrained('bart-large-cnn')"
   ]
  },
  {
   "cell_type": "code",
   "execution_count": 3,
   "metadata": {},
   "outputs": [],
   "source": [
    "# see ``examples/summarization/bart/evaluate_cnn.py`` for a longer example\n",
    "\n",
    "def article_to_text(article):\n",
    "    return f'{article[\"title\"]} {article[\"text\"]}'\n",
    "\n",
    "\n",
    "def summarize(args):\n",
    "\n",
    "    model = args['model']\n",
    "    tokenizer = args['tokenizer']\n",
    "    decoding_hyperparams = {\n",
    "        'max_length': args['max_length'],\n",
    "        'num_beams': args['num_beams']\n",
    "    }\n",
    "    dataset = [json.loads(l) for l in open(args['evaluation_dataset'])]\n",
    "\n",
    "    summaries = []\n",
    "    # get summary for each cluster\n",
    "    for cluster in tqdm.tqdm(dataset):\n",
    "        articles = [article_to_text(a) for a in cluster['articles'][:args['max_articles']]]\n",
    "        \n",
    "        component_states = [get_start_state(a, model, tokenizer, decoding_hyperparams)\n",
    "                            for a in articles]\n",
    "        ensemble_state = get_start_state(articles[0], model, tokenizer, decoding_hyperparams)\n",
    "\n",
    "        component_states, ensemble_state = \\\n",
    "            decoding_utils.generate(component_states, decoding_hyperparams['max_length'],\n",
    "                                    ensemble_state=ensemble_state)\n",
    "        \n",
    "        #assert len(ensemble_state['input_ids']) == 1, 'We currently have batch size=1 (we decode one cluster at a time)'\n",
    "        print(f'input_ids shape: {ensemble_state[\"input_ids\"].shape}')\n",
    "        print(f'Reference Summary:\\n{cluster[\"summary\"]}')\n",
    "        predictions = [tokenizer.decode(input_ids,\n",
    "                                        skip_special_tokens=True,\n",
    "                                        clean_up_tokenization_spaces=False)\n",
    "                       for input_ids in ensemble_state['input_ids']]\n",
    "        print(f'Predictions: \\n{predictions}')\n",
    "        print()\n",
    "        \n",
    "        # NOTE: hack to just take the first one right now\n",
    "        summaries.append((predictions[0], cluster['summary']))\n",
    "    return summaries\n"
   ]
  },
  {
   "cell_type": "code",
   "execution_count": 4,
   "metadata": {},
   "outputs": [
    {
     "name": "stderr",
     "output_type": "stream",
     "text": [
      "  0%|          | 1/1022 [01:01<17:24:02, 61.35s/it]"
     ]
    },
    {
     "name": "stdout",
     "output_type": "stream",
     "text": [
      "input_ids shape: torch.Size([1, 59])\n",
      "Reference Summary:\n",
      "A blast near the 11th-century Data Darbar Sufi shrine in Lahore, Pakistan, kills at least eleven people, half of them police officers.\n",
      "Predictions: \n",
      "[\"The blast occurred in the city of Lahore, Pakistan. The blast occurred near a popular shrine. The attack was in the early hours of Wednesday morning. The death toll is expected to rise. The explosion occurred near the city's famous Sufi shrine. It was the second\"]\n",
      "\n"
     ]
    },
    {
     "name": "stderr",
     "output_type": "stream",
     "text": [
      "\r",
      "  0%|          | 2/1022 [02:03<17:28:26, 61.67s/it]"
     ]
    },
    {
     "name": "stdout",
     "output_type": "stream",
     "text": [
      "input_ids shape: torch.Size([1, 56])\n",
      "Reference Summary:\n",
      "Nine people were killed after the Taliban launches an attack on the Kabul offices of international non-governmental organization Counterpart International.\n",
      "Predictions: \n",
      "['The attack on the aid group is the latest in a series of attacks on Afghan forces. The attack comes as the Taliban continue to hold out against the U.S. government. The Taliban have been fighting a coalition government in Afghanistan for more than a decade.']\n",
      "\n"
     ]
    },
    {
     "name": "stderr",
     "output_type": "stream",
     "text": [
      "\r",
      "  0%|          | 3/1022 [03:06<17:30:47, 61.87s/it]"
     ]
    },
    {
     "name": "stdout",
     "output_type": "stream",
     "text": [
      "input_ids shape: torch.Size([1, 59])\n",
      "Reference Summary:\n",
      "Prince Harry and Meghan, the Duke and Duchess of Sussex, name their son Archie Harrison Mountbatten-Windsor.\n",
      "Predictions: \n",
      "['Prince Harry and Meghan Markle have named their son Harry and Duchess of Sussex. The couple have been married for just over a year. The baby is due in April. The royal couple have named him Harry and Camilla. The Duke and Duchess have been staying at Kens']\n",
      "\n"
     ]
    },
    {
     "name": "stderr",
     "output_type": "stream",
     "text": [
      "\r",
      "  0%|          | 4/1022 [04:04<17:12:51, 60.88s/it]"
     ]
    },
    {
     "name": "stdout",
     "output_type": "stream",
     "text": [
      "input_ids shape: torch.Size([1, 59])\n",
      "Reference Summary:\n",
      "Iranian President Hassan Rouhani sends letters to the P5+1 leaders of the United Kingdom, China, Russia, Germany, France and the European Union announcing the country's partial withdrawal from the 2015 Joint Comprehensive Plan of Action agreement. Furthermore, Iran announces that it will stop exporting uranium and heavy water from its nuclear program.\n",
      "Predictions: \n",
      "['Iranian President Hassan Rouhani says he will not accept any more sanctions. Iran has been accused of violating the nuclear deal with world powers. The U.S. has been trying to get Iran to curb its nuclear program. Iran says it will not agree to any more restrictions on']\n",
      "\n"
     ]
    },
    {
     "name": "stderr",
     "output_type": "stream",
     "text": [
      "\r",
      "  0%|          | 5/1022 [05:02<16:56:20, 59.96s/it]"
     ]
    },
    {
     "name": "stdout",
     "output_type": "stream",
     "text": [
      "input_ids shape: torch.Size([1, 59])\n",
      "Reference Summary:\n",
      "U.S. President Donald Trump notifies the Congress that he will designate Brazil as a Major non-NATO ally in light of recent commitments to increase defense cooperation between both countries.\n",
      "Predictions: \n",
      "['The U.S. President has called for a new policy to protect the U.N. from the threat of a possible attack on its own citizens. The U.K. government has been accused of trying to use the threat to undermine the U.,S. government.']\n",
      "\n"
     ]
    },
    {
     "name": "stderr",
     "output_type": "stream",
     "text": [
      "\r",
      "  1%|          | 6/1022 [06:00<16:45:17, 59.37s/it]"
     ]
    },
    {
     "name": "stdout",
     "output_type": "stream",
     "text": [
      "input_ids shape: torch.Size([1, 59])\n",
      "Reference Summary:\n",
      "In a referendum, 55.37% of the Belizean population voted in favor of allowing the International Court of Justice to adjudicate Belize's border dispute with its neighbor Guatemala.\n",
      "Predictions: \n",
      "['Belizeans vote to ask U.N. court to settle Guatemala border dispute. Guatemala says it is rightful owner of half of Belize\\'s territory. Belize says it has a right to claim the land. The U.S. government says Belize has a \"right to']\n",
      "\n"
     ]
    },
    {
     "name": "stderr",
     "output_type": "stream",
     "text": [
      "\r",
      "  1%|          | 7/1022 [07:03<17:02:26, 60.44s/it]"
     ]
    },
    {
     "name": "stdout",
     "output_type": "stream",
     "text": [
      "input_ids shape: torch.Size([1, 59])\n",
      "Reference Summary:\n",
      "Asia Bibi, a Christian woman acquitted of blasphemy after spending eight years on death row, has left Pakistan for Canada to be reunited with her daughters.\n",
      "Predictions: \n",
      "['Christian woman acquitted of blasphemy in Pakistan leaves country for Canada. She was sentenced to death for blasphemy after being convicted of blasphemy. She has been on death row for blasphemy since 2009. She is now in Canada. Her family says she is now living in Canada with her daughters.']\n",
      "\n"
     ]
    },
    {
     "name": "stderr",
     "output_type": "stream",
     "text": [
      "\r",
      "  1%|          | 8/1022 [08:07<17:19:39, 61.52s/it]"
     ]
    },
    {
     "name": "stdout",
     "output_type": "stream",
     "text": [
      "input_ids shape: torch.Size([1, 56])\n",
      "Reference Summary:\n",
      "The United States House Committee on the Judiciary votes to hold United States Attorney General William Barr in contempt of Congress after he failed to comply with a subpoena ordering him to provide them with the full, unredacted version of the Mueller Report last week. The full House will vote on the measure in the near future.\n",
      "Predictions: \n",
      "['The House Judiciary Committee is considering a contempt of Congress vote on the attorney general. The panel is considering whether to hold the attorney General in contempt. The House Judiciary committee is considering the matter. The committee is also considering a vote on whether to subpoena the FBI.']\n",
      "\n"
     ]
    },
    {
     "name": "stderr",
     "output_type": "stream",
     "text": [
      "\r",
      "  1%|          | 9/1022 [09:14<17:48:31, 63.29s/it]"
     ]
    },
    {
     "name": "stdout",
     "output_type": "stream",
     "text": [
      "input_ids shape: torch.Size([1, 59])\n",
      "Reference Summary:\n",
      "Donald Trump Jr., son of U.S. President Donald Trump, is subpoenaed to testify before the United States Senate Select Committee on Intelligence about the Trump Tower Moscow project and his Russian contacts in June 2016.\n",
      "Predictions: \n",
      "[\"The president's son-in-law and daughter-in law are among the people who have been accused of being involved in a scheme to sell the president's business to the Russians. The White House says the president is not involved in the scheme. The president's daughter-\"]\n",
      "\n"
     ]
    },
    {
     "name": "stderr",
     "output_type": "stream",
     "text": [
      "\r",
      "  1%|          | 10/1022 [10:21<18:05:19, 64.35s/it]"
     ]
    },
    {
     "name": "stdout",
     "output_type": "stream",
     "text": [
      "input_ids shape: torch.Size([1, 59])\n",
      "Reference Summary:\n",
      "Voters in South Africa go to the polls to elect new members of the National Assembly and provincial legislatures.\n",
      "Predictions: \n",
      "[\"South Africa's election is the first since the country's first election in 1994. The country's president, Jacob Zuma, is expected to win a second term. The election will be the first in the country since the first vote in 1994, when the ANC was formed.\"]\n",
      "\n"
     ]
    },
    {
     "name": "stderr",
     "output_type": "stream",
     "text": [
      "\r",
      "  1%|          | 11/1022 [11:21<17:43:51, 63.14s/it]"
     ]
    },
    {
     "name": "stdout",
     "output_type": "stream",
     "text": [
      "input_ids shape: torch.Size([1, 59])\n",
      "Reference Summary:\n",
      "The South Korean military claims that North Korean military has launched an \"unidentified projectile\" into the sea, marking the second time North Korea has conducted a weapons test in a single week.\n",
      "Predictions: \n",
      "[\"North Korea's latest missile test was a test of its latest missile. The test was the second in a week. The North has been testing missiles since June. The missile test is the latest in a series of missile tests. The U.S. has been monitoring the tests\"]\n",
      "\n"
     ]
    },
    {
     "name": "stderr",
     "output_type": "stream",
     "text": [
      "\r",
      "  1%|          | 12/1022 [12:25<17:44:48, 63.26s/it]"
     ]
    },
    {
     "name": "stdout",
     "output_type": "stream",
     "text": [
      "input_ids shape: torch.Size([1, 59])\n",
      "Reference Summary:\n",
      "For the first time the United States seizes a North Korean merchant ship loaded with coal in the East China Sea sailing toward Indonesia. The ship is suspected of violating sanctions.\n",
      "Predictions: \n",
      "['The U.S. says it has seized a North Korean ship that was carrying coal. The ship was carrying the coal in violation of U.N. sanctions. The U.K. says the ship was bound for the U.A.S.-run port of W']\n",
      "\n"
     ]
    },
    {
     "name": "stderr",
     "output_type": "stream",
     "text": [
      "\r",
      "  1%|▏         | 13/1022 [13:32<18:00:46, 64.27s/it]"
     ]
    },
    {
     "name": "stdout",
     "output_type": "stream",
     "text": [
      "input_ids shape: torch.Size([1, 59])\n",
      "Reference Summary:\n",
      "A blast hits Baghdad's northeastern Sadr City district. ISIL claims responsibility. No verified report on casualties is presently available.\n",
      "Predictions: \n",
      "[\"The blast occurred in Baghdad's Sadr City district. The Islamic State group claims responsibility for the attack. The blast killed at least eight people. The attack took place at a market in the city's Sadri City district, a witness says. The group says it was a\"]\n",
      "\n"
     ]
    },
    {
     "name": "stderr",
     "output_type": "stream",
     "text": [
      "\r",
      "  1%|▏         | 14/1022 [14:40<18:22:04, 65.60s/it]"
     ]
    },
    {
     "name": "stdout",
     "output_type": "stream",
     "text": [
      "input_ids shape: torch.Size([1, 59])\n",
      "Reference Summary:\n",
      "The Reserve Bank of Australia confirms it issued approximately 46 million  new Australian $50 notes in late 2018  with a typo in the background fine print: \"responsibility\" is misspelled as \"responsibilty\", the third \"i\" is missing. The mistake appears three times on the note and is extremely small requiring magnification to see. Part of the rollout of Australia's redesigned currency, the  A$50 notes feature the first female member of an Australian parliament, social reformer Edith Cowan.\n",
      "Predictions: \n",
      "[\"The Australian central bank has issued a new series of banknotes with a typo. The bank notes are the result of a typo on the bank's $50 note. The error was spotted by a local radio station. The note is the latest in a series of errors in the\"]\n",
      "\n"
     ]
    },
    {
     "name": "stderr",
     "output_type": "stream",
     "text": [
      "\r",
      "  1%|▏         | 15/1022 [15:39<17:47:43, 63.62s/it]"
     ]
    },
    {
     "name": "stdout",
     "output_type": "stream",
     "text": [
      "input_ids shape: torch.Size([1, 58])\n",
      "Reference Summary:\n",
      "The United Nations states that at least 65 people are dead after a boat sinks off the coast of Tunisia while carrying migrants from Libya to Europe.\n",
      "Predictions: \n",
      "['The boat was carrying more than 100 people, including many from the African country of Libya. The boat was heading to the coast of Tunisia. The migrants were on their way to the island of Zawiya, near the coast. The ship was carrying around 100 people.']\n",
      "\n"
     ]
    },
    {
     "name": "stderr",
     "output_type": "stream",
     "text": [
      "\r",
      "  2%|▏         | 16/1022 [16:45<17:56:10, 64.19s/it]"
     ]
    },
    {
     "name": "stdout",
     "output_type": "stream",
     "text": [
      "input_ids shape: torch.Size([1, 58])\n",
      "Reference Summary:\n",
      "Former Brazilian President Michel Temer surrenders to the federal police in response to Wednesday's arrest warrant regarding an investigation into an  alleged corruption scheme involving an Eletrobras nuclear power plant. Temer's lawyer's appeal will be heard on Tuesday.\n",
      "Predictions: \n",
      "[\"Brazil's former President Michel Temer is being investigated for corruption. He is being held in jail for a second time. He has been charged with corruption. The former president is accused of corruption in a graft probe. He was arrested in March. He denies the allegations.\"]\n",
      "\n"
     ]
    },
    {
     "name": "stderr",
     "output_type": "stream",
     "text": [
      "\r",
      "  2%|▏         | 17/1022 [17:55<18:22:49, 65.84s/it]"
     ]
    },
    {
     "name": "stdout",
     "output_type": "stream",
     "text": [
      "input_ids shape: torch.Size([1, 59])\n",
      "Reference Summary:\n",
      "The United States House of Representatives votes to overturn President Donald Trump’s move on the Affordable Care Act.\n",
      "Predictions: \n",
      "['The U.S. House of Representatives is considering a bill to make it easier for the federal government to get rid of the Affordable Care Act. The bill would allow the government to use the federal budget to fund health care reform. The House is also considering a measure to make']\n",
      "\n"
     ]
    },
    {
     "name": "stderr",
     "output_type": "stream",
     "text": [
      "\r",
      "  2%|▏         | 18/1022 [19:04<18:39:50, 66.92s/it]"
     ]
    },
    {
     "name": "stdout",
     "output_type": "stream",
     "text": [
      "input_ids shape: torch.Size([1, 59])\n",
      "Reference Summary:\n",
      "SEBIN agents detain Juan Guaidó's deputy Edgar Zambrano, the Vice President of the opposition-held National Assembly, and are reported to have taken him to El Helicoide prison. He is the most high profile opposition politician arrested since the presidential crisis began in January.\n",
      "Predictions: \n",
      "[\"Venezuelan opposition leader's arrest is a blow to the opposition. The vice president of the opposition-controlled National Assembly was arrested in Caracas. The arrest is the latest in a series of arrests in Venezuela in recent days. The opposition leader is the vice president for the\"]\n",
      "\n"
     ]
    },
    {
     "name": "stderr",
     "output_type": "stream",
     "text": [
      "\r",
      "  2%|▏         | 19/1022 [20:13<18:47:30, 67.45s/it]"
     ]
    },
    {
     "name": "stdout",
     "output_type": "stream",
     "text": [
      "input_ids shape: torch.Size([1, 59])\n",
      "Reference Summary:\n",
      "Colleague Richard Blanco of the Brave Peoples’ Alliance party seeks refuge in Argentina's embassy in Caracas,  Venezuela, following Zambrano's arrest.\n",
      "Predictions: \n",
      "[\"Venezuelan opposition lawmaker seeks refuge in foreign embassies after being arrested. Lawmakers are seeking refuge after government's crackdown on opposition. President Nicolas Maduro has cracked down on the opposition. He has also cracked down heavily on the media, accusing the opposition of being in the opposition's\"]\n",
      "\n"
     ]
    },
    {
     "name": "stderr",
     "output_type": "stream",
     "text": [
      "\r",
      "  2%|▏         | 20/1022 [21:20<18:47:53, 67.54s/it]"
     ]
    },
    {
     "name": "stdout",
     "output_type": "stream",
     "text": [
      "input_ids shape: torch.Size([1, 59])\n",
      "Reference Summary:\n",
      "Russian officials are sentenced for a 2016 coup attempt in Montenegro.\n",
      "Predictions: \n",
      "[\"Two Russian spies were convicted of plotting to overthrow Montenegro's government. The two were part of a group of 13 people who were convicted in a coup attempt. The group was convicted of trying to overthrow the government in Montenegro. The defendants were sentenced to up to 15 years\"]\n",
      "\n"
     ]
    },
    {
     "name": "stderr",
     "output_type": "stream",
     "text": [
      "\r",
      "  2%|▏         | 21/1022 [22:29<18:53:00, 67.91s/it]"
     ]
    },
    {
     "name": "stdout",
     "output_type": "stream",
     "text": [
      "input_ids shape: torch.Size([1, 59])\n",
      "Reference Summary:\n",
      "Four hostages, who were being held in northern Burkina Faso, are rescued by French naval commandos, with two French commandos killed during the rescue operation. Those freed include two Frenchmen who had been kidnapped in Benin on May 1 and a pair of women, one an American and the other a South Korean.\n",
      "Predictions: \n",
      "[\"Two French soldiers killed in Burkina Faso in a raid on a rebel camp. French troops freed four hostages, including two French citizens. The hostages were held by a group of militants in the country's capital, Ouagadougou. The French military says the hostages\"]\n",
      "\n"
     ]
    },
    {
     "name": "stderr",
     "output_type": "stream",
     "text": [
      "\r",
      "  2%|▏         | 22/1022 [23:37<18:51:54, 67.91s/it]"
     ]
    },
    {
     "name": "stdout",
     "output_type": "stream",
     "text": [
      "input_ids shape: torch.Size([1, 59])\n",
      "Reference Summary:\n",
      "About 900 children are released from the Civilian Joint Task Force, a militia formed in Nigeria to counter Boko Haram.\n",
      "Predictions: \n",
      "[\"The children were taken from the militia in the north of the country. The children were part of a group of children who were being held by the military. The group was part of the Nigerian military's military-backed civilian militia. The child soldiers were being used to fight against\"]\n",
      "\n"
     ]
    },
    {
     "name": "stderr",
     "output_type": "stream",
     "text": [
      "\r",
      "  2%|▏         | 23/1022 [24:28<17:23:27, 62.67s/it]"
     ]
    },
    {
     "name": "stdout",
     "output_type": "stream",
     "text": [
      "input_ids shape: torch.Size([1, 59])\n",
      "Reference Summary:\n",
      "Suspected Baloch nationalist gunmen storm a coal mine in Islamabad, Pakistan, killing at least five people.\n",
      "Predictions: \n",
      "['The three-man team of gunmen stormed the hotel in the city of Gwadar. The gunmen were reportedly armed with machine guns and grenades. The attack was in response to a recent attack on a hotel in Gwadars. The hotel was in the Pakistani city of Karachi']\n",
      "\n"
     ]
    },
    {
     "name": "stderr",
     "output_type": "stream",
     "text": [
      "\r",
      "  2%|▏         | 24/1022 [25:36<17:52:09, 64.46s/it]"
     ]
    },
    {
     "name": "stdout",
     "output_type": "stream",
     "text": [
      "input_ids shape: torch.Size([1, 59])\n",
      "Reference Summary:\n",
      "One day after peace talks between the Taliban and the United States ended with no resolution, Taliban militants attack government outposts in northwestern Afghanistan, killing at least twelve Afghan soldiers.\n",
      "Predictions: \n",
      "['The Taliban have launched an assault on two security outposts in western Afghanistan. The Taliban have killed 15 security personnel in the latest attack. The attack is the latest in a series of deadly attacks targeting the country. The attacks have been carried out by the Taliban in recent weeks.']\n",
      "\n"
     ]
    },
    {
     "name": "stderr",
     "output_type": "stream",
     "text": [
      "\r",
      "  2%|▏         | 25/1022 [26:44<18:07:17, 65.43s/it]"
     ]
    },
    {
     "name": "stdout",
     "output_type": "stream",
     "text": [
      "input_ids shape: torch.Size([1, 59])\n",
      "Reference Summary:\n",
      "Uber makes its initial public offering on the New York Stock Exchange, starting by selling stocks at $42 and closing at $41.60. Uber's market cap drops from over $80 billion to about $72 billion.\n",
      "Predictions: \n",
      "[\"Uber's IPO is the first major IPO in the U.S. since 2008. The company is valued at $70 billion. Uber is a ride-hailing service that has been around since 2009. It has been criticized for its lack of transparency. The firm has been accused of\"]\n",
      "\n"
     ]
    },
    {
     "name": "stderr",
     "output_type": "stream",
     "text": [
      "\r",
      "  3%|▎         | 26/1022 [27:49<18:06:37, 65.46s/it]"
     ]
    },
    {
     "name": "stdout",
     "output_type": "stream",
     "text": [
      "input_ids shape: torch.Size([1, 59])\n",
      "Reference Summary:\n",
      "The United States increases tariffs from 10% to 25% on $200 billion worth of imports from China after no deal materialized prior to the midnight deadline.\n",
      "Predictions: \n",
      "[\"The U.S. and China are in the midst of a trade dispute over trade. The U.N. says the U.K. is the world's largest economy. The United States is the largest trading partner for China. The two countries have been at odds over\"]\n",
      "\n"
     ]
    },
    {
     "name": "stderr",
     "output_type": "stream",
     "text": [
      "\r",
      "  3%|▎         | 27/1022 [28:24<15:30:18, 56.10s/it]"
     ]
    },
    {
     "name": "stdout",
     "output_type": "stream",
     "text": [
      "input_ids shape: torch.Size([1, 59])\n",
      "Reference Summary:\n",
      "Republicans Senate Homeland Security Committee Chairman Ron Johnson and Senate Finance Committee Chairman Chuck Grassley request documents related to Christopher Steele, author of the Trump–Russia dossier, in a letter to United States Secretary of State Mike Pompeo and the FBI Director Christopher Wray.\n",
      "Predictions: \n",
      "['The U.S. State Department has released a list of documents it says it has obtained from the Russian government. The documents were obtained by the FBI and the National Security Agency. The FBI has been investigating the Russian dossier, which was compiled by former British spy Christopher Steele.']\n",
      "\n"
     ]
    },
    {
     "name": "stderr",
     "output_type": "stream",
     "text": [
      "\r",
      "  3%|▎         | 28/1022 [29:31<16:25:59, 59.52s/it]"
     ]
    },
    {
     "name": "stdout",
     "output_type": "stream",
     "text": [
      "input_ids shape: torch.Size([1, 58])\n",
      "Reference Summary:\n",
      "The United States House Committee on Ways and Means subpoenas United States Secretary of the Treasury Steven Mnuchin and Commissioner of Internal Revenue Charles Rettig to provide President Donald Trump's federal tax returns for the last six years.\n",
      "Predictions: \n",
      "['House Democrats are seeking to get the tax returns of President Trump. The tax returns are due to be released by the end of the year. The IRS has been asked to release the returns. The White House has said it will release the tax records in the coming weeks.']\n",
      "\n"
     ]
    },
    {
     "name": "stderr",
     "output_type": "stream",
     "text": [
      "\r",
      "  3%|▎         | 29/1022 [30:37<16:58:24, 61.54s/it]"
     ]
    },
    {
     "name": "stdout",
     "output_type": "stream",
     "text": [
      "input_ids shape: torch.Size([1, 59])\n",
      "Reference Summary:\n",
      "Houthi forces begin to withdraw from several Yemeni ports, including Al Hudaydah, As-Salif and Ras Isa. The withdrawal is part of a UN-brokered ceasefire deal that aims to end the blockade of Yemen.\n",
      "Predictions: \n",
      "['Yemeni rebels have withdrawn from three key ports in the country. The move is part of a deal to end a bloody civil war in the war-torn country. Houthi rebels are fighting the government in the port city of Hodeidah. The Houthis are']\n",
      "\n"
     ]
    },
    {
     "name": "stderr",
     "output_type": "stream",
     "text": [
      "\r",
      "  3%|▎         | 30/1022 [31:44<17:20:14, 62.92s/it]"
     ]
    },
    {
     "name": "stdout",
     "output_type": "stream",
     "text": [
      "input_ids shape: torch.Size([1, 57])\n",
      "Reference Summary:\n",
      "In Gwadar, three insurgents attack a luxury hotel, as a result of the attack, four hotel employees, a soldier and all three attackers have been killed. The Baloch Liberation Army, an ethnic Baloch separatist group fighting for independence for Balochistan province, claimed responsibility for the attack saying that four fighters were involved.  (BBC)\n",
      "Predictions: \n",
      "[\"The attack took place in the city of Gwadar in Pakistan's Balochistan province. The hotel was attacked by gunmen who were armed with grenades and guns. The attack was carried out by a group of armed men. The gunmen were killed by security forces.\"]\n",
      "\n"
     ]
    },
    {
     "name": "stderr",
     "output_type": "stream",
     "text": [
      "\r",
      "  3%|▎         | 31/1022 [32:50<17:36:06, 63.94s/it]"
     ]
    },
    {
     "name": "stdout",
     "output_type": "stream",
     "text": [
      "input_ids shape: torch.Size([1, 58])\n",
      "Reference Summary:\n",
      "A North Korean merchant ship loaded with coal, seized by the United States in the East China Sea for suspected sanctions violation, arrives in Pago Pago, American Samoa.\n",
      "Predictions: \n",
      "['The ship was seized by the U.S. because of suspicion it was used to violate international sanctions. The ship was taken to American Samoa, where it was seized on Monday. The U.N. Security Council has imposed sanctions on North Korea over its nuclear program.']\n",
      "\n"
     ]
    },
    {
     "name": "stderr",
     "output_type": "stream",
     "text": [
      "\r",
      "  3%|▎         | 32/1022 [33:10<13:58:15, 50.80s/it]"
     ]
    },
    {
     "name": "stdout",
     "output_type": "stream",
     "text": [
      "input_ids shape: torch.Size([1, 57])\n",
      "Reference Summary:\n",
      "Efforts begin in Solomon Islands to refloat a ship after an oil spill in what the government says will be a \"very difficult operation.\" (Radio New Zealand)\n",
      "Predictions: \n",
      "['The MV Solomon Trader was stranded on a coral reef for more than three months. The ship was refloated Saturday after being stranded on the reef for three months after an oil spill. The vessel was near the Solomon Islands when it ran aground on a reef.']\n",
      "\n"
     ]
    },
    {
     "name": "stderr",
     "output_type": "stream",
     "text": [
      "\r",
      "  3%|▎         | 33/1022 [34:16<15:12:37, 55.37s/it]"
     ]
    },
    {
     "name": "stdout",
     "output_type": "stream",
     "text": [
      "input_ids shape: torch.Size([1, 59])\n",
      "Reference Summary:\n",
      "Harvard announces that they will not renew law professor Ronald S. Sullivan Jr.'s appointment as dean of Winthrop House after he joined the defense of Harvey Weinstein. He remains a regular professor.\n",
      "Predictions: \n",
      "[\"Harvard University has fired a dean who represented Harvey Weinstein. The dean was a member of the Harvard faculty. The school says the dean's position was not necessary. The university says it is not aware of any wrongdoing. The Harvard University dean's job was not required to be filled by\"]\n",
      "\n"
     ]
    },
    {
     "name": "stderr",
     "output_type": "stream",
     "text": [
      "\r",
      "  3%|▎         | 34/1022 [34:23<11:12:47, 40.86s/it]"
     ]
    },
    {
     "name": "stdout",
     "output_type": "stream",
     "text": [
      "input_ids shape: torch.Size([1, 56])\n",
      "Reference Summary:\n",
      "David W. Panuelo is sworn in as President of the Federated States of Micronesia, succeeding Peter M. Christian, after being elected by the Congress.\n",
      "Predictions: \n",
      "['Federated States of Micronesia (Federations) have been declared a state of emergency. The FSM has been in a state state of state of alert since January 1, 2013. The state of Micorsia is a Federated States.']\n",
      "\n"
     ]
    },
    {
     "name": "stderr",
     "output_type": "stream",
     "text": [
      "\r",
      "  3%|▎         | 35/1022 [35:29<13:17:13, 48.46s/it]"
     ]
    },
    {
     "name": "stdout",
     "output_type": "stream",
     "text": [
      "input_ids shape: torch.Size([1, 59])\n",
      "Reference Summary:\n",
      "Gunmen burn down a Catholic church during mass and kill six people, including a priest, in Dablo, Burkina Faso.\n",
      "Predictions: \n",
      "['Gunmen kill six people in attack on church in Burkina Faso. The attack took place in the capital, Ouagadougou. The victims were all members of the same church. The church was attacked by gunmen who then fled. The attackers were killed by police']\n",
      "\n"
     ]
    },
    {
     "name": "stderr",
     "output_type": "stream",
     "text": [
      "\r",
      "  4%|▎         | 36/1022 [36:35<14:43:52, 53.79s/it]"
     ]
    },
    {
     "name": "stdout",
     "output_type": "stream",
     "text": [
      "input_ids shape: torch.Size([1, 59])\n",
      "Reference Summary:\n",
      "The United Arab Emirates reports four commercial vessels were subject to \"sabotage operations\" just outside its territorial waters in the Gulf of Oman and two of the vessels suffer \"significant damage\" to their structure off the coast of Fujairah. One of the vessels was en route to the United Arab Emirates to be loaded with Saudi Arabia crude oil and sent to the United States.\n",
      "Predictions: \n",
      "['The U.S. military says it has been involved in a \"sabotage\" operation in the Gulf. The U.N. says the operation was carried out by a group of pirates. The UAE says it is investigating the incident. The United Arab Emirates says']\n",
      "\n"
     ]
    },
    {
     "name": "stderr",
     "output_type": "stream",
     "text": [
      "\r",
      "  4%|▎         | 37/1022 [37:06<12:46:30, 46.69s/it]"
     ]
    },
    {
     "name": "stdout",
     "output_type": "stream",
     "text": [
      "input_ids shape: torch.Size([1, 59])\n",
      "Reference Summary:\n",
      "Memos sent to Syria's head of military intelligence, and obtained by the New York Times, report that President Bashar al-Assad's government has been running a network of secret torture facilities across Syria, crushing opposition via routine torture in secret prisons.\n",
      "Predictions: \n",
      "[\"The Syrian government has been accused of using torture to punish its enemies. The regime has been using a secret prison system to keep dissidents in line. The system has been used to torture and kill prisoners, including some of the country's top officials. The torture is believed to be\"]\n",
      "\n"
     ]
    },
    {
     "name": "stderr",
     "output_type": "stream",
     "text": [
      "\r",
      "  4%|▎         | 38/1022 [38:12<14:20:27, 52.47s/it]"
     ]
    },
    {
     "name": "stdout",
     "output_type": "stream",
     "text": [
      "input_ids shape: torch.Size([1, 59])\n",
      "Reference Summary:\n",
      "Argentine lawmaker Héctor Enrique Olivares, who was seriously injured in a shooting attack near the Congress on May 9, dies in hospital as result of the gunshot injuries.\n",
      "Predictions: \n",
      "['Argentine lawmaker Hector Olivares was shot in a \"mafia-style\" attack. Olivares died from his injuries after the attack in Buenos Aires. The attack took place in the city\\'s Congress building. Olivare was shot by a gunman who then fled the scene']\n",
      "\n"
     ]
    },
    {
     "name": "stderr",
     "output_type": "stream",
     "text": [
      "\r",
      "  4%|▍         | 39/1022 [38:41<12:27:52, 45.65s/it]"
     ]
    },
    {
     "name": "stdout",
     "output_type": "stream",
     "text": [
      "input_ids shape: torch.Size([1, 56])\n",
      "Reference Summary:\n",
      "Lithuanians are called to the polls to elect the new President. Ingrida Šimonytė wins the first round and will dispute the second round with Gitanas Nausėda. Prime Minister and presidential candidate, Saulius Skvernelis is about to resign after the bad results of his candidature.\n",
      "Predictions: \n",
      "['Lithuanian presidential election will be held on Sunday. The first round of voting will be for the presidential election. The second round will be a run-off for the presidency. The third round will take place for the vice presidential election on May 26.']\n",
      "\n"
     ]
    },
    {
     "name": "stderr",
     "output_type": "stream",
     "text": [
      "\r",
      "  4%|▍         | 40/1022 [39:48<14:08:49, 51.86s/it]"
     ]
    },
    {
     "name": "stdout",
     "output_type": "stream",
     "text": [
      "input_ids shape: torch.Size([1, 59])\n",
      "Reference Summary:\n",
      "Stevo Pendarovski is sworn in as the President of North Macedonia after winning the election, the first after the Prespa agreement.\n",
      "Predictions: \n",
      "['Stevo Pendarovski has been sworn in as the new president of North Macedonia. Pendarovsky has been in office since January 1, 2013. He has been a member of the ruling party since 2008. He was a member and prime minister of the Socialist Republic of']\n",
      "\n"
     ]
    },
    {
     "name": "stderr",
     "output_type": "stream",
     "text": [
      "\r",
      "  4%|▍         | 41/1022 [40:53<15:16:19, 56.04s/it]"
     ]
    },
    {
     "name": "stdout",
     "output_type": "stream",
     "text": [
      "input_ids shape: torch.Size([1, 59])\n",
      "Reference Summary:\n",
      "Manchester City F.C. win England's 2018–19 Premier League for the second year in a row with 98 points, while Liverpool F.C. come in second with 97 points, continuing their 29-year title drought.\n",
      "Predictions: \n",
      "['Manchester City beat Liverpool to win Premier League title. City won the title for the first time in their history after a 3-1 win over Liverpool. The champions were unbeaten in the league and won the Champions League. Liverpool finished second in the Premier League, one point behind City']\n",
      "\n"
     ]
    },
    {
     "name": "stderr",
     "output_type": "stream",
     "text": [
      "\r",
      "  4%|▍         | 42/1022 [41:59<16:04:11, 59.03s/it]"
     ]
    },
    {
     "name": "stdout",
     "output_type": "stream",
     "text": [
      "input_ids shape: torch.Size([1, 59])\n",
      "Reference Summary:\n",
      "The United States Maritime Administration (MARAD) issues a new alert to all ships passing Fujairah, off the coast of the United Arab Emirates on the Gulf of Oman over \"acts of sabotage\" amid heightened regional tensions between the United States and Iran.\n",
      "Predictions: \n",
      "['U.S. says it has been in contact with the UAE and has been working with them to resolve the situation. The U.S.-led coalition has been trying to stop the flow of oil into the region. The UAE has been sending ships to the region to help']\n",
      "\n"
     ]
    },
    {
     "name": "stderr",
     "output_type": "stream",
     "text": [
      "\r",
      "  4%|▍         | 43/1022 [43:07<16:45:02, 61.60s/it]"
     ]
    },
    {
     "name": "stdout",
     "output_type": "stream",
     "text": [
      "input_ids shape: torch.Size([1, 59])\n",
      "Reference Summary:\n",
      "Four people are killed when two sightseeing planes, with a total of 14 Royal Princess ship tourists, collide near  Ketchikan, Alaska. Multiple people were rescued though two others are missing.\n",
      "Predictions: \n",
      "['Two planes collided in midair in Alaska, killing at least five people. The crash occurred in the air near the town of Ketchikan. The two planes were flying from the U.S. to Alaska. The collision occurred in an area known for its scenic beauty.']\n",
      "\n"
     ]
    },
    {
     "name": "stderr",
     "output_type": "stream",
     "text": [
      "\r",
      "  4%|▍         | 44/1022 [44:13<17:03:46, 62.81s/it]"
     ]
    },
    {
     "name": "stdout",
     "output_type": "stream",
     "text": [
      "input_ids shape: torch.Size([1, 57])\n",
      "Reference Summary:\n",
      "An Iranian woman is sentenced to 10 years in prison for suspected spying for the United Kingdom. A judiciary spokesman alleged that she was recruited by the British Council's Iran desk.\n",
      "Predictions: \n",
      "['Iranian national sentenced to 10 years for spying for Britain. The suspect was arrested in Iran in 2009. The Iranian government says the suspect was spying for the UK. The UK has accused Iran of spying for its own citizens. The case is being investigated by the British government.']\n",
      "\n"
     ]
    },
    {
     "name": "stderr",
     "output_type": "stream",
     "text": [
      "\r",
      "  4%|▍         | 45/1022 [45:19<17:17:32, 63.72s/it]"
     ]
    },
    {
     "name": "stdout",
     "output_type": "stream",
     "text": [
      "input_ids shape: torch.Size([1, 56])\n",
      "Reference Summary:\n",
      "China announces its intent to increase tariffs from 10% to 25% on $60 billion worth of imports from the United States effective June 1, 2019.\n",
      "Predictions: \n",
      "['China has threatened to retaliate against U.S. tariffs on $60 billion of its goods. The move is in response to U.N. sanctions on China over its trade practices. The U.K. has also threatened to impose tariffs on Chinese goods.']\n",
      "\n"
     ]
    },
    {
     "name": "stderr",
     "output_type": "stream",
     "text": [
      "\r",
      "  5%|▍         | 46/1022 [46:25<17:27:43, 64.41s/it]"
     ]
    },
    {
     "name": "stdout",
     "output_type": "stream",
     "text": [
      "input_ids shape: torch.Size([1, 59])\n",
      "Reference Summary:\n",
      "Venezuelan National Assembly leader Juan Guaidó formally requests help from the United States Southern Command (SOUTHCOM) for \"strategic and operational planning\" against the government of Nicolás Maduro.\n",
      "Predictions: \n",
      "['Venezuelan opposition leader Freddy Guevara is in the U.S. to meet with President Obama. He is also in the United States to meet President Obama on behalf of his government. Guevarra is also seeking to get the U.,S. State Department to']\n",
      "\n"
     ]
    },
    {
     "name": "stderr",
     "output_type": "stream",
     "text": [
      "\r",
      "  5%|▍         | 47/1022 [47:31<17:34:11, 64.87s/it]"
     ]
    },
    {
     "name": "stdout",
     "output_type": "stream",
     "text": [
      "input_ids shape: torch.Size([1, 59])\n",
      "Reference Summary:\n",
      "Prosecutors in Sweden reopen the rape allegation investigation against WikiLeaks founder Julian Assange. Swedish prosecutors mention their intent to seek extradition of Assange from the United Kingdom after he has served his 50-week prison sentence for skipping bail.\n",
      "Predictions: \n",
      "['Swedish prosecutors to reopen rape case against WikiLeaks founder Julian Assange. Assange is accused of raping a woman in Sweden in 2010. He has been in hiding since the scandal broke in 2011. Assange has been granted bail and is awaiting extradition to Sweden. He is also facing charges of sexual']\n",
      "\n"
     ]
    },
    {
     "name": "stderr",
     "output_type": "stream",
     "text": [
      "\r",
      "  5%|▍         | 48/1022 [48:37<17:38:33, 65.21s/it]"
     ]
    },
    {
     "name": "stdout",
     "output_type": "stream",
     "text": [
      "input_ids shape: torch.Size([1, 59])\n",
      "Reference Summary:\n",
      "A 36-year-old man is arrested just outside Casa Rosada in Argentina, armed with a handgun, after requesting to hold an interview with President Mauricio Macri.\n",
      "Predictions: \n",
      "['Man with gun tries to enter Argentina presidential office. Man was seeking a meeting with the president. He was detained after he tried to walk into the presidential palace with a pistol. He had been trying to get a meeting. He is being held in custody. The incident occurred in']\n",
      "\n"
     ]
    },
    {
     "name": "stderr",
     "output_type": "stream",
     "text": [
      "\r",
      "  5%|▍         | 49/1022 [49:42<17:40:07, 65.37s/it]"
     ]
    },
    {
     "name": "stdout",
     "output_type": "stream",
     "text": [
      "input_ids shape: torch.Size([1, 59])\n",
      "Reference Summary:\n",
      "Actress Felicity Huffman pleads guilty to conspiracy to commit mail fraud and honest services mail fraud and admits to paying $15,000 for a proctor to change her daughter's SAT answers.\n",
      "Predictions: \n",
      "['Felicity Huffman pleads guilty to charges in college admissions scam. Actress is accused of paying to get her daughter\\'s college admissions score. She is accused in a scheme to rig the SAT and ACT scores for her daughter. Huffman is a former contestant on \"The Voice']\n",
      "\n"
     ]
    },
    {
     "name": "stderr",
     "output_type": "stream",
     "text": [
      "\r",
      "  5%|▍         | 50/1022 [50:46<17:31:08, 64.89s/it]"
     ]
    },
    {
     "name": "stdout",
     "output_type": "stream",
     "text": [
      "input_ids shape: torch.Size([1, 59])\n",
      "Reference Summary:\n",
      "Trump's U.S. Attorney General William Barr appoints Republican U.S. Attorney for the District of Connecticut John Durham to investigate the origins of the Crossfire Hurricane and Special Counsel investigations, and any criminality that may have occurred.\n",
      "Predictions: \n",
      "['Attorney General William Barr has appointed a U.S. attorney to examine the origins of the Russia investigation. The U.N. Security Council has passed a resolution to investigate the origins and scope of the probe. The resolution would require the FBI to investigate whether the Russian investigation was']\n",
      "\n"
     ]
    },
    {
     "name": "stderr",
     "output_type": "stream",
     "text": [
      "\r",
      "  5%|▍         | 51/1022 [51:52<17:34:01, 65.13s/it]"
     ]
    },
    {
     "name": "stdout",
     "output_type": "stream",
     "text": [
      "input_ids shape: torch.Size([1, 59])\n",
      "Reference Summary:\n",
      "The Supreme Court of the United States (SCOTUS) rules in Franchise Tax Board of California v. Hyatt, that a state cannot be sued in another state's court, overturning a 40-year-old precedent. The 5-4 decision overrules the Nevada v. Hall stare decisis set in 1979 which allowed private suits from one state to be brought in another state's court.\n",
      "Predictions: \n",
      "[\"Supreme Court says one state can't be sued in another's courts. The ruling is a reversal of a 40-year precedent. The court's ruling is 5-4. The decision is a major victory for the state of California. The case is being appealed by the state's\"]\n",
      "\n"
     ]
    },
    {
     "name": "stderr",
     "output_type": "stream",
     "text": [
      "\r",
      "  5%|▌         | 52/1022 [52:59<17:41:16, 65.65s/it]"
     ]
    },
    {
     "name": "stdout",
     "output_type": "stream",
     "text": [
      "input_ids shape: torch.Size([1, 59])\n",
      "Reference Summary:\n",
      "Voters in the Philippines go to the polls to elect new members of the Senate of the Philippines and House of Representatives of the Philippines, as well as various other local positions.\n",
      "Predictions: \n",
      "[\"Voters in the Philippines vote in midterms on Monday. The election is seen as a referendum on President Rodrigo Duterte's leadership. The president is expected to win a second term. The vote is seen by many as a test of his leadership. He has been criticized for his\"]\n",
      "\n"
     ]
    },
    {
     "name": "stderr",
     "output_type": "stream",
     "text": [
      "\r",
      "  5%|▌         | 53/1022 [53:39<15:37:30, 58.05s/it]"
     ]
    },
    {
     "name": "stdout",
     "output_type": "stream",
     "text": [
      "input_ids shape: torch.Size([1, 59])\n",
      "Reference Summary:\n",
      "The Constitutional Court determines that Zury Ríos has a constitutional impediment to be a presidential candidate and leaves her out of the electoral contest. Her constitutional impediment is for being the daughter of former dictator Efraín Ríos Montt.\n",
      "Predictions: \n",
      "['The daughter of former President Efrain Rios Montt is a former military dictator. She is a member of the ruling party. She was a member in the military when her father was president. She has been a member since the 1980s. She had been a senator']\n",
      "\n"
     ]
    },
    {
     "name": "stderr",
     "output_type": "stream",
     "text": [
      "\r",
      "  5%|▌         | 54/1022 [54:45<16:17:56, 60.62s/it]"
     ]
    },
    {
     "name": "stdout",
     "output_type": "stream",
     "text": [
      "input_ids shape: torch.Size([1, 59])\n",
      "Reference Summary:\n",
      "American undersea explorer Victor Vescovo sets a new world record for the deepest ever sea dive at 10,972 metres (35,997 ft) in the Pacific Ocean's Mariana Trench. Several unusual things are discovered at the bottom, including four new species of prawn-like crustaceans, a new species of snailfish, strange brightly coloured rocky outcrops and a plastic bag.\n",
      "Predictions: \n",
      "['The deepest dive ever made by a human in a submarine has been made. The dive was made by an American explorer in the deepest ever submersible. The explorer found a large amount of trash in the ocean floor. The ocean floor is the deepest place in the world where']\n",
      "\n"
     ]
    },
    {
     "name": "stderr",
     "output_type": "stream",
     "text": [
      "\r",
      "  5%|▌         | 55/1022 [55:51<16:41:31, 62.14s/it]"
     ]
    },
    {
     "name": "stdout",
     "output_type": "stream",
     "text": [
      "input_ids shape: torch.Size([1, 59])\n",
      "Reference Summary:\n",
      "Two Saudi Aramco oil pumping stations are attacked in an apparent drone strike according to Saudi Arabia's Energy Ministry. The stations are linked to a pipeline transporting oil from the eastern fields to the western coast port of Yanbu on the Red Sea.\n",
      "Predictions: \n",
      "['Saudi Arabia says it has been attacked by drones. The attack was carried out by the U.S. military. The U.N. says the attack was in response to a Saudi-led attack on a U.K. naval vessel. The Saudi government says the drone attack was']\n",
      "\n"
     ]
    },
    {
     "name": "stderr",
     "output_type": "stream",
     "text": [
      "\r",
      "  5%|▌         | 56/1022 [56:04<12:41:42, 47.31s/it]"
     ]
    },
    {
     "name": "stdout",
     "output_type": "stream",
     "text": [
      "input_ids shape: torch.Size([1, 59])\n",
      "Reference Summary:\n",
      "A 7.5 MMS quake rattles New Ireland, Papua New Guinea. Police Sergeant Frank Kilaur says that the quake was \"very, very violent\" but no immediate reports of major damages or casualties have been reported. A tsunami alert is issued by the Pacific Tsunami Warning Center. The tsunami threat has now largely passed.\n",
      "Predictions: \n",
      "['The quake struck at a depth of about 6.5 miles, the USGS said. The quake was centered near the town of San Francisco. The Pacific Tsunami Warning Center said there was no immediate tsunami threat. The earthquake was felt in the capital of San Salvador.']\n",
      "\n"
     ]
    },
    {
     "name": "stderr",
     "output_type": "stream",
     "text": [
      "\r",
      "  6%|▌         | 57/1022 [57:05<13:47:58, 51.48s/it]"
     ]
    },
    {
     "name": "stdout",
     "output_type": "stream",
     "text": [
      "input_ids shape: torch.Size([1, 59])\n",
      "Reference Summary:\n",
      "United States Secretary of State Mike Pompeo meets Russian President Vladimir Putin and warns Russia to not interfere in the 2020 United States presidential election.\n",
      "Predictions: \n",
      "[\"The U.S. Secretary of State Mike Pompeo is in the midst of a meeting with the leaders of Russia and the United States. He is expected to discuss the state of the U.N. Security Council's nuclear deal with Iran. The meeting is expected in the\"]\n",
      "\n"
     ]
    },
    {
     "name": "stderr",
     "output_type": "stream",
     "text": [
      "\r",
      "  6%|▌         | 58/1022 [57:51<13:21:42, 49.90s/it]"
     ]
    },
    {
     "name": "stdout",
     "output_type": "stream",
     "text": [
      "input_ids shape: torch.Size([1, 59])\n",
      "Reference Summary:\n",
      "Former New York congressman Anthony Weiner is released from a halfway house in the Bronx, completing his 21-month federal prison sentence for illicit online contact with a 15-year-old girl.\n",
      "Predictions: \n",
      "['Former Rep. Anthony Weiner was sentenced to prison for his role in a sex scandal. He was sentenced for having an affair with a 15-year-old girl. Weiner was released from prison on Tuesday. He is now a free man. He has been released from a halfway']\n",
      "\n"
     ]
    },
    {
     "name": "stderr",
     "output_type": "stream",
     "text": [
      "\r",
      "  6%|▌         | 59/1022 [58:57<14:36:10, 54.59s/it]"
     ]
    },
    {
     "name": "stdout",
     "output_type": "stream",
     "text": [
      "input_ids shape: torch.Size([1, 57])\n",
      "Reference Summary:\n",
      "Florida Governor Ron DeSantis announces that Russian hackers accessed voter databases in two Florida counties prior to the 2016 presidential election. No data or vote tallies were affected.\n",
      "Predictions: \n",
      "['Judge requires ballots in Spanish in more Florida counties. U.S. District Judge: 32 more counties must provide election materials and ballots inSpanish. The order was issued Friday. The judge says the order is to ensure that voters can cast ballots in their native language.']\n",
      "\n"
     ]
    },
    {
     "name": "stderr",
     "output_type": "stream",
     "text": [
      "\r",
      "  6%|▌         | 60/1022 [59:12<11:27:33, 42.88s/it]"
     ]
    },
    {
     "name": "stdout",
     "output_type": "stream",
     "text": [
      "input_ids shape: torch.Size([1, 56])\n",
      "Reference Summary:\n",
      "Venezuelan security forces surround the Palacio Federal Legislativo in Caracas, preventing opposition National Assembly lawmakers from entering the building to discuss a response to the recent arrest of National Assembly Vice President Edgar Zambrano.\n",
      "Predictions: \n",
      "[\"Venezuela's government has accused the opposition of trying to overthrow the government. The opposition says the government is trying to oust President Nicolas Maduro. The government says the opposition is trying for a coup. The Venezuelan government says it is trying not to overthrow Maduro.\"]\n",
      "\n"
     ]
    },
    {
     "name": "stderr",
     "output_type": "stream",
     "text": [
      "\r",
      "  6%|▌         | 61/1022 [59:33<9:41:50, 36.33s/it] "
     ]
    },
    {
     "name": "stdout",
     "output_type": "stream",
     "text": [
      "input_ids shape: torch.Size([1, 58])\n",
      "Reference Summary:\n",
      "Security researchers from Graz University of Technology and Catholic University of Leuven discover a major new class of Microarchitectural Data Sampling vulnerabilities called ZombieLoad in Intel processors, which, if exploited, can be used to steal sensitive information directly from the processor. Almost every computer with an Intel chip dating back to 2011 is affected by these vulnerabilities.\n",
      "Predictions: \n",
      "[\"Intel's new 'Firmware' is a new way to make the Intel chip. The new technology is a form of low-level, low-cost, low power, low voltage, low energy storage. The company has been working on the technology for years.\"]\n",
      "\n"
     ]
    },
    {
     "name": "stderr",
     "output_type": "stream",
     "text": [
      "\r",
      "  6%|▌         | 62/1022 [1:00:36<11:45:55, 44.12s/it]"
     ]
    },
    {
     "name": "stdout",
     "output_type": "stream",
     "text": [
      "input_ids shape: torch.Size([1, 56])\n",
      "Reference Summary:\n",
      "Linux kernel developers, Apple, Google and Microsoft release emergency patches for their products to mitigate ZombieLoad.\n",
      "Predictions: \n",
      "['The company is also working on a new version of its app called \"The Next Web\" The company is working on an app that will let users access the web through their mobile devices. The company also plans to launch a new app called the \"Next Web\"']\n",
      "\n"
     ]
    },
    {
     "name": "stderr",
     "output_type": "stream",
     "text": [
      "\r",
      "  6%|▌         | 63/1022 [1:01:36<13:03:42, 49.03s/it]"
     ]
    },
    {
     "name": "stdout",
     "output_type": "stream",
     "text": [
      "input_ids shape: torch.Size([1, 59])\n",
      "Reference Summary:\n",
      "WhatsApp confirms a major security bug in the app let hackers remotely install surveillance software on its users' devices. All 1.5 billion users are urged to update WhatsApp as a precaution. The technology used in the cyberattack appears to have originated from NSO Group, a technology company operating out of Israel.\n",
      "Predictions: \n",
      "[\" WhatsApp has been hacked by a group of hackers. The group has been using the app to send messages to users' phones. The company has been working to fix the problem. The hack was discovered by a security researcher. The firm has not revealed the identity of the hackers.\"]\n",
      "\n"
     ]
    },
    {
     "name": "stderr",
     "output_type": "stream",
     "text": [
      "\r",
      "  6%|▋         | 64/1022 [1:02:36<13:56:24, 52.39s/it]"
     ]
    },
    {
     "name": "stdout",
     "output_type": "stream",
     "text": [
      "input_ids shape: torch.Size([1, 57])\n",
      "Reference Summary:\n",
      "Militants kill at least 17 Niger Armed Forces troops in an ambush near the Malian border. Another 11 soldiers are missing; six others have been evacuated to a hospital. No group has claimed responsibility.\n",
      "Predictions: \n",
      "['The attack took place in Niger, near the border with Mali. The attack took places in the Niger-Mali region. The Niger military says 17 soldiers were killed and 11 are missing. The soldiers were ambushed by jihadists. The ambush took place on Tuesday.']\n",
      "\n"
     ]
    },
    {
     "name": "stderr",
     "output_type": "stream",
     "text": [
      "\r",
      "  6%|▋         | 65/1022 [1:03:40<14:47:12, 55.62s/it]"
     ]
    },
    {
     "name": "stdout",
     "output_type": "stream",
     "text": [
      "input_ids shape: torch.Size([1, 59])\n",
      "Reference Summary:\n",
      "The Jeremy Kyle Show, one of the United Kingdom's most watched reality television programmes, is cancelled by ITV Studios following the suicide of a male guest shortly after taking part in the programme. The show has long been criticised for its style, with many describing it as poverty porn.\n",
      "Predictions: \n",
      "[\"The Jeremy Kyle Show has been cancelled after a guest died. The show was cancelled after the death of a guest on the show. The Jeremy Kyle show has been axed from ITV's schedule. The programme was cancelled on Monday after the guest died of a suspected heart attack.\"]\n",
      "\n"
     ]
    },
    {
     "name": "stderr",
     "output_type": "stream",
     "text": [
      "\r",
      "  6%|▋         | 66/1022 [1:04:43<15:21:30, 57.84s/it]"
     ]
    },
    {
     "name": "stdout",
     "output_type": "stream",
     "text": [
      "input_ids shape: torch.Size([1, 59])\n",
      "Reference Summary:\n",
      "A helicopter with only the pilot onboard crashes into the Hudson River shortly after taking off from the West 30th Street Heliport in New York City injuring the pilot and the dockworker on the ground.\n",
      "Predictions: \n",
      "[\"The pilot was the only person on board. The helicopter was flying over the city's East River. The pilot was not injured. The crash happened in the early hours of Wednesday morning. The incident occurred near the city’s East River, near the New York-New\"]\n",
      "\n"
     ]
    },
    {
     "name": "stderr",
     "output_type": "stream",
     "text": [
      "\r",
      "  7%|▋         | 67/1022 [1:05:49<16:02:53, 60.50s/it]"
     ]
    },
    {
     "name": "stdout",
     "output_type": "stream",
     "text": [
      "input_ids shape: torch.Size([1, 58])\n",
      "Reference Summary:\n",
      "United Nations Secretary General António Guterres says Pacific island nations are \"running out of time\" in regards to climate change and global warming effects.\n",
      "Predictions: \n",
      "['The U.S. government is trying to get the U.N. to agree on a global warming deal. The U.K. is trying a similar deal with the European Union. The EU is trying an agreement to reduce emissions from the use of fossil fuels.']\n",
      "\n"
     ]
    },
    {
     "name": "stderr",
     "output_type": "stream",
     "text": [
      "\r",
      "  7%|▋         | 68/1022 [1:06:49<15:57:06, 60.20s/it]"
     ]
    },
    {
     "name": "stdout",
     "output_type": "stream",
     "text": [
      "input_ids shape: torch.Size([1, 59])\n",
      "Reference Summary:\n",
      "The United States Department of State orders all non-emergency, non-essential government employees at the U.S. Embassy in Baghdad and Erbil consulate office to leave Iraq amid heightened tensions in the Persian Gulf between the United States and Iran.\n",
      "Predictions: \n",
      "['The U.S. is considering a possible military strike on Iran. The U.N. Security Council has called for a U.K.-led coalition to strike Iran. Iran has denied the charge, saying the U.A.E. is trying to use its influence']\n",
      "\n"
     ]
    },
    {
     "name": "stderr",
     "output_type": "stream",
     "text": [
      "\r",
      "  7%|▋         | 69/1022 [1:07:48<15:49:07, 59.76s/it]"
     ]
    },
    {
     "name": "stdout",
     "output_type": "stream",
     "text": [
      "input_ids shape: torch.Size([1, 59])\n",
      "Reference Summary:\n",
      "Germany and the Netherlands suspend military training mission in Iraq citing escalating tensions in the region with Iran.\n",
      "Predictions: \n",
      "[\"The U.S. and Iran are at odds over the Middle East. The U.N. Security Council has passed a resolution to increase sanctions against Iran. The move is seen as a response to the Iranian government's nuclear program. The United States has also been accused of\"]\n",
      "\n"
     ]
    },
    {
     "name": "stderr",
     "output_type": "stream",
     "text": [
      "\r",
      "  7%|▋         | 70/1022 [1:08:47<15:48:31, 59.78s/it]"
     ]
    },
    {
     "name": "stdout",
     "output_type": "stream",
     "text": [
      "input_ids shape: torch.Size([1, 59])\n",
      "Reference Summary:\n",
      "Representatives from 17 world governments and various U.S. technology companies meet in Paris to support a set of anti-terrorism guidelines called the \"Christchurch Call to Action\" drafted by the governments of France and New Zealand. The White House expressed support for the \"overall goals reflected\" in this pledge, but refused to back it, citing freedom of speech concerns.\n",
      "Predictions: \n",
      "['The U.S. is not joining the global effort to combat online extremism. The U.N. has called for a global effort against online extremism to be launched. The United States has been a leader in the fight against online terrorism. The White House has said it will']\n",
      "\n"
     ]
    },
    {
     "name": "stderr",
     "output_type": "stream",
     "text": [
      "\r",
      "  7%|▋         | 71/1022 [1:09:49<15:56:12, 60.33s/it]"
     ]
    },
    {
     "name": "stdout",
     "output_type": "stream",
     "text": [
      "input_ids shape: torch.Size([1, 59])\n",
      "Reference Summary:\n",
      "San Francisco becomes the first U.S. city to ban the use of facial recognition systems by law enforcement.\n",
      "Predictions: \n",
      "['San Francisco is the first city in the U.S. to ban the use of facial recognition technology. The city is also the first in the country to ban it for use by police. The move is a first for the city, which has been criticized for its lack of']\n",
      "\n"
     ]
    },
    {
     "name": "stderr",
     "output_type": "stream",
     "text": [
      "\r",
      "  7%|▋         | 72/1022 [1:10:50<15:58:10, 60.52s/it]"
     ]
    },
    {
     "name": "stdout",
     "output_type": "stream",
     "text": [
      "input_ids shape: torch.Size([1, 59])\n",
      "Reference Summary:\n",
      "The Governor of Alabama Kay Ivey signs the Human Life Protection Act into law, effective six months after signing, bans all abortions in the state of Alabama, except when \"abortion is necessary in order to prevent a serious health risk\" to the woman according to the bill's text. The law reclassifies abortion as a Class A felony and attempted abortion as a Class C felony.\n",
      "Predictions: \n",
      "[\"The bill would ban abortions in Alabama, which has a high abortion rate. The bill would also ban abortions after 20 weeks of pregnancy. The state's governor has said he will sign the bill into law. The measure is the latest in a series of anti-abortion measures in\"]\n",
      "\n"
     ]
    },
    {
     "name": "stderr",
     "output_type": "stream",
     "text": [
      "\r",
      "  7%|▋         | 73/1022 [1:10:56<11:40:18, 44.28s/it]"
     ]
    },
    {
     "name": "stdout",
     "output_type": "stream",
     "text": [
      "input_ids shape: torch.Size([1, 59])\n",
      "Reference Summary:\n",
      "Xavier Espot Zamora is elected the new Prime Minister by the General Council, succeeding Antoni Martí.\n",
      "Predictions: \n",
      "[\"Caz Sismore-Hunt has been elected as mayor of the town of\\xa0Budapest. Sismor-Hunt is the first mayor of Budleigh Salterton in the town's history. Sistore-Havard is the mayor of\\xa0S\"]\n",
      "\n"
     ]
    },
    {
     "name": "stderr",
     "output_type": "stream",
     "text": [
      "\r",
      "  7%|▋         | 74/1022 [1:11:55<12:49:49, 48.72s/it]"
     ]
    },
    {
     "name": "stdout",
     "output_type": "stream",
     "text": [
      "input_ids shape: torch.Size([1, 59])\n",
      "Reference Summary:\n",
      "Hundreds of thousands of students, schoolteachers, and university professors hold demonstrations across Brazil's biggest cities in opposition to large cuts in the education budget. From Dallas, Brazilian President Jair Bolsonaro calls demonstrators \"stupid.\" (Al Jazeera)\n",
      "Predictions: \n",
      "['Tens of thousands of students protest against cuts to education funding in Brazil. The protests are the first nationwide rallies against President Jair Bolsonaro. The far-right president has been criticized for cutting education funding. The demonstrations are the largest in Brazil since Bolsonario took']\n",
      "\n"
     ]
    },
    {
     "name": "stderr",
     "output_type": "stream",
     "text": [
      "\r",
      "  7%|▋         | 75/1022 [1:12:55<13:39:32, 51.92s/it]"
     ]
    },
    {
     "name": "stdout",
     "output_type": "stream",
     "text": [
      "input_ids shape: torch.Size([1, 59])\n",
      "Reference Summary:\n",
      "Forty-seven insurgents and five Egyptian soldiers are killed in a gunfight in the Sinai Peninsula.\n",
      "Predictions: \n",
      "['Five soldiers and dozens of militants killed in clashes in the country\\'s restive northern Sinai Peninsula. Military spokesman: \"The death toll is expected to rise\" in the coming days. The military says the deaths are the result of a joint operation by the army and the army\\'s']\n",
      "\n"
     ]
    },
    {
     "name": "stderr",
     "output_type": "stream",
     "text": [
      "\r",
      "  7%|▋         | 76/1022 [1:13:54<14:13:09, 54.11s/it]"
     ]
    },
    {
     "name": "stdout",
     "output_type": "stream",
     "text": [
      "input_ids shape: torch.Size([1, 58])\n",
      "Reference Summary:\n",
      "Multiple people are killed, including three militants, two Mujahideen, two civilians and two Indian soldiers, in Kashmir after a shootout.\n",
      "Predictions: \n",
      "['The clashes are the latest in a series of clashes in the Indian-controlled Kashmir. The violence is the latest of a series in the region since the start of the year. The Indian government has been trying to impose an Indian-backed Kashmiri government in the state.']\n",
      "\n"
     ]
    },
    {
     "name": "stderr",
     "output_type": "stream",
     "text": [
      "\r",
      "  8%|▊         | 77/1022 [1:14:54<14:39:02, 55.81s/it]"
     ]
    },
    {
     "name": "stdout",
     "output_type": "stream",
     "text": [
      "input_ids shape: torch.Size([1, 59])\n",
      "Reference Summary:\n",
      "Three Britons and a South African die when their light aircraft crashes on approach to Dubai International Airport, closing the world's busiest airport for 45 minutes.\n",
      "Predictions: \n",
      "[\"Small plane crashes near Dubai's busy airport, killing at least two people. Plane was carrying four people, including two crew members. Plane crashed near Dubai International Airport, killing all four aboard. Plane had been flying from Dubai to the city's international airport. The crash occurred at\"]\n",
      "\n"
     ]
    },
    {
     "name": "stderr",
     "output_type": "stream",
     "text": [
      "\r",
      "  8%|▊         | 78/1022 [1:15:51<14:44:35, 56.22s/it]"
     ]
    },
    {
     "name": "stdout",
     "output_type": "stream",
     "text": [
      "input_ids shape: torch.Size([1, 59])\n",
      "Reference Summary:\n",
      "Field Marshal Khalifa Haftar of the Tobruk-based House of Representatives meets with Italian Prime Minister Giuseppe Conte and has scheduled a meeting with French President Emmanuel Macron for next week.\n",
      "Predictions: \n",
      "[\"French President Emmanuel Macron to meet with Libyan leader Haftar in Paris. French president to meet Libyan leader to discuss peace talks with him. French President to meet Haftars in Paris to discuss the situation in Libya. French leader to meet Libya's leader to push for peace\"]\n",
      "\n"
     ]
    },
    {
     "name": "stderr",
     "output_type": "stream",
     "text": [
      "\r",
      "  8%|▊         | 79/1022 [1:16:48<14:48:33, 56.54s/it]"
     ]
    },
    {
     "name": "stdout",
     "output_type": "stream",
     "text": [
      "input_ids shape: torch.Size([1, 56])\n",
      "Reference Summary:\n",
      "Mayor of New York City Bill de Blasio announces he is running for the Democratic Party's nomination to be President of the United States in the 2020 presidential election.\n",
      "Predictions: \n",
      "['New York City Mayor Bill de Blasio is running for president. He is the first major Democrat to announce a presidential bid. He will be the first mayor to do so since Barack Obama in 2008. He has been a major figure in the Democratic Party for years.']\n",
      "\n"
     ]
    },
    {
     "name": "stderr",
     "output_type": "stream",
     "text": [
      "\r",
      "  8%|▊         | 80/1022 [1:17:46<14:51:45, 56.80s/it]"
     ]
    },
    {
     "name": "stdout",
     "output_type": "stream",
     "text": [
      "input_ids shape: torch.Size([1, 59])\n",
      "Reference Summary:\n",
      "U.S. President Donald Trump proposes a new immigration plan based on merits such as college degrees and skilled trades and less on family ties.\n",
      "Predictions: \n",
      "[\"President Trump's immigration plan is a new push to overhaul the U.S. immigration system. The plan would focus on the nation's legal immigration system, not its illegal immigration system and would focus more on the young. The president's plan would also focus on a more comprehensive\"]\n",
      "\n"
     ]
    },
    {
     "name": "stderr",
     "output_type": "stream",
     "text": [
      "\r",
      "  8%|▊         | 81/1022 [1:18:43<14:53:40, 56.98s/it]"
     ]
    },
    {
     "name": "stdout",
     "output_type": "stream",
     "text": [
      "input_ids shape: torch.Size([1, 59])\n",
      "Reference Summary:\n",
      "U.S. federal agents raid the Venezuelan embassy to evict Code Pink protesters, at the request of National Assembly leader Juan Guaido. They had been staying at the embassy at the invitation of Venezuelan President Nicolas Maduro, who is locked in a dispute over the presidency with Guaido. Maduro's government considers the raid to be a violation of the Vienna convention.\n",
      "Predictions: \n",
      "[\"The Venezuelan Embassy in Washington has been the target of a protest for weeks. The protesters are protesting against the government's handling of the country's affairs. The demonstrators are also protesting against a government crackdown on the opposition. The protests have been going on for weeks, but the embassy\"]\n",
      "\n"
     ]
    },
    {
     "name": "stderr",
     "output_type": "stream",
     "text": [
      "\r",
      "  8%|▊         | 82/1022 [1:19:41<14:54:51, 57.12s/it]"
     ]
    },
    {
     "name": "stdout",
     "output_type": "stream",
     "text": [
      "input_ids shape: torch.Size([1, 59])\n",
      "Reference Summary:\n",
      "UK Prime Minister Theresa May says that she will detail the timetable for her resignation after the Brexit vote in June.\n",
      "Predictions: \n",
      "[\"Theresa May's government is in the midst of a major crisis over the UK's exit from the EU. The PM has been forced to call a series of emergency meetings with the European Union. She has been accused of trying to use the EU's Article 50 to force a\"]\n",
      "\n"
     ]
    },
    {
     "name": "stderr",
     "output_type": "stream",
     "text": [
      "\r",
      "  8%|▊         | 83/1022 [1:20:38<14:55:06, 57.20s/it]"
     ]
    },
    {
     "name": "stdout",
     "output_type": "stream",
     "text": [
      "input_ids shape: torch.Size([1, 59])\n",
      "Reference Summary:\n",
      "The United States lifts tariffs on steel and aluminum from Canada and Mexico.\n",
      "Predictions: \n",
      "[\"The U.S. and Canada have agreed to lift tariffs on steel and aluminum. The move is a major step toward a deal to end the trade dispute. The U.N. says the move is in the best interests of the world's economies. The United States has\"]\n",
      "\n"
     ]
    },
    {
     "name": "stderr",
     "output_type": "stream",
     "text": [
      "\r",
      "  8%|▊         | 84/1022 [1:21:35<14:55:22, 57.27s/it]"
     ]
    },
    {
     "name": "stdout",
     "output_type": "stream",
     "text": [
      "input_ids shape: torch.Size([1, 59])\n",
      "Reference Summary:\n",
      "A former CIA officer, Kevin Patrick Mallory, is sentenced to 20 years in prison by a federal judge in Virginia for spying for China.\n",
      "Predictions: \n",
      "[\"Former CIA officer convicted of spying for China sentenced to 20 years in prison. Kevin Mallory was convicted of espionage for China. He was convicted in a case that involved the use of classified information. Mallory is a former CIA officer who worked in the CIA's clandestine operations unit\"]\n",
      "\n"
     ]
    },
    {
     "name": "stderr",
     "output_type": "stream",
     "text": [
      "\r",
      "  8%|▊         | 85/1022 [1:22:33<14:58:16, 57.52s/it]"
     ]
    },
    {
     "name": "stdout",
     "output_type": "stream",
     "text": [
      "input_ids shape: torch.Size([1, 59])\n",
      "Reference Summary:\n",
      "Taiwan's Legislative Yuan passes legislation legalizing same-sex marriage and limited joint-custody rights, making Taiwan the first country in Asia to do so. President Tsai Ing-wen and her cabinet helped draft the bill, and she will sign it into law on or before May 24.\n",
      "Predictions: \n",
      "[\"Taiwan's parliament has approved a bill to legalize same-sex marriage. The move is a first in Asia and a major step toward gay rights. The bill was passed by a majority of votes in the parliament. The vote was delayed by a single vote. The opposition party says the\"]\n",
      "\n"
     ]
    },
    {
     "name": "stderr",
     "output_type": "stream",
     "text": [
      "\r",
      "  8%|▊         | 86/1022 [1:23:31<14:56:50, 57.49s/it]"
     ]
    },
    {
     "name": "stdout",
     "output_type": "stream",
     "text": [
      "input_ids shape: torch.Size([1, 56])\n",
      "Reference Summary:\n",
      "The U.S. House of Representatives passes the Equality Act, which prohibits discrimination based on sexual orientation and gender identity.\n",
      "Predictions: \n",
      "['The bill would extend civil rights protections to LGBT people. It would extend protections to employment, housing, education, housing and other areas. The bill would also extend protections for LGBT people in the military. The House is expected to vote on the bill this week.']\n",
      "\n"
     ]
    },
    {
     "name": "stderr",
     "output_type": "stream",
     "text": [
      "\r",
      "  9%|▊         | 87/1022 [1:24:29<14:57:54, 57.62s/it]"
     ]
    },
    {
     "name": "stdout",
     "output_type": "stream",
     "text": [
      "input_ids shape: torch.Size([1, 59])\n",
      "Reference Summary:\n",
      "Duncan Laurence, representing the Netherlands, wins the 2019 edition of the Eurovision Song Contest with the song \"Arcade\". It is the country's first win since 1975.\n",
      "Predictions: \n",
      "['The Eurovision Song Contest is held every year in the UK. The final takes place in the city of Tel Aviv, Israel. The winner is chosen by a jury of 12 judges. The song is performed by the group of five countries. The contest is held annually in the']\n",
      "\n"
     ]
    },
    {
     "name": "stderr",
     "output_type": "stream",
     "text": [
      "\r",
      "  9%|▊         | 88/1022 [1:25:27<14:57:21, 57.65s/it]"
     ]
    },
    {
     "name": "stdout",
     "output_type": "stream",
     "text": [
      "input_ids shape: torch.Size([1, 59])\n",
      "Reference Summary:\n",
      "Five foreign tourists, four of whom were Americans, are killed when their Piper PA-32 crashes into the Atlantic Ocean near Honduras shortly after taking off from Roatán island.\n",
      "Predictions: \n",
      "['The plane crashed into the sea off the coast of Roatan island in Honduras. The crash killed all five people aboard. The plane was carrying five people, including a Canadian. The pilot was killed. The cause of the crash is under investigation. The passengers were from the U']\n",
      "\n"
     ]
    },
    {
     "name": "stderr",
     "output_type": "stream",
     "text": [
      "\r",
      "  9%|▊         | 89/1022 [1:25:33<10:55:28, 42.15s/it]"
     ]
    },
    {
     "name": "stdout",
     "output_type": "stream",
     "text": [
      "input_ids shape: torch.Size([1, 58])\n",
      "Reference Summary:\n",
      "The Cook Islands secretary of health, Josephine Herman, says that the country is holding and containing the latest outbreak of Dengue, which has killed 22 people and infected another 28.\n",
      "Predictions: \n",
      "['Cook Islands is holding a dengue outbreak. The island nation is trying to contain the virus. The Cook Islands has a population of around 1,000. The number of people infected with the virus is up to 50. The virus is transmitted through the bite of a mosquito.']\n",
      "\n"
     ]
    },
    {
     "name": "stderr",
     "output_type": "stream",
     "text": [
      "\r",
      "  9%|▉         | 90/1022 [1:26:30<12:05:01, 46.68s/it]"
     ]
    },
    {
     "name": "stdout",
     "output_type": "stream",
     "text": [
      "input_ids shape: torch.Size([1, 59])\n",
      "Reference Summary:\n",
      "One person was killed and eight injured in a shooting after a dispute between two women at a large high school graduation party. The suspect is still at large.\n",
      "Predictions: \n",
      "['One person was killed and eight others were injured in the shooting. The shooting happened at a high school graduation party in the town of Atmore, Alabama. The victim was a student at the school. The school is in the community of Atmoor, which is near the']\n",
      "\n"
     ]
    },
    {
     "name": "stderr",
     "output_type": "stream",
     "text": [
      "\r",
      "  9%|▉         | 91/1022 [1:27:27<12:53:58, 49.88s/it]"
     ]
    },
    {
     "name": "stdout",
     "output_type": "stream",
     "text": [
      "input_ids shape: torch.Size([1, 59])\n",
      "Reference Summary:\n",
      "Former Argentine President Cristina Fernández de Kirchner announces that she will run for Vice President in the 2019 Argentine general election, with former Chief of Staff Alberto Fernández as her running mate for President.\n",
      "Predictions: \n",
      "['Cristina Fernández announces her candidacy for vice president. Fernánderez is a former president of Argentina. She is running against current President Mauricio Macri. The election is scheduled for October. The winner will be announced on November 14. The race is expected to']\n",
      "\n"
     ]
    },
    {
     "name": "stderr",
     "output_type": "stream",
     "text": [
      "\r",
      "  9%|▉         | 92/1022 [1:28:04<11:53:42, 46.05s/it]"
     ]
    },
    {
     "name": "stdout",
     "output_type": "stream",
     "text": [
      "input_ids shape: torch.Size([1, 58])\n",
      "Reference Summary:\n",
      "Voters in Australia go to the polls to elect new members of the House of Representatives and half of the Senate.\n",
      "Predictions: \n",
      "['The new members of the House of Representatives will be sworn in on Monday. The new members will be elected on the platform of the All Progressives Party. The party will be led by the incumbent, the current Speaker of the Senate, Senator John B. Kew.']\n",
      "\n"
     ]
    },
    {
     "name": "stderr",
     "output_type": "stream",
     "text": [
      "\r",
      "  9%|▉         | 93/1022 [1:29:02<12:45:13, 49.42s/it]"
     ]
    },
    {
     "name": "stdout",
     "output_type": "stream",
     "text": [
      "input_ids shape: torch.Size([1, 59])\n",
      "Reference Summary:\n",
      "Prime Minister Scott Morrison declares victory. It remains unclear whether his Liberal-National Coalition has won a majority of seats, or whether it will form a minority government.\n",
      "Predictions: \n",
      "[\"Australian Prime Minister Scott Morrison has been in office since 2010. He is the leader of the conservative coalition government. The PM's party is expected to win a majority of seats in the next election. The result will be announced on Monday. The election will be held on September 26\"]\n",
      "\n"
     ]
    },
    {
     "name": "stderr",
     "output_type": "stream",
     "text": [
      "\r",
      "  9%|▉         | 94/1022 [1:29:59<13:21:44, 51.84s/it]"
     ]
    },
    {
     "name": "stdout",
     "output_type": "stream",
     "text": [
      "input_ids shape: torch.Size([1, 59])\n",
      "Reference Summary:\n",
      "Despite opinion polls predicting a Labor victory, the Labor Party loses several seats, with support in the key state of Queensland far lower than expected. Opposition Leader Bill Shorten concedes defeat and steps down as party leader.\n",
      "Predictions: \n",
      "['The Australian Labor Party has been in power for the past three years. The party has been at the centre of a political crisis since the 2010 election. The Labor Party is expected to win the next election. It is expected that the party will win a majority of seats in the']\n",
      "\n"
     ]
    },
    {
     "name": "stderr",
     "output_type": "stream",
     "text": [
      "\r",
      "  9%|▉         | 95/1022 [1:30:56<13:46:15, 53.48s/it]"
     ]
    },
    {
     "name": "stdout",
     "output_type": "stream",
     "text": [
      "input_ids shape: torch.Size([1, 59])\n",
      "Reference Summary:\n",
      "Former Prime Minister Tony Abbott loses his seat to independent candidate and former Olympian Zali Steggall.\n",
      "Predictions: \n",
      "[\"The former PM's former deputy has been a key figure in the Liberal Party for more than a decade. He was the first to be elected to the Senate in 1996. He has been in the Senate since 2004. He is the first member of the Liberal party to be a\"]\n",
      "\n"
     ]
    },
    {
     "name": "stderr",
     "output_type": "stream",
     "text": [
      "\r",
      "  9%|▉         | 96/1022 [1:31:54<14:03:53, 54.68s/it]"
     ]
    },
    {
     "name": "stdout",
     "output_type": "stream",
     "text": [
      "input_ids shape: torch.Size([1, 59])\n",
      "Reference Summary:\n",
      "Justin Amash from Michigan's 3rd congressional district becomes the first Republican U.S. Representative to support the impeachment of President Donald Trump.\n",
      "Predictions: \n",
      "['Rep. Justin Amash is the first Republican to call for impeachment of President Trump. Amash says he\\'s concerned about the president\\'s \"impeachable conduct\" in the Russia investigation. The Republican congressman is a member of the House GOP. Amashes is a freshman congressman']\n",
      "\n"
     ]
    },
    {
     "name": "stderr",
     "output_type": "stream",
     "text": [
      "\r",
      "  9%|▉         | 97/1022 [1:32:51<14:16:23, 55.55s/it]"
     ]
    },
    {
     "name": "stdout",
     "output_type": "stream",
     "text": [
      "input_ids shape: torch.Size([1, 59])\n",
      "Reference Summary:\n",
      "Vice-Chancellor of Austria, Heinz-Christian Strache, steps down both as Vice-Chancellor and chairman of the Freedom Party of Austria due to an alleged corruption scandal.\n",
      "Predictions: \n",
      "['Austrian vice chancellor resigns after video emerges of him allegedly making a deal with a Russian. He was accused of making a $1.5 million deal with the Russian government. The video was filmed in a hotel room in Vienna. The Austrian government has been accused of corruption']\n",
      "\n"
     ]
    },
    {
     "name": "stderr",
     "output_type": "stream",
     "text": [
      "\r",
      " 10%|▉         | 98/1022 [1:33:49<14:22:55, 56.03s/it]"
     ]
    },
    {
     "name": "stdout",
     "output_type": "stream",
     "text": [
      "input_ids shape: torch.Size([1, 56])\n",
      "Reference Summary:\n",
      "Sebastian Kurz, Chancellor of Austria, announces the dissolution of his government and calls for a snap election.\n",
      "Predictions: \n",
      "[\"Austrian Chancellor Sebastian Kurz calls for a snap election. Kurz's government is in crisis after a scandal involving a former minister. The scandal involved a former official who was accused of taking part in a sex scandal. KurZ's government has been accused of corruption.\"]\n",
      "\n"
     ]
    },
    {
     "name": "stderr",
     "output_type": "stream",
     "text": [
      "\r",
      " 10%|▉         | 99/1022 [1:34:46<14:28:51, 56.48s/it]"
     ]
    },
    {
     "name": "stdout",
     "output_type": "stream",
     "text": [
      "input_ids shape: torch.Size([1, 58])\n",
      "Reference Summary:\n",
      "An explosion hits a tourist bus carrying South African nationals near the Grand Egyptian Museum in Giza, Egypt, injuring at least 14 people.\n",
      "Predictions: \n",
      "['A bomb blast on a tourist bus in Egypt injures at least 12 people, including tourists. The blast happened near the Giza pyramids. The explosion was near a tourist attraction. The victims were all tourists. A bomb blast also hit a bus carrying Egyptian soldiers.']\n",
      "\n"
     ]
    },
    {
     "name": "stderr",
     "output_type": "stream",
     "text": [
      "\r",
      " 10%|▉         | 100/1022 [1:35:43<14:31:22, 56.71s/it]"
     ]
    },
    {
     "name": "stdout",
     "output_type": "stream",
     "text": [
      "input_ids shape: torch.Size([1, 57])\n",
      "Reference Summary:\n",
      "A rocket explodes inside the heavily fortified Green Zone sector of Iraq's capital, landing less than a mile from the U.S. Embassy in Baghdad amid heightened tensions in the region between the United States and Iran.\n",
      "Predictions: \n",
      "['The U.S. has been in a tense standoff with Iran over its nuclear program. The U.N. Security Council has passed a resolution to try to resolve the situation. The United States has also been accused of trying to use the situation to its advantage.']\n",
      "\n"
     ]
    },
    {
     "name": "stderr",
     "output_type": "stream",
     "text": [
      "\r",
      " 10%|▉         | 101/1022 [1:36:41<14:33:51, 56.93s/it]"
     ]
    },
    {
     "name": "stdout",
     "output_type": "stream",
     "text": [
      "input_ids shape: torch.Size([1, 59])\n",
      "Reference Summary:\n",
      "Google pulls Android update support for Huawei phones, as well as the Google Play Store and Gmail apps, after the Chinese technology company was blacklisted by the United States Commerce Department.\n",
      "Predictions: \n",
      "[\"The move comes after the U.S. government announced a ban on Huawei's use of the technology. The move is part of a wider effort to crack down on Chinese tech giant's dominance in the smartphone market. The company is also being criticized for its use of Huawei's\"]\n",
      "\n"
     ]
    },
    {
     "name": "stderr",
     "output_type": "stream",
     "text": [
      "\r",
      " 10%|▉         | 102/1022 [1:37:38<14:34:33, 57.04s/it]"
     ]
    },
    {
     "name": "stdout",
     "output_type": "stream",
     "text": [
      "input_ids shape: torch.Size([1, 57])\n",
      "Reference Summary:\n",
      "Martin Tower, the tallest building in Bethlehem, Pennsylvania, is destroyed in a controlled demolition by the Controlled Demolition, Inc. firm. The 21-story building, which was listed on National Register of Historic Places, had been vacant since 2007.\n",
      "Predictions: \n",
      "[\"The former Bethlehem Steel headquarters is to be imploded. The building was the world's tallest building. The tower was built in the 1950s. It was the headquarters of Bethlehem Steel. The company was founded in 1872. The site is now a parking lot.\"]\n",
      "\n"
     ]
    },
    {
     "name": "stderr",
     "output_type": "stream",
     "text": [
      "\r",
      " 10%|█         | 103/1022 [1:38:36<14:35:47, 57.18s/it]"
     ]
    },
    {
     "name": "stdout",
     "output_type": "stream",
     "text": [
      "input_ids shape: torch.Size([1, 59])\n",
      "Reference Summary:\n",
      "The White House is expected to announce the first part of their Middle East peace proposal in what officials are calling an economic \"workshop\" to encourage investing capital in the West Bank, Gaza, and the region. The workshop is expected to happen on June 25 and 26 in Manama, Bahrain.\n",
      "Predictions: \n",
      "['The U.S. will hold a conference in Bahrain next month to discuss the economic benefits of a Mideast peace plan. The U.N. Security Council is expected to vote on the plan on Monday. The United States is expected in the Middle East next week to']\n",
      "\n"
     ]
    },
    {
     "name": "stderr",
     "output_type": "stream",
     "text": [
      "\r",
      " 10%|█         | 104/1022 [1:39:33<14:36:08, 57.26s/it]"
     ]
    },
    {
     "name": "stdout",
     "output_type": "stream",
     "text": [
      "input_ids shape: torch.Size([1, 59])\n",
      "Reference Summary:\n",
      "Saudi Arabian Minister of Foreign Affairs Adel al-Jubeir says his country \"seeks to avert war, ready to respond with force and determination\" to a would-be attack by Iran.\n",
      "Predictions: \n",
      "['Saudi Arabia says it wants to avoid war but is ready to respond to Iran\\'s attacks. Saudi Arabia says the country is ready for any response to Iran. Saudi official says the kingdom is ready \"to respond with all strength and determination\" to Iran attacks. The kingdom has been']\n",
      "\n"
     ]
    },
    {
     "name": "stderr",
     "output_type": "stream",
     "text": [
      "\r",
      " 10%|█         | 105/1022 [1:40:30<14:35:38, 57.29s/it]"
     ]
    },
    {
     "name": "stdout",
     "output_type": "stream",
     "text": [
      "input_ids shape: torch.Size([1, 59])\n",
      "Reference Summary:\n",
      "Several gunmen open fire inside a bar in Belém, Brazil, killing at least eleven people.\n",
      "Predictions: \n",
      "['Brazilian authorities say 11 people were killed in a bar attack. The attack took place in the northern state of Pará. The victims were killed at a bar in the city of Belem. The incident occurred in the town of Belema. The bar was in the']\n",
      "\n"
     ]
    },
    {
     "name": "stderr",
     "output_type": "stream",
     "text": [
      "\r",
      " 10%|█         | 106/1022 [1:41:28<14:35:06, 57.32s/it]"
     ]
    },
    {
     "name": "stdout",
     "output_type": "stream",
     "text": [
      "input_ids shape: torch.Size([1, 59])\n",
      "Reference Summary:\n",
      "Thirty-two people are killed when Islamic State members started a prison riot and a fire in a prison located in Vahdat, Tajikistan.\n",
      "Predictions: \n",
      "[\"Three guards and 29 inmates killed in riot in Tajikistan prison. The riot was sparked by a prison riot involving Islamic State militants. The prison is in the capital, Dushanbe. The prisoners were being held on charges related to the group's alleged involvement in a\"]\n",
      "\n"
     ]
    },
    {
     "name": "stderr",
     "output_type": "stream",
     "text": [
      "\r",
      " 10%|█         | 107/1022 [1:42:26<14:40:11, 57.72s/it]"
     ]
    },
    {
     "name": "stdout",
     "output_type": "stream",
     "text": [
      "input_ids shape: torch.Size([1, 59])\n",
      "Reference Summary:\n",
      "Whole Foods Market announces it will eliminate disposable plastic straws in July from its stores in the United States, Canada and the United Kingdom.\n",
      "Predictions: \n",
      "[\"The move is part of a larger effort to reduce the amount of plastic in the country's food supply. The move is also part of an effort to cut down on the amount that is wasted. The company is also trying to reduce waste in the food supply by using more recycled\"]\n",
      "\n"
     ]
    },
    {
     "name": "stderr",
     "output_type": "stream",
     "text": [
      "\r",
      " 11%|█         | 108/1022 [1:43:24<14:38:55, 57.70s/it]"
     ]
    },
    {
     "name": "stdout",
     "output_type": "stream",
     "text": [
      "input_ids shape: torch.Size([1, 59])\n",
      "Reference Summary:\n",
      "Ascena Retail Group announces it will close all 650 Dressbarn stores by the end of the year.\n",
      "Predictions: \n",
      "['Dressbarn is closing all 650 of its stores. The company has been in business for more than 60 years. The chain is owned by Ascena Retail Group. The retailer is closing its stores in the U.S. and Canada. It is also closing its European']\n",
      "\n"
     ]
    },
    {
     "name": "stderr",
     "output_type": "stream",
     "text": [
      "\r",
      " 11%|█         | 109/1022 [1:44:22<14:38:28, 57.73s/it]"
     ]
    },
    {
     "name": "stdout",
     "output_type": "stream",
     "text": [
      "input_ids shape: torch.Size([1, 59])\n",
      "Reference Summary:\n",
      "Two people are killed, the pilot and the passenger, when a floatplane crashes into Metlakatla harbor near Ketchikan, Alaska. The pilot and passenger were the only people on board.\n",
      "Predictions: \n",
      "['The crash occurred in the Alaska town of Ketchikan. The pilot and passenger were killed in the crash. The crash occurred on a flight from Anchorage to Ketchik. The FAA says the crash is under investigation. The NTSB is investigating. The cause of the crash']\n",
      "\n"
     ]
    },
    {
     "name": "stderr",
     "output_type": "stream",
     "text": [
      "\r",
      " 11%|█         | 110/1022 [1:45:20<14:38:00, 57.76s/it]"
     ]
    },
    {
     "name": "stdout",
     "output_type": "stream",
     "text": [
      "input_ids shape: torch.Size([1, 59])\n",
      "Reference Summary:\n",
      "South Korea vows to send humanitarian aid to North Korea through international organizations as it suffers droughts.\n",
      "Predictions: \n",
      "['South Korea has been trying to get North Korea to stop its nuclear weapons tests. The North has been testing its nuclear program in recent months. The U.S. has been sending a series of sanctions to the North in recent weeks. The South has been working to get the']\n",
      "\n"
     ]
    },
    {
     "name": "stderr",
     "output_type": "stream",
     "text": [
      "\r",
      " 11%|█         | 111/1022 [1:46:17<14:36:47, 57.75s/it]"
     ]
    },
    {
     "name": "stdout",
     "output_type": "stream",
     "text": [
      "input_ids shape: torch.Size([1, 59])\n",
      "Reference Summary:\n",
      "Iranian Minister of Foreign Affairs Mohammad Javad Zarif states that the \"genocidal taunts\" of U.S. President Donald Trump \"won't end Iran\", in response to President Trump's comments that if Iran attacked U.S. interests, \"that will be the official end of Iran.\" He also blasted Saudi Arabian Minister of Foreign Affairs Adel al-Jubeir for his previous May 19 remarks regarding Iran.\n",
      "Predictions: \n",
      "['The U.S. has been in a war of words with Iran over its nuclear program. The U.N. Security Council has passed a resolution to stop Iran from developing nuclear weapons. The United States has also threatened to strike Iran if it continues to develop nuclear weapons in']\n",
      "\n"
     ]
    },
    {
     "name": "stderr",
     "output_type": "stream",
     "text": [
      "\r",
      " 11%|█         | 112/1022 [1:47:15<14:35:34, 57.73s/it]"
     ]
    },
    {
     "name": "stdout",
     "output_type": "stream",
     "text": [
      "input_ids shape: torch.Size([1, 56])\n",
      "Reference Summary:\n",
      "U.S. F-22 stealth jets intercept four Russian Tupolev Tu-95 strategic bombers and two Russian Su-35 jets entering the Alaskan Air Defense Identification Zone off the coast of Alaska. The Russian jets and bombers did not enter the U.S. nor Canadian airspace according to the North American Aerospace Defense Command.\n",
      "Predictions: \n",
      "['The Russian aircraft were in the area, but were not in the air for long. The U.S. military says it was not aware of any threat to the U.N. base. The Russian aircraft had been in the region for about two weeks.']\n",
      "\n"
     ]
    },
    {
     "name": "stderr",
     "output_type": "stream",
     "text": [
      "\r",
      " 11%|█         | 113/1022 [1:48:13<14:34:59, 57.76s/it]"
     ]
    },
    {
     "name": "stdout",
     "output_type": "stream",
     "text": [
      "input_ids shape: torch.Size([1, 59])\n",
      "Reference Summary:\n",
      "The Swedish prosecutor files an arrest warrant against WikiLeaks founder Julian Assange over a rape allegation. Assange is serving a 50-week prison sentence in the United Kingdom for skipping bail.\n",
      "Predictions: \n",
      "['WikiLeaks founder Julian Assange is being held in a London jail. He is accused of being a sex offender and a sex abuser. The WikiLeaks founder is accused by the U.S. of being involved in a sex assault. He has been charged with rape and sexual assault.']\n",
      "\n"
     ]
    },
    {
     "name": "stderr",
     "output_type": "stream",
     "text": [
      "\r",
      " 11%|█         | 114/1022 [1:49:11<14:35:36, 57.86s/it]"
     ]
    },
    {
     "name": "stdout",
     "output_type": "stream",
     "text": [
      "input_ids shape: torch.Size([1, 59])\n",
      "Reference Summary:\n",
      "The U.S. Supreme Court in Herrera v. Wyoming rules in favor of a Native American elk hunter from Montana who was convicted for hunting off-season in Bighorn National Forest, deciding that the 1868 federal treaty between the Crow Nation and the U.S. Government is still in force even after Wyoming became a state in 1890. The treaty gave tribe members hunting rights on \"unoccupied\" lands.\n",
      "Predictions: \n",
      "['The Wyoming state\\'s top-level court has been called to the scene of the shooting. The state\\'s chief justice says the shooting was a \"tragic accident\" The shooting occurred in the town of Casper, Wyoming. The shooting took place in the early morning hours of']\n",
      "\n"
     ]
    },
    {
     "name": "stderr",
     "output_type": "stream",
     "text": [
      "\r",
      " 11%|█▏        | 115/1022 [1:50:09<14:34:11, 57.83s/it]"
     ]
    },
    {
     "name": "stdout",
     "output_type": "stream",
     "text": [
      "input_ids shape: torch.Size([1, 56])\n",
      "Reference Summary:\n",
      "Judge Amit Mehta of the United States District Court for the District of Columbia rules that accounting firm Mazars must comply with a subpoena issued by the United States House Committee on Oversight and Reform to turn over U.S. President Donald Trump's financial records.\n",
      "Predictions: \n",
      "['President Donald Trump is being sued by the House of Representatives. The House is seeking to get his tax returns and other documents. The White House says the documents are not in the public domain. The judge says the records are in the hands of the White House.']\n",
      "\n"
     ]
    },
    {
     "name": "stderr",
     "output_type": "stream",
     "text": [
      "\r",
      " 11%|█▏        | 116/1022 [1:51:07<14:33:20, 57.84s/it]"
     ]
    },
    {
     "name": "stdout",
     "output_type": "stream",
     "text": [
      "input_ids shape: torch.Size([1, 59])\n",
      "Reference Summary:\n",
      "Former comedian and reality television actor Volodymyr Zelensky is sworn in as the 6th President of Ukraine by the Verkhovna Rada. Zelensky announces the  dissolution of parliament and calls a snap parliamentary election.\n",
      "Predictions: \n",
      "[\"Volodymyr Zelenskiy was sworn in as president of Ukraine on Monday. He was sworn-in as president after a popular vote in the country's parliament. Zelensky was a former Ukrainian TV presenter and comedian. He is the son of former President Viktor\"]\n",
      "\n"
     ]
    },
    {
     "name": "stderr",
     "output_type": "stream",
     "text": [
      "\r",
      " 11%|█▏        | 117/1022 [1:52:04<14:30:54, 57.74s/it]"
     ]
    },
    {
     "name": "stdout",
     "output_type": "stream",
     "text": [
      "input_ids shape: torch.Size([1, 59])\n",
      "Reference Summary:\n",
      "Ukrainian Prime Minister Volodymyr Groysman announces he will  resign Wednesday in response to the new president's disbanding of parliament.\n",
      "Predictions: \n",
      "['Volodymyr Zelenskiy is sworn in as president of Ukraine. He immediately disbands the Ukrainian parliament. Zelenskyy is a former Ukrainian prime minister. He is the son of former President Viktor Yanukovych. Zelenkiy was a member of the opposition']\n",
      "\n"
     ]
    },
    {
     "name": "stderr",
     "output_type": "stream",
     "text": [
      "\r",
      " 12%|█▏        | 118/1022 [1:53:03<14:36:38, 58.18s/it]"
     ]
    },
    {
     "name": "stdout",
     "output_type": "stream",
     "text": [
      "input_ids shape: torch.Size([1, 59])\n",
      "Reference Summary:\n",
      "All ministers from the far-right Freedom Party of Austria, who make up close to half of Austria's cabinet, are resigning in response to their party leader,   Heinz-Christian Strache being forced to resign as Vice-Chancellor after a video was published Friday showing Strache's participation in a compromising video.\n",
      "Predictions: \n",
      "[\"Austrian Chancellor Sebastian Kurz is to hold a meeting with the country's top politicians. Kurz has been accused of being too cozy with the far-right Freedom Party. The party has been in power since the 1990s. KurZ is also the leader of the Austrian People's\"]\n",
      "\n"
     ]
    },
    {
     "name": "stderr",
     "output_type": "stream",
     "text": [
      "\r",
      " 12%|█▏        | 119/1022 [1:54:02<14:36:02, 58.21s/it]"
     ]
    },
    {
     "name": "stdout",
     "output_type": "stream",
     "text": [
      "input_ids shape: torch.Size([1, 59])\n",
      "Reference Summary:\n",
      "Venezuelan President Nicolás Maduro proposes early elections for Venezuela's National Assembly. Opposition leader and National Assembly President Juan Guaidó has stated a rejection of the proposal.\n",
      "Predictions: \n",
      "['Venezuelan President Nicolás Maduro has been in power since 2013. He has been accused of using the power to stifle opposition. He is seeking to extend his rule by decree. The opposition says he is trying to impose a new constitution. He says he wants to make']\n",
      "\n"
     ]
    },
    {
     "name": "stderr",
     "output_type": "stream",
     "text": [
      "\r",
      " 12%|█▏        | 120/1022 [1:54:59<14:32:46, 58.06s/it]"
     ]
    },
    {
     "name": "stdout",
     "output_type": "stream",
     "text": [
      "input_ids shape: torch.Size([1, 56])\n",
      "Reference Summary:\n",
      "After several months of negotiations, President Félix Tshisekedi names Sylvestre Ilunga Ilukamba as the new Prime Minister of the Democratic Republic of the Congo in an agreement with former president Joseph Kabila. He had not appointed a prime minister since being elected in December 2018.\n",
      "Predictions: \n",
      "['Sylvestre Ilunga Ilungi is a former president of the Democratic Republic of Congo. He is a longtime politician and a former minister. He was appointed by President Felix Tshisekedi. He has been in office since December 2013.']\n",
      "\n"
     ]
    },
    {
     "name": "stderr",
     "output_type": "stream",
     "text": [
      "\r",
      " 12%|█▏        | 121/1022 [1:55:06<10:38:24, 42.51s/it]"
     ]
    },
    {
     "name": "stdout",
     "output_type": "stream",
     "text": [
      "input_ids shape: torch.Size([1, 59])\n",
      "Reference Summary:\n",
      "The redefinition of the SI system of measurement adopted by the majority of countries in the world takes effect.\n",
      "Predictions: \n",
      "['The International System of Units (SI) is a system of measurement units. The SI is used to measure weight, temperature, amount of substance, and amount of current. The system is used in the UK, the U.S. and Australia. The International System is used']\n",
      "\n"
     ]
    },
    {
     "name": "stderr",
     "output_type": "stream",
     "text": [
      "\r",
      " 12%|█▏        | 122/1022 [1:55:18<8:20:18, 33.35s/it] "
     ]
    },
    {
     "name": "stdout",
     "output_type": "stream",
     "text": [
      "input_ids shape: torch.Size([1, 59])\n",
      "Reference Summary:\n",
      "Eleven people were killed in an ambush at 12th mile in Khonsa-Deomali road in Tirap District in Arunachal Pradesh.\n",
      "Predictions: \n",
      "[\"Arunachal Pradesh legislator, four of his family members among those killed. Police say they were killed in an ambush by suspected tribal separatists. The ambush took place in the state's eastern region of Arunachals. The dead include a lawmaker and four of the lawmaker\"]\n",
      "\n"
     ]
    },
    {
     "name": "stderr",
     "output_type": "stream",
     "text": [
      "\r",
      " 12%|█▏        | 123/1022 [1:56:15<10:08:39, 40.62s/it]"
     ]
    },
    {
     "name": "stdout",
     "output_type": "stream",
     "text": [
      "input_ids shape: torch.Size([1, 59])\n",
      "Reference Summary:\n",
      "Pharmaceutical giant Merck & Co. announces that it will purchase Peloton Therapeutics Inc. for $1.05 billion in cash. The catalyst for the deal is Peloton's recent progress in the development of a kidney cancer treatment.\n",
      "Predictions: \n",
      "[\"Merck to buy Peloton Therapeutics for $1.05 billion in cash. Merck to get access to Peloton's drug development pipeline. Peloton is a leader in the field of cancer drug development. The company has been in business since 2007. It has been founded\"]\n",
      "\n"
     ]
    },
    {
     "name": "stderr",
     "output_type": "stream",
     "text": [
      "\r",
      " 12%|█▏        | 124/1022 [1:57:13<11:23:21, 45.66s/it]"
     ]
    },
    {
     "name": "stdout",
     "output_type": "stream",
     "text": [
      "input_ids shape: torch.Size([1, 59])\n",
      "Reference Summary:\n",
      "The Jamie Oliver Restaurant Group, owned by British restaurateur Jamie Oliver, collapses into administration, resulting in 1,000 job losses.\n",
      "Predictions: \n",
      "[\"Jamie Oliver's restaurant chain has been hit by a string of bad news. The restaurant chain is to be taken over by a private equity firm. The company has been in trouble since the collapse of the chain in 2010. The firm has been forced to close its restaurants and cut\"]\n",
      "\n"
     ]
    },
    {
     "name": "stderr",
     "output_type": "stream",
     "text": [
      "\r",
      " 12%|█▏        | 125/1022 [1:58:10<12:14:54, 49.16s/it]"
     ]
    },
    {
     "name": "stdout",
     "output_type": "stream",
     "text": [
      "input_ids shape: torch.Size([1, 59])\n",
      "Reference Summary:\n",
      "Venezuela's Ambassador to Italy, Isaías Rodríguez, resigns, citing the government's lack of finances amid international sanctions on the Nicolás Maduro government. Rodríguez says, due to the sanctions, he has been unable to pay his staff or the rent for his office in Rome.\n",
      "Predictions: \n",
      "[\"Venezuelan President Nicolas Maduro is facing a growing international backlash. He has been accused of using the country's oil wealth to buy political support. The opposition says he is trying to use the money to buy votes in the upcoming elections. The government says he has been trying to\"]\n",
      "\n"
     ]
    },
    {
     "name": "stderr",
     "output_type": "stream",
     "text": [
      "\r",
      " 12%|█▏        | 126/1022 [1:59:08<12:52:47, 51.75s/it]"
     ]
    },
    {
     "name": "stdout",
     "output_type": "stream",
     "text": [
      "input_ids shape: torch.Size([1, 59])\n",
      "Reference Summary:\n",
      "Brenton Tarrant, accused of killing 51 people and wounding 49 others in two New Zealand mosques, is also charged with committing terrorist acts.\n",
      "Predictions: \n",
      "['Police say they have charged the man accused of killing 51 people at two Christchurch mosques. The man is accused of shooting dead 51 people in two ChristChurch mosques. Police say they are investigating whether the shootings were pre-planned. The suspect is also accused of murdering a police']\n",
      "\n"
     ]
    },
    {
     "name": "stderr",
     "output_type": "stream",
     "text": [
      "\r",
      " 12%|█▏        | 127/1022 [2:00:05<13:16:32, 53.40s/it]"
     ]
    },
    {
     "name": "stdout",
     "output_type": "stream",
     "text": [
      "input_ids shape: torch.Size([1, 56])\n",
      "Reference Summary:\n",
      "Washington becomes the first U.S. state to legalize human composting, the right to allow people to have their body turned into soil after death. The process is seen as an alternative to traditional cremations and burials.\n",
      "Predictions: \n",
      "['Washington is first state to allow composting of human remains. Gov. Jay Inslee signed legislation Tuesday. It allows licensed facilities to offer composting. It is an alternative to burying or cremating human remains, the law says. It\\'s called \"natural organic reduction\"']\n",
      "\n"
     ]
    },
    {
     "name": "stderr",
     "output_type": "stream",
     "text": [
      "\r",
      " 13%|█▎        | 128/1022 [2:01:02<13:33:06, 54.57s/it]"
     ]
    },
    {
     "name": "stdout",
     "output_type": "stream",
     "text": [
      "input_ids shape: torch.Size([1, 59])\n",
      "Reference Summary:\n",
      "The California High-Speed Rail Authority sues the U.S. Transportation Department to block the cancelling of $929 million federal grant for the California High-Speed Rail project. The suit comes after the Trump administration canceled the federal grant for California's bullet train on May 16, 2019.\n",
      "Predictions: \n",
      "['California is suing the U.S. government over a $1 billion cut from a high-speed rail project. The state is suing to get the money back. The U.N. says the project is a priority for the U.,S. and should be funded.']\n",
      "\n"
     ]
    },
    {
     "name": "stderr",
     "output_type": "stream",
     "text": [
      "\r",
      " 13%|█▎        | 129/1022 [2:01:59<13:43:08, 55.31s/it]"
     ]
    },
    {
     "name": "stdout",
     "output_type": "stream",
     "text": [
      "input_ids shape: torch.Size([1, 56])\n",
      "Reference Summary:\n",
      "A man is shot dead and his car set alight in Walshestown near Balbriggan, Dublin. It is believed the shooting is linked to the 2015–19 Irish gangland feud.\n",
      "Predictions: \n",
      "[\"Man shot dead in Dublin on Tuesday afternoon. Man was shot dead by a gunman in the city centre. The man was shot in the head and died at the scene. The incident happened in the area of the city's north Dublin suburb of Darndale.\"]\n",
      "\n"
     ]
    },
    {
     "name": "stderr",
     "output_type": "stream",
     "text": [
      "\r",
      " 13%|█▎        | 130/1022 [2:02:57<13:51:36, 55.94s/it]"
     ]
    },
    {
     "name": "stdout",
     "output_type": "stream",
     "text": [
      "input_ids shape: torch.Size([1, 59])\n",
      "Reference Summary:\n",
      "Indonesia's General Elections Commission announces that incumbent President Joko Widodo has won last month's presidential election, with 55.5% of the vote. His rival Prabowo Subianto's team, however, refuses to sign and validate the results.\n",
      "Predictions: \n",
      "['Indonesian President Joko Widodo has been re-elected. He is the first Indonesian president to be re- elected since 1998. The election was held on May 9. The president was re-election on May 12. The vote was followed by a series of protests']\n",
      "\n"
     ]
    },
    {
     "name": "stderr",
     "output_type": "stream",
     "text": [
      "\r",
      " 13%|█▎        | 131/1022 [2:03:54<13:56:04, 56.30s/it]"
     ]
    },
    {
     "name": "stdout",
     "output_type": "stream",
     "text": [
      "input_ids shape: torch.Size([1, 58])\n",
      "Reference Summary:\n",
      "Voters head to the polls to elect the next President of Malawi, Parliament and local government councillors.\n",
      "Predictions: \n",
      "[\"Voting has started in Malawi to elect a new president and parliament. The election is expected to be the country's first since the country was formed in 1994. The country has been ruled by a single party since the birth of the country in 1994, the National Democratic Movement.\"]\n",
      "\n"
     ]
    },
    {
     "name": "stderr",
     "output_type": "stream",
     "text": [
      "\r",
      " 13%|█▎        | 132/1022 [2:04:51<13:59:55, 56.62s/it]"
     ]
    },
    {
     "name": "stdout",
     "output_type": "stream",
     "text": [
      "input_ids shape: torch.Size([1, 59])\n",
      "Reference Summary:\n",
      "Voters head to the polls in a special election to elect a new U.S. House Representative to finish the term for Pennsylvania's 12th congressional district after Republican Tom Marino resigned on January 23, 2019.\n",
      "Predictions: \n",
      "['The Pennsylvania election is a key one for the GOP. The state is a battleground state in the presidential race. The GOP is hoping to win a second term in the state. The race is a close race between Republican and Democrat. The winner will be the next president of the']\n",
      "\n"
     ]
    },
    {
     "name": "stderr",
     "output_type": "stream",
     "text": [
      "\r",
      " 13%|█▎        | 133/1022 [2:05:48<14:00:46, 56.74s/it]"
     ]
    },
    {
     "name": "stdout",
     "output_type": "stream",
     "text": [
      "input_ids shape: torch.Size([1, 57])\n",
      "Reference Summary:\n",
      "Republican Fred Keller wins the special election against his Democratic opponent Marc Friedenberg.\n",
      "Predictions: \n",
      "['Republican state lawmaker Fred Keller wins U.S. House election in Pennsylvania. Keller replaces GOP congressman who resigned after his wife was found dead. Keller is a former state lawmaker who served in the House from 1999 to 2007. He was a member of the House Republican Caucus.']\n",
      "\n"
     ]
    },
    {
     "name": "stderr",
     "output_type": "stream",
     "text": [
      "\r",
      " 13%|█▎        | 134/1022 [2:06:45<14:02:15, 56.91s/it]"
     ]
    },
    {
     "name": "stdout",
     "output_type": "stream",
     "text": [
      "input_ids shape: torch.Size([1, 59])\n",
      "Reference Summary:\n",
      "The Catalan leaders who are imprisoned accused of rebellion, Oriol Junqueras, Jordi Turull, Jordi Sànchez and Josep Rull, are sworn in as members of the Congress of Deputies after being elected in the 28th April general election by an authorization of the Supreme Court.\n",
      "Predictions: \n",
      "['The Spanish parliament is in session for the first time since the Catalan referendum. The Catalan parliament is the only one in the country that has not been dissolved since the vote. The Spanish parliament was dissolved in the wake of the vote in Catalonia. The parliament is expected to be dissolved']\n",
      "\n"
     ]
    },
    {
     "name": "stderr",
     "output_type": "stream",
     "text": [
      "\r",
      " 13%|█▎        | 135/1022 [2:07:43<14:03:10, 57.04s/it]"
     ]
    },
    {
     "name": "stdout",
     "output_type": "stream",
     "text": [
      "input_ids shape: torch.Size([1, 59])\n",
      "Reference Summary:\n",
      "Matt Bevin wins the Republican nomination and Andy Beshear wins the Democratic nomination primaries ahead of the November 5 gubernatorial election.\n",
      "Predictions: \n",
      "[\"Kentucky's Democratic gubernatorial candidate is Andy Beshear. He is the state's attorney general. He faces Republican Gov. Matt Bevin. Beshears is a former state senator. He was a member of the state legislature from 1996 to 2007. He ran for governor\"]\n",
      "\n"
     ]
    },
    {
     "name": "stderr",
     "output_type": "stream",
     "text": [
      "\r",
      " 13%|█▎        | 136/1022 [2:08:40<14:03:15, 57.11s/it]"
     ]
    },
    {
     "name": "stdout",
     "output_type": "stream",
     "text": [
      "input_ids shape: torch.Size([1, 59])\n",
      "Reference Summary:\n",
      "Dutch Minister of Justice and Security Mark Harbers resigns amid a scandal over a government report which played down crimes committed by asylum seekers in the country, including rapes and murders, which were placed under a category called \"other\". The omission was first highlighted by Dutch newspaper De Telegraaf.\n",
      "Predictions: \n",
      "[\"Dutch junior justice minister quits over asylum seeker crime statistics. Ministry was criticized for categorizing hundreds of cases. The ministry was accused of under-reporting serious offenses. The minister's resignation was announced on Tuesday. The Dutch government is investigating the matter. The case is being investigated by the\"]\n",
      "\n"
     ]
    },
    {
     "name": "stderr",
     "output_type": "stream",
     "text": [
      "\r",
      " 13%|█▎        | 137/1022 [2:09:37<14:03:31, 57.19s/it]"
     ]
    },
    {
     "name": "stdout",
     "output_type": "stream",
     "text": [
      "input_ids shape: torch.Size([1, 59])\n",
      "Reference Summary:\n",
      "The Golden State Warriors qualify for the NBA Finals for the fifth year in a row by defeating the Portland Trail Blazers, 119–117, in overtime in Game 4 of the Western Conference Finals.\n",
      "Predictions: \n",
      "['Golden State Warriors beat Portland Trail Blazers in Game 4. Warriors win 119-117 in overtime to advance to NBA Finals. Warriors will face Cleveland Cavaliers in the Finals. Golden State has won the last three NBA Finals, including two titles. The Warriors have won the title in each of the']\n",
      "\n"
     ]
    },
    {
     "name": "stderr",
     "output_type": "stream",
     "text": [
      "\r",
      " 14%|█▎        | 138/1022 [2:09:52<10:54:16, 44.41s/it]"
     ]
    },
    {
     "name": "stdout",
     "output_type": "stream",
     "text": [
      "input_ids shape: torch.Size([1, 59])\n",
      "Reference Summary:\n",
      "The Ukrainian military reports that eight Ukrainian soldiers have been captured by pro-Russian fighters near the village of Novotroyitske.\n",
      "Predictions: \n",
      "[\"Ukraine's military says it has taken eight soldiers hostage in the eastern region of Donetsk. The soldiers were taken by Russian-backed fighters in the region of the Donetsk region. The military says the soldiers were captured by Russian forces. The troops were taken from the region by Russian troops\"]\n",
      "\n"
     ]
    },
    {
     "name": "stderr",
     "output_type": "stream",
     "text": [
      "\r",
      " 14%|█▎        | 139/1022 [2:10:49<11:49:45, 48.23s/it]"
     ]
    },
    {
     "name": "stdout",
     "output_type": "stream",
     "text": [
      "input_ids shape: torch.Size([1, 59])\n",
      "Reference Summary:\n",
      "At least nine people are killed when a car bomber attacks a police checkpoint in the Bondhere District of Mogadishu (Al Jazeera)\n",
      "Predictions: \n",
      "[\"A suicide car bomb by Islamic extremists kills at least six people in Mogadishu. Most of the casualties are soldiers, police say. The blast occurred in the capital's central district of Mogadisho. The bombing was carried out by a car bomb planted by Islamic extremist group\"]\n",
      "\n"
     ]
    },
    {
     "name": "stderr",
     "output_type": "stream",
     "text": [
      "\r",
      " 14%|█▎        | 140/1022 [2:11:46<12:28:46, 50.94s/it]"
     ]
    },
    {
     "name": "stdout",
     "output_type": "stream",
     "text": [
      "input_ids shape: torch.Size([1, 59])\n",
      "Reference Summary:\n",
      "A French nun is found decapitated in a village in the Central African Republic.\n",
      "Predictions: \n",
      "['The government has issued an ultimatum to the leader of the Central African Republic. The government has also issued an order to the president to step down. The Central African nation is a war-torn country of about 100 million people. The country is home to a large number']\n",
      "\n"
     ]
    },
    {
     "name": "stderr",
     "output_type": "stream",
     "text": [
      "\r",
      " 14%|█▍        | 141/1022 [2:11:53<9:10:19, 37.48s/it] "
     ]
    },
    {
     "name": "stdout",
     "output_type": "stream",
     "text": [
      "input_ids shape: torch.Size([1, 59])\n",
      "Reference Summary:\n",
      "Armed militias kill over 30 civilians in one of the deadliest attacks since a peace deal was reached back in February of this year.\n",
      "Predictions: \n",
      "[\"A group of armed militia in the country has been accused of killing civilians. The group's leader has been given a deadline to hand over the perpetrators. The militia is believed to be made up of members of the country's armed forces. The government has issued a deadline for the\"]\n",
      "\n"
     ]
    },
    {
     "name": "stderr",
     "output_type": "stream",
     "text": [
      "\r",
      " 14%|█▍        | 142/1022 [2:12:21<8:32:13, 34.92s/it]"
     ]
    },
    {
     "name": "stdout",
     "output_type": "stream",
     "text": [
      "input_ids shape: torch.Size([1, 59])\n",
      "Reference Summary:\n",
      "Syrian government airstrikes in Syria’s northwestern de-escalation zones target the towns of Maarrat al-Nu'man and Maarat Herma in Idlib Governorate, killing twelve civilians.\n",
      "Predictions: \n",
      "['The Syrian regime has been carrying out airstrikes in the Idlib province since March. The Syrian government has been fighting rebels in the province since April. The regime has also been using helicopters to bomb rebel-held areas. The attacks have killed at least 12 civilians, according to the Syrian']\n",
      "\n"
     ]
    },
    {
     "name": "stderr",
     "output_type": "stream",
     "text": [
      "\r",
      " 14%|█▍        | 143/1022 [2:13:19<10:10:16, 41.66s/it]"
     ]
    },
    {
     "name": "stdout",
     "output_type": "stream",
     "text": [
      "input_ids shape: torch.Size([1, 59])\n",
      "Reference Summary:\n",
      "British Steel Limited goes into compulsory liquidation after rescue talks between the British government and the company's owners, Greybull Capital, fail. Around 5,000 workers are employed by the company, 3,800 of whom are based in the UK.\n",
      "Predictions: \n",
      "[\"British Steel is to be taken over by a private equity firm. The company is to go into liquidation after failing to secure a deal with the government. The move will see the company's operations in the UK and Europe shut down. The firm is also to be sold to\"]\n",
      "\n"
     ]
    },
    {
     "name": "stderr",
     "output_type": "stream",
     "text": [
      "\r",
      " 14%|█▍        | 144/1022 [2:14:16<11:18:02, 46.34s/it]"
     ]
    },
    {
     "name": "stdout",
     "output_type": "stream",
     "text": [
      "input_ids shape: torch.Size([1, 59])\n",
      "Reference Summary:\n",
      "A powerful tornado hits Jefferson City, Missouri, leaving people trapped or injured and structural damage according to city and state officials. At least three people are killed in southwestern Missouri when a storm system sweeps across the state causing extensive damage.\n",
      "Predictions: \n",
      "['The tornado struck the Missouri capital of Jefferson City. The storm caused damage to homes and businesses. The tornado was the second in a week that has caused damage in the state. The National Weather Service says the tornado was a EF-3. The weather service says the storm caused']\n",
      "\n"
     ]
    },
    {
     "name": "stderr",
     "output_type": "stream",
     "text": [
      "\r",
      " 14%|█▍        | 145/1022 [2:15:13<12:05:07, 49.61s/it]"
     ]
    },
    {
     "name": "stdout",
     "output_type": "stream",
     "text": [
      "input_ids shape: torch.Size([1, 59])\n",
      "Reference Summary:\n",
      "United States F-22 Raptors intercept four Russian Tu-95 bombers and two Su-35 fighter jets off the coast of Alaska on Tuesday and Wednesday, according to a statement from the North American Aerospace Defense Command.\n",
      "Predictions: \n",
      "['U.S. military says it has intercepted Russian bombers and fighter jets in the past. The U.S.-led coalition says it is working with Russia to improve air defense. The Russian military says the U.N. Security Council has approved a resolution to improve U.']\n",
      "\n"
     ]
    },
    {
     "name": "stderr",
     "output_type": "stream",
     "text": [
      "\r",
      " 14%|█▍        | 146/1022 [2:16:10<12:36:11, 51.79s/it]"
     ]
    },
    {
     "name": "stdout",
     "output_type": "stream",
     "text": [
      "input_ids shape: torch.Size([1, 57])\n",
      "Reference Summary:\n",
      "The United Nations General Assembly passes a non-binding resolution demanding the United Kingdom return control of the Chagos Archipelago to Mauritius. The Mauritians claim they were forced to give up the islands to the British in 1965 in exchange for independence.\n",
      "Predictions: \n",
      "['UN General Assembly votes to demand Britain end its \"colonial administration\" of the Chagos Islands. The islands are home to the U.S. military base on Diego Garcia. The U.N. says Britain must end its rule of the islands in six months.']\n",
      "\n"
     ]
    },
    {
     "name": "stderr",
     "output_type": "stream",
     "text": [
      "\r",
      " 14%|█▍        | 147/1022 [2:17:07<12:59:09, 53.43s/it]"
     ]
    },
    {
     "name": "stdout",
     "output_type": "stream",
     "text": [
      "input_ids shape: torch.Size([1, 59])\n",
      "Reference Summary:\n",
      "The U.S. Justice Department agrees to provide the House Intelligence Committee with  intelligence files from special counsel Robert Mueller's investigation of Russian interference in the 2016 election.\n",
      "Predictions: \n",
      "[\"The House intelligence committee has been investigating the White House's ties to Russia. The committee has asked for documents from the Justice Department. The Justice Department has agreed to hand over documents. The House intelligence panel has been considering a subpoena for the documents. It has been a thorn in\"]\n",
      "\n"
     ]
    },
    {
     "name": "stderr",
     "output_type": "stream",
     "text": [
      "\r",
      " 14%|█▍        | 148/1022 [2:18:05<13:14:50, 54.57s/it]"
     ]
    },
    {
     "name": "stdout",
     "output_type": "stream",
     "text": [
      "input_ids shape: torch.Size([1, 59])\n",
      "Reference Summary:\n",
      "Lawyer Michael Avenatti is indicted in separate cases charging him with allegedly stealing about $300,000 from Stormy Daniels and blackmailing Nike.\n",
      "Predictions: \n",
      "['Michael Avenatti is charged with defrauding Stormy Daniels. He is accused of using his celebrity status to get money from her. He has been a thorn in the side of President Donald Trump. He was also a key figure in the investigation into the president. He denies any wrongdoing']\n",
      "\n"
     ]
    },
    {
     "name": "stderr",
     "output_type": "stream",
     "text": [
      "\r",
      " 15%|█▍        | 149/1022 [2:19:02<13:24:23, 55.28s/it]"
     ]
    },
    {
     "name": "stdout",
     "output_type": "stream",
     "text": [
      "input_ids shape: torch.Size([1, 56])\n",
      "Reference Summary:\n",
      "The New York State Legislature passes a bill that will authorize state tax officials to release U.S. President Donald Trump's state returns to Congress.  (The New York Times)\n",
      "Predictions: \n",
      "[\"New York state lawmakers pass bill to allow for the release of President Trump's tax returns. The bill would allow the president to release his tax returns to the public. The legislation would also allow the White House to release the tax returns of the president's children.\"]\n",
      "\n"
     ]
    },
    {
     "name": "stderr",
     "output_type": "stream",
     "text": [
      "\r",
      " 15%|█▍        | 150/1022 [2:19:59<13:32:00, 55.87s/it]"
     ]
    },
    {
     "name": "stdout",
     "output_type": "stream",
     "text": [
      "input_ids shape: torch.Size([1, 58])\n",
      "Reference Summary:\n",
      "Judge Edgardo Ramos of the United States District Court for the Southern District of New York rules Deutsche Bank and Capital One can release President Trump's financial records to Congress.\n",
      "Predictions: \n",
      "[\"A federal judge in New York says he won't block congressional subpoenas seeking bank records. The subpoenas seek records from the president's bank and other financial institutions. The judge says he will not block the subpoenas, which are aimed at the president and his bank.\"]\n",
      "\n"
     ]
    },
    {
     "name": "stderr",
     "output_type": "stream",
     "text": [
      "\r",
      " 15%|█▍        | 151/1022 [2:20:56<13:38:04, 56.35s/it]"
     ]
    },
    {
     "name": "stdout",
     "output_type": "stream",
     "text": [
      "input_ids shape: torch.Size([1, 59])\n",
      "Reference Summary:\n",
      "Six people die and more than 200 are injured in the Indonesian capital, Jakarta, after protesters of the announced results of the presidential election clash with security forces and set fire to a police dormitory and vehicles.\n",
      "Predictions: \n",
      "[\"Indonesian police say they have arrested more than 100 people in Jakarta. Police say they are investigating reports of violence after the election. Protesters have been protesting against the election results. The protesters are angry over the result of the election, which was declared by the country's president\"]\n",
      "\n"
     ]
    },
    {
     "name": "stderr",
     "output_type": "stream",
     "text": [
      "\r",
      " 15%|█▍        | 152/1022 [2:21:54<13:42:04, 56.69s/it]"
     ]
    },
    {
     "name": "stdout",
     "output_type": "stream",
     "text": [
      "input_ids shape: torch.Size([1, 59])\n",
      "Reference Summary:\n",
      "Andrea Leadsom resigns as the United Kingdom's Leader of the House of Commons with immediate effect in response to Prime Minister Theresa May's handling of Brexit. Several other cabinet ministers are reportedly threatening to resign.\n",
      "Predictions: \n",
      "[\"Theresa May's government is in the midst of a major crisis over the EU. The PM is facing a backlash from the Tory party over her handling of the issue. The Prime Minister is facing calls for her to resign over the issue of the EU's future in the UK\"]\n",
      "\n"
     ]
    },
    {
     "name": "stderr",
     "output_type": "stream",
     "text": [
      "\r",
      " 15%|█▍        | 153/1022 [2:22:49<13:33:59, 56.20s/it]"
     ]
    },
    {
     "name": "stdout",
     "output_type": "stream",
     "text": [
      "input_ids shape: torch.Size([1, 59])\n",
      "Reference Summary:\n",
      "Sky News journalist Alex Crawford and her media team are fired on by Syrian Army tanks in the Tahrir al-Sham-held village of Hbit, Idlib Governorate, while covering the fighting there. Their guide, Bilal Abdul Kareem, is injured by shrapnel to his chest.\n",
      "Predictions: \n",
      "['Sky News journalist Alex Crawford and her crew were targeted by Syrian regime forces. The journalists were in Idlib, Syria, when they were attacked by regime forces in Idlib. The Syrian regime has been fighting a rebel-held enclave in the province since March. The attack was in response']\n",
      "\n"
     ]
    },
    {
     "name": "stderr",
     "output_type": "stream",
     "text": [
      "\r",
      " 15%|█▌        | 154/1022 [2:23:46<13:37:42, 56.52s/it]"
     ]
    },
    {
     "name": "stdout",
     "output_type": "stream",
     "text": [
      "input_ids shape: torch.Size([1, 59])\n",
      "Reference Summary:\n",
      "Panasonic suspends shipments of certain hardware components to Huawei Technologies Co. Ltd. to comply with U.S. restrictions on the company.\n",
      "Predictions: \n",
      "['The Chinese company is a major supplier of smartphones and other mobile devices to the U.S. The company has been accused of spying for the U.,S. government. The U.N. has banned Huawei from selling its products to the United States. The move is seen']\n",
      "\n"
     ]
    },
    {
     "name": "stderr",
     "output_type": "stream",
     "text": [
      "\r",
      " 15%|█▌        | 155/1022 [2:24:44<13:40:44, 56.80s/it]"
     ]
    },
    {
     "name": "stdout",
     "output_type": "stream",
     "text": [
      "input_ids shape: torch.Size([1, 59])\n",
      "Reference Summary:\n",
      "U.S. President Donald Trump announces a second aid package worth $16 billion for farmers impacted by the China–United States trade war.\n",
      "Predictions: \n",
      "[\"The U.S. and China are at odds over trade. The U.N. says the U.K. is the biggest economy in the world. The EU says the trade war is hurting the EU's economy. The European Union says the EU is the largest economy\"]\n",
      "\n"
     ]
    },
    {
     "name": "stderr",
     "output_type": "stream",
     "text": [
      "\r",
      " 15%|█▌        | 156/1022 [2:25:41<13:42:43, 57.00s/it]"
     ]
    },
    {
     "name": "stdout",
     "output_type": "stream",
     "text": [
      "input_ids shape: torch.Size([1, 59])\n",
      "Reference Summary:\n",
      "John Walker Lindh, the first person to be convicted of a crime in the War on Terror, is released on probation from a U.S. federal prison after serving 17 years of a 20-year sentence.  Lindh has refused to renounce Islamist extremism and will be on probation for three years. U.S. President Donald Trump condemns the early release.\n",
      "Predictions: \n",
      "['John Walker Lindh was captured in Afghanistan in 2001. He was released from prison in 2011. Lindh is the former leader of the American Taliban. He has been in prison since 2001. LindH was released in 2011 after serving 17 years of a sentence of life in prison']\n",
      "\n"
     ]
    },
    {
     "name": "stderr",
     "output_type": "stream",
     "text": [
      "\r",
      " 15%|█▌        | 157/1022 [2:26:38<13:42:20, 57.04s/it]"
     ]
    },
    {
     "name": "stdout",
     "output_type": "stream",
     "text": [
      "input_ids shape: torch.Size([1, 57])\n",
      "Reference Summary:\n",
      "The U.S. city of Baltimore, Maryland, has been battling a ransomware attack that has blocked government email accounts and disabled online payments to city departments. The hackers breached the city's servers on May 7 and demanded $100,000 (£79,000) worth of Bitcoin.\n",
      "Predictions: \n",
      "['Baltimore\\'s IT team is restoring computer systems to ensure security. The city\\'s IT staff is working to restore the systems after a crippling ransomware attack. The attack was caused by a software called \"Ransomware\" The city is working on a fix for the problem.']\n",
      "\n"
     ]
    },
    {
     "name": "stderr",
     "output_type": "stream",
     "text": [
      "\r",
      " 15%|█▌        | 158/1022 [2:27:36<13:44:01, 57.22s/it]"
     ]
    },
    {
     "name": "stdout",
     "output_type": "stream",
     "text": [
      "input_ids shape: torch.Size([1, 59])\n",
      "Reference Summary:\n",
      "Interpol's Operation Blackwrist arrests nine people in Australia, Thailand and the United States, and rescues 50 children in connection with a 63,000-member online pedophilia ring. More arrests are expected. Investigators from nearly 60 countries  participated in this operation.\n",
      "Predictions: \n",
      "['Interpol says it has arrested nine people in connection with the case. The group says it is working with the U.S. and other countries to find the children. The children were found in a home in Thailand, where they were being abused by a paedophile ring.']\n",
      "\n"
     ]
    },
    {
     "name": "stderr",
     "output_type": "stream",
     "text": [
      "\r",
      " 16%|█▌        | 159/1022 [2:28:34<13:45:37, 57.40s/it]"
     ]
    },
    {
     "name": "stdout",
     "output_type": "stream",
     "text": [
      "input_ids shape: torch.Size([1, 59])\n",
      "Reference Summary:\n",
      "The United States Department of Justice charges WikiLeaks founder Julian Assange with 17 counts of violating the Espionage Act, including provisions that prohibit a conspiracy to obtain, receive and disclose national defense information, attempting to crack computer passwords, and unlawful receipt of sensitive information such as State Department communications and Defense Department logs.\n",
      "Predictions: \n",
      "[\"WikiLeaks founder Julian Assange is charged with violating the Espionage act. He is accused of leaking classified information to WikiLeaks. The charges are the latest in a series of revelations about the WikiLeaks founder's activities. The U.S. government has accused Assange of leaking documents to WikiLeaks\"]\n",
      "\n"
     ]
    },
    {
     "name": "stderr",
     "output_type": "stream",
     "text": [
      "\r",
      " 16%|█▌        | 160/1022 [2:29:32<13:46:26, 57.53s/it]"
     ]
    },
    {
     "name": "stdout",
     "output_type": "stream",
     "text": [
      "input_ids shape: torch.Size([1, 59])\n",
      "Reference Summary:\n",
      "U.S. President Donald Trump, in a directive, orders the Intelligence Community to cooperate with U.S. Attorney General William Barr's review of the origins of the Special Counsel investigation. The order allows Attorney General Barr to declassify information he sees fit for the review process.\n",
      "Predictions: \n",
      "[\"President Trump has ordered the U.S. intelligence community to cooperate with the probe. The probe is looking into whether the president's campaign colluded with Russia. The investigation is part of a larger probe into whether Russia interfered in the 2016 election. The White House says the investigation\"]\n",
      "\n"
     ]
    },
    {
     "name": "stderr",
     "output_type": "stream",
     "text": [
      "\r",
      " 16%|█▌        | 161/1022 [2:30:29<13:45:17, 57.51s/it]"
     ]
    },
    {
     "name": "stdout",
     "output_type": "stream",
     "text": [
      "input_ids shape: torch.Size([1, 59])\n",
      "Reference Summary:\n",
      "American serial killer Bobby Joe Long who murdered 10 women in the Tampa Bay Area during an eight month period in 1984 is executed by lethal injection.\n",
      "Predictions: \n",
      "['The Florida serial killer was convicted of killing 10 women in the 1980s. He was sentenced to death in 1999 for the murders of 10 women. The victims were all women who were raped and killed by the killer. The killer was sentenced in 1999 to death by lethal injection.']\n",
      "\n"
     ]
    },
    {
     "name": "stderr",
     "output_type": "stream",
     "text": [
      "\r",
      " 16%|█▌        | 162/1022 [2:31:27<13:44:23, 57.52s/it]"
     ]
    },
    {
     "name": "stdout",
     "output_type": "stream",
     "text": [
      "input_ids shape: torch.Size([1, 59])\n",
      "Reference Summary:\n",
      "European citizens in the United Kingdom and the Netherlands vote in the first day of 2019's European Parliament elections.\n",
      "Predictions: \n",
      "['European elections are held on May 25 and 26. The UK is set to vote in the European Parliament elections. The European Parliament is the parliament of the European Union. The EU is the largest political body in the world, with more than 500 million people. The vote is the']\n",
      "\n"
     ]
    },
    {
     "name": "stderr",
     "output_type": "stream",
     "text": [
      "\r",
      " 16%|█▌        | 163/1022 [2:32:24<13:43:57, 57.55s/it]"
     ]
    },
    {
     "name": "stdout",
     "output_type": "stream",
     "text": [
      "input_ids shape: torch.Size([1, 59])\n",
      "Reference Summary:\n",
      "The Bharatiya Janata Party, led by Indian Prime Minister Narendra Modi, is declared the clear victor of the latest Indian general election.\n",
      "Predictions: \n",
      "[\"The Indian Prime Minister Narendra Modi's party is expected to win a majority in the Lok Sabha elections. The election is expected in the next few days. The results will be announced on May 14. The result will be known on May 15. The next Lok Sabha election will be\"]\n",
      "\n"
     ]
    },
    {
     "name": "stderr",
     "output_type": "stream",
     "text": [
      "\r",
      " 16%|█▌        | 164/1022 [2:33:22<13:42:51, 57.54s/it]"
     ]
    },
    {
     "name": "stdout",
     "output_type": "stream",
     "text": [
      "input_ids shape: torch.Size([1, 59])\n",
      "Reference Summary:\n",
      "The Malawi Electoral Commission reports, with 75% of the vote counted, President Peter Mutharika leads with 40.44% of votes, the opposition Malawi Congress Party's Lazarus Chakwera has 35.34%, and Deputy President Saulos Chilima received 18.35% of the votes cast in Tuesday's presidential election.\n",
      "Predictions: \n",
      "[\"Malawi's President Peter Mutharika has been in the lead for the election. He has been leading the race for the presidency since the election in May. He is seeking a second term in office. The election is expected to be a tight race with the opposition calling\"]\n",
      "\n"
     ]
    },
    {
     "name": "stderr",
     "output_type": "stream",
     "text": [
      "\r",
      " 16%|█▌        | 165/1022 [2:33:45<11:15:10, 47.27s/it]"
     ]
    },
    {
     "name": "stdout",
     "output_type": "stream",
     "text": [
      "input_ids shape: torch.Size([1, 59])\n",
      "Reference Summary:\n",
      "Eighteen Earth-like exoplanets are discovered via a new algorithm.\n",
      "Predictions: \n",
      "['The new planet is the first to be found in the habitable zone of a star. The new planet was discovered by the Kepler telescope in Hawaii. The planet is one of the most Earth-like in the solar system. The Kepler telescope has been used to find the first Earth']\n",
      "\n"
     ]
    },
    {
     "name": "stderr",
     "output_type": "stream",
     "text": [
      "\r",
      " 16%|█▌        | 166/1022 [2:34:43<11:58:33, 50.37s/it]"
     ]
    },
    {
     "name": "stdout",
     "output_type": "stream",
     "text": [
      "input_ids shape: torch.Size([1, 58])\n",
      "Reference Summary:\n",
      "U.S. President Donald Trump orders 1,500 troops and several Patriot missile launchers to the Persian Gulf as tensions rise with Iran.\n",
      "Predictions: \n",
      "['The U.S. is sending more troops to the Middle East, including to the region. The move is in response to the threat of Iranian attacks on U.N. facilities in Syria. The U.K. is also sending more military personnel to the area.']\n",
      "\n"
     ]
    },
    {
     "name": "stderr",
     "output_type": "stream",
     "text": [
      "\r",
      " 16%|█▋        | 167/1022 [2:35:40<12:28:45, 52.54s/it]"
     ]
    },
    {
     "name": "stdout",
     "output_type": "stream",
     "text": [
      "input_ids shape: torch.Size([1, 59])\n",
      "Reference Summary:\n",
      "Multiple people are injured in Lyon, France, by a bomb filled with bolts.  (CNN)\n",
      "Predictions: \n",
      "['The blast occurred in the city of Lyon in France. The blast occurred on a street in the heart of the city. The explosion was caused by a suspected bomb, police say. The incident occurred in a busy area of the French city. It is not clear if the blast']\n",
      "\n"
     ]
    },
    {
     "name": "stderr",
     "output_type": "stream",
     "text": [
      "\r",
      " 16%|█▋        | 168/1022 [2:36:38<12:48:52, 54.02s/it]"
     ]
    },
    {
     "name": "stdout",
     "output_type": "stream",
     "text": [
      "input_ids shape: torch.Size([1, 59])\n",
      "Reference Summary:\n",
      "A bombing at a mosque in the Pakistani city of Quetta, the capital of the restive province of Balochistan, kills three people, including the prayer leader, and wounds at least 28 worshippers.\n",
      "Predictions: \n",
      "[\"A bomb blast at a mosque in Quetta, Pakistan, kills two and wounds at least two others. The blast occurred at a Mosque in the city's Pashtoon district. The attack took place in the heart of the city, which is in the province of Bal\"]\n",
      "\n"
     ]
    },
    {
     "name": "stderr",
     "output_type": "stream",
     "text": [
      "\r",
      " 17%|█▋        | 169/1022 [2:37:35<13:02:14, 55.02s/it]"
     ]
    },
    {
     "name": "stdout",
     "output_type": "stream",
     "text": [
      "input_ids shape: torch.Size([1, 59])\n",
      "Reference Summary:\n",
      "Three people, including a senior Muslim preacher, are killed and at least 20 wounded after an explosion in a mosque during Friday prayers in the Afghan capital, Kabul.\n",
      "Predictions: \n",
      "['A bomb explodes at a mosque in Kabul, killing a senior cleric and wounding at least 16 others. The blast occurred during Friday prayers at the mosque in the Afghan capital. The dead include a senior religious leader and a member of the local police force. The explosion occurred during prayers']\n",
      "\n"
     ]
    },
    {
     "name": "stderr",
     "output_type": "stream",
     "text": [
      "\r",
      " 17%|█▋        | 170/1022 [2:38:32<13:10:28, 55.67s/it]"
     ]
    },
    {
     "name": "stdout",
     "output_type": "stream",
     "text": [
      "input_ids shape: torch.Size([1, 58])\n",
      "Reference Summary:\n",
      "Twenty children die in a fire in Surat, India.\n",
      "Predictions: \n",
      "['The three-year-old was one of the first to be taken to the hospital. The other two were taken to a hospital in the city of Bhopal. The third was taken to hospital in a nearby town. The fourth was taken away in a helicopter.']\n",
      "\n"
     ]
    },
    {
     "name": "stderr",
     "output_type": "stream",
     "text": [
      "\r",
      " 17%|█▋        | 171/1022 [2:39:30<13:17:07, 56.20s/it]"
     ]
    },
    {
     "name": "stdout",
     "output_type": "stream",
     "text": [
      "input_ids shape: torch.Size([1, 59])\n",
      "Reference Summary:\n",
      "Mount Agung in Bali, Indonesia, erupts.\n",
      "Predictions: \n",
      "[\"Bali's airport has been closed after an eruption of the Mount Agung volcano. The volcano has been erupting since Friday night. The eruption has caused ash to cover the island's south coast. The airport has also been closed to flights. The national disaster agency said the\"]\n",
      "\n"
     ]
    },
    {
     "name": "stderr",
     "output_type": "stream",
     "text": [
      "\r",
      " 17%|█▋        | 172/1022 [2:40:27<13:20:14, 56.49s/it]"
     ]
    },
    {
     "name": "stdout",
     "output_type": "stream",
     "text": [
      "input_ids shape: torch.Size([1, 58])\n",
      "Reference Summary:\n",
      "During a police raid, six children are found unconscious inside a residential property in the Shiregreen suburb of Sheffield, England. The eldest two children, aged 13 and 14, subsequently died at Sheffield Children's Hospital; the other four children remain hospitalised.\n",
      "Predictions: \n",
      "[\"The incident happened in the early hours of the morning in Sheffield. The incident happened at a house in the city's south-east. The children were taken to hospital after the incident. Police say they are investigating the incident and are treating it as a 'major incident'\"]\n",
      "\n"
     ]
    },
    {
     "name": "stderr",
     "output_type": "stream",
     "text": [
      "\r",
      " 17%|█▋        | 173/1022 [2:41:24<13:23:21, 56.77s/it]"
     ]
    },
    {
     "name": "stdout",
     "output_type": "stream",
     "text": [
      "input_ids shape: torch.Size([1, 59])\n",
      "Reference Summary:\n",
      "Two people – a 37-year-old man and a 34-year-old woman – have been arrested under suspicion of murder at the property in Sheffield where six children were found. They remain in police custody. A murder investigation has been opened.\n",
      "Predictions: \n",
      "[\"A woman was found dead in her home in a central New Jersey apartment. She was allegedly killed by her husband, who was also found dead. Police say she was found with a knife and a broken leg. The suspect was arrested and charged with murder. The victim's family\"]\n",
      "\n"
     ]
    },
    {
     "name": "stderr",
     "output_type": "stream",
     "text": [
      "\r",
      " 17%|█▋        | 174/1022 [2:42:22<13:26:06, 57.04s/it]"
     ]
    },
    {
     "name": "stdout",
     "output_type": "stream",
     "text": [
      "input_ids shape: torch.Size([1, 59])\n",
      "Reference Summary:\n",
      "Same-sex marriage becomes legal in Taiwan, making Taiwan the first nation in Asia to recognize same-sex marriage.\n",
      "Predictions: \n",
      "[\"Taiwan's new law is the first of its kind in the world. It is a landmark decision that will allow the country to become a member of the U.S. military. The move is seen as a major step in the fight against the growing influence of the West\"]\n",
      "\n"
     ]
    },
    {
     "name": "stderr",
     "output_type": "stream",
     "text": [
      "\r",
      " 17%|█▋        | 175/1022 [2:43:19<13:26:12, 57.11s/it]"
     ]
    },
    {
     "name": "stdout",
     "output_type": "stream",
     "text": [
      "input_ids shape: torch.Size([1, 56])\n",
      "Reference Summary:\n",
      "The High Court of Kenya rules against a bid to strike down Section 162 and 165 of the Kenyan Penal Code, a sodomy law. The plaintiffs plan to appeal to the Court of Appeal.\n",
      "Predictions: \n",
      "[\"Kenya's High Court upholds a law that criminalizes same-sex relations. The ruling is a blow to gay rights activists in the country. The law was passed in the early 1990s. The court's decision is a setback for gay rights groups.\"]\n",
      "\n"
     ]
    },
    {
     "name": "stderr",
     "output_type": "stream",
     "text": [
      "\r",
      " 17%|█▋        | 176/1022 [2:44:17<13:27:18, 57.26s/it]"
     ]
    },
    {
     "name": "stdout",
     "output_type": "stream",
     "text": [
      "input_ids shape: torch.Size([1, 59])\n",
      "Reference Summary:\n",
      "In the U.S. state of Wisconsin, Jake Thomas Patterson is sentenced to life in prison for the kidnapping of Jayme Closs and the murders of her parents.\n",
      "Predictions: \n",
      "['Wisconsin man who kidnapped, killed his parents to be sentenced to life in prison. He was convicted of killing his wife and daughter in the kidnapping of 13-year-old Jayme Closs. The girl was found in a remote area of Wisconsin. She was taken by a']\n",
      "\n"
     ]
    },
    {
     "name": "stderr",
     "output_type": "stream",
     "text": [
      "\r",
      " 17%|█▋        | 177/1022 [2:45:14<13:27:28, 57.34s/it]"
     ]
    },
    {
     "name": "stdout",
     "output_type": "stream",
     "text": [
      "input_ids shape: torch.Size([1, 59])\n",
      "Reference Summary:\n",
      "The Governor of Missouri Mike Parson signs House Bill 126 into law, effective on August 28, 2019, bans all abortions in the state of Missouri at or beyond 8 weeks of pregnancy, except in cases of medical emergencies. Persons who perform abortion in the state after 8 weeks of pregnancy face 5 to 15 years in prison.\n",
      "Predictions: \n",
      "[\"The state's governor has signed a bill banning abortions after the first of the month. The bill is aimed at women who are pregnant after the eighth week of pregnancy. The law also bans abortions after a woman is raped or has a miscarriage. The state's Senate passed the bill\"]\n",
      "\n"
     ]
    },
    {
     "name": "stderr",
     "output_type": "stream",
     "text": [
      "\r",
      " 17%|█▋        | 178/1022 [2:46:12<13:26:53, 57.36s/it]"
     ]
    },
    {
     "name": "stdout",
     "output_type": "stream",
     "text": [
      "input_ids shape: torch.Size([1, 59])\n",
      "Reference Summary:\n",
      "The Board of the Congress of Deputies suspends Jordi Turull, Josep Rull, Oriol Junqueras and Jordi Sànchez Catalan leaders elected lawmakers due to they judicial situation.\n",
      "Predictions: \n",
      "[\"Spanish Parliament suspends four Catalan separatist politicians from their positions as lawmakers. The four are currently in jail during an ongoing trial for rebellion and other charges. The lawmakers are accused of rebellion and rebellion. The Catalan parliament is the lower chamber of Spain's Parliament. The suspended lawmakers are\"]\n",
      "\n"
     ]
    },
    {
     "name": "stderr",
     "output_type": "stream",
     "text": [
      "\r",
      " 18%|█▊        | 179/1022 [2:47:09<13:25:11, 57.31s/it]"
     ]
    },
    {
     "name": "stdout",
     "output_type": "stream",
     "text": [
      "input_ids shape: torch.Size([1, 58])\n",
      "Reference Summary:\n",
      "Voters in Ireland and the Czech Republic head to the polls to vote for their country's representatives in the European Parliament.\n",
      "Predictions: \n",
      "[\"The European Parliament elections are being held in the Czech Republic, Poland, Hungary and the Czechs. The Czech Republic is the only country in the EU to have a majority of the vote. The vote is being held on the last day of the European Parliament's term.\"]\n",
      "\n"
     ]
    },
    {
     "name": "stderr",
     "output_type": "stream",
     "text": [
      "\r",
      " 18%|█▊        | 180/1022 [2:48:06<13:23:50, 57.28s/it]"
     ]
    },
    {
     "name": "stdout",
     "output_type": "stream",
     "text": [
      "input_ids shape: torch.Size([1, 59])\n",
      "Reference Summary:\n",
      "United Kingdom Prime Minister Theresa May announces her resignation as leader of the Conservative Party, effective June 7. She will remain Prime Minister until a successor is elected.\n",
      "Predictions: \n",
      "[\"Theresa May will step down as British Prime Minister on June 7. She will be replaced by a new leader who will be named on June 14. May's resignation comes after a series of scandals involving her and her aides. She has been accused of being too close to the\"]\n",
      "\n"
     ]
    },
    {
     "name": "stderr",
     "output_type": "stream",
     "text": [
      "\r",
      " 18%|█▊        | 181/1022 [2:49:03<13:22:31, 57.25s/it]"
     ]
    },
    {
     "name": "stdout",
     "output_type": "stream",
     "text": [
      "input_ids shape: torch.Size([1, 59])\n",
      "Reference Summary:\n",
      "The U.S. Supreme Court temporarily blocks the redrawing of Ohio and Michigan electoral maps while it prepares to rule on whether or not partisan gerrymandering is constitutional. Lower federal courts ordered Michigan and Ohio electoral maps to be redrawn before the 2020 United States presidential election.\n",
      "Predictions: \n",
      "['The Supreme Court is weighing cases in Michigan and Ohio. The court is considering cases in which it is weighing whether to invalidate maps. The maps were drawn by federal judges who found them to be too partisan. The high court is weighing the cases in a case involving the state']\n",
      "\n"
     ]
    },
    {
     "name": "stderr",
     "output_type": "stream",
     "text": [
      "\r",
      " 18%|█▊        | 182/1022 [2:50:00<13:20:57, 57.21s/it]"
     ]
    },
    {
     "name": "stdout",
     "output_type": "stream",
     "text": [
      "input_ids shape: torch.Size([1, 56])\n",
      "Reference Summary:\n",
      "U.S. President Donald Trump bypasses Congress to approve the sale of billions of dollars' worth of weapons to Saudi Arabia, citing Iranian threats against the latter.\n",
      "Predictions: \n",
      "['Trump administration is considering a deal to sell arms to Saudi Arabia. The move would bypass Congress and allow the sale of arms to the kingdom. The U.S. is also considering a sale of weapons to the UAE, which is also selling arms to Iran.']\n",
      "\n"
     ]
    },
    {
     "name": "stderr",
     "output_type": "stream",
     "text": [
      "\r",
      " 18%|█▊        | 183/1022 [2:50:58<13:21:07, 57.29s/it]"
     ]
    },
    {
     "name": "stdout",
     "output_type": "stream",
     "text": [
      "input_ids shape: torch.Size([1, 59])\n",
      "Reference Summary:\n",
      "The South Korean film Parasite wins the 2019 Palme d'Or, the Cannes Film Festival's top prize.\n",
      "Predictions: \n",
      "[\"The film is a collaboration between the director and producer of the film. The film is about a young couple who try to get their first kiss. The movie is about the couple's relationship and their relationship with a young girl. The director is the son of former President of the\"]\n",
      "\n"
     ]
    },
    {
     "name": "stderr",
     "output_type": "stream",
     "text": [
      "\r",
      " 18%|█▊        | 184/1022 [2:51:56<13:22:10, 57.43s/it]"
     ]
    },
    {
     "name": "stdout",
     "output_type": "stream",
     "text": [
      "input_ids shape: torch.Size([1, 59])\n",
      "Reference Summary:\n",
      "Two people are killed and several are missing due to a tornado in the U.S. state of Oklahoma.\n",
      "Predictions: \n",
      "['The Oklahoma City area is in the path of a possible tornado. The tornado is believed to have hit a motel in the town of El Reno. The storm is believed the cause of the tornado was a suspected tornado. It is believed that the tornado caused damage to a motel.']\n",
      "\n"
     ]
    },
    {
     "name": "stderr",
     "output_type": "stream",
     "text": [
      "\r",
      " 18%|█▊        | 185/1022 [2:52:54<13:26:29, 57.81s/it]"
     ]
    },
    {
     "name": "stdout",
     "output_type": "stream",
     "text": [
      "input_ids shape: torch.Size([1, 59])\n",
      "Reference Summary:\n",
      "A boat sinking on Lake Mai-Ndombe in western Democratic Republic of the Congo kills at least 45 people with 200 passengers still missing. The  vessel was carrying more than 400 people, the  majority of whom were teachers going to collect their salaries.\n",
      "Predictions: \n",
      "[\"At least 30 people are dead and another 200 are missing after a boat sank on a lake in western Congo. The boat was carrying people on a trip to a lake. The lake is in the town of Mboo Wemba. The mayor of Mpo'o Wem\"]\n",
      "\n"
     ]
    },
    {
     "name": "stderr",
     "output_type": "stream",
     "text": [
      "\r",
      " 18%|█▊        | 186/1022 [2:53:52<13:24:43, 57.76s/it]"
     ]
    },
    {
     "name": "stdout",
     "output_type": "stream",
     "text": [
      "input_ids shape: torch.Size([1, 59])\n",
      "Reference Summary:\n",
      "Citizens in Latvia, Malta, Slovakia and the French overseas territories head to the polls to vote in the latest European Parliament election. Additionally, voting in the Czech Republic continues for the second day.\n",
      "Predictions: \n",
      "['The European Parliament elections are taking place in Slovakia, Germany, France and other countries. The European Parliament is the parliament of the European Union. The elections are being held in a series of countries across the EU. The vote is taking place on Saturday. The results will be announced']\n",
      "\n"
     ]
    },
    {
     "name": "stderr",
     "output_type": "stream",
     "text": [
      "\r",
      " 18%|█▊        | 187/1022 [2:54:50<13:24:04, 57.78s/it]"
     ]
    },
    {
     "name": "stdout",
     "output_type": "stream",
     "text": [
      "input_ids shape: torch.Size([1, 59])\n",
      "Reference Summary:\n",
      "Hundreds of counter-protesters show up and protest against an estimated nine attendees of a planned rally by a Ku Klux Klan-affiliated group in Dayton, Ohio.\n",
      "Predictions: \n",
      "['The rally was held in Dayton, Ohio. The group was attended by a small group of Ku Klux Klan members. The rally was attended and attended by hundreds of protesters. The city of Dayton is in the state of Ohio. It is the first time the KKK has held a']\n",
      "\n"
     ]
    },
    {
     "name": "stderr",
     "output_type": "stream",
     "text": [
      "\r",
      " 18%|█▊        | 188/1022 [2:55:48<13:24:01, 57.84s/it]"
     ]
    },
    {
     "name": "stdout",
     "output_type": "stream",
     "text": [
      "input_ids shape: torch.Size([1, 59])\n",
      "Reference Summary:\n",
      "Binary Aten asteroid (66391) 1999 KW4 and its minor-planet moon make their closest-ever recorded flyby of Earth at 3.2 million miles away. The asteroid will approach even closer at 0.0155 AU (2,320,000 km) from Earth in 2036, and is the largest asteroid to approach Earth until (4953) 1990 MU in June 2027.\n",
      "Predictions: \n",
      "[\"Asteroid will be a 'magnificent' object, with a moon of its own. It will be the first time in history that a moon has been seen in the same orbit as an asteroid. The asteroid will be at the same time as the moon, and\"]\n",
      "\n"
     ]
    },
    {
     "name": "stderr",
     "output_type": "stream",
     "text": [
      "\r",
      " 18%|█▊        | 189/1022 [2:56:46<13:22:51, 57.83s/it]"
     ]
    },
    {
     "name": "stdout",
     "output_type": "stream",
     "text": [
      "input_ids shape: torch.Size([1, 59])\n",
      "Reference Summary:\n",
      "The Toronto Raptors defeat the Milwaukee Bucks in Game 6 and advance to the NBA Finals for the first time in the team's history.\n",
      "Predictions: \n",
      "['The Toronto Raptors beat the Milwaukee Bucks to win the NBA Finals. The Raptors are the first team to reach the NBA finals in their history. The Bucks were the first to reach three straight NBA Finals in the 1990s. The NBA Finals are the most successful season in NBA history']\n",
      "\n"
     ]
    },
    {
     "name": "stderr",
     "output_type": "stream",
     "text": [
      "\r",
      " 19%|█▊        | 190/1022 [2:57:43<13:20:30, 57.73s/it]"
     ]
    },
    {
     "name": "stdout",
     "output_type": "stream",
     "text": [
      "input_ids shape: torch.Size([1, 59])\n",
      "Reference Summary:\n",
      "Four people are killed and seven others are injured in three blasts in the city of Kathmandu, Nepal. Police believe a Maoist splinter group may have been responsible.\n",
      "Predictions: \n",
      "['Police say they are investigating the blasts in Kathmandu. The explosions occurred in the capital, Kathmandun, on Sunday. Police say they suspect a communist group was behind the blasts. The blasts killed three people and injured at least five others. The blast occurred in Kath']\n",
      "\n"
     ]
    },
    {
     "name": "stderr",
     "output_type": "stream",
     "text": [
      "\r",
      " 19%|█▊        | 191/1022 [2:58:41<13:18:41, 57.67s/it]"
     ]
    },
    {
     "name": "stdout",
     "output_type": "stream",
     "text": [
      "input_ids shape: torch.Size([1, 59])\n",
      "Reference Summary:\n",
      "Iraq sentences three French militants to death for their involvement in ISIS.\n",
      "Predictions: \n",
      "['Iraqi court sentences three French citizens to death for joining Islamic State group. The three French nationals were sentenced to death by a court in Baghdad. The court said the three were members of the Islamic State. The French are believed to have been fighting with the group in Iraq and']\n",
      "\n"
     ]
    },
    {
     "name": "stderr",
     "output_type": "stream",
     "text": [
      "\r",
      " 19%|█▉        | 192/1022 [2:59:38<13:16:05, 57.55s/it]"
     ]
    },
    {
     "name": "stdout",
     "output_type": "stream",
     "text": [
      "input_ids shape: torch.Size([1, 57])\n",
      "Reference Summary:\n",
      "A truck bomb explodes at a popular market in the village of Nineveh, Iraq, killing 5 and injuring 8.\n",
      "Predictions: \n",
      "['A car bomb has killed five people and wounded eight in a northwestern village near the Syrian border. A military statement said the car was parked near a market in the village of Qaim. The car was detonated near a marketplace in the town of Qamishli.']\n",
      "\n"
     ]
    },
    {
     "name": "stderr",
     "output_type": "stream",
     "text": [
      "\r",
      " 19%|█▉        | 193/1022 [3:00:35<13:13:29, 57.43s/it]"
     ]
    },
    {
     "name": "stdout",
     "output_type": "stream",
     "text": [
      "input_ids shape: torch.Size([1, 59])\n",
      "Reference Summary:\n",
      "Four soldiers of the Chadian Army and a journalist are killed following a Boko Haram attack near the northern shore of Lake Chad. Boko Haram have reportedly continued their incursion into northern Chad.\n",
      "Predictions: \n",
      "[\"Boko Haram has been fighting in Nigeria's Borno state. The Boko Haram group has been terrorising the region for years. The group has killed hundreds of people in recent months. The Nigerian military has been battling the group in the Borno region. The military has said\"]\n",
      "\n"
     ]
    },
    {
     "name": "stderr",
     "output_type": "stream",
     "text": [
      "\r",
      " 19%|█▉        | 194/1022 [3:01:32<13:11:09, 57.33s/it]"
     ]
    },
    {
     "name": "stdout",
     "output_type": "stream",
     "text": [
      "input_ids shape: torch.Size([1, 58])\n",
      "Reference Summary:\n",
      "Four people are killed in an attack on a Catholic church in northern Burkina Faso, the latest in a string of assaults on Christian places of worship in the region.\n",
      "Predictions: \n",
      "['The attack is the latest in a series of attacks on Christians in the country. The attack took place in the northern town of Ouagadougou. The church was attacked by a group of men dressed as soldiers. The attackers were armed with automatic weapons and knives.']\n",
      "\n"
     ]
    },
    {
     "name": "stderr",
     "output_type": "stream",
     "text": [
      "\r",
      " 19%|█▉        | 195/1022 [3:02:29<13:08:54, 57.24s/it]"
     ]
    },
    {
     "name": "stdout",
     "output_type": "stream",
     "text": [
      "input_ids shape: torch.Size([1, 56])\n",
      "Reference Summary:\n",
      "The initial stage of Sydney Metro, Australia's first automated rapid transit system, opens to the public.\n",
      "Predictions: \n",
      "[\"Sydney's new metro line is set to be the first to be fully operational. The new line will be the city's first to have a fully-functioning, fully-automated metro system. The first train was launched on Monday morning.\"]\n",
      "\n"
     ]
    },
    {
     "name": "stderr",
     "output_type": "stream",
     "text": [
      "\r",
      " 19%|█▉        | 196/1022 [3:03:26<13:07:12, 57.18s/it]"
     ]
    },
    {
     "name": "stdout",
     "output_type": "stream",
     "text": [
      "input_ids shape: torch.Size([1, 59])\n",
      "Reference Summary:\n",
      "Teva Pharmaceutical Industries announces, two days before their scheduled trial, it has agreed to pay  $85 million to the U.S. state of Oklahoma  in connection with allegations that it helped fuel the U.S. opioid epidemic.\n",
      "Predictions: \n",
      "[\"The state of Oklahoma is suing the drugmakers for their role in the state's opioid crisis. The lawsuit is the first of its kind in the U.S. The state is suing to get back at the drug companies for their part in the crisis. It's the first\"]\n",
      "\n"
     ]
    },
    {
     "name": "stderr",
     "output_type": "stream",
     "text": [
      "\r",
      " 19%|█▉        | 197/1022 [3:04:23<13:04:41, 57.07s/it]"
     ]
    },
    {
     "name": "stdout",
     "output_type": "stream",
     "text": [
      "input_ids shape: torch.Size([1, 57])\n",
      "Reference Summary:\n",
      "A strong earthquake measuring Mw 8.0 strikes northeastern Peru, causing one death and several injuries.\n",
      "Predictions: \n",
      "['The quake struck at a depth of about 10 miles, the USGS says. The quake was felt in the capital of Lima, Lima, and in the north of the country. The earthquake was felt across the country, with a strong aftershock in the south.']\n",
      "\n"
     ]
    },
    {
     "name": "stderr",
     "output_type": "stream",
     "text": [
      "\r",
      " 19%|█▉        | 198/1022 [3:05:20<13:04:15, 57.11s/it]"
     ]
    },
    {
     "name": "stdout",
     "output_type": "stream",
     "text": [
      "input_ids shape: torch.Size([1, 59])\n",
      "Reference Summary:\n",
      "In addition to the European Parliament and regional elections, voters in Belgium head to the polls to vote for the members of the Chamber of Representatives.\n",
      "Predictions: \n",
      "[\"The European Parliament elections are held on May 25. The European Parliament is the parliament of the European Union. The vote is held in the European Parliament, which is made up of the EU's 28 member states. The election is held on the same day as the European elections in\"]\n",
      "\n"
     ]
    },
    {
     "name": "stderr",
     "output_type": "stream",
     "text": [
      "\r",
      " 19%|█▉        | 199/1022 [3:05:35<10:07:43, 44.31s/it]"
     ]
    },
    {
     "name": "stdout",
     "output_type": "stream",
     "text": [
      "input_ids shape: torch.Size([1, 58])\n",
      "Reference Summary:\n",
      "Lithuanian citizens also are heading to the polls to elect their future president in the second round of the latest presidential election.\n",
      "Predictions: \n",
      "[\"President of Lithuania's presidential election is a former prime minister. The election was held on May 12. The winner of the election will be announced on May 14. The incumbent, Lithuanian President Dalia Grybauskaite, is expected to win a second term.\"]\n",
      "\n"
     ]
    },
    {
     "name": "stderr",
     "output_type": "stream",
     "text": [
      "\r",
      " 20%|█▉        | 200/1022 [3:06:31<10:58:18, 48.05s/it]"
     ]
    },
    {
     "name": "stdout",
     "output_type": "stream",
     "text": [
      "input_ids shape: torch.Size([1, 59])\n",
      "Reference Summary:\n",
      "Papua New Guinea's Prime Minister Peter O'Neill announces his resignation over disputes of him holding dual citizenship and after weeks of defections from his coalition government.\n",
      "Predictions: \n",
      "[\"Papua New Guinea PM Peter O'Neill resigns after seven years in office. O'Neil's resignation follows weeks of defections from his government. O'tNeill's resignation comes after a series of high-profile defections. O’Neill's government has been in\"]\n",
      "\n"
     ]
    },
    {
     "name": "stderr",
     "output_type": "stream",
     "text": [
      "\r",
      " 20%|█▉        | 201/1022 [3:07:28<11:33:50, 50.71s/it]"
     ]
    },
    {
     "name": "stdout",
     "output_type": "stream",
     "text": [
      "input_ids shape: torch.Size([1, 59])\n",
      "Reference Summary:\n",
      "Greek Prime Minister Alexis Tsipras, whose term expires in October, calls for snap elections following his leftist Syriza party's heavy defeat by the opposition conservatives in the European Parliament elections.\n",
      "Predictions: \n",
      "[\"Greek PM Alexis Tsipras has called for a snap election after his party's defeat in European elections. The Greek government's Syriza party was defeated by the leftist Syriza in the European Parliament elections. Tsipra's party was the largest in the Greek parliament, but\"]\n",
      "\n"
     ]
    },
    {
     "name": "stderr",
     "output_type": "stream",
     "text": [
      "\r",
      " 20%|█▉        | 202/1022 [3:08:25<11:58:11, 52.55s/it]"
     ]
    },
    {
     "name": "stdout",
     "output_type": "stream",
     "text": [
      "input_ids shape: torch.Size([1, 59])\n",
      "Reference Summary:\n",
      "2016 IndyCar Series champion Simon Pagenaud of France wins the 103rd running of the Indianapolis 500.\n",
      "Predictions: \n",
      "['The Indy 500 is the most prestigious race in the world. The race is held every year on the weekend of May 28-28. The winner is crowned the winner of the Indianapolis 500. The event is the biggest race in IndyCar history. The Indy 500 has been held']\n",
      "\n"
     ]
    },
    {
     "name": "stderr",
     "output_type": "stream",
     "text": [
      "\r",
      " 20%|█▉        | 203/1022 [3:09:22<12:14:59, 53.85s/it]"
     ]
    },
    {
     "name": "stdout",
     "output_type": "stream",
     "text": [
      "input_ids shape: torch.Size([1, 58])\n",
      "Reference Summary:\n",
      "Finland defeats Canada to win gold medal at Ice Hockey World Championship in Slovakia.\n",
      "Predictions: \n",
      "[\"Canada's win over the Czech Republic was the first of the tournament. The game was a rematch of the 2010 final, which Canada won 3-1. The Czechs had won the previous two games. The final was a 3-2 victory for the Czechs.\"]\n",
      "\n"
     ]
    },
    {
     "name": "stderr",
     "output_type": "stream",
     "text": [
      "\r",
      " 20%|█▉        | 204/1022 [3:10:19<12:25:40, 54.70s/it]"
     ]
    },
    {
     "name": "stdout",
     "output_type": "stream",
     "text": [
      "input_ids shape: torch.Size([1, 56])\n",
      "Reference Summary:\n",
      "French police arrest four people in connection with last Friday's bombing in Lyon's historic city center that injured 13 people. Anti-terrorist prosecutors are leading the investigation. District mayor Denis Broliquier said the bomb was a relatively weak explosive that was too small to kill. No one has claimed responsibility for the attack.\n",
      "Predictions: \n",
      "['French police arrest a suspect in a Lyon bomb attack that wounded 13. The attack took place last week. The suspect was arrested in the city of Lyon. The blast injured 13 people. The incident occurred in the French city of Lille. The suspects are being questioned.']\n",
      "\n"
     ]
    },
    {
     "name": "stderr",
     "output_type": "stream",
     "text": [
      "\r",
      " 20%|██        | 205/1022 [3:11:16<12:34:00, 55.37s/it]"
     ]
    },
    {
     "name": "stdout",
     "output_type": "stream",
     "text": [
      "input_ids shape: torch.Size([1, 58])\n",
      "Reference Summary:\n",
      "Over Sunday and Monday, 55 people die of asphyxiation in various prisons across the Brazilian city of Manaus.\n",
      "Predictions: \n",
      "['Authorities say 42 inmates were killed in three prisons in the city of Manaus. The deaths come a day after 15 inmates were found dead in a prison in the same city. The prisons are in the northern state of Amazonas. The death toll is expected to rise.']\n",
      "\n"
     ]
    },
    {
     "name": "stderr",
     "output_type": "stream",
     "text": [
      "\r",
      " 20%|██        | 206/1022 [3:12:12<12:38:29, 55.77s/it]"
     ]
    },
    {
     "name": "stdout",
     "output_type": "stream",
     "text": [
      "input_ids shape: torch.Size([1, 56])\n",
      "Reference Summary:\n",
      "Italian firm Fiat Chrysler  proposes a merger with French carmaker Renault. The new company will be based in the Netherlands and will be listed on the Milan, Paris and New York stock exchanges.\n",
      "Predictions: \n",
      "[\"Fiat Chrysler and Renault are in talks to merge. The move would create a new, more powerful, global carmaker. The deal would be a major boost for the French carmaker's struggling French operations. The merger would also create a global car company.\"]\n",
      "\n"
     ]
    },
    {
     "name": "stderr",
     "output_type": "stream",
     "text": [
      "\r",
      " 20%|██        | 207/1022 [3:13:09<12:42:42, 56.15s/it]"
     ]
    },
    {
     "name": "stdout",
     "output_type": "stream",
     "text": [
      "input_ids shape: torch.Size([1, 59])\n",
      "Reference Summary:\n",
      "At least 45 people die when a boat sinks on Lake Mai-Ndombe in western Democratic Republic of Congo.\n",
      "Predictions: \n",
      "['Authorities say the boat was carrying a group of people on a lake in western Congo. The boat was found to be sinking in the lake. The incident occurred on Lake Chautauqua in western DRC. The cause of the sinking is still unknown. The search is ongoing']\n",
      "\n"
     ]
    },
    {
     "name": "stderr",
     "output_type": "stream",
     "text": [
      "\r",
      " 20%|██        | 208/1022 [3:14:06<12:45:01, 56.39s/it]"
     ]
    },
    {
     "name": "stdout",
     "output_type": "stream",
     "text": [
      "input_ids shape: torch.Size([1, 59])\n",
      "Reference Summary:\n",
      "Eight miners die in a goldmine explosion in central Zimbabwe.\n",
      "Predictions: \n",
      "[\"The incident occurred at a mine in Zimbabwe's capital, Harare. The incident is the latest in a series of incidents involving the country's illegal mining industry. The mine is located in the town of Mafoko, north of the capital Harare, and is owned by\"]\n",
      "\n"
     ]
    },
    {
     "name": "stderr",
     "output_type": "stream",
     "text": [
      "\r",
      " 20%|██        | 209/1022 [3:15:01<12:35:59, 55.79s/it]"
     ]
    },
    {
     "name": "stdout",
     "output_type": "stream",
     "text": [
      "input_ids shape: torch.Size([1, 59])\n",
      "Reference Summary:\n",
      "An airplane crashes in Sergipe, Brazil, killing Brazilian singer Gabriel Diniz.\n",
      "Predictions: \n",
      "['Gabriel Diniz, 28, died in a plane crash on Monday. He was a Latin pop star. He is known for his hit song \"Jenifer\" He was on his way to a concert in Brazil. He died in the crash. He had been on his first']\n",
      "\n"
     ]
    },
    {
     "name": "stderr",
     "output_type": "stream",
     "text": [
      "\r",
      " 21%|██        | 210/1022 [3:15:58<12:41:21, 56.26s/it]"
     ]
    },
    {
     "name": "stdout",
     "output_type": "stream",
     "text": [
      "input_ids shape: torch.Size([1, 59])\n",
      "Reference Summary:\n",
      "Multiple destructive tornadoes strike Dayton, Ohio, and surrounding communities. There was at least one known fatality in Celina. Multiple homes and businesses were destroyed, with reports of numerous power outages and a boil and water conservation advisory issued for Dayton.\n",
      "Predictions: \n",
      "['Tornadoes hit Ohio and Indiana, leaving a trail of destruction. The storms were so close together that one of the tornadoes crossed the path of another. The storm system was so strong that it caused a path of destruction in Ohio. The tornado damage was so bad that']\n",
      "\n"
     ]
    },
    {
     "name": "stderr",
     "output_type": "stream",
     "text": [
      "\r",
      " 21%|██        | 211/1022 [3:16:55<12:43:23, 56.48s/it]"
     ]
    },
    {
     "name": "stdout",
     "output_type": "stream",
     "text": [
      "input_ids shape: torch.Size([1, 59])\n",
      "Reference Summary:\n",
      "Romania's Supreme Court denies  Social Democratic Party leader Liviu Dragnea's appeal of his conviction and three-and-a-half year prison sentence for corruption.\n",
      "Predictions: \n",
      "[\"Romania's ruling party leader is sentenced to 3 years in prison for corruption. The ruling party's leader is the country's most powerful politician. The court found him guilty of corruption and sentenced him to 3½ years in jail. The sentence was handed down by a court in\"]\n",
      "\n"
     ]
    },
    {
     "name": "stderr",
     "output_type": "stream",
     "text": [
      "\r",
      " 21%|██        | 212/1022 [3:17:53<12:46:18, 56.76s/it]"
     ]
    },
    {
     "name": "stdout",
     "output_type": "stream",
     "text": [
      "input_ids shape: torch.Size([1, 59])\n",
      "Reference Summary:\n",
      "Brazil prison officials report at least 42 prisoners are found strangled to death in four separate jails in the state of Amazonas. Yesterday, 15 prisoners were killed in a fight between rival prison gangs at a facility near the Amazonas capital Manaus.\n",
      "Predictions: \n",
      "['Brazilian authorities say at least 40 prisoners were killed in a prison riot. The deaths occurred in the northern city of Manaus. The riot was sparked by a prison uprising. The death toll is expected to rise. The inmates were killed by guards who were trying to break up']\n",
      "\n"
     ]
    },
    {
     "name": "stderr",
     "output_type": "stream",
     "text": [
      "\r",
      " 21%|██        | 213/1022 [3:18:50<12:47:04, 56.89s/it]"
     ]
    },
    {
     "name": "stdout",
     "output_type": "stream",
     "text": [
      "input_ids shape: torch.Size([1, 59])\n",
      "Reference Summary:\n",
      "Austrian Chancellor Sebastian Kurz loses a no-confidence vote following a corruption scandal over a secret video.\n",
      "Predictions: \n",
      "[\"Austrian Chancellor Sebastian Kurz is ousted in a no-confidence vote. The vote was held after a series of scandals involving the government. Kurz's government was forced to resign after a scandal involving a sex tape. The scandal was revealed after a video of the tape was leaked to\"]\n",
      "\n"
     ]
    },
    {
     "name": "stderr",
     "output_type": "stream",
     "text": [
      "\r",
      " 21%|██        | 214/1022 [3:19:47<12:46:22, 56.91s/it]"
     ]
    },
    {
     "name": "stdout",
     "output_type": "stream",
     "text": [
      "input_ids shape: torch.Size([1, 59])\n",
      "Reference Summary:\n",
      "In separate press conferences, former Liberal cabinet members Jody Wilson-Raybould and Jane Philpott, who both resigned over the government's handling of the SNC-Lavalin criminal case, announce they are  running as independents in the October 2019 elections.\n",
      "Predictions: \n",
      "['Former Liberal cabinet ministers to run for office as independents. Jody Wilson-Raybould and Jane Philpott will be running for office in the next election. They are both former ministers in the Liberal government. They were both forced out of the cabinet in the wake of']\n",
      "\n"
     ]
    },
    {
     "name": "stderr",
     "output_type": "stream",
     "text": [
      "\r",
      " 21%|██        | 215/1022 [3:20:44<12:45:59, 56.95s/it]"
     ]
    },
    {
     "name": "stdout",
     "output_type": "stream",
     "text": [
      "input_ids shape: torch.Size([1, 59])\n",
      "Reference Summary:\n",
      "A man stabs two people to death and wounds 17 others, including sixteen children, in Kawasaki, Japan, before slitting his own throat; he later dies of his wounds. Three people are in critical condition.\n",
      "Predictions: \n",
      "['A man with a knife attacks a bus stop in Tokyo, killing at least 19 people, including 13 children. The attack occurred during the morning rush hour. The man was seen swinging a knife at a crowded bus stop. The attacker was believed to be a man in his 20']\n",
      "\n"
     ]
    },
    {
     "name": "stderr",
     "output_type": "stream",
     "text": [
      "\r",
      " 21%|██        | 216/1022 [3:21:38<12:33:12, 56.07s/it]"
     ]
    },
    {
     "name": "stdout",
     "output_type": "stream",
     "text": [
      "input_ids shape: torch.Size([1, 58])\n",
      "Reference Summary:\n",
      "Former Tehran Mayor Mohammad-Ali Najafi is arrested after confessing to the murder of his wife.\n",
      "Predictions: \n",
      "['Iranian police arrest a man who allegedly shot dead his wife. The woman was the wife of a former Iranian vice president. The man was a former mayor of Tehran. He was arrested after he allegedly shot his wife dead. The wife was found dead in her home.']\n",
      "\n"
     ]
    },
    {
     "name": "stderr",
     "output_type": "stream",
     "text": [
      "\r",
      " 21%|██        | 217/1022 [3:22:35<12:38:03, 56.50s/it]"
     ]
    },
    {
     "name": "stdout",
     "output_type": "stream",
     "text": [
      "input_ids shape: torch.Size([1, 57])\n",
      "Reference Summary:\n",
      "Huawei files for a summary judgment, seeking to expedite its March lawsuit against the U.S. Government, challenging the constitutionality of Section 889 of the National Defense Authorization Act that bans U.S. executive government agencies from procuring Huawei and ZTE telecommunications equipment based on national security.\n",
      "Predictions: \n",
      "['Huawei is a Chinese company that makes equipment for the Chinese government. The company is also a major supplier of telecoms equipment to the U.S. government. It is now in the process of getting a license to sell its equipment in the U.,S.']\n",
      "\n"
     ]
    },
    {
     "name": "stderr",
     "output_type": "stream",
     "text": [
      "\r",
      " 21%|██▏       | 218/1022 [3:23:32<12:39:57, 56.71s/it]"
     ]
    },
    {
     "name": "stdout",
     "output_type": "stream",
     "text": [
      "input_ids shape: torch.Size([1, 59])\n",
      "Reference Summary:\n",
      "Opposition leaders lead a two-day protest in Sudan over stalemate in negotiations between the military and opposition alliance groups over the transition of government following the 2019 Sudanese coup d'état.\n",
      "Predictions: \n",
      "[\"Sudan's opposition and protest groups have called for a general strike. The strike is to protest against the government's handling of the country's political crisis. The opposition says it wants to see the country return to a civilian-led government. The government says it is committed\"]\n",
      "\n"
     ]
    },
    {
     "name": "stderr",
     "output_type": "stream",
     "text": [
      "\r",
      " 21%|██▏       | 219/1022 [3:24:30<12:42:34, 56.98s/it]"
     ]
    },
    {
     "name": "stdout",
     "output_type": "stream",
     "text": [
      "input_ids shape: torch.Size([1, 59])\n",
      "Reference Summary:\n",
      "Rare-earth metals are discovered in KELT-9b, an exoplanet located 650 light-years away from Earth.\n",
      "Predictions: \n",
      "[\"The U.S. is trying to get more of the rare earths in its arsenal. The U.N. says the world's largest producer of rare earth metals is now in danger of losing its market. The United States is trying in part to get the world to\"]\n",
      "\n"
     ]
    },
    {
     "name": "stderr",
     "output_type": "stream",
     "text": [
      "\r",
      " 22%|██▏       | 220/1022 [3:25:28<12:43:32, 57.12s/it]"
     ]
    },
    {
     "name": "stdout",
     "output_type": "stream",
     "text": [
      "input_ids shape: torch.Size([1, 59])\n",
      "Reference Summary:\n",
      "Indian record label and film production company T-Series' most-subscribed YouTube channel reaches 100 million subscribers.\n",
      "Predictions: \n",
      "['T-Series is the first YouTube channel to reach 100 million subscribers. The channel is owned by Indian music label T-Series. The company has been in business since 2007. T-series is the second most popular YouTube channel after PewDiePie. The first was founded by']\n",
      "\n"
     ]
    },
    {
     "name": "stderr",
     "output_type": "stream",
     "text": [
      "\r",
      " 22%|██▏       | 221/1022 [3:26:25<12:44:00, 57.23s/it]"
     ]
    },
    {
     "name": "stdout",
     "output_type": "stream",
     "text": [
      "input_ids shape: torch.Size([1, 59])\n",
      "Reference Summary:\n",
      "The Hableány, a sightseeing river cruise ship on the Danube in Budapest, capsizes and sinks with 34 South Korean tourists on board. At least seven people are killed and 19 remain missing.\n",
      "Predictions: \n",
      "['The boat was carrying a group of tourists from South Korea. It was carrying more than 30 people on board. The boat was traveling on the Danube River in Hungary. The incident happened in the early hours of Thursday morning. The passengers were on a boat from South Korean tourist']\n",
      "\n"
     ]
    },
    {
     "name": "stderr",
     "output_type": "stream",
     "text": [
      "\r",
      " 22%|██▏       | 222/1022 [3:27:22<12:43:21, 57.25s/it]"
     ]
    },
    {
     "name": "stdout",
     "output_type": "stream",
     "text": [
      "input_ids shape: torch.Size([1, 59])\n",
      "Reference Summary:\n",
      "A 55-year-old pediatrician, Ricardo Russo, is arrested at the Hospital Garrahan in Buenos Aires, Argentina, where he was Chief of the Immunology Department. He is accused of sexually abusing minors, distributing and possessing child pornography, including handicapped children and babies. He was wanted by the U.S. FBI and public prosecutors in Brazil.\n",
      "Predictions: \n",
      "[\"Argentine pediatrician detained for child pornography. Police detained him for allegedly producing and distributing child pornography, authorities say. He was a chief pediatrician at a respected children's hospital. He is accused of producing and distribution child pornography in Argentina. He has been detained for allegedly produce and\"]\n",
      "\n"
     ]
    },
    {
     "name": "stderr",
     "output_type": "stream",
     "text": [
      "\r",
      " 22%|██▏       | 223/1022 [3:28:20<12:42:25, 57.25s/it]"
     ]
    },
    {
     "name": "stdout",
     "output_type": "stream",
     "text": [
      "input_ids shape: torch.Size([1, 59])\n",
      "Reference Summary:\n",
      "Maine becomes the 17th U.S. state to ban conversion therapy for minors.\n",
      "Predictions: \n",
      "['Maine\\'s state legislature has passed a bill to expand the state\\'s state-funded \"right to try\" program. The bill would allow the state to use the program to help the state make up for lost revenue. The state\\'s governor has said the program is a way']\n",
      "\n"
     ]
    },
    {
     "name": "stderr",
     "output_type": "stream",
     "text": [
      "\r",
      " 22%|██▏       | 224/1022 [3:29:17<12:40:11, 57.16s/it]"
     ]
    },
    {
     "name": "stdout",
     "output_type": "stream",
     "text": [
      "input_ids shape: torch.Size([1, 56])\n",
      "Reference Summary:\n",
      "Egils Levits, a Judge of the European Court of Justice, is elected President by the Saeima.\n",
      "Predictions: \n",
      "[\"A judge in the state's highest court has been appointed to a new term. The judge is a member of the court's ruling panel. The court has a history of being a hotbed of controversy. The new judge is the son of a former judge.\"]\n",
      "\n"
     ]
    },
    {
     "name": "stderr",
     "output_type": "stream",
     "text": [
      "\r",
      " 22%|██▏       | 225/1022 [3:30:14<12:39:38, 57.19s/it]"
     ]
    },
    {
     "name": "stdout",
     "output_type": "stream",
     "text": [
      "input_ids shape: torch.Size([1, 59])\n",
      "Reference Summary:\n",
      "Israel is expected to hold a new election on September 17 as Prime Minister Benjamin Netanyahu fails to form a government.\n",
      "Predictions: \n",
      "[\"Israel's PM Benjamin Netanyahu has been in office since May 14. He has been trying to form a coalition government since the last election. Netanyahu's government has been unable to form an alliance with the opposition. Netanyahu has said he will not resign if he cannot form a government.\"]\n",
      "\n"
     ]
    },
    {
     "name": "stderr",
     "output_type": "stream",
     "text": [
      "\r",
      " 22%|██▏       | 226/1022 [3:31:11<12:39:15, 57.23s/it]"
     ]
    },
    {
     "name": "stdout",
     "output_type": "stream",
     "text": [
      "input_ids shape: torch.Size([1, 59])\n",
      "Reference Summary:\n",
      "The Institute of Electrical and Electronics Engineers (IEEE) bans Huawei scientists from reviewing submissions to its peer-reviewed journals, due to the \"severe legal implications\" of U.S. sanctions against the Chinese company.\n",
      "Predictions: \n",
      "[\"The Chinese tech giant is a major supplier of the U.S. government's mobile network. The company is also a major source of business for the U-turning of the Chinese government. The U.N. has said it will not allow Huawei to use its network\"]\n",
      "\n"
     ]
    },
    {
     "name": "stderr",
     "output_type": "stream",
     "text": [
      "\r",
      " 22%|██▏       | 227/1022 [3:32:08<12:37:49, 57.19s/it]"
     ]
    },
    {
     "name": "stdout",
     "output_type": "stream",
     "text": [
      "input_ids shape: torch.Size([1, 59])\n",
      "Reference Summary:\n",
      "An explosive device is detonated in a commercial center in the Colombian city of Cúcuta, on the border with Venezuela, with at least 12 injured.\n",
      "Predictions: \n",
      "[\"Venezuela's gasoline shortages are starting to affect some cities in Colombia. The shortages are affecting some cities, including the Colombian border city of Cucuta. The Venezuelan government has been blaming the shortages on a fuel shortage. The country's president has blamed the shortages in part\"]\n",
      "\n"
     ]
    },
    {
     "name": "stderr",
     "output_type": "stream",
     "text": [
      "\r",
      " 22%|██▏       | 228/1022 [3:33:06<12:39:16, 57.38s/it]"
     ]
    },
    {
     "name": "stdout",
     "output_type": "stream",
     "text": [
      "input_ids shape: torch.Size([1, 59])\n",
      "Reference Summary:\n",
      "Six explosive devices detonated in several locations in Kirkuk, Iraq kill 5 people and injure 20 others.\n",
      "Predictions: \n",
      "['The blasts occurred in the northern city of Kirkuk. At least four people were killed and at least 23 injured. The blasts occurred at a gas station, a hospital and a residential building. The blast occurred in a residential area of the city. The city is in the Iraqi']\n",
      "\n"
     ]
    },
    {
     "name": "stderr",
     "output_type": "stream",
     "text": [
      "\r",
      " 22%|██▏       | 229/1022 [3:34:04<12:39:23, 57.46s/it]"
     ]
    },
    {
     "name": "stdout",
     "output_type": "stream",
     "text": [
      "input_ids shape: torch.Size([1, 59])\n",
      "Reference Summary:\n",
      "A suicide bombing near a military training center in the Afghan capital city of Kabul kills 6 people and leaves 6 others injured. The Islamic State of Iraq and the Levant – Khorasan Province claims responsibility (Press TV)\n",
      "Predictions: \n",
      "['The blast occurred in the capital Kabul. The attack was carried out by a suicide bomber. The blast targeted a military academy in the city. The Taliban claim responsibility for the attack. The suicide bomber was killed in the attack, which also wounded six people. The attacker was killed']\n",
      "\n"
     ]
    },
    {
     "name": "stderr",
     "output_type": "stream",
     "text": [
      "\r",
      " 23%|██▎       | 230/1022 [3:35:01<12:38:39, 57.47s/it]"
     ]
    },
    {
     "name": "stdout",
     "output_type": "stream",
     "text": [
      "input_ids shape: torch.Size([1, 59])\n",
      "Reference Summary:\n",
      "A study, published in the journal Science, finds a genetically enhanced fungus that produces spider toxin  can rapidly kill huge numbers of the mosquitoes that spread malaria. Trials held  in Burkina Faso showed mosquito populations collapsed by 99% within 45 days. The fungus did not affect other insects, such as bees.\n",
      "Predictions: \n",
      "['Scientists have genetically modified a fungus to produce a venom that kills mosquitoes. The fungus is a type of spider fungus that can be used to create a venomous spider. The venom can kill mosquitoes that carry malaria. The scientists hope to use the fungus to combat the disease in Africa']\n",
      "\n"
     ]
    },
    {
     "name": "stderr",
     "output_type": "stream",
     "text": [
      "\r",
      " 23%|██▎       | 231/1022 [3:35:58<12:36:23, 57.37s/it]"
     ]
    },
    {
     "name": "stdout",
     "output_type": "stream",
     "text": [
      "input_ids shape: torch.Size([1, 59])\n",
      "Reference Summary:\n",
      "Sixty new cases in the past week are reported, bringing this year's total to 971 cases in 26 U.S. states – the highest since 1994. The CDC warns, \"If these outbreaks continue through summer and fall, the United States may lose its measles elimination status.\" (BBC)\n",
      "Predictions: \n",
      "['The U.S. has had more than 1,000 measles cases in the past year. The number of cases is the highest since the first outbreak in 1994. The U.N. has said the number of measles cases is at its highest since records began in 1993.']\n",
      "\n"
     ]
    },
    {
     "name": "stderr",
     "output_type": "stream",
     "text": [
      "\r",
      " 23%|██▎       | 232/1022 [3:36:56<12:35:12, 57.36s/it]"
     ]
    },
    {
     "name": "stdout",
     "output_type": "stream",
     "text": [
      "input_ids shape: torch.Size([1, 59])\n",
      "Reference Summary:\n",
      "U.S. President Donald Trump announces a 5% import tariff on all products from Mexico, effective June 10 and rising in steps to 25% by October, \"until the illegal immigration problem is remedied\".\n",
      "Predictions: \n",
      "['President Donald Trump says he is slapping a 5% tariff on all Mexican imports. He says he wants to put pressure on Mexico to stop the flow of migrants. The move is a response to the surge of migrants from Mexico. The U.S. is trying to crack down']\n",
      "\n"
     ]
    },
    {
     "name": "stderr",
     "output_type": "stream",
     "text": [
      "\r",
      " 23%|██▎       | 233/1022 [3:37:36<11:26:59, 52.24s/it]"
     ]
    },
    {
     "name": "stdout",
     "output_type": "stream",
     "text": [
      "input_ids shape: torch.Size([1, 59])\n",
      "Reference Summary:\n",
      "Mexican President Andrés Manuel López Obrador responds with a letter to the U.S. president stating  he wants to avoid a confrontation, saying that ideals such as justice and universal brotherhood are more important than borders. He  also ordered his foreign minister to travel to Washington on Friday.\n",
      "Predictions: \n",
      "['Mexico\\'s president says U.S. President Donald Trump\\'s \"America First\" policy is a \"foolish\" idea. He says he is responding to a letter from the U.N. secretary-general. He also says he will not sign a U.K']\n",
      "\n"
     ]
    },
    {
     "name": "stderr",
     "output_type": "stream",
     "text": [
      "\r",
      " 23%|██▎       | 234/1022 [3:38:33<11:44:54, 53.67s/it]"
     ]
    },
    {
     "name": "stdout",
     "output_type": "stream",
     "text": [
      "input_ids shape: torch.Size([1, 57])\n",
      "Reference Summary:\n",
      "American songwriter R. Kelly is charged by Cook County prosecutors with 11 counts of sexual assault and abuse.  (USA Today)\n",
      "Predictions: \n",
      "['R. Kelly charged with 11 new sex-related counts. The singer is accused of sexually abusing a woman. He has denied the allegations. The charges are the latest in a string of sex-abuse allegations against him. He is accused in a case that began in 2007.']\n",
      "\n"
     ]
    },
    {
     "name": "stderr",
     "output_type": "stream",
     "text": [
      "\r",
      " 23%|██▎       | 235/1022 [3:39:30<11:57:34, 54.71s/it]"
     ]
    },
    {
     "name": "stdout",
     "output_type": "stream",
     "text": [
      "input_ids shape: torch.Size([1, 59])\n",
      "Reference Summary:\n",
      "The captain of the M/V Viking Sigyn that was involved in the deadly sinking of the Hableány is questioned and arrested by the Hungarian police.\n",
      "Predictions: \n",
      "['Captain of cruise ship that collided with tour boat on Danube River in Hungary arrested. Cruise ship was carrying tourists from South Korea. Boat was carrying passengers from South Korean tour group. Cruise boat was carrying more than 100 people. The cruise ship was travelling on the Danube river']\n",
      "\n"
     ]
    },
    {
     "name": "stderr",
     "output_type": "stream",
     "text": [
      "\r",
      " 23%|██▎       | 236/1022 [3:39:56<10:03:00, 46.03s/it]"
     ]
    },
    {
     "name": "stdout",
     "output_type": "stream",
     "text": [
      "input_ids shape: torch.Size([1, 59])\n",
      "Reference Summary:\n",
      "New documents reveal that Jussie Smollett bought drugs from Abimbola 'Abel' and Olabinjo “Ola Osundairo, the two people who accused him of staging an attack on January 29.\n",
      "Predictions: \n",
      "[\"Jussie Smollett's alleged attackers are the brothers of a black man who was arrested in Chicago. The two men were arrested after a racist attack on the actor. The actor was charged with felony battery and aggravated assault. The men were released on bail and are awaiting trial\"]\n",
      "\n"
     ]
    },
    {
     "name": "stderr",
     "output_type": "stream",
     "text": [
      "\r",
      " 23%|██▎       | 237/1022 [3:40:53<10:44:24, 49.25s/it]"
     ]
    },
    {
     "name": "stdout",
     "output_type": "stream",
     "text": [
      "input_ids shape: torch.Size([1, 56])\n",
      "Reference Summary:\n",
      "James Marape is elected Prime Minister by the National Parliament following the resignation of Peter O'Neill.\n",
      "Predictions: \n",
      "[\"Former finance minister James Marape has been sworn in as the country's new prime minister. He replaces the outgoing PM Peter O'Neill, who resigned after a corruption scandal. Marape was the country’s finance minister before becoming prime minister in April.\"]\n",
      "\n"
     ]
    },
    {
     "name": "stderr",
     "output_type": "stream",
     "text": [
      "\r",
      " 23%|██▎       | 238/1022 [3:41:50<11:14:04, 51.59s/it]"
     ]
    },
    {
     "name": "stdout",
     "output_type": "stream",
     "text": [
      "input_ids shape: torch.Size([1, 59])\n",
      "Reference Summary:\n",
      "Louisiana Governor John Bel Edwards signs a heartbeat bill that bans abortion as early as six weeks into pregnancy. The law’s effective date is tied to a similar Mississippi law which has already been temporarily blocked by a federal court.\n",
      "Predictions: \n",
      "[\"Louisiana's governor signs a bill banning abortions after a fetal heartbeat is detected. The law is aimed at women who are pregnant after a miscarriage. The bill is expected to be signed into law by the end of the month. The state's governor is a Democrat. The measure is expected\"]\n",
      "\n"
     ]
    },
    {
     "name": "stderr",
     "output_type": "stream",
     "text": [
      "\r",
      " 23%|██▎       | 239/1022 [3:42:47<11:35:02, 53.26s/it]"
     ]
    },
    {
     "name": "stdout",
     "output_type": "stream",
     "text": [
      "input_ids shape: torch.Size([1, 59])\n",
      "Reference Summary:\n",
      "Fifteen days after the first wave of protests, millions of students, schoolteachers and university professors hold demonstrations in over a hundred Brazilian cities against massive cuts in the education budget. Brazilian Education Minister Abraham Weintraub accuses teachers of \"coercing\" students into participating in the protests.\n",
      "Predictions: \n",
      "[\"The government is trying to cut the number of students in the state of\\xa0education. The government is also trying to reduce the number in the country's public schools. The move is being seen as a way to cut costs and improve the economy. The state is also seeking to\"]\n",
      "\n"
     ]
    },
    {
     "name": "stderr",
     "output_type": "stream",
     "text": [
      "\r",
      " 23%|██▎       | 240/1022 [3:43:44<11:49:14, 54.42s/it]"
     ]
    },
    {
     "name": "stdout",
     "output_type": "stream",
     "text": [
      "input_ids shape: torch.Size([1, 59])\n",
      "Reference Summary:\n",
      "The Toronto Raptors host the first National Basketball Association (NBA) finals game in their franchise history, against the Golden State Warriors, and the first outside the United States in NBA history at the Scotiabank Arena in Toronto. The Raptors win 118–109.\n",
      "Predictions: \n",
      "['The Toronto Raptors are in the NBA Finals for the first time in their history. The Raptors are the defending champions. The NBA Finals are in Toronto for the second time in three years. The Toronto Raptors beat the Golden State Warriors in the 2014 NBA Finals. The game is in']\n",
      "\n"
     ]
    },
    {
     "name": "stderr",
     "output_type": "stream",
     "text": [
      "\r",
      " 24%|██▎       | 241/1022 [3:44:41<11:58:06, 55.17s/it]"
     ]
    },
    {
     "name": "stdout",
     "output_type": "stream",
     "text": [
      "input_ids shape: torch.Size([1, 56])\n",
      "Reference Summary:\n",
      "Taliban suicide car bomber kills four Afghan civilians and wounds over 20 including four American soldiers.\n",
      "Predictions: \n",
      "[\"The Taliban have been fighting a coalition government in Afghanistan for more than a decade. The Taliban have not been able to win back control of the country's capital, Kabul. The U.S. government has been trying to bring peace to the country for years.\"]\n",
      "\n"
     ]
    },
    {
     "name": "stderr",
     "output_type": "stream",
     "text": [
      "\r",
      " 24%|██▎       | 242/1022 [3:45:38<12:04:29, 55.73s/it]"
     ]
    },
    {
     "name": "stdout",
     "output_type": "stream",
     "text": [
      "input_ids shape: torch.Size([1, 59])\n",
      "Reference Summary:\n",
      "In northern Alberta, Canada, an estimated 10,000 people have been evacuated due to fast spreading wildfires.\n",
      "Predictions: \n",
      "['The Alberta wildfire has been burning since early June. The fire has been raging in the province\\'s north. The wildfire has caused a number of fires in the area. The fires have been burning in the north of the province since early July. The blaze has been dubbed the \"']\n",
      "\n"
     ]
    },
    {
     "name": "stderr",
     "output_type": "stream",
     "text": [
      "\r",
      " 24%|██▍       | 243/1022 [3:46:35<12:08:53, 56.14s/it]"
     ]
    },
    {
     "name": "stdout",
     "output_type": "stream",
     "text": [
      "input_ids shape: torch.Size([1, 59])\n",
      "Reference Summary:\n",
      "Air quality warnings are issued for most of Alberta as a result of the thick smoke moving across the province. Places as far south as Calgary have reached 10+ on the Air Quality Health Index, and rated worse than some of the most polluted cities in the world.\n",
      "Predictions: \n",
      "[\"The smoke from the wildfires in northern Alberta is causing a haze in the air. The smoke is causing air quality issues in the area. The air quality is also causing problems in the city of Calgary. The fire is burning in the province's north. The wildfire is burning near\"]\n",
      "\n"
     ]
    },
    {
     "name": "stderr",
     "output_type": "stream",
     "text": [
      "\r",
      " 24%|██▍       | 244/1022 [3:47:32<12:12:27, 56.49s/it]"
     ]
    },
    {
     "name": "stdout",
     "output_type": "stream",
     "text": [
      "input_ids shape: torch.Size([1, 59])\n",
      "Reference Summary:\n",
      "According to South Korean media, North Korea executed five officials back in March, including Kim Hyok-chol, its nuclear envoy to the United States, for their part in the failed second summit in Hanoi. In addition, three other officials involved in the summit have reportedly been sent to a camp for political prisoners.\n",
      "Predictions: \n",
      "['North Korea executed its envoy to the U.S. The envoy was involved in negotiations for a nuclear deal with the U.,S. South Korean media reported. The North Korean leader is believed to have been executed after a failed summit with the United States. The U.N']\n",
      "\n"
     ]
    },
    {
     "name": "stderr",
     "output_type": "stream",
     "text": [
      "\r",
      " 24%|██▍       | 245/1022 [3:48:29<12:14:09, 56.69s/it]"
     ]
    },
    {
     "name": "stdout",
     "output_type": "stream",
     "text": [
      "input_ids shape: torch.Size([1, 59])\n",
      "Reference Summary:\n",
      "Eddie Gallagher, a U.S. Navy Seal charged with the murder of an ISIL prisoner, attempted murder of civilians, and obstruction of justice, is temporarily released from custody amidst allegations of misconduct by Navy prosecutors.\n",
      "Predictions: \n",
      "[\"Navy SEAL is accused of killing a U.S. soldier in Iraq. He is accused in the death of an American soldier. A military judge has ordered him to be released from custody. He's accused of murdering the soldier in a secret operation. The SEAL is charged\"]\n",
      "\n"
     ]
    },
    {
     "name": "stderr",
     "output_type": "stream",
     "text": [
      "\r",
      " 24%|██▍       | 246/1022 [3:49:27<12:16:36, 56.95s/it]"
     ]
    },
    {
     "name": "stdout",
     "output_type": "stream",
     "text": [
      "input_ids shape: torch.Size([1, 59])\n",
      "Reference Summary:\n",
      "Thirteen people are killed, including the shooter, and five are injured in a shooting at a municipal center in Virginia Beach, Virginia.\n",
      "Predictions: \n",
      "[\"The shooting occurred at a Virginia Beach, Virginia, municipal building. The suspect was identified as a city employee. Police say the suspect was a former city employee who was shot dead. The shooter was also killed. The shooting occurred in the city's municipal building on the city center\"]\n",
      "\n"
     ]
    },
    {
     "name": "stderr",
     "output_type": "stream",
     "text": [
      "\r",
      " 24%|██▍       | 247/1022 [3:50:24<12:15:09, 56.92s/it]"
     ]
    },
    {
     "name": "stdout",
     "output_type": "stream",
     "text": [
      "input_ids shape: torch.Size([1, 57])\n",
      "Reference Summary:\n",
      "In African football, the 2019 CAF Champions League Final between Morocco's Wydad Casablanca, and Tunisia's Espérance Sportive de Tunis, is abandoned after Wydad Casablanca players refused to play following a row over a goal ruled out by the video assistant referee (VAR). The referee subsequently awarded the victory to Espérance Sportive de Tunis for their fourth CAF title.\n",
      "Predictions: \n",
      "[\"Esperance's win over Wydad Casablanca in the final of the Champions League. The match was played in the second leg at the Maracana in Morocco. The final was played at the same stadium as the first leg in the first round.\"]\n",
      "\n"
     ]
    },
    {
     "name": "stderr",
     "output_type": "stream",
     "text": [
      "\r",
      " 24%|██▍       | 248/1022 [3:50:41<9:40:52, 45.03s/it] "
     ]
    },
    {
     "name": "stdout",
     "output_type": "stream",
     "text": [
      "input_ids shape: torch.Size([1, 57])\n",
      "Reference Summary:\n",
      "A suicide bomber driving a Humvee detonated the vehicle loaded with explosives near a security building in Afghanistan, killing 8 officers.\n",
      "Predictions: \n",
      "['The blast happened in the eastern part of the country. The blast happened at a police station in the city of Ghazni. The victims were all police officers. The attack was carried out by a suicide bomber. The incident occurred in the town of Ghazi.']\n",
      "\n"
     ]
    },
    {
     "name": "stderr",
     "output_type": "stream",
     "text": [
      "\r",
      " 24%|██▍       | 249/1022 [3:51:07<8:25:29, 39.24s/it]"
     ]
    },
    {
     "name": "stdout",
     "output_type": "stream",
     "text": [
      "input_ids shape: torch.Size([1, 56])\n",
      "Reference Summary:\n",
      "Pope Francis urges ethnic Hungarians and Romanians to mend their differences toward a peaceful existence in one country.\n",
      "Predictions: \n",
      "['Pope Francis urges ethnic Hungarians, Romanians to put troubles behind them. Bad weather disrupted his visit to Transylvania, forcing him to stay in Romania. Pope Francis urged ethnic Hungarian and Romanians. to put their troubled past behind them on Saturday.']\n",
      "\n"
     ]
    },
    {
     "name": "stderr",
     "output_type": "stream",
     "text": [
      "\r",
      " 24%|██▍       | 250/1022 [3:52:04<9:32:19, 44.48s/it]"
     ]
    },
    {
     "name": "stdout",
     "output_type": "stream",
     "text": [
      "input_ids shape: torch.Size([1, 58])\n",
      "Reference Summary:\n",
      "Chinese authorities begin an investigation into American multinational courier delivery services company FedEx for allegedly undermining the rights of Chinese clients. The investigation stems from allegations by Chinese telecommunications company Huawei that FedEx attempted to divert the shipping route of its packages without the company's prior authorization which in turn has been denied by FedEx.\n",
      "Predictions: \n",
      "['China is investigating whether the U.S. company is violating its rules. The move is in response to a U.N. report that found the company had been using a Chinese company to steal secrets. The company is accused of stealing secrets from Chinese tech giant Huawei.']\n",
      "\n"
     ]
    },
    {
     "name": "stderr",
     "output_type": "stream",
     "text": [
      "\r",
      " 25%|██▍       | 251/1022 [3:53:02<10:25:48, 48.70s/it]"
     ]
    },
    {
     "name": "stdout",
     "output_type": "stream",
     "text": [
      "input_ids shape: torch.Size([1, 59])\n",
      "Reference Summary:\n",
      "Twenty-nine people are injured in a fire  at a center used as temporary accommodation for about 500 migrants in the northwestern Bosnian town of Velika Kladusa.\n",
      "Predictions: \n",
      "[\"Fire breaks out at migrant center in Bosnia's northwest. Police say 29 people injured in fire at the center. Fire broke out at a migrant center near the town of Velika Kladusa. Police: The fire is believed to have started in a room at the centre.\"]\n",
      "\n"
     ]
    },
    {
     "name": "stderr",
     "output_type": "stream",
     "text": [
      "\r",
      " 25%|██▍       | 252/1022 [3:53:25<8:47:21, 41.09s/it] "
     ]
    },
    {
     "name": "stdout",
     "output_type": "stream",
     "text": [
      "input_ids shape: torch.Size([1, 59])\n",
      "Reference Summary:\n",
      "An explosion at a Russian Military high-explosive production and storage facility in the city of Dzerzhinsk injures 79 people.\n",
      "Predictions: \n",
      "[\"The explosion happened in the city of Dzerzhinsk, in the eastern part of the country. The blast caused a massive explosion in the town of Dzierzinsk. The explosion also damaged the town's main airport. The city is home to a large number of\"]\n",
      "\n"
     ]
    },
    {
     "name": "stderr",
     "output_type": "stream",
     "text": [
      "\r",
      " 25%|██▍       | 253/1022 [3:54:23<9:49:53, 46.02s/it]"
     ]
    },
    {
     "name": "stdout",
     "output_type": "stream",
     "text": [
      "input_ids shape: torch.Size([1, 59])\n",
      "Reference Summary:\n",
      "Six earthquakes, the first 5.3 Mw, in a two-hour period near Korçë in southeastern Albania injure four people and damage around 100 houses.\n",
      "Predictions: \n",
      "['The earthquake struck in the early hours of Saturday morning. The quake had a magnitude of 5.3 and injured two people. The tremors damaged some houses in the area. The earthquake struck south of the capital, Tirana. The cause of the quake is still unknown.']\n",
      "\n"
     ]
    },
    {
     "name": "stderr",
     "output_type": "stream",
     "text": [
      "\r",
      " 25%|██▍       | 254/1022 [3:55:20<10:31:24, 49.33s/it]"
     ]
    },
    {
     "name": "stdout",
     "output_type": "stream",
     "text": [
      "input_ids shape: torch.Size([1, 59])\n",
      "Reference Summary:\n",
      "Cruise ship MSC Opera collides with a riverboat and the quayside at Venice, Italy: four people are injured, none seriously. The incident leads to renewed demands to ban large cruise ships from the Lagoon of Venice.\n",
      "Predictions: \n",
      "[\"The cruise ship was on a busy canal in Venice when it crashed into a dock. The incident happened on a bridge in the city's Piazza del Duomo. The cruise ship's captain was taken to hospital with minor injuries. The ship was carrying more than 1,\"]\n",
      "\n"
     ]
    },
    {
     "name": "stderr",
     "output_type": "stream",
     "text": [
      "\r",
      " 25%|██▍       | 255/1022 [3:56:17<11:01:03, 51.71s/it]"
     ]
    },
    {
     "name": "stdout",
     "output_type": "stream",
     "text": [
      "input_ids shape: torch.Size([1, 59])\n",
      "Reference Summary:\n",
      "Hong Kong confirms its second case of African swine fever, indicating the virus continues to spread beyond mainland China. Sheung Shui slaughterhouse is temporarily closed while 4,100 animals are culled from the facility.\n",
      "Predictions: \n",
      "['South Korea is scrambling to prevent the spread of the disease. The outbreak is believed to be the first in the region since the disease was discovered in 2009. The disease is highly contagious and can cause severe and fatal complications. The virus is believed not to be transmitted by humans.']\n",
      "\n"
     ]
    },
    {
     "name": "stderr",
     "output_type": "stream",
     "text": [
      "\r",
      " 25%|██▌       | 256/1022 [3:57:14<11:21:00, 53.34s/it]"
     ]
    },
    {
     "name": "stdout",
     "output_type": "stream",
     "text": [
      "input_ids shape: torch.Size([1, 59])\n",
      "Reference Summary:\n",
      "Dozens of masked protesters set fire to the U.S. Embassy in downtown Tegucigalpa, amid a second day of mass anti-government protests in Honduras.\n",
      "Predictions: \n",
      "[\"The U.S. Embassy in Honduras was set on fire by protesters. The protesters were protesting against the government's handling of the country's finances. The protests were in response to a government plan to cut the country’s public sector budget. The government is trying to\"]\n",
      "\n"
     ]
    },
    {
     "name": "stderr",
     "output_type": "stream",
     "text": [
      "\r",
      " 25%|██▌       | 257/1022 [3:58:11<11:34:04, 54.44s/it]"
     ]
    },
    {
     "name": "stdout",
     "output_type": "stream",
     "text": [
      "input_ids shape: torch.Size([1, 59])\n",
      "Reference Summary:\n",
      "At the close of the Organization of Islamic Cooperation summit in Mecca, the OIC says it will not accept any decision to change the legal and demographic status of Syria's Golan Heights, that it condemns any position adopted by an international body that supports prolonging occupation of Palestinian territories, and it condemns the inhumane situation of Rohingya Muslims.\n",
      "Predictions: \n",
      "['The summit is the first of its kind in the Middle East. The summit is being held in the city of Mecca. The meeting is being hosted by the Islamic Republic of Iran. The U.S. has been accused of supporting the Islamic State. The Islamic State is a']\n",
      "\n"
     ]
    },
    {
     "name": "stderr",
     "output_type": "stream",
     "text": [
      "\r",
      " 25%|██▌       | 258/1022 [3:59:09<11:43:25, 55.24s/it]"
     ]
    },
    {
     "name": "stdout",
     "output_type": "stream",
     "text": [
      "input_ids shape: torch.Size([1, 59])\n",
      "Reference Summary:\n",
      "The United States begins collecting the higher, 25 percent tariffs on many Chinese goods arriving in U.S. seaports.\n",
      "Predictions: \n",
      "[\"The U.S. is imposing tariffs on imports from China, which is retaliating with its own tariffs. The U.N. says the move is a violation of the World Trade Organization's rules of trade. The United States is also imposing tariffs of up to 25%\"]\n",
      "\n"
     ]
    },
    {
     "name": "stderr",
     "output_type": "stream",
     "text": [
      "\r",
      " 25%|██▌       | 259/1022 [4:00:06<11:50:37, 55.88s/it]"
     ]
    },
    {
     "name": "stdout",
     "output_type": "stream",
     "text": [
      "input_ids shape: torch.Size([1, 59])\n",
      "Reference Summary:\n",
      "The United Nations special rapporteur on torture, Nils Melzer, accuses the United States, the United Kingdom and Sweden of \"ganging up\" on Julian Assange and subjecting him to \"psychological torture\" and \"collective persecution\" after spending seven years living inside London's Ecuadorian Embassy.\n",
      "Predictions: \n",
      "['WikiLeaks founder Julian Assange has been subjected to \"psychological torture\" by the U.S. government, says U.N. official. Assange is being held in a London prison on charges of espionage and leaking classified documents. The WikiLeaks founder is also accused of leaking classified']\n",
      "\n"
     ]
    },
    {
     "name": "stderr",
     "output_type": "stream",
     "text": [
      "\r",
      " 25%|██▌       | 260/1022 [4:01:03<11:54:32, 56.26s/it]"
     ]
    },
    {
     "name": "stdout",
     "output_type": "stream",
     "text": [
      "input_ids shape: torch.Size([1, 59])\n",
      "Reference Summary:\n",
      "Shots fired by \"regular forces\" near the site of a sit-in protest in Khartoum kill one person and wound 10 others, according to the  Central Committee of Sudanese Doctors. The  gunfire lasted about four hours. This week  at least three protesters have been shot dead and eight others injured during protests calling for the generals who replaced deposed  President Omar al-Bashir to hand power to a civilian-led administration.\n",
      "Predictions: \n",
      "[\"Sudanese authorities have shut down the country's main news agency. The move is seen as a response to a series of protests against the government. The protests have been sparked by the government's crackdown on the opposition. The government has also been accused of using force against\"]\n",
      "\n"
     ]
    },
    {
     "name": "stderr",
     "output_type": "stream",
     "text": [
      "\r",
      " 26%|██▌       | 261/1022 [4:02:00<11:56:14, 56.47s/it]"
     ]
    },
    {
     "name": "stdout",
     "output_type": "stream",
     "text": [
      "input_ids shape: torch.Size([1, 58])\n",
      "Reference Summary:\n",
      "El Salvador's new President Nayib Bukele takes office.\n",
      "Predictions: \n",
      "[\"Youthful businessman Nayib Bukele has been sworn in as president of El Salvador. He is the first non-party leader in more than a quarter century of two-party dominance. Bukeles' party has been in power for more than 25 years.\"]\n",
      "\n"
     ]
    },
    {
     "name": "stderr",
     "output_type": "stream",
     "text": [
      "\r",
      " 26%|██▌       | 262/1022 [4:02:57<11:58:10, 56.70s/it]"
     ]
    },
    {
     "name": "stdout",
     "output_type": "stream",
     "text": [
      "input_ids shape: torch.Size([1, 59])\n",
      "Reference Summary:\n",
      "The website The Daily Beast identifies the man who posted a video of U.S. House Speaker Nancy Pelosi in order to create the misleading impression of drunkenly slurred speech. It was \"an occasional sports blogger from the Bronx.\" (The Daily Beast).\n",
      "Predictions: \n",
      "[\"The House Speaker's office says the video was not meant to be taken out of context. The video was posted on the House Speaker’s Facebook page. The clip was posted by a user who said he was a fan of the President. The user was later identified as\"]\n",
      "\n"
     ]
    },
    {
     "name": "stderr",
     "output_type": "stream",
     "text": [
      "\r",
      " 26%|██▌       | 263/1022 [4:03:54<11:58:23, 56.79s/it]"
     ]
    },
    {
     "name": "stdout",
     "output_type": "stream",
     "text": [
      "input_ids shape: torch.Size([1, 57])\n",
      "Reference Summary:\n",
      "Liverpool F.C. defeats Tottenham Hotspur F.C. by a score of 2–0 to win the 2019 UEFA Champions League Final.\n",
      "Predictions: \n",
      "[\"Liverpool beat Tottenham 2-0 in the Champions League final. Liverpool's win over Tottenham was their first in the competition since 2006. The Reds have won the Champions league on three occasions in the last four years. Liverpool have won three of the last five European Cups.\"]\n",
      "\n"
     ]
    },
    {
     "name": "stderr",
     "output_type": "stream",
     "text": [
      "\r",
      " 26%|██▌       | 264/1022 [4:04:52<11:59:42, 56.97s/it]"
     ]
    },
    {
     "name": "stdout",
     "output_type": "stream",
     "text": [
      "input_ids shape: torch.Size([1, 59])\n",
      "Reference Summary:\n",
      "Andy Ruiz Jr. defeats Anthony Joshua by knockout in the seventh round to become IBF, WBA and WBO heavyweight champion of the world in what has been described as one of the biggest upsets in heavyweight boxing history.\n",
      "Predictions: \n",
      "['Anthony Joshua is the current WBA, WBO and IBF heavyweight champion. He is the mandatory challenger to WBO champion Deontay Wilder. The fight is set to take place in New York on Saturday night. Joshua is expected to fight in front of a crowd']\n",
      "\n"
     ]
    },
    {
     "name": "stderr",
     "output_type": "stream",
     "text": [
      "\r",
      " 26%|██▌       | 265/1022 [4:05:49<11:59:39, 57.04s/it]"
     ]
    },
    {
     "name": "stdout",
     "output_type": "stream",
     "text": [
      "input_ids shape: torch.Size([1, 59])\n",
      "Reference Summary:\n",
      "A suicide car bomber kills five soldiers of the Syrian Democratic Forces and five civilians at a checkpoint in central Raqqa, Syria. This and a nearby roadside bomb wound 20 people.\n",
      "Predictions: \n",
      "['The blasts occurred in the city of Raqqa, which is in northern Syria. The blasts occurred at a mosque and a market in the northern city. The city is in the north of Syria. It is the site of the Syrian civil war. The blast occurred in a mosque in']\n",
      "\n"
     ]
    },
    {
     "name": "stderr",
     "output_type": "stream",
     "text": [
      "\r",
      " 26%|██▌       | 266/1022 [4:06:46<11:59:14, 57.08s/it]"
     ]
    },
    {
     "name": "stdout",
     "output_type": "stream",
     "text": [
      "input_ids shape: torch.Size([1, 59])\n",
      "Reference Summary:\n",
      "Israel kills ten people in airstrikes conducted against Syrian military targets in the Golan Heights in response to two rockets fired at Mount Hermon late Saturday.\n",
      "Predictions: \n",
      "[\"Israel's military says it has attacked Syrian military positions in the country's south. The attack is in response to a Syrian attack on Israeli forces in the region. The Israeli military says the attack was in response of a Syrian military attack on its forces. The Syrian military says three\"]\n",
      "\n"
     ]
    },
    {
     "name": "stderr",
     "output_type": "stream",
     "text": [
      "\r",
      " 26%|██▌       | 267/1022 [4:07:43<11:58:46, 57.12s/it]"
     ]
    },
    {
     "name": "stdout",
     "output_type": "stream",
     "text": [
      "input_ids shape: torch.Size([1, 59])\n",
      "Reference Summary:\n",
      "A car bomb in Azaz kills at least 21 people and leaves many wounded.\n",
      "Predictions: \n",
      "['Car bomb kills at least 13 people in rebel-held northern Syrian town. Blast happened near a mosque in the town of Azaz. The blast also wounded dozens of people. The town is held by Turkey-backed fighters. The Syrian government has been fighting a rebel-led offensive since']\n",
      "\n"
     ]
    },
    {
     "name": "stderr",
     "output_type": "stream",
     "text": [
      "\r",
      " 26%|██▌       | 268/1022 [4:08:41<11:58:40, 57.19s/it]"
     ]
    },
    {
     "name": "stdout",
     "output_type": "stream",
     "text": [
      "input_ids shape: torch.Size([1, 59])\n",
      "Reference Summary:\n",
      "Two car bombs targeting a unit of the Libyan National Army injure 18 people in the city center of Derna, Libya.\n",
      "Predictions: \n",
      "[\"Two car bomb explosions target military unit in Libya's eastern city of Derna. At least 18 people were wounded in the blasts, which targeted a military unit. The blasts sent plumes of black smoke into the sky, a medical source said. The explosions targeted a unit\"]\n",
      "\n"
     ]
    },
    {
     "name": "stderr",
     "output_type": "stream",
     "text": [
      "\r",
      " 26%|██▋       | 269/1022 [4:09:38<11:58:47, 57.27s/it]"
     ]
    },
    {
     "name": "stdout",
     "output_type": "stream",
     "text": [
      "input_ids shape: torch.Size([1, 59])\n",
      "Reference Summary:\n",
      "Canada temporarily closes its embassy in Venezuela after Canadian diplomats were no longer able to get diplomatic accreditation under Venezuelan President Nicolás Maduro's government according to a statement released by the Canadian Minister of Foreign Affairs, Chrystia Freeland.\n",
      "Predictions: \n",
      "['The Canadian government is suspending operations at its embassy in Venezuela. The move is in response to the country\\'s political crisis. The country\\'s foreign minister says the country is \"in a state of emergency\" in Venezuela and is seeking to end the crisis. Venezuela\\'s president has been']\n",
      "\n"
     ]
    },
    {
     "name": "stderr",
     "output_type": "stream",
     "text": [
      "\r",
      " 26%|██▋       | 270/1022 [4:10:35<11:57:42, 57.26s/it]"
     ]
    },
    {
     "name": "stdout",
     "output_type": "stream",
     "text": [
      "input_ids shape: torch.Size([1, 59])\n",
      "Reference Summary:\n",
      "Andrea Nahles announces her resignation as leader of Germany's Social Democratic Party, effective at the beginning of next week.\n",
      "Predictions: \n",
      "[\"German Social Democrats leader resigns after party's vote fiasco. Party is junior party in Angela Merkel's governing coalition. Party's leader resigning after party loses support in European Parliament vote. Party has been in coalition with Merkel's government since 2005. The Social Democrats are a junior\"]\n",
      "\n"
     ]
    },
    {
     "name": "stderr",
     "output_type": "stream",
     "text": [
      "\r",
      " 27%|██▋       | 271/1022 [4:11:33<11:57:15, 57.30s/it]"
     ]
    },
    {
     "name": "stdout",
     "output_type": "stream",
     "text": [
      "input_ids shape: torch.Size([1, 59])\n",
      "Reference Summary:\n",
      "Israeli Prime Minister Benjamin Netanyahu dismisses Minister of Justice Ayelet Shaked and Minister of Education Naftali Bennett from the interim government.\n",
      "Predictions: \n",
      "[\"Israeli PM Benjamin Netanyahu has been in office since 2009. He was elected to a second term in 2012. He has been prime minister since 2009, and has been a member of the coalition government since 2009; he was re-elected in 2012 and 2014. Netanyahu's party is\"]\n",
      "\n"
     ]
    },
    {
     "name": "stderr",
     "output_type": "stream",
     "text": [
      "\r",
      " 27%|██▋       | 272/1022 [4:11:47<9:16:03, 44.48s/it] "
     ]
    },
    {
     "name": "stdout",
     "output_type": "stream",
     "text": [
      "input_ids shape: torch.Size([1, 58])\n",
      "Reference Summary:\n",
      "King Juan Carlos I of Spain retires from public life five years after his abdication.\n",
      "Predictions: \n",
      "['Juan Carlos was the last Spanish king to be crowned in the Spanish monarchy. He was the son of King Juan Carlos II and the daughter of King Charles II. He is the first Spanish king since the reign of King Victor II to be deposed by a son.']\n",
      "\n"
     ]
    },
    {
     "name": "stderr",
     "output_type": "stream",
     "text": [
      "\r",
      " 27%|██▋       | 273/1022 [4:12:45<10:04:16, 48.41s/it]"
     ]
    },
    {
     "name": "stdout",
     "output_type": "stream",
     "text": [
      "input_ids shape: torch.Size([1, 59])\n",
      "Reference Summary:\n",
      "During his visit to Romania, Pope Francis apologizes to the Roma people on behalf of the Catholic Church and asks forgiveness for \"all those times in history when we have discriminated, mistreated or looked askance at you.\" He also beatifies seven Eastern Catholic church bishops who were jailed for treason and tortured under Communist rule. All died in confinement and were buried in secret.\n",
      "Predictions: \n",
      "[\"Pope Francis is in Romania for a three-day visit. He is visiting the country's bishops. He will also visit the Vatican. He has been in Romania since March. He was in Romania during the communist regime. He visited the Vatican in March. The visit is part of his\"]\n",
      "\n"
     ]
    },
    {
     "name": "stderr",
     "output_type": "stream",
     "text": [
      "\r",
      " 27%|██▋       | 274/1022 [4:12:54<7:35:42, 36.55s/it] "
     ]
    },
    {
     "name": "stdout",
     "output_type": "stream",
     "text": [
      "input_ids shape: torch.Size([1, 59])\n",
      "Reference Summary:\n",
      "Sanmmarinese voters vote to end discrimination based on sexual orientation and initiate a popular legislative initiative for the reform of the electoral system.\n",
      "Predictions: \n",
      "['The Electoral College is a body that reflects the popular vote. It does not need to be abolished, but it needs to be reformed. The current system is not fair to the people of the country. The vote should be changed to reflect the popular will. The only way to']\n",
      "\n"
     ]
    },
    {
     "name": "stderr",
     "output_type": "stream",
     "text": [
      "\r",
      " 27%|██▋       | 275/1022 [4:13:50<8:49:50, 42.56s/it]"
     ]
    },
    {
     "name": "stdout",
     "output_type": "stream",
     "text": [
      "input_ids shape: torch.Size([1, 56])\n",
      "Reference Summary:\n",
      "Google has a cloud services outage that affects Gmail, Snapchat, YouTube and other services in parts of the United States.\n",
      "Predictions: \n",
      "[\"Google's Google is experiencing a major outage in the U.S. Google says it is experiencing problems with its cloud services. The company says it has been working to fix the problem. The outage is affecting Google's cloud services, including YouTube and Google Cloud.\"]\n",
      "\n"
     ]
    },
    {
     "name": "stderr",
     "output_type": "stream",
     "text": [
      "\r",
      " 27%|██▋       | 276/1022 [4:14:47<9:43:30, 46.93s/it]"
     ]
    },
    {
     "name": "stdout",
     "output_type": "stream",
     "text": [
      "input_ids shape: torch.Size([1, 59])\n",
      "Reference Summary:\n",
      "Five people are killed and over 10 injured in an IED bomb explosion in Kabul, Afghanistan.\n",
      "Predictions: \n",
      "['A bomb blast in Kabul kills at least one person, officials say. The blast was the third in the capital in less than a week. The attack was carried out by a bomb attached to a bus carrying a group of students. The bus was carrying students from the Kabul University']\n",
      "\n"
     ]
    },
    {
     "name": "stderr",
     "output_type": "stream",
     "text": [
      "\r",
      " 27%|██▋       | 277/1022 [4:15:45<10:20:36, 49.98s/it]"
     ]
    },
    {
     "name": "stdout",
     "output_type": "stream",
     "text": [
      "input_ids shape: torch.Size([1, 59])\n",
      "Reference Summary:\n",
      "Over 13 people have been killed when Sudanese forces use live ammunition to break up a protester camp in Khartoum.\n",
      "Predictions: \n",
      "[\"Sudanese forces storm protest camp, killing at least three people. Sudanese forces have been fighting a sit-in in the capital for weeks. The protesters are demanding an end to the country's political turmoil. The government has been accused of using force to quash the protests\"]\n",
      "\n"
     ]
    },
    {
     "name": "stderr",
     "output_type": "stream",
     "text": [
      "\r",
      " 27%|██▋       | 278/1022 [4:16:41<10:44:49, 52.00s/it]"
     ]
    },
    {
     "name": "stdout",
     "output_type": "stream",
     "text": [
      "input_ids shape: torch.Size([1, 56])\n",
      "Reference Summary:\n",
      "Boko Haram storms multiple military bases in the Nigerian state of Borno. Casualties are unknown.\n",
      "Predictions: \n",
      "['Boko Haram has been fighting in the Borno state of Nigeria. The group has been blamed for attacks on military bases in the state. The militants have been fighting for years in the region. The Boko Haram group has claimed responsibility for attacks in the past.']\n",
      "\n"
     ]
    },
    {
     "name": "stderr",
     "output_type": "stream",
     "text": [
      "\r",
      " 27%|██▋       | 279/1022 [4:17:38<11:02:41, 53.51s/it]"
     ]
    },
    {
     "name": "stdout",
     "output_type": "stream",
     "text": [
      "input_ids shape: torch.Size([1, 59])\n",
      "Reference Summary:\n",
      "A gunman kills four security officers and injures two before blowing himself up in Tripoli, Lebanon (BBC)\n",
      "Predictions: \n",
      "[\"A gunman kills two police officers and two soldiers in Tripoli, Lebanon's state news agency says. The gunman also kills two soldiers and a civilian in the northern city of Tripoli. The attack took place in the city's northern city centre. The gunmen then fled the scene, according\"]\n",
      "\n"
     ]
    },
    {
     "name": "stderr",
     "output_type": "stream",
     "text": [
      "\r",
      " 27%|██▋       | 280/1022 [4:18:35<11:14:26, 54.54s/it]"
     ]
    },
    {
     "name": "stdout",
     "output_type": "stream",
     "text": [
      "input_ids shape: torch.Size([1, 59])\n",
      "Reference Summary:\n",
      "An Indian Air Force Antonov An-32 goes missing shortly after takeoff from an airbase in Assam. All 13 people aboard are presumed dead as search operations continue.\n",
      "Predictions: \n",
      "[\"The Indian Air Force's AN-32 aircraft went missing on Monday. The aircraft was carrying 13 people, including two crew members. The plane was last seen in the Indian state of Arunachal Pradesh. The Indian Air force has been searching for the missing aircraft since Monday\"]\n",
      "\n"
     ]
    },
    {
     "name": "stderr",
     "output_type": "stream",
     "text": [
      "\r",
      " 27%|██▋       | 281/1022 [4:19:33<11:23:51, 55.37s/it]"
     ]
    },
    {
     "name": "stdout",
     "output_type": "stream",
     "text": [
      "input_ids shape: torch.Size([1, 59])\n",
      "Reference Summary:\n",
      "Authorities say that a patient has died amid an outbreak of Legionnaires' disease in a recently opened hospital in Grove City, Ohio.\n",
      "Predictions: \n",
      "[\"Health officials say the outbreak is at a hospital in Ohio. The hospital is in a newly opened hospital in Grove City, Ohio. Officials say the hospital has been hit by a Legionnaires' disease outbreak. The outbreak is in the hospital's first week. The patient's death\"]\n",
      "\n"
     ]
    },
    {
     "name": "stderr",
     "output_type": "stream",
     "text": [
      "\r",
      " 28%|██▊       | 282/1022 [4:20:30<11:28:51, 55.85s/it]"
     ]
    },
    {
     "name": "stdout",
     "output_type": "stream",
     "text": [
      "input_ids shape: torch.Size([1, 59])\n",
      "Reference Summary:\n",
      "Insider trading. The US Supreme Court refused to take an appeal from the US Court of Appeals for the Second Circuit decision. The 'denial of cert' leaves standing the conviction of Mathew Martomo on charges of insider trading. on information leaked to him from representatives of two major pharmaceutical companies.\n",
      "Predictions: \n",
      "[\"The U.S. Supreme Court has rejected an appeal by former SAC Capital Advisors portfolio manager. The court ruled that the former Sac Capital Advisor's conviction was not justified. The decision was a victory for the SEC, which had been investigating the SAC portfolio\"]\n",
      "\n"
     ]
    },
    {
     "name": "stderr",
     "output_type": "stream",
     "text": [
      "\r",
      " 28%|██▊       | 283/1022 [4:21:27<11:35:30, 56.47s/it]"
     ]
    },
    {
     "name": "stdout",
     "output_type": "stream",
     "text": [
      "input_ids shape: torch.Size([1, 59])\n",
      "Reference Summary:\n",
      "U.S. President Donald Trump tweets a call to boycott AT&T in order to bring \"big changes\" at CNN.  AT&T has not given an official comment or statement back regarding the tweet.\n",
      "Predictions: \n",
      "[\"President Donald Trump has been in the UK for a week of meetings with the British government. He has been critical of the UK government's handling of the crisis in Syria. He also has been criticized for his treatment of the Syrian refugees. He is also being criticized for a possible\"]\n",
      "\n"
     ]
    },
    {
     "name": "stderr",
     "output_type": "stream",
     "text": [
      "\r",
      " 28%|██▊       | 284/1022 [4:22:25<11:38:11, 56.76s/it]"
     ]
    },
    {
     "name": "stdout",
     "output_type": "stream",
     "text": [
      "input_ids shape: torch.Size([1, 59])\n",
      "Reference Summary:\n",
      "In Australian rules football, Brendon Bolton is sacked as the head coach of the Carlton Football Club, following a prolonged period of poor on-field performances.\n",
      "Predictions: \n",
      "['Carlton have sacked coach Brendon Bolton. The club have not won a game since the start of the season. The Blues have lost all four of their games this season. Bolton was sacked on Monday after a poor run of results. The team have lost their last four games']\n",
      "\n"
     ]
    },
    {
     "name": "stderr",
     "output_type": "stream",
     "text": [
      "\r",
      " 28%|██▊       | 285/1022 [4:23:22<11:39:03, 56.91s/it]"
     ]
    },
    {
     "name": "stdout",
     "output_type": "stream",
     "text": [
      "input_ids shape: torch.Size([1, 58])\n",
      "Reference Summary:\n",
      "British-American cruise operator Carnival Corporation & PLC is fined $20 million for environmental violations.\n",
      "Predictions: \n",
      "[\"Carnival Corporation and its subsidiary, Carnival Cruise Lines, will pay a $20 million fine. The company has been fined for violating the rules on the use of the ocean. The fine is for the company's use of a ship's watercraft to dump waste.\"]\n",
      "\n"
     ]
    },
    {
     "name": "stderr",
     "output_type": "stream",
     "text": [
      "\r",
      " 28%|██▊       | 286/1022 [4:24:19<11:39:02, 56.99s/it]"
     ]
    },
    {
     "name": "stdout",
     "output_type": "stream",
     "text": [
      "input_ids shape: torch.Size([1, 59])\n",
      "Reference Summary:\n",
      "The United States announces new restrictions on American travel to Cuba. Effective Wednesday, travel via cruise ships or other conveyances, including private yachts or airplanes, is prohibited. Group travel under the previous \"people-to-people educational\" provision is also not allowed.\n",
      "Predictions: \n",
      "['The U.S. government has imposed new restrictions on travel to Cuba. The new restrictions are aimed at curbing travel to the island nation. The U.N. Security Council has approved a resolution that would allow some travel to and from Cuba. But the U.K']\n",
      "\n"
     ]
    },
    {
     "name": "stderr",
     "output_type": "stream",
     "text": [
      "\r",
      " 28%|██▊       | 287/1022 [4:24:31<8:51:44, 43.41s/it] "
     ]
    },
    {
     "name": "stdout",
     "output_type": "stream",
     "text": [
      "input_ids shape: torch.Size([1, 59])\n",
      "Reference Summary:\n",
      "China expands its warnings about travel to the U.S. issued for students and academics yesterday, to now cover tourists and businesses because, \"in recent days, there have been incidents of gun violence, robberies and thefts in the United States\".\n",
      "Predictions: \n",
      "['China warns its citizens to be careful when traveling to the U.S. It says they could be targeted by U.N. sanctions. China also warns of possible economic and political risks. It also warns that U.K. sanctions could be imposed on China. The U.A']\n",
      "\n"
     ]
    },
    {
     "name": "stderr",
     "output_type": "stream",
     "text": [
      "\r",
      " 28%|██▊       | 288/1022 [4:25:28<9:40:15, 47.43s/it]"
     ]
    },
    {
     "name": "stdout",
     "output_type": "stream",
     "text": [
      "input_ids shape: torch.Size([1, 57])\n",
      "Reference Summary:\n",
      "The United States rejects  separate requests from General Motors and Chinese-owned Volvo Cars for an exemption to the new 25 percent tariffs on their Chinese-made sport utility vehicle models.\n",
      "Predictions: \n",
      "['The U.S. has denied a request for an exemption to a 25 percent U.N. tariff on Chinese-made Buick SUV. The U.K. government has also rejected a request from GM for a tariff exemption on its Chinese-built SUV.']\n",
      "\n"
     ]
    },
    {
     "name": "stderr",
     "output_type": "stream",
     "text": [
      "\r",
      " 28%|██▊       | 289/1022 [4:25:40<7:28:33, 36.72s/it]"
     ]
    },
    {
     "name": "stdout",
     "output_type": "stream",
     "text": [
      "input_ids shape: torch.Size([1, 59])\n",
      "Reference Summary:\n",
      "Brazil's Ministry of Foreign Affairs confirms the closure of five of its embassies, the ones in Antigua and Barbuda, St. Vincent and the Grenadines, Grenada, St. Kitts and Nevis and Dominica. Former president Luiz Inácio Lula da Silva had opened more than 65 embassies in countries throughout the Global South in a bid to enhance political and economic ties with Brazil.\n",
      "Predictions: \n",
      "['The Caribbean is a key part of the South American region. The move will be a step towards a more successful regional integration. The Caribbean is the most populous region in the world. The region has a population of more than 1.5 million people. The country has a high']\n",
      "\n"
     ]
    },
    {
     "name": "stderr",
     "output_type": "stream",
     "text": [
      "\r",
      " 28%|██▊       | 290/1022 [4:26:37<8:41:58, 42.79s/it]"
     ]
    },
    {
     "name": "stdout",
     "output_type": "stream",
     "text": [
      "input_ids shape: torch.Size([1, 59])\n",
      "Reference Summary:\n",
      "Nigerian diplomat Tijjani Muhammad-Bande is elected President of the United Nations General Assembly, assuming the office on September and succeeding Peruvian María Fernanda Espinosa.\n",
      "Predictions: \n",
      "[\"Nigeria's ambassador to the UN is elected as the next president of the United Nations. Tijjani Muhammad-Bande is the first Nigerian to be elected as president of a major international body. He is the second Nigerian to hold the post. He was elected by the\"]\n",
      "\n"
     ]
    },
    {
     "name": "stderr",
     "output_type": "stream",
     "text": [
      "\r",
      " 28%|██▊       | 291/1022 [4:27:34<9:33:08, 47.04s/it]"
     ]
    },
    {
     "name": "stdout",
     "output_type": "stream",
     "text": [
      "input_ids shape: torch.Size([1, 58])\n",
      "Reference Summary:\n",
      "A mass shooting in Darwin, the capital of Australia's Northern Territory, leaves four people dead and another injured at five different locations. The 45-year-old suspect, who had been on parole since January, is arrested. Authorities say the shooting was not terrorism-related.\n",
      "Predictions: \n",
      "[\"A gunman has killed at least four people in Darwin, Australia's capital. The gunman is believed to have been killed by a woman in a car. The shooting took place in the city's central business district. The suspect is believed be a man in his 20s.\"]\n",
      "\n"
     ]
    },
    {
     "name": "stderr",
     "output_type": "stream",
     "text": [
      "\r",
      " 29%|██▊       | 292/1022 [4:28:31<10:09:44, 50.12s/it]"
     ]
    },
    {
     "name": "stdout",
     "output_type": "stream",
     "text": [
      "input_ids shape: torch.Size([1, 59])\n",
      "Reference Summary:\n",
      "Paul Manafort, former chief of President Donald Trump’s 2016 campaign, is set to be sent from federal prison to the New York City jail on Rikers Island.\n",
      "Predictions: \n",
      "[\"The president's former campaign manager is in the midst of a major political scandal. He is being held in a New York City hotel. He was accused of being a Russian spy and has been accused of embezzling millions of dollars. He has been charged with a series\"]\n",
      "\n"
     ]
    },
    {
     "name": "stderr",
     "output_type": "stream",
     "text": [
      "\r",
      " 29%|██▊       | 293/1022 [4:29:28<10:35:09, 52.28s/it]"
     ]
    },
    {
     "name": "stdout",
     "output_type": "stream",
     "text": [
      "input_ids shape: torch.Size([1, 59])\n",
      "Reference Summary:\n",
      "Former Broward Sheriff Office deputy Scot Peterson is arrested for failing to act during the incident at Marjory Stoneman Douglas High School.\n",
      "Predictions: \n",
      "['Former deputy who was on duty at Florida school was arrested on Tuesday. He was charged with 11 counts of failure to stop a school shooting. He is accused of failing to stop the shooting at Marjory Stoneman Douglas High School. The school was the site of a']\n",
      "\n"
     ]
    },
    {
     "name": "stderr",
     "output_type": "stream",
     "text": [
      "\r",
      " 29%|██▉       | 294/1022 [4:30:25<10:52:16, 53.76s/it]"
     ]
    },
    {
     "name": "stdout",
     "output_type": "stream",
     "text": [
      "input_ids shape: torch.Size([1, 59])\n",
      "Reference Summary:\n",
      "Jersey authorities seize over $267 million (£210m) from a Doraville Properties Corporation bank account of former Nigerian president and army chief of staff dictator Sani Abacha (d. 1998) after courts ruled billions of dollars were stolen and laundered through the United States into the Channel Islands.\n",
      "Predictions: \n",
      "['The money was taken from a bank account belonging to former Nigerian dictator. The money was allegedly stolen from the account of former dictator Sani Abacha. The former Nigerian president was accused of corruption. He was accused by the British government of stealing the money. The UK government has']\n",
      "\n"
     ]
    },
    {
     "name": "stderr",
     "output_type": "stream",
     "text": [
      "\r",
      " 29%|██▉       | 295/1022 [4:31:23<11:04:32, 54.84s/it]"
     ]
    },
    {
     "name": "stdout",
     "output_type": "stream",
     "text": [
      "input_ids shape: torch.Size([1, 59])\n",
      "Reference Summary:\n",
      "Virginia Governor Ralph Northam is expected to call a special session on gun control following the deadly shooting Friday afternoon in Virginia Beach that killed 12 people plus the shooter.\n",
      "Predictions: \n",
      "[\"Virginia Gov. Ralph Northam says he's not sure what the state's next steps will be. He says he'll hold a special session to discuss gun control. The governor says he wants to hold a meeting with the state legislature. He said he's concerned about the state\"]\n",
      "\n"
     ]
    },
    {
     "name": "stderr",
     "output_type": "stream",
     "text": [
      "\r",
      " 29%|██▉       | 296/1022 [4:32:20<11:12:26, 55.57s/it]"
     ]
    },
    {
     "name": "stdout",
     "output_type": "stream",
     "text": [
      "input_ids shape: torch.Size([1, 59])\n",
      "Reference Summary:\n",
      "Tens of thousands of people gather in Hong Kong to mark the 30th anniversary of the crackdown on protests in Beijing's Tiananmen Square. Hong Kong is one of the two places in China where people can openly commemorate the event, the other being Macau, to a lesser extent; elsewhere in China, the authorities have banned and blocked any reference to the crackdown.\n",
      "Predictions: \n",
      "['The Chinese government has been cracking down on the protests. The crackdown on pro-democracy protesters in Tiananmen Square has been a major cause of unrest. The protests were sparked by the Tiananman Square massacre in 1989. The Chinese government is now trying to quash the']\n",
      "\n"
     ]
    },
    {
     "name": "stderr",
     "output_type": "stream",
     "text": [
      "\r",
      " 29%|██▉       | 297/1022 [4:33:17<11:18:30, 56.15s/it]"
     ]
    },
    {
     "name": "stdout",
     "output_type": "stream",
     "text": [
      "input_ids shape: torch.Size([1, 59])\n",
      "Reference Summary:\n",
      "Six Change UK MPs quit the party, with several said to be defecting to the Liberal Democrats, including its interim leader Heidi Allen and spokesperson Chuka Umunna after the party failed to win a single seat in the 2019 European Parliament election. Anna Soubry, one of its remaining four MPs, becomes the party's new leader.\n",
      "Predictions: \n",
      "[\"Change UK has been in the spotlight since it was founded in February. The party has been trying to get a foothold in the UK's political scene. It has been forced to cut its number of MPs in the Commons to just five. The group has been criticised for its lack\"]\n",
      "\n"
     ]
    },
    {
     "name": "stderr",
     "output_type": "stream",
     "text": [
      "\r",
      " 29%|██▉       | 298/1022 [4:34:15<11:21:59, 56.52s/it]"
     ]
    },
    {
     "name": "stdout",
     "output_type": "stream",
     "text": [
      "input_ids shape: torch.Size([1, 59])\n",
      "Reference Summary:\n",
      "The United States House of Representatives passes the American Dream and Promise Act (HR 6), which offers a path to citizenship for millions of immigrants.\n",
      "Predictions: \n",
      "['The House of Representatives passed a bill that would give a path to citizenship to millions of immigrants. The bill would also provide a path for the children of immigrants who have been in the U.S. illegally for years. The legislation would also give a pathway to citizenship for the']\n",
      "\n"
     ]
    },
    {
     "name": "stderr",
     "output_type": "stream",
     "text": [
      "\r",
      " 29%|██▉       | 299/1022 [4:35:12<11:24:36, 56.81s/it]"
     ]
    },
    {
     "name": "stdout",
     "output_type": "stream",
     "text": [
      "input_ids shape: torch.Size([1, 59])\n",
      "Reference Summary:\n",
      "The Central Committee of Sudanese Doctors say the number of people killed this week in Sudan is at least 100, and that 40 bodies were pulled from the River Nile at Khartoum on Tuesday. Members of the Rapid Support Forces have reportedly been roaming the streets attacking civilians as it pushes deeper into Khartoum.\n",
      "Predictions: \n",
      "['Sudanese military has been fighting a crackdown on pro-democracy protesters. The crackdown has killed at least 60 people, including at least 20 protesters. Sudanese military says it is trying to restore order after a violent crackdown. The government has been accused of using force to']\n",
      "\n"
     ]
    },
    {
     "name": "stderr",
     "output_type": "stream",
     "text": [
      "\r",
      " 29%|██▉       | 300/1022 [4:35:22<8:31:38, 42.52s/it] "
     ]
    },
    {
     "name": "stdout",
     "output_type": "stream",
     "text": [
      "input_ids shape: torch.Size([1, 59])\n",
      "Reference Summary:\n",
      "A Sudanese official denies that  100 people were killed by a paramilitary unit during protests, saying that the number was at most 46.\n",
      "Predictions: \n",
      "['Sudanese official denies at least 100 people were killed by paramilitary unit during protests. Official says the number was at least 46, down from the original figure of 100. Sudanese official says at least 50 people were shot dead by a paramilitary unit. The opposition says at']\n",
      "\n"
     ]
    },
    {
     "name": "stderr",
     "output_type": "stream",
     "text": [
      "\r",
      " 29%|██▉       | 301/1022 [4:35:30<6:29:53, 32.45s/it]"
     ]
    },
    {
     "name": "stdout",
     "output_type": "stream",
     "text": [
      "input_ids shape: torch.Size([1, 59])\n",
      "Reference Summary:\n",
      "Syrian government and Russian warplanes conduct airstrikes that target Syria's northwest, killing five civilians in the town of Kansafra and three villages in Idlib, including two children.\n",
      "Predictions: \n",
      "['Syrian government forces have been fighting rebels in the northwest of Syria. The offensive is part of a larger campaign to retake the rebel-held Idlib province. The Syrian government has been fighting the rebels for years. The rebels are fighting to take back control of the city of Idlib.']\n",
      "\n"
     ]
    },
    {
     "name": "stderr",
     "output_type": "stream",
     "text": [
      "\r",
      " 30%|██▉       | 302/1022 [4:35:48<5:35:03, 27.92s/it]"
     ]
    },
    {
     "name": "stdout",
     "output_type": "stream",
     "text": [
      "input_ids shape: torch.Size([1, 59])\n",
      "Reference Summary:\n",
      "Government air attacks hit a motorcycle in the Idlib town of Maaret al-Numan, killing a woman and her two children.\n",
      "Predictions: \n",
      "['The Syrian government and Russian forces have been involved in a series of attacks on the city of Idlib. The attacks have killed at least five people, including two children. The attack comes as the city is being targeted by Russian and Syrian forces. The area is in the midst of']\n",
      "\n"
     ]
    },
    {
     "name": "stderr",
     "output_type": "stream",
     "text": [
      "\r",
      " 30%|██▉       | 303/1022 [4:36:45<7:19:17, 36.66s/it]"
     ]
    },
    {
     "name": "stdout",
     "output_type": "stream",
     "text": [
      "input_ids shape: torch.Size([1, 59])\n",
      "Reference Summary:\n",
      "Fiat Chrysler withdraws its merger proposal for French carmaker Renault after  Renault board members were unable to reach a decision on the offer.\n",
      "Predictions: \n",
      "[\"Fiat Chrysler's merger with Renault is a major step toward a possible merger. The two companies are both owned by French carmaker Renault. The merger would have created a new, more powerful, global carmaker. The deal would have been the biggest in the world's history\"]\n",
      "\n"
     ]
    },
    {
     "name": "stderr",
     "output_type": "stream",
     "text": [
      "\r",
      " 30%|██▉       | 304/1022 [4:37:42<8:32:35, 42.84s/it]"
     ]
    },
    {
     "name": "stdout",
     "output_type": "stream",
     "text": [
      "input_ids shape: torch.Size([1, 59])\n",
      "Reference Summary:\n",
      "YouTube announces a new policy regarding hate speech and harassment on the video sharing platform, saying it will specifically ban videos that include neo-nazi and supremacist content, subsequently suspending several popular right-wing channels, and demonetizing Steven Crowder's.\n",
      "Predictions: \n",
      "['YouTube is now removing videos that promote or promote violence. The company says it will also remove videos that glorify violence. YouTube is also removing videos promoting or promoting violence. It is also banning videos that encourage or glorify the killing of people. The move is part of a larger effort']\n",
      "\n"
     ]
    },
    {
     "name": "stderr",
     "output_type": "stream",
     "text": [
      "\r",
      " 30%|██▉       | 305/1022 [4:38:39<9:22:51, 47.10s/it]"
     ]
    },
    {
     "name": "stdout",
     "output_type": "stream",
     "text": [
      "input_ids shape: torch.Size([1, 57])\n",
      "Reference Summary:\n",
      "The Trump administration informs Congress of a potential $2 billion arms deal with Taiwan that includes the M1A2, the U.S.'s latest main battle tank, and a resupply of anti-air and anti-armor weapons. China's foreign ministry says it is \"severely concerned with\" and \"firmly against\" the plan.\n",
      "Predictions: \n",
      "['Taiwan has asked for more than 100 U.S. tanks and other weapons. The U.N. Security Council has approved the sale of arms to Taiwan. The move is seen as a major step toward closer ties with the U.K. and China.']\n",
      "\n"
     ]
    },
    {
     "name": "stderr",
     "output_type": "stream",
     "text": [
      "\r",
      " 30%|██▉       | 306/1022 [4:39:37<9:58:40, 50.17s/it]"
     ]
    },
    {
     "name": "stdout",
     "output_type": "stream",
     "text": [
      "input_ids shape: torch.Size([1, 59])\n",
      "Reference Summary:\n",
      "Australian federal police raid the headquarters of the country's public broadcaster, Australian Broadcasting Corporation, regarding the alleged publication of classified material in a 2017 report on allegations that Australian Special forces engaged in unlawful killings and gross misconduct in Afghanistan. The day before, police raided Herald Sun journalist Annika Smethurst's home regarding an alleged leak of national security information.\n",
      "Predictions: \n",
      "[\"Australian police raid the offices of the Australian Broadcasting Corporation. The raid is in response to a story about a possible leak of confidential information. The ABC is the Australian government's national broadcaster. The story was published in the Australian newspaper on Wednesday. The Australian Federal Police are investigating the\"]\n",
      "\n"
     ]
    },
    {
     "name": "stderr",
     "output_type": "stream",
     "text": [
      "\r",
      " 30%|███       | 307/1022 [4:40:34<10:23:35, 52.33s/it]"
     ]
    },
    {
     "name": "stdout",
     "output_type": "stream",
     "text": [
      "input_ids shape: torch.Size([1, 59])\n",
      "Reference Summary:\n",
      "Detroit Police Chief James Craig announces the department is looking for a possible serial killer in three unsolved murders of sex workers in the city dating back to March.\n",
      "Predictions: \n",
      "[\"Detroit police say they are looking for a serial killer and rapist. The killings are believed to be connected to the deaths of three women. The victims were found dead in Detroit homes. Police say the victims were killed in the city's east side. The women were found in homes\"]\n",
      "\n"
     ]
    },
    {
     "name": "stderr",
     "output_type": "stream",
     "text": [
      "\r",
      " 30%|███       | 308/1022 [4:41:31<10:39:29, 53.74s/it]"
     ]
    },
    {
     "name": "stdout",
     "output_type": "stream",
     "text": [
      "input_ids shape: torch.Size([1, 56])\n",
      "Reference Summary:\n",
      "The center-left Social Democrats win 48 of the 179 seats in the Folketing (parliament). Current Liberal Prime Minister Lars Løkke Rasmussen concedes defeat, paving the way for Social Democrat leader Mette Frederiksen, who at 41 is set to be the country's youngest prime minister.\n",
      "Predictions: \n",
      "[\"Danish PM's party is the largest in the country's parliament. Social Democrats are expected to win a majority in the next election. The party is expected to take control of the government in 2015. The Social Democrats have been in power since the 1990s.\"]\n",
      "\n"
     ]
    },
    {
     "name": "stderr",
     "output_type": "stream",
     "text": [
      "\r",
      " 30%|███       | 309/1022 [4:42:28<10:50:45, 54.76s/it]"
     ]
    },
    {
     "name": "stdout",
     "output_type": "stream",
     "text": [
      "input_ids shape: torch.Size([1, 58])\n",
      "Reference Summary:\n",
      "President of Peru Martín Vizcarra wins a motion of confidence in the Congress of the Republic.\n",
      "Predictions: \n",
      "[\"Peru's government has been in power since last year. President Martin Vizcarra has been trying to push through anti-corruption reforms. The president has been criticized for his handling of the economy. The government has also been criticized over its handling of a corruption scandal.\"]\n",
      "\n"
     ]
    },
    {
     "name": "stderr",
     "output_type": "stream",
     "text": [
      "\r",
      " 30%|███       | 310/1022 [4:43:25<10:57:38, 55.42s/it]"
     ]
    },
    {
     "name": "stdout",
     "output_type": "stream",
     "text": [
      "input_ids shape: torch.Size([1, 59])\n",
      "Reference Summary:\n",
      "Reuters, citing \"a source familiar with the matter\", said that the hedge fund firm Elliott Management is in talks to acquire the storied bookseller Barnes & Noble for roughly $476 million.\n",
      "Predictions: \n",
      "[\"The retailer is being bought by a hedge fund. The deal is worth $638 million. The company is the nation's largest bookseller. The retailer is owned by Barnes & Noble, a chain of stores. The sale is expected to close in the next few months.\"]\n",
      "\n"
     ]
    },
    {
     "name": "stderr",
     "output_type": "stream",
     "text": [
      "\r",
      " 30%|███       | 311/1022 [4:44:22<11:02:57, 55.95s/it]"
     ]
    },
    {
     "name": "stdout",
     "output_type": "stream",
     "text": [
      "input_ids shape: torch.Size([1, 59])\n",
      "Reference Summary:\n",
      "President of France Emmanuel Macron, Prime Minister of the United Kingdom Theresa May, Prime Minister of Canada Justin Trudeau and President of the United States Donald Trump mark the 75th Anniversary of D-Day in Normandy, France, paying tribute to Allied World War II veterans.\n",
      "Predictions: \n",
      "['D-Day veterans are commemorating the 75th anniversary of the D-Day invasion of Normandy. The Normandy invasion was the largest single-day invasion of World War II. The U.S. invasion of France was the biggest single- day operation in the history of the']\n",
      "\n"
     ]
    },
    {
     "name": "stderr",
     "output_type": "stream",
     "text": [
      "\r",
      " 31%|███       | 312/1022 [4:45:19<11:05:02, 56.20s/it]"
     ]
    },
    {
     "name": "stdout",
     "output_type": "stream",
     "text": [
      "input_ids shape: torch.Size([1, 56])\n",
      "Reference Summary:\n",
      "The African Union suspends Sudan's membership \"with immediate effect\", after dozens of protesters were killed by pro-government forces in the capital Khartoum.\n",
      "Predictions: \n",
      "[\"The Sudanese government has been accused of using force against protesters. The government has also been accused by the opposition of using violence to suppress the protests. The opposition says the government is using force to suppress protesters. Sudan's president has been in power since 2011.\"]\n",
      "\n"
     ]
    },
    {
     "name": "stderr",
     "output_type": "stream",
     "text": [
      "\r",
      " 31%|███       | 313/1022 [4:46:16<11:06:58, 56.44s/it]"
     ]
    },
    {
     "name": "stdout",
     "output_type": "stream",
     "text": [
      "input_ids shape: torch.Size([1, 59])\n",
      "Reference Summary:\n",
      "Niels Högel, post-war Germany's serial killer with the highest known kill count, is sentenced to life imprisonment for 85 murders.\n",
      "Predictions: \n",
      "['A German nurse has been sentenced to life in prison for killing 85 patients. The nurse was convicted of killing patients in a series of attacks in the 1990s. The killer was a former nurse who was convicted in a case that shocked Germany. The case was the first of its']\n",
      "\n"
     ]
    },
    {
     "name": "stderr",
     "output_type": "stream",
     "text": [
      "\r",
      " 31%|███       | 314/1022 [4:47:13<11:07:54, 56.60s/it]"
     ]
    },
    {
     "name": "stdout",
     "output_type": "stream",
     "text": [
      "input_ids shape: torch.Size([1, 59])\n",
      "Reference Summary:\n",
      "American singer R. Kelly pleads not guilty to 11 additional sex-related felonies during a court hearing in Chicago.\n",
      "Predictions: \n",
      "['R. Kelly is accused of sexually assaulting several women. He has pleaded not guilty to the charges. The singer is accused in a case that began in 2007. He is accused by the women of sexually abusing them. He faces up to 30 years in prison. He was arrested in 2011']\n",
      "\n"
     ]
    },
    {
     "name": "stderr",
     "output_type": "stream",
     "text": [
      "\r",
      " 31%|███       | 315/1022 [4:48:10<11:08:40, 56.75s/it]"
     ]
    },
    {
     "name": "stdout",
     "output_type": "stream",
     "text": [
      "input_ids shape: torch.Size([1, 59])\n",
      "Reference Summary:\n",
      "The Labour Party holds the Peterborough seat in the by-election, defying predictions that they would lose the seat to the Brexit Party. The seat was vacated after a successful recall petition against its previous MP Fiona Onasanya.\n",
      "Predictions: \n",
      "[\"The party's candidate for the seat of Peterborough, Peterborough MP, was a former Tory. The party's leader, Mr Farage, was the first to congratulate the Labour Party on the result. The result was a victory for the party's new leader, who was elected\"]\n",
      "\n"
     ]
    },
    {
     "name": "stderr",
     "output_type": "stream",
     "text": [
      "\r",
      " 31%|███       | 316/1022 [4:48:22<8:29:11, 43.27s/it] "
     ]
    },
    {
     "name": "stdout",
     "output_type": "stream",
     "text": [
      "input_ids shape: torch.Size([1, 59])\n",
      "Reference Summary:\n",
      "After the defeating of his party in the general election, Prime Minister Lars Løkke Rasmussen resigns, but will remain as acting in the office until his succession.\n",
      "Predictions: \n",
      "[\"Lars Loekke Rasmussen's government was defeated in a general election. The election was held on November 14. The result was a victory for the opposition. The next step is to find a new government. The current government is expected to be replaced by a new one in\"]\n",
      "\n"
     ]
    },
    {
     "name": "stderr",
     "output_type": "stream",
     "text": [
      "\r",
      " 31%|███       | 317/1022 [4:48:34<6:37:11, 33.80s/it]"
     ]
    },
    {
     "name": "stdout",
     "output_type": "stream",
     "text": [
      "input_ids shape: torch.Size([1, 59])\n",
      "Reference Summary:\n",
      "Over 120 rebels are killed in northwestern Hama Governorate, after failed attacks against Syrian troops.\n",
      "Predictions: \n",
      "[\"Syrian Army has been fighting militants in Hama since March. The Syrian army has been battling militants in the city of Hama. The offensive is being led by the Syrian Army's elite HTS. The operation is being backed by the Russian military. The Russian military has been supporting the\"]\n",
      "\n"
     ]
    },
    {
     "name": "stderr",
     "output_type": "stream",
     "text": [
      "\r",
      " 31%|███       | 318/1022 [4:49:30<7:57:33, 40.70s/it]"
     ]
    },
    {
     "name": "stdout",
     "output_type": "stream",
     "text": [
      "input_ids shape: torch.Size([1, 59])\n",
      "Reference Summary:\n",
      "Authorities arrested Ashiqul Alam who allegedly planned to attack Times Square in New York City with grenades, guns and a suicide vest.\n",
      "Predictions: \n",
      "['A man was arrested in New York City for allegedly plotting to attack Times Square. He was arrested after allegedly trying to buy a gun and a bomb. He is accused of plotting to use the gun to attack the square. He allegedly planned to use a bomb to detonate the']\n",
      "\n"
     ]
    },
    {
     "name": "stderr",
     "output_type": "stream",
     "text": [
      "\r",
      " 31%|███       | 319/1022 [4:50:27<8:54:01, 45.58s/it]"
     ]
    },
    {
     "name": "stdout",
     "output_type": "stream",
     "text": [
      "input_ids shape: torch.Size([1, 59])\n",
      "Reference Summary:\n",
      "U.S. Representatives Peter DeFazio and Rick Larsen of the House Transportation committee report Boeing discovered the 737 Max AOA  Disagree alert problem in 2017 but decided to defer fixing it until 2020,  and sped up the process only after the Lion Air Flight 610 crash.  (Reuters) (The Seattle Times)\n",
      "Predictions: \n",
      "[\"Boeing's 737 Max plane has a safety alert that is not working. The company has been trying to fix the problem for years. The problem was discovered after the first of two fatal crashes. Boeing says it will fix the issue in the next few months. The plane is scheduled\"]\n",
      "\n"
     ]
    },
    {
     "name": "stderr",
     "output_type": "stream",
     "text": [
      "\r",
      " 31%|███▏      | 320/1022 [4:51:24<9:33:24, 49.01s/it]"
     ]
    },
    {
     "name": "stdout",
     "output_type": "stream",
     "text": [
      "input_ids shape: torch.Size([1, 59])\n",
      "Reference Summary:\n",
      "Brazilian Vice President Hamilton Mourão  says the government will not exclude Chinese telecom company Huawei Technologies Co. from operating a fifth-generation (5G) mobile telecom network.\n",
      "Predictions: \n",
      "[\"The Chinese tech giant is the latest to be hit by the U.S. government's crackdown on its mobile phone network. The move is a blow to the U.,S. and Chinese companies that have been trying to build up their networks. The U.K. government\"]\n",
      "\n"
     ]
    },
    {
     "name": "stderr",
     "output_type": "stream",
     "text": [
      "\r",
      " 31%|███▏      | 321/1022 [4:51:36<7:21:57, 37.83s/it]"
     ]
    },
    {
     "name": "stdout",
     "output_type": "stream",
     "text": [
      "input_ids shape: torch.Size([1, 59])\n",
      "Reference Summary:\n",
      "Colombia’s top administrative court begins hearings on proposals to drill for oil using the technique known as fracking.\n",
      "Predictions: \n",
      "[\"Colombia's top administrative court begins hearings on proposals to drill for oil using fracking. Technique hailed for sharply boosting supplies but criticized for causing environmental damage. Colombia tribunal begins hearing evidence on use of fracking. The hearing could be long and contentious. The tribunal will hear evidence on\"]\n",
      "\n"
     ]
    },
    {
     "name": "stderr",
     "output_type": "stream",
     "text": [
      "\r",
      " 32%|███▏      | 322/1022 [4:52:34<8:30:40, 43.77s/it]"
     ]
    },
    {
     "name": "stdout",
     "output_type": "stream",
     "text": [
      "input_ids shape: torch.Size([1, 59])\n",
      "Reference Summary:\n",
      "An Oman-registered bus carrying 31 passengers crashes into an overhead traffic sign in Dubai, United Arab Emirates, killing at least 17 people.\n",
      "Predictions: \n",
      "['The bus was carrying 17 people from Oman to Dubai. The bus crashed into a sign on a highway in Dubai. It was carrying people from the UAE to Dubai, Oman and Saudi Arabia. The driver was killed in the crash. The passengers were from India, Pakistan, Iran']\n",
      "\n"
     ]
    },
    {
     "name": "stderr",
     "output_type": "stream",
     "text": [
      "\r",
      " 32%|███▏      | 323/1022 [4:53:31<9:17:55, 47.89s/it]"
     ]
    },
    {
     "name": "stdout",
     "output_type": "stream",
     "text": [
      "input_ids shape: torch.Size([1, 57])\n",
      "Reference Summary:\n",
      "Three people on a  rescue mission are killed when Storm Miguel, with max winds of  129 km/h (80 mph), overturned their National Society of Sea Rescue boat off the west coast of France in the Atlantic Ocean.  The  storm, unusual at the start of the summer tourist season, hit Spain, the Netherlands and southern England and Wales yesterday and is heading north toward  England, Wales and Scotland.\n",
      "Predictions: \n",
      "['The Netherlands and England are in the final stages of the European Championship. The Netherlands are the first to reach the final of the tournament. The final will be held in the Netherlands on Sunday. The tournament will be the first time the tournament has been held in Europe.']\n",
      "\n"
     ]
    },
    {
     "name": "stderr",
     "output_type": "stream",
     "text": [
      "\r",
      " 32%|███▏      | 324/1022 [4:54:28<9:49:33, 50.68s/it]"
     ]
    },
    {
     "name": "stdout",
     "output_type": "stream",
     "text": [
      "input_ids shape: torch.Size([1, 57])\n",
      "Reference Summary:\n",
      "In the United Kingdom, three hospital patients die from listeria linked to prepacked sandwiches from North Country Cooked Meats distributed via The Good Food Chain, which supplies 43 National Health Service trusts across the country. Three other patients are seriously ill. North Country Cooked Meats, and its distributor, North Country Quality Foods, voluntarily cease production while the investigation is ongoing.\n",
      "Predictions: \n",
      "['Three people have died in the UK after eating contaminated sandwiches. The sandwiches were made in the NHS and were sold in hospitals. The outbreak of listeria is thought to be linked to the sandwiches. Three people have been killed and three more have been seriously ill.']\n",
      "\n"
     ]
    },
    {
     "name": "stderr",
     "output_type": "stream",
     "text": [
      "\r",
      " 32%|███▏      | 325/1022 [4:55:26<10:11:12, 52.61s/it]"
     ]
    },
    {
     "name": "stdout",
     "output_type": "stream",
     "text": [
      "input_ids shape: torch.Size([1, 59])\n",
      "Reference Summary:\n",
      "The U.S. cruiser USS Chancellorsville and the Russian destroyer Admiral Vinogradov almost collide in the western Pacific Ocean. Each side blames the other, and their reports disagree as to the location of the incident: Russia claims it happened in the East China Sea, while the U.S. says it was in the nearby Philippine Sea.\n",
      "Predictions: \n",
      "['US and Russian warships came within a few feet of each other in the Pacific Ocean. The U.S. and Russian navies are at odds over the incident. The Russian Navy says the U.N. Security Council has approved a joint military exercise with the U.,S']\n",
      "\n"
     ]
    },
    {
     "name": "stderr",
     "output_type": "stream",
     "text": [
      "\r",
      " 32%|███▏      | 326/1022 [4:56:23<10:26:35, 54.02s/it]"
     ]
    },
    {
     "name": "stdout",
     "output_type": "stream",
     "text": [
      "input_ids shape: torch.Size([1, 59])\n",
      "Reference Summary:\n",
      "The United Arab Emirates tells the UN Security Council that a \"state actor\" was most likely behind the May 12 attacks on four tankers off its coast, including ones from Saudi Arabia and Norway. UAE did not say who it suspected; the United States blamed Iran which denied the accusation.\n",
      "Predictions: \n",
      "['U.S. says it is investigating the possibility of a possible Iranian military strike on U.S.-led forces. The U.N. Security Council has approved a resolution to prevent Iran from attacking U.K. forces in the Middle East. The resolution would also seek']\n",
      "\n"
     ]
    },
    {
     "name": "stderr",
     "output_type": "stream",
     "text": [
      "\r",
      " 32%|███▏      | 327/1022 [4:57:20<10:36:18, 54.93s/it]"
     ]
    },
    {
     "name": "stdout",
     "output_type": "stream",
     "text": [
      "input_ids shape: torch.Size([1, 59])\n",
      "Reference Summary:\n",
      "The United States notifies Turkey that it will  cancel Turkey's purchase of F-35 fighter jets if the government goes ahead with purchasing  Russia's S-400 missile defense system.\n",
      "Predictions: \n",
      "['The U.S. has been trying to get Turkey to stop buying Russian-made F-35s. The U.N. Security Council has approved the purchase of the F- 35s. Turkey has been given permission to buy the F/A-18s.']\n",
      "\n"
     ]
    },
    {
     "name": "stderr",
     "output_type": "stream",
     "text": [
      "\r",
      " 32%|███▏      | 328/1022 [4:58:17<10:43:29, 55.63s/it]"
     ]
    },
    {
     "name": "stdout",
     "output_type": "stream",
     "text": [
      "input_ids shape: torch.Size([1, 59])\n",
      "Reference Summary:\n",
      "Mexico and the United States reach a deal on migration, suspending tariffs on Mexican imports into the U.S. which were to take effect on June 10. Mexico agreed to increase its enforcement efforts along their southern border with Guatemala, including deploying troops from their upcoming National Guard [es].\n",
      "Predictions: \n",
      "[\"President Trump has said he will impose tariffs on Mexico if it doesn't stop its trade with the U.S. The U.N. says the move would be a violation of the UN's trade pact with the United States. The United States has been trying to negotiate a\"]\n",
      "\n"
     ]
    },
    {
     "name": "stderr",
     "output_type": "stream",
     "text": [
      "\r",
      " 32%|███▏      | 329/1022 [4:59:14<10:47:34, 56.07s/it]"
     ]
    },
    {
     "name": "stdout",
     "output_type": "stream",
     "text": [
      "input_ids shape: torch.Size([1, 59])\n",
      "Reference Summary:\n",
      "UK Prime Minister Theresa May resigns as Leader of the Conservative Party, paving the way for a new Prime Minister to be elected.\n",
      "Predictions: \n",
      "[\"Theresa May's resignation as leader of the Conservative Party is a major blow to the party. The party's leader has been in power since 2010. The PM's resignation is a blow to her leadership, with the party's future in doubt. The next leader will be chosen\"]\n",
      "\n"
     ]
    },
    {
     "name": "stderr",
     "output_type": "stream",
     "text": [
      "\r",
      " 32%|███▏      | 330/1022 [5:00:11<10:49:44, 56.34s/it]"
     ]
    },
    {
     "name": "stdout",
     "output_type": "stream",
     "text": [
      "input_ids shape: torch.Size([1, 59])\n",
      "Reference Summary:\n",
      "The United Nations reports more than four million Venezuelans have fled their country during the economic and humanitarian crisis.\n",
      "Predictions: \n",
      "['The U.N. says the number of Venezuelans fleeing the country is at a record high. The U.S. government says the country has lost more than 1.5 million people to violence and hunger. The United Nations says the exodus is a sign of the country']\n",
      "\n"
     ]
    },
    {
     "name": "stderr",
     "output_type": "stream",
     "text": [
      "\r",
      " 32%|███▏      | 331/1022 [5:01:08<10:51:03, 56.53s/it]"
     ]
    },
    {
     "name": "stdout",
     "output_type": "stream",
     "text": [
      "input_ids shape: torch.Size([1, 59])\n",
      "Reference Summary:\n",
      "NASA announces that the International Space Station will be opened for commercial business in 2020 for $58 million.\n",
      "Predictions: \n",
      "['NASA will open the International Space Station to private astronauts. The agency will also allow commercial flights to the station. The space station will be open to private companies for up to a year. The first commercial flights will be scheduled for early next year. It will be available to private citizens for']\n",
      "\n"
     ]
    },
    {
     "name": "stderr",
     "output_type": "stream",
     "text": [
      "\r",
      " 32%|███▏      | 332/1022 [5:02:05<10:51:12, 56.63s/it]"
     ]
    },
    {
     "name": "stdout",
     "output_type": "stream",
     "text": [
      "input_ids shape: torch.Size([1, 58])\n",
      "Reference Summary:\n",
      "The 2019 FIFA Women's World Cup starts with the hosts France defeating South Korea 4–0.\n",
      "Predictions: \n",
      "[\"The World Cup is the first major women's football tournament in the world. The tournament is being held in France. The World Cup will be held in Paris from June 14 to July 14. The event is the only one of its kind in the history of the sport.\"]\n",
      "\n"
     ]
    },
    {
     "name": "stderr",
     "output_type": "stream",
     "text": [
      "\r",
      " 33%|███▎      | 333/1022 [5:03:02<10:51:03, 56.70s/it]"
     ]
    },
    {
     "name": "stdout",
     "output_type": "stream",
     "text": [
      "input_ids shape: torch.Size([1, 56])\n",
      "Reference Summary:\n",
      "Abdul Baset al-Sarout, a Jaysh al-Izza commander, the “singer of the revolution”, and former Syria national football team goalkeeper, dies from wounds sustained Thursday when he was struck by Syrian Army artillery.\n",
      "Predictions: \n",
      "['Abdel-Basset al-Sarout, a Syrian goalkeeper, died in a battle with regime forces. He was a member of the Syrian National Army, a rebel group. He died of wounds sustained in a fight against regime forces in Syria.']\n",
      "\n"
     ]
    },
    {
     "name": "stderr",
     "output_type": "stream",
     "text": [
      "\r",
      " 33%|███▎      | 334/1022 [5:03:42<9:53:25, 51.75s/it] "
     ]
    },
    {
     "name": "stdout",
     "output_type": "stream",
     "text": [
      "input_ids shape: torch.Size([1, 59])\n",
      "Reference Summary:\n",
      "Human remains found at a beach near the Port of Quebec in 2011 and 2016 are identified as those of 21 shipwreck victims, who drowned in 1847 while fleeing the Irish Great Famine.\n",
      "Predictions: \n",
      "['The remains of Irish immigrants were found in Quebec in 2011 and 2016. They were found on a beach in the town of Gaspé. The remains were discovered by a Canadian team who were searching for the remains of a shipwreck. The shipwreck was from the 1847']\n",
      "\n"
     ]
    },
    {
     "name": "stderr",
     "output_type": "stream",
     "text": [
      "\r",
      " 33%|███▎      | 335/1022 [5:04:39<10:10:58, 53.36s/it]"
     ]
    },
    {
     "name": "stdout",
     "output_type": "stream",
     "text": [
      "input_ids shape: torch.Size([1, 59])\n",
      "Reference Summary:\n",
      "Several people, protesting Meduza investigative journalist Ivan Golunov's arrest Thursday on drug charges, are themselves arrested outside Moscow's Nikulinsky Court. Others were arrested yesterday. His lawyer says drugs were planted on him. Golunov was taken to a hospital, police say because he said he was ill. Meduza says he was beaten up during and after his arrest. A doctor's examination found the reporter  has  \"a suspected rib fracture, concussion and hematoma.\" (BBC) (Moscow Times)\n",
      "Predictions: \n",
      "['Russian journalist Ivan Golunov is accused of drug dealing. He was detained on drug charges in Moscow. Golunova is a prominent journalist and blogger. He is accused by police of drug possession. He has been detained since last week. He says he was arrested on drug']\n",
      "\n"
     ]
    },
    {
     "name": "stderr",
     "output_type": "stream",
     "text": [
      "\r",
      " 33%|███▎      | 336/1022 [5:05:36<10:22:35, 54.45s/it]"
     ]
    },
    {
     "name": "stdout",
     "output_type": "stream",
     "text": [
      "input_ids shape: torch.Size([1, 59])\n",
      "Reference Summary:\n",
      "At least one person is killed and six others are injured after a crane collapses onto an apartment building in Dallas, Texas, amid severe weather.\n",
      "Predictions: \n",
      "['A crane collapsed on a Dallas apartment building, killing one person. The crane was being used to build a new apartment complex. The building was hit by a storm that hit the city on Sunday. The incident occurred in the middle of the day. The cause of the collapse is']\n",
      "\n"
     ]
    },
    {
     "name": "stderr",
     "output_type": "stream",
     "text": [
      "\r",
      " 33%|███▎      | 337/1022 [5:06:33<10:30:36, 55.24s/it]"
     ]
    },
    {
     "name": "stdout",
     "output_type": "stream",
     "text": [
      "input_ids shape: torch.Size([1, 59])\n",
      "Reference Summary:\n",
      "A woman is killed when a police officer driving under the influence crashes into a restaurant in Illinois.\n",
      "Predictions: \n",
      "[\"The crash happened in Chicago. The woman was killed in the crash. The driver was not a police officer. The incident occurred in the city's South Side. The victim was a woman in her 20s. She was pronounced dead at the scene. The officer was not injured\"]\n",
      "\n"
     ]
    },
    {
     "name": "stderr",
     "output_type": "stream",
     "text": [
      "\r",
      " 33%|███▎      | 338/1022 [5:07:30<10:35:57, 55.79s/it]"
     ]
    },
    {
     "name": "stdout",
     "output_type": "stream",
     "text": [
      "input_ids shape: torch.Size([1, 59])\n",
      "Reference Summary:\n",
      "Vietnamese customs say it will crack down on goods of Chinese origin illegally relabeled \"Made in Vietnam\" by exporters seeking to avoid American tariffs on Chinese imports.\n",
      "Predictions: \n",
      "['Vietnam says it is taking steps to prevent Chinese companies from using illegal \"Made in Vietnam\" labels. China is using the labels to avoid high tariffs imposed by the U.S. on its goods. Vietnam says it will take steps to stop Chinese companies using the fake']\n",
      "\n"
     ]
    },
    {
     "name": "stderr",
     "output_type": "stream",
     "text": [
      "\r",
      " 33%|███▎      | 339/1022 [5:08:27<10:39:18, 56.16s/it]"
     ]
    },
    {
     "name": "stdout",
     "output_type": "stream",
     "text": [
      "input_ids shape: torch.Size([1, 59])\n",
      "Reference Summary:\n",
      "Former Boston Red Sox designated hitter David Ortiz is shot in the Dominican Republic during a reported robbery attempt. He is expected to fully recover following surgery.\n",
      "Predictions: \n",
      "['The Red Sox and the Yankees are in the midst of a three-game series. The Red Sox are in a tough stretch of games against the Yankees and the Rays. The Yankees are on the road in the World Series. The Sox are on a three game winning streak.']\n",
      "\n"
     ]
    },
    {
     "name": "stderr",
     "output_type": "stream",
     "text": [
      "\r",
      " 33%|███▎      | 340/1022 [5:09:24<10:40:38, 56.36s/it]"
     ]
    },
    {
     "name": "stdout",
     "output_type": "stream",
     "text": [
      "input_ids shape: torch.Size([1, 57])\n",
      "Reference Summary:\n",
      "Kassym-Jomart Tokayev is elected as the next president of Kazakhstan. The election was marred by the arrests of more than 500 protesters and was not declared to be fully democratic by OSCE observers.\n",
      "Predictions: \n",
      "[\"Kazakhstan's president-elect is a former prime minister. He is the son of former president Nursultan Nazarbayev. The election was held on Sunday. The vote was held in a country that has been ruled by the same leader since 1991.\"]\n",
      "\n"
     ]
    },
    {
     "name": "stderr",
     "output_type": "stream",
     "text": [
      "\r",
      " 33%|███▎      | 341/1022 [5:10:21<10:42:10, 56.58s/it]"
     ]
    },
    {
     "name": "stdout",
     "output_type": "stream",
     "text": [
      "input_ids shape: torch.Size([1, 59])\n",
      "Reference Summary:\n",
      "The Constitutional Court of Moldova dissolves the national parliament and removes Moldovan President Igor Dodon from office, appointing former prime minister Pavel Filip in his place. Dodon, as well as the Parliament of Moldova defy the move, hence triggering a constitutional crisis.\n",
      "Predictions: \n",
      "[\"Moldova's president is suspended after a court orders him to step down. The president has been in office since November. The country's parliament has been unable to agree on a new government. The opposition has called for a new election. The government has been accused of corruption\"]\n",
      "\n"
     ]
    },
    {
     "name": "stderr",
     "output_type": "stream",
     "text": [
      "\r",
      " 33%|███▎      | 342/1022 [5:11:18<10:42:38, 56.70s/it]"
     ]
    },
    {
     "name": "stdout",
     "output_type": "stream",
     "text": [
      "input_ids shape: torch.Size([1, 59])\n",
      "Reference Summary:\n",
      "Over 1 million people gather in the streets of Hong Kong to protest a new controversial law which would allow the city to extradite fugitives to China.\n",
      "Predictions: \n",
      "[\"Hong Kong's government is considering a bill to allow extradition of suspects to China. The bill would allow suspects to be sent to China to face trial on charges of terrorism. The move would allow the extradition of criminals to be tried in China. Hong Kong's leader, Carrie Lam\"]\n",
      "\n"
     ]
    },
    {
     "name": "stderr",
     "output_type": "stream",
     "text": [
      "\r",
      " 34%|███▎      | 343/1022 [5:12:15<10:42:58, 56.82s/it]"
     ]
    },
    {
     "name": "stdout",
     "output_type": "stream",
     "text": [
      "input_ids shape: torch.Size([1, 59])\n",
      "Reference Summary:\n",
      "Several text and audio messages between Brazilian judge Sérgio Moro and lead prosecutor Deltan Dallagnol are leaked, casting doubt over the trial of former Brazilian President Luiz Inácio Lula da Silva on the grounds of illegal collaboration between court and prosecution. The leaks also point to interference in the 2018 elections by Operation Car Wash's task force officials.\n",
      "Predictions: \n",
      "['Brazilian judge is accused of being part of a corruption probe. The judge is also accused of having a role in a corruption scandal. The case is part of the so-called \"Car Wash\" probe into Brazil\\'s political system. The investigation has been ongoing for more than']\n",
      "\n"
     ]
    },
    {
     "name": "stderr",
     "output_type": "stream",
     "text": [
      "\r",
      " 34%|███▎      | 344/1022 [5:13:12<10:42:47, 56.88s/it]"
     ]
    },
    {
     "name": "stdout",
     "output_type": "stream",
     "text": [
      "input_ids shape: torch.Size([1, 59])\n",
      "Reference Summary:\n",
      "Spaniard Rafael Nadal, who turned 33 this past Monday, defeats Austrian Dominic Thiem 6–3, 5–7, 6–1, 6–1 for his 12th French Open men's singles championship, and his 18th Grand Slam title.\n",
      "Predictions: \n",
      "[\"Rafael Nadal beats Dominic Thiem in straight sets to win French Open. Nadal wins his 12th French Open title, his first since 2009. Nadals' win over Thiem was his first in four attempts at the French Open final. Nadala's win\"]\n",
      "\n"
     ]
    },
    {
     "name": "stderr",
     "output_type": "stream",
     "text": [
      "\r",
      " 34%|███▍      | 345/1022 [5:14:09<10:41:33, 56.86s/it]"
     ]
    },
    {
     "name": "stdout",
     "output_type": "stream",
     "text": [
      "input_ids shape: torch.Size([1, 56])\n",
      "Reference Summary:\n",
      "An attack on a village near the town of Sangha in central Mali kills 95 Dogon villagers. The mayor of nearby Bankass blames local Fulani.\n",
      "Predictions: \n",
      "['The attack took place in a village in central Mali. The attack was the latest in a series of attacks on the region. The village is in the central region of the country. The attacks are believed to have been carried out by a group of armed men.']\n",
      "\n"
     ]
    },
    {
     "name": "stderr",
     "output_type": "stream",
     "text": [
      "\r",
      " 34%|███▍      | 346/1022 [5:15:06<10:41:35, 56.95s/it]"
     ]
    },
    {
     "name": "stdout",
     "output_type": "stream",
     "text": [
      "input_ids shape: torch.Size([1, 59])\n",
      "Reference Summary:\n",
      "Boko Haram militants attacked the town of Darak in Cameroon’s Far North Region bordering Lake Chad, killing 21 soldiers and 16 civilians. Several Boko Haram attackers were also killed.\n",
      "Predictions: \n",
      "['The Nigerian Army says it has killed nine Boko Haram members. The group is known for its violent attacks on civilians and security forces. The Nigerian Army has killed at least nine Boko Boko Haram militants. The military says it killed the militants in a raid on a village in the Niger']\n",
      "\n"
     ]
    },
    {
     "name": "stderr",
     "output_type": "stream",
     "text": [
      "\r",
      " 34%|███▍      | 347/1022 [5:16:03<10:40:59, 56.98s/it]"
     ]
    },
    {
     "name": "stdout",
     "output_type": "stream",
     "text": [
      "input_ids shape: torch.Size([1, 59])\n",
      "Reference Summary:\n",
      "The Vatican issues a teaching instruction, Male and Female He Created Them, which criticizes the theory of gender as being more complex than the binary division of sexes. The document draws criticism from LGBT groups.\n",
      "Predictions: \n",
      "['Vatican says it is not a matter of choice but of the body of the person. The Vatican says it has no plans to change the way it defines gender. The document is published in the Vatican\\'s official journal, the \"Vatican Bulletin\" It is published by the']\n",
      "\n"
     ]
    },
    {
     "name": "stderr",
     "output_type": "stream",
     "text": [
      "\r",
      " 34%|███▍      | 348/1022 [5:17:01<10:40:18, 57.00s/it]"
     ]
    },
    {
     "name": "stdout",
     "output_type": "stream",
     "text": [
      "input_ids shape: torch.Size([1, 59])\n",
      "Reference Summary:\n",
      "Defense contractors United Technologies and Raytheon agree to merge into a combined company  that would generate $74 billion in annual sales, making it the second-largest aerospace and defense company in the U.S.\n",
      "Predictions: \n",
      "[\"The merger will create a new company that will be the world's largest defense contractor. The deal will be a merger of two companies that have been in business for more than 40 years. The company will be called Raytheon and United Technologies. The merger will be completed by\"]\n",
      "\n"
     ]
    },
    {
     "name": "stderr",
     "output_type": "stream",
     "text": [
      "\r",
      " 34%|███▍      | 349/1022 [5:17:24<8:46:03, 46.90s/it] "
     ]
    },
    {
     "name": "stdout",
     "output_type": "stream",
     "text": [
      "input_ids shape: torch.Size([1, 59])\n",
      "Reference Summary:\n",
      "A man died and 15 others are injured after an accidental explosion at the building of the Comune in Rocca di Papa, Italy. Emanuele Crestini, the mayor of the city, was critically injured and died ten days later for his injuries, bringing the death toll to two.\n",
      "Predictions: \n",
      "[\"The European Union should allow Italy to cut tax and invest in the green economy, says the country's deputy PM. Italy's deputy prime minister says the EU should allow the country to cut taxes and invest. The EU should also allow Italy's green economy to grow, says Deputy\"]\n",
      "\n"
     ]
    },
    {
     "name": "stderr",
     "output_type": "stream",
     "text": [
      "\r",
      " 34%|███▍      | 350/1022 [5:18:21<9:18:35, 49.87s/it]"
     ]
    },
    {
     "name": "stdout",
     "output_type": "stream",
     "text": [
      "input_ids shape: torch.Size([1, 59])\n",
      "Reference Summary:\n",
      "A magnitude 4.0 earthquake is reported in Northeast Ohio. No damage has been reported.\n",
      "Predictions: \n",
      "['The earthquake was centered in the area of Lake Erie. The quake was felt in the Cleveland area. The U.S. Geological Survey says it was a magnitude 4.0 quake. The earthquake was felt by residents of the Cleveland suburb of Eastlake. The USGS says']\n",
      "\n"
     ]
    },
    {
     "name": "stderr",
     "output_type": "stream",
     "text": [
      "\r",
      " 34%|███▍      | 351/1022 [5:19:18<9:41:44, 52.02s/it]"
     ]
    },
    {
     "name": "stdout",
     "output_type": "stream",
     "text": [
      "input_ids shape: torch.Size([1, 59])\n",
      "Reference Summary:\n",
      "A helicopter crashes onto the roof of the AXA Equitable Center in New York City, killing the pilot.\n",
      "Predictions: \n",
      "['The helicopter crashed on the roof of a Manhattan skyscraper. The crash happened at around 2 p.m. Monday. The pilot was killed. The helicopter was carrying a woman and a child. The incident is under investigation. The NYPD is investigating. The cause of the crash']\n",
      "\n"
     ]
    },
    {
     "name": "stderr",
     "output_type": "stream",
     "text": [
      "\r",
      " 34%|███▍      | 352/1022 [5:20:15<9:57:54, 53.54s/it]"
     ]
    },
    {
     "name": "stdout",
     "output_type": "stream",
     "text": [
      "input_ids shape: torch.Size([1, 59])\n",
      "Reference Summary:\n",
      "Canadian Prime Minister Justin Trudeau announces that Canada will ban all single-use plastics as early as 2021 in a bid to significantly reduce plastic pollution.\n",
      "Predictions: \n",
      "[\"The ban will be implemented in Canada by the end of the year. The ban will affect all single-use plastics, including plastic bags, plastic bottles and straws. The move is part of a larger effort to reduce the amount of plastic in the country's water supply.\"]\n",
      "\n"
     ]
    },
    {
     "name": "stderr",
     "output_type": "stream",
     "text": [
      "\r",
      " 35%|███▍      | 353/1022 [5:21:12<10:08:36, 54.58s/it]"
     ]
    },
    {
     "name": "stdout",
     "output_type": "stream",
     "text": [
      "input_ids shape: torch.Size([1, 59])\n",
      "Reference Summary:\n",
      "In San Bernardino, California, Charles \"Chase\" Merritt is found guilty of four counts of murder in the 2013 deaths of the McStay family.\n",
      "Predictions: \n",
      "['A California man has been convicted of killing a family of four. The family was found dead in a desert in 2010. The bodies were found in a shallow grave in the desert. The man was convicted of the murders. The case is being appealed. The jury will hear the']\n",
      "\n"
     ]
    },
    {
     "name": "stderr",
     "output_type": "stream",
     "text": [
      "\r",
      " 35%|███▍      | 354/1022 [5:22:09<10:15:34, 55.29s/it]"
     ]
    },
    {
     "name": "stdout",
     "output_type": "stream",
     "text": [
      "input_ids shape: torch.Size([1, 59])\n",
      "Reference Summary:\n",
      "An Indian court convicts six men in the 2018 rape and murder of an eight-year-old girl near Kathua in the state of Jammu and Kashmir. Three of the men are given life sentences while the other three, found guilty of destroying evidence, receive five-year prison terms.\n",
      "Predictions: \n",
      "['The case of the girl was the first of its kind in India. The girl was raped and murdered in the town of Kathua in the state of Jammu and Kashmir. The victim was a girl from a Muslim community. The case was the second of its type in the']\n",
      "\n"
     ]
    },
    {
     "name": "stderr",
     "output_type": "stream",
     "text": [
      "\r",
      " 35%|███▍      | 355/1022 [5:23:07<10:24:19, 56.16s/it]"
     ]
    },
    {
     "name": "stdout",
     "output_type": "stream",
     "text": [
      "input_ids shape: torch.Size([1, 59])\n",
      "Reference Summary:\n",
      "Former Boston Red Sox star David Ortiz returns to Boston to recover from a shooting in the Dominican Republic.\n",
      "Predictions: \n",
      "['David Ortiz was shot in the head in the Dominican Republic. Ortiz was a star for the Boston Red Sox. He was a three-time World Series champion with the Red Sox in 2004. Ortiz is a former MVP and two-time MVP. He is a two- time']\n",
      "\n"
     ]
    },
    {
     "name": "stderr",
     "output_type": "stream",
     "text": [
      "\r",
      " 35%|███▍      | 356/1022 [5:24:04<10:25:20, 56.34s/it]"
     ]
    },
    {
     "name": "stdout",
     "output_type": "stream",
     "text": [
      "input_ids shape: torch.Size([1, 56])\n",
      "Reference Summary:\n",
      "Nechirvan Barzani is sworn in as the new President of Iraqi Kurdistan. In his first speech as President, Barzani says he will seek to improve ties with Baghdad, and create a joint-security plan to prevent ISIL from re-emerging in the region.\n",
      "Predictions: \n",
      "[\"Iraqi Kurdistan's parliament has named a new prime minister. The new prime Minister is the son of the region's president. The prime minister is the cousin of the president. He is the first Kurd to be elected to the post in more than a decade.\"]\n",
      "\n"
     ]
    },
    {
     "name": "stderr",
     "output_type": "stream",
     "text": [
      "\r",
      " 35%|███▍      | 357/1022 [5:25:01<10:27:22, 56.61s/it]"
     ]
    },
    {
     "name": "stdout",
     "output_type": "stream",
     "text": [
      "input_ids shape: torch.Size([1, 59])\n",
      "Reference Summary:\n",
      "Congressman Justin Amash announces that he will leave the Freedom Caucus, weeks after calling for the impeachment of President Donald Trump.\n",
      "Predictions: \n",
      "[\"Rep. Justin Amash, R-Michigan, is the only Republican to call for President Trump's impeachment. He is the lone member of the House Freedom Caucus. Amash is a member of a group that has been critical of the president. He has been a vocal critic\"]\n",
      "\n"
     ]
    },
    {
     "name": "stderr",
     "output_type": "stream",
     "text": [
      "\r",
      " 35%|███▌      | 358/1022 [5:25:27<8:44:57, 47.44s/it] "
     ]
    },
    {
     "name": "stdout",
     "output_type": "stream",
     "text": [
      "input_ids shape: torch.Size([1, 59])\n",
      "Reference Summary:\n",
      "A committee of the US House of Representatives announces that it will hold a hearing next Thursday (June 20) to examine fuel efficiency standards, as the Trump administration presses for a rollback of an Obama-era schedule of 5% reductions in emissions per year.\n",
      "Predictions: \n",
      "['House committee to hold hearing on proposed fuel efficiency freeze on June 20. House committee to hear on proposed freeze on fuel efficiency standards at 2020 levels through 2026. House panel will hear from the Energy and Commerce Committee. The Senate Energy and commerce Committee will hear the issue on June']\n",
      "\n"
     ]
    },
    {
     "name": "stderr",
     "output_type": "stream",
     "text": [
      "\r",
      " 35%|███▌      | 359/1022 [5:26:24<9:15:50, 50.30s/it]"
     ]
    },
    {
     "name": "stdout",
     "output_type": "stream",
     "text": [
      "input_ids shape: torch.Size([1, 59])\n",
      "Reference Summary:\n",
      "Four bodies are recovered by salvage crews during the raising of the wreck of the Hableány, which sank on the Danube in Budapest last month. Four other people are still missing.\n",
      "Predictions: \n",
      "[\"The boat was carrying tourists from the city of Budapest to the Hungarian capital. The boat was capsized on the Danube River in Hungary's capital. It was carrying a group of tourists from Hungary's southern coast. The bodies of the passengers were found in the boat's hull\"]\n",
      "\n"
     ]
    },
    {
     "name": "stderr",
     "output_type": "stream",
     "text": [
      "\r",
      " 35%|███▌      | 360/1022 [5:27:21<9:37:10, 52.31s/it]"
     ]
    },
    {
     "name": "stdout",
     "output_type": "stream",
     "text": [
      "input_ids shape: torch.Size([1, 59])\n",
      "Reference Summary:\n",
      "Very Severe Cyclonic Storm Vayu is in the Arabian Sea less than 600 miles south-southeast of Karachi, Pakistan,  and is strengthening as it heads north. Vayu is expected to be a Category 2 or 3 storm  when it approaches the Indian state of Gujarat early Thursday (local time), then should weaken as it approaches southeastern Pakistan over the weekend.\n",
      "Predictions: \n",
      "['Cyclone Vayu is expected to hit the coast of Gujarat on Thursday. The cyclone is expected in the Arabian Sea. It is expected that it will be a severe cyclone. The storm is expected on Thursday night. It will be the second cyclone to hit']\n",
      "\n"
     ]
    },
    {
     "name": "stderr",
     "output_type": "stream",
     "text": [
      "\r",
      " 35%|███▌      | 361/1022 [5:28:18<9:53:17, 53.85s/it]"
     ]
    },
    {
     "name": "stdout",
     "output_type": "stream",
     "text": [
      "input_ids shape: torch.Size([1, 57])\n",
      "Reference Summary:\n",
      "A group of 65 Rohingya Muslims are left stranded on Rawi Island in southern Thailand after their boat shipwrecked during a journey to flee genocide in their native Rakhine State in Myanmar.\n",
      "Predictions: \n",
      "[\"The Rohingya Muslims are said to be in a boat carrying more than 60 people. The boat was found in a remote area of the country. The refugees are believed to be from Myanmar's Rohingya ethnic minority. The Rohingya are believed by some to be refugees from Myanmar.\"]\n",
      "\n"
     ]
    },
    {
     "name": "stderr",
     "output_type": "stream",
     "text": [
      "\r",
      " 35%|███▌      | 362/1022 [5:28:33<7:42:18, 42.03s/it]"
     ]
    },
    {
     "name": "stdout",
     "output_type": "stream",
     "text": [
      "input_ids shape: torch.Size([1, 59])\n",
      "Reference Summary:\n",
      "The Congress of Colombia unanimously approves a resolution to ban the production, commercialization, and distribution of asbestos.\n",
      "Predictions: \n",
      "[\"The U.S. is now the world's largest producer of the oil. The U.N. has said that the U.K. is the world’s largest producer. The world”s largest oil producer is now in the U., the U,\"]\n",
      "\n"
     ]
    },
    {
     "name": "stderr",
     "output_type": "stream",
     "text": [
      "\r",
      " 36%|███▌      | 363/1022 [5:29:30<8:30:25, 46.47s/it]"
     ]
    },
    {
     "name": "stdout",
     "output_type": "stream",
     "text": [
      "input_ids shape: torch.Size([1, 58])\n",
      "Reference Summary:\n",
      "Botswana decriminalizes homosexuality.\n",
      "Predictions: \n",
      "[\"Botswana's High Court has ruled that same-sex relations are legal. The ruling is a major victory for gay rights in the country. The country has been a hotbed of gay rights activism. The court's decision is a victory for the rights of the LGBT community.\"]\n",
      "\n"
     ]
    },
    {
     "name": "stderr",
     "output_type": "stream",
     "text": [
      "\r",
      " 36%|███▌      | 364/1022 [5:30:27<9:04:05, 49.61s/it]"
     ]
    },
    {
     "name": "stdout",
     "output_type": "stream",
     "text": [
      "input_ids shape: torch.Size([1, 59])\n",
      "Reference Summary:\n",
      "Following a public outcry, authorities in Russia drop drug charges against a journalist, Ivan Golunov, who has earned a reputation for exposing the corruption of Moscow city officials.\n",
      "Predictions: \n",
      "['Russian journalist was arrested in Moscow on suspicion of drug possession. He was released after a court ordered his release. The Russian government has accused him of drug trafficking. The case has sparked international outrage. The journalist was released on bail and is now in the custody of Russian authorities.']\n",
      "\n"
     ]
    },
    {
     "name": "stderr",
     "output_type": "stream",
     "text": [
      "\r",
      " 36%|███▌      | 365/1022 [5:31:23<9:26:58, 51.78s/it]"
     ]
    },
    {
     "name": "stdout",
     "output_type": "stream",
     "text": [
      "input_ids shape: torch.Size([1, 58])\n",
      "Reference Summary:\n",
      "Samoa bans the film Rocketman for its depictions of gay sex.\n",
      "Predictions: \n",
      "[\"Samoa bans Elton John movie 'Rocketman' due to its depictions of homosexuality. The film is based on the autobiography of the late singer. The movie was released in the U.S. in 1998. It was released on DVD in the UK in 2000.\"]\n",
      "\n"
     ]
    },
    {
     "name": "stderr",
     "output_type": "stream",
     "text": [
      "\r",
      " 36%|███▌      | 366/1022 [5:32:20<9:43:07, 53.33s/it]"
     ]
    },
    {
     "name": "stdout",
     "output_type": "stream",
     "text": [
      "input_ids shape: torch.Size([1, 59])\n",
      "Reference Summary:\n",
      "U.S. President Donald Trump says he received a \"beautiful\", \"very warm and very nice\" letter from North Korean leader Kim Jong-un. He added that Kim is \"keeping his word\" and not testing any kind of missiles. Earlier  at a speaking event in Washington, National Security Adviser John Bolton said North Korea is not complying with the terms agreed upon during Trump's first summit with Kim in Singapore last year.\n",
      "Predictions: \n",
      "[\"The North Korean leader's brother is believed to have been a key figure in the CIA. The CIA has been working with the North Korean government to try to get the North to hand over the North's nuclear weapons. The North Korean regime has been accused of trying to use the\"]\n",
      "\n"
     ]
    },
    {
     "name": "stderr",
     "output_type": "stream",
     "text": [
      "\r",
      " 36%|███▌      | 367/1022 [5:33:18<9:54:37, 54.47s/it]"
     ]
    },
    {
     "name": "stdout",
     "output_type": "stream",
     "text": [
      "input_ids shape: torch.Size([1, 59])\n",
      "Reference Summary:\n",
      "The USA's 13–0 defeat of Thailand sets a World Cup record for margin of victory for either men or women, and Alex Morgan's five goals ties a tournament record.\n",
      "Predictions: \n",
      "[\"The U.S. women's national team beat Thailand 13-0 in their opening game. The U.N. Women's World Cup is in its third year. The USWNT is the defending champions. The team is aiming to win the tournament for the first time\"]\n",
      "\n"
     ]
    },
    {
     "name": "stderr",
     "output_type": "stream",
     "text": [
      "\r",
      " 36%|███▌      | 368/1022 [5:34:17<10:09:16, 55.90s/it]"
     ]
    },
    {
     "name": "stdout",
     "output_type": "stream",
     "text": [
      "input_ids shape: torch.Size([1, 59])\n",
      "Reference Summary:\n",
      "A ballistic missile fired by Houthi forces strikes the arrivals hall at Abha International Airport in Saudi Arabia, injuring 26 people.\n",
      "Predictions: \n",
      "['The Saudi-led coalition says it has been attacked by Houthi rebels. The Houthi rebel group has been fighting a Saudi-backed government in Yemen. The attack on the airport in Saudi Arabia wounded 26 people. The Saudi-based coalition says the attack was carried out by']\n",
      "\n"
     ]
    },
    {
     "name": "stderr",
     "output_type": "stream",
     "text": [
      "\r",
      " 36%|███▌      | 369/1022 [5:35:14<10:12:25, 56.27s/it]"
     ]
    },
    {
     "name": "stdout",
     "output_type": "stream",
     "text": [
      "input_ids shape: torch.Size([1, 58])\n",
      "Reference Summary:\n",
      "Militants kill five Indian paramilitary police in Anantnag district. Three paramilitaries, a local policeman and a woman bystander are wounded, and one militant is killed.\n",
      "Predictions: \n",
      "[\"Five CRPF personnel killed in attack in Kashmir. Militants killed in an attack on a police station in Anantnag. Three CRPF soldiers were killed in the attack. The attack took place in the town of AnantNag in Kashmir's south.\"]\n",
      "\n"
     ]
    },
    {
     "name": "stderr",
     "output_type": "stream",
     "text": [
      "\r",
      " 36%|███▌      | 370/1022 [5:36:11<10:13:59, 56.50s/it]"
     ]
    },
    {
     "name": "stdout",
     "output_type": "stream",
     "text": [
      "input_ids shape: torch.Size([1, 59])\n",
      "Reference Summary:\n",
      "Sudanese military and opposition leaders agree to resume talks that broke down after a violent crackdown on protesters earlier in June. The military also agrees to release political prisoners, while the opposition agrees to end its campaign of strikes and civil disobedience.\n",
      "Predictions: \n",
      "[\"Sudanese opposition to resume talks with government on a new constitution. Sudanese government and opposition agree to resume negotiations. Sudan's military has been fighting a crackdown on protests. The government has been accused of using force against protesters. The opposition has been calling for a new\"]\n",
      "\n"
     ]
    },
    {
     "name": "stderr",
     "output_type": "stream",
     "text": [
      "\r",
      " 36%|███▋      | 371/1022 [5:37:08<10:15:06, 56.69s/it]"
     ]
    },
    {
     "name": "stdout",
     "output_type": "stream",
     "text": [
      "input_ids shape: torch.Size([1, 59])\n",
      "Reference Summary:\n",
      "Clavell brothers rammed a police car and then lunged at police with a knife and a tomahawk before they were shot on Wednesday afternoon by Victorian police.\n",
      "Predictions: \n",
      "[\"Two men shot by police in a police shooting in the north of the city. The men were shot by officers in a 'high-speed chase' in the early hours of the morning. The two men were reportedly shot by the police in the area of the town of B\"]\n",
      "\n"
     ]
    },
    {
     "name": "stderr",
     "output_type": "stream",
     "text": [
      "\r",
      " 36%|███▋      | 372/1022 [5:38:05<10:15:25, 56.81s/it]"
     ]
    },
    {
     "name": "stdout",
     "output_type": "stream",
     "text": [
      "input_ids shape: torch.Size([1, 59])\n",
      "Reference Summary:\n",
      "Chinese telecommunications and electronics company Huawei cancels its new laptop launch. A Huawei executive said the company has been \"unable to supply the PC\" because of the  U.S. trade blacklist and may have to scrap the project.\n",
      "Predictions: \n",
      "[\"Huawei's new phone is the first of its kind to be made available to the U.S. market. The company is also the first to offer a mobile phone with a built-in SIM card. The move is a response to the US government's decision to ban\"]\n",
      "\n"
     ]
    },
    {
     "name": "stderr",
     "output_type": "stream",
     "text": [
      "\r",
      " 36%|███▋      | 373/1022 [5:38:48<9:29:38, 52.66s/it] "
     ]
    },
    {
     "name": "stdout",
     "output_type": "stream",
     "text": [
      "input_ids shape: torch.Size([1, 59])\n",
      "Reference Summary:\n",
      "A speedboat carrying migrants reportedly sinks off the coast of Venezuela en route to Curaçao, making it the third migrant boat leaving Venezuela to sink in as many months, with over 50 people missing.\n",
      "Predictions: \n",
      "['The vessel left from a village in the north of Venezuela on Friday. It was on its way to the island of Curacao. The boat was carrying a group of Venezuelan migrants. The vessel was carrying 30 people. The migrants were traveling on a boat from a Venezuelan village']\n",
      "\n"
     ]
    },
    {
     "name": "stderr",
     "output_type": "stream",
     "text": [
      "\r",
      " 37%|███▋      | 374/1022 [5:39:45<9:43:47, 54.06s/it]"
     ]
    },
    {
     "name": "stdout",
     "output_type": "stream",
     "text": [
      "input_ids shape: torch.Size([1, 59])\n",
      "Reference Summary:\n",
      "The wreckage of An-32 aircraft was found in Arunachal Pradesh with all 13 people on board killed. India Today\n",
      "Predictions: \n",
      "[\"The Indian Air Force's AN-32 aircraft went missing on June 3. The plane was carrying 13 people, including two crew members. The aircraft was last seen in the skies over the Indian state of Arunachal Pradesh. The wreckage was found in the state's remote\"]\n",
      "\n"
     ]
    },
    {
     "name": "stderr",
     "output_type": "stream",
     "text": [
      "\r",
      " 37%|███▋      | 375/1022 [5:40:43<9:52:44, 54.97s/it]"
     ]
    },
    {
     "name": "stdout",
     "output_type": "stream",
     "text": [
      "input_ids shape: torch.Size([1, 59])\n",
      "Reference Summary:\n",
      "Wellcome Trust director Dr. Jeremy Farrar says the Ebola outbreak in eastern Democratic Republic of the Congo, which has killed 1,400 people since August 2018, is the worst since the 2013–2016 outbreak in West Africa and shows \"no sign of stopping\". Uganda reported its first two deaths.\n",
      "Predictions: \n",
      "['The Ebola outbreak in Uganda has killed at least 1,000 people. The outbreak is the first in the country since the outbreak began in August. The virus has killed more than 1,200 people in the past two months. The death toll is expected to rise as more people']\n",
      "\n"
     ]
    },
    {
     "name": "stderr",
     "output_type": "stream",
     "text": [
      "\r",
      " 37%|███▋      | 376/1022 [5:41:40<9:59:18, 55.66s/it]"
     ]
    },
    {
     "name": "stdout",
     "output_type": "stream",
     "text": [
      "input_ids shape: torch.Size([1, 59])\n",
      "Reference Summary:\n",
      "Japan offers to mediate between Iran and the U.S.; officials say the Japanese government hopes to rescue the landmark 2015 international nuclear deal.\n",
      "Predictions: \n",
      "[\"Japan's PM Shinzo Abe is visiting Iran. He is expected to meet with Iranian President Hassan Rouhani. Abe is expected in Tehran on Thursday. He has said he wants to ease tensions between the two countries. The U.S. has been trying to get Iran to stop its nuclear program\"]\n",
      "\n"
     ]
    },
    {
     "name": "stderr",
     "output_type": "stream",
     "text": [
      "\r",
      " 37%|███▋      | 377/1022 [5:42:37<10:03:41, 56.16s/it]"
     ]
    },
    {
     "name": "stdout",
     "output_type": "stream",
     "text": [
      "input_ids shape: torch.Size([1, 59])\n",
      "Reference Summary:\n",
      "Reuters reports, on the basis of an unnamed \"senior administration\" source, that the administration of U.S. President Donald Trump is pressuring the government of Saudi Arabia to show some progress in its investigation of the murder of Jamal Khashoggi before the one-year anniversary in October.\n",
      "Predictions: \n",
      "['The U.S. president is trying to sell a $1.2 billion arms deal to Saudi Arabia. The deal would include a $400 million arms deal with the United States. The U.N. Security Council has approved the deal. The White House has also approved']\n",
      "\n"
     ]
    },
    {
     "name": "stderr",
     "output_type": "stream",
     "text": [
      "\r",
      " 37%|███▋      | 378/1022 [5:43:34<10:04:55, 56.36s/it]"
     ]
    },
    {
     "name": "stdout",
     "output_type": "stream",
     "text": [
      "input_ids shape: torch.Size([1, 56])\n",
      "Reference Summary:\n",
      "The trial of the leaders involved in the Catalan declaration of independence ends and is remitted to decision. A verdict is not expected until after August.\n",
      "Predictions: \n",
      "[\"The trial of the Catalan separatist leaders is set to end on Wednesday. The trial has been in progress for four months. The Catalan government has been accused of inciting violence against the Spanish government. The defendants are accused of trying to incite violence against Spain's government.\"]\n",
      "\n"
     ]
    },
    {
     "name": "stderr",
     "output_type": "stream",
     "text": [
      "\r",
      " 37%|███▋      | 379/1022 [5:44:31<10:06:58, 56.64s/it]"
     ]
    },
    {
     "name": "stdout",
     "output_type": "stream",
     "text": [
      "input_ids shape: torch.Size([1, 59])\n",
      "Reference Summary:\n",
      "Two Canadian women who were abducted in Ghana are rescued by Ghanaian police.\n",
      "Predictions: \n",
      "['The two women were kidnapped in Ghana. The two women are believed to be from Canada. The women were rescued in the early hours of Wednesday morning. The incident occurred in the city of Kumasi. The Canadian women were taken by a group of men. The men were taken']\n",
      "\n"
     ]
    },
    {
     "name": "stderr",
     "output_type": "stream",
     "text": [
      "\r",
      " 37%|███▋      | 380/1022 [5:45:28<10:07:16, 56.76s/it]"
     ]
    },
    {
     "name": "stdout",
     "output_type": "stream",
     "text": [
      "input_ids shape: torch.Size([1, 57])\n",
      "Reference Summary:\n",
      "Former Stanford University sailing coach John Vandemoer is sentenced to two-years probation, with the first six months to be served under house arrest. Vandemoer is the first person to be sentenced among the 50 individuals indicted on federal charges related to the U.S. college admissions bribery scheme.\n",
      "Predictions: \n",
      "['Former Stanford sailing coach John Vandemoer is the first person to be sentenced in the case. He was convicted of accepting bribes to get students into the university. He is the only person to face prison time in the scandal. He will be sentenced on Wednesday.']\n",
      "\n"
     ]
    },
    {
     "name": "stderr",
     "output_type": "stream",
     "text": [
      "\r",
      " 37%|███▋      | 381/1022 [5:46:25<10:07:17, 56.85s/it]"
     ]
    },
    {
     "name": "stdout",
     "output_type": "stream",
     "text": [
      "input_ids shape: torch.Size([1, 59])\n",
      "Reference Summary:\n",
      "The Supreme Court of Ecuador legalizes same-sex marriage.\n",
      "Predictions: \n",
      "[\"Ecuador's highest court approves marriage for two gay couples. The decision is a landmark in the fight for gay rights in the South American nation. The ruling is a victory for gay and lesbian rights in Ecuador. The country's constitution bans same-sex marriage. The law was passed in\"]\n",
      "\n"
     ]
    },
    {
     "name": "stderr",
     "output_type": "stream",
     "text": [
      "\r",
      " 37%|███▋      | 382/1022 [5:47:23<10:07:37, 56.97s/it]"
     ]
    },
    {
     "name": "stdout",
     "output_type": "stream",
     "text": [
      "input_ids shape: torch.Size([1, 59])\n",
      "Reference Summary:\n",
      "Illinois Governor J. B. Pritzker signs abortion rights law making the procedure a \"fundamental right\" for pregnant individuals in the state.\n",
      "Predictions: \n",
      "[\"Gov. J.B. Pritzker signs bill that expands abortion rights in Illinois. The bill is a response to a Supreme Court ruling that struck down a federal law that had blocked abortion rights. The law also protects women's rights to an abortion if they choose to terminate\"]\n",
      "\n"
     ]
    },
    {
     "name": "stderr",
     "output_type": "stream",
     "text": [
      "\r",
      " 37%|███▋      | 383/1022 [5:47:57<8:54:14, 50.16s/it] "
     ]
    },
    {
     "name": "stdout",
     "output_type": "stream",
     "text": [
      "input_ids shape: torch.Size([1, 59])\n",
      "Reference Summary:\n",
      "The Legislative Council delays \"to a later time\" the second reading of the new legislation on  extradition as  thousands of protesters, who blocked key roads around government buildings, were confronted by police  in riot gear using pepper spray. Despite widespread opposition, the government had said it will continue to push for passage.\n",
      "Predictions: \n",
      "['Hong Kong police fire pepper spray at protesters over an extradition bill. Protesters are angry over a bill that would allow people to be sent to mainland China for trial. Police fire pepper Spray at protesters near government buildings. Police use pepper spray on protesters as they try to disperse them.']\n",
      "\n"
     ]
    },
    {
     "name": "stderr",
     "output_type": "stream",
     "text": [
      "\r",
      " 38%|███▊      | 384/1022 [5:48:54<9:14:51, 52.18s/it]"
     ]
    },
    {
     "name": "stdout",
     "output_type": "stream",
     "text": [
      "input_ids shape: torch.Size([1, 56])\n",
      "Reference Summary:\n",
      "Russian authorities  detain hundreds of protesters, including Novaya Gazeta journalist and protest organizer Ilya Azar and other reporters, at an \"unauthorized march\" in Moscow demanding punishment for police who detained anti-corruption journalist Ivan Golunov.  Golunov's charges were dropped and he was released yesterday at which time Interior Minister Vladimir Kolokoltsev said some officers who had taken part in his detention were  suspended pending an investigation.\n",
      "Predictions: \n",
      "['Russian journalist was arrested on drug charges. He was arrested in Moscow on suspicion of drug possession. The charges were later dropped. The journalist was released on bail. He is now being held in a Russian prison. The case is being investigated by the Russian government.']\n",
      "\n"
     ]
    },
    {
     "name": "stderr",
     "output_type": "stream",
     "text": [
      "\r",
      " 38%|███▊      | 385/1022 [5:49:51<9:30:03, 53.69s/it]"
     ]
    },
    {
     "name": "stdout",
     "output_type": "stream",
     "text": [
      "input_ids shape: torch.Size([1, 59])\n",
      "Reference Summary:\n",
      "The House Oversight Committee votes to hold Attorney General William Barr and Commerce Secretary Wilbur Ross in contempt after U.S. President Donald Trump asserted executive privilege over materials related to the committee's census investigation.\n",
      "Predictions: \n",
      "['The White House is seeking to get the U.S. House to vote on a bill to add a citizenship question to the 2020 census. The House is considering a bill that would require the U.,S. to hold a citizenship test for all Americans. The White House says']\n",
      "\n"
     ]
    },
    {
     "name": "stderr",
     "output_type": "stream",
     "text": [
      "\r",
      " 38%|███▊      | 386/1022 [5:50:48<9:39:43, 54.69s/it]"
     ]
    },
    {
     "name": "stdout",
     "output_type": "stream",
     "text": [
      "input_ids shape: torch.Size([1, 57])\n",
      "Reference Summary:\n",
      "More text messages between judge Sérgio Moro and prosecutor Deltan Dallagnol are leaked, implicating Vice-President of the Supreme Federal Court Luiz Fux in illicit collaboration between Brazilian judges and Car Wash's team of prosecutors.\n",
      "Predictions: \n",
      "['Brazilian justice minister is accused of being a corrupt judge. He is accused in a corruption scandal involving a former president. The scandal has been dubbed the \"Car Wash\" scandal. The Brazilian government is accused by the opposition of corruption. The government denies the allegations.']\n",
      "\n"
     ]
    },
    {
     "name": "stderr",
     "output_type": "stream",
     "text": [
      "\r",
      " 38%|███▊      | 387/1022 [5:51:45<9:45:54, 55.36s/it]"
     ]
    },
    {
     "name": "stdout",
     "output_type": "stream",
     "text": [
      "input_ids shape: torch.Size([1, 56])\n",
      "Reference Summary:\n",
      "Despite dense fog, SpaceX successfully launches the Canadian Space Agency's RADARSAT Constellation satellites on a Falcon 9 rocket from Vandenberg Air Force Base.\n",
      "Predictions: \n",
      "[\"The launch of three Canadian satellites from California is part of a larger program. The Canadian Space Agency is using the satellites to monitor the Earth. The launch is part a joint effort with the Canadian Space agency. The satellites will be used to monitor Earth's atmosphere.\"]\n",
      "\n"
     ]
    },
    {
     "name": "stderr",
     "output_type": "stream",
     "text": [
      "\r",
      " 38%|███▊      | 388/1022 [5:52:43<9:53:13, 56.14s/it]"
     ]
    },
    {
     "name": "stdout",
     "output_type": "stream",
     "text": [
      "input_ids shape: torch.Size([1, 59])\n",
      "Reference Summary:\n",
      "In ice hockey, the St. Louis Blues defeat the Boston Bruins four games to three to win their first Stanley Cup.\n",
      "Predictions: \n",
      "['The St. Louis Blues are the defending Stanley Cup champions. The Blues beat the Boston Bruins 4-1 in the final. The game was the first time the Blues had won the Cup since the 1990s. The team has won the title three times in the last five years']\n",
      "\n"
     ]
    },
    {
     "name": "stderr",
     "output_type": "stream",
     "text": [
      "\r",
      " 38%|███▊      | 389/1022 [5:53:41<9:57:04, 56.60s/it]"
     ]
    },
    {
     "name": "stdout",
     "output_type": "stream",
     "text": [
      "input_ids shape: torch.Size([1, 59])\n",
      "Reference Summary:\n",
      "Two oil tankers, one Norwegian and one Japanese, are damaged and abandoned after being attacked in the Gulf of Oman, with all crew members aboard both ships safely rescued.\n",
      "Predictions: \n",
      "['U.S. Navy says it has been attacked by two oil tankers in the Gulf of Oman. The U.S.-led coalition says it is investigating the incident. The incident is believed to be the first time the U.N. has been involved in a Gulf']\n",
      "\n"
     ]
    },
    {
     "name": "stderr",
     "output_type": "stream",
     "text": [
      "\r",
      " 38%|███▊      | 390/1022 [5:54:38<9:58:34, 56.83s/it]"
     ]
    },
    {
     "name": "stdout",
     "output_type": "stream",
     "text": [
      "input_ids shape: torch.Size([1, 59])\n",
      "Reference Summary:\n",
      "The United States Secretary of State Mike Pompeo and Saudi Arabia Foreign Minister Adel al-Jubeir directly blame Iran for being behind the attacks on both ships. Iranian officials deny the U.S. claims.\n",
      "Predictions: \n",
      "['The U.S. has been in a tense standoff with Iran over its nuclear program. The U.N. Security Council has passed a resolution to end the Iran nuclear program, but the U.K. has not agreed to it. The United States has been accused of']\n",
      "\n"
     ]
    },
    {
     "name": "stderr",
     "output_type": "stream",
     "text": [
      "\r",
      " 38%|███▊      | 391/1022 [5:55:35<9:59:18, 56.99s/it]"
     ]
    },
    {
     "name": "stdout",
     "output_type": "stream",
     "text": [
      "input_ids shape: torch.Size([1, 59])\n",
      "Reference Summary:\n",
      "The United States Central Command (CENTCOM) releases a video showing what CENTCOM spokesperson says, is an Iranian Revolutionary Guard Corps' patrol boat approaching the Kokuka Courageous \"and was observed and recorded removing an unexploded limpet mine from the M/T Kokuka Courageous.\" Iran denies involvement.\n",
      "Predictions: \n",
      "['U.S. military says it has video of Iranian forces removing a mine from a tanker. The U.S., which has been in a war with Iran, says the mine was found on a tanker in the Gulf of Oman. The United States says the tanker was carrying']\n",
      "\n"
     ]
    },
    {
     "name": "stderr",
     "output_type": "stream",
     "text": [
      "\r",
      " 38%|███▊      | 392/1022 [5:56:32<9:58:28, 57.00s/it]"
     ]
    },
    {
     "name": "stdout",
     "output_type": "stream",
     "text": [
      "input_ids shape: torch.Size([1, 59])\n",
      "Reference Summary:\n",
      "A suicide bomber kills eleven and injures thirteen in an attack in Jalalabad, Afghanistan.\n",
      "Predictions: \n",
      "['Suicide bomber kills at least nine people in eastern Afghanistan. Attack targeted a police checkpoint in the city of Jalalabad. The attack was carried out by a suicide bomber on foot. The dead include at least three civilians and two police officers. The Taliban claimed responsibility for the']\n",
      "\n"
     ]
    },
    {
     "name": "stderr",
     "output_type": "stream",
     "text": [
      "\r",
      " 38%|███▊      | 393/1022 [5:56:41<7:26:09, 42.56s/it]"
     ]
    },
    {
     "name": "stdout",
     "output_type": "stream",
     "text": [
      "input_ids shape: torch.Size([1, 57])\n",
      "Reference Summary:\n",
      "One of the towers of the centuries-old Citadel of Ghazni, Afghanistan collapses amid heavy rainfall.\n",
      "Predictions: \n",
      "['Ancient tower in Ghazni, Afghanistan, collapses, raising questions over its safety. The tower was built in the 12th century and was one of the oldest in the country. The city is located on the main road between Kabul and the southern city of Baghlan.']\n",
      "\n"
     ]
    },
    {
     "name": "stderr",
     "output_type": "stream",
     "text": [
      "\r",
      " 39%|███▊      | 394/1022 [5:57:38<8:09:32, 46.77s/it]"
     ]
    },
    {
     "name": "stdout",
     "output_type": "stream",
     "text": [
      "input_ids shape: torch.Size([1, 57])\n",
      "Reference Summary:\n",
      "Michigan Attorney General Dana Nessel announces that charges will be dropped against eight people in the Flint water crisis and investigations will be restarted in the scandal, which has plagued the city since 2014.\n",
      "Predictions: \n",
      "['Prosecutors drop all charges against eight people in Flint water scandal. They say they will not pursue charges against anyone else. The case is being investigated by the Michigan Department of Health and Human Services. The state says it will not seek to prosecute anyone else in the case.']\n",
      "\n"
     ]
    },
    {
     "name": "stderr",
     "output_type": "stream",
     "text": [
      "\r",
      " 39%|███▊      | 395/1022 [5:58:35<8:40:28, 49.81s/it]"
     ]
    },
    {
     "name": "stdout",
     "output_type": "stream",
     "text": [
      "input_ids shape: torch.Size([1, 59])\n",
      "Reference Summary:\n",
      "The U.S. Office of Special Counsel (OSC) recommends that the Trump administration remove Kellyanne Conway from her office as senior aide to President Trump because of her repeated violations of the Hatch Act of 1939. The Trump administration rejects the OSC's recommendations, saying they \"are deeply flawed and violate [Conway's] constitutional rights to free speech and due process.\" (USA Today)\n",
      "Predictions: \n",
      "['The White House counselor has been accused of violating a law that limits political activity. The White House says she has been a good employee but has been criticized for her comments. The Office of Special Counsel says she violated the law by taking too many political risks. The agency says she']\n",
      "\n"
     ]
    },
    {
     "name": "stderr",
     "output_type": "stream",
     "text": [
      "\r",
      " 39%|███▊      | 396/1022 [5:59:32<9:02:11, 51.97s/it]"
     ]
    },
    {
     "name": "stdout",
     "output_type": "stream",
     "text": [
      "input_ids shape: torch.Size([1, 59])\n",
      "Reference Summary:\n",
      "White House Press Secretary Sarah Sanders announces she will resign at the end of June.\n",
      "Predictions: \n",
      "['Sarah Sanders will leave the White House at the end of the month. She will be replaced by Deputy Chief of Staff John Kelly. Sanders will be the first female White House press secretary. She is a former Republican National Committee spokeswoman. Sanders is a senior member of the Republican National']\n",
      "\n"
     ]
    },
    {
     "name": "stderr",
     "output_type": "stream",
     "text": [
      "\r",
      " 39%|███▉      | 397/1022 [6:00:29<9:16:53, 53.46s/it]"
     ]
    },
    {
     "name": "stdout",
     "output_type": "stream",
     "text": [
      "input_ids shape: torch.Size([1, 59])\n",
      "Reference Summary:\n",
      "Twitter says it has removed thousands of accounts that were being run by the Iranian government, to spread propaganda and fake news on the social media platform. It has also removed over a hundred accounts linked to the Catalan independence movement, and dozens of accounts related to Venezuela.\n",
      "Predictions: \n",
      "['Twitter has been accused of being a tool of the Iranian government. The social media site has been criticized for allowing Iran to use its Twitter account to spread propaganda. Twitter has been under fire for allowing Iranian government to use the account to promote its propaganda. The company has been criticised']\n",
      "\n"
     ]
    },
    {
     "name": "stderr",
     "output_type": "stream",
     "text": [
      "\r",
      " 39%|███▉      | 398/1022 [6:01:26<9:27:00, 54.52s/it]"
     ]
    },
    {
     "name": "stdout",
     "output_type": "stream",
     "text": [
      "input_ids shape: torch.Size([1, 59])\n",
      "Reference Summary:\n",
      "In basketball, the Toronto Raptors defeat the Golden State Warriors four games to two to win their first NBA championship. The Toronto Raptors are also the first NBA team outside of the United States and the first from Canada to win the NBA Finals.\n",
      "Predictions: \n",
      "[\"The Toronto Raptors are the NBA's first team to win a championship. The Raptors beat the Golden State Warriors in the NBA Finals. The team won the title in the first game of the NBA finals. The game was played in Toronto. The NBA Finals are in San Francisco.\"]\n",
      "\n"
     ]
    },
    {
     "name": "stderr",
     "output_type": "stream",
     "text": [
      "\r",
      " 39%|███▉      | 399/1022 [6:02:00<8:22:18, 48.38s/it]"
     ]
    },
    {
     "name": "stdout",
     "output_type": "stream",
     "text": [
      "input_ids shape: torch.Size([1, 58])\n",
      "Reference Summary:\n",
      "An unnamed United States official claims that, just prior to the attack on two merchant vessels, an Iranian vessel launched a surface to air missile at a MQ-9 Reaper drone in the vicinity of the attack. An additional MQ-9 Reaper is reported to have been shot down by Houthi rebels several days prior in the Red Sea.\n",
      "Predictions: \n",
      "['Iranian forces fired a missile at a US drone, a US official says. The missile was fired hours before the attack on the tankers. The drone was flying over the Gulf of Oman. The Iranian forces fired the missile at the drone, the official says, but missed.']\n",
      "\n"
     ]
    },
    {
     "name": "stderr",
     "output_type": "stream",
     "text": [
      "\r",
      " 39%|███▉      | 400/1022 [6:02:57<8:48:38, 50.99s/it]"
     ]
    },
    {
     "name": "stdout",
     "output_type": "stream",
     "text": [
      "input_ids shape: torch.Size([1, 59])\n",
      "Reference Summary:\n",
      "The president of the Japanese shipping company  offers a different account of the attack than that provided by the United States. Yutaka Katada says the Filipino crew of the Kokuka Courageous oil tanker said their vessel was apparently first hit by an artillery shell rather than a mine. The United States said the tanker was attacked by limpet mines and released a video it says shows Iranian special forces removing an unexploded mine from the oil tanker's side.\n",
      "Predictions: \n",
      "['The U.S. Navy says it has found no evidence of any wrongdoing by the crew of the tanker. The ship was attacked by a group of pirates in the Persian Gulf. The attack was carried out by a small group of Iranian pirates. The U.N. says']\n",
      "\n"
     ]
    },
    {
     "name": "stderr",
     "output_type": "stream",
     "text": [
      "\r",
      " 39%|███▉      | 401/1022 [6:03:54<9:06:16, 52.78s/it]"
     ]
    },
    {
     "name": "stdout",
     "output_type": "stream",
     "text": [
      "input_ids shape: torch.Size([1, 59])\n",
      "Reference Summary:\n",
      "A U.S. official says Iranian Navy gunboats are preventing the damaged Norwegian-owned Front Altair oil tanker from being towed away by two private tugboats in the Gulf of Oman.\n",
      "Predictions: \n",
      "['The U.S. Navy says it has been attacked by two Iranian-owned vessels in the Gulf of Oman. The U.N. says the ships were carrying crude oil and fuel for the U.K. and Saudi Arabia. The ships were attacked by a group of']\n",
      "\n"
     ]
    },
    {
     "name": "stderr",
     "output_type": "stream",
     "text": [
      "\r",
      " 39%|███▉      | 402/1022 [6:04:51<9:19:02, 54.10s/it]"
     ]
    },
    {
     "name": "stdout",
     "output_type": "stream",
     "text": [
      "input_ids shape: torch.Size([1, 59])\n",
      "Reference Summary:\n",
      "United Nations Secretary-General António Guterres calls for an independent investigation to establish the facts and responsibility for the oil tankers attacks in the Gulf of Oman.\n",
      "Predictions: \n",
      "['The U.S. military says it has been attacked by Iran in the Gulf of Oman. The U.N. says it is investigating the attack. The attack occurred on two oil tankers in the Persian Gulf. The United States says it was attacked by a group of']\n",
      "\n"
     ]
    },
    {
     "name": "stderr",
     "output_type": "stream",
     "text": [
      "\r",
      " 39%|███▉      | 403/1022 [6:05:48<9:27:37, 55.02s/it]"
     ]
    },
    {
     "name": "stdout",
     "output_type": "stream",
     "text": [
      "input_ids shape: torch.Size([1, 59])\n",
      "Reference Summary:\n",
      "At least 61 people have been killed and 356,000 evacuated from their homes as heavy rain and floods swept through large parts of southern and central China this week.\n",
      "Predictions: \n",
      "[\"Heavy rain and floods have killed at least 61 people in China. Floods have swept through parts of southern and central China. More than 350,000 people have been evacuated from their homes. China's government says more than 60 people have died in floods. The death toll is\"]\n",
      "\n"
     ]
    },
    {
     "name": "stderr",
     "output_type": "stream",
     "text": [
      "\r",
      " 40%|███▉      | 404/1022 [6:06:45<9:33:19, 55.66s/it]"
     ]
    },
    {
     "name": "stdout",
     "output_type": "stream",
     "text": [
      "input_ids shape: torch.Size([1, 59])\n",
      "Reference Summary:\n",
      "Kyodo News Agency reports that during his visit to mediate between the U.S. and Iran, Japanese PM Shinzō Abe asked Iran to release American prisoners held by Iran, though the response is \"unclear\" to the press. But Iran says it will not negotiate with the United States, rejecting Abe's bid to broker dialogue between the two countries amid escalating tensions in the Middle East. Iranian Foreign Minister Javad Zarif accuses the \"B-Team\" (Mohammed bin Salman, John Bolton and Benjamin Netanyahu) of sabotaging diplomacy, including Abe's meeting, to hide its \"economic terrorism\" by accusing Iran of attacking oil tankers.\n",
      "Predictions: \n",
      "['The U.S. and Iran are at odds over the Strait of Hormuz. The U.N. Security Council has passed a resolution to prevent Iran from attacking the Strait. The United States has also accused Iran of attacking two oil tankers. Iran denies the allegations']\n",
      "\n"
     ]
    },
    {
     "name": "stderr",
     "output_type": "stream",
     "text": [
      "\r",
      " 40%|███▉      | 405/1022 [6:07:42<9:36:00, 56.01s/it]"
     ]
    },
    {
     "name": "stdout",
     "output_type": "stream",
     "text": [
      "input_ids shape: torch.Size([1, 57])\n",
      "Reference Summary:\n",
      "European Union Mediterranean state leaders offer full support to fellow EU member Cyprus in its dispute with Turkey over offshore natural gas deposit ownership. French President Emmanuel Macron, speaking for the EU, urges Turkey to stop “illegal activities” in Cyprus’s exclusive economic zone.\n",
      "Predictions: \n",
      "['Turkey has been accused of violating the rights of its citizens in the region. The Turkish government has been trying to get the EU to allow it to take action against the country. The EU has been seeking to stop the Turkish government from taking part in the controversial move.']\n",
      "\n"
     ]
    },
    {
     "name": "stderr",
     "output_type": "stream",
     "text": [
      "\r",
      " 40%|███▉      | 406/1022 [6:08:39<9:37:58, 56.30s/it]"
     ]
    },
    {
     "name": "stdout",
     "output_type": "stream",
     "text": [
      "input_ids shape: torch.Size([1, 59])\n",
      "Reference Summary:\n",
      "The Ninth U.S. Circuit Court of Appeals, without ruling on the merits, orders U.S. District Judge Marsha Pechman (Seattle) to reconsider her ruling against the ban of most transgender people from the military, stating she did not give the military’s judgment enough deference.\n",
      "Predictions: \n",
      "[\"The U.S. appeals court ordered a judge to reconsider her ruling against the policy. The ruling was a victory for President Donald Trump's effort to ban transgender people from the military. The U.N. Security Council voted to uphold the ban in a vote last week.\"]\n",
      "\n"
     ]
    },
    {
     "name": "stderr",
     "output_type": "stream",
     "text": [
      "\r",
      " 40%|███▉      | 407/1022 [6:09:36<9:39:29, 56.54s/it]"
     ]
    },
    {
     "name": "stdout",
     "output_type": "stream",
     "text": [
      "input_ids shape: torch.Size([1, 59])\n",
      "Reference Summary:\n",
      "In response to a controversial pension reform proposal and cuts in the education budget, a general strike by over 40 million workers takes place in Brazil. Demonstrations are held in over 80 cities across the country.\n",
      "Predictions: \n",
      "[\"Brazil's general strike is a protest against the government's pension reform. The strike is expected to last for a week. The general strike will be held in cities across the country. The government is seeking to reform the pension system. The reform is seen as a key part of the country\"]\n",
      "\n"
     ]
    },
    {
     "name": "stderr",
     "output_type": "stream",
     "text": [
      "\r",
      " 40%|███▉      | 408/1022 [6:10:33<9:39:36, 56.64s/it]"
     ]
    },
    {
     "name": "stdout",
     "output_type": "stream",
     "text": [
      "input_ids shape: torch.Size([1, 59])\n",
      "Reference Summary:\n",
      "Yemen-based Houthi forces launch drone strikes on Jizan Regional Airport and Abha International Airport in Saudi Arabia. A Saudi Arabian-led coalition spokesperson says a Houthi drone has been shot down near the Saudi city of Abha.\n",
      "Predictions: \n",
      "['The U.S. military says it has been working with the Saudis to stop the Houthi rebels. The Houthi group has been fighting a Saudi-led coalition in Yemen. The U.N. says the Houthis have been attacking the Saudi-backed government in Yemen']\n",
      "\n"
     ]
    },
    {
     "name": "stderr",
     "output_type": "stream",
     "text": [
      "\r",
      " 40%|████      | 409/1022 [6:11:30<9:39:41, 56.74s/it]"
     ]
    },
    {
     "name": "stdout",
     "output_type": "stream",
     "text": [
      "input_ids shape: torch.Size([1, 59])\n",
      "Reference Summary:\n",
      "12 Kenyan police officers are killed when their vehicle hits a roadside bomb in east Wajir County, near the Somali border. No one has claimed responsibility, though the police had been pursuing suspected al-Shabab militants fighting Somalia's government and its backers.\n",
      "Predictions: \n",
      "['The blast occurred near the Somali border. The blast killed at least 10 police officers. The attack was a suspected bomb blast. The Kenyan police were on patrol near the border. A bomb exploded in the Somali capital of Mogadishu. The explosion killed at at least eight people']\n",
      "\n"
     ]
    },
    {
     "name": "stderr",
     "output_type": "stream",
     "text": [
      "\r",
      " 40%|████      | 410/1022 [6:12:27<9:39:40, 56.83s/it]"
     ]
    },
    {
     "name": "stdout",
     "output_type": "stream",
     "text": [
      "input_ids shape: torch.Size([1, 59])\n",
      "Reference Summary:\n",
      "Twin explosions rock Mogadishu killing 11 and injuring over 25. The first bomb went off near a checkpoint for the presidential palace killing nine and the other bomb killed the two occupants in the vehicle. Al Shabbab claimed responsibility.\n",
      "Predictions: \n",
      "[\"Explosions rock Somalia's capital, killing 11 people. Al-Shabaab militants claim responsibility for the attack. Al Qaeda-linked group claims responsibility for attack. The blast occurred in Mogadishu, the capital of Somalia. The attack was carried out by a group\"]\n",
      "\n"
     ]
    },
    {
     "name": "stderr",
     "output_type": "stream",
     "text": [
      "\r",
      " 40%|████      | 411/1022 [6:13:24<9:38:36, 56.82s/it]"
     ]
    },
    {
     "name": "stdout",
     "output_type": "stream",
     "text": [
      "input_ids shape: torch.Size([1, 57])\n",
      "Reference Summary:\n",
      "The Notre Dame Cathedral holds its first mass since the April 15 fire.\n",
      "Predictions: \n",
      "[\"The Notre Dame Cathedral in Paris was destroyed in a fire in April. The fire was caused by a fire that broke out in the cathedral's basement. The cathedral was damaged in the blaze. The church was damaged by the fire in the early hours of April 15.\"]\n",
      "\n"
     ]
    },
    {
     "name": "stderr",
     "output_type": "stream",
     "text": [
      "\r",
      " 40%|████      | 412/1022 [6:14:21<9:39:05, 56.96s/it]"
     ]
    },
    {
     "name": "stdout",
     "output_type": "stream",
     "text": [
      "input_ids shape: torch.Size([1, 59])\n",
      "Reference Summary:\n",
      "Seven people—four sanitation workers and three staff members—die after inhaling toxic fumes from a Darshsan Hotel sewer cleaning in the village of Fartikui in western India. The hotel owner is charged with the fatalities.\n",
      "Predictions: \n",
      "[\"Seven people died while cleaning hotel's septic tank in Gujarat, India. The incident happened in the city of Ahmedabad. The hotel owner has been charged with causing death due to negligence. The victims were cleaning the hotel's sewer system. The dead were cleaning a hotel se\"]\n",
      "\n"
     ]
    },
    {
     "name": "stderr",
     "output_type": "stream",
     "text": [
      "\r",
      " 40%|████      | 413/1022 [6:14:27<7:03:09, 41.69s/it]"
     ]
    },
    {
     "name": "stdout",
     "output_type": "stream",
     "text": [
      "input_ids shape: torch.Size([1, 57])\n",
      "Reference Summary:\n",
      "The Ministry of Health of Peru reports that so far this year, 548 people have contracted Guillain–Barré syndrome in an outbreak in the country. It also clarified that in the five cases in which patients died, death was caused by complications with other serious diseases.\n",
      "Predictions: \n",
      "['A total of 548 people have died from the disease in the last two years. A total of five people have been killed by the disease, according to the CDC. The disease is caused by a form of a disease called Guillain-Barré.']\n",
      "\n"
     ]
    },
    {
     "name": "stderr",
     "output_type": "stream",
     "text": [
      "\r",
      " 41%|████      | 414/1022 [6:15:24<7:48:01, 46.19s/it]"
     ]
    },
    {
     "name": "stdout",
     "output_type": "stream",
     "text": [
      "input_ids shape: torch.Size([1, 59])\n",
      "Reference Summary:\n",
      "U.S. President Donald Trump thanks Prime Minister of Japan Shinzō Abe by phone for his effort to mediate between the U.S. and Iran.\n",
      "Predictions: \n",
      "[\"President Donald Trump has called for a U.S. military strike on Iran. He has also said that he wants to use the U.N. Security Council to impose sanctions on Iran over its nuclear program. The U.K. has been accused of supporting Iran's nuclear\"]\n",
      "\n"
     ]
    },
    {
     "name": "stderr",
     "output_type": "stream",
     "text": [
      "\r",
      " 41%|████      | 415/1022 [6:16:21<8:19:13, 49.35s/it]"
     ]
    },
    {
     "name": "stdout",
     "output_type": "stream",
     "text": [
      "input_ids shape: torch.Size([1, 59])\n",
      "Reference Summary:\n",
      "India announces that effective Sunday it will impose tariffs, some as high as 70 percent, on 28 United States products, including almonds and apples, in response to the U.S. government's refusal to exempt India from higher taxes on steel and aluminum imports.\n",
      "Predictions: \n",
      "[\"India to impose higher tariffs on 28 U.S. products. The move is in response to the U.N. Security Council's decision to impose new sanctions. The U.K. has also imposed new sanctions on the U.,S. and China. The new tariffs will take\"]\n",
      "\n"
     ]
    },
    {
     "name": "stderr",
     "output_type": "stream",
     "text": [
      "\r",
      " 41%|████      | 416/1022 [6:17:17<8:41:00, 51.59s/it]"
     ]
    },
    {
     "name": "stdout",
     "output_type": "stream",
     "text": [
      "input_ids shape: torch.Size([1, 59])\n",
      "Reference Summary:\n",
      "Hong Kong Chief Executive Carrie Lam announces that the government has suspended its plan to allow extraditions to mainland China.\n",
      "Predictions: \n",
      "[\"Hong Kong's leader has been under pressure to act on a controversial bill. The bill would allow the city to extradite suspects to China. The move has sparked protests in Hong Kong. The city has been in the grip of a political crisis since the Chinese government took over in\"]\n",
      "\n"
     ]
    },
    {
     "name": "stderr",
     "output_type": "stream",
     "text": [
      "\r",
      " 41%|████      | 417/1022 [6:18:14<8:56:02, 53.16s/it]"
     ]
    },
    {
     "name": "stdout",
     "output_type": "stream",
     "text": [
      "input_ids shape: torch.Size([1, 59])\n",
      "Reference Summary:\n",
      "U.S. President Donald Trump confirms he has been briefed on a spike of UFO sightings in Earth's atmosphere by United States Navy pilots, saying \"people are saying they're seeing UFOs. Do I believe it? Not particularly\". The U.S. Navy recently updated its guidelines for how its pilots can report \"unidentified aircraft\".\n",
      "Predictions: \n",
      "[\"President Donald Trump says he's not sure if he believes in UFOs. He says he has been briefed on the subject by the U.S. military. Trump says the U-S. has been told of UFOs by the military. He also says he doesn't believe in\"]\n",
      "\n"
     ]
    },
    {
     "name": "stderr",
     "output_type": "stream",
     "text": [
      "\r",
      " 41%|████      | 418/1022 [6:19:11<9:05:14, 54.16s/it]"
     ]
    },
    {
     "name": "stdout",
     "output_type": "stream",
     "text": [
      "input_ids shape: torch.Size([1, 56])\n",
      "Reference Summary:\n",
      "Slovakia inaugurates Zuzana Čaputová as its first female elected President.\n",
      "Predictions: \n",
      "['Zuzana Caputova is the first female president of Slovakia. Caputovas is an environmental activist and lawyer. She was sworn in as president on Saturday. She is a member of the opposition party. She has been in the opposition since 2007.']\n",
      "\n"
     ]
    },
    {
     "name": "stderr",
     "output_type": "stream",
     "text": [
      "\r",
      " 41%|████      | 419/1022 [6:20:07<9:12:22, 54.96s/it]"
     ]
    },
    {
     "name": "stdout",
     "output_type": "stream",
     "text": [
      "input_ids shape: torch.Size([1, 59])\n",
      "Reference Summary:\n",
      "The Syrian Army and the Turkish Land Forces exchange heavy fire in the northern Idlib Governorate, in what Turkish officials described as a deliberate mortar attack on one of their observation posts in Murak that wounded three Turkish troops.\n",
      "Predictions: \n",
      "['Turkish military says Syrian government forces attacked its observation post. Turkey says Syrian forces attacked the post in Idlib. Turkish troops responded with a barrage of gunfire. The attack was reported to have killed at least one person. The Syrian government denies the claim. The Turkish military says it is investigating the']\n",
      "\n"
     ]
    },
    {
     "name": "stderr",
     "output_type": "stream",
     "text": [
      "\r",
      " 41%|████      | 420/1022 [6:20:14<6:44:29, 40.31s/it]"
     ]
    },
    {
     "name": "stdout",
     "output_type": "stream",
     "text": [
      "input_ids shape: torch.Size([1, 58])\n",
      "Reference Summary:\n",
      "At least 12 people are killed after jihadists shelled a village in Aleppo Governorate with mortars.\n",
      "Predictions: \n",
      "['Terror groups attack village in Aleppo, Syria, with mortar shelling. 12 people killed in attack, according to local police. Attack on village in the Syrian province of Aleppo. At least 15 people also injured in attack. The attack took place in the village of Rashid.']\n",
      "\n"
     ]
    },
    {
     "name": "stderr",
     "output_type": "stream",
     "text": [
      "\r",
      " 41%|████      | 421/1022 [6:20:20<5:01:03, 30.06s/it]"
     ]
    },
    {
     "name": "stdout",
     "output_type": "stream",
     "text": [
      "input_ids shape: torch.Size([1, 59])\n",
      "Reference Summary:\n",
      "In the past week, over 160 people have been killed and 40 villages destroyed in attacks between tribes in the Democratic Republic of the Congo.\n",
      "Predictions: \n",
      "['Nearly 40 villages were destroyed and more than 100,000 people have been forced to flee their homes. Renewed fighting between ethnic groups in the Democratic Republic of Congo has killed at least 160 people. Nearly 40 villages destroyed and nearly 100,00 people forced to fled their homes in the eastern']\n",
      "\n"
     ]
    },
    {
     "name": "stderr",
     "output_type": "stream",
     "text": [
      "\r",
      " 41%|████▏     | 422/1022 [6:21:16<6:19:46, 37.98s/it]"
     ]
    },
    {
     "name": "stdout",
     "output_type": "stream",
     "text": [
      "input_ids shape: torch.Size([1, 59])\n",
      "Reference Summary:\n",
      "A massive blackout hits Argentina, Uruguay, and southern Brazil, leaving millions without power.\n",
      "Predictions: \n",
      "[\"Argentina, Uruguay and Paraguay are in the middle of a power blackout. The blackout is the worst in South America since the end of World War II. The country's power grid was knocked out for more than a week. The outage has been blamed on a failure\"]\n",
      "\n"
     ]
    },
    {
     "name": "stderr",
     "output_type": "stream",
     "text": [
      "\r",
      " 41%|████▏     | 423/1022 [6:22:13<7:15:00, 43.57s/it]"
     ]
    },
    {
     "name": "stdout",
     "output_type": "stream",
     "text": [
      "input_ids shape: torch.Size([1, 59])\n",
      "Reference Summary:\n",
      "A group of bandits attack a village in the Shinkafi local government area of Zamfara State, Nigeria, killing at least 34 civilians. The gunmen arrived on motorcycles and opened fire on civilians indiscriminately, later burning down homes.\n",
      "Predictions: \n",
      "['The attack took place in the village of Gidan Wawa in the state of Zamfara. The attack was carried out by a gang of armed men. The victims were killed in the villages of Ggana and Tunga. The attacks were carried out in the']\n",
      "\n"
     ]
    },
    {
     "name": "stderr",
     "output_type": "stream",
     "text": [
      "\r",
      " 41%|████▏     | 424/1022 [6:23:10<7:55:03, 47.67s/it]"
     ]
    },
    {
     "name": "stdout",
     "output_type": "stream",
     "text": [
      "input_ids shape: torch.Size([1, 56])\n",
      "Reference Summary:\n",
      "Israeli Prime Minister Benjamin Netanyahu formally unveils Trump Heights, a new settlement in the Golan Heights, named after U.S. President Donald Trump for his decision to recognise Israeli sovereignty over the occupied territory.\n",
      "Predictions: \n",
      "[\"Israel's prime minister says he will name a new settlement in the Golan Heights after the U.S. president. The Golan is a tiny Israeli territory in the West Bank. The settlement is in the territory of the Israeli-occupied Golan region.\"]\n",
      "\n"
     ]
    },
    {
     "name": "stderr",
     "output_type": "stream",
     "text": [
      "\r",
      " 42%|████▏     | 425/1022 [6:23:13<5:41:50, 34.36s/it]"
     ]
    },
    {
     "name": "stdout",
     "output_type": "stream",
     "text": [
      "input_ids shape: torch.Size([1, 56])\n",
      "Reference Summary:\n",
      "Foreign Minister of Japan Tarō Kōno seeks cooperation from Mongolia over efforts to settle the issue of past abductions of Japanese nationals by North Korea, as Mongolia maintains friendly ties with Pyongyang. Japan has no ties with North Korea and pushes for further sanctions.\n",
      "Predictions: \n",
      "['Japan seeks cooperation from Mongolia in North Korean abduction issue. Ulaanbaatar maintains friendly ties with Pyongyang. Japan seeks cooperation in efforts to settle the issue of past abductions of Japanese nationals. ULAanbaatari maintains friendly relations with Pyongyang, Japan says..']\n",
      "\n"
     ]
    },
    {
     "name": "stderr",
     "output_type": "stream",
     "text": [
      "\r",
      " 42%|████▏     | 426/1022 [6:24:10<6:47:53, 41.06s/it]"
     ]
    },
    {
     "name": "stdout",
     "output_type": "stream",
     "text": [
      "input_ids shape: torch.Size([1, 59])\n",
      "Reference Summary:\n",
      "Citizens of Guatemala head to the polls to vote for their next president and new members of the country's congress.\n",
      "Predictions: \n",
      "[\"Guatemala's presidential election is set to be held on Sunday. The election will be held in a runoff vote. The vote will be for the presidency, a vice president, a congresswoman and a vice presidential candidate. The winner will be chosen by a vote of the\"]\n",
      "\n"
     ]
    },
    {
     "name": "stderr",
     "output_type": "stream",
     "text": [
      "\r",
      " 42%|████▏     | 427/1022 [6:25:07<7:34:37, 45.84s/it]"
     ]
    },
    {
     "name": "stdout",
     "output_type": "stream",
     "text": [
      "input_ids shape: torch.Size([1, 59])\n",
      "Reference Summary:\n",
      "The first televised debate between Conservative Party candidates for Leader of the Conservative Party and Prime Minister of the United Kingdom takes place in London. Frontrunnner Boris Johnson refuses to attend.\n",
      "Predictions: \n",
      "['Boris Johnson is the favourite to become the next UK Prime Minister. He has been a leading figure in the campaign to replace David Cameron as leader. He is also the most popular politician in the country. He was the first to announce he would be standing in the race for']\n",
      "\n"
     ]
    },
    {
     "name": "stderr",
     "output_type": "stream",
     "text": [
      "\r",
      " 42%|████▏     | 428/1022 [6:26:04<8:06:43, 49.16s/it]"
     ]
    },
    {
     "name": "stdout",
     "output_type": "stream",
     "text": [
      "input_ids shape: torch.Size([1, 59])\n",
      "Reference Summary:\n",
      "The scheduled peaceful mass protest, despite bill suspension yesterday,  of nearly  2 million people  gather in Victoria Square demanding the legislation be withdrawn. If the organizers numbers are confirmed, this is the largest protest  ever. Hong Kong leader Carrie Lam  apologizes for proposing the bill. Police say turnout was 338,000 at its peak.\n",
      "Predictions: \n",
      "[\"Hong Kong's leader, Carrie Lam, is facing calls to resign over her handling of the case. She is accused of trying to use the case to try to get a Chinese court to extradite her to Beijing. She has been accused of using the case as a political tool\"]\n",
      "\n"
     ]
    },
    {
     "name": "stderr",
     "output_type": "stream",
     "text": [
      "\r",
      " 42%|████▏     | 429/1022 [6:27:01<8:30:00, 51.60s/it]"
     ]
    },
    {
     "name": "stdout",
     "output_type": "stream",
     "text": [
      "input_ids shape: torch.Size([1, 59])\n",
      "Reference Summary:\n",
      "Toyota Gazoo Racing wins the 2019 24 Hours of Le Mans.\n",
      "Predictions: \n",
      "[\" Toyota's new car is the first of its kind in the world. The car is a Toyota Yaris, which has been driven by the likes of Fernando Alonso and Keiichi Hinojito. The Japanese car is also the first to win the 24-hour race\"]\n",
      "\n"
     ]
    },
    {
     "name": "stderr",
     "output_type": "stream",
     "text": [
      "\r",
      " 42%|████▏     | 430/1022 [6:27:59<8:46:23, 53.35s/it]"
     ]
    },
    {
     "name": "stdout",
     "output_type": "stream",
     "text": [
      "input_ids shape: torch.Size([1, 59])\n",
      "Reference Summary:\n",
      "Gary Woodland wins his first major championship, finishing three shots ahead of two-time defending champion Brooks Koepka at Pebble Beach, California.\n",
      "Predictions: \n",
      "['Gary Woodland wins the U.S. Open at Pebble Beach. The American is the first player to win the tournament since Tiger Woods in 2000. The U.K. Open is the most prestigious golf tournament in the world. The tournament is the fourth major of the year']\n",
      "\n"
     ]
    },
    {
     "name": "stderr",
     "output_type": "stream",
     "text": [
      "\r",
      " 42%|████▏     | 431/1022 [6:28:56<8:57:26, 54.56s/it]"
     ]
    },
    {
     "name": "stdout",
     "output_type": "stream",
     "text": [
      "input_ids shape: torch.Size([1, 59])\n",
      "Reference Summary:\n",
      "Three Boko Haram suicide bombers detonate their devices among a group of football fans, killing 30 people and wounding 40 others, in Konduga, Nigeria.\n",
      "Predictions: \n",
      "['The attack was carried out by a group of Boko Haram terrorists. The attack took place in the town of Konduga in the Borno state. The group was targeting a local government area. The victims were killed in the attack. The attackers were killed by a suicide bomber']\n",
      "\n"
     ]
    },
    {
     "name": "stderr",
     "output_type": "stream",
     "text": [
      "\r",
      " 42%|████▏     | 432/1022 [6:29:53<9:04:52, 55.41s/it]"
     ]
    },
    {
     "name": "stdout",
     "output_type": "stream",
     "text": [
      "input_ids shape: torch.Size([1, 58])\n",
      "Reference Summary:\n",
      "Boko Haram terrorists exchange gunfire with Nigerian troops in the Nganzai local government area of Borno State.\n",
      "Predictions: \n",
      "['Boko Haram attacks in Borno state, Nigeria. Boko Haram attacks on Nigerian military base in Bornos. Boko Boko Haram attack on military base. Boko Haram attacks on military bases in Bornu state, killing at least 20. Boko haram attacks in Nigeria.']\n",
      "\n"
     ]
    },
    {
     "name": "stderr",
     "output_type": "stream",
     "text": [
      "\r",
      " 42%|████▏     | 433/1022 [6:30:51<9:10:08, 56.04s/it]"
     ]
    },
    {
     "name": "stdout",
     "output_type": "stream",
     "text": [
      "input_ids shape: torch.Size([1, 59])\n",
      "Reference Summary:\n",
      "Acting United States Secretary of Defense Patrick M. Shanahan authorizes the deployment of approximately 1,000 additional U.S. troops to the Middle East region \"for defensive purposes to address air, naval and ground-based threats\" amid increased tensions with Iran. The move comes four days after two oil tankers were attacked in the Gulf of Oman incident.\n",
      "Predictions: \n",
      "[\"The U.S. is sending more troops to the Middle East. The move is in response to Iran's alleged nuclear program. The U.N. Security Council has approved a resolution to the Iran nuclear deal. The resolution would require the U.K. to agree to\"]\n",
      "\n"
     ]
    },
    {
     "name": "stderr",
     "output_type": "stream",
     "text": [
      "\r",
      " 42%|████▏     | 434/1022 [6:30:57<6:42:22, 41.06s/it]"
     ]
    },
    {
     "name": "stdout",
     "output_type": "stream",
     "text": [
      "input_ids shape: torch.Size([1, 59])\n",
      "Reference Summary:\n",
      "Japanese anime developers report that the industry is in crisis, even as its popularity soars in its native country. Among the reasons are low pay, long hours, and a huge shortage of artists – just as its global popularity reaches record levels.\n",
      "Predictions: \n",
      "[\"Japan's anime industry in crisis even as its popularity soars. Japan's anime Industry in crisis. Japan has a huge anime industry. But the industry is in crisis, with low pay and a shortage of artists. Japan is a major anime producer. It has a large anime industry,\"]\n",
      "\n"
     ]
    },
    {
     "name": "stderr",
     "output_type": "stream",
     "text": [
      "\r",
      " 43%|████▎     | 435/1022 [6:31:54<7:29:12, 45.92s/it]"
     ]
    },
    {
     "name": "stdout",
     "output_type": "stream",
     "text": [
      "input_ids shape: torch.Size([1, 59])\n",
      "Reference Summary:\n",
      "A magnitude 5.8 earthquake hits Sichuan, China, killing 13 people and injuring 199 others.\n",
      "Predictions: \n",
      "['The earthquake struck in the southwestern province of Sichuan. The quake was felt in the city of Yibin. The earthquake was felt across the country. The death toll is expected to rise. The cause of the quake is not yet known. The U.S.']\n",
      "\n"
     ]
    },
    {
     "name": "stderr",
     "output_type": "stream",
     "text": [
      "\r",
      " 43%|████▎     | 436/1022 [6:32:52<8:02:07, 49.36s/it]"
     ]
    },
    {
     "name": "stdout",
     "output_type": "stream",
     "text": [
      "input_ids shape: torch.Size([1, 59])\n",
      "Reference Summary:\n",
      "The death toll of Indian children who have died due to an acute encephalitis syndrome outbreak reaches 100.\n",
      "Predictions: \n",
      "['The outbreak of encephalitis has killed more than 100 children in Bihar. The outbreak has been blamed on a virus that causes brain infections. The disease is believed to be caused by a virus called encephalococcal meningitis. The virus is a type of brain infection']\n",
      "\n"
     ]
    },
    {
     "name": "stderr",
     "output_type": "stream",
     "text": [
      "\r",
      " 43%|████▎     | 437/1022 [6:33:49<8:23:58, 51.69s/it]"
     ]
    },
    {
     "name": "stdout",
     "output_type": "stream",
     "text": [
      "input_ids shape: torch.Size([1, 59])\n",
      "Reference Summary:\n",
      "Iran announces that within ten days, it will stop abiding by the agreement and will  exceed the limit on its stockpile of uranium.\n",
      "Predictions: \n",
      "['Iran says it will break nuclear deal with world powers in 10 days. Iran says it has a stockpile of 20,000 tons of uranium. Iran has been accused of enriching uranium to weapons grade. Iran denies the allegations. The U.S. has been trying to get Iran to']\n",
      "\n"
     ]
    },
    {
     "name": "stderr",
     "output_type": "stream",
     "text": [
      "\r",
      " 43%|████▎     | 438/1022 [6:34:46<8:39:15, 53.35s/it]"
     ]
    },
    {
     "name": "stdout",
     "output_type": "stream",
     "text": [
      "input_ids shape: torch.Size([1, 59])\n",
      "Reference Summary:\n",
      "Iranian President Hassan Rouhani tells the Fars News Agency \"the time is short for Europe to save the international nuclear deal\", and calls on France to take the lead. Reuters reports that Rouhani added the collapse of the nuclear deal would not be in the interests of the region and the world.\n",
      "Predictions: \n",
      "[\"The U.S. and Iran are at odds over Iran's nuclear program. The U.N. Security Council is considering a resolution to the dispute. The United States and Iran have been at odds for years over Iran’s nuclear program, which is seen as a\"]\n",
      "\n"
     ]
    },
    {
     "name": "stderr",
     "output_type": "stream",
     "text": [
      "\r",
      " 43%|████▎     | 439/1022 [6:35:43<8:48:52, 54.43s/it]"
     ]
    },
    {
     "name": "stdout",
     "output_type": "stream",
     "text": [
      "input_ids shape: torch.Size([1, 59])\n",
      "Reference Summary:\n",
      "Ecuador agrees to allow U.S. military planes fighting drug trafficking to operate from San Cristóbal Airport in the Galápagos Islands. National Assembly legislators call on Defense Minister Oswaldo Jarrin and Environmental Minister Marcelo Mata to explain the scope of co-operation.\n",
      "Predictions: \n",
      "['Ecuador: US military could use Galápagos island for flights. Ecuador: USmilitary could useGalápago island for aircraft. U.S. military could fly on the island. U-turn would be a first. U.-S. has been at odds with']\n",
      "\n"
     ]
    },
    {
     "name": "stderr",
     "output_type": "stream",
     "text": [
      "\r",
      " 43%|████▎     | 440/1022 [6:36:40<8:54:16, 55.08s/it]"
     ]
    },
    {
     "name": "stdout",
     "output_type": "stream",
     "text": [
      "input_ids shape: torch.Size([1, 56])\n",
      "Reference Summary:\n",
      "Twelve people are killed and dozens more injured when a passenger grabs the steering wheel of a bus in West Java, Indonesia, causing it to crash.\n",
      "Predictions: \n",
      "[\"12 people killed and dozens more injured in bus crash in Indonesia. Passenger tried to wrest control of bus after argument with driver, police say. The accident happened in the city of Jakarta in Indonesia's West Java province. The driver was not injured in the accident.\"]\n",
      "\n"
     ]
    },
    {
     "name": "stderr",
     "output_type": "stream",
     "text": [
      "\r",
      " 43%|████▎     | 441/1022 [6:37:36<8:58:06, 55.57s/it]"
     ]
    },
    {
     "name": "stdout",
     "output_type": "stream",
     "text": [
      "input_ids shape: torch.Size([1, 56])\n",
      "Reference Summary:\n",
      "A gunman opens fire on Dallas police before being shot and killed near a federal building.\n",
      "Predictions: \n",
      "['The gunman was killed in a shootout with police. The gunman was shot dead by police. He was a suspect in a federal courthouse shooting in Dallas. The suspect was identified as a 22-year-old man. The shooting occurred in the downtown Dallas area.']\n",
      "\n"
     ]
    },
    {
     "name": "stderr",
     "output_type": "stream",
     "text": [
      "\r",
      " 43%|████▎     | 442/1022 [6:38:33<9:00:40, 55.93s/it]"
     ]
    },
    {
     "name": "stdout",
     "output_type": "stream",
     "text": [
      "input_ids shape: torch.Size([1, 56])\n",
      "Reference Summary:\n",
      "A man identified as Yujiro Iimori, who allegedly stabbed and robbed a police officer of his gun, is arrested in Osaka, Japan. He presents a mental health certificate as defense.\n",
      "Predictions: \n",
      "[\"The world's top-ranked player in the world, Naomi Osaka, is in the first round of the tournament. The Japanese star is in her first appearance at the tournament in Birmingham. She is the first woman to reach the quarter-finals of the event.\"]\n",
      "\n"
     ]
    },
    {
     "name": "stderr",
     "output_type": "stream",
     "text": [
      "\r",
      " 43%|████▎     | 443/1022 [6:39:30<9:03:44, 56.35s/it]"
     ]
    },
    {
     "name": "stdout",
     "output_type": "stream",
     "text": [
      "input_ids shape: torch.Size([1, 59])\n",
      "Reference Summary:\n",
      "The U.S. Supreme Court rules, in a 5–4 decision, the Virginia legislative districts that the court previously said were racially gerrymandered, have to remain in their redrawn form. Justices Ruth Bader Ginsburg, Sonia Sotomayor, Elena Kagan, Clarence Thomas and Neil Gorsuch make up the majority, not the usual conservative-liberal grouping.\n",
      "Predictions: \n",
      "[\"The Supreme Court's decision is a blow to the GOP-led House of Representatives. The ruling is a victory for the state of Virginia, which has been in power since the 1970s. The decision is the first time the court has ruled on a state-level case since\"]\n",
      "\n"
     ]
    },
    {
     "name": "stderr",
     "output_type": "stream",
     "text": [
      "\r",
      " 43%|████▎     | 444/1022 [6:40:27<9:04:09, 56.49s/it]"
     ]
    },
    {
     "name": "stdout",
     "output_type": "stream",
     "text": [
      "input_ids shape: torch.Size([1, 59])\n",
      "Reference Summary:\n",
      "Criminal charges are stayed against Jaspal Atwal, the central figure of controversy that surrounded Justin Trudeau's trip to India. He was charged in May 2018 with uttering threats against a Punjabi radio host.\n",
      "Predictions: \n",
      "[\"Jaspal Atwal, 64, was at centre of controversy in 2018 over his attendance at prime minister's reception in India. He was charged with threatening to kill or injure a person in a public place. Atwal was released on bail and will appear in court on November\"]\n",
      "\n"
     ]
    },
    {
     "name": "stderr",
     "output_type": "stream",
     "text": [
      "\r",
      " 44%|████▎     | 445/1022 [6:41:24<9:04:20, 56.60s/it]"
     ]
    },
    {
     "name": "stdout",
     "output_type": "stream",
     "text": [
      "input_ids shape: torch.Size([1, 59])\n",
      "Reference Summary:\n",
      "Four people are shot and injured at a parade celebrating the 2019 NBA Finals in Toronto.\n",
      "Predictions: \n",
      "[\"The Toronto Raptors are celebrating their NBA championship. The team is celebrating their first title in more than a decade. The Raptors are in the midst of a run for the NBA title. The Toronto Raptors beat the Cleveland Cavaliers in the NBA Finals. The game was held in Toronto's\"]\n",
      "\n"
     ]
    },
    {
     "name": "stderr",
     "output_type": "stream",
     "text": [
      "\r",
      " 44%|████▎     | 446/1022 [6:42:21<9:03:23, 56.60s/it]"
     ]
    },
    {
     "name": "stdout",
     "output_type": "stream",
     "text": [
      "input_ids shape: torch.Size([1, 56])\n",
      "Reference Summary:\n",
      "Former Egyptian president Mohamed Morsi, who was ousted in a coup in 2013 and has been detained in jail since then, dies after fainting during an espionage court hearing.\n",
      "Predictions: \n",
      "['Mohamed Morsi was in court for a hearing on his trial. He was accused of corruption and was accused by the Egyptian military of trying to overthrow the government. He died in a Cairo hospital after a court hearing. He had been in jail since June 2013.']\n",
      "\n"
     ]
    },
    {
     "name": "stderr",
     "output_type": "stream",
     "text": [
      "\r",
      " 44%|████▎     | 447/1022 [6:43:18<9:02:55, 56.65s/it]"
     ]
    },
    {
     "name": "stdout",
     "output_type": "stream",
     "text": [
      "input_ids shape: torch.Size([1, 59])\n",
      "Reference Summary:\n",
      "In response to accusations by the United States that Iran is responsible for last week's attacks on two oil tankers in the Gulf of Oman, and the subsequent increased U.S. military presence in the region, Iranian President Hassan Rouhani says \"Iran will not wage war against any nation\".\n",
      "Predictions: \n",
      "[\"U.S. says it has been working with Iran to find a way to get back to the Middle East. U.S., Iran have been at odds over the status of the region's oil reserves. U.-S. military says it is working with Iranian forces to\"]\n",
      "\n"
     ]
    },
    {
     "name": "stderr",
     "output_type": "stream",
     "text": [
      "\r",
      " 44%|████▍     | 448/1022 [6:44:14<9:02:04, 56.66s/it]"
     ]
    },
    {
     "name": "stdout",
     "output_type": "stream",
     "text": [
      "input_ids shape: torch.Size([1, 59])\n",
      "Reference Summary:\n",
      "Forty one people are killed in an attack in the Yoro and Gangafani villages in Mali, one week after 35 are killed in another attack. The attackers, riding motorcycles, targeted primarily Dogon villages.\n",
      "Predictions: \n",
      "[\"The attack took place in the central Mali village of Gao. The attack was the latest in a series of attacks on the country's ethnic minorities. The attacks were carried out by a group of armed men. The government says the attacks were in response to a recent crackdown on\"]\n",
      "\n"
     ]
    },
    {
     "name": "stderr",
     "output_type": "stream",
     "text": [
      "\r",
      " 44%|████▍     | 449/1022 [6:45:11<9:01:51, 56.74s/it]"
     ]
    },
    {
     "name": "stdout",
     "output_type": "stream",
     "text": [
      "input_ids shape: torch.Size([1, 59])\n",
      "Reference Summary:\n",
      "Google announces that it is setting aside $750 million in land and $250 million in financing to encourage developers in the San Francisco area to build and rehabilitate housing, in order to ease the homeless crisis in a region where Google has 45,000 employees.\n",
      "Predictions: \n",
      "[\"Google is making a $1 billion commitment to help the housing crisis in the Bay Area. The company is also investing in a new housing development in San Francisco. The project will help the city's homeless population. The housing crisis has been blamed on the rise of the Bay area's tech\"]\n",
      "\n"
     ]
    },
    {
     "name": "stderr",
     "output_type": "stream",
     "text": [
      "\r",
      " 44%|████▍     | 450/1022 [6:46:08<9:00:03, 56.65s/it]"
     ]
    },
    {
     "name": "stdout",
     "output_type": "stream",
     "text": [
      "input_ids shape: torch.Size([1, 56])\n",
      "Reference Summary:\n",
      "Boeing sells 200 of its 737 MAX planes to International Airlines Group, the first sale of the controversial airliners since two fatal crashes and subsequent worldwide groundings earlier this year.\n",
      "Predictions: \n",
      "[\"Boeing's 737 Max jet is the latest in a series of Boeing 737s to be grounded. The 737 Max is the world's largest passenger jet. The company has been forced to make changes to its 737 Max fleet after a series in recent years.\"]\n",
      "\n"
     ]
    },
    {
     "name": "stderr",
     "output_type": "stream",
     "text": [
      "\r",
      " 44%|████▍     | 451/1022 [6:46:14<6:34:53, 41.49s/it]"
     ]
    },
    {
     "name": "stdout",
     "output_type": "stream",
     "text": [
      "input_ids shape: torch.Size([1, 59])\n",
      "Reference Summary:\n",
      "Colombian authorities deport Venezuelan refugees in the border town of Cúcuta; in response, the Venezuelan government restricts movement of Colombians into the country.\n",
      "Predictions: \n",
      "['The UN says it is working with Colombia to help the Venezuelan refugees. The UN says the country is trying to help them get food and medicine. The country is also trying to get rid of the illegal immigrants. The U.N. says it has been working with the government']\n",
      "\n"
     ]
    },
    {
     "name": "stderr",
     "output_type": "stream",
     "text": [
      "\r",
      " 44%|████▍     | 452/1022 [6:47:10<7:15:51, 45.88s/it]"
     ]
    },
    {
     "name": "stdout",
     "output_type": "stream",
     "text": [
      "input_ids shape: torch.Size([1, 57])\n",
      "Reference Summary:\n",
      "A  three-judge panel of federal appeal court judges from the ninth circuit hears arguments concerning a 2017 ruling that  U.S. authorities breached the Flores Settlement Agreement's order on holding undocumented immigrant children in \"safe and sanitary\" conditions.  The Department of Justice is seeking relief because the order  imposes “new substantive requirements” for the detention of immigrant children that aren’t laid out in the settlement. The panel will issue a ruling at a later date.\n",
      "Predictions: \n",
      "['A U.S. government lawyer says a settlement agreement requiring sanitary conditions for detained immigrant children may not necessarily mean a better quality of life. Panel hears case on conditions for young migrants on border. U.N. panel hears case for children detained at border.']\n",
      "\n"
     ]
    },
    {
     "name": "stderr",
     "output_type": "stream",
     "text": [
      "\r",
      " 44%|████▍     | 453/1022 [6:48:06<7:44:43, 49.00s/it]"
     ]
    },
    {
     "name": "stdout",
     "output_type": "stream",
     "text": [
      "input_ids shape: torch.Size([1, 57])\n",
      "Reference Summary:\n",
      "Partially-recognized Interim President of Venezuela Juan Guaidó and Venezuelan Ambassador to Colombia Humberto Calderón Berti request that the Colombian government investigate two administrators of their own alliance on suspicion of embezzling US$100,000.\n",
      "Predictions: \n",
      "['Venezuelan opposition under scrutiny for alleged corruption. Two activists allegedly misappropriated funds to help Venezuelan security forces. Venezuelan security force members allegedly deserted and crossed into Colombia. The funds were intended to help the Venezuelan military. The opposition is calling for the president to step down.']\n",
      "\n"
     ]
    },
    {
     "name": "stderr",
     "output_type": "stream",
     "text": [
      "\r",
      " 44%|████▍     | 454/1022 [6:49:03<8:05:39, 51.30s/it]"
     ]
    },
    {
     "name": "stdout",
     "output_type": "stream",
     "text": [
      "input_ids shape: torch.Size([1, 59])\n",
      "Reference Summary:\n",
      "U.S. President Donald Trump's speech at a rally in Orlando, Florida is billed as the official launch of his re-election campaign for the 2020 United States presidential election. He previously filed on January 20, 2017 paperwork with the Federal Election Commission (FEC) officially announcing his bid for the 2020 presidential election.\n",
      "Predictions: \n",
      "[\"President Donald Trump is in the midst of a campaign for re-election. He is expected to make a major announcement on Tuesday. He will be in Florida for a rally in Orlando, Florida. He has been campaigning for his re- election campaign. He's also expected to\"]\n",
      "\n"
     ]
    },
    {
     "name": "stderr",
     "output_type": "stream",
     "text": [
      "\r",
      " 45%|████▍     | 455/1022 [6:49:59<8:20:04, 52.92s/it]"
     ]
    },
    {
     "name": "stdout",
     "output_type": "stream",
     "text": [
      "input_ids shape: torch.Size([1, 59])\n",
      "Reference Summary:\n",
      "Boris Johnson leads the second Tory MP leadership ballot. Dominic Raab is eliminated  after coming in last. Jeremy Hunt, Michael Gove, Sajid Javid, and Rory Stewart all advance to tomorrow's third round.\n",
      "Predictions: \n",
      "[\"The Tory leader's campaign has been in full swing since the election. The party's leader has been campaigning for a new leader since the general election. He has been accused of being too close to the Labour party. The former Foreign Secretary has been a key figure in the campaign\"]\n",
      "\n"
     ]
    },
    {
     "name": "stderr",
     "output_type": "stream",
     "text": [
      "\r",
      " 45%|████▍     | 456/1022 [6:50:56<8:30:01, 54.07s/it]"
     ]
    },
    {
     "name": "stdout",
     "output_type": "stream",
     "text": [
      "input_ids shape: torch.Size([1, 59])\n",
      "Reference Summary:\n",
      "Patrick Shanahan, who has been acting Secretary of Defense since January 1, has withdrawn his name from consideration as Secretary \"... to devote more time to his family\", President Trump said. Secretary of the Army Mark Esper  will be the acting Secretary of Defense. There are allegations of domestic violence against Mr. Shanahan.\n",
      "Predictions: \n",
      "['Acting Defense Secretary Patrick Shanahan has been in the job since January. He was nominated by President Obama to be the next defense secretary. He is now out of the running. The White House says he is stepping down to focus on his family. He has been a key figure']\n",
      "\n"
     ]
    },
    {
     "name": "stderr",
     "output_type": "stream",
     "text": [
      "\r",
      " 45%|████▍     | 457/1022 [6:51:53<8:37:23, 54.95s/it]"
     ]
    },
    {
     "name": "stdout",
     "output_type": "stream",
     "text": [
      "input_ids shape: torch.Size([1, 58])\n",
      "Reference Summary:\n",
      "Another batch of text messages between Brazilian judge Sérgio Moro and Operation Car Wash's prosecutors are leaked. The messages state that Moro advised lead prosecutor Deltan Dallagnol and the other prosecutors to halt any investigations on Fernando Henrique Cardoso, former President of Brazil and Luiz Inácio Lula da Silva's political rival. Moro is quoted as saying the investigations would \"offend someone whose support is important\".\n",
      "Predictions: \n",
      "[\"Brazil's Justice Minister Sergio Moro says there is nothing improper about alleged conversations. Moro was a judge in the corruption trial of former President Luiz Inacio Lula da Silva. Mora says he has nothing to hide. He says he was not involved in any wrongdoing.\"]\n",
      "\n"
     ]
    },
    {
     "name": "stderr",
     "output_type": "stream",
     "text": [
      "\r",
      " 45%|████▍     | 458/1022 [6:52:34<7:55:24, 50.57s/it]"
     ]
    },
    {
     "name": "stdout",
     "output_type": "stream",
     "text": [
      "input_ids shape: torch.Size([1, 58])\n",
      "Reference Summary:\n",
      "Li Ka-shing, \"Hong Kong's richest man\", pledges to pay, via his charitable foundation, the tuition fees of the Shantou University's 2019 incoming class for up to five years.\n",
      "Predictions: \n",
      "['The Hong Kong billionaire has pledged to pay $14 million to help pay for the tuition fees of a class of students. The money will be used to fund the tuition of a new class of Chinese students. Li Ka-Shing is the richest man in Hong Kong.']\n",
      "\n"
     ]
    },
    {
     "name": "stderr",
     "output_type": "stream",
     "text": [
      "\r",
      " 45%|████▍     | 459/1022 [6:53:31<8:14:53, 52.74s/it]"
     ]
    },
    {
     "name": "stdout",
     "output_type": "stream",
     "text": [
      "input_ids shape: torch.Size([1, 59])\n",
      "Reference Summary:\n",
      "The UN predicts that over five million Venezuelans, over 15% of the nation's population, will have left the country by the end of 2019 since the start of the crisis in Venezuela—the total at the end of 2018 was 3.3 million. One million have left the country since November, with a daily average of 5,000 departures. Additionally, over 20% of all worldwide UN asylum requests are from Venezuelans; 350,000 applied in 2018 alone.\n",
      "Predictions: \n",
      "['UN: Venezuelans now file 1 in 5 of all new asylum claims. UN: Venezuelan refugees are the most likely to be forced to flee their country. The number of refugees in Venezuela is expected to rise. The country is home to more than 1.5 million refugees']\n",
      "\n"
     ]
    },
    {
     "name": "stderr",
     "output_type": "stream",
     "text": [
      "\r",
      " 45%|████▌     | 460/1022 [6:54:28<8:26:22, 54.06s/it]"
     ]
    },
    {
     "name": "stdout",
     "output_type": "stream",
     "text": [
      "input_ids shape: torch.Size([1, 57])\n",
      "Reference Summary:\n",
      "Millions of people in southeast India face water shortages due to drought and depleted groundwater.\n",
      "Predictions: \n",
      "[\"The water shortage is causing a shortage in the southern Indian state of Tamil Nadu. The state is suffering from a severe drought. The drought is affecting the state's water supply. The water shortage has been caused by a lack of rain and a lack in water supplies.\"]\n",
      "\n"
     ]
    },
    {
     "name": "stderr",
     "output_type": "stream",
     "text": [
      "\r",
      " 45%|████▌     | 461/1022 [6:55:25<8:33:12, 54.89s/it]"
     ]
    },
    {
     "name": "stdout",
     "output_type": "stream",
     "text": [
      "input_ids shape: torch.Size([1, 56])\n",
      "Reference Summary:\n",
      "The Japanese coast guard says its patrol boats have been pushing back hundreds of North Korean boats trying to poach in fishing grounds rich with squid off Japan's northern coast.\n",
      "Predictions: \n",
      "[\"Japan's coast guard says it has pushed back hundreds of North Korean boats. The boats were trying to poach in fishing grounds rich with squid. Japan says it is trying to protect its fishing grounds from North Korean vessels. The fishing grounds are off Japan's northern coast.\"]\n",
      "\n"
     ]
    },
    {
     "name": "stderr",
     "output_type": "stream",
     "text": [
      "\r",
      " 45%|████▌     | 462/1022 [6:56:22<8:37:51, 55.48s/it]"
     ]
    },
    {
     "name": "stdout",
     "output_type": "stream",
     "text": [
      "input_ids shape: torch.Size([1, 56])\n",
      "Reference Summary:\n",
      "Four people, three Russians and a Ukrainian, will be charged with murder for the crash that killed 298 people on July 17, 2014.  The trial is to be held on March 9, 2020 and take place in Badhoevedorp, Netherlands.\n",
      "Predictions: \n",
      "['Three Russians, one Ukrainian and one Ukrainian accused of downing flight MH17. The flight was shot down over eastern Ukraine in July 2014. The crash killed 298 people, including 298 children. The Netherlands is the first country to hold a trial over the incident.']\n",
      "\n"
     ]
    },
    {
     "name": "stderr",
     "output_type": "stream",
     "text": [
      "\r",
      " 45%|████▌     | 463/1022 [6:57:19<8:41:04, 55.93s/it]"
     ]
    },
    {
     "name": "stdout",
     "output_type": "stream",
     "text": [
      "input_ids shape: torch.Size([1, 59])\n",
      "Reference Summary:\n",
      "NXIVM leader Keith Raniere is found guilty of seven charges, including human trafficking, sex trafficking, sexual exploitation of a child, forced labor conspiracy, and racketeering.\n",
      "Predictions: \n",
      "[\"The group's leader was convicted of sex trafficking. The group was founded by a former member of the U.S. military. The organization was founded in the 1990s. The leader was a former U.N. official. The U.K. government has been investigating\"]\n",
      "\n"
     ]
    },
    {
     "name": "stderr",
     "output_type": "stream",
     "text": [
      "\r",
      " 45%|████▌     | 464/1022 [6:58:16<8:42:37, 56.20s/it]"
     ]
    },
    {
     "name": "stdout",
     "output_type": "stream",
     "text": [
      "input_ids shape: torch.Size([1, 59])\n",
      "Reference Summary:\n",
      "Saudi Minister of State for Foreign Affairs Adel al-Jubeir says that the UN's report on the killing of journalist Jamal Khashoggi is unfounded, saying it has \"clear contradictions and baseless allegations.\" (Gulf News)\n",
      "Predictions: \n",
      "[\"Saudi Arabia's crown prince is accused of killing journalist Jamal Khashoggi. The Saudi government has denied the allegations. The U.N. report says the Saudi government is responsible for the murder. The report says it has been made available to the world for the first time\"]\n",
      "\n"
     ]
    },
    {
     "name": "stderr",
     "output_type": "stream",
     "text": [
      "\r",
      " 45%|████▌     | 465/1022 [6:59:13<8:43:24, 56.38s/it]"
     ]
    },
    {
     "name": "stdout",
     "output_type": "stream",
     "text": [
      "input_ids shape: torch.Size([1, 59])\n",
      "Reference Summary:\n",
      "Rory Stewart is eliminated after coming in fifth place in today's third round voting. The front runner remains Boris Johnson.  Jeremy Hunt, Michael Gove, and Sajid Javid came in second, third, and fourth respectively. A fourth round will be taken tomorrow.\n",
      "Predictions: \n",
      "[\"Boris Johnson is the favourite to become the next Tory leader. He is the current leader of the Conservative Party and is expected to win the leadership. He has been in the race for the top job since May's election. He was the first candidate to win a majority in\"]\n",
      "\n"
     ]
    },
    {
     "name": "stderr",
     "output_type": "stream",
     "text": [
      "\r",
      " 46%|████▌     | 466/1022 [6:59:22<6:31:04, 42.20s/it]"
     ]
    },
    {
     "name": "stdout",
     "output_type": "stream",
     "text": [
      "input_ids shape: torch.Size([1, 57])\n",
      "Reference Summary:\n",
      "The House Democrats vote to repeal the Authorization for Use of Military Force Against Terrorists, which is used to authorize war.\n",
      "Predictions: \n",
      "['House Democrats vote to repeal 2001 law that authorized war with Iran. The law was passed in response to the 9/11 attacks. The bill also authorized the use of force against Iran. It was passed by the Senate in 2002. The House voted to repeal it on Wednesday.']\n",
      "\n"
     ]
    },
    {
     "name": "stderr",
     "output_type": "stream",
     "text": [
      "\r",
      " 46%|████▌     | 467/1022 [7:00:19<7:10:21, 46.53s/it]"
     ]
    },
    {
     "name": "stdout",
     "output_type": "stream",
     "text": [
      "input_ids shape: torch.Size([1, 59])\n",
      "Reference Summary:\n",
      "Iran's Islamic Revolutionary Guard Corps shoots down an American RQ-4 Global Hawk spy drone after it allegedly violates Iranian airspace.\n",
      "Predictions: \n",
      "['Iranian military says it shot down a U.S. drone over the Persian Gulf. The U.N. Security Council has approved a resolution to the matter. The resolution would require the U.K. to allow the U.,S. to fly a drone over Iran']\n",
      "\n"
     ]
    },
    {
     "name": "stderr",
     "output_type": "stream",
     "text": [
      "\r",
      " 46%|████▌     | 468/1022 [7:01:15<7:37:30, 49.55s/it]"
     ]
    },
    {
     "name": "stdout",
     "output_type": "stream",
     "text": [
      "input_ids shape: torch.Size([1, 59])\n",
      "Reference Summary:\n",
      "An anonymous American official says the incident occurred in international airspace, and not over Iranian territory.\n",
      "Predictions: \n",
      "['US official tells AP that US drone was shot down by an Iranian missile in international airspace over Strait of Hormuz. US drone shot down in international air space over Strait, official says. US official says drone was in international space, was not armed. US drones have been shot down']\n",
      "\n"
     ]
    },
    {
     "name": "stderr",
     "output_type": "stream",
     "text": [
      "\r",
      " 46%|████▌     | 469/1022 [7:02:11<7:55:19, 51.57s/it]"
     ]
    },
    {
     "name": "stdout",
     "output_type": "stream",
     "text": [
      "input_ids shape: torch.Size([1, 56])\n",
      "Reference Summary:\n",
      "U.S. President Donald Trump, when asked about the strike, says it is \"hard to believe it was intentional\". He later approves retaliatory military attacks against Iranian missile and radar facilities, but subsequently changes his mind.\n",
      "Predictions: \n",
      "[\"Trump says he was considering a strike on Iran in response to the downing of a U.S. drone. He says he decided to hold off because he didn't want to kill Iranians. He said the strike would have killed more than a dozen people.\"]\n",
      "\n"
     ]
    },
    {
     "name": "stderr",
     "output_type": "stream",
     "text": [
      "\r",
      " 46%|████▌     | 470/1022 [7:02:34<6:35:19, 42.97s/it]"
     ]
    },
    {
     "name": "stdout",
     "output_type": "stream",
     "text": [
      "input_ids shape: torch.Size([1, 56])\n",
      "Reference Summary:\n",
      "The Antitrust Division of the U.S. Justice Department files a lawsuit against two large printing companies contemplating a merger. If the deal is allowed to proceed, the filings claim, the combined company would dominate the market for printing magazines, catalogs and books.\n",
      "Predictions: \n",
      "['The U.S. Justice Department is suing to stop the merger of two printing companies. The companies are Quad/Graphics and LSC Communications. The two companies are the biggest printers in the world. The Justice Department says it is seeking to stop their merger.']\n",
      "\n"
     ]
    },
    {
     "name": "stderr",
     "output_type": "stream",
     "text": [
      "\r",
      " 46%|████▌     | 471/1022 [7:03:31<7:12:21, 47.08s/it]"
     ]
    },
    {
     "name": "stdout",
     "output_type": "stream",
     "text": [
      "input_ids shape: torch.Size([1, 59])\n",
      "Reference Summary:\n",
      "At least 44 people are killed when a bus carrying at least 60 plunges into a gorge in the Kullu district of Himachal Pradesh, a mountainous northern Indian state.\n",
      "Predictions: \n",
      "[\"Bus fell into a deep gorge in a deep valley in Himachal Pradesh. At least 25 people were killed and at least 35 injured. The bus was carrying passengers from the town of Kullu to the town's outskirts. The accident occurred on a road in the state\"]\n",
      "\n"
     ]
    },
    {
     "name": "stderr",
     "output_type": "stream",
     "text": [
      "\r",
      " 46%|████▌     | 472/1022 [7:04:28<7:37:51, 49.95s/it]"
     ]
    },
    {
     "name": "stdout",
     "output_type": "stream",
     "text": [
      "input_ids shape: torch.Size([1, 59])\n",
      "Reference Summary:\n",
      "Chinese President Xi Jinping arrives in North Korea for a two-day state visit with North Korean leader Kim Jong-un.\n",
      "Predictions: \n",
      "[\"China's President Xi Jinping is in North Korea for a state visit. He is expected to meet with North Korean leader Kim Jong Un. The visit is part of a larger effort to improve relations between the two countries. The U.S. and South Korea are also expected to\"]\n",
      "\n"
     ]
    },
    {
     "name": "stderr",
     "output_type": "stream",
     "text": [
      "\r",
      " 46%|████▋     | 473/1022 [7:04:51<6:23:00, 41.86s/it]"
     ]
    },
    {
     "name": "stdout",
     "output_type": "stream",
     "text": [
      "input_ids shape: torch.Size([1, 59])\n",
      "Reference Summary:\n",
      "The Colombian military reveals that dissident FARC groups, in spite of a 2016 treaty, have been recruiting Venezuelan migrants at illegal border crossings, strengthening their numbers and increasing attacks.\n",
      "Predictions: \n",
      "[\"Colombian armed groups recruiting desperate Venezuelans, according to five Colombian sources. Marxist rebels and right-wing paramilitaries recruit migrants to strengthen their ranks, sources say. Venezuela's crisis is spilling across the border into Colombia as Marxist rebels recruit migrants. Colombian armed groups recruit\"]\n",
      "\n"
     ]
    },
    {
     "name": "stderr",
     "output_type": "stream",
     "text": [
      "\r",
      " 46%|████▋     | 474/1022 [7:05:47<7:02:56, 46.31s/it]"
     ]
    },
    {
     "name": "stdout",
     "output_type": "stream",
     "text": [
      "input_ids shape: torch.Size([1, 57])\n",
      "Reference Summary:\n",
      "Riviera Beach, Florida, is paying $600,000  to a hacker who took over local government computers three weeks ago.\n",
      "Predictions: \n",
      "[\"A Florida city is trying to find a way to get back to the owner of a lost and stolen prosthetic ear. The city is asking for the public's help in finding the owner. The owner of the ear is being sought by the city of Holmes Beach.\"]\n",
      "\n"
     ]
    },
    {
     "name": "stderr",
     "output_type": "stream",
     "text": [
      "\r",
      " 46%|████▋     | 475/1022 [7:06:33<6:59:53, 46.06s/it]"
     ]
    },
    {
     "name": "stdout",
     "output_type": "stream",
     "text": [
      "input_ids shape: torch.Size([1, 56])\n",
      "Reference Summary:\n",
      "After days of disagreements, allegations of electoral fraud and several inconsistencies with the preliminary results of the general election held last Sunday, the Supreme Electoral Tribunal orders a new review of the electoral records and restarts the count.\n",
      "Predictions: \n",
      "['The election is set to be held on November 8, with the result to be announced on November 19. The election will be held in the first week of November. The results will be announced at a later date. The result will be known on November 18.']\n",
      "\n"
     ]
    },
    {
     "name": "stderr",
     "output_type": "stream",
     "text": [
      "\r",
      " 47%|████▋     | 476/1022 [7:07:29<7:28:07, 49.24s/it]"
     ]
    },
    {
     "name": "stdout",
     "output_type": "stream",
     "text": [
      "input_ids shape: torch.Size([1, 57])\n",
      "Reference Summary:\n",
      "Home Secretary Sajid Javid is eliminated after coming in fourth place in the fourth round of voting. Boris Johnson remains the front runner,  with Michael Gove and Jeremy Hunt coming in second and third place respectively.\n",
      "Predictions: \n",
      "['The British government is in the midst of a leadership battle with the Conservatives. The race to become the next prime minister is now down to the final two candidates. The final two are Boris Johnson and Jeremy Hunt, who are both in the running for the Tory leadership.']\n",
      "\n"
     ]
    },
    {
     "name": "stderr",
     "output_type": "stream",
     "text": [
      "\r",
      " 47%|████▋     | 477/1022 [7:07:52<6:15:21, 41.32s/it]"
     ]
    },
    {
     "name": "stdout",
     "output_type": "stream",
     "text": [
      "input_ids shape: torch.Size([1, 59])\n",
      "Reference Summary:\n",
      "In the fifth round of voting, Gove is controversially eliminated. The party membership run-off vote will be between Johnson and Hunt.\n",
      "Predictions: \n",
      "[\"Theresa May's bid to become Prime Minister is in the hands of Boris Johnson. The former London mayor is the frontrunner in the race to replace David Cameron. The Tory leader is expected to win the election on May 25. The next election will be held on May 29.\"]\n",
      "\n"
     ]
    },
    {
     "name": "stderr",
     "output_type": "stream",
     "text": [
      "\r",
      " 47%|████▋     | 478/1022 [7:08:49<6:56:45, 45.97s/it]"
     ]
    },
    {
     "name": "stdout",
     "output_type": "stream",
     "text": [
      "input_ids shape: torch.Size([1, 59])\n",
      "Reference Summary:\n",
      "Roy Moore announces that he will run for U.S. Senate again in Alabama, defying the wishes of Donald Trump and the Republican Party.\n",
      "Predictions: \n",
      "[\"Roy Moore is a former Alabama Supreme Court justice. He is a Republican who was a judge in the state's Supreme Court. He was accused of sexual misconduct with a minor in the 1990s. Moore is now a former judge who was accused by a former girlfriend of sexual assault\"]\n",
      "\n"
     ]
    },
    {
     "name": "stderr",
     "output_type": "stream",
     "text": [
      "\r",
      " 47%|████▋     | 479/1022 [7:09:46<7:25:36, 49.24s/it]"
     ]
    },
    {
     "name": "stdout",
     "output_type": "stream",
     "text": [
      "input_ids shape: torch.Size([1, 56])\n",
      "Reference Summary:\n",
      "David Gilmour auctions 120 guitars of his personal collection, raising $21.5 million, including $3.975 million for The Black Strat, his most iconic guitar.\n",
      "Predictions: \n",
      "[\"David Gilmour's guitars raised $21.5 million at auction. Gilmours' guitars were sold for $20 million each. The auction was held in New York. GilMour's wife, Susan, was also a part of the auction.\"]\n",
      "\n"
     ]
    },
    {
     "name": "stderr",
     "output_type": "stream",
     "text": [
      "\r",
      " 47%|████▋     | 480/1022 [7:10:43<7:45:25, 51.52s/it]"
     ]
    },
    {
     "name": "stdout",
     "output_type": "stream",
     "text": [
      "input_ids shape: torch.Size([1, 59])\n",
      "Reference Summary:\n",
      "Zion Williamson of Duke University is selected first by the New Orleans Pelicans.\n",
      "Predictions: \n",
      "['The New Orleans Pelicans have selected Zion Williamson with the No. 1 pick in the NBA draft. The Duke forward is a star of the future. He is the son of former NBA star Michael Jordan. The New Orleans Hornets have the No 1 pick. The draft is scheduled to']\n",
      "\n"
     ]
    },
    {
     "name": "stderr",
     "output_type": "stream",
     "text": [
      "\r",
      " 47%|████▋     | 481/1022 [7:11:40<7:59:07, 53.14s/it]"
     ]
    },
    {
     "name": "stdout",
     "output_type": "stream",
     "text": [
      "input_ids shape: torch.Size([1, 59])\n",
      "Reference Summary:\n",
      "Ten civilians are killed when a suicide bomber detonates his explosive belt in a crowd of worshippers at a Shia mosque in eastern Baghdad, Iraq.\n",
      "Predictions: \n",
      "[\"The blast occurred at a mosque in the city of Baghdad. The blast killed at least seven people and wounded at least 20, police said. The mosque is in the eastern city of Baladiyat. The attack took place in the heart of the city's Shiite Muslim community\"]\n",
      "\n"
     ]
    },
    {
     "name": "stderr",
     "output_type": "stream",
     "text": [
      "\r",
      " 47%|████▋     | 482/1022 [7:12:37<8:10:01, 54.45s/it]"
     ]
    },
    {
     "name": "stdout",
     "output_type": "stream",
     "text": [
      "input_ids shape: torch.Size([1, 59])\n",
      "Reference Summary:\n",
      "Korean Air confirms that US carrier Delta Air Lines has acquired a 4.3% stake in Korean Air's parent company Hanjin Kal, which may help Hanjin resist pressure from an activist shareholder.\n",
      "Predictions: \n",
      "[\"Delta Air Lines says it's buying a 4.3% stake in Korean Air's parent company. The move is part of a plan to strengthen its joint venture with Korean Air. Delta says it will buy the stake to help it compete with Korean Airlines. The deal is expected to be\"]\n",
      "\n"
     ]
    },
    {
     "name": "stderr",
     "output_type": "stream",
     "text": [
      "\r",
      " 47%|████▋     | 483/1022 [7:13:34<8:15:27, 55.15s/it]"
     ]
    },
    {
     "name": "stdout",
     "output_type": "stream",
     "text": [
      "input_ids shape: torch.Size([1, 56])\n",
      "Reference Summary:\n",
      "Myanmar's Ministry of Transport and Communications orders mobile phone companies and internet providers to suspend service in nine townships in Rakhine State.\n",
      "Predictions: \n",
      "['Myanmar authorities order telecoms companies to shut down internet services in conflict-torn Rakhine state. The move comes amid heightened tensions in the region, where government troops are fighting rebels. The government has been fighting a rebel insurgency in the state since 2012.']\n",
      "\n"
     ]
    },
    {
     "name": "stderr",
     "output_type": "stream",
     "text": [
      "\r",
      " 47%|████▋     | 484/1022 [7:14:32<8:21:21, 55.91s/it]"
     ]
    },
    {
     "name": "stdout",
     "output_type": "stream",
     "text": [
      "input_ids shape: torch.Size([1, 59])\n",
      "Reference Summary:\n",
      "A Beechcraft King Air sky diving operation plane crashes near Dillingham Airfield on Oahu, Hawaii, killing all eleven people onboard.\n",
      "Predictions: \n",
      "['The plane crashed on the island of Oahu, Hawaii. The crash occurred on a flight from Honolulu to Oahu. The plane was a small plane that was being used for a skydiving event. The pilot was killed in the crash. The cause of the crash is']\n",
      "\n"
     ]
    },
    {
     "name": "stderr",
     "output_type": "stream",
     "text": [
      "\r",
      " 47%|████▋     | 485/1022 [7:15:03<7:14:18, 48.53s/it]"
     ]
    },
    {
     "name": "stdout",
     "output_type": "stream",
     "text": [
      "input_ids shape: torch.Size([1, 58])\n",
      "Reference Summary:\n",
      "Japan's Defense Ministry says Russian Air Force bombers violated southern Japanese airspace, prompting Japan Air Self-Defense Force fighters to scramble and escort the planes out of the area.\n",
      "Predictions: \n",
      "['Russian bombers were in Japanese airspace, the Japanese military says. The Russian bombers were flying over the Pacific Ocean. The Japanese military said the bombers were not armed. The bombers were escorted by Japanese fighter jets. The incident occurred in the area of the Pacific island of Okinawa.']\n",
      "\n"
     ]
    },
    {
     "name": "stderr",
     "output_type": "stream",
     "text": [
      "\r",
      " 48%|████▊     | 486/1022 [7:15:40<6:43:13, 45.14s/it]"
     ]
    },
    {
     "name": "stdout",
     "output_type": "stream",
     "text": [
      "input_ids shape: torch.Size([1, 59])\n",
      "Reference Summary:\n",
      "Foreign Minister of Saudi Arabia Adel Al-Jubeir says Iran \"has to understand that its aggressive behaviour cannot be sustained\" and that his country is \"trying to avoid a war at all costs\".\n",
      "Predictions: \n",
      "[\"Saudi Arabia says it is 'determined' to fight Iran. Saudi foreign minister says Iran is 'aggressive' and 'threatening' Saudi Arabia. Saudi Arabia is also trying to stop Iran from developing nuclear weapons. Saudi officials say they are 'dismayed' by Iran's nuclear programme\"]\n",
      "\n"
     ]
    },
    {
     "name": "stderr",
     "output_type": "stream",
     "text": [
      "\r",
      " 48%|████▊     | 487/1022 [7:16:37<7:14:19, 48.71s/it]"
     ]
    },
    {
     "name": "stdout",
     "output_type": "stream",
     "text": [
      "input_ids shape: torch.Size([1, 59])\n",
      "Reference Summary:\n",
      "Trump administration officials say that President Donald Trump ordered the United States Armed Forces to conduct military strikes against targets of the Armed Forces of the Islamic Republic of Iran in retaliation for downing an American surveillance drone the day prior, and that he changed his mind hours later and ordered an immediate stop to the operation while American warplanes were in the air and warships were in position.\n",
      "Predictions: \n",
      "[\"President Donald Trump says he's considering military action against Iran. He says the U.S. is considering strikes after Iran's downing of a U.N. drone. The U.K. has been accused of shooting down a U.-S. drone in the past\"]\n",
      "\n"
     ]
    },
    {
     "name": "stderr",
     "output_type": "stream",
     "text": [
      "\r",
      " 48%|████▊     | 488/1022 [7:17:00<6:04:04, 40.91s/it]"
     ]
    },
    {
     "name": "stdout",
     "output_type": "stream",
     "text": [
      "input_ids shape: torch.Size([1, 59])\n",
      "Reference Summary:\n",
      "Iranian Americans protest outside the State Department as tensions increase.\n",
      "Predictions: \n",
      "['Iranian-Americans are calling for a U.S. government-led effort to bring down the Iranian regime. The U.N. Security Council has called for a new U.K. sanctions regime to be imposed on Iran. The United States has been accused of using']\n",
      "\n"
     ]
    },
    {
     "name": "stderr",
     "output_type": "stream",
     "text": [
      "\r",
      " 48%|████▊     | 489/1022 [7:17:57<6:45:47, 45.68s/it]"
     ]
    },
    {
     "name": "stdout",
     "output_type": "stream",
     "text": [
      "input_ids shape: torch.Size([1, 58])\n",
      "Reference Summary:\n",
      "U.S. President Donald Trump spoke to Saudi Crown Prince Mohammad bin Salman about Middle East stability and the oil market, the White House says, after tensions with Iran prompt a rise in oil prices.\n",
      "Predictions: \n",
      "['The U.S. president is in the midst of a tense standoff with Iran over its nuclear program. The U.N. Security Council is considering a resolution to the Iran nuclear deal. The United States is also considering a possible U.K. embargo on Iran.']\n",
      "\n"
     ]
    },
    {
     "name": "stderr",
     "output_type": "stream",
     "text": [
      "\r",
      " 48%|████▊     | 490/1022 [7:18:34<6:22:28, 43.14s/it]"
     ]
    },
    {
     "name": "stdout",
     "output_type": "stream",
     "text": [
      "input_ids shape: torch.Size([1, 59])\n",
      "Reference Summary:\n",
      "Chris Davies, Member of the UK Parliament for the Welsh constituency of Brecon and Radnorshire, is removed from his position following a successful recall petition in the wake of his conviction for fraudulent expense claims. A by-election will be held to replace Davies.\n",
      "Predictions: \n",
      "['Chris Davies was convicted of a crime for his part in a fraud scandal. He was convicted for a fraud involving a false £1,000 bank loan. A petition to remove him from the Commons was signed by more than 10,000 people. The petition was signed in his']\n",
      "\n"
     ]
    },
    {
     "name": "stderr",
     "output_type": "stream",
     "text": [
      "\r",
      " 48%|████▊     | 491/1022 [7:19:31<6:58:00, 47.23s/it]"
     ]
    },
    {
     "name": "stdout",
     "output_type": "stream",
     "text": [
      "input_ids shape: torch.Size([1, 57])\n",
      "Reference Summary:\n",
      "An attempted coup in Ethiopia's Amhara state leaves several people dead, including the regional president Ambachew Mekonnen and the  Chief of Staff of the Ethiopian National Defense Force, General Se'are Mekonnen.\n",
      "Predictions: \n",
      "[\"Ethiopia's army chief of staff shot dead in a failed coup attempt. The army chief was shot by a rival of the prime minister, the prime Minister's office said. The military chief was killed in a gun battle with a rival, the government said.\"]\n",
      "\n"
     ]
    },
    {
     "name": "stderr",
     "output_type": "stream",
     "text": [
      "\r",
      " 48%|████▊     | 492/1022 [7:20:28<7:22:45, 50.12s/it]"
     ]
    },
    {
     "name": "stdout",
     "output_type": "stream",
     "text": [
      "input_ids shape: torch.Size([1, 59])\n",
      "Reference Summary:\n",
      "A seven-story building collapses in Sihanoukville, Cambodia, killing at least 28 people and wounding 25 others.\n",
      "Predictions: \n",
      "['A building collapsed in Cambodia, killing at least 17 people. The building was under construction in the city of Sihanoukville. The collapse occurred in the early hours of Saturday morning. The cause of the collapse is still under investigation. The death toll is expected to rise']\n",
      "\n"
     ]
    },
    {
     "name": "stderr",
     "output_type": "stream",
     "text": [
      "\r",
      " 48%|████▊     | 493/1022 [7:21:25<7:40:02, 52.18s/it]"
     ]
    },
    {
     "name": "stdout",
     "output_type": "stream",
     "text": [
      "input_ids shape: torch.Size([1, 59])\n",
      "Reference Summary:\n",
      "Saudi Arabia's Minister of State for Foreign Affairs Adel Al-Jubeir says if Iran closes the Strait of Hormuz, there will be a \"very, very strong reaction\".\n",
      "Predictions: \n",
      "['The U.S. military says it has shot down a drone over the Strait of Hormuz. The U.N. says the drone was carrying a U.K. satellite. The drone was shot down by a U.-S. drone. The United States says']\n",
      "\n"
     ]
    },
    {
     "name": "stderr",
     "output_type": "stream",
     "text": [
      "\r",
      " 48%|████▊     | 494/1022 [7:22:22<7:53:23, 53.80s/it]"
     ]
    },
    {
     "name": "stdout",
     "output_type": "stream",
     "text": [
      "input_ids shape: torch.Size([1, 59])\n",
      "Reference Summary:\n",
      "The United States announces \"major\" sanctions against Iran to prevent them from obtaining nuclear weapons.\n",
      "Predictions: \n",
      "['U.S. President Donald Trump has said he is considering a possible military strike on Iran. The U.S., Iran are at odds over the nuclear deal. The United States has been trying to get Iran to stop its nuclear program. Iran has been accused of trying to']\n",
      "\n"
     ]
    },
    {
     "name": "stderr",
     "output_type": "stream",
     "text": [
      "\r",
      " 48%|████▊     | 495/1022 [7:23:20<8:01:58, 54.87s/it]"
     ]
    },
    {
     "name": "stdout",
     "output_type": "stream",
     "text": [
      "input_ids shape: torch.Size([1, 59])\n",
      "Reference Summary:\n",
      "Voters in Mauritania head to the polls to elect a new president. The election would be the country's first democratic transition of power, as incumbent president Mohammed Ould Abdel Aziz prepares to step down after having served two terms.\n",
      "Predictions: \n",
      "[\"Mauritania's president is expected to be sworn in on Sunday. The country's president has been in office since 2007. The election is the first since a coup in 2008. The opposition has called for a boycott of the vote. The ruling party has said it will not recognize\"]\n",
      "\n"
     ]
    },
    {
     "name": "stderr",
     "output_type": "stream",
     "text": [
      "\r",
      " 49%|████▊     | 496/1022 [7:24:17<8:06:43, 55.52s/it]"
     ]
    },
    {
     "name": "stdout",
     "output_type": "stream",
     "text": [
      "input_ids shape: torch.Size([1, 59])\n",
      "Reference Summary:\n",
      "British Foreign Office Minister Mark Field is suspended for assaulting a Greenpeace activist.\n",
      "Predictions: \n",
      "[\"Mark Field was filmed grabbing a protester by the neck and pushing her to the ground. The incident happened at a protest against the government's handling of the climate change crisis. The minister was suspended from his job as a minister for the Environment and Climate Change. He was also suspended\"]\n",
      "\n"
     ]
    },
    {
     "name": "stderr",
     "output_type": "stream",
     "text": [
      "\r",
      " 49%|████▊     | 497/1022 [7:25:14<8:09:53, 55.99s/it]"
     ]
    },
    {
     "name": "stdout",
     "output_type": "stream",
     "text": [
      "input_ids shape: torch.Size([1, 58])\n",
      "Reference Summary:\n",
      "The Trump administration releases a $50 billion plan that calls for investment in Palestine's economy.\n",
      "Predictions: \n",
      "[\"The plan is part of the U.S. administration's Middle East peace plan. The plan is intended to be the first step in a long-term peace process. The U.N. has said it will seek to reach a deal with Israel and the Palestinians.\"]\n",
      "\n"
     ]
    },
    {
     "name": "stderr",
     "output_type": "stream",
     "text": [
      "\r",
      " 49%|████▊     | 498/1022 [7:26:10<8:10:49, 56.20s/it]"
     ]
    },
    {
     "name": "stdout",
     "output_type": "stream",
     "text": [
      "input_ids shape: torch.Size([1, 57])\n",
      "Reference Summary:\n",
      "Houthis launch a drone strike that kills a Syrian and wounds 21 more. The attack takes place at the Abha International Airport, which was attacked two weeks ago with a ballistic missile.\n",
      "Predictions: \n",
      "[\"A Yemeni rebel attack on a Saudi airport in the country's south has killed one person. The attack was carried out by a group of Yemeni rebels. The Saudi-led coalition says the attack was in response to a raid on the airport by the Houthi rebels.\"]\n",
      "\n"
     ]
    },
    {
     "name": "stderr",
     "output_type": "stream",
     "text": [
      "\r",
      " 49%|████▉     | 499/1022 [7:27:07<8:11:45, 56.42s/it]"
     ]
    },
    {
     "name": "stdout",
     "output_type": "stream",
     "text": [
      "input_ids shape: torch.Size([1, 59])\n",
      "Reference Summary:\n",
      "Houthis warn of worse attacks if Saudi Arabia continues its escalation and aggression in Yemen.\n",
      "Predictions: \n",
      "['The attack on the airport in Saudi Arabia was carried out by the Houthi rebels. The attack was carriedout by a group of Houthi fighters. The Houthis are fighting a Saudi-led coalition in Yemen. The Saudi-backed government has been fighting the Houthis for']\n",
      "\n"
     ]
    },
    {
     "name": "stderr",
     "output_type": "stream",
     "text": [
      "\r",
      " 49%|████▉     | 500/1022 [7:28:04<8:12:16, 56.58s/it]"
     ]
    },
    {
     "name": "stdout",
     "output_type": "stream",
     "text": [
      "input_ids shape: torch.Size([1, 59])\n",
      "Reference Summary:\n",
      "Twenty-six Boko Haram militants and 11 Chadian soldiers are killed in an ambush after the soldiers recover cattle that the militants had seized. Nine Chadian soldiers are injured.\n",
      "Predictions: \n",
      "[\"The attack is the latest in a series of attacks on the region by Boko Haram. The militants have been waging a decade-long insurgency in the region. The attack is believed to be the deadliest in the country's history. The Nigerian government has blamed the attacks on Boko Haram\"]\n",
      "\n"
     ]
    },
    {
     "name": "stderr",
     "output_type": "stream",
     "text": [
      "\r",
      " 49%|████▉     | 501/1022 [7:29:02<8:13:46, 56.86s/it]"
     ]
    },
    {
     "name": "stdout",
     "output_type": "stream",
     "text": [
      "input_ids shape: torch.Size([1, 59])\n",
      "Reference Summary:\n",
      "Twenty Myanmar soldiers and two Arakan Army insurgents are killed in clashes in Mrauk-U Township, Rakhine State.\n",
      "Predictions: \n",
      "['The government has been unable to control the use of the internet in the state of Rakhine. The state is in the midst of a massive crackdown on the internet. The government has also been unable, or unable, to control, the use and use of social media.']\n",
      "\n"
     ]
    },
    {
     "name": "stderr",
     "output_type": "stream",
     "text": [
      "\r",
      " 49%|████▉     | 502/1022 [7:29:48<7:44:08, 53.55s/it]"
     ]
    },
    {
     "name": "stdout",
     "output_type": "stream",
     "text": [
      "input_ids shape: torch.Size([1, 59])\n",
      "Reference Summary:\n",
      "Chile is extending its offer of \"democratic responsibility\" visas, allowing Venezuelans to live in the country for up to two years, so that they may be applied for from any Chilean embassy or consulate in the world instead of just in Venezuela. However, Chile border control now also demands visas upon entry for Venezuelans, a tightening of the previous 90-day free period. The move should aid Venezuelans trying to travel through other Latin American nations that have changing restrictions.\n",
      "Predictions: \n",
      "[\"Venezuelans seeking refuge in Chile can request a visa at any consulate in the world. The visa has been available in Venezuela since 2009. The new visa is available to Venezuelans seeking asylum in Chile. The move is aimed at helping the country's struggling economy. The country is also\"]\n",
      "\n"
     ]
    },
    {
     "name": "stderr",
     "output_type": "stream",
     "text": [
      "\r",
      " 49%|████▉     | 503/1022 [7:30:45<7:52:15, 54.60s/it]"
     ]
    },
    {
     "name": "stdout",
     "output_type": "stream",
     "text": [
      "input_ids shape: torch.Size([1, 59])\n",
      "Reference Summary:\n",
      "The re-run Istanbul mayoral election concludes with a victory for opposition leader Ekrem İmamoğlu and defeat for the ruling AK Party.\n",
      "Predictions: \n",
      "['Turkish President Recep Tayyip Erdogan is in a re-run of the mayoral election in Istanbul. The election was held on March 31, but was re-held on April 1. The re-election was held after the first vote was held in March. The result was declared incon']\n",
      "\n"
     ]
    },
    {
     "name": "stderr",
     "output_type": "stream",
     "text": [
      "\r",
      " 49%|████▉     | 504/1022 [7:31:42<7:57:48, 55.35s/it]"
     ]
    },
    {
     "name": "stdout",
     "output_type": "stream",
     "text": [
      "input_ids shape: torch.Size([1, 59])\n",
      "Reference Summary:\n",
      "Hundreds of thousands take to the streets of Prague to demand the resignation of Czech Prime Minister Andrej Babiš in the country's biggest protest since the Velvet Revolution in 1989.\n",
      "Predictions: \n",
      "['Czech protesters call for PM Andrej Babis to resign. The protests are the biggest since the Velvet Revolution in 1989. The demonstrations are the largest since the fall of the communist regime. The Czech Republic has been in political turmoil since the ousting of its communist government.']\n",
      "\n"
     ]
    },
    {
     "name": "stderr",
     "output_type": "stream",
     "text": [
      "\r",
      " 49%|████▉     | 505/1022 [7:32:39<8:01:21, 55.86s/it]"
     ]
    },
    {
     "name": "stdout",
     "output_type": "stream",
     "text": [
      "input_ids shape: torch.Size([1, 59])\n",
      "Reference Summary:\n",
      "The Attorney General of Ethiopia's Amhara Region, Migbaru Kebede, dies after having been wounded during the coup attempt two days earlier. Asaminew Tsige, the general suspected to be behind the coup attempt, had been reportedly killed by security forces.\n",
      "Predictions: \n",
      "[\"Ethiopia's prime minister says the army is behind a failed coup attempt. The prime minister said the army was behind the attempt to overthrow the government. The military says it is investigating the coup attempt and has killed the leader of the coup. The army says it has killed\"]\n",
      "\n"
     ]
    },
    {
     "name": "stderr",
     "output_type": "stream",
     "text": [
      "\r",
      " 50%|████▉     | 506/1022 [7:33:36<8:03:37, 56.24s/it]"
     ]
    },
    {
     "name": "stdout",
     "output_type": "stream",
     "text": [
      "input_ids shape: torch.Size([1, 59])\n",
      "Reference Summary:\n",
      "Men in camouflage kill 50 in Bahir Dar, Ethiopia (Reuters)\n",
      "Predictions: \n",
      "[\"Ethiopia's prime minister says the country's military chief was shot dead. The military chief is believed to have been killed in a gun attack. The country's army chief was killed in an apparent assassination attempt. The prime minister said the attack was in response to a coup\"]\n",
      "\n"
     ]
    },
    {
     "name": "stderr",
     "output_type": "stream",
     "text": [
      "\r",
      " 50%|████▉     | 507/1022 [7:34:33<8:04:59, 56.50s/it]"
     ]
    },
    {
     "name": "stdout",
     "output_type": "stream",
     "text": [
      "input_ids shape: torch.Size([1, 59])\n",
      "Reference Summary:\n",
      "Two German Air Force Eurofighter Typhoon fighter jets collide in mid-air and crash near Lake Müritz in Mecklenburg-Vorpommern. Both pilots are able to eject before the crash, but only one survives.\n",
      "Predictions: \n",
      "['Two Eurofighter jets collide in Germany, killing one pilot. Pilot was killed in the crash, the other was injured. The two jets were flying in the German state of Mecklenburg-Western Pomerania. The crash happened in the early hours of Monday morning.']\n",
      "\n"
     ]
    },
    {
     "name": "stderr",
     "output_type": "stream",
     "text": [
      "\r",
      " 50%|████▉     | 508/1022 [7:35:30<8:05:28, 56.67s/it]"
     ]
    },
    {
     "name": "stdout",
     "output_type": "stream",
     "text": [
      "input_ids shape: torch.Size([1, 59])\n",
      "Reference Summary:\n",
      "United Nations High Commissioner for Human Rights Michelle Bachelet says the tens of thousands of Islamic State fighters and family members being held in Iraq and Syria must be tried or released, and calls on countries to take responsibility for their citizens and take them back if not charged.\n",
      "Predictions: \n",
      "['U.N. human rights chief says thousands of IS fighters should be returned to their families. U.N.: \"We are not going to let the people of Syria and Iraq be used as human shields\" U.S. President Barack Obama has called for the return of all IS']\n",
      "\n"
     ]
    },
    {
     "name": "stderr",
     "output_type": "stream",
     "text": [
      "\r",
      " 50%|████▉     | 509/1022 [7:35:36<5:54:43, 41.49s/it]"
     ]
    },
    {
     "name": "stdout",
     "output_type": "stream",
     "text": [
      "input_ids shape: torch.Size([1, 59])\n",
      "Reference Summary:\n",
      "The British newspaper Independent in Arabic quotes an intelligence source as saying that in 2018 Iran had delivered half a ton of TATP explosives in diplomatic packages to a civilian plane that was supposed to be transferred to Paris to carry out an attack in the city.\n",
      "Predictions: \n",
      "['Iranian agents tried to carry out an attack in Paris, according to reports. The plot was foiled by French authorities. The suspects were found to be carrying half a ton of explosives. The Iranian government has denied any involvement in the plot. The French government has also denied any knowledge']\n",
      "\n"
     ]
    },
    {
     "name": "stderr",
     "output_type": "stream",
     "text": [
      "\r",
      " 50%|████▉     | 510/1022 [7:36:33<6:32:50, 46.04s/it]"
     ]
    },
    {
     "name": "stdout",
     "output_type": "stream",
     "text": [
      "input_ids shape: torch.Size([1, 59])\n",
      "Reference Summary:\n",
      "Diane Madison, the mother of American serial killer Michael Madison, is stabbed to death in her home. Three children are also injured. Her grandson Jalen Plummer is arrested and charged with aggravated murder and felonious assault.\n",
      "Predictions: \n",
      "[\"The suspect, 18-year-old Jay, was arrested in the stabbing death of his mother. The mother was stabbed to death in her home. The suspect's mother was the mother of a serial killer. The victim's children were also injured. The children were taken to\"]\n",
      "\n"
     ]
    },
    {
     "name": "stderr",
     "output_type": "stream",
     "text": [
      "\r",
      " 50%|█████     | 511/1022 [7:36:50<5:18:22, 37.38s/it]"
     ]
    },
    {
     "name": "stdout",
     "output_type": "stream",
     "text": [
      "input_ids shape: torch.Size([1, 57])\n",
      "Reference Summary:\n",
      "The Defense Minister of Peru, José Huerta, suddenly dies of cardiac arrest while worked.\n",
      "Predictions: \n",
      "['The former general died of a heart attack on Monday. He was a retired general. The government has declared a state of emergency. The death was announced by the government. The cause of death was not immediately known. The funeral was held in the city of Lima.']\n",
      "\n"
     ]
    },
    {
     "name": "stderr",
     "output_type": "stream",
     "text": [
      "\r",
      " 50%|█████     | 512/1022 [7:37:47<6:07:11, 43.20s/it]"
     ]
    },
    {
     "name": "stdout",
     "output_type": "stream",
     "text": [
      "input_ids shape: torch.Size([1, 59])\n",
      "Reference Summary:\n",
      "NASA announces that its Curiosity rover has detected the largest ever measurement of methane on Mars.\n",
      "Predictions: \n",
      "['The Mars Curiosity rover has been on the Martian surface since March 2013. It has been in orbit around the planet since then, and has been making close to daily contact with the surface. The rover has now been able to make a series of close passes over the Martian atmosphere.']\n",
      "\n"
     ]
    },
    {
     "name": "stderr",
     "output_type": "stream",
     "text": [
      "\r",
      " 50%|█████     | 513/1022 [7:38:43<6:40:32, 47.21s/it]"
     ]
    },
    {
     "name": "stdout",
     "output_type": "stream",
     "text": [
      "input_ids shape: torch.Size([1, 58])\n",
      "Reference Summary:\n",
      "Soyuz MS-11 returned to Earth, landing in Kazakhstan, from the International Space Station carrying Canadian David Saint-Jacques, American Anne McClain and Russian Oleg Kononenko. The astronauts and cosmonaut spent 204 days aboard the ISS, a record for Canada.\n",
      "Predictions: \n",
      "['The Soyuz capsule is carrying three astronauts. The crew is made up of two Russians and two Americans. The mission is the first to return to Earth since the space shuttle program began in 2003. The ISS is home to the ISS, a Russian and American space station.']\n",
      "\n"
     ]
    },
    {
     "name": "stderr",
     "output_type": "stream",
     "text": [
      "\r",
      " 50%|█████     | 514/1022 [7:39:40<7:03:52, 50.06s/it]"
     ]
    },
    {
     "name": "stdout",
     "output_type": "stream",
     "text": [
      "input_ids shape: torch.Size([1, 56])\n",
      "Reference Summary:\n",
      "The 2026 Winter Olympics are selected to be held in Milan and Cortina d'Ampezzo, Italy.\n",
      "Predictions: \n",
      "['The IOC will choose a host city for the 2026 Winter Olympics. The decision will be made on Monday. The IOC will decide on a host in January. The winner will be announced in February. The city of Milan will host the Games in 2026.']\n",
      "\n"
     ]
    },
    {
     "name": "stderr",
     "output_type": "stream",
     "text": [
      "\r",
      " 50%|█████     | 515/1022 [7:40:37<7:20:10, 52.09s/it]"
     ]
    },
    {
     "name": "stdout",
     "output_type": "stream",
     "text": [
      "input_ids shape: torch.Size([1, 59])\n",
      "Reference Summary:\n",
      "Suspected ISIL militants attack checkpoints and an assembly center in the Egyptian city of Arish. Seven police officers are killed, along with a civilian. Four militants also died, including one that blew himself up.\n",
      "Predictions: \n",
      "['Egyptian officials say 7 policemen killed in Sinai attack. Attack took place in the restive northern Sinai Peninsula. The attack was carried out by militants. The militants were targeting police checkpoints. The attacks were carried out in the northern Sinai region. The deaths were reported by state news']\n",
      "\n"
     ]
    },
    {
     "name": "stderr",
     "output_type": "stream",
     "text": [
      "\r",
      " 50%|█████     | 516/1022 [7:41:34<7:31:26, 53.53s/it]"
     ]
    },
    {
     "name": "stdout",
     "output_type": "stream",
     "text": [
      "input_ids shape: torch.Size([1, 59])\n",
      "Reference Summary:\n",
      "Boko Haram militants open fire on farmers in Borno State, killing 22.\n",
      "Predictions: \n",
      "['The Nigerian government has vowed to fight back against Boko Haram. The Boko Haram terror group has been terrorising the country for the past two years. The Nigerian military has been fighting the group in the Borno state. The military has also been conducting raids in the state to flush']\n",
      "\n"
     ]
    },
    {
     "name": "stderr",
     "output_type": "stream",
     "text": [
      "\r",
      " 51%|█████     | 517/1022 [7:42:31<7:39:30, 54.59s/it]"
     ]
    },
    {
     "name": "stdout",
     "output_type": "stream",
     "text": [
      "input_ids shape: torch.Size([1, 59])\n",
      "Reference Summary:\n",
      "AbbVie, the Illinois-based pharmaceutical company best known for Humira, announces its plan to purchase Allergan, the maker of Botox, for about $63 billion.\n",
      "Predictions: \n",
      "['AbbVie to buy Allergan in a deal worth $63 billion. The deal is expected to close in the next few weeks. The company is the largest maker of the painkiller Adderall. It is also the largest seller of the anti-infection drug Hum']\n",
      "\n"
     ]
    },
    {
     "name": "stderr",
     "output_type": "stream",
     "text": [
      "\r",
      " 51%|█████     | 518/1022 [7:43:28<7:44:47, 55.33s/it]"
     ]
    },
    {
     "name": "stdout",
     "output_type": "stream",
     "text": [
      "input_ids shape: torch.Size([1, 59])\n",
      "Reference Summary:\n",
      "San Francisco becomes the first U.S. city to ban the sale of electronic cigarettes (vapes) until the health effects of using them are better understood. Juul, the largest producer of e-cigarettes in the United States, which is based in the city, condemns the ban saying the move will drive people back to tobacco smoking and will create a black market.\n",
      "Predictions: \n",
      "[\"San Francisco is the first major U.S. city to ban the sale of e-cigarettes. The ban is in response to a growing number of deaths from e-cigarette use. The city's ban is expected to be implemented by the end of the year. The law will apply\"]\n",
      "\n"
     ]
    },
    {
     "name": "stderr",
     "output_type": "stream",
     "text": [
      "\r",
      " 51%|█████     | 519/1022 [7:44:25<7:47:35, 55.78s/it]"
     ]
    },
    {
     "name": "stdout",
     "output_type": "stream",
     "text": [
      "input_ids shape: torch.Size([1, 58])\n",
      "Reference Summary:\n",
      "The Reserve Bank of Zimbabwe announces that, effective immediately, foreign currencies such as the United States dollar or South African rand will no longer be legal tender in the country, and that any use of foreign currency within Zimbabwe will be a punishable offense.\n",
      "Predictions: \n",
      "[\"Zimbabwe's president says the country's currency is being used for business. The country's economy is in a state of crisis. The central bank has been forced to print new money. The new currency is called the Zimbabwe dollar. The currency is used to buy goods and services.\"]\n",
      "\n"
     ]
    },
    {
     "name": "stderr",
     "output_type": "stream",
     "text": [
      "\r",
      " 51%|█████     | 520/1022 [7:44:56<6:45:23, 48.45s/it]"
     ]
    },
    {
     "name": "stdout",
     "output_type": "stream",
     "text": [
      "input_ids shape: torch.Size([1, 59])\n",
      "Reference Summary:\n",
      "The Chamber of Commerce of Lima warns that just under a million Peruvians are at risk of returning to poverty.\n",
      "Predictions: \n",
      "['The new president of the\\xa0Chamber of Commerce is\\xa0Malcolm\\xa0Grantham. He is the first member of the new board of directors to be appointed. The new president is the former president of\\xa0The\\xa0Chambers of Commerce,\\xa0Alistair']\n",
      "\n"
     ]
    },
    {
     "name": "stderr",
     "output_type": "stream",
     "text": [
      "\r",
      " 51%|█████     | 521/1022 [7:45:02<4:58:06, 35.70s/it]"
     ]
    },
    {
     "name": "stdout",
     "output_type": "stream",
     "text": [
      "input_ids shape: torch.Size([1, 57])\n",
      "Reference Summary:\n",
      "One woman dies and 21 people are affected after eating lunch in a Seventh-day Adventist church in the district of Sorochuco, department of Cajamarca, in Peru. The causes of the poisoning are not yet clear.\n",
      "Predictions: \n",
      "['Afections of the day after afections afectiones of the week. Afections to be sent to hospital after a day of a meeting. A total of 21 people were in the hospital. A few of the patients were in a coma.']\n",
      "\n"
     ]
    },
    {
     "name": "stderr",
     "output_type": "stream",
     "text": [
      "\r",
      " 51%|█████     | 522/1022 [7:45:59<5:49:59, 42.00s/it]"
     ]
    },
    {
     "name": "stdout",
     "output_type": "stream",
     "text": [
      "input_ids shape: torch.Size([1, 59])\n",
      "Reference Summary:\n",
      "A brush fire burns at least 32,000 acres of land in the Florida Everglades amid near record-breaking temperatures.\n",
      "Predictions: \n",
      "['The fire is burning in the Everglades in Florida. The fire is about 17,000 acres in size. It is burning near the town of Fort Lauderdale. The blaze is burning on the edge of the Evergreens. The Everglade is a popular tourist destination']\n",
      "\n"
     ]
    },
    {
     "name": "stderr",
     "output_type": "stream",
     "text": [
      "\r",
      " 51%|█████     | 523/1022 [7:46:56<6:26:33, 46.48s/it]"
     ]
    },
    {
     "name": "stdout",
     "output_type": "stream",
     "text": [
      "input_ids shape: torch.Size([1, 59])\n",
      "Reference Summary:\n",
      "Iran's special advisor to the parliament speaker, Hossein Amir Abdollahian, says Saudi Arabia, the UAE and Bahrain are \"toying with regional security by giving territories to a foreign power\".\n",
      "Predictions: \n",
      "['U.S. Secretary of State Mike Pompeo is in Saudi Arabia for talks on Iran. He is in the Middle East to discuss the Iran nuclear deal. The U.S.-led coalition is in a standoff with Iran over its nuclear program. The United States has been']\n",
      "\n"
     ]
    },
    {
     "name": "stderr",
     "output_type": "stream",
     "text": [
      "\r",
      " 51%|█████▏    | 524/1022 [7:47:53<6:51:59, 49.64s/it]"
     ]
    },
    {
     "name": "stdout",
     "output_type": "stream",
     "text": [
      "input_ids shape: torch.Size([1, 59])\n",
      "Reference Summary:\n",
      "Illinois becomes the 11th U.S. state to legalize the recreational use of cannabis. The bill, signed into law by Governor of Illinois J. B. Pritzker, will also remove criminal records for purchasing or possessing 30 grams or less of cannabis.\n",
      "Predictions: \n",
      "['The state of Illinois is the first to legalize recreational marijuana. The state is also the first in the country to allow it to be sold to adults. The law will allow for the sale of marijuana in the state. The bill will be signed by Gov. J.B.']\n",
      "\n"
     ]
    },
    {
     "name": "stderr",
     "output_type": "stream",
     "text": [
      "\r",
      " 51%|█████▏    | 525/1022 [7:48:16<5:45:18, 41.69s/it]"
     ]
    },
    {
     "name": "stdout",
     "output_type": "stream",
     "text": [
      "input_ids shape: torch.Size([1, 59])\n",
      "Reference Summary:\n",
      "Ibaraki Prefecture says it will start issuing partnership certificates for lesbian, gay and transgender couples starting July 1. It would be the first such prefectural policy in the history of Japan.\n",
      "Predictions: \n",
      "[\"The new policy will be implemented in the city of Ibaraki. It will be the first time the city has issued a law to recognize the legal status of same-sex couples. The law will also apply to the city's other two largest cities, including the capital,\"]\n",
      "\n"
     ]
    },
    {
     "name": "stderr",
     "output_type": "stream",
     "text": [
      "\r",
      " 51%|█████▏    | 526/1022 [7:49:12<6:21:38, 46.17s/it]"
     ]
    },
    {
     "name": "stdout",
     "output_type": "stream",
     "text": [
      "input_ids shape: torch.Size([1, 56])\n",
      "Reference Summary:\n",
      "SpaceX successfully launches and deploys 24 satellites, including LightSail 2, Green Propellant Infusion Mission, and the Deep Space Atomic Clock, into orbit via its Falcon Heavy rocket. Falcon Heavy's sideboosters both returned safely to their landing pads at Cape Canaveral Air Force Station, while the rocket's center booster failed to land on a droneship in the Atlantic Ocean, exploding in the sea.\n",
      "Predictions: \n",
      "[\"SpaceX launches its Falcon Heavy rocket on Tuesday. The rocket is carrying a payload of 24 satellites. The launch is part of a series of tests to test the rocket's ability to carry heavy payloads. The Falcon Heavy is the largest rocket in the world.\"]\n",
      "\n"
     ]
    },
    {
     "name": "stderr",
     "output_type": "stream",
     "text": [
      "\r",
      " 52%|█████▏    | 527/1022 [7:49:55<6:12:18, 45.13s/it]"
     ]
    },
    {
     "name": "stdout",
     "output_type": "stream",
     "text": [
      "input_ids shape: torch.Size([1, 59])\n",
      "Reference Summary:\n",
      "In Pakistan three suicide bombers attempted to storm a police housing complex in the southern Balochistan province. One of them was killed by guards, while the two others entered and blew themselves up, killing a senior constable and wounding five others. The Pakistani Taliban has claimed responsibility (Reuters)\n",
      "Predictions: \n",
      "[\"A police officer was killed in a gun battle with the Taliban in Pakistan's Balochistan province. The attack took place in the city of Loralai. The Taliban had been targeting a police station in the area. The incident occurred in the early hours of Wednesday morning.\"]\n",
      "\n"
     ]
    },
    {
     "name": "stderr",
     "output_type": "stream",
     "text": [
      "\r",
      " 52%|█████▏    | 528/1022 [7:50:52<6:40:14, 48.61s/it]"
     ]
    },
    {
     "name": "stdout",
     "output_type": "stream",
     "text": [
      "input_ids shape: torch.Size([1, 59])\n",
      "Reference Summary:\n",
      "Defence Minister Harjit Sajjan announces that Canada will continue to command a NATO mission in Iraq for a second year until November 2020.\n",
      "Predictions: \n",
      "[\"Canada extends leadership of NATO training mission in Iraq to November 2020. Canada has been involved in the mission since 2003. Canada is part of NATO's training mission against ISIS in Iraq. Canada will continue to provide support to the Iraqi military. Canada's military has been in Iraq since 2003 and\"]\n",
      "\n"
     ]
    },
    {
     "name": "stderr",
     "output_type": "stream",
     "text": [
      "\r",
      " 52%|█████▏    | 529/1022 [7:51:49<7:00:08, 51.13s/it]"
     ]
    },
    {
     "name": "stdout",
     "output_type": "stream",
     "text": [
      "input_ids shape: torch.Size([1, 59])\n",
      "Reference Summary:\n",
      "Two U.S. Troops are killed in an ambush by the Taliban in Wardak Province, Afghanistan.\n",
      "Predictions: \n",
      "['The U.S. military says it has lost two of its troops in Afghanistan. The U.N. says the U.K. has lost three of its soldiers in the country. The Taliban have also been killed in the past. The United States has been fighting the']\n",
      "\n"
     ]
    },
    {
     "name": "stderr",
     "output_type": "stream",
     "text": [
      "\r",
      " 52%|█████▏    | 530/1022 [7:52:47<7:16:16, 53.20s/it]"
     ]
    },
    {
     "name": "stdout",
     "output_type": "stream",
     "text": [
      "input_ids shape: torch.Size([1, 59])\n",
      "Reference Summary:\n",
      "Four men with ties to ISIL are arrested in Nicaragua.\n",
      "Predictions: \n",
      "['The four men were arrested in Nicaragua. They were arrested after they entered the country from Costa Rica. The men were suspected of being members of the Islamic State. The group was reportedly headed to the U.S. from Costa Rican. The four men are believed to have been']\n",
      "\n"
     ]
    },
    {
     "name": "stderr",
     "output_type": "stream",
     "text": [
      "\r",
      " 52%|█████▏    | 531/1022 [7:53:44<7:25:12, 54.40s/it]"
     ]
    },
    {
     "name": "stdout",
     "output_type": "stream",
     "text": [
      "input_ids shape: torch.Size([1, 57])\n",
      "Reference Summary:\n",
      "New York City begins the 50th Annual World Pride festival, expecting to draw four million people over six days.\n",
      "Predictions: \n",
      "[\"The New York City Pride parade will be held on Sunday. The parade will include a number of events to celebrate the city's LGBT community. The event will be the largest in the history of the parade. The march will be followed by a second parade on Monday.\"]\n",
      "\n"
     ]
    },
    {
     "name": "stderr",
     "output_type": "stream",
     "text": [
      "\r",
      " 52%|█████▏    | 532/1022 [7:54:42<7:32:11, 55.37s/it]"
     ]
    },
    {
     "name": "stdout",
     "output_type": "stream",
     "text": [
      "input_ids shape: torch.Size([1, 59])\n",
      "Reference Summary:\n",
      "U.S. President Donald Trump states that Germany is \"delinquent\" on NATO defense, saying, \"So they are giving Russia billions of dollars yet we are supposed to protect Germany and Germany is delinquent! Okay?\" (Al Arabiya)\n",
      "Predictions: \n",
      "['President Donald Trump says China is \"ripe\" for new tariffs. He says China\\'s economy is \"in a state of decline\" and that it needs to be \"re-opened\" Trump says the U.S. is \"very, very close\" to imposing new']\n",
      "\n"
     ]
    },
    {
     "name": "stderr",
     "output_type": "stream",
     "text": [
      "\r",
      " 52%|█████▏    | 533/1022 [7:55:39<7:34:53, 55.82s/it]"
     ]
    },
    {
     "name": "stdout",
     "output_type": "stream",
     "text": [
      "input_ids shape: torch.Size([1, 56])\n",
      "Reference Summary:\n",
      "An unnamed Brazilian Air Force sergeant is arrested in Seville for smuggling 39 kilograms of cocaine inside an Embraer E190 airliner. The aircraft, now grounded, was being used as a backup plane during President Bolsonaro's official visit to Japan, connecting in the Spanish city.\n",
      "Predictions: \n",
      "['Brazilian air force officer arrested with cocaine in his suitcase. Police say he was carrying 39 kilograms of cocaine. He was arrested at the airport in Seville, Spain. He is a member of the Brazilian air force. The cocaine was found in his luggage.']\n",
      "\n"
     ]
    },
    {
     "name": "stderr",
     "output_type": "stream",
     "text": [
      "\r",
      " 52%|█████▏    | 534/1022 [7:55:45<5:32:50, 40.92s/it]"
     ]
    },
    {
     "name": "stdout",
     "output_type": "stream",
     "text": [
      "input_ids shape: torch.Size([1, 59])\n",
      "Reference Summary:\n",
      "In a unanimous decision, the Supreme Court of Japan rejects retrial for a 92-year-old woman, Ayako Haraguchi, who had already served 10 years in prison for the 1979 murder of her former brother-in-law.\n",
      "Predictions: \n",
      "['The 92-year-old woman served 10 years in prison over the 1979 murder of her former brother-in-in law. She was convicted of killing her brother- in-law in 1979. The Supreme Court says it has rejected lower and high court decisions to hold a']\n",
      "\n"
     ]
    },
    {
     "name": "stderr",
     "output_type": "stream",
     "text": [
      "\r",
      " 52%|█████▏    | 535/1022 [7:56:41<6:10:31, 45.65s/it]"
     ]
    },
    {
     "name": "stdout",
     "output_type": "stream",
     "text": [
      "input_ids shape: torch.Size([1, 59])\n",
      "Reference Summary:\n",
      "Canada's government adds Neo-Nazi groups Blood & Honour and Combat 18 to its list of designated terrorist organizations. It is the first time that extreme far-right groups have been designated as terrorist in Canada. Three Shia militant groups, including the Iranian-backed Al-Ashtar Brigades are also banned.\n",
      "Predictions: \n",
      "['Canada adds right-wing extremist groups to terrorist list for first time. Canada adds right wing extremist groups for firsttime. The groups include groups like the \"Blood & Honour\" and \"Blood and Honour\" groups. The list includes groups like \"The Voice of the Martyrs']\n",
      "\n"
     ]
    },
    {
     "name": "stderr",
     "output_type": "stream",
     "text": [
      "\r",
      " 52%|█████▏    | 536/1022 [7:57:38<6:36:47, 48.99s/it]"
     ]
    },
    {
     "name": "stdout",
     "output_type": "stream",
     "text": [
      "input_ids shape: torch.Size([1, 57])\n",
      "Reference Summary:\n",
      "The first of two Democratic Party debates for the nomination of the party's nominee in the 2020 United States presidential election is held in Miami, Florida.\n",
      "Predictions: \n",
      "['The Democratic presidential candidates are in Miami for the first of two debates. The first of the two debates will take place on Wednesday night. The second will take places on Thursday. The debate will be held in Miami. The debates will be hosted by CNN and MSNBC.']\n",
      "\n"
     ]
    },
    {
     "name": "stderr",
     "output_type": "stream",
     "text": [
      "\r",
      " 53%|█████▎    | 537/1022 [7:58:35<6:55:13, 51.37s/it]"
     ]
    },
    {
     "name": "stdout",
     "output_type": "stream",
     "text": [
      "input_ids shape: torch.Size([1, 59])\n",
      "Reference Summary:\n",
      "Germany, Poland and the Czech Republic record their highest ever recorded temperatures for June amid a heat wave in Western and Central Europe.\n",
      "Predictions: \n",
      "['The heat wave is expected to last until the end of the week. The heat wave has been blamed for a number of deaths in Europe. The European Union has warned of the dangers of heatwaves in the region. The weather is expected in the UK and France to be the']\n",
      "\n"
     ]
    },
    {
     "name": "stderr",
     "output_type": "stream",
     "text": [
      "\r",
      " 53%|█████▎    | 538/1022 [7:59:32<7:06:55, 52.92s/it]"
     ]
    },
    {
     "name": "stdout",
     "output_type": "stream",
     "text": [
      "input_ids shape: torch.Size([1, 58])\n",
      "Reference Summary:\n",
      "Twin blasts from suicide bombers, kill one police officer and wound nine others in Tunis.\n",
      "Predictions: \n",
      "[\"The attack targeted a police patrol in the Tunisian capital. The blast occurred in the city's central area. The attack was the latest in a series of attacks targeting security forces in the country. The Tunisian government says the attacks were carried out by two suicide bombers.\"]\n",
      "\n"
     ]
    },
    {
     "name": "stderr",
     "output_type": "stream",
     "text": [
      "\r",
      " 53%|█████▎    | 539/1022 [8:00:29<7:16:06, 54.17s/it]"
     ]
    },
    {
     "name": "stdout",
     "output_type": "stream",
     "text": [
      "input_ids shape: torch.Size([1, 59])\n",
      "Reference Summary:\n",
      "Arab Coalition spokesman Turki al-Maliki says that his forces intercept and down a drone in Yemeni airspace after its launch toward Saudi Arabia by Houthis north of Sanaʽa.\n",
      "Predictions: \n",
      "['The U.S. says it has been working with the Saudi government to find a way to stop the attack. The U.N. says the attack was carried out by a drone that was fired from a drone. The drone was fired at a Saudi military base in the']\n",
      "\n"
     ]
    },
    {
     "name": "stderr",
     "output_type": "stream",
     "text": [
      "\r",
      " 53%|█████▎    | 540/1022 [8:01:03<6:26:34, 48.12s/it]"
     ]
    },
    {
     "name": "stdout",
     "output_type": "stream",
     "text": [
      "input_ids shape: torch.Size([1, 57])\n",
      "Reference Summary:\n",
      "Angara Airlines Flight 200 crashes on landing at Nizhneangarsk Airport, Far East Russia, killing two of the 47 people on board.\n",
      "Predictions: \n",
      "['A passenger plane makes an emergency landing in Russia. The plane was carrying two passengers and two crew members. The passengers were from the Russian city of Nizhnekamsk. The crash occurred at an airport in the Russian town of Nzhemir.']\n",
      "\n"
     ]
    },
    {
     "name": "stderr",
     "output_type": "stream",
     "text": [
      "\r",
      " 53%|█████▎    | 541/1022 [8:02:00<6:47:06, 50.78s/it]"
     ]
    },
    {
     "name": "stdout",
     "output_type": "stream",
     "text": [
      "input_ids shape: torch.Size([1, 59])\n",
      "Reference Summary:\n",
      "The second of two Democratic Party debates for the nomination of the party's nominee in the 2020 United States presidential election is held in Miami, Florida.\n",
      "Predictions: \n",
      "['The Democratic presidential candidates are in Miami for a debate. The debate is the first of two debates in the Democratic presidential primary season. The first debate is on Tuesday night. The second is on Wednesday night. It will be held in Miami. The debates are expected to be followed']\n",
      "\n"
     ]
    },
    {
     "name": "stderr",
     "output_type": "stream",
     "text": [
      "\r",
      " 53%|█████▎    | 542/1022 [8:02:57<7:00:59, 52.62s/it]"
     ]
    },
    {
     "name": "stdout",
     "output_type": "stream",
     "text": [
      "input_ids shape: torch.Size([1, 59])\n",
      "Reference Summary:\n",
      "The social democrat Frederiksen Cabinet is formed in Denmark.\n",
      "Predictions: \n",
      "[\"Danish PM Mette Frederiksen is the country's youngest ever prime minister. She is the daughter of former Prime Minister Anders Fogh Rasmussen. She has been in office since 2007. She was elected with the support of the country’s largest party, the\"]\n",
      "\n"
     ]
    },
    {
     "name": "stderr",
     "output_type": "stream",
     "text": [
      "\r",
      " 53%|█████▎    | 543/1022 [8:03:54<7:10:43, 53.95s/it]"
     ]
    },
    {
     "name": "stdout",
     "output_type": "stream",
     "text": [
      "input_ids shape: torch.Size([1, 59])\n",
      "Reference Summary:\n",
      "Scientists announce, through the Science journal, that they discover the source of a fast radio burst for the first time. FRB 180924, a non-repeating FRB which was detected in September 2018 using the Australian Square Kilometre Array Pathfinder, originates from a large galaxy known as DES J214425.25−405400.81 located 3.6 billion light-years from Earth.\n",
      "Predictions: \n",
      "['The mysterious cosmic burst was detected by a team of scientists in Australia. The event was the first time a cosmic burst has been detected in such a large area. The burst was caused by a galaxy in the constellation of Pegasus. The galaxy is believed to be around 3.6']\n",
      "\n"
     ]
    },
    {
     "name": "stderr",
     "output_type": "stream",
     "text": [
      "\r",
      " 53%|█████▎    | 544/1022 [8:04:51<7:17:10, 54.87s/it]"
     ]
    },
    {
     "name": "stdout",
     "output_type": "stream",
     "text": [
      "input_ids shape: torch.Size([1, 59])\n",
      "Reference Summary:\n",
      "NASA awards $1 billion to the Dragonfly mission, which will use a dual-quadcopter drone to explore Titan for signs of life.\n",
      "Predictions: \n",
      "[\"NASA plans to send a drone to Saturn's moon Titan. The mission will be the first of its kind. The drone will be used to explore the moon's surface. The space agency says it will send a robotic arm to the moon to explore Titan. It will also send\"]\n",
      "\n"
     ]
    },
    {
     "name": "stderr",
     "output_type": "stream",
     "text": [
      "\r",
      " 53%|█████▎    | 545/1022 [8:05:48<7:21:18, 55.51s/it]"
     ]
    },
    {
     "name": "stdout",
     "output_type": "stream",
     "text": [
      "input_ids shape: torch.Size([1, 59])\n",
      "Reference Summary:\n",
      "Ellen White becomes England's all-time leading FIFA Women's World Cup Final goalscorer with the team's second goal against Norway in the 2019 Women's World Cup quarterfinal win.\n",
      "Predictions: \n",
      "[\"The U.S. women's team is the defending champions of the World Cup. The U.N. Women's World Cup is in its third year. The tournament is in Brazil. The United States are the defending champion. The team is in the quarter-finals of\"]\n",
      "\n"
     ]
    },
    {
     "name": "stderr",
     "output_type": "stream",
     "text": [
      "\r",
      " 53%|█████▎    | 546/1022 [8:06:45<7:23:41, 55.93s/it]"
     ]
    },
    {
     "name": "stdout",
     "output_type": "stream",
     "text": [
      "input_ids shape: torch.Size([1, 59])\n",
      "Reference Summary:\n",
      "Two suicide bombers detonate their devices in Sulu, Philippines, killing four soldiers and two civilians. ISIL claims responsibility.\n",
      "Predictions: \n",
      "[\"The attack took place in the Philippines' southern province of Sulu. The dead include three soldiers and two civilians. The attack was carried out by suspected Muslim militants. The militants are believed to be from the Muslim militant group Abu Sayyaf. The group is believed to have\"]\n",
      "\n"
     ]
    },
    {
     "name": "stderr",
     "output_type": "stream",
     "text": [
      "\r",
      " 54%|█████▎    | 547/1022 [8:07:13<6:17:36, 47.70s/it]"
     ]
    },
    {
     "name": "stdout",
     "output_type": "stream",
     "text": [
      "input_ids shape: torch.Size([1, 57])\n",
      "Reference Summary:\n",
      "Nearly 100 people are killed in clashes between the Syrian Army, rebels and jihadists in northwestern Syria. 51 government troops and allied militiamen, and 45 rebel fighters and jihadists are among the dead.\n",
      "Predictions: \n",
      "['Nearly 100 dead in northwest Syria fighting, war monitor says. Clashes between government forces, rebels and jihadists in northwest. Clashed between government and rebels in northern Syria. Syrian regime and rebels have been fighting for months. The fighting began at dawn on Friday morning.']\n",
      "\n"
     ]
    },
    {
     "name": "stderr",
     "output_type": "stream",
     "text": [
      "\r",
      " 54%|█████▎    | 548/1022 [8:08:10<6:37:58, 50.38s/it]"
     ]
    },
    {
     "name": "stdout",
     "output_type": "stream",
     "text": [
      "input_ids shape: torch.Size([1, 56])\n",
      "Reference Summary:\n",
      "Demolition experts implode the Ponte Morandi viaduct in Genoa, Italy, ten months after a partial collapse that killed 43 people.\n",
      "Predictions: \n",
      "[\"The bridge collapsed in Genoa, Italy, in August, killing 43 people. The bridge was built in the 1960s and was the world's tallest. The collapse was the deadliest bridge collapse in Italian history. The remains of the bridge were demolished on Friday.\"]\n",
      "\n"
     ]
    },
    {
     "name": "stderr",
     "output_type": "stream",
     "text": [
      "\r",
      " 54%|█████▎    | 549/1022 [8:09:06<6:51:58, 52.26s/it]"
     ]
    },
    {
     "name": "stdout",
     "output_type": "stream",
     "text": [
      "input_ids shape: torch.Size([1, 59])\n",
      "Reference Summary:\n",
      "A train hauling 40 cars derails in the St. Clair Tunnel between Port Huron, Michigan and Sarnia, Ontario, spilling 13,700 gallons of sulfuric acid and closing the tunnel for several days.\n",
      "Predictions: \n",
      "['The train derailed in a tunnel connecting Michigan and Canada. The train was carrying about 30 to 40 cars. The tunnel is in a busy tunnel between the two countries. The derailment happened in the early morning hours of Friday. The cause of the derailment is under investigation.']\n",
      "\n"
     ]
    },
    {
     "name": "stderr",
     "output_type": "stream",
     "text": [
      "\r",
      " 54%|█████▍    | 550/1022 [8:09:58<6:49:18, 52.03s/it]"
     ]
    },
    {
     "name": "stdout",
     "output_type": "stream",
     "text": [
      "input_ids shape: torch.Size([1, 59])\n",
      "Reference Summary:\n",
      "The Vatican asks China's communist government to stop intimidating Catholic clergy who want to remain unequivocally loyal to the pope and refuse to sign ambiguous official registration forms.\n",
      "Predictions: \n",
      "[\"Vatican says China is intimidating Catholics loyal to the pope. Vatican: China should stop intimidating Catholics who want to remain loyal to pope. China has been accused of intimidating Catholics. China's government has been criticized for its treatment of Catholics. The Vatican says China's treatment of Catholic clergy is\"]\n",
      "\n"
     ]
    },
    {
     "name": "stderr",
     "output_type": "stream",
     "text": [
      "\r",
      " 54%|█████▍    | 551/1022 [8:10:55<6:59:43, 53.47s/it]"
     ]
    },
    {
     "name": "stdout",
     "output_type": "stream",
     "text": [
      "input_ids shape: torch.Size([1, 59])\n",
      "Reference Summary:\n",
      "More than 200 demonstrators break into the courtyard of Bahrain's embassy in Baghdad and take down the kingdom's flag to protest a U.S.-led meeting in Bahrain on the Israeli–Palestinian peace process.\n",
      "Predictions: \n",
      "[\"Bahrain's foreign ministry says it has summoned the Iraqi ambassador to the kingdom. The embassy was attacked by protesters in Baghdad on Thursday. The attack was in response to a U.S.-led U.N. Security Council resolution. The resolution was passed by the U.\"]\n",
      "\n"
     ]
    },
    {
     "name": "stderr",
     "output_type": "stream",
     "text": [
      "\r",
      " 54%|█████▍    | 552/1022 [8:11:52<7:07:09, 54.53s/it]"
     ]
    },
    {
     "name": "stdout",
     "output_type": "stream",
     "text": [
      "input_ids shape: torch.Size([1, 59])\n",
      "Reference Summary:\n",
      "Argentine Foreign Minister Jorge Faurie announces that the European Union and Argentina, Brazil, Paraguay and Uruguay achieved a breakthrough in free-trade talks after 20 years.\n",
      "Predictions: \n",
      "['The South American nation will be in the final of the Copa America. The tournament is being held in Brazil. The final will be held in Rio de Janeiro. The match will be played on June 14. The winner will face either Brazil or Argentina in the CopA America']\n",
      "\n"
     ]
    },
    {
     "name": "stderr",
     "output_type": "stream",
     "text": [
      "\r",
      " 54%|█████▍    | 553/1022 [8:12:49<7:11:34, 55.21s/it]"
     ]
    },
    {
     "name": "stdout",
     "output_type": "stream",
     "text": [
      "input_ids shape: torch.Size([1, 57])\n",
      "Reference Summary:\n",
      "The United States announces sanctions on Nicolás Maduro Guerra, the son of disputed Venezuelan President Nicolás Maduro, accusing him of engaging in propaganda on behalf of the government.\n",
      "Predictions: \n",
      "[\"The U.S. government is imposing sanctions on the son of Venezuelan President Nicolas Maduro. The sanctions are aimed at the president's son and his wife. The U.N. Security Council has approved a resolution to impose sanctions on Maduro's wife and her family.\"]\n",
      "\n"
     ]
    },
    {
     "name": "stderr",
     "output_type": "stream",
     "text": [
      "\r",
      " 54%|█████▍    | 554/1022 [8:13:45<7:14:17, 55.68s/it]"
     ]
    },
    {
     "name": "stdout",
     "output_type": "stream",
     "text": [
      "input_ids shape: torch.Size([1, 56])\n",
      "Reference Summary:\n",
      "U.S. President Donald Trump and Brazilian President Jair Bolsonaro officially endorse the re-election campaign of Mauricio Macri.\n",
      "Predictions: \n",
      "['President Donald Trump has been criticized for his handling of the U.S. election. He has been accused of being too cozy with Russia and of trying to influence the election. Trump has said he is not concerned about the election and wants to focus on jobs.']\n",
      "\n"
     ]
    },
    {
     "name": "stderr",
     "output_type": "stream",
     "text": [
      "\r",
      " 54%|█████▍    | 555/1022 [8:14:42<7:16:23, 56.07s/it]"
     ]
    },
    {
     "name": "stdout",
     "output_type": "stream",
     "text": [
      "input_ids shape: torch.Size([1, 57])\n",
      "Reference Summary:\n",
      "Salt Lake City police arrest a man for murder in connection to the search for missing University of Utah student Mackenzie Lueck.\n",
      "Predictions: \n",
      "['Police say they have found a body in a Utah lake. The body of a missing student was found in a lake. Police say the victim was a student at the University of Utah. The student was last seen on June 17. Police have not identified the victim.']\n",
      "\n"
     ]
    },
    {
     "name": "stderr",
     "output_type": "stream",
     "text": [
      "\r",
      " 54%|█████▍    | 556/1022 [8:15:39<7:17:34, 56.34s/it]"
     ]
    },
    {
     "name": "stdout",
     "output_type": "stream",
     "text": [
      "input_ids shape: torch.Size([1, 59])\n",
      "Reference Summary:\n",
      "James A. Fields Jr. is sentenced to life in prison after pleading guilty to 29 hate crimes for driving his car into a crowd of protestors, killing one and injuring 28, at the 2017 Unite the Right rally in Charlottesville, Virginia.\n",
      "Predictions: \n",
      "['The man who drove his car into a crowd of counter-protesters was sentenced to life in prison. The man was convicted of killing a woman and injuring dozens of others. The attack took place during a white nationalist rally in Virginia. The suspect was driving a car that pl']\n",
      "\n"
     ]
    },
    {
     "name": "stderr",
     "output_type": "stream",
     "text": [
      "\r",
      " 55%|█████▍    | 557/1022 [8:16:36<7:18:08, 56.53s/it]"
     ]
    },
    {
     "name": "stdout",
     "output_type": "stream",
     "text": [
      "input_ids shape: torch.Size([1, 59])\n",
      "Reference Summary:\n",
      "For the first time in 43 years, Sri Lanka hires executioners to reinstate the death penalty.\n",
      "Predictions: \n",
      "[\"Sri Lanka's first-ever World Cup match against South Africa is a success. Sri Lanka's win over South Africa was a major upset for the hosts. Sri Lankan team were beaten by South Africa in the quarter-finals. Sri Sri Lanka won the match by three w\"]\n",
      "\n"
     ]
    },
    {
     "name": "stderr",
     "output_type": "stream",
     "text": [
      "\r",
      " 55%|█████▍    | 558/1022 [8:17:19<6:45:48, 52.48s/it]"
     ]
    },
    {
     "name": "stdout",
     "output_type": "stream",
     "text": [
      "input_ids shape: torch.Size([1, 59])\n",
      "Reference Summary:\n",
      "A Nigerian man dies in a Japanese immigration detention center this week, an official says. It ends a hunger strike that an activist group said was intended to protest against him being held for more than three years.\n",
      "Predictions: \n",
      "[\"Nigerian man dies after hunger strike in Japan detention centre. Activist group says hunger strike was intended to protest against his being held. Nigerian man died in a Japanese immigration detention centre this week. He was held at a detention centre in Japan's main island of Honshu.\"]\n",
      "\n"
     ]
    },
    {
     "name": "stderr",
     "output_type": "stream",
     "text": [
      "\r",
      " 55%|█████▍    | 559/1022 [8:17:34<5:16:54, 41.07s/it]"
     ]
    },
    {
     "name": "stdout",
     "output_type": "stream",
     "text": [
      "input_ids shape: torch.Size([1, 59])\n",
      "Reference Summary:\n",
      "The House of Representatives of the Netherlands passes the final bill of the climate agreement. The goal of the accord is to have the level of greenhouse gasses in the atmosphere in 2030 the same as the level of greenhouse gasses in the atmosphere in 1990.\n",
      "Predictions: \n",
      "['The U.S. is the first major U.K. city to have a large-scale, high-tech, high tech, high speed, high quality, high efficiency, high energy, high technology, high performance, high capacity, high cost, high safety and']\n",
      "\n"
     ]
    },
    {
     "name": "stderr",
     "output_type": "stream",
     "text": [
      "\r",
      " 55%|█████▍    | 560/1022 [8:18:31<5:52:33, 45.79s/it]"
     ]
    },
    {
     "name": "stdout",
     "output_type": "stream",
     "text": [
      "input_ids shape: torch.Size([1, 59])\n",
      "Reference Summary:\n",
      "Amid a continental heat wave, France records its highest ever temperature of 45.9 °C (114.6 °F) in Gallargues-le-Montueux.\n",
      "Predictions: \n",
      "[\"France's temperature hit a record high of 45.9 degrees on Friday. The heat wave is expected to last until Sunday. The weather is expected in the south of the country until Sunday, when it will cool off. The temperature is expected at least until Sunday in the north\"]\n",
      "\n"
     ]
    },
    {
     "name": "stderr",
     "output_type": "stream",
     "text": [
      "\r",
      " 55%|█████▍    | 561/1022 [8:19:28<6:17:57, 49.19s/it]"
     ]
    },
    {
     "name": "stdout",
     "output_type": "stream",
     "text": [
      "input_ids shape: torch.Size([1, 59])\n",
      "Reference Summary:\n",
      "In Spain, authorities report two deaths connected to the extreme heat. The worst wildfire in 20 years burns more than 5,000 hectares at the south of Province of Tarragona, in Catalonia.\n",
      "Predictions: \n",
      "['The fire is in the north of the country, in the region of Catalonia. It is the latest in a series of wildfires that have ravaged the region. The fire is burning in the middle of a heat wave. The blaze has burned more than 10,000 acres of land']\n",
      "\n"
     ]
    },
    {
     "name": "stderr",
     "output_type": "stream",
     "text": [
      "\r",
      " 55%|█████▍    | 562/1022 [8:20:25<6:35:04, 51.53s/it]"
     ]
    },
    {
     "name": "stdout",
     "output_type": "stream",
     "text": [
      "input_ids shape: torch.Size([1, 59])\n",
      "Reference Summary:\n",
      "In Osaka, Argentina, Brazil, Chile and Canada jointly issue a statement condemning the Venezuelan government. The statement's author, Argentine President Mauricio Macri, indicated that it was meant to \"show that beyond good faith and dialogue, Maduro takes advantage of that to create more poverty, famine and corruption in Venezuela\".\n",
      "Predictions: \n",
      "['The Copa America is a Copa América tournament for the first time in its history. The tournament is the first to be held in South America. The first of two games between the two teams to be played in the tournament. The second match will be held on']\n",
      "\n"
     ]
    },
    {
     "name": "stderr",
     "output_type": "stream",
     "text": [
      "\r",
      " 55%|█████▌    | 563/1022 [8:21:22<6:46:34, 53.15s/it]"
     ]
    },
    {
     "name": "stdout",
     "output_type": "stream",
     "text": [
      "input_ids shape: torch.Size([1, 59])\n",
      "Reference Summary:\n",
      "Carola Rackete, the captain of a migrant rescue ship, is arrested in Italy for docking without authorization after Italy closed its ports to rescue organizations.\n",
      "Predictions: \n",
      "[\"The German ship was carrying migrants from the Mediterranean to Italy. The ship was stopped by Italian authorities after it was spotted by a coast guard vessel. The captain of the ship was arrested after the ship's crew members were detained. The crew was rescued by the coast guard and taken\"]\n",
      "\n"
     ]
    },
    {
     "name": "stderr",
     "output_type": "stream",
     "text": [
      "\r",
      " 55%|█████▌    | 564/1022 [8:22:19<6:55:27, 54.43s/it]"
     ]
    },
    {
     "name": "stdout",
     "output_type": "stream",
     "text": [
      "input_ids shape: torch.Size([1, 59])\n",
      "Reference Summary:\n",
      "German Chancellor Angela Merkel says she's \"fine\" following two bouts of shaking in public that have sparked concerns about her health.\n",
      "Predictions: \n",
      "[\"German Chancellor Angela Merkel was seen shaking at a public event in Berlin. Merkel was in the middle of a meeting with the German parliament's upper house. She was seen in the audience at the event with a group of young people. Merkel has been seen shaking in the past at\"]\n",
      "\n"
     ]
    },
    {
     "name": "stderr",
     "output_type": "stream",
     "text": [
      "\r",
      " 55%|█████▌    | 565/1022 [8:23:16<7:00:42, 55.24s/it]"
     ]
    },
    {
     "name": "stdout",
     "output_type": "stream",
     "text": [
      "input_ids shape: torch.Size([1, 59])\n",
      "Reference Summary:\n",
      "Four humvees packed with explosives controlled by suicide bombers kill 23, including eight election workers, in the province of Kandahar. The Taliban claimed 57 were killed.\n",
      "Predictions: \n",
      "['Taliban bombers target a district centre in southern Afghanistan. Attack comes as a new round of talks between the United States and the Taliban are underway. The attack comes as the Taliban and the U.S. are in talks to end the war in Afghanistan. The Taliban have claimed']\n",
      "\n"
     ]
    },
    {
     "name": "stderr",
     "output_type": "stream",
     "text": [
      "\r",
      " 55%|█████▌    | 566/1022 [8:24:13<7:03:39, 55.75s/it]"
     ]
    },
    {
     "name": "stdout",
     "output_type": "stream",
     "text": [
      "input_ids shape: torch.Size([1, 59])\n",
      "Reference Summary:\n",
      "Ten people are killed in Sudan during clashes between the Sudanese military and civilian protesters.\n",
      "Predictions: \n",
      "[\"Sudanese protesters are demanding a transition to civilian rule. The protests are being held in the capital, Khartoum. The opposition is calling for the country's military to be handed over to civilian control. The government has been accused of using the protests to st\"]\n",
      "\n"
     ]
    },
    {
     "name": "stderr",
     "output_type": "stream",
     "text": [
      "\r",
      " 55%|█████▌    | 567/1022 [8:25:10<7:05:05, 56.06s/it]"
     ]
    },
    {
     "name": "stdout",
     "output_type": "stream",
     "text": [
      "input_ids shape: torch.Size([1, 56])\n",
      "Reference Summary:\n",
      "Gunmen open fire, killing two guards and wounding another for Lebanese Refugee Affairs Minister, Saleh al-Gharib. This attack happened in a mountain village near Beirut, Lebanon.\n",
      "Predictions: \n",
      "['Lebanese minister says gunmen opened fire at his convoy in a mountain village. Gunmen killed one of his guards and wounded another. The minister says the attack was in a village near Beirut. The gunman was killed by a member of the Lebanese army.']\n",
      "\n"
     ]
    },
    {
     "name": "stderr",
     "output_type": "stream",
     "text": [
      "\r",
      " 56%|█████▌    | 568/1022 [8:26:07<7:06:04, 56.31s/it]"
     ]
    },
    {
     "name": "stdout",
     "output_type": "stream",
     "text": [
      "input_ids shape: torch.Size([1, 59])\n",
      "Reference Summary:\n",
      "At least 23 people are dead and 300 missing after attacks on three Fulani villages in central Mali.\n",
      "Predictions: \n",
      "['At least 23 people killed in attack on Fulani communities in central Mali. At least 300 people are missing after attack on village of Fulani in central region. The Fulani are a group of Fulanis who live in the region. They are known for their fierce loyalty']\n",
      "\n"
     ]
    },
    {
     "name": "stderr",
     "output_type": "stream",
     "text": [
      "\r",
      " 56%|█████▌    | 569/1022 [8:26:13<5:11:31, 41.26s/it]"
     ]
    },
    {
     "name": "stdout",
     "output_type": "stream",
     "text": [
      "input_ids shape: torch.Size([1, 59])\n",
      "Reference Summary:\n",
      "12 civilians including a baby were killed when the vehicle they were traveling in hit a landmine.\n",
      "Predictions: \n",
      "['The best-known of the three is the\\xa0Fulani\\xa0herders, the\\xa0Kosovo\\xa0census\\xa0has been\\xa0taken\\xa0by the\\xa0government\\xa0to\\xa0reveal\\xa0the\\xa0state of\\xa0the state of\\xa0California. The']\n",
      "\n"
     ]
    },
    {
     "name": "stderr",
     "output_type": "stream",
     "text": [
      "\r",
      " 56%|█████▌    | 570/1022 [8:27:09<5:44:52, 45.78s/it]"
     ]
    },
    {
     "name": "stdout",
     "output_type": "stream",
     "text": [
      "input_ids shape: torch.Size([1, 56])\n",
      "Reference Summary:\n",
      "Ten people are killed when a Beechcraft BE-350 King Air crashes into a hangar at Addison Airport in Addison, Texas.\n",
      "Predictions: \n",
      "['The plane crashed into a hangar at the airport in Texas. The plane was carrying 10 people. The crash occurred at the Addison airport. The FAA is investigating the cause of the crash. The NTSB is investigating. The cause of crash is under investigation.']\n",
      "\n"
     ]
    },
    {
     "name": "stderr",
     "output_type": "stream",
     "text": [
      "\r",
      " 56%|█████▌    | 571/1022 [8:28:06<6:08:27, 49.02s/it]"
     ]
    },
    {
     "name": "stdout",
     "output_type": "stream",
     "text": [
      "input_ids shape: torch.Size([1, 58])\n",
      "Reference Summary:\n",
      "U.S. President Donald Trump, together with South Korean President Moon Jae-in, meets North Korean leader Kim Jong-un at the Joint Security Area, becoming the first sitting U.S. president to step foot in North Korea. Trump also invites Kim to the White House to resume talks about denuclearizing the Korean Peninsula.\n",
      "Predictions: \n",
      "['President Trump and Kim Jong Un are meeting in the DMZ. The two leaders are expected to discuss the future of the Korean peninsula. The meeting is expected to be a first between the two leaders. The U.S. president is expected in South Korea on Monday.']\n",
      "\n"
     ]
    },
    {
     "name": "stderr",
     "output_type": "stream",
     "text": [
      "\r",
      " 56%|█████▌    | 572/1022 [8:29:03<6:25:12, 51.36s/it]"
     ]
    },
    {
     "name": "stdout",
     "output_type": "stream",
     "text": [
      "input_ids shape: torch.Size([1, 59])\n",
      "Reference Summary:\n",
      "Princess Haya bint Hussein of Jordan fled her husband Sheikh Mohammed bin Rashid Al Maktoum, the Vice President and Prime Minister of the UAE and Ruler of Dubai, with their two children in fear for her life. The family fled to London via Germany seeking asylum, and a high profile court battle over non-repatriation and custody of the children is anticipated.\n",
      "Predictions: \n",
      "[\"The UAE's ruler's wife has reportedly fled the country. She is said to have fled the UAE with her husband and their children. The couple are said to be in the process of divorcing. The UAE is a member of the United Arab Emirates. The country is also\"]\n",
      "\n"
     ]
    },
    {
     "name": "stderr",
     "output_type": "stream",
     "text": [
      "\r",
      " 56%|█████▌    | 573/1022 [8:29:17<5:02:12, 40.38s/it]"
     ]
    },
    {
     "name": "stdout",
     "output_type": "stream",
     "text": [
      "input_ids shape: torch.Size([1, 59])\n",
      "Reference Summary:\n",
      "In the second similar case within a week, police in Toyonaka, Japan, arrest Ryotaro Taniguchi for keeping the body of his deceased mother a year after her death. He is quoted as saying he didn't want to pay for the funeral. Police are investigating whether or not Taniguchi continued to receive his mother's pension.\n",
      "Predictions: \n",
      "[\"Police in Japan arrest man, 38, for allegedly keeping his mother's body in his home for a year. The man, who is in his late 40s, was arrested in the city of Toyonaka. He was arrested after police found his mother’s body\"]\n",
      "\n"
     ]
    },
    {
     "name": "stderr",
     "output_type": "stream",
     "text": [
      "\r",
      " 56%|█████▌    | 574/1022 [8:30:14<5:38:06, 45.28s/it]"
     ]
    },
    {
     "name": "stdout",
     "output_type": "stream",
     "text": [
      "input_ids shape: torch.Size([1, 59])\n",
      "Reference Summary:\n",
      "40 people are killed and over 100 injured by a car bombing and shooting in Kabul, Afghanistan. The Taliban claims responsibility and loses five gunmen.\n",
      "Predictions: \n",
      "['The Taliban have been in a deadly attack on a government building in Kabul. The attack was carried out by a group of Taliban militants. The Taliban have claimed responsibility for the attack. The incident occurred in the city of Kabul, the capital of Afghanistan. The Afghan government has been']\n",
      "\n"
     ]
    },
    {
     "name": "stderr",
     "output_type": "stream",
     "text": [
      "\r",
      " 56%|█████▋    | 575/1022 [8:30:29<4:28:27, 36.04s/it]"
     ]
    },
    {
     "name": "stdout",
     "output_type": "stream",
     "text": [
      "input_ids shape: torch.Size([1, 56])\n",
      "Reference Summary:\n",
      "Taliban militants overran the Qush Tepa district of Jowzjan Province, resulting in the deaths of over 50 Afghan soldiers. Many others were captured.\n",
      "Predictions: \n",
      "['Taliban attack in northern Afghanistan. Taliban kill at least eight soldiers. Taliban claim responsibility for attack. Taliban have not been formally charged. The attack took place in the northern province of Jawzjan. The Taliban are believed to be in control of most of the country.']\n",
      "\n"
     ]
    },
    {
     "name": "stderr",
     "output_type": "stream",
     "text": [
      "\r",
      " 56%|█████▋    | 576/1022 [8:31:25<5:14:17, 42.28s/it]"
     ]
    },
    {
     "name": "stdout",
     "output_type": "stream",
     "text": [
      "input_ids shape: torch.Size([1, 59])\n",
      "Reference Summary:\n",
      "Israel strikes multiple Iranian and Syrian military targets outside Damascus and Homs, killing 16 people and wounding 21.\n",
      "Predictions: \n",
      "['Syrian state media: Israeli warplanes attacked Syrian military bases in Damascus. Syrian state media says Israeli war planes fired missiles at targets in Damascus, killing four civilians. Syrian media: The attack killed four civilians and wounded 21. The attack was in response to an Israeli airstrike on a']\n",
      "\n"
     ]
    },
    {
     "name": "stderr",
     "output_type": "stream",
     "text": [
      "\r",
      " 56%|█████▋    | 577/1022 [8:32:22<5:46:12, 46.68s/it]"
     ]
    },
    {
     "name": "stdout",
     "output_type": "stream",
     "text": [
      "input_ids shape: torch.Size([1, 59])\n",
      "Reference Summary:\n",
      "A stray Syrian S-200 missile fired in response to the Israeli strikes crashes and explodes on a mountain near Vouno in Northern Cyprus, located 20 km (12 miles) northeast of Nicosia, causing no injuries but starting a fire.\n",
      "Predictions: \n",
      "['The missile was fired from a missile that was fired by a Russian-made drone. The missile was launched from a drone that was launched by a military helicopter. The drone was fired at a military base in the north of the island. The rocket was fired in the early hours']\n",
      "\n"
     ]
    },
    {
     "name": "stderr",
     "output_type": "stream",
     "text": [
      "\r",
      " 57%|█████▋    | 578/1022 [8:33:19<6:08:13, 49.76s/it]"
     ]
    },
    {
     "name": "stdout",
     "output_type": "stream",
     "text": [
      "input_ids shape: torch.Size([1, 59])\n",
      "Reference Summary:\n",
      "Iraqi Prime Minister Adil Abdul-Mahdi signs a decree ordering all Iranian-backed Shia militias to integrate into the Iraqi Armed Forces by the end of July. The decree will change the names of the militias such as the Popular Mobilization Forces to new divisions and brigades within the military.\n",
      "Predictions: \n",
      "['Iraqi PM Adel Abdul Mahdi says he will take steps to curb Iran-backed militias. He says the militias will be brought under the control of the Iraqi army. The move is seen as a way to curb the influence of Iran- backed militias. The militias are mostly made']\n",
      "\n"
     ]
    },
    {
     "name": "stderr",
     "output_type": "stream",
     "text": [
      "\r",
      " 57%|█████▋    | 579/1022 [8:34:16<6:22:24, 51.79s/it]"
     ]
    },
    {
     "name": "stdout",
     "output_type": "stream",
     "text": [
      "input_ids shape: torch.Size([1, 59])\n",
      "Reference Summary:\n",
      "Nine people were injured in a Houthi drone attack on Saudi Abha International Airport.\n",
      "Predictions: \n",
      "[\"Yemen's Houthi rebels attack Saudi Arabia's airport with a drone. The attack was carried out by a drone, the Houthi-run Al-Houthi Media Network said. The drone was launched from Yemen's capital Sanaa. The Houthi group is fighting\"]\n",
      "\n"
     ]
    },
    {
     "name": "stderr",
     "output_type": "stream",
     "text": [
      "\r",
      " 57%|█████▋    | 580/1022 [8:35:13<6:32:34, 53.29s/it]"
     ]
    },
    {
     "name": "stdout",
     "output_type": "stream",
     "text": [
      "input_ids shape: torch.Size([1, 59])\n",
      "Reference Summary:\n",
      "Japan resumes commercial whaling after 30 years following the country's withdrawal from the International Whaling Commission. At least 227 whales are expected to be killed through to December.\n",
      "Predictions: \n",
      "[\"Japan's commercial whaling has been suspended since 1986. The country has been unable to resume commercial whalers since then. Japan has been forced to rely on its own fleet of commercial whaled ships. The Japanese government has been trying to restart commercial whales for years.\"]\n",
      "\n"
     ]
    },
    {
     "name": "stderr",
     "output_type": "stream",
     "text": [
      "\r",
      " 57%|█████▋    | 581/1022 [8:36:09<6:39:08, 54.30s/it]"
     ]
    },
    {
     "name": "stdout",
     "output_type": "stream",
     "text": [
      "input_ids shape: torch.Size([1, 59])\n",
      "Reference Summary:\n",
      "A ban on single-use plastic shopping bags comes into force in New Zealand. Businesses that break the ban will face fines of up to $100,000NZD.\n",
      "Predictions: \n",
      "['The ban is in place for the first time in the country. The ban is aimed at reducing plastic bags and plastic pollution. The move is aimed to reduce the amount of plastic waste in the environment. The government says it will not be able to enforce the ban on plastic bags']\n",
      "\n"
     ]
    },
    {
     "name": "stderr",
     "output_type": "stream",
     "text": [
      "\r",
      " 57%|█████▋    | 582/1022 [8:37:06<6:42:45, 54.92s/it]"
     ]
    },
    {
     "name": "stdout",
     "output_type": "stream",
     "text": [
      "input_ids shape: torch.Size([1, 56])\n",
      "Reference Summary:\n",
      "At least 16 people are killed and 45 injured when a bus rolls over on a road in Tucumán Province, Argentina.\n",
      "Predictions: \n",
      "['Bus carrying retirees crashes in Argentina, killing at least 13 people. Bus was carrying a group of retirees on a foggy road in northern Argentina. 40 people were injured in the crash. The crash occurred on a road in the province of La Matera.']\n",
      "\n"
     ]
    },
    {
     "name": "stderr",
     "output_type": "stream",
     "text": [
      "\r",
      " 57%|█████▋    | 583/1022 [8:38:02<6:45:47, 55.46s/it]"
     ]
    },
    {
     "name": "stdout",
     "output_type": "stream",
     "text": [
      "input_ids shape: torch.Size([1, 59])\n",
      "Reference Summary:\n",
      "In Lower Saxony, Germany, a Bundeswehr helicopter crashes, killing one of the pilots.\n",
      "Predictions: \n",
      "['Police say the helicopter crashed on Monday in Aerzen, north of Germany. Police say at least one person was killed in the crash. The helicopter was carrying a military crew. The crash occurred in the north of the country. The cause of the crash is not yet known.']\n",
      "\n"
     ]
    },
    {
     "name": "stderr",
     "output_type": "stream",
     "text": [
      "\r",
      " 57%|█████▋    | 584/1022 [8:38:59<6:47:15, 55.79s/it]"
     ]
    },
    {
     "name": "stdout",
     "output_type": "stream",
     "text": [
      "input_ids shape: torch.Size([1, 59])\n",
      "Reference Summary:\n",
      "In Mexico, a storm drops over a metre of hail over parts of Guadalajara, damaging hundreds of houses.\n",
      "Predictions: \n",
      "[\"Hail storm in Mexico's Guadalajara, Mexico, dumped more than a foot of hail. Storm hit the city of Guadalaja, Mexico. Storm left more than 1,000 people in the city without power. The hail storm also caused a power outage in\"]\n",
      "\n"
     ]
    },
    {
     "name": "stderr",
     "output_type": "stream",
     "text": [
      "\r",
      " 57%|█████▋    | 585/1022 [8:39:58<6:54:24, 56.90s/it]"
     ]
    },
    {
     "name": "stdout",
     "output_type": "stream",
     "text": [
      "input_ids shape: torch.Size([1, 59])\n",
      "Reference Summary:\n",
      "Iran announces that it has enriched more than 300 kilograms (660 lb) of uranium to 3.67%, contrary to previous agreement. This is still highly insufficient to produce one nuclear weapon.\n",
      "Predictions: \n",
      "[\"Iran says it has breached the limit on its stockpile of low-enriched uranium. The country has been under a nuclear deal since the Obama administration. The deal was reached in Iran's capital, Tehran. Iran says it is working to meet the target. The U.S. says\"]\n",
      "\n"
     ]
    },
    {
     "name": "stderr",
     "output_type": "stream",
     "text": [
      "\r",
      " 57%|█████▋    | 586/1022 [8:40:36<6:10:14, 50.95s/it]"
     ]
    },
    {
     "name": "stdout",
     "output_type": "stream",
     "text": [
      "input_ids shape: torch.Size([1, 59])\n",
      "Reference Summary:\n",
      "After speaking by phone with U.S. Secretary of State Mike Pompeo, Japanese Foreign Minister Tarō Kōno says \"he hopes the meeting adds momentum to efforts toward the denuclearization of the Korean Peninsula\". Kōno also says that Japanese Prime Minister Shinzō Abe \"wants to meet Kim Jong-un to solve the issue of North Korean abductions of Japanese citizens\".\n",
      "Predictions: \n",
      "[\"North Korea's Kim Jong Un and U.S. President Donald Trump meet for first time since their summit in June. North Korea's leader Kim Jong-un and U.-S. president Donald Trump to meet for talks on denuclearization. North Korean leader Kim's father\"]\n",
      "\n"
     ]
    },
    {
     "name": "stderr",
     "output_type": "stream",
     "text": [
      "\r",
      " 57%|█████▋    | 587/1022 [8:41:32<6:22:03, 52.70s/it]"
     ]
    },
    {
     "name": "stdout",
     "output_type": "stream",
     "text": [
      "input_ids shape: torch.Size([1, 59])\n",
      "Reference Summary:\n",
      "After political pressure from Turkey, six Turkish sailors are released from detention by the Libyan National Army under general Khalifa Haftar.\n",
      "Predictions: \n",
      "['Turkish officials say they have been released from a Libyan prison. The Turkish government says it has been released. The release comes after a week of tension between the two countries. The Libyan government has been fighting a rebel-held government in the country. The U.N. says']\n",
      "\n"
     ]
    },
    {
     "name": "stderr",
     "output_type": "stream",
     "text": [
      "\r",
      " 58%|█████▊    | 588/1022 [8:42:29<6:29:38, 53.87s/it]"
     ]
    },
    {
     "name": "stdout",
     "output_type": "stream",
     "text": [
      "input_ids shape: torch.Size([1, 56])\n",
      "Reference Summary:\n",
      "France's interior minister, Christophe Castaner, has asked the Paris police chief to provide explanations about a video that went viral on social media, where law enforcement officers are seen spraying with pepper spray and dragging protesters from the Extinction Rebellion anti-climate change movement. Although the police needed to evict the protesters, who obstructed a transit route, the mechanisms that they used generated negative reactions.\n",
      "Predictions: \n",
      "[\"French police have been accused of using force against climate protesters. The protesters were protesting against the French government's climate change policies. The protest was held on a bridge in Paris. The French government has called for a review of the use of force against the protesters.\"]\n",
      "\n"
     ]
    },
    {
     "name": "stderr",
     "output_type": "stream",
     "text": [
      "\r",
      " 58%|█████▊    | 589/1022 [8:43:26<6:35:17, 54.78s/it]"
     ]
    },
    {
     "name": "stdout",
     "output_type": "stream",
     "text": [
      "input_ids shape: torch.Size([1, 59])\n",
      "Reference Summary:\n",
      "Hong Kong anti-extradition bill protesters briefly break into the Legislative Council Complex, which houses the local parliament.\n",
      "Predictions: \n",
      "[\"Hong Kong's pro-China protesters rally in support of the police. Hong Kong's government has been accused of using force to keep people from leaving. Hong Hong's government says it is trying to protect the city's sovereignty. HongHong's government is trying not to use force\"]\n",
      "\n"
     ]
    },
    {
     "name": "stderr",
     "output_type": "stream",
     "text": [
      "\r",
      " 58%|█████▊    | 590/1022 [8:43:40<5:07:17, 42.68s/it]"
     ]
    },
    {
     "name": "stdout",
     "output_type": "stream",
     "text": [
      "input_ids shape: torch.Size([1, 56])\n",
      "Reference Summary:\n",
      "Ibaraki Prefecture becomes the first in Japan to recognize same-sex partnerships.\n",
      "Predictions: \n",
      "['The first time a woman has been in a relationship with a man who is not a man. The first time the woman has had a relationship. The woman was in a hotel room with a male friend. The man was in the same room with his girlfriend.']\n",
      "\n"
     ]
    },
    {
     "name": "stderr",
     "output_type": "stream",
     "text": [
      "\r",
      " 58%|█████▊    | 591/1022 [8:44:37<5:37:28, 46.98s/it]"
     ]
    },
    {
     "name": "stdout",
     "output_type": "stream",
     "text": [
      "input_ids shape: torch.Size([1, 59])\n",
      "Reference Summary:\n",
      "David Hurley is sworn is as the 27th Governor-General of Australia, succeeding Peter Cosgrove.\n",
      "Predictions: \n",
      "[\"David Hurley sworn in as Australia's governor-general. He will be sworn in on Monday, a day before Parliament resumes. Hurley is a former soldier and former Australian soldier. He was the first openly gay Australian to be sworn into office. He is the first to\"]\n",
      "\n"
     ]
    },
    {
     "name": "stderr",
     "output_type": "stream",
     "text": [
      "\r",
      " 58%|█████▊    | 592/1022 [8:45:35<5:59:26, 50.16s/it]"
     ]
    },
    {
     "name": "stdout",
     "output_type": "stream",
     "text": [
      "input_ids shape: torch.Size([1, 59])\n",
      "Reference Summary:\n",
      "Islamist militants attack a Niger Armed Forces base in the village of Inates, near the border with Mali, with two car bombs and gunmen, killing 18 soldiers. They also kidnapped four Nigerien soldiers and stole dozens of vehicles.\n",
      "Predictions: \n",
      "['The attack occurred on a military camp in western Niger. The raid was carried out by suspected Islamist militants. The attack was carriedout by gunmen who also killed two soldiers. The soldiers were killed in the attack on a camp in the western Niger region. The attackers were believed to']\n",
      "\n"
     ]
    },
    {
     "name": "stderr",
     "output_type": "stream",
     "text": [
      "\r",
      " 58%|█████▊    | 593/1022 [8:46:32<6:14:04, 52.32s/it]"
     ]
    },
    {
     "name": "stdout",
     "output_type": "stream",
     "text": [
      "input_ids shape: torch.Size([1, 57])\n",
      "Reference Summary:\n",
      "A Libyan National Army airstrike on a suburb of Tripoli hits a detention centre for illegal migrants, killing at least 53 people and injuring 80 people.\n",
      "Predictions: \n",
      "['Airstrike hits a detention center for migrants in Tripoli, killing at least 40 people. The attack is believed to have been carried out by a U.S. drone. The Libyan government says the attack was in response to a mortar attack on a detention centre.']\n",
      "\n"
     ]
    },
    {
     "name": "stderr",
     "output_type": "stream",
     "text": [
      "\r",
      " 58%|█████▊    | 594/1022 [8:47:30<6:24:45, 53.94s/it]"
     ]
    },
    {
     "name": "stdout",
     "output_type": "stream",
     "text": [
      "input_ids shape: torch.Size([1, 59])\n",
      "Reference Summary:\n",
      "A fire on the Russian Navy's Losharik submarine kills 14 crew members while the vessel conducts tests in Russian territorial waters.\n",
      "Predictions: \n",
      "['Fire on Russian submersible kills 14 sailors, Russian defense ministry says. The fire was on a deep-sea submersibles, the ministry says, and the cause is unknown. The vessel was carrying 14 sailors on a mission to the Pacific Ocean. The Russian navy says']\n",
      "\n"
     ]
    },
    {
     "name": "stderr",
     "output_type": "stream",
     "text": [
      "\r",
      " 58%|█████▊    | 595/1022 [8:48:27<6:31:09, 54.96s/it]"
     ]
    },
    {
     "name": "stdout",
     "output_type": "stream",
     "text": [
      "input_ids shape: torch.Size([1, 59])\n",
      "Reference Summary:\n",
      "At least 18 people have died and more than a dozen are still missing in devastating floods that swept southeastern Siberia, Russia.\n",
      "Predictions: \n",
      "['Russian authorities say at least 18 people have died in floods in Siberia. The floods have swept through the region, with more than a dozen people still missing. The Russian government says the floods have caused more than $1 billion in damage. The flooding has also killed at least 12']\n",
      "\n"
     ]
    },
    {
     "name": "stderr",
     "output_type": "stream",
     "text": [
      "\r",
      " 58%|█████▊    | 596/1022 [8:49:24<6:34:46, 55.60s/it]"
     ]
    },
    {
     "name": "stdout",
     "output_type": "stream",
     "text": [
      "input_ids shape: torch.Size([1, 59])\n",
      "Reference Summary:\n",
      "China warns the United Kingdom that \"no country has the right to intervene on the issue of mass protests in Hong Kong\", as it considers the problems of this self-governed city an \"internal problem\". For China, the agreement by which the United Kingdom returned Hong Kong is nothing more than \"a historical document of no practical importance\" and \"that European country no longer has any responsibility over Hong Kong\". The British chancellery, for its part, dismissed the Chinese opinion, and has said that \"it is the right and obligation of the United Kingdom to work to enforce the agreement\", which, in theory, guarantees a high degree of autonomy for Hong Kong for 50 years until 2047 without Chinese interference.\n",
      "Predictions: \n",
      "[\"Hong Kong's pro-democracy protesters have been protesting against China's leadership. The protests have been taking place in Hong Kong since the weekend. The protesters are demanding the city's leader be allowed to stay in power. The government has been accused of trying to impose its rule on\"]\n",
      "\n"
     ]
    },
    {
     "name": "stderr",
     "output_type": "stream",
     "text": [
      "\r",
      " 58%|█████▊    | 597/1022 [8:50:21<6:36:52, 56.03s/it]"
     ]
    },
    {
     "name": "stdout",
     "output_type": "stream",
     "text": [
      "input_ids shape: torch.Size([1, 59])\n",
      "Reference Summary:\n",
      "There has been a shake-up within the campaign organization of former Colorado Governor John Hickenlooper, which includes the departure of the manager of Hickenlooper's presidential campaign, Bradley Komar. Komar and other departing staffers reportedly believe that Hickenlooper should quit the race as he has no realistic prospect of victory.\n",
      "Predictions: \n",
      "[\"Hickenlooper's campaign is in trouble. He's been trying to get his campaign to focus on his state's economy. Hickenloopers' campaign is struggling to raise money. He has been criticized for his handling of the economy. He is a former governor of\"]\n",
      "\n"
     ]
    },
    {
     "name": "stderr",
     "output_type": "stream",
     "text": [
      "\r",
      " 59%|█████▊    | 598/1022 [8:50:56<5:50:05, 49.54s/it]"
     ]
    },
    {
     "name": "stdout",
     "output_type": "stream",
     "text": [
      "input_ids shape: torch.Size([1, 59])\n",
      "Reference Summary:\n",
      "Argentine Education Minister Alejandro Finocchiaro, who strongly condemned a school in Chaco Province for displaying a Cuban flag and displaying pictures of Che Guevara, says the school \"has no supervision\" and that they are \"indoctrinating children with communism and totalitarian and populist governments\". He also added in an interview on state TV that the school will be reviewed.\n",
      "Predictions: \n",
      "[\"The school's students are in the middle of their first year of school. The school is in the midst of a major overhaul. The students are being taught by a new teacher. The new teacher is a former teacher of the school. She is a teacher of English and has\"]\n",
      "\n"
     ]
    },
    {
     "name": "stderr",
     "output_type": "stream",
     "text": [
      "\r",
      " 59%|█████▊    | 599/1022 [8:51:53<6:05:14, 51.81s/it]"
     ]
    },
    {
     "name": "stdout",
     "output_type": "stream",
     "text": [
      "input_ids shape: torch.Size([1, 59])\n",
      "Reference Summary:\n",
      "The Fidesz supermajority of Hungary's National Assembly passes a bill, which takes the entire research network away from the Hungarian Academy of Sciences and hands them to a new government-backed organisation.\n",
      "Predictions: \n",
      "[\"Hungary's parliament passes bill to tighten control of the country's scientific institutions. The bill is a response to a recent court ruling that found the country had overstepped its legal powers. The law will also allow the government to take over the heads of the Hungarian Academy of\"]\n",
      "\n"
     ]
    },
    {
     "name": "stderr",
     "output_type": "stream",
     "text": [
      "\r",
      " 59%|█████▊    | 600/1022 [8:52:51<6:18:24, 53.80s/it]"
     ]
    },
    {
     "name": "stdout",
     "output_type": "stream",
     "text": [
      "input_ids shape: torch.Size([1, 59])\n",
      "Reference Summary:\n",
      "The U.S. House Committee on Ways and Means sues U.S. Secretary of the Treasury Steven Mnuchin and Commissioner of Internal Revenue Charles Rettig to obtain six years of U.S. President Donald Trump's tax returns.\n",
      "Predictions: \n",
      "['The House Ways and Means Committee is suing the White House for the tax returns. The committee is seeking the tax records for the first time. The House Ways & Means Committee says it will sue the Whitehouse for the records. The White House says it is seeking to obtain the']\n",
      "\n"
     ]
    },
    {
     "name": "stderr",
     "output_type": "stream",
     "text": [
      "\r",
      " 59%|█████▉    | 601/1022 [8:52:58<4:37:51, 39.60s/it]"
     ]
    },
    {
     "name": "stdout",
     "output_type": "stream",
     "text": [
      "input_ids shape: torch.Size([1, 59])\n",
      "Reference Summary:\n",
      "The Ninth European Parliament starts its term.\n",
      "Predictions: \n",
      "[\"The European Parliament has opened in Strasbourg, France. The European Parliament is the seat of the European Union. The EU's new parliament has been opened to the public for the first time since the Euro referendum. The opening ceremony was marked by a protest by the UK's UKIP\"]\n",
      "\n"
     ]
    },
    {
     "name": "stderr",
     "output_type": "stream",
     "text": [
      "\r",
      " 59%|█████▉    | 602/1022 [8:53:55<5:13:28, 44.78s/it]"
     ]
    },
    {
     "name": "stdout",
     "output_type": "stream",
     "text": [
      "input_ids shape: torch.Size([1, 59])\n",
      "Reference Summary:\n",
      "Fugitive Catalan independence leaders Carles Puigdemont and Toni Comín, together with imprisoned Oriol Junqueras, are not allowed to take office as MEPs by the Supreme Court of Spain and Court of Justice of the European Union, while a pro-independence demonstration takes place in Strasbourg.\n",
      "Predictions: \n",
      "['The European Parliament is in session for the first time since the start of the European Parliament in May. The European Parliament has been in session since May 25. The first session of the new parliament was held in Strasbourg, France. The session was held on the eve of the']\n",
      "\n"
     ]
    },
    {
     "name": "stderr",
     "output_type": "stream",
     "text": [
      "\r",
      " 59%|█████▉    | 603/1022 [8:54:52<5:39:00, 48.55s/it]"
     ]
    },
    {
     "name": "stdout",
     "output_type": "stream",
     "text": [
      "input_ids shape: torch.Size([1, 59])\n",
      "Reference Summary:\n",
      "The European Council nominates German Defence Minister Ursula von der Leyen to replace Jean-Claude Juncker as President of the European Commission. If confirmed by the European Parliament, she will be the first woman to hold the position. The Council also nominates Charles Michel of Belgium as President of the European Council, Josep Borrell of Spain as High Representative for Foreign Affairs and Security Policy, and Christine Lagarde of France as President of the European Central Bank.  (BBC)\n",
      "Predictions: \n",
      "[\"The European Union's new president will be the first woman to hold the post. The new president of the European Commission will be a former German Chancellor. The EU's new leader will be chosen by the European Parliament. The European Parliament will be made up of more than 200 members\"]\n",
      "\n"
     ]
    },
    {
     "name": "stderr",
     "output_type": "stream",
     "text": [
      "\r",
      " 59%|█████▉    | 604/1022 [8:55:49<5:56:44, 51.21s/it]"
     ]
    },
    {
     "name": "stdout",
     "output_type": "stream",
     "text": [
      "input_ids shape: torch.Size([1, 59])\n",
      "Reference Summary:\n",
      "Following the fatal shooting of a young Ethiopian–Israeli man on June 30, countrywide riots in Israel result in more than 80 injuries.\n",
      "Predictions: \n",
      "['Ethiopian-Israeli teen killed by police officer in Israel. Police say he was shot by an off-duty officer. Police: The teen was shot and killed by an officer in a dispute over a traffic stop. The incident occurred in the town of Nabiya.']\n",
      "\n"
     ]
    },
    {
     "name": "stderr",
     "output_type": "stream",
     "text": [
      "\r",
      " 59%|█████▉    | 605/1022 [8:56:46<6:08:05, 52.96s/it]"
     ]
    },
    {
     "name": "stdout",
     "output_type": "stream",
     "text": [
      "input_ids shape: torch.Size([1, 59])\n",
      "Reference Summary:\n",
      "NASA carries out a successful in-flight test of the launch abort system of its new Orion spacecraft, a milestone in the development of the Artemis program to resume human exploration beyond low Earth orbit.\n",
      "Predictions: \n",
      "[\"NASA's Orion spacecraft is set to be used to send astronauts to the moon. The Orion capsule is designed to carry astronauts to space. The capsule will be used for a mission to the Moon in the 2030s. The mission will be the first to test the Orion capsule's\"]\n",
      "\n"
     ]
    },
    {
     "name": "stderr",
     "output_type": "stream",
     "text": [
      "\r",
      " 59%|█████▉    | 606/1022 [8:57:38<6:04:38, 52.59s/it]"
     ]
    },
    {
     "name": "stdout",
     "output_type": "stream",
     "text": [
      "input_ids shape: torch.Size([1, 59])\n",
      "Reference Summary:\n",
      "A mass grave containing over 200 bodies is discovered in Raqqa, Syria. The victims, who were shackled and shot in the head, are believed to have been killed by ISIL militants.\n",
      "Predictions: \n",
      "['The mass grave was found near the Syrian city of Raqqa. It is believed to be the site of a mass grave where bodies of people were buried. The bodies are believed to have been killed by the Islamic State group. The mass grave is believed be in the area of the']\n",
      "\n"
     ]
    },
    {
     "name": "stderr",
     "output_type": "stream",
     "text": [
      "\r",
      " 59%|█████▉    | 607/1022 [8:58:35<6:13:05, 53.94s/it]"
     ]
    },
    {
     "name": "stdout",
     "output_type": "stream",
     "text": [
      "input_ids shape: torch.Size([1, 59])\n",
      "Reference Summary:\n",
      "Over one million people in the Japanese prefectures of Miyazaki and Kagoshima are ordered to evacuate their homes due to torrential rainfall. An elderly woman in Kagoshima city died after a mudslide hit her home.\n",
      "Predictions: \n",
      "[\"More than a million people in Japan's southern region of Kagoshima ordered to evacuate. The region is hit by heavy rains and heavy flooding. The Japanese government has issued a warning of landslides and flooding. More than a dozen people have been killed in the region by flooding\"]\n",
      "\n"
     ]
    },
    {
     "name": "stderr",
     "output_type": "stream",
     "text": [
      "\r",
      " 59%|█████▉    | 608/1022 [8:59:33<6:19:03, 54.94s/it]"
     ]
    },
    {
     "name": "stdout",
     "output_type": "stream",
     "text": [
      "input_ids shape: torch.Size([1, 59])\n",
      "Reference Summary:\n",
      "One tourist is killed and several injured when Mt. Stromboli in Italy erupts.\n",
      "Predictions: \n",
      "['The volcano is on the island of Stromboli, which is in the Adriatic Sea. The volcano is known to be active in the summer. The eruption is the latest in a series of eruptions in the area. The island is home to the largest concentration']\n",
      "\n"
     ]
    },
    {
     "name": "stderr",
     "output_type": "stream",
     "text": [
      "\r",
      " 60%|█████▉    | 609/1022 [9:00:30<6:22:42, 55.60s/it]"
     ]
    },
    {
     "name": "stdout",
     "output_type": "stream",
     "text": [
      "input_ids shape: torch.Size([1, 59])\n",
      "Reference Summary:\n",
      "At least 26 people have died after a fishing boat capsized off the coast of Honduras.\n",
      "Predictions: \n",
      "['At least 27 people died when a fishing boat sank off the coast of Honduras. The boat was carrying more than 100 people. The vessel was carrying a total of 55 people. A total of 27 people were killed, and the boat sank in the Caribbean. The Honduran military']\n",
      "\n"
     ]
    },
    {
     "name": "stderr",
     "output_type": "stream",
     "text": [
      "\r",
      " 60%|█████▉    | 610/1022 [9:01:27<6:25:19, 56.12s/it]"
     ]
    },
    {
     "name": "stdout",
     "output_type": "stream",
     "text": [
      "input_ids shape: torch.Size([1, 59])\n",
      "Reference Summary:\n",
      "At least six people are killed and 190 injured after a tornado hits the city of Kaiyuan in Liaoning Province, China.\n",
      "Predictions: \n",
      "['Tornado hits Kaiyuan, a city in Liaoning province, killing six people and injuring 190. The tornado hit the city of Kaiyuanshuan, in the northeast of the country. The storm also damaged buildings in the city. The death toll is']\n",
      "\n"
     ]
    },
    {
     "name": "stderr",
     "output_type": "stream",
     "text": [
      "\r",
      " 60%|█████▉    | 611/1022 [9:02:24<6:26:27, 56.42s/it]"
     ]
    },
    {
     "name": "stdout",
     "output_type": "stream",
     "text": [
      "input_ids shape: torch.Size([1, 59])\n",
      "Reference Summary:\n",
      "David Sassoli of the Progressive Alliance of Socialists and Democrats is elected President of the European Parliament.\n",
      "Predictions: \n",
      "[\"David Sassoli is the new president of the European Parliament. He is a former Italian politician and a member of the Italian Socialist Party. He was elected by the European parliament's members on Wednesday. Sassoli was the first Italian to be elected to the European Council of Ministers.\"]\n",
      "\n"
     ]
    },
    {
     "name": "stderr",
     "output_type": "stream",
     "text": [
      "\r",
      " 60%|█████▉    | 612/1022 [9:03:21<6:27:14, 56.67s/it]"
     ]
    },
    {
     "name": "stdout",
     "output_type": "stream",
     "text": [
      "input_ids shape: torch.Size([1, 59])\n",
      "Reference Summary:\n",
      "Royal Marines seize control of an oil tanker off the coast of Gibraltar that was en route to Baniyas in Syria, suspected of breaching EU sanctions against Syria, carrying Iranian crude oil. The United Kingdom's Ambassador to Iran, Robert Macaire, is summoned in Tehran over the incident, which Iran describes as an \"illegal seizure\".\n",
      "Predictions: \n",
      "['Iranian president says he will not allow the country to be targeted by the West. Iran has been accused of violating the terms of a nuclear deal with the West by enriching uranium. The U.S. has been trying to get Iran to stop enriching its uranium in']\n",
      "\n"
     ]
    },
    {
     "name": "stderr",
     "output_type": "stream",
     "text": [
      "\r",
      " 60%|█████▉    | 613/1022 [9:04:18<6:26:49, 56.75s/it]"
     ]
    },
    {
     "name": "stdout",
     "output_type": "stream",
     "text": [
      "input_ids shape: torch.Size([1, 57])\n",
      "Reference Summary:\n",
      "A major holiday celebration and military parade is held in Washington, D.C., United States, by President Donald Trump to commemorate the Fourth of July/Independence Day.\n",
      "Predictions: \n",
      "[\"President Donald Trump's speech at the White House was a celebration of the U.S. military's history. The president's speech was a response to a series of attacks on the military. The speech was part of a series on the history of the United States.\"]\n",
      "\n"
     ]
    },
    {
     "name": "stderr",
     "output_type": "stream",
     "text": [
      "\r",
      " 60%|██████    | 614/1022 [9:05:16<6:27:27, 56.98s/it]"
     ]
    },
    {
     "name": "stdout",
     "output_type": "stream",
     "text": [
      "input_ids shape: torch.Size([1, 59])\n",
      "Reference Summary:\n",
      "Lightsource BP, a solar energy developer headquartered in London, has announced that it will acquire utility-scale solar projects in Brazil, 1.9 gigawatts of projects, for an undisclosed sum. This is a major expansion for Lightsource, which is 43% owned by the energy giant BP.\n",
      "Predictions: \n",
      "['The company has been in talks with the government to develop a solar farm in the South of the country. The project is expected to be completed by the end of the year. The company has also been in discussions with the state of the state to develop an offshore wind farm.']\n",
      "\n"
     ]
    },
    {
     "name": "stderr",
     "output_type": "stream",
     "text": [
      "\r",
      " 60%|██████    | 615/1022 [9:06:13<6:27:21, 57.11s/it]"
     ]
    },
    {
     "name": "stdout",
     "output_type": "stream",
     "text": [
      "input_ids shape: torch.Size([1, 59])\n",
      "Reference Summary:\n",
      "An earthquake with a magnitude of 6.4 with scores of foreshocks and aftershocks hits Southern California, 150 miles (240 km) north of Los Angeles near the city of Ridgecrest. No injuries are reported. The earthquake is the largest in Southern California since October 1999.\n",
      "Predictions: \n",
      "['The quake was felt in Southern California, but no damage was reported. The quake was centered in the San Diego area. The earthquake was felt across the state. It was the largest in the state since a magnitude 6.4 quake in 1994. The U.S. Geological']\n",
      "\n"
     ]
    },
    {
     "name": "stderr",
     "output_type": "stream",
     "text": [
      "\r",
      " 60%|██████    | 616/1022 [9:07:11<6:27:05, 57.21s/it]"
     ]
    },
    {
     "name": "stdout",
     "output_type": "stream",
     "text": [
      "input_ids shape: torch.Size([1, 59])\n",
      "Reference Summary:\n",
      "More than 80 people are missing after a migrant boat capsizes off the coast of Tunisia, according to the International Organization for Migration (IOM).\n",
      "Predictions: \n",
      "['Boat carrying 86 migrants capsizes off Tunisia, killing at least three people. Boat was carrying migrants from Libya to Tunisia. Boat capsizes in Mediterranean Sea, says the Tunisian coastguard. Boat had been carrying migrants to Tunisia from Libya. The boat was carrying 86 people']\n",
      "\n"
     ]
    },
    {
     "name": "stderr",
     "output_type": "stream",
     "text": [
      "\r",
      " 60%|██████    | 617/1022 [9:08:08<6:25:53, 57.17s/it]"
     ]
    },
    {
     "name": "stdout",
     "output_type": "stream",
     "text": [
      "input_ids shape: torch.Size([1, 58])\n",
      "Reference Summary:\n",
      "An Australian student who had been detained in North Korea on June 25 is freed thanks to diplomatic talks between Australia and North Korea via Swedish officials.\n",
      "Predictions: \n",
      "['The U.S. and South Korea have been in talks over the release of a detained American. The U.N. Security Council has called for the release. The North Korean government has said it is working to get the U.K. to release the American.']\n",
      "\n"
     ]
    },
    {
     "name": "stderr",
     "output_type": "stream",
     "text": [
      "\r",
      " 60%|██████    | 618/1022 [9:09:05<6:25:13, 57.21s/it]"
     ]
    },
    {
     "name": "stdout",
     "output_type": "stream",
     "text": [
      "input_ids shape: torch.Size([1, 59])\n",
      "Reference Summary:\n",
      "Amid a deterioration in relations, Kosovo bans all Serbian officials from entering the country, in response to \"constant propaganda and false news about the country and our citizens\" from Belgrade.\n",
      "Predictions: \n",
      "['Kosovo\\'s Foreign Ministry says it is banning Serbian officials from entering the country. The ban is in response to \"Serbia\\'s threats against Kosovo and its citizens\" The ban has sparked an angry reaction from Belgrade. The move is the latest in a series of diplomatic']\n",
      "\n"
     ]
    },
    {
     "name": "stderr",
     "output_type": "stream",
     "text": [
      "\r",
      " 61%|██████    | 619/1022 [9:10:02<6:24:38, 57.27s/it]"
     ]
    },
    {
     "name": "stdout",
     "output_type": "stream",
     "text": [
      "input_ids shape: torch.Size([1, 59])\n",
      "Reference Summary:\n",
      "A 20-year-old man is charged with stabbing three in a machete attack in a plasma center in Petersburg, Virginia.\n",
      "Predictions: \n",
      "['A man is accused of stabbing a man and woman at a Virginia plasma center. The incident occurred at a center in Petersburg, Virginia. The man is believed to be a former customer of the center. He was arrested and charged with assault and battery. The victim was taken to']\n",
      "\n"
     ]
    },
    {
     "name": "stderr",
     "output_type": "stream",
     "text": [
      "\r",
      " 61%|██████    | 620/1022 [9:11:00<6:23:52, 57.30s/it]"
     ]
    },
    {
     "name": "stdout",
     "output_type": "stream",
     "text": [
      "input_ids shape: torch.Size([1, 59])\n",
      "Reference Summary:\n",
      "A car bomb explodes in the Turkish city of Reyhanlı. The blast kills three Syrian citizens who were inside the car.\n",
      "Predictions: \n",
      "['The explosion happened in the town of Reyhanli, near the border with Syria. The blast was caused by a car bomb, according to the Turkish government. The explosion occurred in the early hours of Friday morning. The incident occurred in a town near the Turkish border with the']\n",
      "\n"
     ]
    },
    {
     "name": "stderr",
     "output_type": "stream",
     "text": [
      "\r",
      " 61%|██████    | 621/1022 [9:11:29<5:26:19, 48.83s/it]"
     ]
    },
    {
     "name": "stdout",
     "output_type": "stream",
     "text": [
      "input_ids shape: torch.Size([1, 59])\n",
      "Reference Summary:\n",
      "Fourteen civilians are killed and 45 injured in mortar attacks in Faryab Province. Taliban insurgents claim responsibility for the attack.\n",
      "Predictions: \n",
      "['At least 14 people killed in attack in northern Afghanistan. At least 30 people injured in attack. Taliban militants fired on a market in Faryab province. Taliban claimed responsibility for attack. The attack took place in the town of Faryabi. The Taliban claimed to have fired']\n",
      "\n"
     ]
    },
    {
     "name": "stderr",
     "output_type": "stream",
     "text": [
      "\r",
      " 61%|██████    | 622/1022 [9:12:26<5:42:42, 51.41s/it]"
     ]
    },
    {
     "name": "stdout",
     "output_type": "stream",
     "text": [
      "input_ids shape: torch.Size([1, 59])\n",
      "Reference Summary:\n",
      "A bomb hits a mosque in Ghazni, Afghanistan, killing two and wounding over 40.\n",
      "Predictions: \n",
      "['Islamic State group claims responsibility for the bombing in central Afghanistan. The attack killed two people and injured 20 others. The blast occurred in the central province of Ghazni. The Islamic State group has claimed responsibility for previous attacks in the country. The group has also claimed responsibility in']\n",
      "\n"
     ]
    },
    {
     "name": "stderr",
     "output_type": "stream",
     "text": [
      "\r",
      " 61%|██████    | 623/1022 [9:13:23<5:53:10, 53.11s/it]"
     ]
    },
    {
     "name": "stdout",
     "output_type": "stream",
     "text": [
      "input_ids shape: torch.Size([1, 56])\n",
      "Reference Summary:\n",
      "Tunisian Prime Minister Youssef Chahed announces that the niqab will be banned in public institutions effective immediately, citing security concerns following a pair of suicide bombings on June 27.\n",
      "Predictions: \n",
      "[\"Tunisia bans face veils in public buildings for security reasons. Prime Minister Youssef Chahed signed an order banning the face veil. The ban follows a series of attacks on the country's Muslim minority. The government says the ban is for security purposes.\"]\n",
      "\n"
     ]
    },
    {
     "name": "stderr",
     "output_type": "stream",
     "text": [
      "\r",
      " 61%|██████    | 624/1022 [9:14:21<6:01:33, 54.51s/it]"
     ]
    },
    {
     "name": "stdout",
     "output_type": "stream",
     "text": [
      "input_ids shape: torch.Size([1, 59])\n",
      "Reference Summary:\n",
      "A magnitude 7.1 earthquake hits Southern California just a day after a magnitude 6.4 earthquake in the same area.\n",
      "Predictions: \n",
      "['The earthquake was felt in the area of Los Angeles, San Diego and Santa Barbara. The quake was felt across the state. It was the second quake in the region in less than a week. The earthquake was centered in the town of San Diego. It struck at a depth']\n",
      "\n"
     ]
    },
    {
     "name": "stderr",
     "output_type": "stream",
     "text": [
      "\r",
      " 61%|██████    | 625/1022 [9:15:19<6:06:30, 55.39s/it]"
     ]
    },
    {
     "name": "stdout",
     "output_type": "stream",
     "text": [
      "input_ids shape: torch.Size([1, 59])\n",
      "Reference Summary:\n",
      "Seven Americans, including coal billionaire Chris Cline, are found dead in a helicopter crash in the Bahamas.\n",
      "Predictions: \n",
      "['The crash happened in the Bahamas. The helicopter was carrying the U.S. president and his family. The crash happened on a flight from the Bahamas to the U.,S. Virgin Islands. The pilot was killed in the crash. The cause of the crash is under investigation']\n",
      "\n"
     ]
    },
    {
     "name": "stderr",
     "output_type": "stream",
     "text": [
      "\r",
      " 61%|██████▏   | 626/1022 [9:15:39<4:56:37, 44.94s/it]"
     ]
    },
    {
     "name": "stdout",
     "output_type": "stream",
     "text": [
      "input_ids shape: torch.Size([1, 59])\n",
      "Reference Summary:\n",
      "New text messages between Brazilian judge Sérgio Moro and Operation Car Wash's prosecutors are leaked by The Intercept Brasil and Veja. In the messages, Judge Moro illegally advises the prosecutors in including pieces of evidence against defendants of cases presided by him and suggests dates for Federal Police operations. The messages also suggest that Moro withheld evidence to prevent cases being transferred out of his jurisdiction to the Supreme Federal Court.\n",
      "Predictions: \n",
      "[\"The former president of the country, former President of the United States, has been accused of being a 'murderer' of the death of his son. The former president, who was killed in a car crash, was a former president. The current president, President of\"]\n",
      "\n"
     ]
    },
    {
     "name": "stderr",
     "output_type": "stream",
     "text": [
      "\r",
      " 61%|██████▏   | 627/1022 [9:16:36<5:20:12, 48.64s/it]"
     ]
    },
    {
     "name": "stdout",
     "output_type": "stream",
     "text": [
      "input_ids shape: torch.Size([1, 59])\n",
      "Reference Summary:\n",
      "The Sudanese military and representatives of civil groups agree on a deal to share power for a transition period.\n",
      "Predictions: \n",
      "[\"Sudan's military and opposition agree to share power. The deal is a first step towards a power-sharing agreement. The agreement will see the military take over the government. The opposition says it will not accept a military takeover. The military says it is committed to a\"]\n",
      "\n"
     ]
    },
    {
     "name": "stderr",
     "output_type": "stream",
     "text": [
      "\r",
      " 61%|██████▏   | 628/1022 [9:17:11<4:51:42, 44.42s/it]"
     ]
    },
    {
     "name": "stdout",
     "output_type": "stream",
     "text": [
      "input_ids shape: torch.Size([1, 59])\n",
      "Reference Summary:\n",
      "ISIL claims responsibility for a Wednesday attack in Nangade District in Mozambique, which killed seven people.\n",
      "Predictions: \n",
      "['Seven people including a policeman killed in northern Mozambique in jihadist attack. Attack claimed by the Islamic State group, local sources say. The attack on Wednesday evening occurred in Lidjungo village. The Islamic State claims responsibility for the attack. The group has not commented']\n",
      "\n"
     ]
    },
    {
     "name": "stderr",
     "output_type": "stream",
     "text": [
      "\r",
      " 62%|██████▏   | 629/1022 [9:17:32<4:03:52, 37.23s/it]"
     ]
    },
    {
     "name": "stdout",
     "output_type": "stream",
     "text": [
      "input_ids shape: torch.Size([1, 59])\n",
      "Reference Summary:\n",
      "Five soldiers of the Israel Defense Forces are injured in a vehicle-ramming attack in Hizma, Palestine. The suspect is still at large.\n",
      "Predictions: \n",
      "['Five Israeli soldiers wounded in suspected car-ramming attack in West Bank. The alleged assailant has been arrested, the Israeli army says. The incident occurred near the West Bank town of Hizma. The soldiers were injured in a suspected car attack. The attack is being investigated']\n",
      "\n"
     ]
    },
    {
     "name": "stderr",
     "output_type": "stream",
     "text": [
      "\r",
      " 62%|██████▏   | 630/1022 [9:18:29<4:42:02, 43.17s/it]"
     ]
    },
    {
     "name": "stdout",
     "output_type": "stream",
     "text": [
      "input_ids shape: torch.Size([1, 56])\n",
      "Reference Summary:\n",
      "The SNHR says at least 544 civilians (including 130 children) have been killed, and another 2,117 people injured since a Russian-led Syrian government assault on the last rebel bastion in northwestern Syria began two months prior.\n",
      "Predictions: \n",
      "['Russian-led assault on last rebel bastion in Syria leaves over 500 civilians dead. At least 544 civilians killed and over 2,000 people injured since assault began, rights groups say. Russian-led attack on last rebels bastion began two months ago.']\n",
      "\n"
     ]
    },
    {
     "name": "stderr",
     "output_type": "stream",
     "text": [
      "\r",
      " 62%|██████▏   | 631/1022 [9:19:26<5:08:35, 47.35s/it]"
     ]
    },
    {
     "name": "stdout",
     "output_type": "stream",
     "text": [
      "input_ids shape: torch.Size([1, 58])\n",
      "Reference Summary:\n",
      "23 people are injured in a gas explosion at a shopping mall in Plantation, Florida.\n",
      "Predictions: \n",
      "['The explosion happened at a shopping center in Plantation, Florida. The blast injured at least 20 people, including two people in critical condition. The explosion happened in the early hours of Saturday morning. The cause of the explosion is under investigation. The incident is under investigations.']\n",
      "\n"
     ]
    },
    {
     "name": "stderr",
     "output_type": "stream",
     "text": [
      "\r",
      " 62%|██████▏   | 632/1022 [9:20:23<5:27:20, 50.36s/it]"
     ]
    },
    {
     "name": "stdout",
     "output_type": "stream",
     "text": [
      "input_ids shape: torch.Size([1, 59])\n",
      "Reference Summary:\n",
      "American billionaire Jeffrey Epstein is arrested and faces new charges related to alleged sex crimes involving minors.\n",
      "Predictions: \n",
      "['Jeffrey Epstein was arrested in New York on sex-trafficking charges. He was arrested on charges of sex trafficking. Epstein was a billionaire financier and convicted sex offender. He is accused of running a sex ring that allegedly involved underage girls. He has been charged']\n",
      "\n"
     ]
    },
    {
     "name": "stderr",
     "output_type": "stream",
     "text": [
      "\r",
      " 62%|██████▏   | 633/1022 [9:21:21<5:40:36, 52.54s/it]"
     ]
    },
    {
     "name": "stdout",
     "output_type": "stream",
     "text": [
      "input_ids shape: torch.Size([1, 59])\n",
      "Reference Summary:\n",
      "Fourteen people are killed and nearly 200 are injured in a suicide car bombing by the Taliban in Ghazni, Afghanistan.\n",
      "Predictions: \n",
      "['The attack took place in the Afghan capital of Kabul. The Taliban claimed responsibility for the attack. The attack came as the Taliban were holding a meeting in the city. The group was holding a peace talks with the government. The government says the attack killed at least 12 people and']\n",
      "\n"
     ]
    },
    {
     "name": "stderr",
     "output_type": "stream",
     "text": [
      "\r",
      " 62%|██████▏   | 634/1022 [9:22:19<5:50:47, 54.25s/it]"
     ]
    },
    {
     "name": "stdout",
     "output_type": "stream",
     "text": [
      "input_ids shape: torch.Size([1, 59])\n",
      "Reference Summary:\n",
      "The Jodrell Bank Observatory in Cheshire, United Kingdom, the ancient ruins of Babylon in Babil Governorate, Iraq, among other sites are designated UNESCO World Heritage Sites.\n",
      "Predictions: \n",
      "['The world heritage site is the first to be named by the United Nations. The site is located in the city of Bakersfield, in the north of the city. The city is home to the famous Bakersfields, a popular tourist destination. The world heritage list includes']\n",
      "\n"
     ]
    },
    {
     "name": "stderr",
     "output_type": "stream",
     "text": [
      "\r",
      " 62%|██████▏   | 635/1022 [9:23:16<5:55:05, 55.05s/it]"
     ]
    },
    {
     "name": "stdout",
     "output_type": "stream",
     "text": [
      "input_ids shape: torch.Size([1, 59])\n",
      "Reference Summary:\n",
      "Iran announces plans to begin enriching uranium beyond the limit set in its 2015 nuclear deal, with world powers pressing Europe to salvage the accord after the United States withdrew from it last year.\n",
      "Predictions: \n",
      "['Iranian state media: Iran is working to increase its uranium enrichment. The move is in response to a U.S. decision to limit its nuclear program. The U.N. says Iran is not in breach of the nuclear deal. Iran says it is working on a plan to']\n",
      "\n"
     ]
    },
    {
     "name": "stderr",
     "output_type": "stream",
     "text": [
      "\r",
      " 62%|██████▏   | 636/1022 [9:24:13<5:57:32, 55.58s/it]"
     ]
    },
    {
     "name": "stdout",
     "output_type": "stream",
     "text": [
      "input_ids shape: torch.Size([1, 59])\n",
      "Reference Summary:\n",
      "Citizens of Greece go to the polls to vote for the next members of the Hellenic Parliament.\n",
      "Predictions: \n",
      "[\"Greece holds a general election Sunday, called three months early by the PM. The election is called after the PM's government suffered a series of setbacks. The main candidates are all left-wing and some are pro-EU. The vote is expected to be the first since the\"]\n",
      "\n"
     ]
    },
    {
     "name": "stderr",
     "output_type": "stream",
     "text": [
      "\r",
      " 62%|██████▏   | 637/1022 [9:25:09<5:58:52, 55.93s/it]"
     ]
    },
    {
     "name": "stdout",
     "output_type": "stream",
     "text": [
      "input_ids shape: torch.Size([1, 59])\n",
      "Reference Summary:\n",
      "Leader of the Opposition Kyriakos Mitsotakis, from New Democracy, wins an absolute majority and is expected to be sworn in Prime Minister as incumbent Alexis Tsipras falls to second place. Far-right Golden Dawn loses all the seats they had in the Parliament.\n",
      "Predictions: \n",
      "[\"Greek voters have voted in a new government. The country's new government is expected to be formed by the New Democracy party. The party is led by former Prime Minister Alexis Tsipras. The Greek government is in its third term. The next election will be held on January\"]\n",
      "\n"
     ]
    },
    {
     "name": "stderr",
     "output_type": "stream",
     "text": [
      "\r",
      " 62%|██████▏   | 638/1022 [9:25:33<4:55:01, 46.10s/it]"
     ]
    },
    {
     "name": "stdout",
     "output_type": "stream",
     "text": [
      "input_ids shape: torch.Size([1, 59])\n",
      "Reference Summary:\n",
      "New leaked messages between Brazilian judge Sérgio Moro and prosecutors of Operation Car Wash show that Moro suggested they leak confidential information concerning Odebrecht's activities in Venezuela to members of the Venezuelan opposition. Some prosecutors even entertained the possibility of provoking a civil war in Venezuela over the leaks.\n",
      "Predictions: \n",
      "[\"Brazilian justice minister considered releasing Odebrecht's confession to paying bribes in Venezuela. Report: Sergio Moro considered releasing confession to harm Venezuela's president. Odebbecht is a construction giant. The Intercept is a website that covers the Brazilian justice system. It is based in\"]\n",
      "\n"
     ]
    },
    {
     "name": "stderr",
     "output_type": "stream",
     "text": [
      "\r",
      " 63%|██████▎   | 639/1022 [9:26:29<5:14:50, 49.32s/it]"
     ]
    },
    {
     "name": "stdout",
     "output_type": "stream",
     "text": [
      "input_ids shape: torch.Size([1, 59])\n",
      "Reference Summary:\n",
      "In the final match of the 2019 Women's World Cup, the United States wins 2–0 over the Netherlands. Golden Boot winner Megan Rapinoe scored on a penalty kick, followed by Rose Lavelle's strike in the 69th minute.\n",
      "Predictions: \n",
      "[\"The United States won the World Cup for the first time in its history. The U.S. beat the Netherlands 2-0 in the final. The win was the U.N.'s first in the tournament since 1998. The United States' win was their fourth World\"]\n",
      "\n"
     ]
    },
    {
     "name": "stderr",
     "output_type": "stream",
     "text": [
      "\r",
      " 63%|██████▎   | 640/1022 [9:27:26<5:28:18, 51.57s/it]"
     ]
    },
    {
     "name": "stdout",
     "output_type": "stream",
     "text": [
      "input_ids shape: torch.Size([1, 59])\n",
      "Reference Summary:\n",
      "Hosts Brazil defeat Peru 3–1 in the final match of the Copa América at the Estádio do Maracanã in Rio de Janeiro. It is their ninth title and first since 2007.\n",
      "Predictions: \n",
      "[\"Brazilian's first-ever Copa America win over Peru in the final. Brazil's first ever Copa triumph over Peru was in the second round. Brazil won the tournament in the first round in 2010. Brazil beat Argentina in the quarterfinals. Brazil lost the final in\"]\n",
      "\n"
     ]
    },
    {
     "name": "stderr",
     "output_type": "stream",
     "text": [
      "\r",
      " 63%|██████▎   | 641/1022 [9:28:23<5:37:31, 53.15s/it]"
     ]
    },
    {
     "name": "stdout",
     "output_type": "stream",
     "text": [
      "input_ids shape: torch.Size([1, 59])\n",
      "Reference Summary:\n",
      "Mexico wins their eighth Gold Cup, defeating the United States 1–0 in the final match in Chicago.\n",
      "Predictions: \n",
      "['The U.S. team is playing in the final of the CONCACAF Gold Cup. The U.N. Gold Cup is the most prestigious international tournament in the world. The final is held in Chicago. The United States is playing for the first time in the tournament']\n",
      "\n"
     ]
    },
    {
     "name": "stderr",
     "output_type": "stream",
     "text": [
      "\r",
      " 63%|██████▎   | 642/1022 [9:28:40<4:28:00, 42.32s/it]"
     ]
    },
    {
     "name": "stdout",
     "output_type": "stream",
     "text": [
      "input_ids shape: torch.Size([1, 59])\n",
      "Reference Summary:\n",
      "Spain wins its fourth title of the Eurobasket competition after defeating France in the final match.\n",
      "Predictions: \n",
      "[\"The U.S. women's team won their fourth World Cup title in France. The U.N. Women's World Cup is held in France every four years. The USA won the tournament in 2010, 2012 and 2014. The team won the World Cup in 2010 and\"]\n",
      "\n"
     ]
    },
    {
     "name": "stderr",
     "output_type": "stream",
     "text": [
      "\r",
      " 63%|██████▎   | 643/1022 [9:29:37<4:55:03, 46.71s/it]"
     ]
    },
    {
     "name": "stdout",
     "output_type": "stream",
     "text": [
      "input_ids shape: torch.Size([1, 59])\n",
      "Reference Summary:\n",
      "The United Arab Emirates announces a partial withdrawal of its forces from Yemen as part of a \"strategic redeployment\".\n",
      "Predictions: \n",
      "[\"UAE has drawn down its troops in Yemen in a 'strategic redeployment' The United Arab Emirates has drawn up its troop levels in Yemen. The move is part of a larger effort to reduce the country's military presence in the region. The UAE has been involved\"]\n",
      "\n"
     ]
    },
    {
     "name": "stderr",
     "output_type": "stream",
     "text": [
      "\r",
      " 63%|██████▎   | 644/1022 [9:30:33<5:12:38, 49.63s/it]"
     ]
    },
    {
     "name": "stdout",
     "output_type": "stream",
     "text": [
      "input_ids shape: torch.Size([1, 56])\n",
      "Reference Summary:\n",
      "Deutsche Bank announces lay-offs – roughly 18,000 job cuts – around the globe as part of a \"reinvention\", scrapping its global equities and cutting its fixed income operations.\n",
      "Predictions: \n",
      "['Deutsche Bank to cut its global banking operations. The bank is also cutting its global investment banking operations, which have been in trouble. The move is part of a plan to cut costs and improve profitability. The company is also looking to cut back on its international operations.']\n",
      "\n"
     ]
    },
    {
     "name": "stderr",
     "output_type": "stream",
     "text": [
      "\r",
      " 63%|██████▎   | 645/1022 [9:31:30<5:25:05, 51.74s/it]"
     ]
    },
    {
     "name": "stdout",
     "output_type": "stream",
     "text": [
      "input_ids shape: torch.Size([1, 59])\n",
      "Reference Summary:\n",
      "Flash flooding in Washington, D.C. delivers a month's worth of rain on the local area in the span of an hour. The torrential rain leaves commuters stranded on car rooftops, floods several metro stations and causes flooding in the White House.\n",
      "Predictions: \n",
      "['The National Weather Service has issued a flood warning for the Washington area. The National Weather service has issued an emergency flood warning. The storm is expected to last until Tuesday. The weather service has also issued a flash flood warning in the area. It is the second time in a']\n",
      "\n"
     ]
    },
    {
     "name": "stderr",
     "output_type": "stream",
     "text": [
      "\r",
      " 63%|██████▎   | 646/1022 [9:32:27<5:33:44, 53.26s/it]"
     ]
    },
    {
     "name": "stdout",
     "output_type": "stream",
     "text": [
      "input_ids shape: torch.Size([1, 59])\n",
      "Reference Summary:\n",
      "African leaders agree on a continent-wide free trade zone, which encompasses all African nations except for Eritrea and Somaliland. The various European territories located in Africa are also excluded. It will be the largest free trade zone since the creation of the World Trade Organization.\n",
      "Predictions: \n",
      "[\"African leaders to launch a free trade zone in Africa. The African Continental Free Trade Area is expected to be a huge economic opportunity. The zone is expected in the region's largest market of $3.4 trillion. The region is expected by the African Union to be open to\"]\n",
      "\n"
     ]
    },
    {
     "name": "stderr",
     "output_type": "stream",
     "text": [
      "\r",
      " 63%|██████▎   | 647/1022 [9:33:24<5:39:36, 54.34s/it]"
     ]
    },
    {
     "name": "stdout",
     "output_type": "stream",
     "text": [
      "input_ids shape: torch.Size([1, 59])\n",
      "Reference Summary:\n",
      "The International Criminal Court declares Bosco Ntaganda guilty of having committed war crimes during the Ituri conflict in the Democratic Republic of the Congo.\n",
      "Predictions: \n",
      "['International Criminal Court convicts Congo rebel leader of war crimes. Congo rebel commander convicted of crimes against humanity, war crimes, crimes against Humanity. He was convicted of war crime, crimes of war against humanity and crimes against the humanity. He is also convicted of murder, rape and']\n",
      "\n"
     ]
    },
    {
     "name": "stderr",
     "output_type": "stream",
     "text": [
      "\r",
      " 63%|██████▎   | 648/1022 [9:34:21<5:43:53, 55.17s/it]"
     ]
    },
    {
     "name": "stdout",
     "output_type": "stream",
     "text": [
      "input_ids shape: torch.Size([1, 59])\n",
      "Reference Summary:\n",
      "Winner of the general election Kyriakos Mitsotakis is sworn in as the new Prime Minister of Greece, succeeding Alexis Tsipras.\n",
      "Predictions: \n",
      "[\"Greek PM Alexis Tsipras is set to be sworn in as prime minister. He is expected to be the country's first left-wing leader in more than a decade. The Greek election is the first since the country was left in a bailout program. The country is expected\"]\n",
      "\n"
     ]
    },
    {
     "name": "stderr",
     "output_type": "stream",
     "text": [
      "\r",
      " 64%|██████▎   | 649/1022 [9:35:18<5:46:03, 55.67s/it]"
     ]
    },
    {
     "name": "stdout",
     "output_type": "stream",
     "text": [
      "input_ids shape: torch.Size([1, 59])\n",
      "Reference Summary:\n",
      "New York Governor Andrew Cuomo signs a bill that will allow congressional committees to access President Donald Trump's state tax returns.\n",
      "Predictions: \n",
      "[\"New York Gov. Andrew Cuomo signs bill that would allow for the release of Trump's tax returns. The bill would allow the president to have his tax returns released to the public. The measure would also allow the state to share information with the federal government. The law would also\"]\n",
      "\n"
     ]
    },
    {
     "name": "stderr",
     "output_type": "stream",
     "text": [
      "\r",
      " 64%|██████▎   | 650/1022 [9:36:15<5:47:27, 56.04s/it]"
     ]
    },
    {
     "name": "stdout",
     "output_type": "stream",
     "text": [
      "input_ids shape: torch.Size([1, 58])\n",
      "Reference Summary:\n",
      "Pope Francis names for first time in Vatican history female members of the Congregation for Institutes of Consecrated Life and Societies of Apostolic Life.\n",
      "Predictions: \n",
      "['Pope Francis says he will not tolerate the use of the word \"no\" in the Church. He will not allow the use in the church of the term \"no,\" which means \"no.\" He will also not allow use of \"no\", which means the use \"no\".']\n",
      "\n"
     ]
    },
    {
     "name": "stderr",
     "output_type": "stream",
     "text": [
      "\r",
      " 64%|██████▎   | 651/1022 [9:36:51<5:10:53, 50.28s/it]"
     ]
    },
    {
     "name": "stdout",
     "output_type": "stream",
     "text": [
      "input_ids shape: torch.Size([1, 56])\n",
      "Reference Summary:\n",
      "Argentine President Mauricio Macri issues a decree declaring Hezbollah a \"terrorist organization\".\n",
      "Predictions: \n",
      "[\"Argentine President Mauricio Macri has been in power since his election in 2010. He is the son of former President Fernando de la Rua. He was a former president of Argentina. He has been a key figure in the country's political process.\"]\n",
      "\n"
     ]
    },
    {
     "name": "stderr",
     "output_type": "stream",
     "text": [
      "\r",
      " 64%|██████▍   | 652/1022 [9:37:49<5:23:04, 52.39s/it]"
     ]
    },
    {
     "name": "stdout",
     "output_type": "stream",
     "text": [
      "input_ids shape: torch.Size([1, 59])\n",
      "Reference Summary:\n",
      "U.S. billionaire Tom Steyer announces his run for nomination by the United States Democratic Party in the 2020 United States presidential election.\n",
      "Predictions: \n",
      "[\"The billionaire activist is a Democratic presidential candidate. He has been a thorn in the side of President Obama. He is a former Democratic presidential hopeful. He's now running for president. He says he's not running for the White House. He will run for president in 2020.\"]\n",
      "\n"
     ]
    },
    {
     "name": "stderr",
     "output_type": "stream",
     "text": [
      "\r",
      " 64%|██████▍   | 653/1022 [9:38:46<5:30:18, 53.71s/it]"
     ]
    },
    {
     "name": "stdout",
     "output_type": "stream",
     "text": [
      "input_ids shape: torch.Size([1, 59])\n",
      "Reference Summary:\n",
      "Assailants raid a village in Papua New Guinea's Hela province, killing and dismembering 16 women and children, and burning buildings.\n",
      "Predictions: \n",
      "[\"Papua New Guinea's tribal violence kills at least 20 people, including women and children. The victims were killed in a tribal war in the country's highlands. The violence is believed to have been sparked by a dispute over land rights. The government has vowed to crack\"]\n",
      "\n"
     ]
    },
    {
     "name": "stderr",
     "output_type": "stream",
     "text": [
      "\r",
      " 64%|██████▍   | 654/1022 [9:39:42<5:35:19, 54.67s/it]"
     ]
    },
    {
     "name": "stdout",
     "output_type": "stream",
     "text": [
      "input_ids shape: torch.Size([1, 59])\n",
      "Reference Summary:\n",
      "Three or five of Iran's IRGC Navy gunboats unsuccessfully attempt to seize control of British oil tanker British Heritage in the Persian Gulf, according to UK's Ministry of Defense as well as two anonymous U.S. officials. The Royal Navy's HMS Montrose reportedly warns the boats to back away from the BP Shipping-owned tanker, which they do. The incident is allegedly captured on a U.S. aircraft's camera.\n",
      "Predictions: \n",
      "['Iranian ships were reportedly trying to stop a British oil tanker in the Gulf of Oman. The incident occurred in the Strait of Hormuz. The British ship was carrying oil from the Persian Gulf to the Red Sea. The Iranian ship was reportedly carrying a cargo of crude oil']\n",
      "\n"
     ]
    },
    {
     "name": "stderr",
     "output_type": "stream",
     "text": [
      "\r",
      " 64%|██████▍   | 655/1022 [9:40:39<5:38:21, 55.32s/it]"
     ]
    },
    {
     "name": "stdout",
     "output_type": "stream",
     "text": [
      "input_ids shape: torch.Size([1, 59])\n",
      "Reference Summary:\n",
      "An unexpected violent storm hits the Greek region of Halkidiki with heavy rain, hail, and strong winds, killing six foreign tourists.\n",
      "Predictions: \n",
      "['The storm hit the northern Greek island of Halkidiki on Wednesday. The storm was the worst storm to hit the area in more than a decade. The weather was blamed for the deaths of at least six people. The area is popular with tourists and is popular among Greek']\n",
      "\n"
     ]
    },
    {
     "name": "stderr",
     "output_type": "stream",
     "text": [
      "\r",
      " 64%|██████▍   | 656/1022 [9:41:36<5:40:20, 55.80s/it]"
     ]
    },
    {
     "name": "stdout",
     "output_type": "stream",
     "text": [
      "input_ids shape: torch.Size([1, 59])\n",
      "Reference Summary:\n",
      "Sir Kim Darroch, the United Kingdom's ambassador to the United States, resigns his appointment amid public disagreements with U.S. President Donald Trump initiated by a series of leaked diplomatic cables in which the ambassador criticized the president, and will leave the post upon the appointment of his successor.\n",
      "Predictions: \n",
      "[\"The UK ambassador to the U.S. has been in the spotlight after a series of controversial comments. The U.K. ambassador to U.N. has said he is 'disappointed' in the U.,S. President Donald Trump. The UK ambassador has been\"]\n",
      "\n"
     ]
    },
    {
     "name": "stderr",
     "output_type": "stream",
     "text": [
      "\r",
      " 64%|██████▍   | 657/1022 [9:42:33<5:41:33, 56.15s/it]"
     ]
    },
    {
     "name": "stdout",
     "output_type": "stream",
     "text": [
      "input_ids shape: torch.Size([1, 59])\n",
      "Reference Summary:\n",
      "Serbian Defense Minister Aleksandar Vulin is banned from entering Kosovo.\n",
      "Predictions: \n",
      "[\"Serbia's defense minister says he has been banned from entering Kosovo. He says he will not be allowed to enter Kosovo. The minister is known for his pro-Russian stance. He has been in Kosovo since 2008. The two countries have been at odds over Kosovo's membership in NATO\"]\n",
      "\n"
     ]
    },
    {
     "name": "stderr",
     "output_type": "stream",
     "text": [
      "\r",
      " 64%|██████▍   | 658/1022 [9:43:30<5:42:03, 56.38s/it]"
     ]
    },
    {
     "name": "stdout",
     "output_type": "stream",
     "text": [
      "input_ids shape: torch.Size([1, 59])\n",
      "Reference Summary:\n",
      "The U.S. Court of Appeals for the Fourth Circuit dismisses a lawsuit by the state of Maryland and the District of Columbia against President Donald Trump, citing lack of legal standing in challenging payments to President Trump's private properties by foreign customers.\n",
      "Predictions: \n",
      "[\"The president's Twitter account was hacked in June. The White House says the account was used to make a political statement. The president's tweets were hacked by a hacker. The hacker was trying to get a government contractor to hack into the account. The government says the hack was\"]\n",
      "\n"
     ]
    },
    {
     "name": "stderr",
     "output_type": "stream",
     "text": [
      "\r",
      " 64%|██████▍   | 659/1022 [9:44:27<5:42:13, 56.57s/it]"
     ]
    },
    {
     "name": "stdout",
     "output_type": "stream",
     "text": [
      "input_ids shape: torch.Size([1, 59])\n",
      "Reference Summary:\n",
      "Paleoanthropologists announce, through the Nature journal, that a human skull (Apidima 1) discovered inside a cave in Greece, is dated to 210,000 years ago, making it the oldest known Homo sapiens individual found outside of Africa.\n",
      "Predictions: \n",
      "['The skull is the earliest known example of a human skull found outside of Africa. It was found in a cave in southern Greece. The discovery is the first time a human remains has been found outside Africa. The skull is believed to be more than 200,000 years old.']\n",
      "\n"
     ]
    },
    {
     "name": "stderr",
     "output_type": "stream",
     "text": [
      "\r",
      " 65%|██████▍   | 660/1022 [9:45:24<5:41:57, 56.68s/it]"
     ]
    },
    {
     "name": "stdout",
     "output_type": "stream",
     "text": [
      "input_ids shape: torch.Size([1, 59])\n",
      "Reference Summary:\n",
      "New Zealand defeats India in the first semi-final of the Cricket World Cup.\n",
      "Predictions: \n",
      "[\"India vs New Zealand World Cup semi-final is a repeat of the final in 2007. India won the final by eight wickets. India beat New Zealand by eight runs in the quarter-final. India's win over New Zealand was their first World Cup win since 2007.\"]\n",
      "\n"
     ]
    },
    {
     "name": "stderr",
     "output_type": "stream",
     "text": [
      "\r",
      " 65%|██████▍   | 661/1022 [9:46:21<5:41:39, 56.79s/it]"
     ]
    },
    {
     "name": "stdout",
     "output_type": "stream",
     "text": [
      "input_ids shape: torch.Size([1, 59])\n",
      "Reference Summary:\n",
      "The 27th annual ESPY Awards are held in the Microsoft Theater in Los Angeles, California. The United States women's national soccer team wins the Outstanding Team Award for their 2019 FIFA Women's World Cup victory, Giannis Antetokounmpo wins the Best Male Athlete Award, Alex Morgan wins the Best Female Athlete Award, and Saquon Barkley wins the Breakthrough Athlete of the Year Award.\n",
      "Predictions: \n",
      "[\"The U.S. women's soccer team won the World Cup. The team was also awarded the best team award. The U.N. Women's World Cup team won a gold medal. The World Cup was held in Brazil. The United States won the gold medal in\"]\n",
      "\n"
     ]
    },
    {
     "name": "stderr",
     "output_type": "stream",
     "text": [
      "\r",
      " 65%|██████▍   | 662/1022 [9:47:18<5:41:13, 56.87s/it]"
     ]
    },
    {
     "name": "stdout",
     "output_type": "stream",
     "text": [
      "input_ids shape: torch.Size([1, 59])\n",
      "Reference Summary:\n",
      "Four people are killed and over 30 injured in a car bomb attack at a funeral for a senior Libyan National Army commander in Benghazi.\n",
      "Predictions: \n",
      "[\"Car bomb explodes near a group of Libyan soldiers, killing four people. The blast occurred in the eastern city of Benghazi. The dead include a group led by a former military leader. The wounded are also being treated at a hospital. The attack took place in the city's eastern\"]\n",
      "\n"
     ]
    },
    {
     "name": "stderr",
     "output_type": "stream",
     "text": [
      "\r",
      " 65%|██████▍   | 663/1022 [9:48:15<5:39:46, 56.79s/it]"
     ]
    },
    {
     "name": "stdout",
     "output_type": "stream",
     "text": [
      "input_ids shape: torch.Size([1, 57])\n",
      "Reference Summary:\n",
      "A car bomb detonates in a Turkey-backed rebel city, Afrin, near the entrance, killing 11 and injuring over 30 badly.\n",
      "Predictions: \n",
      "[\"Car bomb kills 11 people in Syria's rebel-held Afrin, medical sources say. Car bomb explodes in Syrian city of Afrin. The city is in the hands of Turkish-backed rebels. The Syrian city was captured by Turkish- backed rebels last year.\"]\n",
      "\n"
     ]
    },
    {
     "name": "stderr",
     "output_type": "stream",
     "text": [
      "\r",
      " 65%|██████▍   | 664/1022 [9:48:43<4:48:09, 48.30s/it]"
     ]
    },
    {
     "name": "stdout",
     "output_type": "stream",
     "text": [
      "input_ids shape: torch.Size([1, 59])\n",
      "Reference Summary:\n",
      "Another car bomb detonates in the city of Qamishli near a church, injuring 11. The Islamic State claimed responsibility.\n",
      "Predictions: \n",
      "['Car bomb explodes near church in Qamishli, Syria. Car bomb explodes in the Kurdish-majority city of Qamisli. Car explodes near a church in the city of\\xa0Qamishl, Syria, on Thursday. Car bombs explode near church, killing']\n",
      "\n"
     ]
    },
    {
     "name": "stderr",
     "output_type": "stream",
     "text": [
      "\r",
      " 65%|██████▌   | 665/1022 [9:49:40<5:02:22, 50.82s/it]"
     ]
    },
    {
     "name": "stdout",
     "output_type": "stream",
     "text": [
      "input_ids shape: torch.Size([1, 56])\n",
      "Reference Summary:\n",
      "Louisiana Governor John Bel Edwards declares a state of emergency as Tropical Storm Barry makes unprecedented levels of rainfall on Louisiana, Mississippi, Alabama and the western Florida Panhandle.\n",
      "Predictions: \n",
      "['Tropical Storm Barry is expected to make landfall in Louisiana on Friday. The storm is expected in the Gulf of Mexico. The hurricane is expected not to make a direct hit on the U.S. mainland. The National Weather Service is monitoring the storm.']\n",
      "\n"
     ]
    },
    {
     "name": "stderr",
     "output_type": "stream",
     "text": [
      "\r",
      " 65%|██████▌   | 666/1022 [9:50:37<5:12:11, 52.62s/it]"
     ]
    },
    {
     "name": "stdout",
     "output_type": "stream",
     "text": [
      "input_ids shape: torch.Size([1, 59])\n",
      "Reference Summary:\n",
      "Seven people, including six foreign tourists, are killed and 100 others injured during a violent storm that swept across Thessaloniki, Greece.\n",
      "Predictions: \n",
      "['The storm hit northern Greece on Wednesday, killing at least six people. The storm hit the northern Greek island of Halkidiki. The dead include two children and two adults. The weather was blamed for the deaths. The Greek government has declared a state of emergency in the']\n",
      "\n"
     ]
    },
    {
     "name": "stderr",
     "output_type": "stream",
     "text": [
      "\r",
      " 65%|██████▌   | 667/1022 [9:51:34<5:18:55, 53.90s/it]"
     ]
    },
    {
     "name": "stdout",
     "output_type": "stream",
     "text": [
      "input_ids shape: torch.Size([1, 59])\n",
      "Reference Summary:\n",
      "British right-wing activist Tommy Robinson is sentenced to nine months in prison for contempt of court — minus time served equals about another 10 weeks in prison. Supporters attacked police and journalists following the court proceedings. Police say no new arrests were made.\n",
      "Predictions: \n",
      "['Tommy Robinson was jailed for contempt of court for a video he posted on YouTube. The video was posted on the site of a criminal trial in London. The footage was posted by the English Defence League (EDL) on YouTube in April. The EDL is a group']\n",
      "\n"
     ]
    },
    {
     "name": "stderr",
     "output_type": "stream",
     "text": [
      "\r",
      " 65%|██████▌   | 668/1022 [9:52:31<5:24:09, 54.94s/it]"
     ]
    },
    {
     "name": "stdout",
     "output_type": "stream",
     "text": [
      "input_ids shape: torch.Size([1, 56])\n",
      "Reference Summary:\n",
      "American R&B singer R. Kelly is arrested in Chicago on federal sex crime charges.\n",
      "Predictions: \n",
      "['R. Kelly is accused of sexually abusing girls and women. He was arrested in Chicago on Thursday. He is accused in a federal indictment of sexually assaulting girls and young women. The charges are related to alleged sexual abuse of girls and boys. He has denied the allegations.']\n",
      "\n"
     ]
    },
    {
     "name": "stderr",
     "output_type": "stream",
     "text": [
      "\r",
      " 65%|██████▌   | 669/1022 [9:53:29<5:27:48, 55.72s/it]"
     ]
    },
    {
     "name": "stdout",
     "output_type": "stream",
     "text": [
      "input_ids shape: torch.Size([1, 59])\n",
      "Reference Summary:\n",
      "JAXA's Hayabusa2 space probe makes its second successful and final landing on Apollo asteroid 162173 Ryugu.\n",
      "Predictions: \n",
      "[\"Japan's space agency says it has landed on a distant asteroid. The Hayabusa2 spacecraft is expected to collect samples from the asteroid. It is expected that the samples will be used to help scientists understand the origin of the solar system. The asteroid is believed to be around\"]\n",
      "\n"
     ]
    },
    {
     "name": "stderr",
     "output_type": "stream",
     "text": [
      "\r",
      " 66%|██████▌   | 670/1022 [9:54:25<5:28:53, 56.06s/it]"
     ]
    },
    {
     "name": "stdout",
     "output_type": "stream",
     "text": [
      "input_ids shape: torch.Size([1, 56])\n",
      "Reference Summary:\n",
      "A car bomb and a gun attack kill at least 26, including two prominent journalists and nine foreigners, in Kismayo, Somalia.\n",
      "Predictions: \n",
      "['Somali authorities say at least 26 people were killed in the attack. The attack took place in the Somali city of Kismayo. The victims were killed by a group of militants who stormed a hotel. The attackers were believed to be Somali militants.']\n",
      "\n"
     ]
    },
    {
     "name": "stderr",
     "output_type": "stream",
     "text": [
      "\r",
      " 66%|██████▌   | 671/1022 [9:55:22<5:29:11, 56.27s/it]"
     ]
    },
    {
     "name": "stdout",
     "output_type": "stream",
     "text": [
      "input_ids shape: torch.Size([1, 57])\n",
      "Reference Summary:\n",
      "A suicide bomber kills nine people and injures 40 others at a wedding in the Nangarhar Province in Afghanistan. The bomber is believed to be a minor.\n",
      "Predictions: \n",
      "['A suicide bomber kills five people and injures 11 others at a wedding in eastern Afghanistan. The attack took place in the eastern province of Nangarhar. The bomber was a 13-year-old boy. The Taliban have not claimed responsibility for the attack.']\n",
      "\n"
     ]
    },
    {
     "name": "stderr",
     "output_type": "stream",
     "text": [
      "\r",
      " 66%|██████▌   | 672/1022 [9:56:20<5:30:11, 56.60s/it]"
     ]
    },
    {
     "name": "stdout",
     "output_type": "stream",
     "text": [
      "input_ids shape: torch.Size([1, 59])\n",
      "Reference Summary:\n",
      "The Venezuelan government arrests two members of disputed Interim President Juan Guaidó's personal security. The government claims that the pair were trying to sell weapons stolen from the national army and organising the failed coup attempt on 30 April. The opposition denies the weapons charges.\n",
      "Predictions: \n",
      "[\"Venezuelan authorities arrest 2 Guaidó security guards. The arrests come as the two sides hold talks aimed at finding a solution to the crisis. The two guards are members of opposition leader Juan Guaido's security team. The U.S. has backed Guaidón,\"]\n",
      "\n"
     ]
    },
    {
     "name": "stderr",
     "output_type": "stream",
     "text": [
      "\r",
      " 66%|██████▌   | 673/1022 [9:57:16<5:29:31, 56.65s/it]"
     ]
    },
    {
     "name": "stdout",
     "output_type": "stream",
     "text": [
      "input_ids shape: torch.Size([1, 59])\n",
      "Reference Summary:\n",
      "Turkey receives its first shipment of the S-400 missile system from Russia, defying U.S. and NATO calls to cancel the deal.\n",
      "Predictions: \n",
      "['The Russian missile system is part of a new military alliance with Turkey. The deal is part a deal to buy Russian-made S-400 missile systems. The U.S. has been trying to get the system for years. The S- 400 is a Russian-built']\n",
      "\n"
     ]
    },
    {
     "name": "stderr",
     "output_type": "stream",
     "text": [
      "\r",
      " 66%|██████▌   | 674/1022 [9:58:13<5:28:57, 56.72s/it]"
     ]
    },
    {
     "name": "stdout",
     "output_type": "stream",
     "text": [
      "input_ids shape: torch.Size([1, 59])\n",
      "Reference Summary:\n",
      "U.S. Secretary of Labor Alexander Acosta announces his resignation from office amid growing public criticism over his past role in securing a 2008 plea deal for former financier Jeffrey Epstein, after Epstein was arrested and charged with sex trafficking of minors. He is to be replaced by Acting Secretary Patrick Pizzella effective July 19.\n",
      "Predictions: \n",
      "['The former Florida governor is accused of sexually abusing underage girls. He is accused in a case involving a sex scandal involving a New York City nightclub. He has been accused of using his position to gain access to the children of wealthy donors. He was arrested in 2008 and charged with']\n",
      "\n"
     ]
    },
    {
     "name": "stderr",
     "output_type": "stream",
     "text": [
      "\r",
      " 66%|██████▌   | 675/1022 [9:58:19<4:00:18, 41.55s/it]"
     ]
    },
    {
     "name": "stdout",
     "output_type": "stream",
     "text": [
      "input_ids shape: torch.Size([1, 59])\n",
      "Reference Summary:\n",
      "A U.S. soldier is also killed in a separate bombing in Wardak Province.\n",
      "Predictions: \n",
      "['The Taliban claim responsibility for the attack on a US service member. The attack comes as the US and Afghanistan try to forge a peace deal. The US soldier is the 10th member of the US military to be killed in Afghanistan. The Taliban claim to have killed at least four']\n",
      "\n"
     ]
    },
    {
     "name": "stderr",
     "output_type": "stream",
     "text": [
      "\r",
      " 66%|██████▌   | 676/1022 [9:59:16<4:25:52, 46.11s/it]"
     ]
    },
    {
     "name": "stdout",
     "output_type": "stream",
     "text": [
      "input_ids shape: torch.Size([1, 59])\n",
      "Reference Summary:\n",
      "Four policemen kill a suspect attempting to attack an ICE immigrant detention center in Tacoma, Washington. The perpetrator was armed with a rifle and incendiary devices, and had left a three-page manifesto advocating political violence  (BBC) (Heavy)\n",
      "Predictions: \n",
      "['Man was shot dead after he threw incendiary devices at an immigration detention center. He was armed with a rifle, police say. The man was shot by police after he allegedly threw the devices at the detention center in Tacoma, Washington. The incident occurred at an immigrant detention center on']\n",
      "\n"
     ]
    },
    {
     "name": "stderr",
     "output_type": "stream",
     "text": [
      "\r",
      " 66%|██████▌   | 677/1022 [10:00:13<4:43:22, 49.28s/it]"
     ]
    },
    {
     "name": "stdout",
     "output_type": "stream",
     "text": [
      "input_ids shape: torch.Size([1, 59])\n",
      "Reference Summary:\n",
      "A blackout in New York City affects 42,000 people near Times Square.\n",
      "Predictions: \n",
      "[\"The power outage was caused by a transformer explosion in the city's East River. The blackout was the first in New York City since the city was hit by a massive blackout in the 1970s. The outage was blamed on a transformer that exploded in the East River, causing a\"]\n",
      "\n"
     ]
    },
    {
     "name": "stderr",
     "output_type": "stream",
     "text": [
      "\r",
      " 66%|██████▋   | 678/1022 [10:01:09<4:55:13, 51.49s/it]"
     ]
    },
    {
     "name": "stdout",
     "output_type": "stream",
     "text": [
      "input_ids shape: torch.Size([1, 59])\n",
      "Reference Summary:\n",
      "Three days of heavy rain in Nepal trigger floods and landslides resulting in at least 67 deaths. India was also affected by heavy floods, resulting in the death of 34 people, while 29 others died in Bangladesh.\n",
      "Predictions: \n",
      "[\"Floods and landslides in Nepal have killed at least 43 people. More than a dozen people have been killed in the country's north. The floods and landslide were triggered by heavy rains. The death toll is expected to rise. The disaster is also reported in India\"]\n",
      "\n"
     ]
    },
    {
     "name": "stderr",
     "output_type": "stream",
     "text": [
      "\r",
      " 66%|██████▋   | 679/1022 [10:02:06<5:03:26, 53.08s/it]"
     ]
    },
    {
     "name": "stdout",
     "output_type": "stream",
     "text": [
      "input_ids shape: torch.Size([1, 59])\n",
      "Reference Summary:\n",
      "U.S. Vice President Mike Pence says the conditions under which asylum seekers are being held in facilities along the U.S. border with Mexico are unacceptable, after visiting two federal detention centers in Texas, remaining the highest-ranking member of the Trump administration to say so. He calls upon the U.S. Congress to act.\n",
      "Predictions: \n",
      "['Vice President Mike Pence visited a border detention center in Texas on Friday. He was there to see the conditions of the migrant children held there. He said the conditions were \"tough\" and \"unacceptable\" The men were held in cages with no beds, and some were']\n",
      "\n"
     ]
    },
    {
     "name": "stderr",
     "output_type": "stream",
     "text": [
      "\r",
      " 67%|██████▋   | 680/1022 [10:03:03<5:08:56, 54.20s/it]"
     ]
    },
    {
     "name": "stdout",
     "output_type": "stream",
     "text": [
      "input_ids shape: torch.Size([1, 59])\n",
      "Reference Summary:\n",
      "Simona Halep defeats Serena Williams (6–2, 6–2) to win the 2019 Wimbledon women's singles championship, her first Wimbledon victory and her second Grand Slam singles title. Williams was attempting to equal Margaret Court's all-time record of 24 Grand Slam singles titles.\n",
      "Predictions: \n",
      "['Serena Williams is the defending champion at Wimbledon. She is the first American woman to win the title since Martina Navratilova in 1996. The 23-year-old beat Maria Sharapova in the final in straight sets. She was the first woman']\n",
      "\n"
     ]
    },
    {
     "name": "stderr",
     "output_type": "stream",
     "text": [
      "\r",
      " 67%|██████▋   | 681/1022 [10:04:00<5:12:22, 54.96s/it]"
     ]
    },
    {
     "name": "stdout",
     "output_type": "stream",
     "text": [
      "input_ids shape: torch.Size([1, 59])\n",
      "Reference Summary:\n",
      "A GippsAero GA8 Airvan sky diving operation plane crashes on an island outside Umeå, Sweden, killing all nine people onboard.\n",
      "Predictions: \n",
      "['Small plane carrying parachutists crashes in Sweden, killing all nine on board. Plane was carrying nine people on a training flight from Stockholm to Umea. Plane crashed in northern Sweden. All nine people aboard were killed. The crash happened in the early hours of Sunday morning']\n",
      "\n"
     ]
    },
    {
     "name": "stderr",
     "output_type": "stream",
     "text": [
      "\r",
      " 67%|██████▋   | 682/1022 [10:04:57<5:15:07, 55.61s/it]"
     ]
    },
    {
     "name": "stdout",
     "output_type": "stream",
     "text": [
      "input_ids shape: torch.Size([1, 59])\n",
      "Reference Summary:\n",
      "The European Union's Galileo satellite navigation system suffers a major outage due to a \"technical incident related to its ground infrastructure,\" taking all active Galileo satellites offline.\n",
      "Predictions: \n",
      "[\"The European Union's Galileo satellite navigation system has been out of action since Friday. The system is the world's largest satellite navigation network. The European Union says the system is still working but is experiencing problems. The problem is believed to be related to a technical fault in the system\"]\n",
      "\n"
     ]
    },
    {
     "name": "stderr",
     "output_type": "stream",
     "text": [
      "\r",
      " 67%|██████▋   | 683/1022 [10:05:54<5:16:28, 56.01s/it]"
     ]
    },
    {
     "name": "stdout",
     "output_type": "stream",
     "text": [
      "input_ids shape: torch.Size([1, 59])\n",
      "Reference Summary:\n",
      "In the men's singles final match, Serbian Novak Djokovic beats Swiss Roger Federer in five sets for his 16th Grand Slam title win in a match that lasted four hours and 56 minutes. It was the longest Wimbledon final of all time, and also the first men's singles final in any of the four Grand Slam events that went to a fifth-set tiebreaker.\n",
      "Predictions: \n",
      "['The Swiss star is the defending champion and has won the title three times. He has won three titles in the last four years at Wimbledon. He is bidding to win his fifth title at the All England Club in London. The Swiss has won two titles at Wim Wimbledon']\n",
      "\n"
     ]
    },
    {
     "name": "stderr",
     "output_type": "stream",
     "text": [
      "\r",
      " 67%|██████▋   | 684/1022 [10:06:51<5:16:53, 56.25s/it]"
     ]
    },
    {
     "name": "stdout",
     "output_type": "stream",
     "text": [
      "input_ids shape: torch.Size([1, 59])\n",
      "Reference Summary:\n",
      "England beats New Zealand in the 2019 Cricket World Cup Final on total boundaries after both regulation play and a super over end in a tie.\n",
      "Predictions: \n",
      "[\"England beat New Zealand in the final of the Cricket World Cup. England won the tournament for the first time in their history. England's win was their first since the World Cup in 1996. England have won the World cup three times in their last four attempts. England beat New Zealander\"]\n",
      "\n"
     ]
    },
    {
     "name": "stderr",
     "output_type": "stream",
     "text": [
      "\r",
      " 67%|██████▋   | 685/1022 [10:07:47<5:16:43, 56.39s/it]"
     ]
    },
    {
     "name": "stdout",
     "output_type": "stream",
     "text": [
      "input_ids shape: torch.Size([1, 58])\n",
      "Reference Summary:\n",
      "A police raid on a neo-Nazi group in northern Italy results in the arrest of three people. Sophisticated weaponry, including a Matra Super 530F air-to-air missile, are seized during the operation.\n",
      "Predictions: \n",
      "['Police seize weapons, missile, Nazi plaques and Nazi symbols in northern Italy. Police say they are searching for a man linked to a neo-fascist group. The three men were arrested in the city of Turin. Police also seized a missile and Nazi plaque.']\n",
      "\n"
     ]
    },
    {
     "name": "stderr",
     "output_type": "stream",
     "text": [
      "\r",
      " 67%|██████▋   | 686/1022 [10:07:53<3:51:08, 41.27s/it]"
     ]
    },
    {
     "name": "stdout",
     "output_type": "stream",
     "text": [
      "input_ids shape: torch.Size([1, 59])\n",
      "Reference Summary:\n",
      "Syrian government airstrikes targeting residential areas in the towns of Jisr al-Shughur, Khan Shaykhun, Maar Shoreen, Hantoteen and Ain Al Bardeh in Idlib province, kill at least nine civilians and injure 14 others.\n",
      "Predictions: \n",
      "['Syrian regime airstrikes kill 9 in Idlib de-escalation zone. At least 14 people were injured in the attacks. The attacks targeted residential areas in the towns of Jisr al-Shughur and Jisreh. The area is in the de-Escal']\n",
      "\n"
     ]
    },
    {
     "name": "stderr",
     "output_type": "stream",
     "text": [
      "\r",
      " 67%|██████▋   | 687/1022 [10:08:50<4:15:42, 45.80s/it]"
     ]
    },
    {
     "name": "stdout",
     "output_type": "stream",
     "text": [
      "input_ids shape: torch.Size([1, 56])\n",
      "Reference Summary:\n",
      "American musician R. Kelly pleads not guilty to federal sex-assault charges but is denied bail.\n",
      "Predictions: \n",
      "['R. Kelly is accused of sexually assaulting several women. He is accused in a federal court in Chicago. He has pleaded not guilty. The singer is accused by the federal government of sexually abusing several women, including two women in his home. He was arrested in May.']\n",
      "\n"
     ]
    },
    {
     "name": "stderr",
     "output_type": "stream",
     "text": [
      "\r",
      " 67%|██████▋   | 688/1022 [10:09:46<4:33:03, 49.05s/it]"
     ]
    },
    {
     "name": "stdout",
     "output_type": "stream",
     "text": [
      "input_ids shape: torch.Size([1, 57])\n",
      "Reference Summary:\n",
      "The European Parliament elects Ursula von der Leyen of Germany as the new President of the European Commission. Succeeding Jean-Claude Juncker, she will be sworn in on 1 November 2019. She is the first woman to be elected to this office in EU history.\n",
      "Predictions: \n",
      "[\"Ursula von der Leyen is the German government's top official in charge of the European Commission. She is the first woman to be confirmed as the European Commissioner. She will be the first German to hold the post since the European Parliament was created in 2004.\"]\n",
      "\n"
     ]
    },
    {
     "name": "stderr",
     "output_type": "stream",
     "text": [
      "\r",
      " 67%|██████▋   | 689/1022 [10:10:43<4:44:56, 51.34s/it]"
     ]
    },
    {
     "name": "stdout",
     "output_type": "stream",
     "text": [
      "input_ids shape: torch.Size([1, 59])\n",
      "Reference Summary:\n",
      "Christine Lagarde announces that she will step down as managing director of the International Monetary Fund on 12 September 2019.\n",
      "Predictions: \n",
      "[\"Lagarde says she has been offered the job of head of the European Central Bank. She says she will step down after the IMF's annual meeting in Washington on July 31. Lagarde says her resignation will be announced on July 30. She will be replaced by the European\"]\n",
      "\n"
     ]
    },
    {
     "name": "stderr",
     "output_type": "stream",
     "text": [
      "\r",
      " 68%|██████▊   | 690/1022 [10:11:40<4:53:21, 53.02s/it]"
     ]
    },
    {
     "name": "stdout",
     "output_type": "stream",
     "text": [
      "input_ids shape: torch.Size([1, 59])\n",
      "Reference Summary:\n",
      "Puerto Rico Governor Ricardo Rosselló says that he will remain in office despite protests.\n",
      "Predictions: \n",
      "[\"Puerto Rico governor's office says he is not resigning. Puerto Rico governor is accused of using his position to get rid of a federal judge. The governor's spokesman says he has been in office for more than a year. The state's governor is facing a congressional\"]\n",
      "\n"
     ]
    },
    {
     "name": "stderr",
     "output_type": "stream",
     "text": [
      "\r",
      " 68%|██████▊   | 691/1022 [10:12:37<4:59:48, 54.35s/it]"
     ]
    },
    {
     "name": "stdout",
     "output_type": "stream",
     "text": [
      "input_ids shape: torch.Size([1, 59])\n",
      "Reference Summary:\n",
      "The World Health Organisation declares the most recent Ebola outbreak in the eastern Democratic Republic of the Congo a Public Health Emergency of International Concern.\n",
      "Predictions: \n",
      "['The Ebola outbreak in Congo is now an international health emergency. The World Health Organization has declared a global health emergency in the country. The outbreak has spread to the capital, Kinshasa. The virus has killed more than 1,000 people. The WHO has declared an']\n",
      "\n"
     ]
    },
    {
     "name": "stderr",
     "output_type": "stream",
     "text": [
      "\r",
      " 68%|██████▊   | 692/1022 [10:13:35<5:03:51, 55.25s/it]"
     ]
    },
    {
     "name": "stdout",
     "output_type": "stream",
     "text": [
      "input_ids shape: torch.Size([1, 59])\n",
      "Reference Summary:\n",
      "A national emergency is declared in the Philippines after more than 100,000 people contract dengue fever.\n",
      "Predictions: \n",
      "['The Philippines has been hit by a dengue outbreak. The virus has been blamed for more than 100,000 deaths. The government has declared a national emergency. The outbreak has been linked to a number of deaths in the Philippines. The disease is a mosquito-borne virus']\n",
      "\n"
     ]
    },
    {
     "name": "stderr",
     "output_type": "stream",
     "text": [
      "\r",
      " 68%|██████▊   | 693/1022 [10:14:33<5:07:56, 56.16s/it]"
     ]
    },
    {
     "name": "stdout",
     "output_type": "stream",
     "text": [
      "input_ids shape: torch.Size([1, 59])\n",
      "Reference Summary:\n",
      "The United States removes NATO ally Turkey from the Joint Strike Fighter program, following the country's acquisition of the Russian S-400 missile system. Turkey had planned to buy 100 F-35 Lightning II jets.\n",
      "Predictions: \n",
      "['The U.S. is to withdraw from the F-35 program, the U.N. says. The move is a blow to Turkey, which has been in talks with the U.-S. over the program. The U.K. has been a key ally']\n",
      "\n"
     ]
    },
    {
     "name": "stderr",
     "output_type": "stream",
     "text": [
      "\r",
      " 68%|██████▊   | 694/1022 [10:15:30<5:08:47, 56.49s/it]"
     ]
    },
    {
     "name": "stdout",
     "output_type": "stream",
     "text": [
      "input_ids shape: torch.Size([1, 56])\n",
      "Reference Summary:\n",
      "At the request of Israel and the United States, Argentina officially declares Hezbollah a terrorist organization, freezing assets and expelling all members of the organization from the country. It also holds it responsible for the 1994 attack against AMIA.\n",
      "Predictions: \n",
      "[\"Argentina's government has branded Hezbollah a terrorist organization. The move comes 25 years after a bombing blamed on the group destroyed a Jewish community center. The government has also frozen the group's assets. The group has been blamed for a series of terror attacks in Argentina.\"]\n",
      "\n"
     ]
    },
    {
     "name": "stderr",
     "output_type": "stream",
     "text": [
      "\r",
      " 68%|██████▊   | 695/1022 [10:16:28<5:09:19, 56.76s/it]"
     ]
    },
    {
     "name": "stdout",
     "output_type": "stream",
     "text": [
      "input_ids shape: torch.Size([1, 59])\n",
      "Reference Summary:\n",
      "Mexican drug lord Joaquín \"El Chapo\" Guzmán is sentenced to life in prison plus thirty years, and is ordered to forfeit US$12.6 billion. He accused the U.S. government of \"torture and corruption\" during his sentencing hearing in the U.S. District Court in Brooklyn, New York. He will likely be sent to ADX Florence in Colorado to serve his sentence.\n",
      "Predictions: \n",
      "['Joaquin Guzman, known as El Chapo, was convicted of drug trafficking in 2009. He was sentenced to life in prison in January. He is the son of Mexican drug lord Joaquin \"El Chapo\" Guzman. Guzman was convicted in 2009 of drug']\n",
      "\n"
     ]
    },
    {
     "name": "stderr",
     "output_type": "stream",
     "text": [
      "\r",
      " 68%|██████▊   | 696/1022 [10:17:25<5:08:58, 56.87s/it]"
     ]
    },
    {
     "name": "stdout",
     "output_type": "stream",
     "text": [
      "input_ids shape: torch.Size([1, 56])\n",
      "Reference Summary:\n",
      "Pakistan arrests Hafiz Saeed, the founder of Lashkar-e-Taiba, which has been blamed by the United States and India for the 2008 Mumbai terror attacks that left more than 160 people dead.\n",
      "Predictions: \n",
      "[\"Pakistan's prime minister says he will take action against the terror group. The terror group's leader is accused of being behind the Mumbai attacks. The group's founder is a former Pakistani intelligence chief. The Mumbai attacks were carried out by a group of young men.\"]\n",
      "\n"
     ]
    },
    {
     "name": "stderr",
     "output_type": "stream",
     "text": [
      "\r",
      " 68%|██████▊   | 697/1022 [10:18:22<5:09:00, 57.05s/it]"
     ]
    },
    {
     "name": "stdout",
     "output_type": "stream",
     "text": [
      "input_ids shape: torch.Size([1, 59])\n",
      "Reference Summary:\n",
      "A shooting in Erbil, Iraqi Kurdistan, leaves two dead, including a Turkish diplomat.\n",
      "Predictions: \n",
      "['Turkish diplomat killed in attack in Iraqi city of Irbil. Turkish diplomat was killed in a restaurant in the Iraqi city. Turkish official was killed along with two others. The Turkish diplomat had been working for the Turkish consulate in the city. The attack took place in a popular restaurant']\n",
      "\n"
     ]
    },
    {
     "name": "stderr",
     "output_type": "stream",
     "text": [
      "\r",
      " 68%|██████▊   | 698/1022 [10:19:20<5:08:39, 57.16s/it]"
     ]
    },
    {
     "name": "stdout",
     "output_type": "stream",
     "text": [
      "input_ids shape: torch.Size([1, 59])\n",
      "Reference Summary:\n",
      "President-elect of the European Commission Ursula von der Leyen resigns from her position as Federal Minister of Defence of Germany. Chancellor Angela Merkel appoints Annegret Kramp-Karrenbauer, the leader of the ruling CDU, as her successor.\n",
      "Predictions: \n",
      "[\"German Chancellor Angela Merkel's new EU chief is a former German defense minister. She is the first woman to be made EU chief by a German government. She will replace Jose Manuel Barroso, who was appointed by the European Commission. The new EU leader will be the first\"]\n",
      "\n"
     ]
    },
    {
     "name": "stderr",
     "output_type": "stream",
     "text": [
      "\r",
      " 68%|██████▊   | 699/1022 [10:20:17<5:08:05, 57.23s/it]"
     ]
    },
    {
     "name": "stdout",
     "output_type": "stream",
     "text": [
      "input_ids shape: torch.Size([1, 59])\n",
      "Reference Summary:\n",
      "Representatives of Sudan's military and the civil opposition sign the first of two parts of a power-sharing deal which is supposed to last until free elections in 2022.\n",
      "Predictions: \n",
      "[\"Sudan's ruling military and opposition sign power-sharing deal. The deal is a first step toward a new government. The agreement is expected to be signed in coming days. The country has been in turmoil since a military coup in 2011. The military has been fighting a crackdown on\"]\n",
      "\n"
     ]
    },
    {
     "name": "stderr",
     "output_type": "stream",
     "text": [
      "\r",
      " 68%|██████▊   | 700/1022 [10:21:14<5:07:23, 57.28s/it]"
     ]
    },
    {
     "name": "stdout",
     "output_type": "stream",
     "text": [
      "input_ids shape: torch.Size([1, 59])\n",
      "Reference Summary:\n",
      "The U.S. House of Representatives votes 332–95 to table an impeachment-related measure against U.S. President Donald Trump.\n",
      "Predictions: \n",
      "[\"The House of Representatives voted to vote to impeach President Donald Trump. The vote was a blow to the White House's efforts to get the GOP to back down. The House voted to impeached the president for his treatment of women. The Senate voted to pass a bill to\"]\n",
      "\n"
     ]
    },
    {
     "name": "stderr",
     "output_type": "stream",
     "text": [
      "\r",
      " 69%|██████▊   | 701/1022 [10:22:12<5:06:41, 57.32s/it]"
     ]
    },
    {
     "name": "stdout",
     "output_type": "stream",
     "text": [
      "input_ids shape: torch.Size([1, 59])\n",
      "Reference Summary:\n",
      "During a campaign rally, U.S. President Donald Trump says \"Squad\" members \"hate our country\".  In light of recent statements made by Trump deemed as racist, the crowd of Trump supporters started chanting \"send her back\" in regards to Representative Ilhan Omar.\n",
      "Predictions: \n",
      "[\"The president's comments were in response to a series of attacks on the Democratic Party. The president's remarks were in reference to a group of four Democratic congresswomen. The women are all women. The White House has said the president is not a racist. The comments were made\"]\n",
      "\n"
     ]
    },
    {
     "name": "stderr",
     "output_type": "stream",
     "text": [
      "\r",
      " 69%|██████▊   | 702/1022 [10:23:10<5:06:10, 57.41s/it]"
     ]
    },
    {
     "name": "stdout",
     "output_type": "stream",
     "text": [
      "input_ids shape: torch.Size([1, 59])\n",
      "Reference Summary:\n",
      "Astronomers rule out the chances of ~30-meter asteroid 2006 QV89's impacting Earth in September 2019 by eliminating the possibility of its passing through an area where it would have to be if it were on an impacting orbit. Prior to this, the asteroid had been given a one-in-7,000 chance of impacting Earth.\n",
      "Predictions: \n",
      "[\"Asteroid is a small asteroid that is not expected to hit Earth. It is expected to pass within the Earth's orbit in the next few years. The asteroid is expected not to hit the Earth until the 2030s. The Asteroid will be a close enough to Earth\"]\n",
      "\n"
     ]
    },
    {
     "name": "stderr",
     "output_type": "stream",
     "text": [
      "\r",
      " 69%|██████▉   | 703/1022 [10:24:06<5:04:27, 57.26s/it]"
     ]
    },
    {
     "name": "stdout",
     "output_type": "stream",
     "text": [
      "input_ids shape: torch.Size([1, 59])\n",
      "Reference Summary:\n",
      "Twelve people are killed and over 80 injured by two car bombs at a gate outside police headquarters in Kandahar, Afghanistan.\n",
      "Predictions: \n",
      "['The attack took place in Kandahar, Afghanistan. The Taliban attacked the police headquarters in the city of Kandahar. The attack was carried out by a group of Taliban militants. The militants were targeting police headquarters. The attackers were also targeting a police station in the capital, Kabul']\n",
      "\n"
     ]
    },
    {
     "name": "stderr",
     "output_type": "stream",
     "text": [
      "\r",
      " 69%|██████▉   | 704/1022 [10:25:03<5:03:07, 57.19s/it]"
     ]
    },
    {
     "name": "stdout",
     "output_type": "stream",
     "text": [
      "input_ids shape: torch.Size([1, 59])\n",
      "Reference Summary:\n",
      "A suicide bombing kills two people in northern Sinai a day after four bodies were found decapitated.\n",
      "Predictions: \n",
      "['The attack killed two people, including a civilian, and wounded three. The attack took place in the restive northern Sinai Peninsula. The Islamic State group has claimed responsibility for the attack. The bombing took place on a busy highway in the Sinai Peninsula, a security official says.']\n",
      "\n"
     ]
    },
    {
     "name": "stderr",
     "output_type": "stream",
     "text": [
      "\r",
      " 69%|██████▉   | 705/1022 [10:26:00<5:01:43, 57.11s/it]"
     ]
    },
    {
     "name": "stdout",
     "output_type": "stream",
     "text": [
      "input_ids shape: torch.Size([1, 59])\n",
      "Reference Summary:\n",
      "U.S. President Donald Trump reports the United States Navy's USS Boxer \"destroys\" an Islamic Revolutionary Guard Corps (IRGC) drone in a \"defensive action\", in the Strait of Hormuz. The Iranian drone reportedly came within 1,000 yards (3,000 ft) of the U.S. vessel and ignored multiple calls to stand down.\n",
      "Predictions: \n",
      "['The U.S. Navy says it destroyed the drone in the Strait of Hormuz. The drone was reportedly flying over the Strait. The U.N. Security Council has approved a resolution to end the Iranian threat. The resolution would require the U.K. to']\n",
      "\n"
     ]
    },
    {
     "name": "stderr",
     "output_type": "stream",
     "text": [
      "\r",
      " 69%|██████▉   | 706/1022 [10:26:57<5:00:27, 57.05s/it]"
     ]
    },
    {
     "name": "stdout",
     "output_type": "stream",
     "text": [
      "input_ids shape: torch.Size([1, 59])\n",
      "Reference Summary:\n",
      "Iran confirms its seizure of a Panamanian-flagged oil tanker traveling from the United Arab Emirates, and its 12 crewmembers, in the Persian Gulf last week. The tanker is being held at Qeshm Island, and is accused by Iran of smuggling oil. The United Arab Emirates denies owning or operating the tanker.\n",
      "Predictions: \n",
      "['Iranian state TV says the ship was carrying a cargo of oil. The ship was seized by the Iranian navy, which is based in the Persian Gulf. The vessel was carrying oil from the Persian gulf to the Persian\\xa0 Gulf. It was carrying an oil tanker from the United']\n",
      "\n"
     ]
    },
    {
     "name": "stderr",
     "output_type": "stream",
     "text": [
      "\r",
      " 69%|██████▉   | 707/1022 [10:27:54<4:58:59, 56.95s/it]"
     ]
    },
    {
     "name": "stdout",
     "output_type": "stream",
     "text": [
      "input_ids shape: torch.Size([1, 56])\n",
      "Reference Summary:\n",
      "Argentine Justice and Human Rights Minister Germán Garavano says that all countries are responsible to extradite the Iranian accused of the AMIA bombing to Argentina in case they ever set foot on their soil.\n",
      "Predictions: \n",
      "[\"Argentina's worst terror attack on Jewish center in 25 years ago killed 85 people. The bombing of a Jewish center killed 85 in Buenos Aires. Argentina's president, Cristina Fernandez de Kirchner, has called for a new government to take action.\"]\n",
      "\n"
     ]
    },
    {
     "name": "stderr",
     "output_type": "stream",
     "text": [
      "\r",
      " 69%|██████▉   | 708/1022 [10:28:51<4:57:56, 56.93s/it]"
     ]
    },
    {
     "name": "stdout",
     "output_type": "stream",
     "text": [
      "input_ids shape: torch.Size([1, 59])\n",
      "Reference Summary:\n",
      "A 41-year old man sets fire to the main offices of Kyoto Animation, an animation studio based in Kyoto, Japan. At least 34 people are confirmed dead and 35 injured. Many of the victims are in their 20s and 30s.\n",
      "Predictions: \n",
      "['The fire broke out at a studio in Kyoto, Japan. The fire was caused by an arson attack. The studio is a popular anime studio. The blaze is believed to have been started by a disgruntled employee. The suspect has been arrested. The cause of the fire is under']\n",
      "\n"
     ]
    },
    {
     "name": "stderr",
     "output_type": "stream",
     "text": [
      "\r",
      " 69%|██████▉   | 709/1022 [10:29:48<4:57:40, 57.06s/it]"
     ]
    },
    {
     "name": "stdout",
     "output_type": "stream",
     "text": [
      "input_ids shape: torch.Size([1, 57])\n",
      "Reference Summary:\n",
      "Iranian Navy of the Islamic Revolutionary Guard Corps captures British tanker Stena Impero and temporarily seizes British-operated and Liberian-flagged tanker Mesdar in the Persian Gulf. British Foreign Secretary Jeremy Hunt says there will be \"serious consequences\" if Iran does not release the tanker.\n",
      "Predictions: \n",
      "['Iranian officials say they have seized a British-flagged oil tanker in the Strait of Hormuz. The tanker was carrying crude oil from the Persian Gulf to the Red Sea. The Iranian government says it is trying to stop the ship from entering the Strait.']\n",
      "\n"
     ]
    },
    {
     "name": "stderr",
     "output_type": "stream",
     "text": [
      "\r",
      " 69%|██████▉   | 710/1022 [10:30:45<4:56:24, 57.00s/it]"
     ]
    },
    {
     "name": "stdout",
     "output_type": "stream",
     "text": [
      "input_ids shape: torch.Size([1, 59])\n",
      "Reference Summary:\n",
      "Iran denies that one of its drones was shot down by the United States on July 18, saying all of their drones \"returned to their bases.\" (USA Today)\n",
      "Predictions: \n",
      "['The U.S. has been working with the U.N. to develop a system to track Iranian drones. The U.K. has also been working to develop an anti-aircraft system to counter Iranian drones, which could be used to attack U.A.']\n",
      "\n"
     ]
    },
    {
     "name": "stderr",
     "output_type": "stream",
     "text": [
      "\r",
      " 70%|██████▉   | 711/1022 [10:31:42<4:55:14, 56.96s/it]"
     ]
    },
    {
     "name": "stdout",
     "output_type": "stream",
     "text": [
      "input_ids shape: torch.Size([1, 56])\n",
      "Reference Summary:\n",
      "A car bombing at Kabul University kills eight and injures dozens.\n",
      "Predictions: \n",
      "[\"Explosion outside Kabul University kills at least 8 people, wounds at least 33. Blast occurred outside the university's gates, near the entrance to the Afghan capital. The blast occurred at around 2:30 p.m. local time, according to Afghan officials.\"]\n",
      "\n"
     ]
    },
    {
     "name": "stderr",
     "output_type": "stream",
     "text": [
      "\r",
      " 70%|██████▉   | 712/1022 [10:32:08<4:06:04, 47.63s/it]"
     ]
    },
    {
     "name": "stdout",
     "output_type": "stream",
     "text": [
      "input_ids shape: torch.Size([1, 59])\n",
      "Reference Summary:\n",
      "The Gippsland GA8 Airvan is grounded in Australia, New Zealand and the European Union following a fatal crash on July 14.\n",
      "Predictions: \n",
      "[\"The crash in Sweden killed nine people. The incident happened on a flight from Stockholm to Stockholm. The crash was the first in Sweden since a fatal crash in December. The plane was a Gippsland-made Gipp's Aeroplane. The aircraft was carrying a\"]\n",
      "\n"
     ]
    },
    {
     "name": "stderr",
     "output_type": "stream",
     "text": [
      "\r",
      " 70%|██████▉   | 713/1022 [10:33:05<4:19:35, 50.41s/it]"
     ]
    },
    {
     "name": "stdout",
     "output_type": "stream",
     "text": [
      "input_ids shape: torch.Size([1, 59])\n",
      "Reference Summary:\n",
      "Ramush Haradinaj, Prime Minister of Kosovo, resigns after receiving a summons from the Kosovo Specialist Prosecutor's Office as a war crimes suspect.\n",
      "Predictions: \n",
      "[\"Kosovo PM resigns after being called to testify at Hague war crimes court. Ramush Haradinaj was a former leader of the Kosovo National Guard. He was accused of war crimes in Kosovo's 1998-2000 war with Serbia. He is the son of former Kosovo\"]\n",
      "\n"
     ]
    },
    {
     "name": "stderr",
     "output_type": "stream",
     "text": [
      "\r",
      " 70%|██████▉   | 714/1022 [10:34:01<4:28:13, 52.25s/it]"
     ]
    },
    {
     "name": "stdout",
     "output_type": "stream",
     "text": [
      "input_ids shape: torch.Size([1, 56])\n",
      "Reference Summary:\n",
      "Algeria defeats Senegal in the Africa Cup of Nations Final, winning their second continental championship.\n",
      "Predictions: \n",
      "[\"Algeria beat Senegal 1-0 in the final of the Africa Cup of Nations. The result was a 1-1 draw at the Maracana Stadium in Nairobi. Algeria's first-ever African Cup of nations final win was in 1998.\"]\n",
      "\n"
     ]
    },
    {
     "name": "stderr",
     "output_type": "stream",
     "text": [
      "\r",
      " 70%|██████▉   | 715/1022 [10:34:58<4:34:29, 53.65s/it]"
     ]
    },
    {
     "name": "stdout",
     "output_type": "stream",
     "text": [
      "input_ids shape: torch.Size([1, 59])\n",
      "Reference Summary:\n",
      "The Walt Disney Company reports that Avengers: Endgame has surpassed Avatar as the highest grossing movie of all time, unadjusted for inflation.\n",
      "Predictions: \n",
      "[\"The film is the second-highest-grossing film of all time. It's the first time a Marvel movie has been in the top 10. The film is expected to be released in the U.S. on November 18. It is the first of three films in\"]\n",
      "\n"
     ]
    },
    {
     "name": "stderr",
     "output_type": "stream",
     "text": [
      "\r",
      " 70%|███████   | 716/1022 [10:35:55<4:38:05, 54.53s/it]"
     ]
    },
    {
     "name": "stdout",
     "output_type": "stream",
     "text": [
      "input_ids shape: torch.Size([1, 59])\n",
      "Reference Summary:\n",
      "British Airways halts flights to Cairo for at least seven days, citing security concerns. Lufthansa also halts all flights, although only for one day.\n",
      "Predictions: \n",
      "['British Airways suspends flights to Cairo for seven days. The airline says it is taking the decision because of security concerns. The suspension is in response to a security threat. The flights were to be operated by BA and Egypt Air. The company says it will not fly to Cairo']\n",
      "\n"
     ]
    },
    {
     "name": "stderr",
     "output_type": "stream",
     "text": [
      "\r",
      " 70%|███████   | 717/1022 [10:36:52<4:41:04, 55.29s/it]"
     ]
    },
    {
     "name": "stdout",
     "output_type": "stream",
     "text": [
      "input_ids shape: torch.Size([1, 59])\n",
      "Reference Summary:\n",
      "An explosion at a gas factory in China's Henan Province kills at least 15 people and leaves 256 injured.\n",
      "Predictions: \n",
      "['The blast occurred at a gas plant in central China. The blast killed at least 10 people and injured at least 15 others. The explosion occurred at the gas plant on Friday. The cause of the explosion is still unknown. The incident occurred in the city of Yantai in']\n",
      "\n"
     ]
    },
    {
     "name": "stderr",
     "output_type": "stream",
     "text": [
      "\r",
      " 70%|███████   | 718/1022 [10:37:49<4:42:50, 55.82s/it]"
     ]
    },
    {
     "name": "stdout",
     "output_type": "stream",
     "text": [
      "input_ids shape: torch.Size([1, 59])\n",
      "Reference Summary:\n",
      "In boxing, Manny Pacquiao defeats Keith Thurman via split decision held in MGM Grand Garden Arena, Las Vegas, Nevada.\n",
      "Predictions: \n",
      "[\"Manny Pacquiao and Keith Thurman are the two top welterweight fighters in the world. The pair will fight for the WBA welterweights' world title in Las Vegas. The fight will be the first time the pair have met in the ring since the\"]\n",
      "\n"
     ]
    },
    {
     "name": "stderr",
     "output_type": "stream",
     "text": [
      "\r",
      " 70%|███████   | 719/1022 [10:38:46<4:43:40, 56.17s/it]"
     ]
    },
    {
     "name": "stdout",
     "output_type": "stream",
     "text": [
      "input_ids shape: torch.Size([1, 59])\n",
      "Reference Summary:\n",
      "German airline Lufthansa resumes flights between Cairo and Frankfurt and Munich, while British Airways flights to Cairo remain cancelled for six more days. The UK Foreign Office warns against \"all travel\" to certain parts of Egypt, but its standard advice for Cairo is for passengers to check for changes.\n",
      "Predictions: \n",
      "['British Airways says it is suspending flights to Cairo for a week. The airline says it has been forced to suspend flights to Egypt because of security concerns. The suspension is due to be lifted on Monday. The decision was made after a security review was carried out by the airline.']\n",
      "\n"
     ]
    },
    {
     "name": "stderr",
     "output_type": "stream",
     "text": [
      "\r",
      " 70%|███████   | 720/1022 [10:39:43<4:44:04, 56.44s/it]"
     ]
    },
    {
     "name": "stdout",
     "output_type": "stream",
     "text": [
      "input_ids shape: torch.Size([1, 59])\n",
      "Reference Summary:\n",
      "The Venezuelan military reports that on Friday, an American Naval reconnaissance plane entered its national airspace, threatening flights to Maiquetia Airport; the United States asserts that their aircraft was over international waters in the Caribbean on an approved mission. The US plane was followed for a prolonged time by a Venezuelan fighter.\n",
      "Predictions: \n",
      "['U.S. military says Venezuelan fighter jet shadowed U.S.-made plane over the Caribbean. U.N. Security Council resolution calls for Venezuela to stop using military aircraft as human shields. U.,S. officials say the Venezuelan jet was acting in a \"highly']\n",
      "\n"
     ]
    },
    {
     "name": "stderr",
     "output_type": "stream",
     "text": [
      "\r",
      " 71%|███████   | 721/1022 [10:39:49<3:27:21, 41.33s/it]"
     ]
    },
    {
     "name": "stdout",
     "output_type": "stream",
     "text": [
      "input_ids shape: torch.Size([1, 59])\n",
      "Reference Summary:\n",
      "President Mauricio Macri and Justice and Human Rights Minister of Argentina Germán Garavano say that Argentina will start to receive reports of human rights abuses and criminal accusations against the Venezuelan government. Macri also reiterates his support for Juan Guaidó.\n",
      "Predictions: \n",
      "[\"Argentina's President Macri and his government have decreed that the country's government will take action against the government of President Maduro. The move is in response to a report by the United Nations that Maduro had 'violated' the country. Argentina's government has also\"]\n",
      "\n"
     ]
    },
    {
     "name": "stderr",
     "output_type": "stream",
     "text": [
      "\r",
      " 71%|███████   | 722/1022 [10:40:46<3:49:41, 45.94s/it]"
     ]
    },
    {
     "name": "stdout",
     "output_type": "stream",
     "text": [
      "input_ids shape: torch.Size([1, 59])\n",
      "Reference Summary:\n",
      "Taiwan Customs officers discover 9800 cartons of cigarettes worth more than 200,000 USD smuggled in five trucks of presidential motorade when President Tsai Ing-wen has returned from an official trip to the Caribbean and leaves the airport via a VIP lane. A security agent of National Security Bureau within Tsai's entourage allegedly pre-ordered the cigarettes duty-free from China Airlines and stored them at a warehouse of the airline's catering company at Taoyuan International Airport. National Security Bureau Director-General Peng Sheng-chu resigns over the scandal on the following day.\n",
      "Predictions: \n",
      "[\"Taiwan's president is in the U.S. for a summit with China. She is in Denver for a meeting with President Barack Obama. Taiwan's president was greeted by a large group of supporters. She was also greeted by pro-China protesters. The meeting is scheduled to last\"]\n",
      "\n"
     ]
    },
    {
     "name": "stderr",
     "output_type": "stream",
     "text": [
      "\r",
      " 71%|███████   | 723/1022 [10:41:43<4:05:13, 49.21s/it]"
     ]
    },
    {
     "name": "stdout",
     "output_type": "stream",
     "text": [
      "input_ids shape: torch.Size([1, 59])\n",
      "Reference Summary:\n",
      "A mob of suspected masked triad members dressed in white and armed with batons attack commuters indiscriminately at Yuen Long station, injuring 45, including a pro-democracy legislator and a pregnant woman. Hong Kong police have been accused of allowing the violence to happen due to their delayed response and decision to limit emergency services in the area.\n",
      "Predictions: \n",
      "[\"Hong Kong police say they are investigating a possible gangland attack on protesters. Police say they have arrested a suspect in connection with the attack. The incident occurred on Sunday night in Hong Kong's central district of Mong Kok. The attack was carried out by a group of suspected gang\"]\n",
      "\n"
     ]
    },
    {
     "name": "stderr",
     "output_type": "stream",
     "text": [
      "\r",
      " 71%|███████   | 724/1022 [10:41:51<3:04:11, 37.09s/it]"
     ]
    },
    {
     "name": "stdout",
     "output_type": "stream",
     "text": [
      "input_ids shape: torch.Size([1, 58])\n",
      "Reference Summary:\n",
      "Pro-Beijing legislator Junius Ho applauds the assailants for their actions, saying they should be \"pardoned for defending their homes\" and calling them his \"heroes\".\n",
      "Predictions: \n",
      "[\"Pro-Beijing lawmaker Junius Ho says attackers were 'defending their home' He says they were 'pandering' to pro-Bejing protesters. He says the mob was 'defying the law' and 'defended their home', not the city.\"]\n",
      "\n"
     ]
    },
    {
     "name": "stderr",
     "output_type": "stream",
     "text": [
      "\r",
      " 71%|███████   | 725/1022 [10:42:09<2:34:12, 31.15s/it]"
     ]
    },
    {
     "name": "stdout",
     "output_type": "stream",
     "text": [
      "input_ids shape: torch.Size([1, 58])\n",
      "Reference Summary:\n",
      "Japanese citizens head to the polls to elect one half of the members of the country's House of Councillors.\n",
      "Predictions: \n",
      "[\"Japanese PM Shinzo Abe's party wins majority in the upper house of parliament. But it fails to win majority of seats in the lower house. The ruling party is seeking to push through a constitutional amendment to change the constitution. The opposition is seeking a referendum on the issue.\"]\n",
      "\n"
     ]
    },
    {
     "name": "stderr",
     "output_type": "stream",
     "text": [
      "\r",
      " 71%|███████   | 726/1022 [10:43:06<3:12:05, 38.94s/it]"
     ]
    },
    {
     "name": "stdout",
     "output_type": "stream",
     "text": [
      "input_ids shape: torch.Size([1, 59])\n",
      "Reference Summary:\n",
      "The Liberal Democratic Party of Japan, led by Prime Minister Shinzō Abe, wins a clear, but reduced, majority of the seats but falls short on gaining the two-thirds supermajority needed to start the pursued process of amending the constitution.\n",
      "Predictions: \n",
      "[\"Japan's ruling coalition is expected to win a majority in the upper house. The ruling coalition has a majority of more than 60 per cent in the chamber. The coalition is likely to win the upper House of Representatives. The upper house is the upper chamber of Japan's parliament.\"]\n",
      "\n"
     ]
    },
    {
     "name": "stderr",
     "output_type": "stream",
     "text": [
      "\r",
      " 71%|███████   | 727/1022 [10:44:03<3:37:47, 44.30s/it]"
     ]
    },
    {
     "name": "stdout",
     "output_type": "stream",
     "text": [
      "input_ids shape: torch.Size([1, 59])\n",
      "Reference Summary:\n",
      "Ukrainian citizens vote for the new members of the Verkhovna Rada, following its dissolution by President Volodymyr Zelensky in May.\n",
      "Predictions: \n",
      "[\"Ukrainian president's party is set to take the largest share of votes in parliamentary elections. President's party has been in power since May 31, 2014. President has been seeking to form a coalition government with opposition parties. The opposition parties are expected to win a majority of\"]\n",
      "\n"
     ]
    },
    {
     "name": "stderr",
     "output_type": "stream",
     "text": [
      "\r",
      " 71%|███████   | 728/1022 [10:44:59<3:55:10, 47.99s/it]"
     ]
    },
    {
     "name": "stdout",
     "output_type": "stream",
     "text": [
      "input_ids shape: torch.Size([1, 58])\n",
      "Reference Summary:\n",
      "Servant of the People, President Zelensky’s party, wins most of the seats with a comfortable majority.\n",
      "Predictions: \n",
      "[\"Ukraine's president's party is expected to win a majority of seats in the parliament. The president's office says the results are expected to be announced in the next few days. The election is expected in the coming days. Ukraine's president is expected for a second term.\"]\n",
      "\n"
     ]
    },
    {
     "name": "stderr",
     "output_type": "stream",
     "text": [
      "\r",
      " 71%|███████▏  | 729/1022 [10:45:56<4:07:07, 50.61s/it]"
     ]
    },
    {
     "name": "stdout",
     "output_type": "stream",
     "text": [
      "input_ids shape: torch.Size([1, 57])\n",
      "Reference Summary:\n",
      "In golf, Shane Lowry of Ireland wins the year's final men's major at Portrush, Northern Ireland by 6 shots over England's Tommy Fleetwood.\n",
      "Predictions: \n",
      "[\"Shane Lowry wins British Open at Royal Portrush. Lowry's first major title in his native Ireland. Lowry wins by one shot from fellow Irishman Rory McIlroy. Lowry is the first Irishman to win the British Open since Nick Faldo in 1986.\"]\n",
      "\n"
     ]
    },
    {
     "name": "stderr",
     "output_type": "stream",
     "text": [
      "\r",
      " 71%|███████▏  | 730/1022 [10:46:53<4:15:28, 52.49s/it]"
     ]
    },
    {
     "name": "stdout",
     "output_type": "stream",
     "text": [
      "input_ids shape: torch.Size([1, 59])\n",
      "Reference Summary:\n",
      "Tunisia's Ministry of Defence says that a pilot is arrested after a damaged Libyan warplane, reported to be a L-39 Albatros, makes an emergency landing on a road near the southern town of Beni Khadash.\n",
      "Predictions: \n",
      "[\"Libyan fighter plane makes emergency landing in Tunisia. Libyan plane was on a route to Libya. Libyan military plane was training in Tunisia's southeastern city of Medenine. Libyan fighter plane was flying from Libya to Libya, Tunisian media reports. The plane was reportedly carrying Libyan\"]\n",
      "\n"
     ]
    },
    {
     "name": "stderr",
     "output_type": "stream",
     "text": [
      "\r",
      " 72%|███████▏  | 731/1022 [10:47:50<4:21:15, 53.87s/it]"
     ]
    },
    {
     "name": "stdout",
     "output_type": "stream",
     "text": [
      "input_ids shape: torch.Size([1, 59])\n",
      "Reference Summary:\n",
      "Billboard reports that Lil Nas X tied the all-time record on the Billboard Hot 100 with his song \"Old Town Road\", as it spends its sixteenth week atop the chart; the other record-holders are Mariah Carey and Boyz II Men with \"One Sweet Day\", and Luis Fonsi with \"Despacito\" featuring Daddy Yankee. The song broke the record the next week.\n",
      "Predictions: \n",
      "['Lil Nas X has been at the top of the Billboard charts for 16 weeks. He has tied the record set by Mariah Carey and Luis Fonsi. Lil Nas X\\'s hit \"Despacito\" has been No. 1 for 16 consecutive weeks. The record was set']\n",
      "\n"
     ]
    },
    {
     "name": "stderr",
     "output_type": "stream",
     "text": [
      "\r",
      " 72%|███████▏  | 732/1022 [10:48:47<4:24:40, 54.76s/it]"
     ]
    },
    {
     "name": "stdout",
     "output_type": "stream",
     "text": [
      "input_ids shape: torch.Size([1, 59])\n",
      "Reference Summary:\n",
      "Due to declining sales, American retailer GNC announces it will close between 700 and 900 stores.\n",
      "Predictions: \n",
      "['GNC plans to close up to 900 stores, mostly in malls. The company says it will close the stores in the next few months. The stores will be closed in malls, not in stores. The chain has been in decline for years. The store chain has more than']\n",
      "\n"
     ]
    },
    {
     "name": "stderr",
     "output_type": "stream",
     "text": [
      "\r",
      " 72%|███████▏  | 733/1022 [10:49:45<4:28:08, 55.67s/it]"
     ]
    },
    {
     "name": "stdout",
     "output_type": "stream",
     "text": [
      "input_ids shape: torch.Size([1, 59])\n",
      "Reference Summary:\n",
      "The Iranian government announces the arrest of 17 citizens in the last months who are accused of spying in favour of the CIA.\n",
      "Predictions: \n",
      "['Iran says it has arrested 17 people it says are spies for the CIA. The suspects have been sentenced to death. The arrests are part of a crackdown on the CIA, Iran says. The U.S. has accused Iran of spying on its citizens. The Iranian government denies the allegations']\n",
      "\n"
     ]
    },
    {
     "name": "stderr",
     "output_type": "stream",
     "text": [
      "\r",
      " 72%|███████▏  | 734/1022 [10:50:41<4:28:40, 55.97s/it]"
     ]
    },
    {
     "name": "stdout",
     "output_type": "stream",
     "text": [
      "input_ids shape: torch.Size([1, 56])\n",
      "Reference Summary:\n",
      "South Korean fighter jets fire warning shots at three Russian planes as a reaction to an alleged violation of the country's national airspace.\n",
      "Predictions: \n",
      "[\"South Korea says it fired warning shots at Russian military aircraft. Russian military plane was flying over South Korea's airspace. South Korea says the Russian plane was in its airspace. The incident occurred on Tuesday. The Russian plane had been flying over the South Korean airspace.\"]\n",
      "\n"
     ]
    },
    {
     "name": "stderr",
     "output_type": "stream",
     "text": [
      "\r",
      " 72%|███████▏  | 735/1022 [10:51:38<4:29:29, 56.34s/it]"
     ]
    },
    {
     "name": "stdout",
     "output_type": "stream",
     "text": [
      "input_ids shape: torch.Size([1, 59])\n",
      "Reference Summary:\n",
      "Four months after being expelled from the country, German Ambassador to Venezuela Daniel Kriener [de] returns to his post in the nation.\n",
      "Predictions: \n",
      "['German ambassador to Venezuela returns to Caracas after 4 ½ months. German government says he was ordered to leave Venezuela by Venezuelan authorities. German foreign ministry spokesman: \"Ambassador has returned to Car Venezuela\" He was ordered out by Venezuelan government in April. He was due to stay']\n",
      "\n"
     ]
    },
    {
     "name": "stderr",
     "output_type": "stream",
     "text": [
      "\r",
      " 72%|███████▏  | 736/1022 [10:52:36<4:30:39, 56.78s/it]"
     ]
    },
    {
     "name": "stdout",
     "output_type": "stream",
     "text": [
      "input_ids shape: torch.Size([1, 59])\n",
      "Reference Summary:\n",
      "A shooting in the town of Wächtersbach, Hesse, Germany gravely injures an Eritrean man. The suspect commits suicide after fleeing the scene. Police treat the incident to be inspired by xenophobia.\n",
      "Predictions: \n",
      "['Eritrean man shot in Germany, suspect fatally shoots himself. Suspect apparently had an anti-foreigner motive, says police. The suspect was shot and seriously wounded in western Germany. The man was taken to hospital and later died. The incident occurred in the town']\n",
      "\n"
     ]
    },
    {
     "name": "stderr",
     "output_type": "stream",
     "text": [
      "\r",
      " 72%|███████▏  | 737/1022 [10:53:33<4:30:21, 56.92s/it]"
     ]
    },
    {
     "name": "stdout",
     "output_type": "stream",
     "text": [
      "input_ids shape: torch.Size([1, 59])\n",
      "Reference Summary:\n",
      "Haitian Prime Minister Jean-Michel Lapin, who was appointed 4 months ago, resigns amidst renewed protests. President Jovenel Moïse appoints Fritz-William Michel as the new Prime Minister.\n",
      "Predictions: \n",
      "[\"Haitian PM Jean Michel Lapin has resigned, according to a government official. The resignation comes after a series of scandals involving the prime minister. The prime minister's resignation is the latest in a series in Haiti's political history. The country's president has been in power\"]\n",
      "\n"
     ]
    },
    {
     "name": "stderr",
     "output_type": "stream",
     "text": [
      "\r",
      " 72%|███████▏  | 738/1022 [10:54:30<4:29:16, 56.89s/it]"
     ]
    },
    {
     "name": "stdout",
     "output_type": "stream",
     "text": [
      "input_ids shape: torch.Size([1, 59])\n",
      "Reference Summary:\n",
      "Hundreds of followers from the Shia group Islamic Movement for Nigeria were out on the streets in Abuja to demand the release of their leader Sheikh Ibrahim Zakzaky, who has been detained since 2015. Police opened fire and killed eleven protesters and a journalist. A police officer was also killed in the fight.\n",
      "Predictions: \n",
      "[\"A Nigerian police officer was killed in clashes with a group of Shi'ite Muslims. The incident occurred in the capital, Abuja, on Monday. The police were responding to a protest by the group, which was led by a Shi'i cleric. The group was protesting\"]\n",
      "\n"
     ]
    },
    {
     "name": "stderr",
     "output_type": "stream",
     "text": [
      "\r",
      " 72%|███████▏  | 739/1022 [10:55:27<4:28:22, 56.90s/it]"
     ]
    },
    {
     "name": "stdout",
     "output_type": "stream",
     "text": [
      "input_ids shape: torch.Size([1, 57])\n",
      "Reference Summary:\n",
      "The Indian Space Research Organization successfully launches Chandrayaan-2 to survey lunar water from Satish Dhawan Space Center, India's second lunar exploration mission. If successful, Chandrayaan-2 will become the first spacecraft to land on the lunar south pole.\n",
      "Predictions: \n",
      "[\"The launch of the Chandrayaan-2 is a first for India. The mission is to explore the moon's surface. The launch is scheduled for September. The first mission to the moon was launched in 2009. The second mission is scheduled to launch in 2015.\"]\n",
      "\n"
     ]
    },
    {
     "name": "stderr",
     "output_type": "stream",
     "text": [
      "\r",
      " 72%|███████▏  | 740/1022 [10:55:42<3:27:52, 44.23s/it]"
     ]
    },
    {
     "name": "stdout",
     "output_type": "stream",
     "text": [
      "input_ids shape: torch.Size([1, 58])\n",
      "Reference Summary:\n",
      "Through Argentine Foreign Affairs Minister Jorge Faurie, the Lima Group say that \"the use of force in Venezuela will be implemented when required\".\n",
      "Predictions: \n",
      "['The Lima Group is a group of 12 Latin American countries. It is urging the international community to help Venezuela\\'s government. The group says Venezuela\\'s political crisis is threatening regional peace and security. It says the international world must help Venezuela to \"re-establish\" democracy.']\n",
      "\n"
     ]
    },
    {
     "name": "stderr",
     "output_type": "stream",
     "text": [
      "\r",
      " 73%|███████▎  | 741/1022 [10:56:25<3:25:13, 43.82s/it]"
     ]
    },
    {
     "name": "stdout",
     "output_type": "stream",
     "text": [
      "input_ids shape: torch.Size([1, 59])\n",
      "Reference Summary:\n",
      "Hezbollah condemns Argentina over its designation of their group as a \"terrorist organization\", saying Argentina did so under \"United States pressure\".\n",
      "Predictions: \n",
      "['The U.S. is targeting a top-level official in the group. The U.N. Security Council has approved the move. The move is part of a U.K. effort to increase pressure on the U.A.E. to curb the spread of']\n",
      "\n"
     ]
    },
    {
     "name": "stderr",
     "output_type": "stream",
     "text": [
      "\r",
      " 73%|███████▎  | 742/1022 [10:57:22<3:43:08, 47.82s/it]"
     ]
    },
    {
     "name": "stdout",
     "output_type": "stream",
     "text": [
      "input_ids shape: torch.Size([1, 59])\n",
      "Reference Summary:\n",
      "Boris Johnson is elected as Leader of the UK Conservative Party, and as a result is expected to become Prime Minister of the United Kingdom on 24 July 2019.\n",
      "Predictions: \n",
      "['Boris Johnson is the new leader of the Conservative Party. He is expected to be the next Prime Minister of the UK. He has been a leading figure in the party for more than a decade. He was a leading Tory MP for London for more that a decade before becoming']\n",
      "\n"
     ]
    },
    {
     "name": "stderr",
     "output_type": "stream",
     "text": [
      "\r",
      " 73%|███████▎  | 743/1022 [10:58:19<3:55:41, 50.69s/it]"
     ]
    },
    {
     "name": "stdout",
     "output_type": "stream",
     "text": [
      "input_ids shape: torch.Size([1, 59])\n",
      "Reference Summary:\n",
      "A suicide bomber detonates inside the office of Mogadishu's mayor Abdirahman Abdi Osman, killing six government officials. Osman is seriously injured in the attack and his condition is critical.\n",
      "Predictions: \n",
      "[\"A suicide bomber has detonated a bomb in Mogadishu's mayor's office. The blast killed at least six people and wounded dozens. The attack was carried out by a suicide bomber who was dressed as a Somali police officer. The bomber was killed by a bomb planted in a\"]\n",
      "\n"
     ]
    },
    {
     "name": "stderr",
     "output_type": "stream",
     "text": [
      "\r",
      " 73%|███████▎  | 744/1022 [10:59:17<4:04:12, 52.71s/it]"
     ]
    },
    {
     "name": "stdout",
     "output_type": "stream",
     "text": [
      "input_ids shape: torch.Size([1, 59])\n",
      "Reference Summary:\n",
      "Boeing reports its largest-ever quarterly loss, of US$2.9 billion, as a result of the grounding of its 737 MAX series, with the company saying that it could halt its production.\n",
      "Predictions: \n",
      "[\"Boeing's 737 Max jet is grounded after a series of problems. Boeing says it will not be able to fly the 737 Max in the U.S. until at least the end of the year. Boeing's 737 MAX jet is the world's largest passenger jet.\"]\n",
      "\n"
     ]
    },
    {
     "name": "stderr",
     "output_type": "stream",
     "text": [
      "\r",
      " 73%|███████▎  | 745/1022 [11:00:14<4:09:31, 54.05s/it]"
     ]
    },
    {
     "name": "stdout",
     "output_type": "stream",
     "text": [
      "input_ids shape: torch.Size([1, 58])\n",
      "Reference Summary:\n",
      "Highest-ever temperatures are recorded in Germany (at 40.5°C or 104.9°F), the Netherlands (at 39.2°C or 102.5°F), and Belgium (at 38.9°C or 102.0°F).\n",
      "Predictions: \n",
      "['Europe is experiencing its second heat wave of the summer. Temperatures in the UK and France are expected to reach record highs. The heat wave is expected to last until the end of the week. The European heat wave has been dubbed the \"summer of the heat\"']\n",
      "\n"
     ]
    },
    {
     "name": "stderr",
     "output_type": "stream",
     "text": [
      "\r",
      " 73%|███████▎  | 746/1022 [11:01:11<4:13:26, 55.10s/it]"
     ]
    },
    {
     "name": "stdout",
     "output_type": "stream",
     "text": [
      "input_ids shape: torch.Size([1, 59])\n",
      "Reference Summary:\n",
      "Theresa May visits Queen Elizabeth II at Buckingham Palace to officially resign and recommend her replacement as Prime Minister of the United Kingdom.\n",
      "Predictions: \n",
      "[\"Theresa May has been in office since May 1, 2010. She has been the UK's prime minister since 2010. The PM has been a key figure in the UK since David Cameron was elected in 2010. Her successor will be announced on Monday. The new PM will be\"]\n",
      "\n"
     ]
    },
    {
     "name": "stderr",
     "output_type": "stream",
     "text": [
      "\r",
      " 73%|███████▎  | 747/1022 [11:02:09<4:15:54, 55.84s/it]"
     ]
    },
    {
     "name": "stdout",
     "output_type": "stream",
     "text": [
      "input_ids shape: torch.Size([1, 59])\n",
      "Reference Summary:\n",
      "Greenpeace protesters block The Mall, the drive to Buckingham Palace, holding up Prime Minister-designate Boris Johnson on his way to visit the Queen.\n",
      "Predictions: \n",
      "[\"Boris Johnson is the new Prime Minister of the UK. He is the first British PM to be elected since Tony Blair in 1997. He was a Tory MP for London's South-West constituency. He has been a London Mayor since 2010. He will be the first Tory\"]\n",
      "\n"
     ]
    },
    {
     "name": "stderr",
     "output_type": "stream",
     "text": [
      "\r",
      " 73%|███████▎  | 748/1022 [11:02:18<3:11:09, 41.86s/it]"
     ]
    },
    {
     "name": "stdout",
     "output_type": "stream",
     "text": [
      "input_ids shape: torch.Size([1, 59])\n",
      "Reference Summary:\n",
      "Johnson is asked by the Queen to form a government, making him the 55th Prime Minister of the United Kingdom.\n",
      "Predictions: \n",
      "[\"Boris Johnson has been named as the new Prime Minister of the UK. He has been sworn in as the Prime Minister after the resignation of Theresa May. The PM's resignation was announced after a series of resignations from the Cabinet. The move was announced by the Prime minister\"]\n",
      "\n"
     ]
    },
    {
     "name": "stderr",
     "output_type": "stream",
     "text": [
      "\r",
      " 73%|███████▎  | 749/1022 [11:03:15<3:30:36, 46.29s/it]"
     ]
    },
    {
     "name": "stdout",
     "output_type": "stream",
     "text": [
      "input_ids shape: torch.Size([1, 59])\n",
      "Reference Summary:\n",
      "Multiple cabinet members resign on the day of Johnson's ascension to premiership, or in the days preceding it, in response to Johnson's politics and views on Brexit, including Philip Hammond, Jeremy Hunt, David Gauke, Sir Alan Duncan, Rory Stewart, Anne Milton, and David Lidington.\n",
      "Predictions: \n",
      "[\"Boris Johnson is the new leader of the UK's Conservative Party. He has been in the UK since May's general election. He is expected to be in charge of the country's affairs for the next two years. The new PM will be in office until the end of\"]\n",
      "\n"
     ]
    },
    {
     "name": "stderr",
     "output_type": "stream",
     "text": [
      "\r",
      " 73%|███████▎  | 750/1022 [11:04:11<3:43:57, 49.40s/it]"
     ]
    },
    {
     "name": "stdout",
     "output_type": "stream",
     "text": [
      "input_ids shape: torch.Size([1, 59])\n",
      "Reference Summary:\n",
      "Secretary-General of the European Commission Martin Selmayr is appointed as EC representative in Austria from November 1 on.\n",
      "Predictions: \n",
      "[\"Martin Selmayr is the European Commission's top civil servant. He will be replaced by the new head of the European Union's executive arm, Ursula von der Leyen. Selmayar will be the EU's top official in Vienna, Austria. He is the former\"]\n",
      "\n"
     ]
    },
    {
     "name": "stderr",
     "output_type": "stream",
     "text": [
      "\r",
      " 73%|███████▎  | 751/1022 [11:05:09<3:54:16, 51.87s/it]"
     ]
    },
    {
     "name": "stdout",
     "output_type": "stream",
     "text": [
      "input_ids shape: torch.Size([1, 59])\n",
      "Reference Summary:\n",
      "Annegret Kramp-Karrenbauer is sworn in as German defence minister.\n",
      "Predictions: \n",
      "['The new defence minister is a former member of the U.S. Army. He is the first member of a cabinet-level cabinet to be appointed by the president. He was sworn in on Tuesday. The new minister will be the first to be a member of Congress.']\n",
      "\n"
     ]
    },
    {
     "name": "stderr",
     "output_type": "stream",
     "text": [
      "\r",
      " 74%|███████▎  | 752/1022 [11:06:06<3:59:59, 53.33s/it]"
     ]
    },
    {
     "name": "stdout",
     "output_type": "stream",
     "text": [
      "input_ids shape: torch.Size([1, 58])\n",
      "Reference Summary:\n",
      "North Korea tests two new missiles that land in the Sea of Japan, though not within Japanese territory. Japanese Defense Minister Takeshi Iwaya condemns the testing as \"extremely regrettable\".\n",
      "Predictions: \n",
      "['North Korea launches two missiles into the sea, South Korea says. The launch is a response to a U.S. missile attack on a South Korean naval vessel. The missile launch is the first since the U.N. Security Council passed a resolution condemning the attack.']\n",
      "\n"
     ]
    },
    {
     "name": "stderr",
     "output_type": "stream",
     "text": [
      "\r",
      " 74%|███████▎  | 753/1022 [11:07:03<4:03:46, 54.37s/it]"
     ]
    },
    {
     "name": "stdout",
     "output_type": "stream",
     "text": [
      "input_ids shape: torch.Size([1, 59])\n",
      "Reference Summary:\n",
      "A number of national maximum temperature records are broken, several surpassing records set the previous day: Germany sees 42.6 °C (108.7 °F) at Lingen, Belgium 41.8 °C (107.2 °F) at Begijnendijk and The Netherlands 40.7 °C (105.3 °F) at Gilze en Rijen.\n",
      "Predictions: \n",
      "['The heatwave is the second in a month and is expected to last until the weekend. The heatwave has been dubbed the \"Great Heatwave\" in Europe. The weather is expected in the UK, France, Germany, Germany and the Netherlands. The UK is expected for']\n",
      "\n"
     ]
    },
    {
     "name": "stderr",
     "output_type": "stream",
     "text": [
      "\r",
      " 74%|███████▍  | 754/1022 [11:08:00<4:06:35, 55.21s/it]"
     ]
    },
    {
     "name": "stdout",
     "output_type": "stream",
     "text": [
      "input_ids shape: torch.Size([1, 59])\n",
      "Reference Summary:\n",
      "The United Kingdom reports a temperature reading of 38.1 °C (100.6 °F) in Cambridge, the second highest UK temperature yet recorded.  It is subsequently confirmed that a reading of 38.7 °C (101.7 °F) is verified, also in Cambridge, beating the previous record of 38.5 °C (101.3 °F) set in Faversham, Kent on 10 August 2003 to become the new national record.\n",
      "Predictions: \n",
      "['The UK has seen its hottest day on record in the last week. The temperature in the UK hit 38.1C in the city of Cambridge. The UK has also seen its highest ever temperature in London, at 38.4C. The heatwave is expected to last']\n",
      "\n"
     ]
    },
    {
     "name": "stderr",
     "output_type": "stream",
     "text": [
      "\r",
      " 74%|███████▍  | 755/1022 [11:08:57<4:07:38, 55.65s/it]"
     ]
    },
    {
     "name": "stdout",
     "output_type": "stream",
     "text": [
      "input_ids shape: torch.Size([1, 57])\n",
      "Reference Summary:\n",
      "U.S. Attorney General William Barr resumes the federal usage of the death penalty. Five inmates are expected to be executed between December 2019 and January 2020. If carried out, these would be the first federal executions in the United States in sixteen years.\n",
      "Predictions: \n",
      "['The U.S. government will resume executions for the first time since 2003. The U.N. has been considering a moratorium on executions since 2003, but has not yet acted. The move is part of a larger effort to reduce the number of Americans executed.']\n",
      "\n"
     ]
    },
    {
     "name": "stderr",
     "output_type": "stream",
     "text": [
      "\r",
      " 74%|███████▍  | 756/1022 [11:09:53<4:08:18, 56.01s/it]"
     ]
    },
    {
     "name": "stdout",
     "output_type": "stream",
     "text": [
      "input_ids shape: torch.Size([1, 57])\n",
      "Reference Summary:\n",
      "At least four people are killed and two wounded in a shooting spree that spread across multiple Los Angeles neighborhoods. Police tackled and arrested the suspect, Gerry Zaragoza, after a 12-hour manhunt.\n",
      "Predictions: \n",
      "[\"Police say a man shot and killed four people in Los Angeles. The suspect is believed to be a man who was on the run from police. The shooting spree occurred in the city's San Fernando Valley. The man was arrested after a manhunt for the suspect.\"]\n",
      "\n"
     ]
    },
    {
     "name": "stderr",
     "output_type": "stream",
     "text": [
      "\r",
      " 74%|███████▍  | 757/1022 [11:10:50<4:08:35, 56.29s/it]"
     ]
    },
    {
     "name": "stdout",
     "output_type": "stream",
     "text": [
      "input_ids shape: torch.Size([1, 59])\n",
      "Reference Summary:\n",
      "The 92-year-old and first freely-elected President of Tunisia, Beji Caid Essebsi, dies. Tunisian parliament President Mohamed Ennaceur takes the role of interim president.\n",
      "Predictions: \n",
      "[\"Tunisian President Beji Caid Essebsi was the country's first democratically elected leader. He was the first leader to be elected in Tunisia's first freely elected president in 1958. He died in a car crash in 2011. He is the first Tunisian\"]\n",
      "\n"
     ]
    },
    {
     "name": "stderr",
     "output_type": "stream",
     "text": [
      "\r",
      " 74%|███████▍  | 758/1022 [11:11:25<3:39:03, 49.79s/it]"
     ]
    },
    {
     "name": "stdout",
     "output_type": "stream",
     "text": [
      "input_ids shape: torch.Size([1, 59])\n",
      "Reference Summary:\n",
      "Algerian interim president Abdelkader Bensalah appoints a six-member panel to set a presidential election date. The previous date of July 4 was cancelled due to lack of candidates amid mass protests.\n",
      "Predictions: \n",
      "['Algerian president sets up six-member panel to oversee national dialogue, hold presidential election. Panel to oversee a national dialogue and hold a presidential election aimed at ending months of political crisis. Algeria has been in political crisis since April. President Abdelkader Bensalah']\n",
      "\n"
     ]
    },
    {
     "name": "stderr",
     "output_type": "stream",
     "text": [
      "\r",
      " 74%|███████▍  | 759/1022 [11:12:22<3:47:26, 51.89s/it]"
     ]
    },
    {
     "name": "stdout",
     "output_type": "stream",
     "text": [
      "input_ids shape: torch.Size([1, 57])\n",
      "Reference Summary:\n",
      "Outfielder Stevie Wilkerson of the Baltimore Orioles becomes the first position player in Major League Baseball history to record a save, doing so in a 10–8 victory over the Los Angeles Angels.\n",
      "Predictions: \n",
      "[\"The Orioles' win over the Angels was their first in the series. The Angels had a 3-1 lead in the sixth before the Orioles rallied to win. The game was the first time the Orioles had won in the last 10 games in the Angels' history.\"]\n",
      "\n"
     ]
    },
    {
     "name": "stderr",
     "output_type": "stream",
     "text": [
      "\r",
      " 74%|███████▍  | 760/1022 [11:13:19<3:53:06, 53.39s/it]"
     ]
    },
    {
     "name": "stdout",
     "output_type": "stream",
     "text": [
      "input_ids shape: torch.Size([1, 59])\n",
      "Reference Summary:\n",
      "The U.S. Department of Justice approves a $26 billion merger between T-Mobile and Sprint. If finalized, they will become the third-largest mobile network operator in the nation.\n",
      "Predictions: \n",
      "['The U.S. Justice Department has approved the merger of T-Mobile and Sprint. The deal will see T-mobile take over Sprint, which is owned by Sprint. T- mobile will be the fourth largest U.K. mobile carrier. The merger will also bring']\n",
      "\n"
     ]
    },
    {
     "name": "stderr",
     "output_type": "stream",
     "text": [
      "\r",
      " 74%|███████▍  | 761/1022 [11:13:33<3:01:28, 41.72s/it]"
     ]
    },
    {
     "name": "stdout",
     "output_type": "stream",
     "text": [
      "input_ids shape: torch.Size([1, 59])\n",
      "Reference Summary:\n",
      "Heavy rains in Al Haouz Province, Morocco, trigger a landslide, resulting in the deaths of 15 people.\n",
      "Predictions: \n",
      "['The landslide killed 15 people, including 11 women and three men. The victims were buried in a van in the town of El Hijaz. The landslide was caused by a heavy rain. The dead include a child, a woman and a man. The accident happened in the']\n",
      "\n"
     ]
    },
    {
     "name": "stderr",
     "output_type": "stream",
     "text": [
      "\r",
      " 75%|███████▍  | 762/1022 [11:14:30<3:20:24, 46.25s/it]"
     ]
    },
    {
     "name": "stdout",
     "output_type": "stream",
     "text": [
      "input_ids shape: torch.Size([1, 59])\n",
      "Reference Summary:\n",
      "Two people die and more than 17 are injured when an internal balcony collapses at a nightclub in the South Korean city of Gwangju.\n",
      "Predictions: \n",
      "['Two people killed in South Korean nightclub collapse. Two people killed, including two members of the U.S. national team. The incident occurred at a nightclub in the city of Gwangju. The collapse happened at a club where the U-S. team was attending a']\n",
      "\n"
     ]
    },
    {
     "name": "stderr",
     "output_type": "stream",
     "text": [
      "\r",
      " 75%|███████▍  | 763/1022 [11:15:27<3:33:12, 49.39s/it]"
     ]
    },
    {
     "name": "stdout",
     "output_type": "stream",
     "text": [
      "input_ids shape: torch.Size([1, 59])\n",
      "Reference Summary:\n",
      "At least nine people are killed and 60 others injured when two earthquakes strike the province of Batanes in the Philippines.\n",
      "Predictions: \n",
      "[\"The quake struck the Philippines' northern islands of Samar and Leyte. The quake struck at around 5.30am local time (9.30pm GMT) on Saturday. The Philippines' national disaster agency said the quake was a magnitude 5.4. The death toll is\"]\n",
      "\n"
     ]
    },
    {
     "name": "stderr",
     "output_type": "stream",
     "text": [
      "\r",
      " 75%|███████▍  | 764/1022 [11:16:23<3:41:59, 51.63s/it]"
     ]
    },
    {
     "name": "stdout",
     "output_type": "stream",
     "text": [
      "input_ids shape: torch.Size([1, 59])\n",
      "Reference Summary:\n",
      "Saudi Arabia suspends visas for Hajj pilgrims arriving from the Democratic Republic of the Congo, amid safety concerns regarding the ongoing Ebola epidemic in Kivu.\n",
      "Predictions: \n",
      "[\"Saudi Arabia has been hosting the world's largest Muslim minority in its capital, Riyadh. The country has been in the midst of a deadly civil war in the past year. The Saudi government has been trying to find a way to stop the violence. The government has also been trying\"]\n",
      "\n"
     ]
    },
    {
     "name": "stderr",
     "output_type": "stream",
     "text": [
      "\r",
      " 75%|███████▍  | 765/1022 [11:17:20<3:47:53, 53.20s/it]"
     ]
    },
    {
     "name": "stdout",
     "output_type": "stream",
     "text": [
      "input_ids shape: torch.Size([1, 59])\n",
      "Reference Summary:\n",
      "A man from the Bronx, New York City, is arrested for attempting to join the Taliban.\n",
      "Predictions: \n",
      "['The man was arrested on suspicion of trying to get his son to join the fight. The man was charged with trying to illegally enter the U.S. and then trying to enter the country. The incident occurred in the early hours of Friday morning. The suspect was arrested at']\n",
      "\n"
     ]
    },
    {
     "name": "stderr",
     "output_type": "stream",
     "text": [
      "\r",
      " 75%|███████▍  | 766/1022 [11:18:17<3:51:21, 54.22s/it]"
     ]
    },
    {
     "name": "stdout",
     "output_type": "stream",
     "text": [
      "input_ids shape: torch.Size([1, 56])\n",
      "Reference Summary:\n",
      "Sixteen American Marines are arrested at Camp Pendleton, California, on suspicion of aiding human smuggling and drug charges.\n",
      "Predictions: \n",
      "['16 Marines arrested at Camp Pendleton, California, in connection with human smuggling. The Marines were arrested Thursday. The arrests were made during a joint operation with the U.S. Coast Guard. The Marine Corps says the arrests are related to human smuggling and drug trafficking.']\n",
      "\n"
     ]
    },
    {
     "name": "stderr",
     "output_type": "stream",
     "text": [
      "\r",
      " 75%|███████▌  | 767/1022 [11:19:00<3:35:36, 50.73s/it]"
     ]
    },
    {
     "name": "stdout",
     "output_type": "stream",
     "text": [
      "input_ids shape: torch.Size([1, 59])\n",
      "Reference Summary:\n",
      "Japan warns on Saturday that the new North Korean projectiles have trajectories that are not typical for conventional ballistic missiles, making them difficult or impossible to intercept en route to Japan.\n",
      "Predictions: \n",
      "[\"North Korea's missile launch is a new development in its nuclear program. The launch is the first in more than two months. The North Korean military says it is a test of its missile technology. The missile launch was a test to test the North's ability to launch a missile\"]\n",
      "\n"
     ]
    },
    {
     "name": "stderr",
     "output_type": "stream",
     "text": [
      "\r",
      " 75%|███████▌  | 768/1022 [11:19:57<3:42:54, 52.66s/it]"
     ]
    },
    {
     "name": "stdout",
     "output_type": "stream",
     "text": [
      "input_ids shape: torch.Size([1, 59])\n",
      "Reference Summary:\n",
      "At least 65 people are killed and 10 injured in an attack by Boko Haram at a funeral in Maiduguri, Nigeria.\n",
      "Predictions: \n",
      "['Boko Haram has killed more than 60 people in a deadly attack on a Nigerian village. The attack was carried out by Boko Haram, a group that has been fighting against the government. The group is believed to be behind the killing of more than 50 people in the town of']\n",
      "\n"
     ]
    },
    {
     "name": "stderr",
     "output_type": "stream",
     "text": [
      "\r",
      " 75%|███████▌  | 769/1022 [11:20:53<3:47:09, 53.87s/it]"
     ]
    },
    {
     "name": "stdout",
     "output_type": "stream",
     "text": [
      "input_ids shape: torch.Size([1, 56])\n",
      "Reference Summary:\n",
      "Two American teenagers are arrested in Rome for extortion and murder of an Italian military officer.\n",
      "Predictions: \n",
      "['Italian police say the two teens were arrested after a police officer was killed. The two teens are from the U.S. and were arrested in Rome. The officer was shot dead in the street. The suspects are being held in custody in Rome, Italy.']\n",
      "\n"
     ]
    },
    {
     "name": "stderr",
     "output_type": "stream",
     "text": [
      "\r",
      " 75%|███████▌  | 770/1022 [11:21:50<3:50:11, 54.81s/it]"
     ]
    },
    {
     "name": "stdout",
     "output_type": "stream",
     "text": [
      "input_ids shape: torch.Size([1, 59])\n",
      "Reference Summary:\n",
      "President Félix Tshisekedi and the Congolese parliament, controlled by a rival party, agree to form a new government following negotiations, six months after he replaced Joseph Kabila during the 2018 DR Congo general election. Sylvestre Ilunga will be formally nominated for the post of Prime Minister in the coming week.\n",
      "Predictions: \n",
      "['President Felix Tshisekedi and his predecessor Joseph Kabila agree to split cabinet posts. The two camps will share the cabinet posts between them, the two sides said. The deal is expected to be signed on Friday. Tshiekedi is the son of former']\n",
      "\n"
     ]
    },
    {
     "name": "stderr",
     "output_type": "stream",
     "text": [
      "\r",
      " 75%|███████▌  | 771/1022 [11:22:48<3:52:49, 55.66s/it]"
     ]
    },
    {
     "name": "stdout",
     "output_type": "stream",
     "text": [
      "input_ids shape: torch.Size([1, 59])\n",
      "Reference Summary:\n",
      "Venezuela's Nicolás Maduro again accuses the United States of flying over its national waters.\n",
      "Predictions: \n",
      "[\"Venezuela's president has been accused of using the country's oil wealth to buy political power. The U.S. government has been trying to get the Venezuelan government to stop the oil production. The Venezuelan government has accused the U.N. of using its influence to\"]\n",
      "\n"
     ]
    },
    {
     "name": "stderr",
     "output_type": "stream",
     "text": [
      "\r",
      " 76%|███████▌  | 772/1022 [11:23:45<3:53:27, 56.03s/it]"
     ]
    },
    {
     "name": "stdout",
     "output_type": "stream",
     "text": [
      "input_ids shape: torch.Size([1, 59])\n",
      "Reference Summary:\n",
      "Several thousand people attend a rally in Moscow organized by opposition members due to several opposition candidates being disqualified from regional elections. The protests turned violent and police detained about 1,000 people, including politician Alexei Navalny.\n",
      "Predictions: \n",
      "[\"Russian police arrest more than 1,000 people in Moscow. Protesters are protesting against the government's handling of the election. The opposition is demanding that the government allow more transparency. The protest is being held in the capital's central square. The demonstration is being led by the opposition\"]\n",
      "\n"
     ]
    },
    {
     "name": "stderr",
     "output_type": "stream",
     "text": [
      "\r",
      " 76%|███████▌  | 773/1022 [11:24:42<3:53:25, 56.25s/it]"
     ]
    },
    {
     "name": "stdout",
     "output_type": "stream",
     "text": [
      "input_ids shape: torch.Size([1, 59])\n",
      "Reference Summary:\n",
      "Gunfire and an explosion kills 20 and injures over 50 in an attack at the Kabul office of the Vice Presidential candidate Amrullah Saleh, who was slightly injured in the attack.\n",
      "Predictions: \n",
      "[\"Afghan official: At least 20 people killed in attack on Afghan president's office. Attack on office of Afghan president, his running mate, killed in Kabul. Attack comes after a suicide bomber killed a police officer in the capital. The attack also wounded at least 10 people,\"]\n",
      "\n"
     ]
    },
    {
     "name": "stderr",
     "output_type": "stream",
     "text": [
      "\r",
      " 76%|███████▌  | 774/1022 [11:25:39<3:53:29, 56.49s/it]"
     ]
    },
    {
     "name": "stdout",
     "output_type": "stream",
     "text": [
      "input_ids shape: torch.Size([1, 59])\n",
      "Reference Summary:\n",
      "An airstrike kills five doctors in a hospital in the southern outskirts of Libya's capital Tripoli.\n",
      "Predictions: \n",
      "['The Libyan government says the attack was carried out by the Libyan National Army. The attack was in response to a rebel attack on a Tripoli-based military base. The Libyan government has been fighting a rebel-held government in the country for months. The U.N. says']\n",
      "\n"
     ]
    },
    {
     "name": "stderr",
     "output_type": "stream",
     "text": [
      "\r",
      " 76%|███████▌  | 775/1022 [11:26:36<3:52:54, 56.58s/it]"
     ]
    },
    {
     "name": "stdout",
     "output_type": "stream",
     "text": [
      "input_ids shape: torch.Size([1, 59])\n",
      "Reference Summary:\n",
      "During conflicts in the state of Amapá in northern Brazil, armed miners invade a native reserve and stab to death an indigenous man.\n",
      "Predictions: \n",
      "['Officials of the National Indian Foundation arrived at the site of the attack. The incident occurred in the northern Brazilian indigenous reserve of the Amazon. The death of one man is being investigated. The attack is believed to have been carried out by illegal miners. The indigenous community is in a']\n",
      "\n"
     ]
    },
    {
     "name": "stderr",
     "output_type": "stream",
     "text": [
      "\r",
      " 76%|███████▌  | 776/1022 [11:27:32<3:52:13, 56.64s/it]"
     ]
    },
    {
     "name": "stdout",
     "output_type": "stream",
     "text": [
      "input_ids shape: torch.Size([1, 59])\n",
      "Reference Summary:\n",
      "At least 42 people die in a landslide striking a village in southern China.\n",
      "Predictions: \n",
      "['Search and rescue workers have found 38 bodies from a landslide that struck a village in China. 13 other people still missing, with 13 other bodies still missing. Death toll rises to 38 in China landslide, 13 still missing after landslide. Death Toll rises to 42 in China landslides']\n",
      "\n"
     ]
    },
    {
     "name": "stderr",
     "output_type": "stream",
     "text": [
      "\r",
      " 76%|███████▌  | 777/1022 [11:27:38<2:49:19, 41.47s/it]"
     ]
    },
    {
     "name": "stdout",
     "output_type": "stream",
     "text": [
      "input_ids shape: torch.Size([1, 59])\n",
      "Reference Summary:\n",
      "Heavy storms across central Italy kill three people and cause damages. One death was caused by lightning, one by a tornado, and one by getting caught in a flood.\n",
      "Predictions: \n",
      "['Three people have died in Italy in a series of violent storms. The storms have been blamed on a series  of storms in the south of the country. The victims include a man who was killed in a car crash in the city of Brescia. The storm was caused']\n",
      "\n"
     ]
    },
    {
     "name": "stderr",
     "output_type": "stream",
     "text": [
      "\r",
      " 76%|███████▌  | 778/1022 [11:28:07<2:32:36, 37.53s/it]"
     ]
    },
    {
     "name": "stdout",
     "output_type": "stream",
     "text": [
      "input_ids shape: torch.Size([1, 59])\n",
      "Reference Summary:\n",
      "The death toll of the heavy floods in Nepal rise to 113.\n",
      "Predictions: \n",
      "['Floods and landslides triggered by monsoon rains in Nepal claim 113 lives. 38 people are still missing. Parts of central and southern Nepal are affected by the floods. The monsoon has been raging for more than a week. The death toll is expected to rise.']\n",
      "\n"
     ]
    },
    {
     "name": "stderr",
     "output_type": "stream",
     "text": [
      "\r",
      " 76%|███████▌  | 779/1022 [11:29:04<2:55:33, 43.35s/it]"
     ]
    },
    {
     "name": "stdout",
     "output_type": "stream",
     "text": [
      "input_ids shape: torch.Size([1, 59])\n",
      "Reference Summary:\n",
      "A gunman opens fire at the Gilroy Garlic Festival in Gilroy, California, killing three people and wounding at least twelve others. The gunman is killed after engaging with the police. Police believe an accomplice is still at large.\n",
      "Predictions: \n",
      "['The shooting occurred at a garlic festival in California. The suspect was killed in the shooting. The festival was held in the town of Gilroy. The shooting occurred during the annual garlic festival. The gunman was killed. The victims were all men. The shooter was killed by police']\n",
      "\n"
     ]
    },
    {
     "name": "stderr",
     "output_type": "stream",
     "text": [
      "\r",
      " 76%|███████▋  | 780/1022 [11:30:01<3:12:03, 47.62s/it]"
     ]
    },
    {
     "name": "stdout",
     "output_type": "stream",
     "text": [
      "input_ids shape: torch.Size([1, 59])\n",
      "Reference Summary:\n",
      "Tens of thousands of protesters demanding the resignation of pro-China Chief Executive of Hong Kong Carrie Lam take over the streets in Sai Wan and Causeway Bay, near China's Hong Kong Liaison Office, despite an official police ban on protests near the Chinese government building.\n",
      "Predictions: \n",
      "[\"Hong Kong police fire tear gas at protesters who are protesting against the city's government. Protesters are protesting a planned crackdown on a planned anti-government rally. Police say the protesters are blocking the streets and are blocking traffic. The protesters are demanding the government take action against the government\"]\n",
      "\n"
     ]
    },
    {
     "name": "stderr",
     "output_type": "stream",
     "text": [
      "\r",
      " 76%|███████▋  | 781/1022 [11:30:19<2:34:56, 38.57s/it]"
     ]
    },
    {
     "name": "stdout",
     "output_type": "stream",
     "text": [
      "input_ids shape: torch.Size([1, 59])\n",
      "Reference Summary:\n",
      "President Martín Vizcarra announces that he will present a constitutional reform that calls a snap election for April 2020.\n",
      "Predictions: \n",
      "[\"The 2020 presidential election is a year away. The next president will be the first to be elected in the country's first female president. The election will be held in November. The president will face off against the current president, who is expected to win. The race will be\"]\n",
      "\n"
     ]
    },
    {
     "name": "stderr",
     "output_type": "stream",
     "text": [
      "\r",
      " 77%|███████▋  | 782/1022 [11:31:16<2:56:22, 44.09s/it]"
     ]
    },
    {
     "name": "stdout",
     "output_type": "stream",
     "text": [
      "input_ids shape: torch.Size([1, 59])\n",
      "Reference Summary:\n",
      "In road cycling, Colombia's Egan Bernal wins the Tour de France by 1:11 on general classification over his British teammate Geraint Thomas. The 22-year-old Bernal is the first Colombian and first Latin American rider to win the Tour, and the youngest rider to do so since 1909.\n",
      "Predictions: \n",
      "[\"Egan Bernal wins the Tour de France in his first ever victory. The Colombian is the first ever winner of the Tour after a stage win in the Tour's first stage. The Tour deFrance is the most prestigious cycling event in the world. The race is won by\"]\n",
      "\n"
     ]
    },
    {
     "name": "stderr",
     "output_type": "stream",
     "text": [
      "\r",
      " 77%|███████▋  | 783/1022 [11:32:12<3:10:44, 47.88s/it]"
     ]
    },
    {
     "name": "stdout",
     "output_type": "stream",
     "text": [
      "input_ids shape: torch.Size([1, 59])\n",
      "Reference Summary:\n",
      "An Afghan National Army soldier kills two United States Army soldiers in Kandahar, Afghanistan, which local police suspect is an insider attack. The killer is believed to be wounded.\n",
      "Predictions: \n",
      "[\"U.S. officials: Afghan soldier killed two American service members in Afghanistan. U.S.: Soldier killed two Americans in Afghanistan on Monday. U.-S. troops were killed in an attack on a base in the country's capital, Kabul. The incident occurred in the\"]\n",
      "\n"
     ]
    },
    {
     "name": "stderr",
     "output_type": "stream",
     "text": [
      "\r",
      " 77%|███████▋  | 784/1022 [11:33:09<3:20:54, 50.65s/it]"
     ]
    },
    {
     "name": "stdout",
     "output_type": "stream",
     "text": [
      "input_ids shape: torch.Size([1, 59])\n",
      "Reference Summary:\n",
      "Five students are shot dead after security forces open fire in the city of El-Obeid during a protest.\n",
      "Predictions: \n",
      "[\"Sudanese government forces have shot dead at least four people at a protest. The incident occurred in the city of El-Obeid, in the north of the country. The protesters were protesting against the government's handling of the El- Obeid crisis.\"]\n",
      "\n"
     ]
    },
    {
     "name": "stderr",
     "output_type": "stream",
     "text": [
      "\r",
      " 77%|███████▋  | 785/1022 [11:34:07<3:27:40, 52.58s/it]"
     ]
    },
    {
     "name": "stdout",
     "output_type": "stream",
     "text": [
      "input_ids shape: torch.Size([1, 59])\n",
      "Reference Summary:\n",
      "Billboard reports that Lil Nas X has broken the all-time record on the Billboard Hot 100 with his song \"Old Town Road\", as it spends its seventeenth week atop the chart; the previous record-holders are Mariah Carey and Boyz II Men with \"One Sweet Day\", and Luis Fonsi with \"Despacito\" featuring Daddy Yankee.\n",
      "Predictions: \n",
      "['Lil Nas X\\'s \"Old Town Road\" has been No. 1 for the last three weeks. The rapper\\'s song is the first to reach No.1 in the U.S. since \"I Can\\'t Go for That\" in 2009. The song is a collaboration with']\n",
      "\n"
     ]
    },
    {
     "name": "stderr",
     "output_type": "stream",
     "text": [
      "\r",
      " 77%|███████▋  | 786/1022 [11:35:04<3:32:07, 53.93s/it]"
     ]
    },
    {
     "name": "stdout",
     "output_type": "stream",
     "text": [
      "input_ids shape: torch.Size([1, 59])\n",
      "Reference Summary:\n",
      "Capital One announces that a major data breach occurred on July 19, 2019, by one individual who compromised the data of about 106 million people in the United States and Canada. The Federal Bureau of Investigation have made an arrest after the alleged hacker, 33-year-old Paige Thompson from Seattle, boasted about her actions online.\n",
      "Predictions: \n",
      "['The data breach was discovered in July. The bank says it has been working to fix the problem. The breach affected more than 100 million people. The company says it is working to make the breach a zero-tolerance policy. The hack was discovered by a hacker who accessed']\n",
      "\n"
     ]
    },
    {
     "name": "stderr",
     "output_type": "stream",
     "text": [
      "\r",
      " 77%|███████▋  | 787/1022 [11:36:01<3:35:11, 54.94s/it]"
     ]
    },
    {
     "name": "stdout",
     "output_type": "stream",
     "text": [
      "input_ids shape: torch.Size([1, 59])\n",
      "Reference Summary:\n",
      "The Wildlife Protection Society of India announces that the wild population of tigers in India has increased by a third since 2015 following a comprehensive survey. Prime Minister of India Narendra Modi describes the news as a \"historic achievement\".\n",
      "Predictions: \n",
      "[\"India's prime minister Narendra Modi has been in the spotlight for the first time since the 2014 election. He has been criticised for his handling of the country's wildlife. The Indian government has been trying to curb the number of tigers in the country. The country has been home to\"]\n",
      "\n"
     ]
    },
    {
     "name": "stderr",
     "output_type": "stream",
     "text": [
      "\r",
      " 77%|███████▋  | 788/1022 [11:36:58<3:36:41, 55.56s/it]"
     ]
    },
    {
     "name": "stdout",
     "output_type": "stream",
     "text": [
      "input_ids shape: torch.Size([1, 59])\n",
      "Reference Summary:\n",
      "An eight-year-old boy is killed and his mother injured after being pushed by a man into the path of an oncoming train at Frankfurt's main station, in Hesse, Germany. The attacker, a 40-year-old immigrant Eritrean man who lives in Switzerland, also attempted to knock a third person onto the tracks. The suspect and the victims did not know each another.\n",
      "Predictions: \n",
      "[\"Boy, 8, was pushed into the path of a train in Frankfurt, Germany. He was killed by a train at the city's main station. The boy's mother was also killed in the incident. The train was headed to Frankfurt from Berlin. The incident happened at the\"]\n",
      "\n"
     ]
    },
    {
     "name": "stderr",
     "output_type": "stream",
     "text": [
      "\r",
      " 77%|███████▋  | 789/1022 [11:37:55<3:37:22, 55.98s/it]"
     ]
    },
    {
     "name": "stdout",
     "output_type": "stream",
     "text": [
      "input_ids shape: torch.Size([1, 58])\n",
      "Reference Summary:\n",
      "At least 62 people are killed, including sixteen who were beheaded, during prison riots in Pará, Brazil, which saw rival gangs battle for five hours.\n",
      "Predictions: \n",
      "['At least 57 prisoners killed in prison riot in Brazil. At least 16 people were killed in the prison riot, including 16 prisoners who were decapitated. The riot was sparked by a fight between rival gangs. The prison riot took place in the city of Rio de Janeiro.']\n",
      "\n"
     ]
    },
    {
     "name": "stderr",
     "output_type": "stream",
     "text": [
      "\r",
      " 77%|███████▋  | 790/1022 [11:38:52<3:37:47, 56.33s/it]"
     ]
    },
    {
     "name": "stdout",
     "output_type": "stream",
     "text": [
      "input_ids shape: torch.Size([1, 59])\n",
      "Reference Summary:\n",
      "After two FARC leaders go into hiding from drug trafficking charges in Colombia and the United States, Venezuelan President Nicolás Maduro makes a public statement saying they are welcome to take refuge in his country. He also welcomes other FARC rebels to Venezuela, calling them \"leaders of peace\".\n",
      "Predictions: \n",
      "[\"Venezuelan President Nicolas Maduro says he is 'welcome' in Venezuela. He says he will not leave the country until the opposition is in power. The Venezuelan president says he has been in talks with the Colombian government. The two are believed to be in the midst of\"]\n",
      "\n"
     ]
    },
    {
     "name": "stderr",
     "output_type": "stream",
     "text": [
      "\r",
      " 77%|███████▋  | 791/1022 [11:39:49<3:37:58, 56.62s/it]"
     ]
    },
    {
     "name": "stdout",
     "output_type": "stream",
     "text": [
      "input_ids shape: torch.Size([1, 59])\n",
      "Reference Summary:\n",
      "The Chinese government's Hong Kong and Macao Affairs Office condemns protests in Hong Kong as \"evil and criminal acts committed by the radical elements\", saying that Hong Kong's top priority is to \"punish violent and unlawful acts in accordance with the law\". Hong Kong legislators and journalists reject the statement from Beijing, expressing concern that this will worsen tensions.\n",
      "Predictions: \n",
      "['Hong Kong protesters have been demonstrating against the government. The protests have been going on for more than a week. The Hong Kong government has been trying to quell the protests with a series of crackdowns. The latest round of protests was the largest in more than two years.']\n",
      "\n"
     ]
    },
    {
     "name": "stderr",
     "output_type": "stream",
     "text": [
      "\r",
      " 77%|███████▋  | 792/1022 [11:40:46<3:37:38, 56.77s/it]"
     ]
    },
    {
     "name": "stdout",
     "output_type": "stream",
     "text": [
      "input_ids shape: torch.Size([1, 59])\n",
      "Reference Summary:\n",
      "Four are killed and over 20 injured in a bomb blast near a police station in Quetta, Pakistan.\n",
      "Predictions: \n",
      "['Police: A bomb targeting a police vehicle in Quetta, Pakistan, kills at least four people. The blast occurred in the southwestern city of Quetta. The attack was carried out by a suicide bomber. The dead include two police officers and two civilians. The bombing took place']\n",
      "\n"
     ]
    },
    {
     "name": "stderr",
     "output_type": "stream",
     "text": [
      "\r",
      " 78%|███████▊  | 793/1022 [11:41:43<3:36:39, 56.77s/it]"
     ]
    },
    {
     "name": "stdout",
     "output_type": "stream",
     "text": [
      "input_ids shape: torch.Size([1, 57])\n",
      "Reference Summary:\n",
      "At least 18 people, including thirteen civilians and five crew members, are killed and 12 others injured after a small military plane crashes into a residential area near the Pakistani city of Rawalpindi.\n",
      "Predictions: \n",
      "[\"A Pakistani military plane crashes into a residential area, killing at least 17 people. The crash occurred in Rawalpindi, a city in the country's south. The plane was carrying a group of military personnel. The victims were all on board the plane.\"]\n",
      "\n"
     ]
    },
    {
     "name": "stderr",
     "output_type": "stream",
     "text": [
      "\r",
      " 78%|███████▊  | 794/1022 [11:42:40<3:35:28, 56.71s/it]"
     ]
    },
    {
     "name": "stdout",
     "output_type": "stream",
     "text": [
      "input_ids shape: torch.Size([1, 56])\n",
      "Reference Summary:\n",
      "Eleven deaths and multiple hospitalizations are attributed to the ongoing heat wave in Japan.\n",
      "Predictions: \n",
      "['The heat wave is expected to last through the weekend. The heat wave has been blamed for a number of deaths in the past week. The weather is expected in the region to continue through the week. It is expected that the heat wave will last through Saturday.']\n",
      "\n"
     ]
    },
    {
     "name": "stderr",
     "output_type": "stream",
     "text": [
      "\r",
      " 78%|███████▊  | 795/1022 [11:43:37<3:34:42, 56.75s/it]"
     ]
    },
    {
     "name": "stdout",
     "output_type": "stream",
     "text": [
      "input_ids shape: torch.Size([1, 59])\n",
      "Reference Summary:\n",
      "Al-Sultan Abdullah is crowned as the 16th Yang di-Pertuan Agong of Malaysia at Istana Negara, Kuala Lumpur.\n",
      "Predictions: \n",
      "[\"Sultan Abdullah is the 16th king of Malaysia. He was installed as the new king in a ceremony in Kuala Lumpur on Tuesday. He is the first Malaysian king to be crowned since the country's independence in 1957. The king is the son of Sultan Abdullah and the late\"]\n",
      "\n"
     ]
    },
    {
     "name": "stderr",
     "output_type": "stream",
     "text": [
      "\r",
      " 78%|███████▊  | 796/1022 [11:44:35<3:35:42, 57.27s/it]"
     ]
    },
    {
     "name": "stdout",
     "output_type": "stream",
     "text": [
      "input_ids shape: torch.Size([1, 59])\n",
      "Reference Summary:\n",
      "Romanian Interior Minister Nicolae Moga [ro] resigns amid outrage over the slow response by police, state prosecutor's office and the secret service in charge of telecomunications to the disappearance and possible murder of a 15-year-old girl in the city of Caracal.\n",
      "Predictions: \n",
      "[\"Romania's interior minister says he is resigning in the wake of the murders of two teenagers. The murders have outraged the country, partly due to alleged police ineptitude. The two teenagers were killed in a car crash in November. The driver was found dead in a ditch\"]\n",
      "\n"
     ]
    },
    {
     "name": "stderr",
     "output_type": "stream",
     "text": [
      "\r",
      " 78%|███████▊  | 797/1022 [11:45:32<3:34:35, 57.22s/it]"
     ]
    },
    {
     "name": "stdout",
     "output_type": "stream",
     "text": [
      "input_ids shape: torch.Size([1, 57])\n",
      "Reference Summary:\n",
      "Thirty-two civilians are killed and over 20 are injured after their bus hits a land mine on the main road between Herat and Kandahar.\n",
      "Predictions: \n",
      "['Bus hit by roadside bomb in Afghanistan, killing at least 32 people. Bus was travelling from Herat to Kandahar. Bus hit by bomb on highway between Herat and Kandahar, Afghanistan. Bus carrying women and children. Bus driver was killed in the attack.']\n",
      "\n"
     ]
    },
    {
     "name": "stderr",
     "output_type": "stream",
     "text": [
      "\r",
      " 78%|███████▊  | 798/1022 [11:46:29<3:33:18, 57.14s/it]"
     ]
    },
    {
     "name": "stdout",
     "output_type": "stream",
     "text": [
      "input_ids shape: torch.Size([1, 56])\n",
      "Reference Summary:\n",
      "Unnamed U.S. officials say they have received intelligence that Hamza bin Laden, son of Osama bin Laden and a wanted al-Qaeda terrorist, has been killed. The time, location and cause of death has not been disclosed.\n",
      "Predictions: \n",
      "['Hamza bin Laden, son of Osama bin Laden and the leader of al Qaeda, is dead, according to reports. The son was killed in a raid in Pakistan, according the reports. He was killed by a U.S. drone strike in Pakistan.']\n",
      "\n"
     ]
    },
    {
     "name": "stderr",
     "output_type": "stream",
     "text": [
      "\r",
      " 78%|███████▊  | 799/1022 [11:47:27<3:32:39, 57.22s/it]"
     ]
    },
    {
     "name": "stdout",
     "output_type": "stream",
     "text": [
      "input_ids shape: torch.Size([1, 59])\n",
      "Reference Summary:\n",
      "Brazilian Minister of Economy Paulo Guedes announces that the full members of Mercosur—Argentina, Brazil, Paraguay and Uruguay—are negotiating a free trade deal with the United States.\n",
      "Predictions: \n",
      "[\"The two countries are in the midst of a trade dispute over the South American country's currency. The two countries have been at odds over the use of the South Atlantic trade route. The U.S. has been trying to renegotiate a deal to make it easier to sell\"]\n",
      "\n"
     ]
    },
    {
     "name": "stderr",
     "output_type": "stream",
     "text": [
      "\r",
      " 78%|███████▊  | 800/1022 [11:48:24<3:31:50, 57.26s/it]"
     ]
    },
    {
     "name": "stdout",
     "output_type": "stream",
     "text": [
      "input_ids shape: torch.Size([1, 59])\n",
      "Reference Summary:\n",
      "Russian President Vladimir Putin orders the Russian Ground Forces to join firefighting efforts to help tackle raging wildfires in Siberia. A state of emergency has been declared in Irkutsk Oblast, Krasnoyarsk Krai, Buryatia and Sakha Republic, where millions of hectares are currently burning out of control.\n",
      "Predictions: \n",
      "['The Russian president has called the U.S. president to discuss the situation in Siberia. The Russian government has been battling a series of wildfires in the region. The fires have been burning in Siberia and the Russian Far East. The U.N. has warned that the fires']\n",
      "\n"
     ]
    },
    {
     "name": "stderr",
     "output_type": "stream",
     "text": [
      "\r",
      " 78%|███████▊  | 801/1022 [11:49:22<3:32:03, 57.57s/it]"
     ]
    },
    {
     "name": "stdout",
     "output_type": "stream",
     "text": [
      "input_ids shape: torch.Size([1, 56])\n",
      "Reference Summary:\n",
      "A United States Navy F/A-18E/F Super Hornet crashes in Death Valley National Park, California, leaving seven visitors on the ground with minor injuries. A search and rescue operation is underway for the pilot.\n",
      "Predictions: \n",
      "['The U.S. Navy F/A-18 Super Hornet crashed in the California desert. The crash occurred in the middle of a flight over the desert. A Navy spokesman says the jet was on a routine training exercise. The pilot was not injured.']\n",
      "\n"
     ]
    },
    {
     "name": "stderr",
     "output_type": "stream",
     "text": [
      "\r",
      " 78%|███████▊  | 802/1022 [11:50:19<3:29:51, 57.23s/it]"
     ]
    },
    {
     "name": "stdout",
     "output_type": "stream",
     "text": [
      "input_ids shape: torch.Size([1, 59])\n",
      "Reference Summary:\n",
      "An explosion at an ExxonMobil oil refinery in Baytown, Texas, hospitalizes 66 people.\n",
      "Predictions: \n",
      "['The fire is at the ExxonMobil plant in Baytown, Texas. The company is in the process of upgrading the plant to a new state-of-the-art facility. The plant is located in the Baytown area of the city. The fire is being treated as']\n",
      "\n"
     ]
    },
    {
     "name": "stderr",
     "output_type": "stream",
     "text": [
      "\r",
      " 79%|███████▊  | 803/1022 [11:51:15<3:28:03, 57.00s/it]"
     ]
    },
    {
     "name": "stdout",
     "output_type": "stream",
     "text": [
      "input_ids shape: torch.Size([1, 59])\n",
      "Reference Summary:\n",
      "The United States Department of the Treasury sanctions Iranian Foreign Minister Mohammad Javad Zarif for implementing the \"reckless agenda of the Supreme Leader of Iran Ali Khamenei\".\n",
      "Predictions: \n",
      "['Iranian foreign minister is hit with sanctions for his country\\'s nuclear program. U.S. government says it is imposing sanctions on Iran\\'s foreign minister. Iran\\'s president says the sanctions are a \"threat to the existence of the Islamic Republic\" Iran\\'s government says the move']\n",
      "\n"
     ]
    },
    {
     "name": "stderr",
     "output_type": "stream",
     "text": [
      "\r",
      " 79%|███████▊  | 804/1022 [11:52:12<3:26:26, 56.82s/it]"
     ]
    },
    {
     "name": "stdout",
     "output_type": "stream",
     "text": [
      "input_ids shape: torch.Size([1, 59])\n",
      "Reference Summary:\n",
      "At least 10 people are injured after fireworks were shot from a moving car into a crowd of pro-democracy activists in Hong Kong.\n",
      "Predictions: \n",
      "[\"The Hong Kong government has been in a state of emergency since a deadly attack in June. The incident occurred during a protest against the government's handling of the Occupy Hong Kong protests. The Hong Kong police have been accused of using excessive force against protesters. The government has said it\"]\n",
      "\n"
     ]
    },
    {
     "name": "stderr",
     "output_type": "stream",
     "text": [
      "\r",
      " 79%|███████▉  | 805/1022 [11:53:09<3:25:48, 56.90s/it]"
     ]
    },
    {
     "name": "stdout",
     "output_type": "stream",
     "text": [
      "input_ids shape: torch.Size([1, 59])\n",
      "Reference Summary:\n",
      "At least 36 security forces, including Southern Movement commander Munir Al Yafi, are killed and scores wounded in a rocket attack on a military camp near the city of Aden, Yemen. In an earlier attack, 13 people are killed by a suicide bomber in Sheikh Othman. The rocket attack was claimed by Houthi movement, while the suicide bombing was claimed by Islamic State.\n",
      "Predictions: \n",
      "['Yemeni officials say at least 40 people were killed in the attack. The attack took place in the Yemeni city of Aden. The attacks were carried out by a group of armed men. The attackers were believed to be from the Houthi movement. The Houthis are fighting']\n",
      "\n"
     ]
    },
    {
     "name": "stderr",
     "output_type": "stream",
     "text": [
      "\r",
      " 79%|███████▉  | 806/1022 [11:54:05<3:24:00, 56.67s/it]"
     ]
    },
    {
     "name": "stdout",
     "output_type": "stream",
     "text": [
      "input_ids shape: torch.Size([1, 56])\n",
      "Reference Summary:\n",
      "Mayor of Mogadishu Abdirahman Abdi Osman dies from injuries he sustained during the 24 July 2019 Mogadishu bombing.\n",
      "Predictions: \n",
      "['Somali government says Mogadishu mayor dies after attack in office. Mogadishus mayor was wounded in an al-Shabab attack. He was killed in an attack in his office. The mayor was killed by a bomb planted in his car.']\n",
      "\n"
     ]
    },
    {
     "name": "stderr",
     "output_type": "stream",
     "text": [
      "\r",
      " 79%|███████▉  | 807/1022 [11:55:01<3:22:32, 56.52s/it]"
     ]
    },
    {
     "name": "stdout",
     "output_type": "stream",
     "text": [
      "input_ids shape: torch.Size([1, 58])\n",
      "Reference Summary:\n",
      "President of the United States Donald Trump announces in a tweet that the United States will impose import tariffs of 10% on US$300 billion worth of Chinese exports starting September 1.\n",
      "Predictions: \n",
      "[\"The U.S. president has announced new tariffs on Chinese imports. The move is expected to hit the Chinese economy hard. The U.N. says the move will hurt the world's largest economy. The Chinese government has said it will retaliate with its own tariffs.\"]\n",
      "\n"
     ]
    },
    {
     "name": "stderr",
     "output_type": "stream",
     "text": [
      "\r",
      " 79%|███████▉  | 808/1022 [11:55:57<3:21:24, 56.47s/it]"
     ]
    },
    {
     "name": "stdout",
     "output_type": "stream",
     "text": [
      "input_ids shape: torch.Size([1, 59])\n",
      "Reference Summary:\n",
      "The town of Whaley Bridge in Derbyshire, England, is evacuated after heavy rain and flooding causes structural damage to the nearby dam at the Toddbrook Reservoir amid fears the dam could collapse. A severe flood warning has been issued for communities situated along the River Goyt.\n",
      "Predictions: \n",
      "[\"The dam is believed to be at risk of collapse. The dam is in the area of the town of Whaley Bridge in Derbyshire. The town is home to a number of large reservoirs. The area is also home to the town's largest reservoir, the River Thames\"]\n",
      "\n"
     ]
    },
    {
     "name": "stderr",
     "output_type": "stream",
     "text": [
      "\r",
      " 79%|███████▉  | 809/1022 [11:56:54<3:20:17, 56.42s/it]"
     ]
    },
    {
     "name": "stdout",
     "output_type": "stream",
     "text": [
      "input_ids shape: torch.Size([1, 59])\n",
      "Reference Summary:\n",
      "U.S. Commerce Secretary Wilbur Ross says that the United States has \"a blueprint\" to recover Venezuela's economy if Nicolás Maduro leaves office as the nation's disputed President.\n",
      "Predictions: \n",
      "[\"U.S. Secretary of State Wilbur Ross will attend a summit in Peru on Venezuela on Tuesday. U.S.-based officials will discuss the country's economic situation. U.-S. officials say they will also discuss the political situation in Venezuela. The U.N\"]\n",
      "\n"
     ]
    },
    {
     "name": "stderr",
     "output_type": "stream",
     "text": [
      "\r",
      " 79%|███████▉  | 810/1022 [11:57:50<3:19:25, 56.44s/it]"
     ]
    },
    {
     "name": "stdout",
     "output_type": "stream",
     "text": [
      "input_ids shape: torch.Size([1, 59])\n",
      "Reference Summary:\n",
      "U.S President Donald Trump says that he is considering a blockade of Venezuela as the U.S increases pressure on President Maduro to step down.\n",
      "Predictions: \n",
      "[\"Venezuela's president Nicolas Maduro is facing a growing international pressure. The Venezuelan government is seeking to oust President Nicolas Maduro. The opposition says the president is trying to use the country's oil wealth to buy time. The U.S. government has been trying to get the\"]\n",
      "\n"
     ]
    },
    {
     "name": "stderr",
     "output_type": "stream",
     "text": [
      "\r",
      " 79%|███████▉  | 811/1022 [11:58:46<3:18:20, 56.40s/it]"
     ]
    },
    {
     "name": "stdout",
     "output_type": "stream",
     "text": [
      "input_ids shape: torch.Size([1, 59])\n",
      "Reference Summary:\n",
      "Astronomers from the Max Planck Institute for Astronomy announce the discovery of red dwarf star GJ 357 and its three confirmed exoplanets in the Hydra constellation, one of which (GJ 357 d) is highly likely to be a super-Earth planet located in the system's circumstellar habitable zone where life can exist. The discovery was made using NASA's Transiting Exoplanet Survey Satellite (TESS).\n",
      "Predictions: \n",
      "[\"NASA's new planet-hunting satellite has found a new planet in the habitable zone of a star. The planet is the first to be found in the so-called habitable zone. The new planet is located in the southern part of the habitable region of the solar system.\"]\n",
      "\n"
     ]
    },
    {
     "name": "stderr",
     "output_type": "stream",
     "text": [
      "\r",
      " 79%|███████▉  | 812/1022 [11:59:43<3:17:24, 56.40s/it]"
     ]
    },
    {
     "name": "stdout",
     "output_type": "stream",
     "text": [
      "input_ids shape: torch.Size([1, 59])\n",
      "Reference Summary:\n",
      "At least 19 Yemeni soldiers are killed by an Al-Qaeda in the Arabian Peninsula attack on a military camp in Abyan, Yemen.\n",
      "Predictions: \n",
      "[\"Yemeni officials: Al-Qaida militants kill at least 20 people in attack on military camp. The attack took place in the southern city of Aden. The militants were targeting a military camp in the city's southern part. The attacks came after a series of deadly attacks on\"]\n",
      "\n"
     ]
    },
    {
     "name": "stderr",
     "output_type": "stream",
     "text": [
      "\r",
      " 80%|███████▉  | 813/1022 [12:00:39<3:16:07, 56.30s/it]"
     ]
    },
    {
     "name": "stdout",
     "output_type": "stream",
     "text": [
      "input_ids shape: torch.Size([1, 57])\n",
      "Reference Summary:\n",
      "Multiple bomb blasts hit Bangkok, Thailand, as United States Secretary of State Mike Pompeo attends a regional security summit. At least four people are injured.\n",
      "Predictions: \n",
      "['The U.S. Secretary of State Mike Pompeo is in Thailand for a meeting with the leaders of the region. He is expected to meet with the prime minister of Thailand. The U.N. Security Council is also expected to hold a meeting in Bangkok.']\n",
      "\n"
     ]
    },
    {
     "name": "stderr",
     "output_type": "stream",
     "text": [
      "\r",
      " 80%|███████▉  | 814/1022 [12:01:35<3:15:17, 56.33s/it]"
     ]
    },
    {
     "name": "stdout",
     "output_type": "stream",
     "text": [
      "input_ids shape: torch.Size([1, 59])\n",
      "Reference Summary:\n",
      "The United States formally withdraws from the Intermediate-Range Nuclear Forces Treaty with Russia.\n",
      "Predictions: \n",
      "['The U.S. and Russia have agreed to end a treaty that has been in place since 1987. The treaty was designed to prevent the spread of nuclear weapons. The U.N. says the treaty was a success and has been a key part of the U.K']\n",
      "\n"
     ]
    },
    {
     "name": "stderr",
     "output_type": "stream",
     "text": [
      "\r",
      " 80%|███████▉  | 815/1022 [12:02:31<3:14:08, 56.27s/it]"
     ]
    },
    {
     "name": "stdout",
     "output_type": "stream",
     "text": [
      "input_ids shape: torch.Size([1, 58])\n",
      "Reference Summary:\n",
      "A gunman opens fire in the home of his ex-wife in Zagreb, Croatia, killing six, including a ten-year-old child. He later committed suicide after a manhunt.\n",
      "Predictions: \n",
      "['Croatian police say man shot dead six people, including a 10-year-old child. Police say man killed himself after killing six people in Zagreb. Police: Man killed himself in front of a group of people in the capital Zagrebi.']\n",
      "\n"
     ]
    },
    {
     "name": "stderr",
     "output_type": "stream",
     "text": [
      "\r",
      " 80%|███████▉  | 816/1022 [12:03:28<3:13:14, 56.29s/it]"
     ]
    },
    {
     "name": "stdout",
     "output_type": "stream",
     "text": [
      "input_ids shape: torch.Size([1, 59])\n",
      "Reference Summary:\n",
      "Saudi Arabia grants women the right to travel without permission from a male guardian, and expands their marriage and custodial rights in a series of royal decrees.\n",
      "Predictions: \n",
      "['Saudi Arabia allows women to travel without male consent. The move is seen as a step towards greater freedom for women. The country has been criticized for its treatment of women. It has also been criticized over its treatment for women in the past. The government has been accused of mistreating women']\n",
      "\n"
     ]
    },
    {
     "name": "stderr",
     "output_type": "stream",
     "text": [
      "\r",
      " 80%|███████▉  | 817/1022 [12:03:56<2:43:38, 47.90s/it]"
     ]
    },
    {
     "name": "stdout",
     "output_type": "stream",
     "text": [
      "input_ids shape: torch.Size([1, 59])\n",
      "Reference Summary:\n",
      "Japan carries out the first executions this year, hanging Koichi Shoji, 64, who killed two women in 2001, and serial killer Yasunori Suzuki, 50, who killed three women between 2004 and 2005 in Fukuoka Prefecture.\n",
      "Predictions: \n",
      "['Two men executed in Japan for murder, the first executions of the year. The men were sentenced to death for the murders of two women. The executions are the first in Japan this year. Japan has executed two men for murder in the past two years. The death penalty was']\n",
      "\n"
     ]
    },
    {
     "name": "stderr",
     "output_type": "stream",
     "text": [
      "\r",
      " 80%|████████  | 818/1022 [12:04:52<2:51:20, 50.39s/it]"
     ]
    },
    {
     "name": "stdout",
     "output_type": "stream",
     "text": [
      "input_ids shape: torch.Size([1, 59])\n",
      "Reference Summary:\n",
      "The Liberal Democrats gain the Brecon and Radnorshire seat from the Conservatives. This marks the first time a seat has changed hands in a by-election triggered by a successful recall petition. The working majority of the Conservative government is reduced to one.\n",
      "Predictions: \n",
      "[\"Pro-EU Liberal Democrats win parliamentary seat in Wales. Pro-EU party wins seat from the governing Conservatives. It is a blow to Prime Minister Boris Johnson's government. The seat is in the Welsh region of Brecon and Radnorshire. The Liberal Democrats are the\"]\n",
      "\n"
     ]
    },
    {
     "name": "stderr",
     "output_type": "stream",
     "text": [
      "\r",
      " 80%|████████  | 819/1022 [12:05:48<2:56:23, 52.14s/it]"
     ]
    },
    {
     "name": "stdout",
     "output_type": "stream",
     "text": [
      "input_ids shape: torch.Size([1, 59])\n",
      "Reference Summary:\n",
      "President Trump announces he will not nominate Representative John Ratcliffe to replace Dan Coats as Director of National Intelligence when he resigns on August 15, and plans to block Principal Deputy Director of National Intelligence Sue Gordon from serving as  acting director.\n",
      "Predictions: \n",
      "[\"President Donald Trump's pick for national intelligence director is out. John Ratcliffe, a Republican, was nominated by President Barack Obama. He was the first Republican to be nominated for the job. Ratcliffe was the only Republican to have been nominated. He is now the second Republican\"]\n",
      "\n"
     ]
    },
    {
     "name": "stderr",
     "output_type": "stream",
     "text": [
      "\r",
      " 80%|████████  | 820/1022 [12:06:45<2:59:45, 53.40s/it]"
     ]
    },
    {
     "name": "stdout",
     "output_type": "stream",
     "text": [
      "input_ids shape: torch.Size([1, 59])\n",
      "Reference Summary:\n",
      "Romanian Prime Minister Viorica Dăncilă sacks Minister of Education Ecaterina Andronescu for her controversial comments in a television interview about murdered 15-year-old girl Alexandra Măceșanu, saying she was \"taught not to get in cars with strangers\". A 65-year-old man has since admitted killing Alexandra Măceșanu and another teenage girl who has been missing since April.\n",
      "Predictions: \n",
      "[\"Romanian education minister fired over comments about a 15-year-old girl's rape. The girl was raped and killed in a police raid in southern Romania. The 15- year-old was found dead after police took her from her home in the town of Ialom\"]\n",
      "\n"
     ]
    },
    {
     "name": "stderr",
     "output_type": "stream",
     "text": [
      "\r",
      " 80%|████████  | 821/1022 [12:07:41<3:01:47, 54.27s/it]"
     ]
    },
    {
     "name": "stdout",
     "output_type": "stream",
     "text": [
      "input_ids shape: torch.Size([1, 59])\n",
      "Reference Summary:\n",
      "Brazil's National Space Research Institute Director-General Ricardo Galvão is dismissed from office as a result of the release of data showing a rise in Amazon deforestation. President Jair Bolsonaro has called the release of the data \"irresponsible and sensationalist\".\n",
      "Predictions: \n",
      "[\"Brazilian President Jair Bolsonaro has been critical of the country's deforestation. He has now called for the head of the agency that monitors deforestation to be fired. The agency's chief has been fired over the issue. The president has also called for a review of the way\"]\n",
      "\n"
     ]
    },
    {
     "name": "stderr",
     "output_type": "stream",
     "text": [
      "\r",
      " 80%|████████  | 822/1022 [12:08:37<3:02:51, 54.86s/it]"
     ]
    },
    {
     "name": "stdout",
     "output_type": "stream",
     "text": [
      "input_ids shape: torch.Size([1, 59])\n",
      "Reference Summary:\n",
      "Argentine footballer Lionel Messi is suspended from his national team for three months and fined US$50,000 for criticizing the South American Football Confederation.\n",
      "Predictions: \n",
      "['Lionel Messi has been banned from international football for three months. Messi was banned for three matches after he was accused of corruption. The Barcelona star was also fined $50,000 by the South American football body. Messi has also been banned for two months for his part in']\n",
      "\n"
     ]
    },
    {
     "name": "stderr",
     "output_type": "stream",
     "text": [
      "\r",
      " 81%|████████  | 823/1022 [12:09:34<3:03:49, 55.43s/it]"
     ]
    },
    {
     "name": "stdout",
     "output_type": "stream",
     "text": [
      "input_ids shape: torch.Size([1, 59])\n",
      "Reference Summary:\n",
      "At least 22 people are killed and 24 others injured in a mass shooting at a Walmart in El Paso, Texas. A suspect Patrick Crusius of Allen, Texas was captured alive. The case is being investigated as domestic terrorism given that Patrick Crusius had posted a 4-page white nationalist manifesto titled The Inconvenient Truth on 8chan where he cited a supposed \"Hispanic invasion of Texas\" and \"Simply trying to defend my country from cultural and ethnic replacement\" as motivation for the shooting.\n",
      "Predictions: \n",
      "[\"The shooting occurred in El Paso, Texas, on Saturday. The shooting occurred at a Walmart store. The suspect is believed to be a former customer. The victim's family is said to be among the victims. The gunman is believed dead. The shooter is believed by police to\"]\n",
      "\n"
     ]
    },
    {
     "name": "stderr",
     "output_type": "stream",
     "text": [
      "\r",
      " 81%|████████  | 824/1022 [12:10:33<3:06:05, 56.39s/it]"
     ]
    },
    {
     "name": "stdout",
     "output_type": "stream",
     "text": [
      "input_ids shape: torch.Size([1, 56])\n",
      "Reference Summary:\n",
      "Indian authorities issue evacuation orders for thousands of people, including tourists and Hindu pilgrims heading to the Amarnath Temple for yatra (which has been cancelled) to immediately leave Jammu and Kashmir because of security alerts about possible militant attacks. Also, the pilgrimage to Machel Mata for yatra, which also began on 1 July, has been suspended.\n",
      "Predictions: \n",
      "['The Indian government has issued a statement on the situation in Kashmir. The statement said the government has been informed of a possible threat to the security of the state. The government has also issued a warning to the Indian government to keep a close eye on the region.']\n",
      "\n"
     ]
    },
    {
     "name": "stderr",
     "output_type": "stream",
     "text": [
      "\r",
      " 81%|████████  | 825/1022 [12:10:45<2:21:26, 43.08s/it]"
     ]
    },
    {
     "name": "stdout",
     "output_type": "stream",
     "text": [
      "input_ids shape: torch.Size([1, 59])\n",
      "Reference Summary:\n",
      "Argentine President Mauricio Macri receives the U.S. Commerce Secretary Wilbur Ross, who expresses full support from the U.S. for his re-election in the upcoming Argentine elections.\n",
      "Predictions: \n",
      "[\"Argentina's President Mauricio Macri is seeking re-election. He is expected to be re-elected in a landslide. The Argentine president is a former president of Argentina. He has been in office since December 2013. He was elected in a referendum in May 2013\"]\n",
      "\n"
     ]
    },
    {
     "name": "stderr",
     "output_type": "stream",
     "text": [
      "\r",
      " 81%|████████  | 826/1022 [12:11:47<2:39:26, 48.81s/it]"
     ]
    },
    {
     "name": "stdout",
     "output_type": "stream",
     "text": [
      "input_ids shape: torch.Size([1, 59])\n",
      "Reference Summary:\n",
      "The African Union announces the Sudanese military council and the opposition agreed to a constitutional declaration that will pave the way to a new transitional government. It calls for the new government to be headed by six civilians and five generals, and formally places the Rapid Support Forces under military command.\n",
      "Predictions: \n",
      "[\"Sudan's military and opposition agree to a new constitution. The deal will pave the way for a new government. The agreement was reached after a series of meetings between the two sides. The new constitution will be signed on August 1. The country has been in turmoil since the o\"]\n",
      "\n"
     ]
    },
    {
     "name": "stderr",
     "output_type": "stream",
     "text": [
      "\r",
      " 81%|████████  | 827/1022 [12:12:54<2:56:54, 54.44s/it]"
     ]
    },
    {
     "name": "stdout",
     "output_type": "stream",
     "text": [
      "input_ids shape: torch.Size([1, 59])\n",
      "Reference Summary:\n",
      "Several hundred people are detained by Russian police at unauthorized protests in Moscow. The protests occurred because several opposition candidates were disqualified from running in the upcoming Moscow City legislative election.\n",
      "Predictions: \n",
      "[\"Police detained more than 100 people at an anti-government protest in Moscow. The protest was held in the capital's central square. The protesters were protesting against the government's handling of the recent elections. The opposition says the election was rigged. The government says the vote was held\"]\n",
      "\n"
     ]
    },
    {
     "name": "stderr",
     "output_type": "stream",
     "text": [
      "\r",
      " 81%|████████  | 828/1022 [12:13:01<2:09:20, 40.00s/it]"
     ]
    },
    {
     "name": "stdout",
     "output_type": "stream",
     "text": [
      "input_ids shape: torch.Size([1, 59])\n",
      "Reference Summary:\n",
      "Mitchie Brusco becomes the first skateboarder in history to complete a 1260° (3½-revolution aerial spin) in competition.\n",
      "Predictions: \n",
      "[\"The first ever 'Hobbs & Shaw' is a 'full-length' version of the popular 'Furious 7' series. The first ever full-length 'Hollywood' version is a full-blown 'Hollow Man' with a full 12-hour\"]\n",
      "\n"
     ]
    },
    {
     "name": "stderr",
     "output_type": "stream",
     "text": [
      "\r",
      " 81%|████████  | 829/1022 [12:13:58<2:25:37, 45.27s/it]"
     ]
    },
    {
     "name": "stdout",
     "output_type": "stream",
     "text": [
      "input_ids shape: torch.Size([1, 59])\n",
      "Reference Summary:\n",
      "A car drives into three other cars causing an explosive crash outside the National Cancer Institute Egypt campus in central Cairo, killing 20 people and injuring 47 others. The Interior Ministry says that the car that hit the others contained explosives and was to be used in a terrorist operation. The driver fled the scene before the explosion. The minister accuses the Islamist Hasm Movement of being behind the attack.\n",
      "Predictions: \n",
      "['Egyptian government says car bomb blast in Cairo killed 20 people. Car bomb was in front of a car that was carrying a woman and her child. The car was carrying the woman and child to a hospital. The woman was killed in the blast. The explosion was in the']\n",
      "\n"
     ]
    },
    {
     "name": "stderr",
     "output_type": "stream",
     "text": [
      "\r",
      " 81%|████████  | 830/1022 [12:14:56<2:36:28, 48.90s/it]"
     ]
    },
    {
     "name": "stdout",
     "output_type": "stream",
     "text": [
      "input_ids shape: torch.Size([1, 59])\n",
      "Reference Summary:\n",
      "Iran seizes a foreign tanker, reported to be Iraqi, in the Persian Gulf, according to Iranian state media. The Iranians accuse the tanker of \"smuggling fuel for some Arab countries\".\n",
      "Predictions: \n",
      "[\"Iranian state media: Iran's Revolutionary Guard seized a tanker in the Gulf. The ship was carrying fuel for a U.S. Navy vessel, the Iranian state news agency reported. The tanker was carrying a cargo of fuel, the report said. The vessel was seized in\"]\n",
      "\n"
     ]
    },
    {
     "name": "stderr",
     "output_type": "stream",
     "text": [
      "\r",
      " 81%|████████▏ | 831/1022 [12:15:54<2:44:58, 51.83s/it]"
     ]
    },
    {
     "name": "stdout",
     "output_type": "stream",
     "text": [
      "input_ids shape: torch.Size([1, 59])\n",
      "Reference Summary:\n",
      "A mass shooting occurs at a bar in the Oregon Historic District of Dayton, Ohio, United States. Nine people are killed and at least 27 others are injured. The shooter Connor Betts is killed by police.\n",
      "Predictions: \n",
      "[\"The shooting happened in Dayton, Ohio. The suspect was killed in the attack. The shooting occurred in the city's downtown area. The shooter was killed by police. The victims were killed in a hail of gunfire. The gunman was killed. The victim's family is among the\"]\n",
      "\n"
     ]
    },
    {
     "name": "stderr",
     "output_type": "stream",
     "text": [
      "\r",
      " 81%|████████▏ | 832/1022 [12:16:55<2:52:12, 54.38s/it]"
     ]
    },
    {
     "name": "stdout",
     "output_type": "stream",
     "text": [
      "input_ids shape: torch.Size([1, 59])\n",
      "Reference Summary:\n",
      "French inventor Franky Zapata successfully crosses the English Channel on the jet-powered Flyboard Air. The 22-mile (35.4-km) journey took 22 minutes with one refueling stop about halfway to Dover, England.\n",
      "Predictions: \n",
      "['French inventor Franky Zapata has flown over the English Channel on a hoverboard. He was flying over the Channel on his own, using a hover board. He has now flown over a total of three times, and has even flown over France. He is now in the']\n",
      "\n"
     ]
    },
    {
     "name": "stderr",
     "output_type": "stream",
     "text": [
      "\r",
      " 82%|████████▏ | 833/1022 [12:17:57<2:59:03, 56.84s/it]"
     ]
    },
    {
     "name": "stdout",
     "output_type": "stream",
     "text": [
      "input_ids shape: torch.Size([1, 59])\n",
      "Reference Summary:\n",
      "In golf, Japan's Hinako Shibuno wins the year's final major championship by one shot over American Lizette Salas. Shibuno, a 20-year-old rookie on the Japan LPGA Tour, was playing outside her home country for the first time, and was also playing for the first time in a major recognized by the U.S. LPGA.\n",
      "Predictions: \n",
      "[\"Hinako Shibuno is the first Japanese woman to win a major championship. She is the youngest woman to ever win the Women's British Open. Shibuno won the tournament in her first major title in her debut in 2011. She shot a final round of 67 to take\"]\n",
      "\n"
     ]
    },
    {
     "name": "stderr",
     "output_type": "stream",
     "text": [
      "\r",
      " 82%|████████▏ | 834/1022 [12:19:00<3:03:16, 58.49s/it]"
     ]
    },
    {
     "name": "stdout",
     "output_type": "stream",
     "text": [
      "input_ids shape: torch.Size([1, 59])\n",
      "Reference Summary:\n",
      "A Libyan National Army airstrike on the southern Libyan town of Murzuk reportedly kills at least 43 people and injures 51 others, according to local officials. An LNA spokesperson says the raid had targeted \"Chadian mercenaries\".\n",
      "Predictions: \n",
      "['A drone strike on a town in southern Libya kills at least 43 people, a local official says. The attack is the second in two days, the official says, and comes after a similar attack in the town of Murzuq. The Libyan government says the attack was carried']\n",
      "\n"
     ]
    },
    {
     "name": "stderr",
     "output_type": "stream",
     "text": [
      "\r",
      " 82%|████████▏ | 835/1022 [12:20:01<3:05:24, 59.49s/it]"
     ]
    },
    {
     "name": "stdout",
     "output_type": "stream",
     "text": [
      "input_ids shape: torch.Size([1, 59])\n",
      "Reference Summary:\n",
      "China lets its currency drop to its lowest reported level since 2008 and also asks its state-owned companies to halt imports of U.S. agricultural products. In response the U.S. Treasury Department designates China as a currency manipulator.\n",
      "Predictions: \n",
      "[\"China's currency has fallen to a record low against the dollar. The yuan has fallen more than 1% against the U.S. dollar since the start of the year. The move has been seen as a sign of China's growing economic strength. The U.N.\"]\n",
      "\n"
     ]
    },
    {
     "name": "stderr",
     "output_type": "stream",
     "text": [
      "\r",
      " 82%|████████▏ | 836/1022 [12:21:06<3:08:39, 60.86s/it]"
     ]
    },
    {
     "name": "stdout",
     "output_type": "stream",
     "text": [
      "input_ids shape: torch.Size([1, 59])\n",
      "Reference Summary:\n",
      "Harland and Wolff, known for constructing several famous ships, including the RMS Titanic and HMS Belfast, collapses into administration. All 130 employees have been given redundancy notices, and the company is expected to cease trading after 158 years.\n",
      "Predictions: \n",
      "['Harland and Wolff, the shipyard that built the Titanic, is to be taken over by a new firm. The company has been in administration since the end of the 1990s. The shipyard is in Belfast, Northern Ireland. The firm is owned by the same']\n",
      "\n"
     ]
    },
    {
     "name": "stderr",
     "output_type": "stream",
     "text": [
      "\r",
      " 82%|████████▏ | 837/1022 [12:21:35<2:38:16, 51.33s/it]"
     ]
    },
    {
     "name": "stdout",
     "output_type": "stream",
     "text": [
      "input_ids shape: torch.Size([1, 56])\n",
      "Reference Summary:\n",
      "A bus carrying volunteer doctors from La Paz towards the north of Bolivia crashed, leaving 14 dead and 21 injured.\n",
      "Predictions: \n",
      "['Bus carrying volunteer doctors from La Paz to north of Bolivia crashes. 14 dead and 21 injured, the La Paza local government said. The doctors were part of the MedFund foundation. The crash happened on Sunday night. The cause of the crash is still unknown.']\n",
      "\n"
     ]
    },
    {
     "name": "stderr",
     "output_type": "stream",
     "text": [
      "\r",
      " 82%|████████▏ | 838/1022 [12:22:38<2:48:17, 54.88s/it]"
     ]
    },
    {
     "name": "stdout",
     "output_type": "stream",
     "text": [
      "input_ids shape: torch.Size([1, 59])\n",
      "Reference Summary:\n",
      "A fire and large explosions at a Russian Armed Forces ammunition dump prompts the mass evacuation of civilians from the nearby city of Achinsk.\n",
      "Predictions: \n",
      "['Explosion at Russian military base in Siberia injures at least two people. The explosion happened at a military ammunition dump. The blast set off fires and injured at least four people. It was at a depot in Siberia. The depot is located in the town of Krasn']\n",
      "\n"
     ]
    },
    {
     "name": "stderr",
     "output_type": "stream",
     "text": [
      "\r",
      " 82%|████████▏ | 839/1022 [12:23:41<2:54:44, 57.29s/it]"
     ]
    },
    {
     "name": "stdout",
     "output_type": "stream",
     "text": [
      "input_ids shape: torch.Size([1, 59])\n",
      "Reference Summary:\n",
      "The United Kingdom announces it is joining a United States-led naval mission in the Persian Gulf to protect oil tankers, following several seizures in international waters by Iran's Islamic Revolutionary Guard Corps.\n",
      "Predictions: \n",
      "[\"Iranian foreign minister: U.S. is trying to use its influence to stop Iran from developing nuclear weapons. Iran's foreign minister says the U.N. Security Council should not be allowed to use the U.-N. nuclear deal to develop nuclear weapons as a tool\"]\n",
      "\n"
     ]
    },
    {
     "name": "stderr",
     "output_type": "stream",
     "text": [
      "\r",
      " 82%|████████▏ | 840/1022 [12:24:42<2:57:50, 58.63s/it]"
     ]
    },
    {
     "name": "stdout",
     "output_type": "stream",
     "text": [
      "input_ids shape: torch.Size([1, 57])\n",
      "Reference Summary:\n",
      "Colombia grants national citizenship to all children born in the country to Venezuelan parents since August 2015. The measure will be in force for two years.\n",
      "Predictions: \n",
      "['Colombia will grant citizenship to at least 24,000 children born to Venezuelan parents. President Ivan Duque announced the move on Monday. The move will help children who are at risk of statelessness. The children will be able to apply for citizenship in Colombia.']\n",
      "\n"
     ]
    },
    {
     "name": "stderr",
     "output_type": "stream",
     "text": [
      "\r",
      " 82%|████████▏ | 841/1022 [12:25:44<2:59:44, 59.58s/it]"
     ]
    },
    {
     "name": "stdout",
     "output_type": "stream",
     "text": [
      "input_ids shape: torch.Size([1, 57])\n",
      "Reference Summary:\n",
      "Cesar Sayoc is sentenced to 20 years in prison for sending pipe bombs to CNN and several prominent U.S. Democrats including former President Barack Obama and former Vice President Joe Biden last year.\n",
      "Predictions: \n",
      "['The Florida man who sent pipe bombs to Democrats and CNN was sentenced to 20 years in prison. He was sentenced on Monday. The man was convicted of sending the bombs to a Florida man and a woman. The bombs were sent to a man and woman in Florida.']\n",
      "\n"
     ]
    },
    {
     "name": "stderr",
     "output_type": "stream",
     "text": [
      "\r",
      " 82%|████████▏ | 842/1022 [12:26:46<3:01:00, 60.34s/it]"
     ]
    },
    {
     "name": "stdout",
     "output_type": "stream",
     "text": [
      "input_ids shape: torch.Size([1, 59])\n",
      "Reference Summary:\n",
      "R. Kelly is charged with two counts for engaging in prostitution with a person under 18 in Minnesota.\n",
      "Predictions: \n",
      "['R. Kelly is charged with two counts of sexual misconduct with a minor. The singer is accused of having sex with a girl in a hotel room in 2001. He is accused in the case of having sexual relations with a teenage girl. The charges are related to a separate incident in 2002']\n",
      "\n"
     ]
    },
    {
     "name": "stderr",
     "output_type": "stream",
     "text": [
      "\r",
      " 82%|████████▏ | 843/1022 [12:27:47<3:00:23, 60.47s/it]"
     ]
    },
    {
     "name": "stdout",
     "output_type": "stream",
     "text": [
      "input_ids shape: torch.Size([1, 59])\n",
      "Reference Summary:\n",
      "Hong Kong citizens call for a city-wide general strike with various sit-ins in seven districts. With thousands of workers announcing their participation, over 200 flights were cancelled, MTR lines halted and the Hang Seng Index dropped sharply. Chief Executive Carrie Lam blamed protesters for \"destroying Hong Kong\" and rejected their demands.\n",
      "Predictions: \n",
      "['Hong Kong protesters have been protesting against the government for more than a month. The protests have been largely peaceful, but have turned violent in recent days. The protesters are demanding that the government step down. The government has been accused of using violence to try to quell the protests']\n",
      "\n"
     ]
    },
    {
     "name": "stderr",
     "output_type": "stream",
     "text": [
      "\r",
      " 83%|████████▎ | 844/1022 [12:28:46<2:57:57, 59.99s/it]"
     ]
    },
    {
     "name": "stdout",
     "output_type": "stream",
     "text": [
      "input_ids shape: torch.Size([1, 59])\n",
      "Reference Summary:\n",
      "India revokes Jammu and Kashmir's special status amidst increased regional tensions. The Indian government moved additional troops into the sensitive area before banning assemblies, closing schools, restricting tourism and announcing a plan to split the state into two union territories.\n",
      "Predictions: \n",
      "[\"India's government has announced it will not allow Kashmir to be part of India. The move is seen as a blow to the Indian government's claim to Kashmir. The Indian government has also announced it is to withdraw its troops from the region. The decision is seen by many as\"]\n",
      "\n"
     ]
    },
    {
     "name": "stderr",
     "output_type": "stream",
     "text": [
      "\r",
      " 83%|████████▎ | 845/1022 [12:29:49<2:59:48, 60.95s/it]"
     ]
    },
    {
     "name": "stdout",
     "output_type": "stream",
     "text": [
      "input_ids shape: torch.Size([1, 58])\n",
      "Reference Summary:\n",
      "8chan is taken offline after San Francisco-based Cloudflare cuts support for the site in response to the perpetrator Patrick Crusius posting his white nationalist manifesto The Inconvenient Truth on the site shortly before killing 22 people and injuring 24 others at a Walmart in El Paso, Texas which was an anti-Hispanic terrorist attack.\n",
      "Predictions: \n",
      "[\"The shooting occurred in El Paso, Texas, on Saturday. The shooting was the deadliest in the city's history. The suspect was killed in a shootout with police. The gunman was killed by police. He was shot dead by police after opening fire in a crowded Walmart.\"]\n",
      "\n"
     ]
    },
    {
     "name": "stderr",
     "output_type": "stream",
     "text": [
      "\r",
      " 83%|████████▎ | 846/1022 [12:30:56<3:03:48, 62.66s/it]"
     ]
    },
    {
     "name": "stdout",
     "output_type": "stream",
     "text": [
      "input_ids shape: torch.Size([1, 59])\n",
      "Reference Summary:\n",
      "German association football club Chemnitzer FC sacks club captain Daniel Frahn for \"openly displaying sympathy for Neo-Nazi groups\". Frahn, who is currently unable to play due to injury, watched the club's recent match in the stands with far-right hooligan fans.\n",
      "Predictions: \n",
      "[\"German club captain Daniel Frahn has been sacked by German side Chemnitzer FC. Frahns was sacked for 'openly displaying' his support for neo-Nazi groups. Fahren was also accused of 'disguising' his sympathies with the Nazis\"]\n",
      "\n"
     ]
    },
    {
     "name": "stderr",
     "output_type": "stream",
     "text": [
      "\r",
      " 83%|████████▎ | 847/1022 [12:31:53<2:57:47, 60.96s/it]"
     ]
    },
    {
     "name": "stdout",
     "output_type": "stream",
     "text": [
      "input_ids shape: torch.Size([1, 59])\n",
      "Reference Summary:\n",
      "Four Ukrainian Ground Forces soldiers are killed in an attack by pro-Russian separatists, near the village of Pavlopil in the war-torn eastern Donetsk Oblast.\n",
      "Predictions: \n",
      "['Four Ukrainian soldiers killed in a shelling in eastern Ukraine. The deaths are the highest death toll in a single day since the conflict began in Ukraine in April. The shelling took place in the eastern city of Mariupol. The attack was the first since the start of the conflict']\n",
      "\n"
     ]
    },
    {
     "name": "stderr",
     "output_type": "stream",
     "text": [
      "\r",
      " 83%|████████▎ | 848/1022 [12:32:51<2:54:06, 60.04s/it]"
     ]
    },
    {
     "name": "stdout",
     "output_type": "stream",
     "text": [
      "input_ids shape: torch.Size([1, 59])\n",
      "Reference Summary:\n",
      "U.S. President Donald Trump signs an executive order freezing all assets and interests of the Venezuelan government as contained within the United States, a severe escalation from recent industry sanctions and verbal rhetoric. Twenty-one exceptions are issued, for companies providing services including oil, aid, and telecommunications. The expanded sanctions are widely criticized as likely to worsen the conditions for people in Venezuela.\n",
      "Predictions: \n",
      "[\"The U.S. has imposed sanctions on Venezuela's government. The move is part of a larger effort to pressure the Venezuelan government. Venezuela's president has been in power since 2013. The U.N. Security Council has approved a resolution to impose sanctions on the Venezuelan regime\"]\n",
      "\n"
     ]
    },
    {
     "name": "stderr",
     "output_type": "stream",
     "text": [
      "\r",
      " 83%|████████▎ | 849/1022 [12:33:48<2:50:51, 59.26s/it]"
     ]
    },
    {
     "name": "stdout",
     "output_type": "stream",
     "text": [
      "input_ids shape: torch.Size([1, 58])\n",
      "Reference Summary:\n",
      "Pakistani Prime Minister Imran Khan vows to fight India's unilateral decision to revoke Indian-administered Kashmir's autonomy, including in the United Nations General Assembly and Security Council. Mr. Khan stated this move is a breach of international law, adding he feared the possibility of ethnic cleansing in the Muslim-majority region.\n",
      "Predictions: \n",
      "[\"India's decision to revoke Kashmir's special status is a blow to Pakistan. The move is seen as a blow for Pakistan's claim to Kashmir. The Indian government has been accused of violating the sovereignty of Kashmir. Pakistan's government has said it will not accept the decision.\"]\n",
      "\n"
     ]
    },
    {
     "name": "stderr",
     "output_type": "stream",
     "text": [
      "\r",
      " 83%|████████▎ | 850/1022 [12:34:17<2:23:56, 50.21s/it]"
     ]
    },
    {
     "name": "stdout",
     "output_type": "stream",
     "text": [
      "input_ids shape: torch.Size([1, 59])\n",
      "Reference Summary:\n",
      "China, which administers the Kashmir territories of Aksai Chin and the Trans-Karakoram Tract, voices opposition to this \"unacceptable\" Indian move and, along with Turkey, reaffirms their support for a peaceful resolution.\n",
      "Predictions: \n",
      "[\"India's decision to take action against Kashmir has been condemned by the international community. The move has been described as a 'provocation' by the Indian government. The Indian government has also been accused of trying to use the Kashmir issue to gain political leverage. The U.S\"]\n",
      "\n"
     ]
    },
    {
     "name": "stderr",
     "output_type": "stream",
     "text": [
      "\r",
      " 83%|████████▎ | 851/1022 [12:35:15<2:29:07, 52.32s/it]"
     ]
    },
    {
     "name": "stdout",
     "output_type": "stream",
     "text": [
      "input_ids shape: torch.Size([1, 59])\n",
      "Reference Summary:\n",
      "Kashmir remains on lockdown, with the internet out and nearly all phone lines severed.\n",
      "Predictions: \n",
      "['Indian lawmakers have passed a bill that strips statehood from the Indian-administered portion of Kashmir. The bill would also strip Kashmir of its right to self-determination. The move would also end the right of Kashmiris to vote in elections. The statehood bill was passed']\n",
      "\n"
     ]
    },
    {
     "name": "stderr",
     "output_type": "stream",
     "text": [
      "\r",
      " 83%|████████▎ | 852/1022 [12:36:12<2:32:30, 53.83s/it]"
     ]
    },
    {
     "name": "stdout",
     "output_type": "stream",
     "text": [
      "input_ids shape: torch.Size([1, 59])\n",
      "Reference Summary:\n",
      "Florida Governor Ron DeSantis orders law enforcement to handle a criminal probe of Jeffrey Epstein's jail release in the late 2000s.\n",
      "Predictions: \n",
      "[\"Florida governor asks for investigation into Jeffrey Epstein's case. Epstein is a convicted sex offender who was convicted of child sex abuse. He was convicted in 2008 of sexually abusing underage girls. He is now facing charges of sexual abuse and child pornography. The case is being investigated by the\"]\n",
      "\n"
     ]
    },
    {
     "name": "stderr",
     "output_type": "stream",
     "text": [
      "\r",
      " 83%|████████▎ | 853/1022 [12:36:30<2:01:47, 43.24s/it]"
     ]
    },
    {
     "name": "stdout",
     "output_type": "stream",
     "text": [
      "input_ids shape: torch.Size([1, 59])\n",
      "Reference Summary:\n",
      "The Argentine government says it has already received \"hundreds\" of reports of human rights abuses and criminal accusations against the Venezuelan government, days after Argentina invited Venezuelans in the country to file reports against the Venezuelan government.\n",
      "Predictions: \n",
      "['U.S. has frozen the assets of the Venezuelan government. The move is due to continued usurpation of power by President Nicolas Maduro. The U.S., along with other nations, have accused Maduro of human rights abuses. The government has also been accused of human']\n",
      "\n"
     ]
    },
    {
     "name": "stderr",
     "output_type": "stream",
     "text": [
      "\r",
      " 84%|████████▎ | 854/1022 [12:37:27<2:12:15, 47.23s/it]"
     ]
    },
    {
     "name": "stdout",
     "output_type": "stream",
     "text": [
      "input_ids shape: torch.Size([1, 58])\n",
      "Reference Summary:\n",
      "Scientists at the Spring, Texas, Arch Mission Foundation confirm that tardigrades in a cryptobiotic state were added to the payload of the failed SpaceIL Beresheet lander that crashed on the Moon on 11 April 2019, and may have survived the crash.\n",
      "Predictions: \n",
      "['The Moon may have a population of the world\\'s toughest creatures. The creatures are known as \"tardigrades\" and are thought to be the most resilient creatures on Earth. They are thought by some to be able to survive the harshest conditions of the universe.']\n",
      "\n"
     ]
    },
    {
     "name": "stderr",
     "output_type": "stream",
     "text": [
      "\r",
      " 84%|████████▎ | 855/1022 [12:38:09<2:07:19, 45.75s/it]"
     ]
    },
    {
     "name": "stdout",
     "output_type": "stream",
     "text": [
      "input_ids shape: torch.Size([1, 59])\n",
      "Reference Summary:\n",
      "The European Space Agency successfully launches the German Aerospace Center-operated EDRS-C laser communication satellite on a Ariane 5 from the Guiana Space Centre in French Guiana.\n",
      "Predictions: \n",
      "[\"The new satellite will be the first to be launched from the European Space Agency's new space station. The satellite will carry a payload of more than 100,000 pounds. The launch will be followed by a second satellite to carry a second payload. The second satellite will take the\"]\n",
      "\n"
     ]
    },
    {
     "name": "stderr",
     "output_type": "stream",
     "text": [
      "\r",
      " 84%|████████▍ | 856/1022 [12:39:05<2:15:07, 48.84s/it]"
     ]
    },
    {
     "name": "stdout",
     "output_type": "stream",
     "text": [
      "input_ids shape: torch.Size([1, 56])\n",
      "Reference Summary:\n",
      "SpaceX successfully launches Israeli communications satellite Amos-17 on a Falcon 9 rocket from Cape Canaveral Air Force Station. The launch was provided by SpaceX for free following the destruction of Spacecom's Amos-6 satellite in 2016.\n",
      "Predictions: \n",
      "[\"SpaceX's rocket is set to launch a new satellite for the U.S. military. The rocket is expected to launch in the next few days. The launch is scheduled for Thursday. The satellite will be the first of two planned missions for the company.\"]\n",
      "\n"
     ]
    },
    {
     "name": "stderr",
     "output_type": "stream",
     "text": [
      "\r",
      " 84%|████████▍ | 857/1022 [12:40:02<2:20:31, 51.10s/it]"
     ]
    },
    {
     "name": "stdout",
     "output_type": "stream",
     "text": [
      "input_ids shape: torch.Size([1, 59])\n",
      "Reference Summary:\n",
      "A car bombing by the Taliban kills 14 and injures over 150 in Kabul, Afghanistan.\n",
      "Predictions: \n",
      "['The Taliban say they are behind the attack on a police station in Kabul. The attack was in response to a government crackdown on the Taliban. The Taliban say the attack was a response to the government crackdown. The government says the attack targeted a police checkpoint. The blast killed at']\n",
      "\n"
     ]
    },
    {
     "name": "stderr",
     "output_type": "stream",
     "text": [
      "\r",
      " 84%|████████▍ | 858/1022 [12:40:58<2:24:19, 52.80s/it]"
     ]
    },
    {
     "name": "stdout",
     "output_type": "stream",
     "text": [
      "input_ids shape: torch.Size([1, 56])\n",
      "Reference Summary:\n",
      "The death toll of the heat wave in Japan rises to 57, while 18,347 others are hospitalized.\n",
      "Predictions: \n",
      "['The heat wave has killed 57 people in Japan in the past week. The death toll is the highest in the country since records began in 1910. The heat wave is the worst since the Great Depression. The number of people who have been hospitalized has also risen.']\n",
      "\n"
     ]
    },
    {
     "name": "stderr",
     "output_type": "stream",
     "text": [
      "\r",
      " 84%|████████▍ | 859/1022 [12:41:56<2:26:58, 54.10s/it]"
     ]
    },
    {
     "name": "stdout",
     "output_type": "stream",
     "text": [
      "input_ids shape: torch.Size([1, 59])\n",
      "Reference Summary:\n",
      "A Garden Grove, California, man stabs and kills four people and wounds two others in a two-hour crime spree at a series of Orange County locations. Both injured victims are expected to survive. The motive of the 33-year-old suspect, who was arrested at the last scene, appears to be robbery as well as \"anger and hate.\" (CNN) (AP via KESQ-TV)\n",
      "Predictions: \n",
      "['The suspect is a 33-year-old man from California. He is accused of stabbing four people to death and wounding two others. The suspect is believed to be a former gang member. The victims were killed in a stabbing spree in Southern California. The suspects are believed to']\n",
      "\n"
     ]
    },
    {
     "name": "stderr",
     "output_type": "stream",
     "text": [
      "\r",
      " 84%|████████▍ | 860/1022 [12:42:53<2:28:32, 55.02s/it]"
     ]
    },
    {
     "name": "stdout",
     "output_type": "stream",
     "text": [
      "input_ids shape: torch.Size([1, 59])\n",
      "Reference Summary:\n",
      "Sources from the Brazilian government reveal that Brazilian President Jair Bolsonaro suggested U.S. President Donald Trump visit Argentina in order to back the re-election of President Mauricio Macri.\n",
      "Predictions: \n",
      "[\"The president's election campaign is a referendum on the country's political system. The president's campaign is seen as a referendum against the country’s political system, which is in disarray. The country's president is seeking to win a second term. The election is a\"]\n",
      "\n"
     ]
    },
    {
     "name": "stderr",
     "output_type": "stream",
     "text": [
      "\r",
      " 84%|████████▍ | 861/1022 [12:43:49<2:28:56, 55.51s/it]"
     ]
    },
    {
     "name": "stdout",
     "output_type": "stream",
     "text": [
      "input_ids shape: torch.Size([1, 59])\n",
      "Reference Summary:\n",
      "Kyrgyzstan's security forces storm the compound of former President Almazbek Atambayev on the outskirts of Bishkek for the second time after a failed overnight raid left one officer dead. Atambayev and his loyalists are \"putting up severe armed resistance\", according to President Sooronbay Jeenbekov. Atambayev is detained, ending a two-day standoff. One officer was killed, while 80 people were injured.\n",
      "Predictions: \n",
      "[\"Kyrgyzstan's former president is arrested after a violent protest. He was arrested after his supporters tried to take him from his home. The former president was arrested on suspicion of corruption. He is accused of trying to steal state property. The ex-president was arrested\"]\n",
      "\n"
     ]
    },
    {
     "name": "stderr",
     "output_type": "stream",
     "text": [
      "\r",
      " 84%|████████▍ | 862/1022 [12:44:47<2:29:36, 56.10s/it]"
     ]
    },
    {
     "name": "stdout",
     "output_type": "stream",
     "text": [
      "input_ids shape: torch.Size([1, 59])\n",
      "Reference Summary:\n",
      "The Human Rights Watch breaks a report on violence around the Colombia—Venezuela border since the Colombian peace process, announcing that there has been an ongoing War in the Catatumbo region [es] since early 2018.\n",
      "Predictions: \n",
      "[\"Illegal armed groups have forced some 40,000 people to flee their homes in Colombia. They are fighting for control of drug trafficking routes in Colombia's border region. Rights group warns of new 'war' in Colombia’s border zone. Rights groups say the violence is\"]\n",
      "\n"
     ]
    },
    {
     "name": "stderr",
     "output_type": "stream",
     "text": [
      "\r",
      " 84%|████████▍ | 863/1022 [12:45:44<2:29:09, 56.29s/it]"
     ]
    },
    {
     "name": "stdout",
     "output_type": "stream",
     "text": [
      "input_ids shape: torch.Size([1, 59])\n",
      "Reference Summary:\n",
      "Floods hit the states of Karnataka and Kerala in India, resulting in 11 dead and 43,000 people being evacuated.\n",
      "Predictions: \n",
      "['The Indian state of Kerala is experiencing heavy rains and flooding. The state is experiencing a severe flooding in the past few days. The floods have caused a number of deaths and damage to infrastructure. The Indian government has declared a state of emergency in the state. The government has also']\n",
      "\n"
     ]
    },
    {
     "name": "stderr",
     "output_type": "stream",
     "text": [
      "\r",
      " 85%|████████▍ | 864/1022 [12:46:40<2:28:29, 56.39s/it]"
     ]
    },
    {
     "name": "stdout",
     "output_type": "stream",
     "text": [
      "input_ids shape: torch.Size([1, 59])\n",
      "Reference Summary:\n",
      "The Department of Health of the Philippines declares a national dengue epidemic in the country, as cases spike to 622 deaths.\n",
      "Predictions: \n",
      "['The Philippines has been hit by a dengue outbreak. The outbreak has been declared a national epidemic. The government has declared a state of emergency. The country has been experiencing a high level of dengu fever. The disease has killed more than 1,000 people in']\n",
      "\n"
     ]
    },
    {
     "name": "stderr",
     "output_type": "stream",
     "text": [
      "\r",
      " 85%|████████▍ | 865/1022 [12:47:37<2:27:39, 56.43s/it]"
     ]
    },
    {
     "name": "stdout",
     "output_type": "stream",
     "text": [
      "input_ids shape: torch.Size([1, 57])\n",
      "Reference Summary:\n",
      "Jalisco New Generation Cartel massacres 19 people, hanging 9 of their desecrated bodies from a bridge in Uruapan.\n",
      "Predictions: \n",
      "['Police find bodies hanging from bridge, with a drug cartel banner threatening rivals. Police find bodies of 19 people, including seven who were hacked up and dumped on the road. Police say the bodies were killed by a drug gang in the city of Guadalajara.']\n",
      "\n"
     ]
    },
    {
     "name": "stderr",
     "output_type": "stream",
     "text": [
      "\r",
      " 85%|████████▍ | 866/1022 [12:48:33<2:26:51, 56.49s/it]"
     ]
    },
    {
     "name": "stdout",
     "output_type": "stream",
     "text": [
      "input_ids shape: torch.Size([1, 59])\n",
      "Reference Summary:\n",
      "Matteo Salvini, Italian Deputy Prime Minister, announces the collapse of the coalition government with the Five Stars Movement, opening the possibility of holding a snap election.\n",
      "Predictions: \n",
      "[\"Italian Interior Minister Salvini has called for a new election. He has been in charge of the coalition government since the end of last year. The coalition has been at odds with the country's anti-establishment parties. Salvini's government has been accused of being too Euroscept\"]\n",
      "\n"
     ]
    },
    {
     "name": "stderr",
     "output_type": "stream",
     "text": [
      "\r",
      " 85%|████████▍ | 867/1022 [12:49:30<2:26:07, 56.57s/it]"
     ]
    },
    {
     "name": "stdout",
     "output_type": "stream",
     "text": [
      "input_ids shape: torch.Size([1, 59])\n",
      "Reference Summary:\n",
      "Marek Kuchciński, speaker of the Sejm in Poland, announces his resignation after admitting the use of a government jet for 23 personal flights.\n",
      "Predictions: \n",
      "['Polish parliament speaker resigns over use of government flights. He was accused of using government planes to fly to Brussels for official business. He is the son of former Polish president, who was forced to step down in 2011. The scandal was revealed after he was accused by a']\n",
      "\n"
     ]
    },
    {
     "name": "stderr",
     "output_type": "stream",
     "text": [
      "\r",
      " 85%|████████▍ | 868/1022 [12:50:27<2:25:03, 56.52s/it]"
     ]
    },
    {
     "name": "stdout",
     "output_type": "stream",
     "text": [
      "input_ids shape: torch.Size([1, 58])\n",
      "Reference Summary:\n",
      "The International Monetary Fund finds that China's currency, the yuan, has been \"broadly stable\" against other currencies over the last year. The yuan is pulled down by market pressures due to the slowing economy. Suggesting little intervention by China's central bank, the IMF position is at odds with the designation of China by the U.S. as a currency manipulator.\n",
      "Predictions: \n",
      "[\"China's yuan has been under pressure from the U.S. dollar. China's yuan is the world's most traded currency. The yuan has fallen against the dollar in recent months. The U.N. says the yuan is under pressure because of a slowing economy.\"]\n",
      "\n"
     ]
    },
    {
     "name": "stderr",
     "output_type": "stream",
     "text": [
      "\r",
      " 85%|████████▌ | 869/1022 [12:51:23<2:24:01, 56.48s/it]"
     ]
    },
    {
     "name": "stdout",
     "output_type": "stream",
     "text": [
      "input_ids shape: torch.Size([1, 56])\n",
      "Reference Summary:\n",
      "A landslide in south-eastern Myanmar kills 59 people.\n",
      "Predictions: \n",
      "[\"A landslide in Myanmar has killed at least 10 people and injured more than 30. The landslide was triggered by heavy rain in the country's south. The victims were buried in a village in the state of Rakhine. The death toll is expected to rise.\"]\n",
      "\n"
     ]
    },
    {
     "name": "stderr",
     "output_type": "stream",
     "text": [
      "\r",
      " 85%|████████▌ | 870/1022 [12:52:20<2:23:44, 56.74s/it]"
     ]
    },
    {
     "name": "stdout",
     "output_type": "stream",
     "text": [
      "input_ids shape: torch.Size([1, 59])\n",
      "Reference Summary:\n",
      "A massive power failure affects most of the northwestern and southeastern United Kingdom and London, leaving thousands of homes, various train lines, and parts of Newcastle International Airport without power.\n",
      "Predictions: \n",
      "['Power cut in London and the South East of England has left thousands without power. Power cut has also affected the South West, the South-East and the Midlands. London and South East were hit by a power cut on Friday evening. The power cut has been blamed on a']\n",
      "\n"
     ]
    },
    {
     "name": "stderr",
     "output_type": "stream",
     "text": [
      "\r",
      " 85%|████████▌ | 871/1022 [12:53:18<2:23:21, 56.96s/it]"
     ]
    },
    {
     "name": "stdout",
     "output_type": "stream",
     "text": [
      "input_ids shape: torch.Size([1, 57])\n",
      "Reference Summary:\n",
      "Canadian tourist Kristian Lee Baxter, who had been held in Syrian detention since 2018, is released in Lebanon.\n",
      "Predictions: \n",
      "['The Canadian citizen was held in Syria since last year. He was released after a year in captivity. He is the son of a former Syrian government official. He has been released after being held by Syrian authorities. He had been held in a detention center in Syria.']\n",
      "\n"
     ]
    },
    {
     "name": "stderr",
     "output_type": "stream",
     "text": [
      "\r",
      " 85%|████████▌ | 872/1022 [12:53:38<1:54:50, 45.94s/it]"
     ]
    },
    {
     "name": "stdout",
     "output_type": "stream",
     "text": [
      "input_ids shape: torch.Size([1, 59])\n",
      "Reference Summary:\n",
      "Le Parisien claims French ex-head of security Yves Bonnet [fr] brokered a secret deal with Fatah in the 1980s offering immunity in exchange for no further terror attacks in France.\n",
      "Predictions: \n",
      "['French spy chief admits secret pact with Palestinian terrorists in 1980s. French intelligence chief said to have made deal with Palestinian terror group. French government has denied the claims. French officials say they were unaware of the deal. The deal was made in the 1980s, but was never']\n",
      "\n"
     ]
    },
    {
     "name": "stderr",
     "output_type": "stream",
     "text": [
      "\r",
      " 85%|████████▌ | 873/1022 [12:54:35<2:02:08, 49.19s/it]"
     ]
    },
    {
     "name": "stdout",
     "output_type": "stream",
     "text": [
      "input_ids shape: torch.Size([1, 59])\n",
      "Reference Summary:\n",
      "Deputy Prime Minister of Italy Matteo Salvini presents a vote of no-confidence against Prime Minister Giuseppe Conte.\n",
      "Predictions: \n",
      "[\"Italy's deputy PM Matteo Salvini says the country needs a new government. Salvini's party is in power after a series of inconclusive elections. Salvino's party has been in power since March. The next election is expected to be held in May. The country is in\"]\n",
      "\n"
     ]
    },
    {
     "name": "stderr",
     "output_type": "stream",
     "text": [
      "\r",
      " 86%|████████▌ | 874/1022 [12:55:31<2:06:54, 51.45s/it]"
     ]
    },
    {
     "name": "stdout",
     "output_type": "stream",
     "text": [
      "input_ids shape: torch.Size([1, 59])\n",
      "Reference Summary:\n",
      "Fighters of the Southern Movement capture the port city of Aden from forces loyal to the internationally recognized President of Yemen Abdrabbuh Mansur Hadi.\n",
      "Predictions: \n",
      "[\"Yemen's southern separatists have taken control of the city of Aden. The city is the seat of the internationally recognized government. The southern separatists are fighting against the government's government. They have taken over the city's government-held military base. The fighting has been raging since\"]\n",
      "\n"
     ]
    },
    {
     "name": "stderr",
     "output_type": "stream",
     "text": [
      "\r",
      " 86%|████████▌ | 875/1022 [12:56:28<2:09:52, 53.01s/it]"
     ]
    },
    {
     "name": "stdout",
     "output_type": "stream",
     "text": [
      "input_ids shape: torch.Size([1, 59])\n",
      "Reference Summary:\n",
      "A car bomb goes off in Benghazi, killing three members of the United Nations Support Mission in Libya and two other mission members, and wounding dozens of civilians.\n",
      "Predictions: \n",
      "['Car bomb kills two U.N. staff in Benghazi, Libyan officials say. Car bomb explodes in Benghazi. Two U.S. staff killed in attack. Two killed in car bombing in Benghazi on Saturday. Two dead in attack on U.K. Embassy in Libya.']\n",
      "\n"
     ]
    },
    {
     "name": "stderr",
     "output_type": "stream",
     "text": [
      "\r",
      " 86%|████████▌ | 876/1022 [12:57:25<2:11:45, 54.15s/it]"
     ]
    },
    {
     "name": "stdout",
     "output_type": "stream",
     "text": [
      "input_ids shape: torch.Size([1, 59])\n",
      "Reference Summary:\n",
      "A man in Bærum, Norway, opens fire in Al Noor Islamic Centre, injuring a congregant. A woman was found dead at the house of the suspect.\n",
      "Predictions: \n",
      "[\"Gunman in Norway mosque shooting is arrested, police say. Police say he is a suspect in the shooting at a mosque in Oslo. The gunman is believed to have been a member of the mosque's staff. He is believed in the custody of police. The suspect is believed\"]\n",
      "\n"
     ]
    },
    {
     "name": "stderr",
     "output_type": "stream",
     "text": [
      "\r",
      " 86%|████████▌ | 877/1022 [12:58:22<2:12:41, 54.91s/it]"
     ]
    },
    {
     "name": "stdout",
     "output_type": "stream",
     "text": [
      "input_ids shape: torch.Size([1, 59])\n",
      "Reference Summary:\n",
      "Israeli forces shoot dead four Palestinian militants near the border with Gaza, the Israeli military say. Israel Defense Forces say the men were armed with assault rifles, anti-tank missiles and hand grenades.\n",
      "Predictions: \n",
      "['Israeli troops kill four Palestinian militants who tried to cross Gaza border. Israeli army says it killed the militants after they tried to attack the border fence. Israeli military says it was responding to an attack on its troops by Palestinian militants. The Israeli military said the militants were trying to cross']\n",
      "\n"
     ]
    },
    {
     "name": "stderr",
     "output_type": "stream",
     "text": [
      "\r",
      " 86%|████████▌ | 878/1022 [12:59:19<2:13:16, 55.53s/it]"
     ]
    },
    {
     "name": "stdout",
     "output_type": "stream",
     "text": [
      "input_ids shape: torch.Size([1, 59])\n",
      "Reference Summary:\n",
      "Israeli forces arrest two Palestinians who are suspected of having killed an Israeli soldier.\n",
      "Predictions: \n",
      "['Israeli army says it has found the body of a soldier who was killed in the West Bank. The soldier was killed by a Palestinian gunman who was shot dead. The Israeli army says the soldier was shot by a gunman who had been on the run. The gunman was shot and']\n",
      "\n"
     ]
    },
    {
     "name": "stderr",
     "output_type": "stream",
     "text": [
      "\r",
      " 86%|████████▌ | 879/1022 [13:00:15<2:13:08, 55.86s/it]"
     ]
    },
    {
     "name": "stdout",
     "output_type": "stream",
     "text": [
      "input_ids shape: torch.Size([1, 59])\n",
      "Reference Summary:\n",
      "The death toll due to the monsoon flooding in southern and western India rises to 147, while hundreds of thousands have been evacuated from their homes.\n",
      "Predictions: \n",
      "['Death toll rises to 93 in floods, mudslides in south India. More than 400,000 people have been displaced by floods and mudslide. The worst-hit state is Kerala, which has been hit by heavy rains and flooding. The death toll is expected to']\n",
      "\n"
     ]
    },
    {
     "name": "stderr",
     "output_type": "stream",
     "text": [
      "\r",
      " 86%|████████▌ | 880/1022 [13:01:12<2:12:43, 56.08s/it]"
     ]
    },
    {
     "name": "stdout",
     "output_type": "stream",
     "text": [
      "input_ids shape: torch.Size([1, 59])\n",
      "Reference Summary:\n",
      "At least 56 people have been killed and more than a million forced from their homes as Typhoon Lekima hits eastern China.\n",
      "Predictions: \n",
      "[\"Typhoon Lekima is the most powerful typhoon to hit China in decades. It is expected to make landfall in the eastern part of the country on Saturday. The storm is expected in the region's eastern coast. It has already caused more than a dozen deaths and\"]\n",
      "\n"
     ]
    },
    {
     "name": "stderr",
     "output_type": "stream",
     "text": [
      "\r",
      " 86%|████████▌ | 881/1022 [13:02:08<2:12:04, 56.20s/it]"
     ]
    },
    {
     "name": "stdout",
     "output_type": "stream",
     "text": [
      "input_ids shape: torch.Size([1, 58])\n",
      "Reference Summary:\n",
      "At least 75 people have been killed and 60 injured in a fuel tanker explosion in Morogoro, Tanzania.\n",
      "Predictions: \n",
      "['Police say at least 57 people were killed in the explosion. The explosion occurred in the town of Morogoro in eastern Tanzania. The fuel tanker was carrying fuel for a local fuel station. The blast occurred as people were trying to siphon fuel from the tankers.']\n",
      "\n"
     ]
    },
    {
     "name": "stderr",
     "output_type": "stream",
     "text": [
      "\r",
      " 86%|████████▋ | 882/1022 [13:03:05<2:11:12, 56.23s/it]"
     ]
    },
    {
     "name": "stdout",
     "output_type": "stream",
     "text": [
      "input_ids shape: torch.Size([1, 58])\n",
      "Reference Summary:\n",
      "Five people are confirmed dead and three injured following an accidental rocket explosion on a naval test range near Severodvinsk, Russia on Thursday August 8th. The rocket used an experimental nuclear isotope liquid fuel source, causing a brief localized spike in radiation. 9500 nearby residents were evacuated.\n",
      "Predictions: \n",
      "['Russian nuclear agency says it has found no evidence of a nuclear explosion. The explosion occurred during a test of a new type of nuclear missile. The blast was caused by a rocket explosion, the agency says. The Russian military says the explosion was caused when a rocket exploded.']\n",
      "\n"
     ]
    },
    {
     "name": "stderr",
     "output_type": "stream",
     "text": [
      "\r",
      " 86%|████████▋ | 883/1022 [13:04:01<2:10:38, 56.39s/it]"
     ]
    },
    {
     "name": "stdout",
     "output_type": "stream",
     "text": [
      "input_ids shape: torch.Size([1, 59])\n",
      "Reference Summary:\n",
      "In a letter sent by North Korean leader Kim Jong-un to U.S. President Donald Trump, Kim apologizes for the testing of short-range missiles. Trump says he expects to meet Kim soon and see a denuclearized North Korea as \"one of the most successful countries in the world\".\n",
      "Predictions: \n",
      "[\"North Korea's Kim Jong Un has been in a state of high tension with the U.S. over its nuclear weapons. The North has been conducting a series of missile tests in recent weeks. The U.N. Security Council has called for a halt to the tests.\"]\n",
      "\n"
     ]
    },
    {
     "name": "stderr",
     "output_type": "stream",
     "text": [
      "\r",
      " 86%|████████▋ | 884/1022 [13:04:58<2:09:56, 56.50s/it]"
     ]
    },
    {
     "name": "stdout",
     "output_type": "stream",
     "text": [
      "input_ids shape: torch.Size([1, 57])\n",
      "Reference Summary:\n",
      "American financier Jeffrey Epstein is found dead in his Manhattan jail cell in an apparent suicide while awaiting trial for sex trafficking charges.\n",
      "Predictions: \n",
      "['Jeffrey Epstein was found dead in his New York City jail cell. He was accused of sexually abusing underage girls. Epstein was accused by the FBI of sexually assaulting underage girls in his care. He is accused of having sex with underage girls at his New Jersey mansion.']\n",
      "\n"
     ]
    },
    {
     "name": "stderr",
     "output_type": "stream",
     "text": [
      "\r",
      " 87%|████████▋ | 885/1022 [13:05:55<2:09:08, 56.56s/it]"
     ]
    },
    {
     "name": "stdout",
     "output_type": "stream",
     "text": [
      "input_ids shape: torch.Size([1, 59])\n",
      "Reference Summary:\n",
      "As many as 50,000 people gathered at ongoing protests in Moscow against the Russian authorities preventing several opposition candidates from running in the election, which turned into a protest against the government in general. It is the biggest such event since the 2011 protests.\n",
      "Predictions: \n",
      "[\"Russian protesters protest against the government's election policies. They are demanding that the opposition be allowed to run for office. The protest is the latest in a series of demonstrations against the Russian government. The protests are being held in Moscow's central square. The Russian government has banned the\"]\n",
      "\n"
     ]
    },
    {
     "name": "stderr",
     "output_type": "stream",
     "text": [
      "\r",
      " 87%|████████▋ | 886/1022 [13:06:51<2:08:08, 56.53s/it]"
     ]
    },
    {
     "name": "stdout",
     "output_type": "stream",
     "text": [
      "input_ids shape: torch.Size([1, 58])\n",
      "Reference Summary:\n",
      "Saudi coalition forces intervene in Aden. The Southern Transitional Council says it will not \"negotiate under duress\" with their coalition partners.\n",
      "Predictions: \n",
      "['The Yemeni government is fighting a rebel group in the southern port city of Aden. The rebels are backed by the United Arab Emirates. The UAE has been supporting the government in Yemen since the Arab Spring. The United Arab Emirate has been trying to oust the Yemeni government.']\n",
      "\n"
     ]
    },
    {
     "name": "stderr",
     "output_type": "stream",
     "text": [
      "\r",
      " 87%|████████▋ | 887/1022 [13:07:48<2:07:14, 56.55s/it]"
     ]
    },
    {
     "name": "stdout",
     "output_type": "stream",
     "text": [
      "input_ids shape: torch.Size([1, 56])\n",
      "Reference Summary:\n",
      "Israeli riot police clash with Palestinians at the Al-Aqsa Mosque and Temple Mount site in East Jerusalem. With holidays coincidentally falling on the same day (11 August) this year for both Judaism and Islam, some Palestinians began protesting the admittance of Jewish visitors to the site, despite a longstanding agreement barring Jewish visitors. Following the agreement, the Al-Aqsa police barred Jews from the site. Israeli forces then fired rubber bullets and tear gas at people inside. The Jews were then admitted, which caused further tensions on both sides of the dispute.\n",
      "Predictions: \n",
      "['Israeli police clash with Muslim worshippers at Jerusalem holy site. Muslim worshipper clash with police during Eid al-Adha prayers. Palestinian medics say at least 14 people were wounded. The clashes occurred during the Islamic holiday of Eid al al- Adha.']\n",
      "\n"
     ]
    },
    {
     "name": "stderr",
     "output_type": "stream",
     "text": [
      "\r",
      " 87%|████████▋ | 888/1022 [13:08:44<2:06:09, 56.49s/it]"
     ]
    },
    {
     "name": "stdout",
     "output_type": "stream",
     "text": [
      "input_ids shape: torch.Size([1, 58])\n",
      "Reference Summary:\n",
      "Conservative Alejandro Giammattei is elected in the second round of the presidential election and will take office in January 2020.\n",
      "Predictions: \n",
      "['Conservative Alejandro Giammattei wins presidential election. He is the son of former President Marcos Pérez GiamMattei. He was the son-in-law of former president Marcos Ponce de Leon. He has been in office since 2007.']\n",
      "\n"
     ]
    },
    {
     "name": "stderr",
     "output_type": "stream",
     "text": [
      "\r",
      " 87%|████████▋ | 889/1022 [13:09:41<2:05:36, 56.66s/it]"
     ]
    },
    {
     "name": "stdout",
     "output_type": "stream",
     "text": [
      "input_ids shape: torch.Size([1, 59])\n",
      "Reference Summary:\n",
      "After Argentine President Mauricio Macri comes second in Argentina's primary elections, the country's peso loses 15% of its value against the US dollar.\n",
      "Predictions: \n",
      "[\"Argentina's peso falls to record low after presidential election. President Mauricio Macri's party's primary victory is a blow to his chances of re-election. Argentina's economy is in recession and the peso is in free fall. The country's economy has\"]\n",
      "\n"
     ]
    },
    {
     "name": "stderr",
     "output_type": "stream",
     "text": [
      "\r",
      " 87%|████████▋ | 890/1022 [13:10:24<1:55:20, 52.43s/it]"
     ]
    },
    {
     "name": "stdout",
     "output_type": "stream",
     "text": [
      "input_ids shape: torch.Size([1, 59])\n",
      "Reference Summary:\n",
      "At lest 24 people died after floods strucked across Vietnam. In the south, nearly 3,900 houses and more than 22,000 hectares of crops were submerged, mostly in Lam Dong Province. Floods have also damaged more than 30km of national roads, including the road leading to the tourist city of Dalat and also destroyed 142 hectares of aquarium farming and 4,300 cages of river-raised fish.\n",
      "Predictions: \n",
      "['The body of the last missing flood victim in Vietnam has been recovered. The death toll from floods in the country has risen to 24. The body of a man who was missing in the floods has been found. The man was found in a flooded area of south-central Vietnam']\n",
      "\n"
     ]
    },
    {
     "name": "stderr",
     "output_type": "stream",
     "text": [
      "\r",
      " 87%|████████▋ | 891/1022 [13:10:33<1:25:57, 39.37s/it]"
     ]
    },
    {
     "name": "stdout",
     "output_type": "stream",
     "text": [
      "input_ids shape: torch.Size([1, 59])\n",
      "Reference Summary:\n",
      "Venezuelan activist Tamara Sujú visits London to ask the United Kingdom, and specifically Dominic Raab, to pressure the International Criminal Court to investigate claims of torture and human rights abuses by the Nicolás Maduro government.\n",
      "Predictions: \n",
      "['UK foreign secretary urged to press the case for human rights in the country. UK foreign secretary has been urged to use his human rights experience to press case. The UK government has been accused of failing to act on human rights abuses in the region. The UN has accused the government']\n",
      "\n"
     ]
    },
    {
     "name": "stderr",
     "output_type": "stream",
     "text": [
      "\r",
      " 87%|████████▋ | 892/1022 [13:11:29<1:36:22, 44.48s/it]"
     ]
    },
    {
     "name": "stdout",
     "output_type": "stream",
     "text": [
      "input_ids shape: torch.Size([1, 59])\n",
      "Reference Summary:\n",
      "Federal Bureau of Investigation agents raid late financier billionaire Jeffrey Epstein's private Caribbean island, amid an investigation into alleged sex trafficking. The raid comes two days after Epstein's death.  (NBC News)\n",
      "Predictions: \n",
      "['Jeffrey Epstein was found dead in his New York City apartment. He was found with a suicide note that said he had been in a relationship with a minor. The note was found in his apartment after he was arrested in connection with a sex scandal. The suicide was ruled a']\n",
      "\n"
     ]
    },
    {
     "name": "stderr",
     "output_type": "stream",
     "text": [
      "\r",
      " 87%|████████▋ | 893/1022 [13:12:26<1:43:38, 48.21s/it]"
     ]
    },
    {
     "name": "stdout",
     "output_type": "stream",
     "text": [
      "input_ids shape: torch.Size([1, 59])\n",
      "Reference Summary:\n",
      "The Airport Authority Hong Kong cancels all departure flights from Hong Kong, effectively locking down Hong Kong International Airport amid ongoing unrest.\n",
      "Predictions: \n",
      "[\"Hong Kong's airport is closed for the day after protests. The airport is the largest in the world and is home to the world's largest Chinese population. The protests have been going on for more than a week. The Hong Kong government has been trying to calm the protests for\"]\n",
      "\n"
     ]
    },
    {
     "name": "stderr",
     "output_type": "stream",
     "text": [
      "\r",
      " 87%|████████▋ | 894/1022 [13:13:22<1:48:08, 50.69s/it]"
     ]
    },
    {
     "name": "stdout",
     "output_type": "stream",
     "text": [
      "input_ids shape: torch.Size([1, 58])\n",
      "Reference Summary:\n",
      "A spokesperson for China's Hong Kong and Macau Affairs Office releases a statement accusing violent protesters that threw petrol bombs at Hong Kong Police officers of being \"terrorists\", saying that a violent minority within the pro-democracy movement poses \"a serious challenge to Hong Kong's prosperity and stability\".\n",
      "Predictions: \n",
      "['The Chinese government has called for a halt to the protests. The protests have been sparked by a series of violent incidents in Hong Kong. The Hong Kong government has been accused of using force against protesters. The government has also been accused by protesters of using violence against them.']\n",
      "\n"
     ]
    },
    {
     "name": "stderr",
     "output_type": "stream",
     "text": [
      "\r",
      " 88%|████████▊ | 895/1022 [13:14:19<1:50:58, 52.43s/it]"
     ]
    },
    {
     "name": "stdout",
     "output_type": "stream",
     "text": [
      "input_ids shape: torch.Size([1, 58])\n",
      "Reference Summary:\n",
      "Former Chief of the Cabinet of Ministers Alberto Fernández gains a 15% lead over incumbent President Mauricio Macri in Argentina's primaries.\n",
      "Predictions: \n",
      "['Argentine President Mauricio Macri is facing a tough primary battle with his former rival. The president is seeking a second term in office. The election is expected to be held on October 26. The result will be the first vote for the next president of Argentina.']\n",
      "\n"
     ]
    },
    {
     "name": "stderr",
     "output_type": "stream",
     "text": [
      "\r",
      " 88%|████████▊ | 896/1022 [13:15:16<1:52:47, 53.71s/it]"
     ]
    },
    {
     "name": "stdout",
     "output_type": "stream",
     "text": [
      "input_ids shape: torch.Size([1, 59])\n",
      "Reference Summary:\n",
      "The United States Trade Representative announces a delay until December 15 on a significant number of products affected by 10% import tariffs announced on August 1 and set to be imposed in September.\n",
      "Predictions: \n",
      "['The U.S. is set to impose tariffs on some Chinese goods. The tariffs will be imposed on some products, including some electronics. The U.N. has called for a review of the tariffs. The Chinese government has said it will not retaliate against the U.']\n",
      "\n"
     ]
    },
    {
     "name": "stderr",
     "output_type": "stream",
     "text": [
      "\r",
      " 88%|████████▊ | 897/1022 [13:16:12<1:53:39, 54.56s/it]"
     ]
    },
    {
     "name": "stdout",
     "output_type": "stream",
     "text": [
      "input_ids shape: torch.Size([1, 59])\n",
      "Reference Summary:\n",
      "Verizon agrees to sell the social networking site Tumblr to Automattic, owner of WordPress.com, for less than $10 million, less than two years after acquiring the site in 2017.\n",
      "Predictions: \n",
      "['Verizon has sold Tumblr to the owner of the popular blogging site. The company is selling the site to the owners of the blog site. It is the latest in a series of moves to sell off the social media site. Verizon has been selling off its social media properties to']\n",
      "\n"
     ]
    },
    {
     "name": "stderr",
     "output_type": "stream",
     "text": [
      "\r",
      " 88%|████████▊ | 898/1022 [13:17:09<1:54:00, 55.16s/it]"
     ]
    },
    {
     "name": "stdout",
     "output_type": "stream",
     "text": [
      "input_ids shape: torch.Size([1, 59])\n",
      "Reference Summary:\n",
      "According to Interfax, the governor of Arkhangelsk Oblast dismisses as \"complete nonsense\" the advice by authorities in Severodvinsk to residents of Nyonoksa to evacuate on August 14. This follows the accidental explosion on Thursday of what is speculated to be a nuclear-powered missile. Russian nuclear agency Rosatom says the failed test involved a \"nuclear isotope power source\" for a liquid-propelled rocket engine.\n",
      "Predictions: \n",
      "['Russian military says it is investigating the cause of a rocket explosion. The explosion occurred in the Russian city of Saransk. The blast was caused by a rocket that exploded in the middle of a test run. The Russian military says the explosion was caused when a rocket exploded in a']\n",
      "\n"
     ]
    },
    {
     "name": "stderr",
     "output_type": "stream",
     "text": [
      "\r",
      " 88%|████████▊ | 899/1022 [13:18:05<1:53:54, 55.57s/it]"
     ]
    },
    {
     "name": "stdout",
     "output_type": "stream",
     "text": [
      "input_ids shape: torch.Size([1, 58])\n",
      "Reference Summary:\n",
      "A man in Sydney, Australia, stabs and kills one person and wounds another. The motive of the suspect, who was arrested at the crime scene, is unknown.\n",
      "Predictions: \n",
      "[\"A man is accused of stabbing a woman in Sydney's CBD. The man is believed to have been on the run from police for several hours. He was arrested after the incident. The woman was taken to hospital with stab wounds. The suspect was later released from hospital.\"]\n",
      "\n"
     ]
    },
    {
     "name": "stderr",
     "output_type": "stream",
     "text": [
      "\r",
      " 88%|████████▊ | 900/1022 [13:19:02<1:53:39, 55.90s/it]"
     ]
    },
    {
     "name": "stdout",
     "output_type": "stream",
     "text": [
      "input_ids shape: torch.Size([1, 59])\n",
      "Reference Summary:\n",
      "U.S. President Donald Trump tweets that U.S. intelligence informed him that China is moving troops to the border with Hong Kong.\n",
      "Predictions: \n",
      "[\"The Chinese government has been accused of using the country's sovereignty to protect its own interests. The Chinese government is also accused of trying to use the situation to gain political power. The government has also been accused by the United States of using its influence to try to influence the outcome\"]\n",
      "\n"
     ]
    },
    {
     "name": "stderr",
     "output_type": "stream",
     "text": [
      "\r",
      " 88%|████████▊ | 901/1022 [13:19:59<1:53:21, 56.21s/it]"
     ]
    },
    {
     "name": "stdout",
     "output_type": "stream",
     "text": [
      "input_ids shape: torch.Size([1, 56])\n",
      "Reference Summary:\n",
      "Hundreds of thousands of students, schoolteachers and university professors hold demonstrations across Brazil against sweeping cuts in the education budget. Protestors also voice opposition to the government's plan to delegate the administrative and financial management of federal universities and institutes to a privately-held fund.\n",
      "Predictions: \n",
      "['Union leaders called for a strike Tuesday in the education sector. They denounced funding cuts from elementary schools to higher education. Thousands of students and teachers have protested federal cuts in education spending. The protests have taken place across Brazil. The demonstrations are expected to last into next week.']\n",
      "\n"
     ]
    },
    {
     "name": "stderr",
     "output_type": "stream",
     "text": [
      "\r",
      " 88%|████████▊ | 902/1022 [13:20:53<1:51:02, 55.52s/it]"
     ]
    },
    {
     "name": "stdout",
     "output_type": "stream",
     "text": [
      "input_ids shape: torch.Size([1, 59])\n",
      "Reference Summary:\n",
      "Earlier in the day, over a thousand Indigenous Brazilian women, representing over 100 ethnic groups, march on Brasília after an overnight occupation of the headquarters of the Ministry of Health's Special Secretariat of Indigenous Health. Protestors chanted against the government's recent attempts at municipalization and privatization of the Indigenous health subsystem, and called for stricter environmental regulations.\n",
      "Predictions: \n",
      "[\"The group of indigenous women are protesting against the government's policies. They are demanding that the government stop the use of the military to protect the indigenous population. The group is also protesting against a proposed law that would allow the military the right to use the military as a police force\"]\n",
      "\n"
     ]
    },
    {
     "name": "stderr",
     "output_type": "stream",
     "text": [
      "\r",
      " 88%|████████▊ | 903/1022 [13:21:50<1:50:50, 55.88s/it]"
     ]
    },
    {
     "name": "stdout",
     "output_type": "stream",
     "text": [
      "input_ids shape: torch.Size([1, 59])\n",
      "Reference Summary:\n",
      "A Syrian Air Force Sukhoi Su-22 jet is shot down by rebel forces near the town of Khan Shaykhun in the Idlib Governorate, Syria. Hayat Tahrir al-Sham jihadists say they have captured the pilot.\n",
      "Predictions: \n",
      "[\"Syrian government forces have been fighting rebels in the country's northwest. The Syrian government has been fighting a rebel-held enclave in the region since March. The rebels have been trying to oust the Syrian government from the area. The government has lost control of the area in recent months\"]\n",
      "\n"
     ]
    },
    {
     "name": "stderr",
     "output_type": "stream",
     "text": [
      "\r",
      " 88%|████████▊ | 904/1022 [13:22:47<1:50:49, 56.35s/it]"
     ]
    },
    {
     "name": "stdout",
     "output_type": "stream",
     "text": [
      "input_ids shape: torch.Size([1, 59])\n",
      "Reference Summary:\n",
      "The Federal Statistical Office of Germany discloses that Germany's gross domestic product shrank by 0.1% in the second quarter.\n",
      "Predictions: \n",
      "[\"Germany's economy shrank in the second quarter, according to the latest data. The economy shrinks by 0.1% in the quarter, the biggest fall in the world's largest economy. The data was the first time since the second half of 2013 that the economy has\"]\n",
      "\n"
     ]
    },
    {
     "name": "stderr",
     "output_type": "stream",
     "text": [
      "\r",
      " 89%|████████▊ | 905/1022 [13:23:10<1:30:23, 46.35s/it]"
     ]
    },
    {
     "name": "stdout",
     "output_type": "stream",
     "text": [
      "input_ids shape: torch.Size([1, 59])\n",
      "Reference Summary:\n",
      "The Scholarly Publishing and Academic Resources Coalition, a U.S.-based organization that aims to keep educational materials broadly accessible, has asked the Antitrust Division of the Justice Department to halt a planned merger between two large textbook companies, McGraw-Hill and Cengage, a merger it claims will cause students \"irreparable harm\".\n",
      "Predictions: \n",
      "['Education group urges U.S. Justice Department to block textbook merger. Group wants to increase access to college textbooks and research materials. Group is seeking to block merger of textbook publishers McGraw-Hill Education and Cengage Learning. The merger is expected to be approved in the coming months']\n",
      "\n"
     ]
    },
    {
     "name": "stderr",
     "output_type": "stream",
     "text": [
      "\r",
      " 89%|████████▊ | 906/1022 [13:23:36<1:17:43, 40.20s/it]"
     ]
    },
    {
     "name": "stdout",
     "output_type": "stream",
     "text": [
      "input_ids shape: torch.Size([1, 59])\n",
      "Reference Summary:\n",
      "California regulators announce a ban on chlorpyrifos, an organophosphate nerve agent used as a pesticide.\n",
      "Predictions: \n",
      "[\"The move is a response to the Trump administration's decision to allow the use of the pesticide. The pesticide is linked to developmental disorders. The move is expected to be a major blow to the White House's efforts to cut back on the use. The U.S. government\"]\n",
      "\n"
     ]
    },
    {
     "name": "stderr",
     "output_type": "stream",
     "text": [
      "\r",
      " 89%|████████▊ | 907/1022 [13:24:33<1:26:37, 45.19s/it]"
     ]
    },
    {
     "name": "stdout",
     "output_type": "stream",
     "text": [
      "input_ids shape: torch.Size([1, 59])\n",
      "Reference Summary:\n",
      "France bans electric pulse fishing.\n",
      "Predictions: \n",
      "['The\\xa0\"Fisherman\\'s\" new book, \"The New World of the F1\" is published by Piatkus. The book is a collection of the best-selling books on the history of the sport. The first edition of the book, published in 2013']\n",
      "\n"
     ]
    },
    {
     "name": "stderr",
     "output_type": "stream",
     "text": [
      "\r",
      " 89%|████████▉ | 908/1022 [13:25:29<1:32:16, 48.56s/it]"
     ]
    },
    {
     "name": "stdout",
     "output_type": "stream",
     "text": [
      "input_ids shape: torch.Size([1, 57])\n",
      "Reference Summary:\n",
      "Six police officers are shot, sustaining non-life threatening injuries, by a gunman in Philadelphia; a seventh officer is injured in a related automobile accident nearby.\n",
      "Predictions: \n",
      "['Police say the gunman is in custody. The shooting occurred in Philadelphia. Police say the suspect is in a car with a handgun. The suspect is believed to be in a vehicle with a woman. The woman is believed in the car. The incident is under investigation.']\n",
      "\n"
     ]
    },
    {
     "name": "stderr",
     "output_type": "stream",
     "text": [
      "\r",
      " 89%|████████▉ | 909/1022 [13:26:25<1:35:50, 50.89s/it]"
     ]
    },
    {
     "name": "stdout",
     "output_type": "stream",
     "text": [
      "input_ids shape: torch.Size([1, 56])\n",
      "Reference Summary:\n",
      "In a third trial, Nicholas Slatten is sentenced to life in prison.\n",
      "Predictions: \n",
      "['The former Blackwater contractor was sentenced to life in prison for his role in the 2007 shooting. The former Black Water Company contractor was convicted of killing a man and wounding another in a separate incident. The victim was a member of the U.S. military.']\n",
      "\n"
     ]
    },
    {
     "name": "stderr",
     "output_type": "stream",
     "text": [
      "\r",
      " 89%|████████▉ | 910/1022 [13:26:46<1:17:45, 41.66s/it]"
     ]
    },
    {
     "name": "stdout",
     "output_type": "stream",
     "text": [
      "input_ids shape: torch.Size([1, 59])\n",
      "Reference Summary:\n",
      "Venezuelan President Nicolás Maduro creates a new government ministry, the Ministry of Tourism and Foreign Trade.\n",
      "Predictions: \n",
      "[\"The new government has been in the process of creating a new government. The new government is to be called the National Council of the National Assembly. The National Council is the highest-level body in the country's government. It is the body that oversees the country’s\"]\n",
      "\n"
     ]
    },
    {
     "name": "stderr",
     "output_type": "stream",
     "text": [
      "\r",
      " 89%|████████▉ | 911/1022 [13:27:26<1:16:10, 41.18s/it]"
     ]
    },
    {
     "name": "stdout",
     "output_type": "stream",
     "text": [
      "input_ids shape: torch.Size([1, 59])\n",
      "Reference Summary:\n",
      "A Norwegian delegation arrives in Venezuela to restart dialogues to end the presidential crisis.\n",
      "Predictions: \n",
      "[\"Norwegian delegation arrives in Venezuela to restart talks between government and opposition. Talks halted last week after Maduro's allies pulled out of talks. Maduro's government has been accused of using the opposition to stifle dissent. Maduro is seeking to form a new government to replace his predecessor Hugo\"]\n",
      "\n"
     ]
    },
    {
     "name": "stderr",
     "output_type": "stream",
     "text": [
      "\r",
      " 89%|████████▉ | 912/1022 [13:28:22<1:23:53, 45.76s/it]"
     ]
    },
    {
     "name": "stdout",
     "output_type": "stream",
     "text": [
      "input_ids shape: torch.Size([1, 59])\n",
      "Reference Summary:\n",
      "A Ural Airlines Airbus 321 crash lands in a field near Zhukovsky International Airport in Moscow Region, Russia. The event is dubbed the \"Miracle over Ramensk\", as only 23 passengers had minor injuries, similar to US Airways Flight 1549. Preliminary reports say the aircraft struck a flock of seagulls.\n",
      "Predictions: \n",
      "['Russian plane crashes after hitting a flock of birds. Plane was carrying more than 200 people. Plane lands in a field in a corn field near Moscow. Russian authorities say the incident is not considered an emergency. The plane was carrying a total of 230 people. The incident happened on']\n",
      "\n"
     ]
    },
    {
     "name": "stderr",
     "output_type": "stream",
     "text": [
      "\r",
      " 89%|████████▉ | 913/1022 [13:29:19<1:29:10, 49.09s/it]"
     ]
    },
    {
     "name": "stdout",
     "output_type": "stream",
     "text": [
      "input_ids shape: torch.Size([1, 59])\n",
      "Reference Summary:\n",
      "A Cessna Citation carrying former NASCAR driver Dale Earnhardt Jr., his wife and infant daughter crashes on landing at Elizabethton Municipal Airport in Elizabethton, Tennessee. All occupants survive without serious injury.\n",
      "Predictions: \n",
      "[\"Dale Earnhardt Jr. was in a plane crash in Tennessee. He was taken to a hospital. He is expected to be OK. The crash happened in the early hours of Thursday morning. The plane was headed to a private airstrip. The driver's wife and daughter were also\"]\n",
      "\n"
     ]
    },
    {
     "name": "stderr",
     "output_type": "stream",
     "text": [
      "\r",
      " 89%|████████▉ | 914/1022 [13:29:59<1:23:16, 46.27s/it]"
     ]
    },
    {
     "name": "stdout",
     "output_type": "stream",
     "text": [
      "input_ids shape: torch.Size([1, 59])\n",
      "Reference Summary:\n",
      "Venezuelan President Nicolás Maduro gives a speech wherein he accuses former Colombian President Álvaro Uribe, Uribe's Vice President Francisco Santos Calderón, and Venezuelan politician Lester Toledo [es] of planning to kill him.\n",
      "Predictions: \n",
      "[\"Venezuelan President Nicolas Maduro accuses former Colombian President Alvaro Uribe of plotting to kill him. Uribe is accused of plotting with Colombia's U.S. ambassador to Venezuela, and of plotting a coup. U.N. Security Council resolution passed in July to\"]\n",
      "\n"
     ]
    },
    {
     "name": "stderr",
     "output_type": "stream",
     "text": [
      "\r",
      " 90%|████████▉ | 915/1022 [13:30:55<1:28:02, 49.37s/it]"
     ]
    },
    {
     "name": "stdout",
     "output_type": "stream",
     "text": [
      "input_ids shape: torch.Size([1, 59])\n",
      "Reference Summary:\n",
      "Gibraltar says the United States has applied to seize the Iranian oil tanker Grace 1, which is being held by the United Kingdom territory for an alleged breach of European Union sanctions against Syria.\n",
      "Predictions: \n",
      "['The Iranian ship was seized in the early hours of Monday morning. The ship was carrying Iranian oil and gas cargo. The vessel was seized by the U.S. Navy in the Persian Gulf. The U.N. Security Council has approved a resolution to allow the ship to']\n",
      "\n"
     ]
    },
    {
     "name": "stderr",
     "output_type": "stream",
     "text": [
      "\r",
      " 90%|████████▉ | 916/1022 [13:31:52<1:31:05, 51.57s/it]"
     ]
    },
    {
     "name": "stdout",
     "output_type": "stream",
     "text": [
      "input_ids shape: torch.Size([1, 59])\n",
      "Reference Summary:\n",
      "Two American Muslim congresswomen, Ilhan Omar and Rashida Tlaib, are barred from entering Israel before a planned visit to the country due to their support of the BDS movement, a decision which was encouraged by U.S. President Donald Trump.\n",
      "Predictions: \n",
      "['Israel has banned the U.S. congresswoman from entering the country. The move is a response to a U.N. resolution that calls for a ban on Israeli travel to the region. The U.K. has also banned the congresswoman, who is from the']\n",
      "\n"
     ]
    },
    {
     "name": "stderr",
     "output_type": "stream",
     "text": [
      "\r",
      " 90%|████████▉ | 917/1022 [13:32:49<1:33:00, 53.15s/it]"
     ]
    },
    {
     "name": "stdout",
     "output_type": "stream",
     "text": [
      "input_ids shape: torch.Size([1, 59])\n",
      "Reference Summary:\n",
      "Press sources report that U.S. President Donald Trump repeatedly expressed interest in buying Greenland.\n",
      "Predictions: \n",
      "['Trump has talked about buying Greenland for the U.S. President Donald Trump has talked to his aides about buying the island nation. The president has also talked about the possibility of buying the territory in the past. The U.N. has said it is not interested in buying']\n",
      "\n"
     ]
    },
    {
     "name": "stderr",
     "output_type": "stream",
     "text": [
      "\r",
      " 90%|████████▉ | 918/1022 [13:33:46<1:34:00, 54.23s/it]"
     ]
    },
    {
     "name": "stdout",
     "output_type": "stream",
     "text": [
      "input_ids shape: torch.Size([1, 57])\n",
      "Reference Summary:\n",
      "Belgian Federal Police confirm that fugitive Belgian large weapons smuggler and arms trafficker Jacques Monsieur was arrested in Portugal yesterday.\n",
      "Predictions: \n",
      "['Belgian authorities are seeking the extradition of a convicted arms trafficker. Jacques Monsie was arrested in Portugal this week after a year-long run from justice. Monsie is accused of trafficking arms and drugs. He was convicted of drug possession and possession of weapons in 2007.']\n",
      "\n"
     ]
    },
    {
     "name": "stderr",
     "output_type": "stream",
     "text": [
      "\r",
      " 90%|████████▉ | 919/1022 [13:34:42<1:34:27, 55.03s/it]"
     ]
    },
    {
     "name": "stdout",
     "output_type": "stream",
     "text": [
      "input_ids shape: torch.Size([1, 58])\n",
      "Reference Summary:\n",
      "Former Colorado governor John Hickenlooper announces that he is suspending his presidential campaign.\n",
      "Predictions: \n",
      "['Former Colorado Gov. John Hickenlooper is a Democrat. He is a former governor of Colorado. HickenLooper is expected to announce his decision on Thursday. He will not run for president in 2016. He was a Democrat who ran for president twice before.']\n",
      "\n"
     ]
    },
    {
     "name": "stderr",
     "output_type": "stream",
     "text": [
      "\r",
      " 90%|█████████ | 920/1022 [13:35:39<1:34:31, 55.60s/it]"
     ]
    },
    {
     "name": "stdout",
     "output_type": "stream",
     "text": [
      "input_ids shape: torch.Size([1, 59])\n",
      "Reference Summary:\n",
      "In response to reports that U.S. President Donald Trump expressed interest in the United States acquiring Greenland, Greenland's Foreign Minister Ane Lone Bagger dismisses the idea, noting on Twitter that \"a better and more equal partnership with Denmark should be the way forward for a stronger and longer-term free Greenland\".\n",
      "Predictions: \n",
      "['The U.S. president has been in talks with the government of Greenland. The country is a small island nation in the North Atlantic. Greenland is a tiny island nation with a population of about 1.5 million. It is the largest island nation on the North American continent']\n",
      "\n"
     ]
    },
    {
     "name": "stderr",
     "output_type": "stream",
     "text": [
      "\r",
      " 90%|█████████ | 921/1022 [13:36:38<1:35:22, 56.66s/it]"
     ]
    },
    {
     "name": "stdout",
     "output_type": "stream",
     "text": [
      "input_ids shape: torch.Size([1, 59])\n",
      "Reference Summary:\n",
      "According to Israel's Interior ministry, U.S. Congresswoman Rashida Tlaib sends a letter to Israeli Interior Minister Aryeh Deri, asking for permission to visit her elderly grandmother in the West Bank. Tlaib's request was approved on the condition that she \"not advance boycott activities for the duration of her visit\". Tlaib later declines to come, saying she won't let Israel impose \"oppressive conditions\" on her.\n",
      "Predictions: \n",
      "['Rep. Rashida Tlaib says she will not visit her family in the West Bank. She says she is visiting the West bank on humanitarian grounds. Tlaiber says she wants to visit her relatives in the region. She is a member of the House of Representatives from']\n",
      "\n"
     ]
    },
    {
     "name": "stderr",
     "output_type": "stream",
     "text": [
      "\r",
      " 90%|█████████ | 922/1022 [13:37:37<1:35:24, 57.25s/it]"
     ]
    },
    {
     "name": "stdout",
     "output_type": "stream",
     "text": [
      "input_ids shape: torch.Size([1, 57])\n",
      "Reference Summary:\n",
      "The death of accused sexual trafficker Jeffrey Epstein is ruled a suicide by hanging by the New York City Office of the Chief Medical Examiner. Epstein's attorneys say they will be conducting their own investigation into his death.\n",
      "Predictions: \n",
      "[\"Jeffrey Epstein's death was ruled a suicide by hanging. The former billionaire was found dead in his New York City apartment in July. He was found hanged in his hotel room. The medical examiner's office says he died of a self-inflicted gunshot wound.\"]\n",
      "\n"
     ]
    },
    {
     "name": "stderr",
     "output_type": "stream",
     "text": [
      "\r",
      " 90%|█████████ | 923/1022 [13:38:35<1:34:51, 57.49s/it]"
     ]
    },
    {
     "name": "stdout",
     "output_type": "stream",
     "text": [
      "input_ids shape: torch.Size([1, 59])\n",
      "Reference Summary:\n",
      "63 people are killed and 182 wounded in a suicide attack at a wedding party in Kabul, Afghanistan. The attacker set off explosives among the invitees.\n",
      "Predictions: \n",
      "['The blast happened at a wedding in Kabul, Afghanistan. The blast killed at least 63 people, including many wedding guests. The attack was carried out by a suicide bomber. The Taliban have claimed responsibility for the attack. The suicide bomber was killed by a bomb planted in a suicide']\n",
      "\n"
     ]
    },
    {
     "name": "stderr",
     "output_type": "stream",
     "text": [
      "\r",
      " 90%|█████████ | 924/1022 [13:39:34<1:34:46, 58.03s/it]"
     ]
    },
    {
     "name": "stdout",
     "output_type": "stream",
     "text": [
      "input_ids shape: torch.Size([1, 59])\n",
      "Reference Summary:\n",
      "The ruling military and the civilian opposition formally sign a power-sharing deal establishing a three-year transition period towards the election of a civilian government.\n",
      "Predictions: \n",
      "[\"Sudan's army and pro-democracy protesters sign a deal to end the country's civil war. The deal will pave the way for a transition to civilian rule. The agreement is expected to be signed in the coming days. The country has been in turmoil since the ouster of\"]\n",
      "\n"
     ]
    },
    {
     "name": "stderr",
     "output_type": "stream",
     "text": [
      "\r",
      " 91%|█████████ | 925/1022 [13:40:34<1:34:35, 58.51s/it]"
     ]
    },
    {
     "name": "stdout",
     "output_type": "stream",
     "text": [
      "input_ids shape: torch.Size([1, 59])\n",
      "Reference Summary:\n",
      "Thousands of school teachers join the 11th weekend of anti-government protests in Hong Kong.\n",
      "Predictions: \n",
      "[\"Hong Kong's protests have been in the spotlight for more than a week. The protests are in response to a crackdown on pro-democracy protests in the city. The demonstrations have been held in Hong Kong since June. The Hong Kong government has been accused of using the protests to\"]\n",
      "\n"
     ]
    },
    {
     "name": "stderr",
     "output_type": "stream",
     "text": [
      "\r",
      " 91%|█████████ | 926/1022 [13:41:37<1:35:46, 59.86s/it]"
     ]
    },
    {
     "name": "stdout",
     "output_type": "stream",
     "text": [
      "input_ids shape: torch.Size([1, 59])\n",
      "Reference Summary:\n",
      "A rally of far-right groups such as the Proud Boys and Patriot Prayer is met by left-wing Antifa in Portland, Oregon.\n",
      "Predictions: \n",
      "['The Portland, Oregon, rally is part of a larger anti-immigration protest. The event is expected to draw hundreds of people. The Portland Police Department says it has arrested at least six people in connection with the rally. The group says it is planning to hold a second rally']\n",
      "\n"
     ]
    },
    {
     "name": "stderr",
     "output_type": "stream",
     "text": [
      "\r",
      " 91%|█████████ | 927/1022 [13:42:37<1:34:54, 59.95s/it]"
     ]
    },
    {
     "name": "stdout",
     "output_type": "stream",
     "text": [
      "input_ids shape: torch.Size([1, 59])\n",
      "Reference Summary:\n",
      "The Argentinian Treasury Minister, Nicolás Dujovne, resigns after incumbent President Mauricio Macri's loss in a primary vote saw Argentina's peso fall to record lows.\n",
      "Predictions: \n",
      "[\"Argentina's treasury minister resigns, says government needs to be more transparent. Nicolas Dujovne says he will be replaced by the economy minister. Dujvne says the government needs more transparency. The government is facing a financial crisis. The country's economy is in\"]\n",
      "\n"
     ]
    },
    {
     "name": "stderr",
     "output_type": "stream",
     "text": [
      "\r",
      " 91%|█████████ | 928/1022 [13:43:36<1:33:33, 59.72s/it]"
     ]
    },
    {
     "name": "stdout",
     "output_type": "stream",
     "text": [
      "input_ids shape: torch.Size([1, 59])\n",
      "Reference Summary:\n",
      "China announces the successful first launch of the Smart Dragon-1 [fr; de] carrier rocket.\n",
      "Predictions: \n",
      "['The Smart Dragon is the first of a new generation of the Smart Dragon family of high-tech, high-end, high definition, high speed, high quality, high resolution, high end, high tech, high performance, high efficiency, high capacity, high power, high']\n",
      "\n"
     ]
    },
    {
     "name": "stderr",
     "output_type": "stream",
     "text": [
      "\r",
      " 91%|█████████ | 929/1022 [13:44:37<1:32:50, 59.90s/it]"
     ]
    },
    {
     "name": "stdout",
     "output_type": "stream",
     "text": [
      "input_ids shape: torch.Size([1, 59])\n",
      "Reference Summary:\n",
      "ISIL claims responsibility for a terrorist attack against a wedding party in Afghanistan the day prior, which left 63 people dead and over 200 injured.\n",
      "Predictions: \n",
      "['Islamic State claims responsibility for the attack. The attack took place at a wedding in Kabul. The blast killed 63 people, including children and adults. The wedding was held in a park in the Afghan capital. The Taliban claimed responsibility for it. The Islamic State group has claimed responsibility']\n",
      "\n"
     ]
    },
    {
     "name": "stderr",
     "output_type": "stream",
     "text": [
      "\r",
      " 91%|█████████ | 930/1022 [13:45:35<1:31:01, 59.37s/it]"
     ]
    },
    {
     "name": "stdout",
     "output_type": "stream",
     "text": [
      "input_ids shape: torch.Size([1, 59])\n",
      "Reference Summary:\n",
      "Gibraltar authorities reject the request by the U.S. to seize the Iranian oil tanker Grace 1. They argue that EU, not U.S. law, is applicable in Gibraltar. The tanker is also renamed.\n",
      "Predictions: \n",
      "['The Iranian tanker is being held in Gibraltar. The ship is being kept in a naval base in the British territory. The U.S. has been trying to get the ship to leave the port since last month. The tanker is carrying more than 1,000 tons of crude']\n",
      "\n"
     ]
    },
    {
     "name": "stderr",
     "output_type": "stream",
     "text": [
      "\r",
      " 91%|█████████ | 931/1022 [13:46:33<1:29:15, 58.85s/it]"
     ]
    },
    {
     "name": "stdout",
     "output_type": "stream",
     "text": [
      "input_ids shape: torch.Size([1, 59])\n",
      "Reference Summary:\n",
      "The organizers claim that at least 1.7 million people join a peaceful rally in Victoria Park, Hong Kong. Protesters spill into nearby streets, with train service intermittently suspended due to the sheer number of people.\n",
      "Predictions: \n",
      "[\"Protesters in Hong Kong are protesting against the government's handling of the Occupy Hong Kong protests. The protests are being held in the city's main square. The protesters are calling for a return to democracy. The Hong Kong government has been accused of trying to stifle the protests\"]\n",
      "\n"
     ]
    },
    {
     "name": "stderr",
     "output_type": "stream",
     "text": [
      "\r",
      " 91%|█████████ | 932/1022 [13:47:30<1:27:43, 58.48s/it]"
     ]
    },
    {
     "name": "stdout",
     "output_type": "stream",
     "text": [
      "input_ids shape: torch.Size([1, 59])\n",
      "Reference Summary:\n",
      "Syrian Air Force warplanes repeatedly strike a Turkish military convoy driving through the rebel-held region of Idlib, reportedly causing several casualties and forcing it to stop. Turkey claims the convoy was aiming to supply observation posts, while Syria accuses it of carrying weapons and ammunition to rebel groups.\n",
      "Predictions: \n",
      "[\"Turkey says it has been attacked by Syrian government forces. Turkey says it is fighting Syrian government troops in Idlib province. Syrian government says it's targeting rebels in Idlib. Syrian military says it was targeting rebels who are attacking government forces in Idlib region. Syrian army says it killed at\"]\n",
      "\n"
     ]
    },
    {
     "name": "stderr",
     "output_type": "stream",
     "text": [
      "\r",
      " 91%|█████████▏| 933/1022 [13:48:28<1:26:19, 58.20s/it]"
     ]
    },
    {
     "name": "stdout",
     "output_type": "stream",
     "text": [
      "input_ids shape: torch.Size([1, 59])\n",
      "Reference Summary:\n",
      "The Syrian Army enters the strategic town of Khan Shaykhun in the Idlib Governorate for the first time since losing control of the town to rebels in 2014, according to the Syrian Observatory for Human Rights.\n",
      "Predictions: \n",
      "['Syrian government forces are advancing on rebel-held town of Khan Sheikhoun. The town is in the Syrian province of Idlib. The Syrian government is fighting rebels in the area. The opposition says the Syrian army is advancing on the town. The government says it is fighting to protect']\n",
      "\n"
     ]
    },
    {
     "name": "stderr",
     "output_type": "stream",
     "text": [
      "\r",
      " 91%|█████████▏| 934/1022 [13:49:25<1:25:06, 58.03s/it]"
     ]
    },
    {
     "name": "stdout",
     "output_type": "stream",
     "text": [
      "input_ids shape: torch.Size([1, 59])\n",
      "Reference Summary:\n",
      "66 people, including children, have been wounded after a series of ten explosions in restaurants and public squares hit the eastern Afghan city of Jalalabad, as the country marked the 100th anniversary of its independence from British rule. No group claimed responsibility for the bombings. Even if many bombs exploded and several people were injured, no one died in the attacks.\n",
      "Predictions: \n",
      "[\"At least 34 people were killed and dozens injured in the blasts in the city of Jalalabad. The blasts occurred on the day of the country's independence from Britain. The attacks took place in the eastern city of Jalalabad, which is in the country’\"]\n",
      "\n"
     ]
    },
    {
     "name": "stderr",
     "output_type": "stream",
     "text": [
      "\r",
      " 91%|█████████▏| 935/1022 [13:50:24<1:24:20, 58.17s/it]"
     ]
    },
    {
     "name": "stdout",
     "output_type": "stream",
     "text": [
      "input_ids shape: torch.Size([1, 59])\n",
      "Reference Summary:\n",
      "Suspected Islamist militants launch an attack on an Burkina Faso Armed Forces unit, killing 24 Burkinabé soldiers and wounding 7 others, the heaviest loss for the army in its fight to contain Islamist terrorism. The army said it had launched a land and air operation in response to the attack.\n",
      "Predictions: \n",
      "[\"Burkina Faso's military says at least 10 soldiers killed in attack by extremists. The attack was in the country's northern province of Ouagadougou. The military says it is the deadliest attack on the country in recent memory. The army says the attack was\"]\n",
      "\n"
     ]
    },
    {
     "name": "stderr",
     "output_type": "stream",
     "text": [
      "\r",
      " 92%|█████████▏| 936/1022 [13:51:21<1:22:48, 57.78s/it]"
     ]
    },
    {
     "name": "stdout",
     "output_type": "stream",
     "text": [
      "input_ids shape: torch.Size([1, 59])\n",
      "Reference Summary:\n",
      "After fifteen days of raging fires in the Amazon Forest in Rondônia, thick smoke clouds cover the Brazilian city of São Paulo in darkness. Street lamps had to be lit in the city around 2PM. The fires, suspected to be intentional, are still burning the forest.\n",
      "Predictions: \n",
      "['The fire department has been monitoring the fires in the Amazon rainforest for the past two weeks. The fire department says it has been able to control the fires so far. The fires have been burning for more than a month. The forest is in the state of Amazonia,']\n",
      "\n"
     ]
    },
    {
     "name": "stderr",
     "output_type": "stream",
     "text": [
      "\r",
      " 92%|█████████▏| 937/1022 [13:52:18<1:21:42, 57.68s/it]"
     ]
    },
    {
     "name": "stdout",
     "output_type": "stream",
     "text": [
      "input_ids shape: torch.Size([1, 59])\n",
      "Reference Summary:\n",
      "China condemns Taiwan after President Tsai Ing-wen offered support and asylum to Hong Kong protesters facing prosecution in Hong Kong courts.\n",
      "Predictions: \n",
      "[\"The Hong Kong protests are the largest in the world. The protests are being held in Hong Kong to protest against the government's handling of the Occupy Hong Kong movement. The protesters are calling for the city's political leaders to step down. The Hong Kong government has been accused of\"]\n",
      "\n"
     ]
    },
    {
     "name": "stderr",
     "output_type": "stream",
     "text": [
      "\r",
      " 92%|█████████▏| 938/1022 [13:53:15<1:20:34, 57.55s/it]"
     ]
    },
    {
     "name": "stdout",
     "output_type": "stream",
     "text": [
      "input_ids shape: torch.Size([1, 59])\n",
      "Reference Summary:\n",
      "Twitter says it has suspended more than 200,000 automated accounts on the social media site that it believes were part of a Chinese government-run campaign to spread misinformation about the protests in Hong Kong.\n",
      "Predictions: \n",
      "[\"The Chinese government has been accused of using its influence to stifle Hong Kong's pro-democracy movement. The Chinese government is also accused of trying to influence the Hong Kong government. The government has also been accused by the Hong Hong Kong authorities of using the social media to st\"]\n",
      "\n"
     ]
    },
    {
     "name": "stderr",
     "output_type": "stream",
     "text": [
      "\r",
      " 92%|█████████▏| 939/1022 [13:54:12<1:19:12, 57.26s/it]"
     ]
    },
    {
     "name": "stdout",
     "output_type": "stream",
     "text": [
      "input_ids shape: torch.Size([1, 59])\n",
      "Reference Summary:\n",
      "Turkey's Ministry of the Interior tweets that 418 people in 29 provinces are detained by police, for suspected links with the Kurdistan Workers' Party (PKK). The authorities have also announced that they \"replaced\" the mayors of three major southeastern cities.\n",
      "Predictions: \n",
      "[\"Turkey's government has removed three mayors from office in three cities. The mayors were removed for alleged links to the Kurdistan Workers Party. The move is part of a crackdown on the PKK, which has been fighting a government crackdown on Kurdish militants. The government has also removed the mayors\"]\n",
      "\n"
     ]
    },
    {
     "name": "stderr",
     "output_type": "stream",
     "text": [
      "\r",
      " 92%|█████████▏| 940/1022 [13:55:09<1:18:08, 57.18s/it]"
     ]
    },
    {
     "name": "stdout",
     "output_type": "stream",
     "text": [
      "input_ids shape: torch.Size([1, 59])\n",
      "Reference Summary:\n",
      "Former President of Sudan Omar al-Bashir appears in court for the first time at a Khartoum court to face corruption charges.\n",
      "Predictions: \n",
      "[\"Sudan's former president Omar al-Bashir is accused of corruption. He is accused in a corruption case involving the country's former prime minister. He was ousted in a military coup in 2011. The former president is accused by the opposition of corruption and abuse of\"]\n",
      "\n"
     ]
    },
    {
     "name": "stderr",
     "output_type": "stream",
     "text": [
      "\r",
      " 92%|█████████▏| 941/1022 [13:56:06<1:16:59, 57.03s/it]"
     ]
    },
    {
     "name": "stdout",
     "output_type": "stream",
     "text": [
      "input_ids shape: torch.Size([1, 59])\n",
      "Reference Summary:\n",
      "Evelyn Hernández is acquitted of murder after her newly-born child was found deceased in a toilet. The ruling is being held as a landmark case decision for women's rights in El Salvador, which has one of the strongest anti-abortion laws in Central America.\n",
      "Predictions: \n",
      "['El Salvadoran woman accused of having an abortion is acquitted of murder. She was accused of killing her unborn child after she was raped. The case was the first of its kind in the country. The trial was held in the capital, San Salvador. The prosecution said she was']\n",
      "\n"
     ]
    },
    {
     "name": "stderr",
     "output_type": "stream",
     "text": [
      "\r",
      " 92%|█████████▏| 942/1022 [13:57:02<1:15:49, 56.87s/it]"
     ]
    },
    {
     "name": "stdout",
     "output_type": "stream",
     "text": [
      "input_ids shape: torch.Size([1, 59])\n",
      "Reference Summary:\n",
      "The Palestinian Authority bans LGBT activities in the West Bank in anticipation of an upcoming Al Qaws event.\n",
      "Predictions: \n",
      "['Palestinian officials have called for a boycott of the event. They have threatened to arrest anyone who attends. The event was to be held in the West Bank city of Ramallah. The Palestinian government has called for the boycott of all events in the city. The U.S.']\n",
      "\n"
     ]
    },
    {
     "name": "stderr",
     "output_type": "stream",
     "text": [
      "\r",
      " 92%|█████████▏| 943/1022 [13:57:33<1:04:48, 49.22s/it]"
     ]
    },
    {
     "name": "stdout",
     "output_type": "stream",
     "text": [
      "input_ids shape: torch.Size([1, 59])\n",
      "Reference Summary:\n",
      "Astronomers led by a team from McGill University in Montreal announce the detection of eight new repeating fast radio bursts (FRBs) using the Canadian Hydrogen Intensity Mapping Experiment (CHIME) radio telescope. The astronomers report they also found complex morphologies and downward-drifting sub-bursts in some of the eight new FRBs.\n",
      "Predictions: \n",
      "['Astronomers have identified eight new fast radio bursts from the universe. The mysterious signals were detected by the Canadian telescope in Canada. The new findings are the first to be identified from the Earth. The discovery could be a sign of new life in the universe, scientists say.']\n",
      "\n"
     ]
    },
    {
     "name": "stderr",
     "output_type": "stream",
     "text": [
      "\r",
      " 92%|█████████▏| 944/1022 [13:58:02<55:52, 42.98s/it]  "
     ]
    },
    {
     "name": "stdout",
     "output_type": "stream",
     "text": [
      "input_ids shape: torch.Size([1, 59])\n",
      "Reference Summary:\n",
      "The Al-Qaeda-linked faction Hayat Tahrir al-Sham (HTS) acknowledges \"a redeployment\" south of the strategic town of Khan Shaykhun.\n",
      "Predictions: \n",
      "[\"The Syrian government is pushing to retake the rebel-held town of Idlib. The Syrian government has been fighting a rebel-controlled area of the province since March. The town is in the Idlib province, which is in Syria's Idlib province. The government is trying to take control\"]\n",
      "\n"
     ]
    },
    {
     "name": "stderr",
     "output_type": "stream",
     "text": [
      "\r",
      " 92%|█████████▏| 945/1022 [13:58:30<49:33, 38.62s/it]"
     ]
    },
    {
     "name": "stdout",
     "output_type": "stream",
     "text": [
      "input_ids shape: torch.Size([1, 59])\n",
      "Reference Summary:\n",
      "Media close to the government reports that the Syrian Army enters the northern sector of the town of Khan Shaykhun, following the reported HTS withdrawal.\n",
      "Predictions: \n",
      "['Syrian Army has been fighting in the city of Khan Sheikhoun since March. The Syrian Arab Army has now entered the city, which is in the rebel-held Idlib province. The city is in a rebel-controlled area of northern Syria. The SAA has been battling the']\n",
      "\n"
     ]
    },
    {
     "name": "stderr",
     "output_type": "stream",
     "text": [
      "\r",
      " 93%|█████████▎| 946/1022 [13:59:27<55:41, 43.97s/it]"
     ]
    },
    {
     "name": "stdout",
     "output_type": "stream",
     "text": [
      "input_ids shape: torch.Size([1, 59])\n",
      "Reference Summary:\n",
      "The Spanish Ministry of Health declares an outbreak of listeriosis in Andalusia as a national health alert after cases are reported in Asturias, Madrid, Catalonia and Extremadura, including one death.\n",
      "Predictions: \n",
      "[\"The outbreak is the biggest ever in Spain. The number of people affected has risen to more than 100. The outbreak is believed to be the biggest in Spain's history. The death toll is now at one. The Spanish government has issued a warning to all those who have been\"]\n",
      "\n"
     ]
    },
    {
     "name": "stderr",
     "output_type": "stream",
     "text": [
      "\r",
      " 93%|█████████▎| 947/1022 [14:00:24<59:47, 47.83s/it]"
     ]
    },
    {
     "name": "stdout",
     "output_type": "stream",
     "text": [
      "input_ids shape: torch.Size([1, 59])\n",
      "Reference Summary:\n",
      "Nicolás Maduro confirms United States reports that top Venezuelan officials are having secret meetings with members of the Trump administration. Maduro claims that the talks encourage Trump to listen to him; United States sources claim that the talks encourage Maduro supporters to defect.\n",
      "Predictions: \n",
      "[\"Venezuelan President Nicolas Maduro and President Donald Trump have been in talks. The talks are part of a larger effort to end the country's political crisis. The Venezuelan government has been in a state of crisis since a crackdown on pro-democracy protests. The opposition has been largely\"]\n",
      "\n"
     ]
    },
    {
     "name": "stderr",
     "output_type": "stream",
     "text": [
      "\r",
      " 93%|█████████▎| 948/1022 [14:01:20<1:02:18, 50.52s/it]"
     ]
    },
    {
     "name": "stdout",
     "output_type": "stream",
     "text": [
      "input_ids shape: torch.Size([1, 59])\n",
      "Reference Summary:\n",
      "U.S. President Donald Trump cancels his September state visit to Denmark because Danish Prime Minister Mette Frederiksen says that she has no interest in discussing the purchase of Greenland.\n",
      "Predictions: \n",
      "[\"President Donald Trump has said he is considering a deal to buy Greenland. The U.S. president has said the move would be a good idea for the country's future. The move would allow the U.N. to have a voice in the future of the region.\"]\n",
      "\n"
     ]
    },
    {
     "name": "stderr",
     "output_type": "stream",
     "text": [
      "\r",
      " 93%|█████████▎| 949/1022 [14:02:17<1:03:48, 52.44s/it]"
     ]
    },
    {
     "name": "stdout",
     "output_type": "stream",
     "text": [
      "input_ids shape: torch.Size([1, 59])\n",
      "Reference Summary:\n",
      "Thirty-seven passengers on a bus over Rio–Niterói Bridge, Rio de Janeiro, Brazil, are held hostage before police fatally shoot the armed hijacker. After closer inspection, police discover that the hijacker used a fake plastic gun.\n",
      "Predictions: \n",
      "['Police say man held dozens of people hostage on a bus in Rio de Janeiro. He was shot dead by police. Police say he was holding the hostages hostage on the bus. The man was also holding a woman and a child. The incident occurred on a public bus in the']\n",
      "\n"
     ]
    },
    {
     "name": "stderr",
     "output_type": "stream",
     "text": [
      "\r",
      " 93%|█████████▎| 950/1022 [14:03:14<1:04:23, 53.66s/it]"
     ]
    },
    {
     "name": "stdout",
     "output_type": "stream",
     "text": [
      "input_ids shape: torch.Size([1, 59])\n",
      "Reference Summary:\n",
      "Former professional basketball player Mateen Cleaves is acquitted of several sex crimes in a court in his hometown of Flint, Michigan.\n",
      "Predictions: \n",
      "['Mateen Cleaves was accused of sexually assaulting a woman in a hotel room. He was charged with sexual assault, but was acquitted of all charges. Cleaves is a former Michigan State basketball star. He is accused of assaulting the woman in the hotel room in 2011.']\n",
      "\n"
     ]
    },
    {
     "name": "stderr",
     "output_type": "stream",
     "text": [
      "\r",
      " 93%|█████████▎| 951/1022 [14:04:10<1:04:25, 54.45s/it]"
     ]
    },
    {
     "name": "stdout",
     "output_type": "stream",
     "text": [
      "input_ids shape: torch.Size([1, 57])\n",
      "Reference Summary:\n",
      "A modification of the Volcker rule is approved by the OCC and the FDIC. The new version eases rules on proprietary trading by Wall Street banks. Consumer groups criticize the rule change, claiming that it removes protections from taxpayers.\n",
      "Predictions: \n",
      "['The Volcker Rule is a rule that restricts banks from making risky investments. The rule was introduced in the wake of the financial crisis. The new rule is a major victory for Wall Street. The change is a result of a U.S. Supreme Court ruling.']\n",
      "\n"
     ]
    },
    {
     "name": "stderr",
     "output_type": "stream",
     "text": [
      "\r",
      " 93%|█████████▎| 952/1022 [14:05:07<1:04:14, 55.06s/it]"
     ]
    },
    {
     "name": "stdout",
     "output_type": "stream",
     "text": [
      "input_ids shape: torch.Size([1, 57])\n",
      "Reference Summary:\n",
      "Italian Prime Minister Giuseppe Conte resigns. He criticizes Deputy Prime Minister Matteo Salvini, accusing him of sinking the ruling coalition for personal and political gain. The President of Italy, Sergio Mattarella, accepts Conte's resignation and announces that he will start consultations with party leaders.\n",
      "Predictions: \n",
      "['Italian PM Giuseppe Conte has been in office since May. He has been accused of being too close to the far-right League party. He is now the leader of the anti-immigration Northern League party, which has been at odds with the government.']\n",
      "\n"
     ]
    },
    {
     "name": "stderr",
     "output_type": "stream",
     "text": [
      "\r",
      " 93%|█████████▎| 953/1022 [14:05:21<49:19, 42.89s/it]  "
     ]
    },
    {
     "name": "stdout",
     "output_type": "stream",
     "text": [
      "input_ids shape: torch.Size([1, 58])\n",
      "Reference Summary:\n",
      "The Russian Ministry of Defence announces that the six-tonne satellite-controlled reconnaissance drone Altius-U has performed its maiden flight.\n",
      "Predictions: \n",
      "[\"Russian Defense Ministry releases video of drone's maiden flight. The Altius-U drone is a 6-tonne unmanned aircraft. It is the latest in a series of drones that have been developed by Russia. The drone is designed to be used for surveillance and reconnaissance.\"]\n",
      "\n"
     ]
    },
    {
     "name": "stderr",
     "output_type": "stream",
     "text": [
      "\r",
      " 93%|█████████▎| 954/1022 [14:06:17<53:10, 46.92s/it]"
     ]
    },
    {
     "name": "stdout",
     "output_type": "stream",
     "text": [
      "input_ids shape: torch.Size([1, 59])\n",
      "Reference Summary:\n",
      "Major League Soccer, the top level of the men's sport in the U.S., announces that a team in St. Louis, Missouri will become the league's 28th team, most likely in 2022. The ownership group, led by several female members of the Taylor family that controls the Enterprise Holdings car rental company, is the first in MLS in which women hold a majority interest.\n",
      "Predictions: \n",
      "[\"The St. Louis franchise will be the first in the league's history. The team will be based in the city's downtown area. The franchise will play in the MLS in the future. The club will be called the St.Louis Cardinals. The league will be known as\"]\n",
      "\n"
     ]
    },
    {
     "name": "stderr",
     "output_type": "stream",
     "text": [
      "\r",
      " 93%|█████████▎| 955/1022 [14:07:14<55:36, 49.80s/it]"
     ]
    },
    {
     "name": "stdout",
     "output_type": "stream",
     "text": [
      "input_ids shape: torch.Size([1, 59])\n",
      "Reference Summary:\n",
      "A United States MQ-9 military drone is reportedly shot down in Yemen's Dhamar Governorate. A Houthi spokesperson claims responsibility and adds that they used a locally-developed missile.\n",
      "Predictions: \n",
      "[\"The drone was shot down in Yemen's Dhamar province, officials say. The drone was downed by a U.S. military drone, officials said. The U.N. Security Council has approved the use of drones in Yemen. The United States has been involved in\"]\n",
      "\n"
     ]
    },
    {
     "name": "stderr",
     "output_type": "stream",
     "text": [
      "\r",
      " 94%|█████████▎| 956/1022 [14:08:11<57:01, 51.85s/it]"
     ]
    },
    {
     "name": "stdout",
     "output_type": "stream",
     "text": [
      "input_ids shape: torch.Size([1, 59])\n",
      "Reference Summary:\n",
      "The death toll of a suicide bombing during a wedding in Kabul, Afghanistan, four days ago, increases to 80.\n",
      "Predictions: \n",
      "['The attack took place at a wedding in Kabul, Afghanistan. The death toll from the attack has risen to 80, an Afghan official says. The attack was carried out by a suicide bomber who was killed by a car bomb. The blast was carriedout by a group of suicide']\n",
      "\n"
     ]
    },
    {
     "name": "stderr",
     "output_type": "stream",
     "text": [
      "\r",
      " 94%|█████████▎| 957/1022 [14:09:07<57:35, 53.17s/it]"
     ]
    },
    {
     "name": "stdout",
     "output_type": "stream",
     "text": [
      "input_ids shape: torch.Size([1, 56])\n",
      "Reference Summary:\n",
      "The Congressional Budget Office forecasts a deficit of US$1 trillion next year, up from the previous estimate of $892 billion.\n",
      "Predictions: \n",
      "['The Congressional Budget Office says the deficit will exceed $1 trillion next year. The deficit is expected to rise by $1.2 trillion over the next decade. The budget deficit is projected to rise to $1 billion a year by the end of the decade.']\n",
      "\n"
     ]
    },
    {
     "name": "stderr",
     "output_type": "stream",
     "text": [
      "\r",
      " 94%|█████████▎| 958/1022 [14:10:03<57:46, 54.17s/it]"
     ]
    },
    {
     "name": "stdout",
     "output_type": "stream",
     "text": [
      "input_ids shape: torch.Size([1, 59])\n",
      "Reference Summary:\n",
      "Australia announces its agreement to join the United States' coalition, along with the United Kingdom and Bahrain, to prevent Iran from targeting ships travelling through the Strait of Hormuz. Australia will deploy a Boeing P-8 Poseidon and a frigate.\n",
      "Predictions: \n",
      "['Australia to join U.S. in a U.N. mission to protect the Strait of Hormuz. Australia will join U-S. mission in a bid to protect shipping in the region. Australia to join the U.K. and other nations in a mission']\n",
      "\n"
     ]
    },
    {
     "name": "stderr",
     "output_type": "stream",
     "text": [
      "\r",
      " 94%|█████████▍| 959/1022 [14:11:00<57:37, 54.89s/it]"
     ]
    },
    {
     "name": "stdout",
     "output_type": "stream",
     "text": [
      "input_ids shape: torch.Size([1, 59])\n",
      "Reference Summary:\n",
      "Queen Margrethe II of Denmark expresses surprise at U.S. President Donald Trump's abrupt cancellation of his planned visit to her country. Experts on the royal house call the move an act of \"disrespect\" as illness is not the apparent cause.\n",
      "Predictions: \n",
      "[\"President Donald Trump has called off a planned trip to Denmark. The president's decision to cancel the trip was made after the Danish prime minister said he was not interested in a deal. The Danish prime Minister said he would not be interested in the deal. Trump's decision was made\"]\n",
      "\n"
     ]
    },
    {
     "name": "stderr",
     "output_type": "stream",
     "text": [
      "\r",
      " 94%|█████████▍| 960/1022 [14:11:56<57:13, 55.38s/it]"
     ]
    },
    {
     "name": "stdout",
     "output_type": "stream",
     "text": [
      "input_ids shape: torch.Size([1, 59])\n",
      "Reference Summary:\n",
      "The office of the Prime Minister of Iceland Katrín Jakobsdóttir confirms that she will not meet the Vice President of the United States Mike Pence on his visit in September, citing \"prior commitments.\" (AP News)\n",
      "Predictions: \n",
      "[\"Iceland's leader will not be in the country for the vice president's visit. The president will be in Washington, D.C. for a meeting with the White House. The vice president will also visit the Whitehouse and the State Department. The visit is part of\"]\n",
      "\n"
     ]
    },
    {
     "name": "stderr",
     "output_type": "stream",
     "text": [
      "\r",
      " 94%|█████████▍| 961/1022 [14:12:54<56:49, 55.90s/it]"
     ]
    },
    {
     "name": "stdout",
     "output_type": "stream",
     "text": [
      "input_ids shape: torch.Size([1, 59])\n",
      "Reference Summary:\n",
      "The Supreme Court of Victoria rejects an appeal made by Cardinal George Pell against a six-year jail sentence for child sexual abuse.\n",
      "Predictions: \n",
      "[\"Cardinal George Pell was convicted of child sex abuse in Australia. He was found guilty of abusing two boys in the 1970s and 1980s. He is the most senior Catholic cleric in Australia to be convicted of sex abuse. The case was heard in Melbourne's Supreme Court.\"]\n",
      "\n"
     ]
    },
    {
     "name": "stderr",
     "output_type": "stream",
     "text": [
      "\r",
      " 94%|█████████▍| 962/1022 [14:13:50<56:11, 56.20s/it]"
     ]
    },
    {
     "name": "stdout",
     "output_type": "stream",
     "text": [
      "input_ids shape: torch.Size([1, 59])\n",
      "Reference Summary:\n",
      "The Foreign Ministry of China confirms that United Kingdom consulate in Hong Kong employee Simon Cheng, who was reported missing, is administratively detained for 15 days by Shenzhen police.\n",
      "Predictions: \n",
      "[\"The Chinese government has been trying to get the British consulate in Hong Kong to hand over a worker. The worker was arrested in the city's financial district. The Chinese government says the worker was detained for a crime. The man was arrested after he was found with a knife and\"]\n",
      "\n"
     ]
    },
    {
     "name": "stderr",
     "output_type": "stream",
     "text": [
      "\r",
      " 94%|█████████▍| 963/1022 [14:14:47<55:28, 56.41s/it]"
     ]
    },
    {
     "name": "stdout",
     "output_type": "stream",
     "text": [
      "input_ids shape: torch.Size([1, 59])\n",
      "Reference Summary:\n",
      "Indian senior opposition Rajya Sabha MP and former Cabinet Minister Palaniappan Chidambaram is arrested by the Central Bureau of Investigation on charges of corruption and money laundering during his term as Minister of Finance. Chidambaram says to the Supreme Court that the government is practicing a \"politically-motivated vendetta\" against him and his son Karti, who is also an opposition MP.\n",
      "Predictions: \n",
      "['Indian court orders arrest of former finance minister. He is accused of corruption and money laundering. He was arrested on suspicion of corruption. He has been charged with money laundering and money-laundering. He denies the charges. He says he is innocent. He will be released on']\n",
      "\n"
     ]
    },
    {
     "name": "stderr",
     "output_type": "stream",
     "text": [
      "\r",
      " 94%|█████████▍| 964/1022 [14:15:44<54:39, 56.53s/it]"
     ]
    },
    {
     "name": "stdout",
     "output_type": "stream",
     "text": [
      "input_ids shape: torch.Size([1, 59])\n",
      "Reference Summary:\n",
      "Indonesia cuts off Internet in the provinces of Papua and West Papua amid pro-independence unrest.\n",
      "Predictions: \n",
      "[\"Indonesia's West Papua province has been the scene of violent protests. The protests have been sparked by a series of incidents involving police and protesters. The unrest has been sparked after a series\\xa0of\\xa0incidents involving police, including the arrest of a man and the death\"]\n",
      "\n"
     ]
    },
    {
     "name": "stderr",
     "output_type": "stream",
     "text": [
      "\r",
      " 94%|█████████▍| 965/1022 [14:16:41<53:47, 56.62s/it]"
     ]
    },
    {
     "name": "stdout",
     "output_type": "stream",
     "text": [
      "input_ids shape: torch.Size([1, 59])\n",
      "Reference Summary:\n",
      "A ninth round of peace talks between the United States and the Taliban starts in Doha, Qatar.\n",
      "Predictions: \n",
      "['The U.S. and the Taliban are in talks to end the Afghan war. The talks are expected to last for up to a month. The U.N. Security Council has called for an end to the war in Afghanistan. The Taliban have been fighting the U.']\n",
      "\n"
     ]
    },
    {
     "name": "stderr",
     "output_type": "stream",
     "text": [
      "\r",
      " 95%|█████████▍| 966/1022 [14:17:38<52:55, 56.71s/it]"
     ]
    },
    {
     "name": "stdout",
     "output_type": "stream",
     "text": [
      "input_ids shape: torch.Size([1, 58])\n",
      "Reference Summary:\n",
      "At least four people are dead and more than 100 injured after lightning strikes the summit of Giewont in the Tatra Mountains, Poland. Another person is killed in Slovakia.\n",
      "Predictions: \n",
      "[\"The storm hit the area in the Tatra Mountains in southern Poland. The storm was caused by lightning that struck the area's southern tip. The area is popular with tourists. The dead include two children and a woman. The incident occurred in the early hours of Thursday.\"]\n",
      "\n"
     ]
    },
    {
     "name": "stderr",
     "output_type": "stream",
     "text": [
      "\r",
      " 95%|█████████▍| 967/1022 [14:18:34<51:54, 56.63s/it]"
     ]
    },
    {
     "name": "stdout",
     "output_type": "stream",
     "text": [
      "input_ids shape: torch.Size([1, 56])\n",
      "Reference Summary:\n",
      "At least five people are killed and 21 others injured in a stampede at a rap concert in Algiers, Algeria.\n",
      "Predictions: \n",
      "['5 people killed in stampede at a concert in Algiers, Algeria. The stampede occurred during a concert by rapper Abderraouf. The concert was held at a stadium in the Algerian capital. The crowd was packed with thousands of people.']\n",
      "\n"
     ]
    },
    {
     "name": "stderr",
     "output_type": "stream",
     "text": [
      "\r",
      " 95%|█████████▍| 968/1022 [14:19:32<51:07, 56.80s/it]"
     ]
    },
    {
     "name": "stdout",
     "output_type": "stream",
     "text": [
      "input_ids shape: torch.Size([1, 59])\n",
      "Reference Summary:\n",
      "South Korea decides against extending the General Security of Military Information Agreement (GSOMIA). South Korean officials express that the exclusion from Japan's preferred trade list on 12 August eliminated any benefit to maintaining the agreement.\n",
      "Predictions: \n",
      "[\"South Korea's decision to scrap a deal to share intelligence with Japan is a blow to the U.S. and Japan. The move is seen as a blow for the U.,S. as the two countries seek to improve their relations. The U.N. Security Council\"]\n",
      "\n"
     ]
    },
    {
     "name": "stderr",
     "output_type": "stream",
     "text": [
      "\r",
      " 95%|█████████▍| 969/1022 [14:20:28<50:10, 56.80s/it]"
     ]
    },
    {
     "name": "stdout",
     "output_type": "stream",
     "text": [
      "input_ids shape: torch.Size([1, 59])\n",
      "Reference Summary:\n",
      "A Syrian man is jailed for manslaughter in relation to a stabbing in Chemnitz, Saxony, Germany last year. The killing sparked far-right protests and riots in the city.\n",
      "Predictions: \n",
      "[\"A Syrian asylum seeker has been convicted of a fatal stabbing in Germany. The stabbing in Chemnitz sparked protests in the city of Chemnitzer. The case sparked a wave of protests in Germany's second city. The victim was a Syrian national who had been living in Germany\"]\n",
      "\n"
     ]
    },
    {
     "name": "stderr",
     "output_type": "stream",
     "text": [
      "\r",
      " 95%|█████████▍| 970/1022 [14:21:25<49:16, 56.85s/it]"
     ]
    },
    {
     "name": "stdout",
     "output_type": "stream",
     "text": [
      "input_ids shape: torch.Size([1, 57])\n",
      "Reference Summary:\n",
      "Philippine Department of Justice Secretary Menardo Guevarra and Bureau of Corrections (BuCor) Director-General Nicanor Faeldon says that former Calauan Mayor Antonio Sanchez is ineligible under a 2013 law that credits good conduct time allowance (GCTA) for an early release from prison.\n",
      "Predictions: \n",
      "['The former mayor of San Juan de Dios, a former mayor, was convicted of rape and murder. He was sentenced to life in prison in 2007. He is now serving a sentence of life in jail. The judge said he was not guilty of the crime.']\n",
      "\n"
     ]
    },
    {
     "name": "stderr",
     "output_type": "stream",
     "text": [
      "\r",
      " 95%|█████████▌| 971/1022 [14:22:23<48:28, 57.03s/it]"
     ]
    },
    {
     "name": "stdout",
     "output_type": "stream",
     "text": [
      "input_ids shape: torch.Size([1, 59])\n",
      "Reference Summary:\n",
      "Washington governor Jay Inslee drops out of the presidential primaries to focus on his re-election bid.\n",
      "Predictions: \n",
      "[\"Washington Gov. Jay Inslee announces he's ending his presidential bid. Inslee says he's not running for president because he's too busy with his job. Inslees says he wants to focus on his state's economy. He says he'll continue to be a strong voice for the\"]\n",
      "\n"
     ]
    },
    {
     "name": "stderr",
     "output_type": "stream",
     "text": [
      "\r",
      " 95%|█████████▌| 972/1022 [14:23:19<47:22, 56.84s/it]"
     ]
    },
    {
     "name": "stdout",
     "output_type": "stream",
     "text": [
      "input_ids shape: torch.Size([1, 59])\n",
      "Reference Summary:\n",
      "The second GPS IIIA satellite is successfully launched by a Delta IV Medium rocket from Cape Canaveral Air Force Station. It is the last launch of the Delta IV Medium vehicle.\n",
      "Predictions: \n",
      "[\"Last of its kind rocket puts GPS satellite in orbit. The rocket is the last of its type. It's the first of its sort to carry a GPS satellite. The satellite is the most powerful GPS satellite ever. It will be used to track the U.S. military\"]\n",
      "\n"
     ]
    },
    {
     "name": "stderr",
     "output_type": "stream",
     "text": [
      "\r",
      " 95%|█████████▌| 973/1022 [14:24:16<46:19, 56.73s/it]"
     ]
    },
    {
     "name": "stdout",
     "output_type": "stream",
     "text": [
      "input_ids shape: torch.Size([1, 59])\n",
      "Reference Summary:\n",
      "The uncrewed Soyuz MS-14 mission to resupply the International Space Station commences. Its launch is a successful test of a Soyuz spacecraft atop a Soyuz-2 launch vehicle, which will replace the Soyuz-FG as the carrier rocket for Soyuz spacecraft starting next year.\n",
      "Predictions: \n",
      "['Russia has sent a humanoid robot to the International Space Station. The robot is part of a test of a new rocket that will carry a human-sized robot. The Russian rocket is expected to be used to send a human to the ISS. The mission is part to test the']\n",
      "\n"
     ]
    },
    {
     "name": "stderr",
     "output_type": "stream",
     "text": [
      "\r",
      " 95%|█████████▌| 974/1022 [14:25:12<45:18, 56.63s/it]"
     ]
    },
    {
     "name": "stdout",
     "output_type": "stream",
     "text": [
      "input_ids shape: torch.Size([1, 56])\n",
      "Reference Summary:\n",
      "The Syrian Army captures the entire northern Hama-southern Idlib rebel pocket, asserting control over the strategic towns of Kafr Zita, Al-Lataminah and Murak, as well as numerous villages and an archaeological site, following the withdrawal of rebel forces.\n",
      "Predictions: \n",
      "['Syrian army takes control of a rebel-held area in the north of the country. The area is known as the Hama region. The Syrian army has been fighting rebels in the area since March 2011. The Hama area is a flashpoint for the Syrian conflict.']\n",
      "\n"
     ]
    },
    {
     "name": "stderr",
     "output_type": "stream",
     "text": [
      "\r",
      " 95%|█████████▌| 975/1022 [14:26:09<44:24, 56.69s/it]"
     ]
    },
    {
     "name": "stdout",
     "output_type": "stream",
     "text": [
      "input_ids shape: torch.Size([1, 59])\n",
      "Reference Summary:\n",
      "The Turkish observation post near Murak is encircled by government forces.\n",
      "Predictions: \n",
      "[\"Syrian troops surround Turkish post in country's northwest. Syrian troops have captured the area from insurgents. The area is in the country's northwestern region. The Syrian government has been fighting rebels for three years. The conflict has claimed more than 250,000 lives.. The Turkish government has said\"]\n",
      "\n"
     ]
    },
    {
     "name": "stderr",
     "output_type": "stream",
     "text": [
      "\r",
      " 95%|█████████▌| 976/1022 [14:27:06<43:27, 56.68s/it]"
     ]
    },
    {
     "name": "stdout",
     "output_type": "stream",
     "text": [
      "input_ids shape: torch.Size([1, 59])\n",
      "Reference Summary:\n",
      "U.S. officials confirm that an airstrike on an Iranian weapons depot in Amirli, Iraq on July 19 that killed two Iranian military commanders was conducted by Israel. The strike is the first known Israeli attack inside Iraq since Operation Opera in 1981.\n",
      "Predictions: \n",
      "['The U.S. has been accused of attacking a military base in Iraq. The U.N. says the attack was carried out by an Iranian-backed militia. The Iraqi government has blamed the attack on the U.K.-backed Iraqi government. The attack was claimed']\n",
      "\n"
     ]
    },
    {
     "name": "stderr",
     "output_type": "stream",
     "text": [
      "\r",
      " 96%|█████████▌| 977/1022 [14:28:02<42:33, 56.74s/it]"
     ]
    },
    {
     "name": "stdout",
     "output_type": "stream",
     "text": [
      "input_ids shape: torch.Size([1, 59])\n",
      "Reference Summary:\n",
      "Al-Qaeda accuses \"treacherous Pakistani forces\" of detaining the wife and two other relatives of the group's leader Ayman al Zawahiri for over a year.\n",
      "Predictions: \n",
      "['Al-Qaida claims Pakistan detained wife of its chief Zawahiri. Al-Qaida has accused Pakistani security forces of detaining the wife of Ayman al-Zawahir. Al Qaeda has accused Pakistan of detaining the wife and two other families of the insurgent group']\n",
      "\n"
     ]
    },
    {
     "name": "stderr",
     "output_type": "stream",
     "text": [
      "\r",
      " 96%|█████████▌| 978/1022 [14:28:59<41:34, 56.69s/it]"
     ]
    },
    {
     "name": "stdout",
     "output_type": "stream",
     "text": [
      "input_ids shape: torch.Size([1, 59])\n",
      "Reference Summary:\n",
      "Finland, current chair of the European Union, asks the bloc to contemplate a ban on beef from Brazil in response to the ongoing disaster.\n",
      "Predictions: \n",
      "['The EU is considering a ban on Brazilian imports of beef, a key ingredient in beef. The move is in response to the recent deadly fires in the Amazon. The fires have killed at least 20 people and injured hundreds. The fire has also destroyed thousands of homes in the region']\n",
      "\n"
     ]
    },
    {
     "name": "stderr",
     "output_type": "stream",
     "text": [
      "\r",
      " 96%|█████████▌| 979/1022 [14:29:56<40:37, 56.68s/it]"
     ]
    },
    {
     "name": "stdout",
     "output_type": "stream",
     "text": [
      "input_ids shape: torch.Size([1, 59])\n",
      "Reference Summary:\n",
      "China retaliates on the United States' latest tariff decisions by imposing tariffs of up to 25% on some American goods.\n",
      "Predictions: \n",
      "['China has announced it will impose tariffs on $75 billion worth of U.S. goods. The move is in response to a proposed $1.4 billion in U.N. sanctions. The U.K. has also announced it is imposing tariffs on a $1']\n",
      "\n"
     ]
    },
    {
     "name": "stderr",
     "output_type": "stream",
     "text": [
      "\r",
      " 96%|█████████▌| 980/1022 [14:30:52<39:40, 56.68s/it]"
     ]
    },
    {
     "name": "stdout",
     "output_type": "stream",
     "text": [
      "input_ids shape: torch.Size([1, 59])\n",
      "Reference Summary:\n",
      "U.S. President Donald Trump states on Twitter that he has \"hereby ordered\" that U.S. companies find an alternative for manufacturing in China and relocate \"HOME.\" (Barron's) (The Guardian)\n",
      "Predictions: \n",
      "['President Donald Trump has said he will not allow U.S. companies to be forced to leave China. He has also said he wants to see a reduction in the number of Chinese workers in the U.N. The U.K. has been the biggest source of complaints']\n",
      "\n"
     ]
    },
    {
     "name": "stderr",
     "output_type": "stream",
     "text": [
      "\r",
      " 96%|█████████▌| 981/1022 [14:31:32<35:14, 51.58s/it]"
     ]
    },
    {
     "name": "stdout",
     "output_type": "stream",
     "text": [
      "input_ids shape: torch.Size([1, 59])\n",
      "Reference Summary:\n",
      "President Trump announces an increase in the tariffs set to take effect on September 1, October 1 and December 15, from 10% and 25% to 15% and 30%, respectively. The Office of the United States Trade Representative says it will \"begin the process of increasing the tariff rate to 30% effective October 1 following a notice and comment period\".\n",
      "Predictions: \n",
      "[\"The U.S. Trade Representative's office says it will hold a public comment period before raising tariffs on $250 billion in Chinese imports. The U.N. trade group says the move will be in response to a Chinese threat to impose tariffs on U.K. goods\"]\n",
      "\n"
     ]
    },
    {
     "name": "stderr",
     "output_type": "stream",
     "text": [
      "\r",
      " 96%|█████████▌| 982/1022 [14:32:28<35:21, 53.04s/it]"
     ]
    },
    {
     "name": "stdout",
     "output_type": "stream",
     "text": [
      "input_ids shape: torch.Size([1, 56])\n",
      "Reference Summary:\n",
      "U.S. Representative for Massachusetts Seth Moulton announces his suspension of his 2020 presidential campaign.\n",
      "Predictions: \n",
      "['Seth Moulton, a Democrat, is the second candidate to announce he is leaving the race. He is the first Democrat to announce his exit from the race for the Democratic presidential nomination. Moulson is a former member of the House of Representatives.']\n",
      "\n"
     ]
    },
    {
     "name": "stderr",
     "output_type": "stream",
     "text": [
      "\r",
      " 96%|█████████▌| 983/1022 [14:33:25<35:08, 54.06s/it]"
     ]
    },
    {
     "name": "stdout",
     "output_type": "stream",
     "text": [
      "input_ids shape: torch.Size([1, 56])\n",
      "Reference Summary:\n",
      "Sri Lanka ends its state of emergency, four months after the Easter bombings.\n",
      "Predictions: \n",
      "[\"Sri Lanka's first-ever international cricket match in Sri Lanka is on Sunday. Sri Lanka's national team is playing a friendly match against the hosts. The match is the first in a series of matches between Sri Lanka and the hosts in the island nation.\"]\n",
      "\n"
     ]
    },
    {
     "name": "stderr",
     "output_type": "stream",
     "text": [
      "\r",
      " 96%|█████████▋| 984/1022 [14:34:22<34:45, 54.88s/it]"
     ]
    },
    {
     "name": "stdout",
     "output_type": "stream",
     "text": [
      "input_ids shape: torch.Size([1, 59])\n",
      "Reference Summary:\n",
      "The Israel Defense Forces say their Air Force strikes multiple Iranian Islamic Revolutionary Guard Corps targets in Aqraba near the Syrian capital Damascus. Israeli Prime Minister Benjamin Netanyahu claims an Iranian attack on Israel using armed drones to be imminent. Syria says it repels the attack and shoots down most of the attackers' rockets.\n",
      "Predictions: \n",
      "['Israel says it has attacked Iranian targets in Syria. Israel says it was targeting Iranian targets. Israel has been conducting airstrikes in Syria since September. Israel claims it was responding to an Iranian drone attack. Iran denies the claim. The Israeli military says it is targeting Iranian drone bases in']\n",
      "\n"
     ]
    },
    {
     "name": "stderr",
     "output_type": "stream",
     "text": [
      "\r",
      " 96%|█████████▋| 985/1022 [14:35:18<34:10, 55.41s/it]"
     ]
    },
    {
     "name": "stdout",
     "output_type": "stream",
     "text": [
      "input_ids shape: torch.Size([1, 59])\n",
      "Reference Summary:\n",
      "Voters in Nauru go to the polls to elect new members of parliament. President Baron Waqa loses his parliamentary seat so he is not able to be re-elected in the office he has been holding since 2013.\n",
      "Predictions: \n",
      "[\"Nauru's president has been ousted from his seat in the country's parliament. The president has not been in office since 2013. The country's president was a member of the Australian parliament. He was a former member of parliament. Nauru is a tiny island nation\"]\n",
      "\n"
     ]
    },
    {
     "name": "stderr",
     "output_type": "stream",
     "text": [
      "\r",
      " 96%|█████████▋| 986/1022 [14:36:15<33:27, 55.76s/it]"
     ]
    },
    {
     "name": "stdout",
     "output_type": "stream",
     "text": [
      "input_ids shape: torch.Size([1, 59])\n",
      "Reference Summary:\n",
      "Hezbollah says two Israeli drones went down in the Moawwad neighborhood of Dahieh (South Beirut), Lebanon, and they did not shoot them. A small reconnaissance drone fell on the roof of the Hezbollah media building, then another drone exploded nearby, causing damage to the building. Residents report a loud blast. The Israeli Army says it does not comment on \"foreign reports\". The Lebanese Army confirms the drones as Israeli.\n",
      "Predictions: \n",
      "['The drone was launched from a base in the southern city of Qusayr. The drone was fired on by a group of Israeli soldiers. The attack was in response to a rocket attack on a Hezbollah base in Qusawr. Hezbollah says it was fired at by']\n",
      "\n"
     ]
    },
    {
     "name": "stderr",
     "output_type": "stream",
     "text": [
      "\r",
      " 97%|█████████▋| 987/1022 [14:37:11<32:39, 55.99s/it]"
     ]
    },
    {
     "name": "stdout",
     "output_type": "stream",
     "text": [
      "input_ids shape: torch.Size([1, 59])\n",
      "Reference Summary:\n",
      "Iran denies attacks in southern Syria by Israel hit their installations. The Syrian Observatory for Human Rights, an opposition-aligned medium, claims the missiles killed one Iranian and two people from Hezbollah.\n",
      "Predictions: \n",
      "['Syrian opposition activists say airstrikes have killed three civilians. The airstrikes hit the town of Idlib, the last major rebel stronghold in the country. The strikes were carried out by the Syrian military. The Syrian government has been fighting rebels in the province since March 2011. The attack killed at']\n",
      "\n"
     ]
    },
    {
     "name": "stderr",
     "output_type": "stream",
     "text": [
      "\r",
      " 97%|█████████▋| 988/1022 [14:38:08<31:52, 56.25s/it]"
     ]
    },
    {
     "name": "stdout",
     "output_type": "stream",
     "text": [
      "input_ids shape: torch.Size([1, 59])\n",
      "Reference Summary:\n",
      "In an escalation of the ongoing protests, a police officer fires a gun whilst clearing protesters; this is the first time a gun has been fired by a police officer in Hong Kong since 1967.\n",
      "Predictions: \n",
      "[\"Police in Hong Kong fire tear gas at protesters. Police say they have been forced to use force to disperse the crowd. Police have also used water cannon to try to disperse protesters. The protesters are demanding that Hong Kong's leader be removed from office. The Hong Kong government has\"]\n",
      "\n"
     ]
    },
    {
     "name": "stderr",
     "output_type": "stream",
     "text": [
      "\r",
      " 97%|█████████▋| 989/1022 [14:39:05<30:59, 56.34s/it]"
     ]
    },
    {
     "name": "stdout",
     "output_type": "stream",
     "text": [
      "input_ids shape: torch.Size([1, 59])\n",
      "Reference Summary:\n",
      "A helicopter and an ultralight airplane plane collide near the town of Inca, on the island of Mallorca, Spain, killing seven people including two children, according to regional government officials.\n",
      "Predictions: \n",
      "['The crash occurred on the island of Mallorca. The helicopter was carrying a group of tourists. The plane was carrying two people. The crash occurred in the early hours of Sunday morning. The cause of the crash is still unknown. The victims were from the same family.']\n",
      "\n"
     ]
    },
    {
     "name": "stderr",
     "output_type": "stream",
     "text": [
      "\r",
      " 97%|█████████▋| 990/1022 [14:40:02<30:07, 56.47s/it]"
     ]
    },
    {
     "name": "stdout",
     "output_type": "stream",
     "text": [
      "input_ids shape: torch.Size([1, 59])\n",
      "Reference Summary:\n",
      "Lightning strikes on at least two Alaska Airlines planes force them to make emergency landings in Southeast Alaska. Lightning also knocked out electrical service to the state capital, Juneau.\n",
      "Predictions: \n",
      "[\"Lightning strike at Tour Championship in Atlanta, Georgia, on Saturday. Six people were injured in the incident. The incident occurred during the third round of the tournament. The tournament is the third of the year's four majors. The winner of the event will be crowned the champion\"]\n",
      "\n"
     ]
    },
    {
     "name": "stderr",
     "output_type": "stream",
     "text": [
      "\r",
      " 97%|█████████▋| 991/1022 [14:40:58<29:09, 56.44s/it]"
     ]
    },
    {
     "name": "stdout",
     "output_type": "stream",
     "text": [
      "input_ids shape: torch.Size([1, 57])\n",
      "Reference Summary:\n",
      "At Kutupalong, the world's largest refugee camp, in Cox's Bazar, Bangladesh, 200,000 people gather peacefully to remember the day, in 2017, when a violent crackdown by Myanmarese security forces compelled 740,000 Rohingya to flee over the border.\n",
      "Predictions: \n",
      "['Rohingya refugees in Bangladesh are protesting against the Myanmar government. They are demanding their rights to return to Myanmar after a two-year exodus. The Rohingya are seeking to return home after being forced to flee Myanmar. The refugees are seeking a better life in Bangladesh.']\n",
      "\n"
     ]
    },
    {
     "name": "stderr",
     "output_type": "stream",
     "text": [
      "\r",
      " 97%|█████████▋| 992/1022 [14:41:55<28:17, 56.58s/it]"
     ]
    },
    {
     "name": "stdout",
     "output_type": "stream",
     "text": [
      "input_ids shape: torch.Size([1, 59])\n",
      "Reference Summary:\n",
      "Conservative radio host and former Illinois congressman Joe Walsh announces his run for president, becoming only the second Republican to challenge incumbent President Donald Trump.\n",
      "Predictions: \n",
      "['Former Rep. Joe Walsh says he will run against President Trump in the 2020 Republican presidential primary. Walsh is a former Republican congressman from Illinois. He is a conservative commentator and former member of the House of Representatives. Walsh says the GOP should nominate a candidate who can win the White']\n",
      "\n"
     ]
    },
    {
     "name": "stderr",
     "output_type": "stream",
     "text": [
      "\r",
      " 97%|█████████▋| 993/1022 [14:42:18<22:27, 46.47s/it]"
     ]
    },
    {
     "name": "stdout",
     "output_type": "stream",
     "text": [
      "input_ids shape: torch.Size([1, 58])\n",
      "Reference Summary:\n",
      "Partially recognized Republic of Abkhazia holds the first round of the presidential election. Incumbent President Raul Khajimba and oppositor Alkhas Kvitsinia heads to second round on 8th September.\n",
      "Predictions: \n",
      "[\"The election is being held in Abkhazia, a breakaway region of Georgia. The vote is being called for a referendum on the region's future. The region is a breakaways from Georgia. It is part of the breakaway province of Abkhazi.\"]\n",
      "\n"
     ]
    },
    {
     "name": "stderr",
     "output_type": "stream",
     "text": [
      "\r",
      " 97%|█████████▋| 994/1022 [14:43:14<23:03, 49.40s/it]"
     ]
    },
    {
     "name": "stdout",
     "output_type": "stream",
     "text": [
      "input_ids shape: torch.Size([1, 57])\n",
      "Reference Summary:\n",
      "Lebanese President Michel Aoun accuses Israel of a \"declaration of war\", and asserts the right of the country to defend itself from aggression in response to Israeli strikes in the Beqaa Valley.\n",
      "Predictions: \n",
      "['The Israeli military has been accused of attacking a military base in southern Lebanon. The attack was in response to a series of attacks on the base by the Lebanese army. The Israeli military says the attack was a response to an attack on a military facility in the region.']\n",
      "\n"
     ]
    },
    {
     "name": "stderr",
     "output_type": "stream",
     "text": [
      "\r",
      " 97%|█████████▋| 995/1022 [14:44:11<23:12, 51.59s/it]"
     ]
    },
    {
     "name": "stdout",
     "output_type": "stream",
     "text": [
      "input_ids shape: torch.Size([1, 59])\n",
      "Reference Summary:\n",
      "The Federal Cartel Office in Germany announced that it will appeal a decision by a regional court that suspended its restrictions on Facebook's activities. The appeal will bring the dispute, over underlying privacy issues, to the attention of the country's highest court.\n",
      "Predictions: \n",
      "[\"German cartel office to take Facebook case to the High Court. Court had suspended restrictions on Facebook's data collection practices. Facebook says it will appeal decision to suspend restrictions on data collection. Facebook: We are happy to clarify that the decision was not to allow us to collect data.\"]\n",
      "\n"
     ]
    },
    {
     "name": "stderr",
     "output_type": "stream",
     "text": [
      "\r",
      " 97%|█████████▋| 996/1022 [14:45:08<23:03, 53.21s/it]"
     ]
    },
    {
     "name": "stdout",
     "output_type": "stream",
     "text": [
      "input_ids shape: torch.Size([1, 59])\n",
      "Reference Summary:\n",
      "An Oklahoma district court finds Johnson & Johnson liable for exacerbating opioid addiction in the state, and fines them US$572 million. The company announces it will appeal.\n",
      "Predictions: \n",
      "[\"The judge in the case says the company is responsible for the state's opioid crisis. The judge says the drug company is liable for the deaths of more than 1,000 people. The company is also responsible for a $1.2 billion fine for the death of a man\"]\n",
      "\n"
     ]
    },
    {
     "name": "stderr",
     "output_type": "stream",
     "text": [
      "\r",
      " 98%|█████████▊| 997/1022 [14:46:05<22:37, 54.31s/it]"
     ]
    },
    {
     "name": "stdout",
     "output_type": "stream",
     "text": [
      "input_ids shape: torch.Size([1, 59])\n",
      "Reference Summary:\n",
      "Group of Seven leaders hold their yearly meeting in Biarritz, France.\n",
      "Predictions: \n",
      "['The U.S. president is in France for the G-7 summit. He is expected to meet with the leaders of the UK, France, Germany, Italy and Canada. The U.N. secretary-general is also in France. The G-8 summit is']\n",
      "\n"
     ]
    },
    {
     "name": "stderr",
     "output_type": "stream",
     "text": [
      "\r",
      " 98%|█████████▊| 998/1022 [14:47:01<21:59, 54.97s/it]"
     ]
    },
    {
     "name": "stdout",
     "output_type": "stream",
     "text": [
      "input_ids shape: torch.Size([1, 59])\n",
      "Reference Summary:\n",
      "Indonesian President Joko Widodo announces North Penajam Paser and Kutai Kartanegara regencies as location of the future capital of Indonesia. He says government will prepare a bill to submit in the House of Representatives as soon as possible.\n",
      "Predictions: \n",
      "[\"Indonesia to move capital from Jakarta to Borneo. President Joko Widodo says capital will be moved to a site in Borneos. Jakarta is currently overcrowded and sinking. The capital is located in the country's most populous province. The island of Bornea\"]\n",
      "\n"
     ]
    },
    {
     "name": "stderr",
     "output_type": "stream",
     "text": [
      "\r",
      " 98%|█████████▊| 999/1022 [14:47:58<21:15, 55.45s/it]"
     ]
    },
    {
     "name": "stdout",
     "output_type": "stream",
     "text": [
      "input_ids shape: torch.Size([1, 59])\n",
      "Reference Summary:\n",
      "YPG units withdraw from Tell Abyad and Ras al-Ayn as the first stage of the Northern Syria Buffer Zone agreement enters into effect.\n",
      "Predictions: \n",
      "['The Kurdish YPG militia will pull forces from a strip of land along the border with Turkey. The withdrawal is part of a deal between the U.S. and Turkey to end the Syrian conflict. The Syrian Kurdish YPG is a militia that has been fighting alongside the Syrian government.']\n",
      "\n"
     ]
    },
    {
     "name": "stderr",
     "output_type": "stream",
     "text": [
      "\r",
      " 98%|█████████▊| 1000/1022 [14:48:54<20:26, 55.76s/it]"
     ]
    },
    {
     "name": "stdout",
     "output_type": "stream",
     "text": [
      "input_ids shape: torch.Size([1, 59])\n",
      "Reference Summary:\n",
      "Tropical Storm Dorian is expected to grow stronger as it reaches Puerto Rico, the National Hurricane Center says.\n",
      "Predictions: \n",
      "['Tropical Storm Dorian is expected to become a hurricane. The storm is expected in the Caribbean on Wednesday. It is expected not to make landfall until Thursday. The hurricane is expected on the east coast of the United States. It could make landfall in the Dominican Republic or']\n",
      "\n"
     ]
    },
    {
     "name": "stderr",
     "output_type": "stream",
     "text": [
      "\r",
      " 98%|█████████▊| 1001/1022 [14:49:51<19:36, 56.04s/it]"
     ]
    },
    {
     "name": "stdout",
     "output_type": "stream",
     "text": [
      "input_ids shape: torch.Size([1, 59])\n",
      "Reference Summary:\n",
      "The Brazilian government through President Jair Messias Bolsonaro is open to accepting financial aid from organizations and foreign countries to help fight fires in the Amazon rainforest on the condition that the funds must be under the country's control.\n",
      "Predictions: \n",
      "[\"The Amazon is a major source of fire in Brazil. The fires have been burning since the start of the year. The fire has been blamed on lightning and forest fires. The Amazon is also a major tourist destination. The region is home to some of the world's largest tourist\"]\n",
      "\n"
     ]
    },
    {
     "name": "stderr",
     "output_type": "stream",
     "text": [
      "\r",
      " 98%|█████████▊| 1002/1022 [14:50:47<18:43, 56.18s/it]"
     ]
    },
    {
     "name": "stdout",
     "output_type": "stream",
     "text": [
      "input_ids shape: torch.Size([1, 59])\n",
      "Reference Summary:\n",
      "An Air China Airbus A330 preparing to takeoff as Flight 183 catches fire during boarding at Beijing International Airport. Passengers and crew successfully evacuate, but the aircraft is severely damaged.\n",
      "Predictions: \n",
      "['Air China plane was preparing to fly to Tokyo. All passengers evacuated safely from the plane. Plane was carrying passengers to Tokyo from Beijing. Air China says all passengers were evacuated safely. Airline says plane was carrying more than 1,000 passengers. The plane was headed to Tokyo']\n",
      "\n"
     ]
    },
    {
     "name": "stderr",
     "output_type": "stream",
     "text": [
      "\r",
      " 98%|█████████▊| 1003/1022 [14:51:43<17:45, 56.10s/it]"
     ]
    },
    {
     "name": "stdout",
     "output_type": "stream",
     "text": [
      "input_ids shape: torch.Size([1, 57])\n",
      "Reference Summary:\n",
      "A Spanish C-101 military jet crashes into the sea near La Manga, killing its pilot.\n",
      "Predictions: \n",
      "['The Spanish military plane crashed into the sea off the coast of La Manga, near the island of La Garenne. The pilot was killed in the crash. The plane was carrying a Spanish military pilot. The crash happened at around 2:30am local time.']\n",
      "\n"
     ]
    },
    {
     "name": "stderr",
     "output_type": "stream",
     "text": [
      "\r",
      " 98%|█████████▊| 1004/1022 [14:52:41<16:56, 56.47s/it]"
     ]
    },
    {
     "name": "stdout",
     "output_type": "stream",
     "text": [
      "input_ids shape: torch.Size([1, 59])\n",
      "Reference Summary:\n",
      "A U.S. federal judge blocks a Missouri law banning abortions eight weeks after conception from going into effect.\n",
      "Predictions: \n",
      "[\"A federal judge has temporarily blocked a Missouri abortion ban. The ban was to take effect at the end of the month. The state's new law would have banned abortions after eight weeks of pregnancy. The law was passed in April. The judge's ruling is expected to be appealed\"]\n",
      "\n"
     ]
    },
    {
     "name": "stderr",
     "output_type": "stream",
     "text": [
      "\r",
      " 98%|█████████▊| 1005/1022 [14:53:38<16:02, 56.64s/it]"
     ]
    },
    {
     "name": "stdout",
     "output_type": "stream",
     "text": [
      "input_ids shape: torch.Size([1, 59])\n",
      "Reference Summary:\n",
      "The Donald Trump administration is in the process of shifting at least $155 million from the Federal Emergency Management Agency to the Department of Homeland Security, in order to fund the return of some migrants to Mexico. The move comes as Tropical Storm Dorian nears hurricane status as it approaches Puerto Rico.\n",
      "Predictions: \n",
      "['The U.S. government is moving $271 million from other agencies to fund the border. The money will be used to fund a new program to help with the number of immigrants in the U.N. system. The U.K. government will also be given $']\n",
      "\n"
     ]
    },
    {
     "name": "stderr",
     "output_type": "stream",
     "text": [
      "\r",
      " 98%|█████████▊| 1006/1022 [14:54:34<15:05, 56.62s/it]"
     ]
    },
    {
     "name": "stdout",
     "output_type": "stream",
     "text": [
      "input_ids shape: torch.Size([1, 59])\n",
      "Reference Summary:\n",
      "Russian aircraft leasing firm Avia Capital Services, which has ordered 35 Boeing 737 MAX aircraft, sues Boeing in an Illinois court in the first legal action taken by a 737 MAX customer in the wake of the groundings. Avia seek damages and a cancellation of the order, claiming Boeing were fraudulent, breached their contract with Avia, and negligently introduced design flaws to the aircraft and made negligent representations to the Federal Aviation Authority seeking the plane's certification. With nearly 400 jets grounded worldwide since March, lawyers representing Avia say they are discussing the possibility of joining the litigation with other companies.\n",
      "Predictions: \n",
      "[\"Russian aircraft leasing company says it has been ordered to buy Boeing's 737 Max jets. The company says the plane is too small and too expensive for the market. It is also seeking to have the plane's production halted. Boeing says it is working with the Russian company to find\"]\n",
      "\n"
     ]
    },
    {
     "name": "stderr",
     "output_type": "stream",
     "text": [
      "\r",
      " 99%|█████████▊| 1007/1022 [14:55:31<14:08, 56.59s/it]"
     ]
    },
    {
     "name": "stdout",
     "output_type": "stream",
     "text": [
      "input_ids shape: torch.Size([1, 59])\n",
      "Reference Summary:\n",
      "An appeals court in Ontario, Canada overturns the terror convictions of Raed Jaser and Chiheb Esseghaier, citing an error by the trial judge regarding jury selection. A new trial is expected to take place.\n",
      "Predictions: \n",
      "['Two men were found guilty of terror charges in a plot to derail a train in Ontario. The men were convicted of a total of eight terror-related charges. The trial was to last two years. The two men were sentenced to life in prison. The court ordered a new']\n",
      "\n"
     ]
    },
    {
     "name": "stderr",
     "output_type": "stream",
     "text": [
      "\r",
      " 99%|█████████▊| 1008/1022 [14:56:10<12:01, 51.50s/it]"
     ]
    },
    {
     "name": "stdout",
     "output_type": "stream",
     "text": [
      "input_ids shape: torch.Size([1, 59])\n",
      "Reference Summary:\n",
      "Lionel Aingimea is sworn in as the President of Nauru, replacing Baron Waqa.\n",
      "Predictions: \n",
      "[\"Nauru's president is a former prime minister. He was elected in a landslide victory in the country's first election. The island nation has a population of about 1,000. It is the smallest of the Pacific islands. The country is home to about 1.5 million people\"]\n",
      "\n"
     ]
    },
    {
     "name": "stderr",
     "output_type": "stream",
     "text": [
      "\r",
      " 99%|█████████▊| 1009/1022 [14:57:08<11:34, 53.45s/it]"
     ]
    },
    {
     "name": "stdout",
     "output_type": "stream",
     "text": [
      "input_ids shape: torch.Size([1, 57])\n",
      "Reference Summary:\n",
      "Poland anounces a planned national budget with zero deficit for the first time in 30 years.\n",
      "Predictions: \n",
      "[\"Poland's prime minister says the 2020 state budget will not run a deficit. The move is partly thanks to a rise in tax revenue. Poland has not run deficit in 30 years. The country has been in recession since 2008. The European Union has imposed sanctions on Poland.\"]\n",
      "\n"
     ]
    },
    {
     "name": "stderr",
     "output_type": "stream",
     "text": [
      "\r",
      " 99%|█████████▉| 1010/1022 [14:58:10<11:09, 55.80s/it]"
     ]
    },
    {
     "name": "stdout",
     "output_type": "stream",
     "text": [
      "input_ids shape: torch.Size([1, 59])\n",
      "Reference Summary:\n",
      "The uncrewed Soyuz MS-14 spacecraft successfully docks with the International Space Station on its second attempt, with the Zvezda module. The docking follows the failure of the automated systems aboard the Poisk module with which the spacecraft was originally intended to dock on 24 August. MS-14 carries supplies for the ISS, along with a humanoid robot named Fedor.\n",
      "Predictions: \n",
      "[\"Russian spacecraft carrying a robot to the ISS has successfully docked. The spacecraft was carrying a humanoid robot. The robot was launched on a mission to the International Space Station in July. The mission was supposed to be a test of the robot's ability to communicate with the ISS.\"]\n",
      "\n"
     ]
    },
    {
     "name": "stderr",
     "output_type": "stream",
     "text": [
      "\r",
      " 99%|█████████▉| 1011/1022 [14:59:07<10:19, 56.28s/it]"
     ]
    },
    {
     "name": "stdout",
     "output_type": "stream",
     "text": [
      "input_ids shape: torch.Size([1, 56])\n",
      "Reference Summary:\n",
      "SpaceX executes a successful test of its Starhopper vehicle at Boca Chica. The vehicle was raised 150 metres (490 feet) into the air by its methane-fueled Raptor engine. The engine is planned for use on SpaceX's Starship vehicle – a crewed spacecraft capable of interplanetary flight.\n",
      "Predictions: \n",
      "[\"SpaceX's Starhopper test rocket is the first of its kind. The rocket is designed to carry a small payload to space. The company is also developing a Mars-bound spacecraft. The first test flight was held in the U.S. in the summer.\"]\n",
      "\n"
     ]
    },
    {
     "name": "stderr",
     "output_type": "stream",
     "text": [
      "\r",
      " 99%|█████████▉| 1012/1022 [15:00:05<09:27, 56.71s/it]"
     ]
    },
    {
     "name": "stdout",
     "output_type": "stream",
     "text": [
      "input_ids shape: torch.Size([1, 59])\n",
      "Reference Summary:\n",
      "English association football club Bury F.C., who were in EFL League One, are expelled from the English Football League (EFL) after a takeover bid to save the club collapses. Fellow EFL League One club and local rivals Bolton Wanderers F.C. are given an extra 14 days to avoid being expelled due to financial difficulty. EFL executive chair Debbie Jevans calls the expulsion of Bury F.C. \"one of the darkest days in the league's recent history\".\n",
      "Predictions: \n",
      "['Bury have been in the Premier League for just one season. The club were relegated from the Premier league in May. The League One club have been struggling in the Championship. The EFL have been forced to take action after a takeover bid collapsed. The deal was to be completed by']\n",
      "\n"
     ]
    },
    {
     "name": "stderr",
     "output_type": "stream",
     "text": [
      "\r",
      " 99%|█████████▉| 1013/1022 [15:01:02<08:32, 56.92s/it]"
     ]
    },
    {
     "name": "stdout",
     "output_type": "stream",
     "text": [
      "input_ids shape: torch.Size([1, 59])\n",
      "Reference Summary:\n",
      "Hamas says that on Tuesday night, three Palestinian police officers were killed and several wounded in two separate suicide attacks on police checkpoints. ISIL's affiliate in Gaza, the Sheikh Omar Hadid Brigade, are the suspected perpetrators.\n",
      "Predictions: \n",
      "['Hamas-run interior ministry declares a state of emergency in Gaza. Three police officers killed in two explosions at two police checkpoints. Hamas says the explosions were carried out by militants. The explosions killed three police officers and wounded several others. The Hamas-run Interior Ministry says the']\n",
      "\n"
     ]
    },
    {
     "name": "stderr",
     "output_type": "stream",
     "text": [
      "\r",
      " 99%|█████████▉| 1014/1022 [15:01:05<05:26, 40.84s/it]"
     ]
    },
    {
     "name": "stdout",
     "output_type": "stream",
     "text": [
      "input_ids shape: torch.Size([1, 56])\n",
      "Reference Summary:\n",
      "Border Police announce they have detained an unnamed man who tried to bring a pipe bomb into Samaria Military Court in Salim, Nablus, on the West Bank.\n",
      "Predictions: \n",
      "['Palestinian man arrested with pipe bomb at West Bank military court. Border Police officers arrested the man at the Samaria Military Court. The man was arrested at the village of Salem. The court is in the Samarian region of the West Bank. The incident is under investigation.']\n",
      "\n"
     ]
    },
    {
     "name": "stderr",
     "output_type": "stream",
     "text": [
      "\r",
      " 99%|█████████▉| 1015/1022 [15:02:03<05:20, 45.76s/it]"
     ]
    },
    {
     "name": "stdout",
     "output_type": "stream",
     "text": [
      "input_ids shape: torch.Size([1, 59])\n",
      "Reference Summary:\n",
      "Three people are killed amidst heavy rains in southwestern Japan. Authorities ask almost one million people to evacuate, warning \"unprecedented\" levels of rainfall could cause the flooding of rivers, trigger landslides, and submerge houses.\n",
      "Predictions: \n",
      "['Heavy rains in Japan have caused flooding and landslides in the south. The rain has caused a landslide and caused flooding in the southern island of Kyushu. The Japanese government has issued an emergency warning for the area. The government has ordered the evacuation of more than 1 million']\n",
      "\n"
     ]
    },
    {
     "name": "stderr",
     "output_type": "stream",
     "text": [
      "\r",
      " 99%|█████████▉| 1016/1022 [15:02:09<03:23, 33.94s/it]"
     ]
    },
    {
     "name": "stdout",
     "output_type": "stream",
     "text": [
      "input_ids shape: torch.Size([1, 57])\n",
      "Reference Summary:\n",
      "The Civil Aviation Authority of South Africa concludes its investigation with a final report indicating the accident was caused by poor maintenance and errors by unqualified pilots.\n",
      "Predictions: \n",
      "['The TMT Fleet Maintenance software is designed to help companies manage fleet maintenance. The software is available to all major carriers and fleet operators. It can be used to manage maintenance and repair services for fleet vehicles. The system can also be used for fleet maintenance and repairs.']\n",
      "\n"
     ]
    },
    {
     "name": "stderr",
     "output_type": "stream",
     "text": [
      "\r",
      "100%|█████████▉| 1017/1022 [15:03:06<03:24, 40.95s/it]"
     ]
    },
    {
     "name": "stdout",
     "output_type": "stream",
     "text": [
      "input_ids shape: torch.Size([1, 59])\n",
      "Reference Summary:\n",
      "Brazilian President Jair Bolsonaro announces all Amazon-region nations except Venezuela will meet to discuss a coordinated response to the disaster. He also reiterates rejection of G7 money to assist the efforts unless French President Emmanuel Macron issues him an apology, but after meeting with Chilean President Sebastián Piñera accepts an offer of four firefighting aircraft from Chile.\n",
      "Predictions: \n",
      "[\"Brazilian firefighters are battling a series of fires in the Amazon. The fires have been burning for more than a week. The firefighting effort has been dubbed the Amazon Firefight. The Amazon Firefighters Association has called for the creation of a national firefighting agency. The Firefighters'\"]\n",
      "\n"
     ]
    },
    {
     "name": "stderr",
     "output_type": "stream",
     "text": [
      "\r",
      "100%|█████████▉| 1018/1022 [15:03:12<02:01, 30.49s/it]"
     ]
    },
    {
     "name": "stdout",
     "output_type": "stream",
     "text": [
      "input_ids shape: torch.Size([1, 59])\n",
      "Reference Summary:\n",
      "Finland, current chair of the European Union, writes to the body's High Representative for Foreign Affairs and Security Policy, Federica Mogherini, urging the use of the EU's \"full toolkit\" including foreign and trade policy to counter the use of deliberate fires as a means of deforestation in Brazil.\n",
      "Predictions: \n",
      "[\"The Minister of National Defence will be in the UK for the first time in two years. He will be taking part in the annual meeting of the European Union's defence ministers. The meeting will take place in Helsinki, Finland, on Wednesday and Thursday. The event will be held\"]\n",
      "\n"
     ]
    },
    {
     "name": "stderr",
     "output_type": "stream",
     "text": [
      "\r",
      "100%|█████████▉| 1019/1022 [15:04:10<01:55, 38.53s/it]"
     ]
    },
    {
     "name": "stdout",
     "output_type": "stream",
     "text": [
      "input_ids shape: torch.Size([1, 59])\n",
      "Reference Summary:\n",
      "Florida Governor Ron DeSantis declares a state of emergency in anticipation of Hurricane Dorian, which is expected to make landfall in the state within days.\n",
      "Predictions: \n",
      "['The storm is expected to make landfall in Florida on Saturday. The storm is forecast to strengthen into a hurricane. The hurricane is expected in the Florida Keys on Saturday night. The National Hurricane Center says it is expected the storm will make landfall on Sunday. The Florida Keys are expected']\n",
      "\n"
     ]
    },
    {
     "name": "stderr",
     "output_type": "stream",
     "text": [
      "\r",
      "100%|█████████▉| 1020/1022 [15:04:19<00:59, 29.74s/it]"
     ]
    },
    {
     "name": "stdout",
     "output_type": "stream",
     "text": [
      "input_ids shape: torch.Size([1, 59])\n",
      "Reference Summary:\n",
      "New Zealand bans tourists from swimming with bottlenose dolphins, saying dwindling numbers are linked to excessive interaction with tourists, as the animals choose socialising with people over necessary biological functions. Authorities say the species risks \"being loved into extinction\".\n",
      "Predictions: \n",
      "[\"New Zealand bans tourists from swimming with bottlenose dolphins. The move is in a bid to protect the species from being 'loved' by tourists. The population of bottlenoses has been declining in recent years. The dolphins are thought to be in danger of being wiped out.\"]\n",
      "\n"
     ]
    },
    {
     "name": "stderr",
     "output_type": "stream",
     "text": [
      "\r",
      "100%|█████████▉| 1021/1022 [15:05:17<00:38, 38.18s/it]"
     ]
    },
    {
     "name": "stdout",
     "output_type": "stream",
     "text": [
      "input_ids shape: torch.Size([1, 59])\n",
      "Reference Summary:\n",
      "28 people are killed in a bar fire in Coatzacoalcos, Veracruz, Mexico, that police believe was caused by an attack by drug cartels. Mexican media reports that Molotov cocktails were thrown inside.\n",
      "Predictions: \n",
      "[\"The attack happened in the city of Coatzacoalcos, in Mexico's Gulf coast city of Mexico. The attack killed 23 people and injured 13 others. The attackers were believed to be from the local community. The victims were killed in a bar attack in the southern city\"]\n",
      "\n"
     ]
    },
    {
     "name": "stderr",
     "output_type": "stream",
     "text": [
      "\r",
      "100%|██████████| 1022/1022 [15:05:46<00:00, 35.39s/it]"
     ]
    },
    {
     "name": "stdout",
     "output_type": "stream",
     "text": [
      "input_ids shape: torch.Size([1, 59])\n",
      "Reference Summary:\n",
      "Pretoria, the administrative capital of South Africa, experiences widespread looting and violent attacks by rioters focused on foreigners. Police are currently outnumbered and many businesses have been set on fire. The riots follow the death of a taxi driver reportedly shot by Nigerian drug dealers after they realized he had seen them complete a drug deal and had also seen their supplier. Bus services are suspended and authorities say the capital is currently unsafe.\n",
      "Predictions: \n",
      "['The incident happened in the Pretoria CBD on Tuesday. The incident occurred after a taxi driver was killed in a road accident. The driver was allegedly shot by police after he tried to drive away from a road. The accident happened after a car was allegedly hit by a stray bullet']\n",
      "\n"
     ]
    },
    {
     "name": "stderr",
     "output_type": "stream",
     "text": [
      "\n"
     ]
    }
   ],
   "source": [
    "evaluation_args = {\n",
    "    'evaluation_dataset': '/home/chris/projects/aylien/dynamic-ensembles/data/WCEP/test.jsonl',\n",
    "    'model': bart_cnndm_model,\n",
    "    'tokenizer': bart_tokenizer,\n",
    "    'max_length': 60,\n",
    "    'num_beams': 1,\n",
    "    'max_articles': 20\n",
    "}\n",
    "\n",
    "cluster_summaries = summarize(evaluation_args)"
   ]
  },
  {
   "cell_type": "code",
   "execution_count": 5,
   "metadata": {},
   "outputs": [
    {
     "name": "stdout",
     "output_type": "stream",
     "text": [
      "rouge-1 p: 0.251 r: 0.394 f: 0.292\n",
      "rouge-2 p: 0.079 r: 0.132 f: 0.094\n",
      "rouge-l p: 0.177 r: 0.284 f: 0.208\n"
     ]
    }
   ],
   "source": [
    "import argparse\n",
    "import collections\n",
    "import numpy as np\n",
    "# import utils\n",
    "from newsroom.analyze.rouge import ROUGE_L, ROUGE_N\n",
    "\n",
    "\n",
    "def print_mean(results, rouge_types):\n",
    "    for rouge_type in rouge_types:\n",
    "        precs = results[rouge_type]['p']\n",
    "        recalls = results[rouge_type]['r']\n",
    "        fscores = results[rouge_type]['f']\n",
    "        p = round(np.mean(precs), 3)\n",
    "        r = round(np.mean(recalls), 3)\n",
    "        f = round(np.mean(fscores), 3)\n",
    "        print(rouge_type, 'p:', p, 'r:', r, 'f:', f)\n",
    "\n",
    "        \n",
    "\n",
    "rouge_types = ['rouge-1', 'rouge-2', 'rouge-l']\n",
    "results = dict((rouge_type, collections.defaultdict(list))\n",
    "               for rouge_type in rouge_types)\n",
    "\n",
    "\n",
    "lowercase = True\n",
    "\n",
    "for hyp, ref in cluster_summaries:\n",
    "    if lowercase:\n",
    "        hyp = hyp.lower()\n",
    "        ref = ref.lower()\n",
    "\n",
    "    r1 = ROUGE_N(ref, hyp, n=1)\n",
    "    r2 = ROUGE_N(ref, hyp, n=2)\n",
    "    rl = ROUGE_L(ref, hyp)\n",
    "\n",
    "    for (rouge_type, scores) in zip(rouge_types, [r1, r2, rl]):\n",
    "        results[rouge_type]['p'].append(scores.precision)\n",
    "        results[rouge_type]['r'].append(scores.recall)\n",
    "        results[rouge_type]['f'].append(scores.fscore)\n",
    "\n",
    "print_mean(results, rouge_types)\n"
   ]
  },
  {
   "cell_type": "code",
   "execution_count": null,
   "metadata": {},
   "outputs": [],
   "source": [
    "# using 5 articles from cluster results\n",
    "# evaluation_args = {\n",
    "#     'evaluation_dataset': '/home/chris/projects/aylien/dynamic-ensembles/data/WCEP/test.jsonl',\n",
    "#     'model': bart_cnndm_model,\n",
    "#     'tokenizer': bart_tokenizer,\n",
    "#     'max_length': 60,\n",
    "#     'num_beams': 1,\n",
    "#     'max_articles': 5\n",
    "# }\n",
    "# rouge-1 p: 0.247 r: 0.385 f: 0.286\n",
    "# rouge-2 p: 0.076 r: 0.126 f: 0.091\n",
    "# rouge-l p: 0.174 r: 0.279 f: 0.204\n",
    "\n",
    "\n",
    "\n",
    "\n",
    "# using 20 articles from cluster results\n",
    "# evaluation_args = {\n",
    "#     'evaluation_dataset': '/home/chris/projects/aylien/dynamic-ensembles/data/WCEP/test.jsonl',\n",
    "#     'model': bart_cnndm_model,\n",
    "#     'tokenizer': bart_tokenizer,\n",
    "#     'max_length': 60,\n",
    "#     'num_beams': 1,\n",
    "#     'max_articles': 20\n",
    "# }\n",
    "# rouge-1 p: 0.251 r: 0.394 f: 0.292\n",
    "# rouge-2 p: 0.079 r: 0.132 f: 0.094\n",
    "# rouge-l p: 0.177 r: 0.284 f: 0.208"
   ]
  },
  {
   "cell_type": "code",
   "execution_count": null,
   "metadata": {},
   "outputs": [],
   "source": [
    "import argparse\n",
    "import collections\n",
    "import numpy as np\n",
    "import utils\n",
    "from newsroom.analyze.rouge import ROUGE_L, ROUGE_N\n",
    "\n",
    "\n",
    "def print_mean(results, rouge_types):\n",
    "    for rouge_type in rouge_types:\n",
    "        precs = results[rouge_type]['p']\n",
    "        recalls = results[rouge_type]['r']\n",
    "        fscores = results[rouge_type]['f']\n",
    "        p = round(np.mean(precs), 3)\n",
    "        r = round(np.mean(recalls), 3)\n",
    "        f = round(np.mean(fscores), 3)\n",
    "        print(rouge_type, 'p:', p, 'r:', r, 'f:', f)\n",
    "\n",
    "\n",
    "def evaluate(dataset_path, pred_path, start, stop, lowercase=False):\n",
    "\n",
    "    dataset = utils.read_jsonl(dataset_path)\n",
    "    predictions = utils.read_jsonl(pred_path)\n",
    "\n",
    "    rouge_types = ['rouge-1', 'rouge-2', 'rouge-l']\n",
    "    results = dict((rouge_type, collections.defaultdict(list))\n",
    "                   for rouge_type in rouge_types)\n",
    "\n",
    "    for i, cluster in enumerate(dataset):\n",
    "        if start > -1 and i < start:\n",
    "            continue\n",
    "        if stop > -1 and i >= stop:\n",
    "            break\n",
    "\n",
    "        prediction = next(predictions)\n",
    "        assert prediction['cluster_id'] == cluster['id']\n",
    "\n",
    "        hyp = prediction['summary']\n",
    "        ref = cluster['summary']\n",
    "\n",
    "        if lowercase:\n",
    "            hyp = hyp.lower()\n",
    "            ref = ref.lower()\n",
    "\n",
    "        r1 = ROUGE_N(ref, hyp, n=1)\n",
    "        r2 = ROUGE_N(ref, hyp, n=2)\n",
    "        rl = ROUGE_L(ref, hyp)\n",
    "\n",
    "        for (rouge_type, scores) in zip(rouge_types, [r1, r2, rl]):\n",
    "            results[rouge_type]['p'].append(scores.precision)\n",
    "            results[rouge_type]['r'].append(scores.recall)\n",
    "            results[rouge_type]['f'].append(scores.fscore)\n",
    "\n",
    "        if i % 100 == 0:\n",
    "            print(i)\n",
    "            # print_mean(results, rouge_types)\n",
    "\n",
    "    print('Final Average:')\n",
    "    print_mean(results, rouge_types)\n",
    "    return results\n",
    "\n",
    "\n",
    "# def main(args):\n",
    "#     results = evaluate(args.dataset, args.preds, args.start, args.stop,\n",
    "#                        args.lowercase)\n",
    "#     utils.write_json(results, args.o)\n",
    "\n",
    "\n",
    "# if __name__ == '__main__':\n",
    "#     parser = argparse.ArgumentParser()\n",
    "#     parser.add_argument('--dataset')\n",
    "#     parser.add_argument('--preds')\n",
    "#     parser.add_argument('--o')\n",
    "#     parser.add_argument('--start', type=int, default=-1)\n",
    "#     parser.add_argument('--stop', type=int, default=-1)\n",
    "#     parser.add_argument('--lowercase', action='store_true')\n",
    "#     main(parser.parse_args())"
   ]
  },
  {
   "cell_type": "code",
   "execution_count": null,
   "metadata": {},
   "outputs": [],
   "source": [
    "import json\n",
    "import pickle\n",
    "\n",
    "\n",
    "def read_lines(path):\n",
    "    with open(path) as f:\n",
    "        for line in f:\n",
    "            yield line\n",
    "\n",
    "\n",
    "def read_json(path):\n",
    "    with open(path) as f:\n",
    "        object = json.loads(f.read())\n",
    "    return object\n",
    "\n",
    "\n",
    "def write_json(object, path):\n",
    "    with open(path, 'w') as f:\n",
    "        f.write(json.dumps(object))\n",
    "\n",
    "\n",
    "def read_jsonl(path, load=False, start=0, stop=None):\n",
    "\n",
    "    def read_jsonl_gen(path):\n",
    "        with open(path) as f:\n",
    "            for i, line in enumerate(f):\n",
    "                if (stop is not None) and (i >= stop):\n",
    "                    break\n",
    "                if i >= start:\n",
    "                    yield json.loads(line)\n",
    "\n",
    "    data = read_jsonl_gen(path)\n",
    "    if load:\n",
    "        data = list(data)\n",
    "    return data\n",
    "\n",
    "\n",
    "def write_jsonl(items, path, batch_size=100, override=True):\n",
    "    if override:\n",
    "        with open(path, 'w'):\n",
    "            pass\n",
    "\n",
    "    batch = []\n",
    "    for i, x in enumerate(items):\n",
    "        if i > 0 and i % batch_size == 0:\n",
    "            with open(path, 'a') as f:\n",
    "                output = '\\n'.join(batch) + '\\n'\n",
    "                f.write(output)\n",
    "            batch = []\n",
    "        raw = json.dumps(x)\n",
    "        batch.append(raw)\n",
    "\n",
    "    if batch:\n",
    "        with open(path, 'a') as f:\n",
    "            output = '\\n'.join(batch) + '\\n'\n",
    "            f.write(output)\n",
    "\n",
    "\n",
    "def load_pkl(path):\n",
    "    with open(path, 'rb') as f:\n",
    "        obj = pickle.load(f)\n",
    "    return obj\n",
    "\n",
    "\n",
    "def dump_pkl(obj, path):\n",
    "    with open(path, 'wb') as f:\n",
    "        pickle.dump(obj,  f)\n",
    "\n",
    "\n",
    "def args_to_summarize_settings(args):\n",
    "    args = vars(args)\n",
    "    settings = {}\n",
    "    for k in ['len_type', 'max_len',\n",
    "              'min_sent_tokens', 'max_sent_tokens',\n",
    "              'in_titles', 'out_titles']:\n",
    "        settings[k] = args[k]\n",
    "    return settings"
   ]
  },
  {
   "cell_type": "code",
   "execution_count": null,
   "metadata": {},
   "outputs": [],
   "source": []
  },
  {
   "cell_type": "code",
   "execution_count": null,
   "metadata": {},
   "outputs": [],
   "source": [
    "# TODO: BUG -- BEAM ITEMS SHOULD NOT BE THE SAME\n",
    "# cluster_summaries[0][0] == cluster_summaries[0][1]"
   ]
  },
  {
   "cell_type": "code",
   "execution_count": null,
   "metadata": {},
   "outputs": [],
   "source": [
    "predictions[0] == preditions[1]"
   ]
  },
  {
   "cell_type": "code",
   "execution_count": null,
   "metadata": {},
   "outputs": [],
   "source": []
  },
  {
   "cell_type": "code",
   "execution_count": null,
   "metadata": {},
   "outputs": [],
   "source": []
  },
  {
   "cell_type": "code",
   "execution_count": null,
   "metadata": {},
   "outputs": [],
   "source": []
  },
  {
   "cell_type": "code",
   "execution_count": null,
   "metadata": {},
   "outputs": [],
   "source": []
  },
  {
   "cell_type": "code",
   "execution_count": null,
   "metadata": {},
   "outputs": [],
   "source": [
    "cls.test_news_article_1 = 'New Zealand says it has stopped community transmission of Covid-19, ' \\\n",
    "                    'effectively eliminating the virus. With new cases in single figures for several days - one on Sunday ' \\\n",
    "                    '- Prime Minister Jacinda Ardern said the virus was \"currently\" eliminated. But officials have warned ' \\\n",
    "                    'against complacency, saying it does not mean a total end to new coronavirus cases. ' \\\n",
    "                    'The news comes hours before New Zealand is set to move out of its toughest level of social restrictions. ' \\\n",
    "                    'From Tuesday, some non-essential business, healthcare and education activity will be able to resume. ' \\\n",
    "                    'Most people will still be required to remain at home at all times and avoid all social interactions.'\n",
    "\n",
    "cls.test_news_article_2 = \\\n",
    "    'But officials have warned against complacency, saying it does not mean a total end to new HIV cases. ' \\\n",
    "    'Most people will still be required to remain at home at all times and avoid all social interactions.' \\\n",
    "    'Germany says it has stopped community transmission of HIV, ' \\\n",
    "    'effectively eliminating the virus. With new cases in single figures for several days - one on Sunday ' \\\n",
    "    '- Prime Minister Angela Merkle said the virus was \"currently\" eliminated. ' \\\n",
    "    'From Tuesday, some non-essential business, healthcare and education activity will be able to resume. ' \\\n",
    "    'The news comes hours before Germany is set to move out of its toughest level of social restrictions. '\n"
   ]
  }
 ],
 "metadata": {
  "kernelspec": {
   "display_name": "Python 3",
   "language": "python",
   "name": "python3"
  },
  "language_info": {
   "codemirror_mode": {
    "name": "ipython",
    "version": 3
   },
   "file_extension": ".py",
   "mimetype": "text/x-python",
   "name": "python",
   "nbconvert_exporter": "python",
   "pygments_lexer": "ipython3",
   "version": "3.6.10"
  }
 },
 "nbformat": 4,
 "nbformat_minor": 4
}
