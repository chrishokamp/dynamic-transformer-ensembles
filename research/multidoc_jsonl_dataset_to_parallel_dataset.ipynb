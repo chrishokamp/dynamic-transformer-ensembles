{
 "cells": [
  {
   "cell_type": "code",
   "execution_count": null,
   "metadata": {},
   "outputs": [],
   "source": [
    "# flatten a multidoc summarization dataset in .jsonl format to a parallel dataset that uses\n",
    "# the *.sources *.targets format from cnn-dm\n",
    "\n",
    "# TODO: support shuffling since the cluster items will be sequential by default\n",
    "\n",
    "# TODO: support formatting with special tokens to indicate document structure (i.e. <SEP> token between Title and Body)\n",
    "\n",
    "\n"
   ]
  },
  {
   "cell_type": "code",
   "execution_count": 1,
   "metadata": {},
   "outputs": [],
   "source": [
    "from pathlib import Path\n",
    "import json\n",
    "import tqdm\n",
    "\n",
    "import numpy as np\n",
    "\n",
    "from transformer_decoding.evaluate import article_to_text"
   ]
  },
  {
   "cell_type": "code",
   "execution_count": null,
   "metadata": {},
   "outputs": [
    {
     "name": "stderr",
     "output_type": "stream",
     "text": [
      "23it [00:00, 182.64it/s]"
     ]
    },
    {
     "name": "stdout",
     "output_type": "stream",
     "text": [
      "loading clusters\n"
     ]
    },
    {
     "name": "stderr",
     "output_type": "stream",
     "text": [
      "5474it [01:04, 33.78it/s] "
     ]
    }
   ],
   "source": [
    "DATADIR = Path('/home/chris/projects/aylien/dynamic-ensembles/data/WCEP')\n",
    "\n",
    "prefixes = ['train', 'val']\n",
    "# prefixes = ['val']\n",
    "\n",
    "\n",
    "shuffle = True\n",
    "\n",
    "\n",
    "for dataset_prefix in prefixes:\n",
    "    sources_and_targets = []\n",
    "    cluster_cnt = 0\n",
    "    print('loading clusters')\n",
    "    for cluster in tqdm.tqdm((json.loads(l) for l in open(DATADIR / (dataset_prefix + '.jsonl')))):\n",
    "        for article in cluster['articles']:\n",
    "            sources_and_targets.append((article_to_text(article), cluster['summary']))\n",
    "        cluster_cnt += 1\n",
    "    \n",
    "    output_idxs = np.arange(len(sources_and_targets))\n",
    "    if shuffle:\n",
    "        np.random.shuffle(output_idxs)\n",
    "    \n",
    "    with open(DATADIR / (dataset_prefix + '.sources'), 'w') as srcs, open(DATADIR / (dataset_prefix + '.targets'), 'w') as tgts:\n",
    "        for idx in tqdm.tqdm(output_idxs):\n",
    "            src = sources_and_targets[idx][0]\n",
    "            tgt = sources_and_targets[idx][1]\n",
    "            srcs.write(f'{src}\\n')\n",
    "            tgts.write(f'{tgt}\\n')\n",
    "    print(f'wrote {len(sources_and_targets)} segments from {cluster_cnt} clusters to {srcs.name} and {tgts.name}')\n",
    "            \n",
    "        \n",
    "    "
   ]
  },
  {
   "cell_type": "code",
   "execution_count": null,
   "metadata": {},
   "outputs": [],
   "source": []
  }
 ],
 "metadata": {
  "kernelspec": {
   "display_name": "Python 3",
   "language": "python",
   "name": "python3"
  },
  "language_info": {
   "codemirror_mode": {
    "name": "ipython",
    "version": 3
   },
   "file_extension": ".py",
   "mimetype": "text/x-python",
   "name": "python",
   "nbconvert_exporter": "python",
   "pygments_lexer": "ipython3",
   "version": "3.6.10"
  }
 },
 "nbformat": 4,
 "nbformat_minor": 4
}
