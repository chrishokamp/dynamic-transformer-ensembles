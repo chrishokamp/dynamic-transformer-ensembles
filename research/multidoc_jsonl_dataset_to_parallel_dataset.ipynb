{
 "cells": [
  {
   "cell_type": "code",
   "execution_count": 1,
   "metadata": {},
   "outputs": [],
   "source": [
    "# flatten a multidoc summarization dataset in .jsonl format to a parallel dataset that uses\n",
    "# the *.sources *.targets format from cnn-dm\n",
    "\n",
    "# TODO: support shuffling since the cluster items will be sequential by default\n",
    "\n",
    "# TODO: support formatting with special tokens to indicate document structure (i.e. <SEP> token between Title and Body)\n"
   ]
  },
  {
   "cell_type": "code",
   "execution_count": 4,
   "metadata": {},
   "outputs": [],
   "source": [
    "from pathlib import Path\n",
    "import json\n",
    "import tqdm\n",
    "\n",
    "import numpy as np\n",
    "\n",
    "from transformer_decoding.evaluate import article_to_text"
   ]
  },
  {
   "cell_type": "code",
   "execution_count": 5,
   "metadata": {},
   "outputs": [
    {
     "name": "stderr",
     "output_type": "stream",
     "text": [
      "111it [00:00, 1109.16it/s]"
     ]
    },
    {
     "name": "stdout",
     "output_type": "stream",
     "text": [
      "loading clusters\n"
     ]
    },
    {
     "name": "stderr",
     "output_type": "stream",
     "text": [
      "8158it [00:08, 928.53it/s] \n",
      "100%|██████████| 8158/8158 [00:00<00:00, 143197.27it/s]\n",
      "84it [00:00, 838.08it/s]"
     ]
    },
    {
     "name": "stdout",
     "output_type": "stream",
     "text": [
      "wrote 8158 segments from 8158 clusters to /home/chris/projects/aylien/dynamic-ensembles/data/WCEP/train.source and /home/chris/projects/aylien/dynamic-ensembles/data/WCEP/train.target\n",
      "loading clusters\n"
     ]
    },
    {
     "name": "stderr",
     "output_type": "stream",
     "text": [
      "1020it [00:01, 737.69it/s]\n",
      "100%|██████████| 1020/1020 [00:00<00:00, 145893.81it/s]"
     ]
    },
    {
     "name": "stdout",
     "output_type": "stream",
     "text": [
      "wrote 1020 segments from 1020 clusters to /home/chris/projects/aylien/dynamic-ensembles/data/WCEP/val.source and /home/chris/projects/aylien/dynamic-ensembles/data/WCEP/val.target\n"
     ]
    },
    {
     "name": "stderr",
     "output_type": "stream",
     "text": [
      "\n"
     ]
    }
   ],
   "source": [
    "DATADIR = Path('/home/chris/projects/aylien/dynamic-ensembles/data/WCEP')\n",
    "\n",
    "prefixes = ['train', 'val']\n",
    "# prefixes = ['val']\n",
    "\n",
    "\n",
    "shuffle = True\n",
    "actual_source_only = True\n",
    "\n",
    "\n",
    "for dataset_prefix in prefixes:\n",
    "    sources_and_targets = []\n",
    "    cluster_cnt = 0\n",
    "    print('loading clusters')\n",
    "    for cluster in tqdm.tqdm((json.loads(l) for l in open(DATADIR / (dataset_prefix + '.jsonl')))):\n",
    "\n",
    "\n",
    "        for article in cluster['articles']:\n",
    "            if actual_source_only:\n",
    "                # only append one actual source per cluster\n",
    "                if article['origin'] == 'WCEP':\n",
    "                    sources_and_targets.append((article_to_text(article), cluster['summary']))\n",
    "                    break\n",
    "            else:\n",
    "                # use all sources per cluster\n",
    "                sources_and_targets.append((article_to_text(article), cluster['summary']))\n",
    "        cluster_cnt += 1\n",
    "    \n",
    "    output_idxs = np.arange(len(sources_and_targets))\n",
    "    if shuffle:\n",
    "        np.random.shuffle(output_idxs)\n",
    "    \n",
    "    with open(DATADIR / (dataset_prefix + '.source'), 'w') as srcs, open(DATADIR / (dataset_prefix + '.target'), 'w') as tgts:\n",
    "        for idx in tqdm.tqdm(output_idxs):\n",
    "            src = sources_and_targets[idx][0]\n",
    "            tgt = sources_and_targets[idx][1]\n",
    "            srcs.write(f'{src}\\n')\n",
    "            tgts.write(f'{tgt}\\n')\n",
    "    print(f'wrote {len(sources_and_targets)} segments from {cluster_cnt} clusters to {srcs.name} and {tgts.name}')\n",
    "            \n",
    "        \n",
    "    "
   ]
  },
  {
   "cell_type": "code",
   "execution_count": null,
   "metadata": {},
   "outputs": [],
   "source": []
  }
 ],
 "metadata": {
  "kernelspec": {
   "display_name": "Python 3",
   "language": "python",
   "name": "python3"
  },
  "language_info": {
   "codemirror_mode": {
    "name": "ipython",
    "version": 3
   },
   "file_extension": ".py",
   "mimetype": "text/x-python",
   "name": "python",
   "nbconvert_exporter": "python",
   "pygments_lexer": "ipython3",
   "version": "3.6.10"
  }
 },
 "nbformat": 4,
 "nbformat_minor": 4
}
