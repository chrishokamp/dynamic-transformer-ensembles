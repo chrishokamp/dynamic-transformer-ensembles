{
 "cells": [
  {
   "cell_type": "code",
   "execution_count": null,
   "metadata": {},
   "outputs": [],
   "source": [
    "# filter out duplicates in MultiNews test set"
   ]
  },
  {
   "cell_type": "code",
   "execution_count": 5,
   "metadata": {},
   "outputs": [],
   "source": [
    "import json\n",
    "import copy\n",
    "from collections import defaultdict"
   ]
  },
  {
   "cell_type": "code",
   "execution_count": 6,
   "metadata": {},
   "outputs": [],
   "source": [
    "test_lines = [json.loads(l) for l in open('../data/multi-news/test.jsonl')] \n",
    "\n",
    "a_to_c = defaultdict(list)\n",
    "\n",
    "for c_idx, c in enumerate(test_lines): \n",
    "    for a in c['articles']: \n",
    "        a_to_c[a['text']].append(c_idx) \n",
    "\n",
    "\n",
    "duplicate_articles = set()\n",
    "\n",
    "for item in a_to_c.items(): \n",
    "    if len(a_to_c[item[0]]) > 1:\n",
    "#         print(item) \n",
    "        duplicate_articles.update([item[0]])\n",
    "        \n",
    "filtered_test_lines = []\n",
    "for c_idx, c in enumerate(test_lines): \n",
    "    filtered_articles = []\n",
    "    for a in c['articles']:\n",
    "        if a['text'] not in duplicate_articles:\n",
    "            filtered_articles.append(a)\n",
    "    \n",
    "    filtered_c = copy.deepcopy(c)\n",
    "    filtered_c['articles'] = filtered_articles\n",
    "    \n",
    "    filtered_test_lines.append(filtered_c)"
   ]
  },
  {
   "cell_type": "code",
   "execution_count": 7,
   "metadata": {},
   "outputs": [],
   "source": [
    "assert len(test_lines) == len(filtered_test_lines)"
   ]
  },
  {
   "cell_type": "code",
   "execution_count": 11,
   "metadata": {},
   "outputs": [
    {
     "data": {
      "text/plain": [
       "[(733,\n",
       "  {'articles': [],\n",
       "   'summary': '– By now, everyone should know not to get too close to hippos in the wild or in captivity, but a California man didn\\'t get the memo. Officials at the Los Angeles Zoo tell the Los Angeles Times they\\'ve recruited the LAPD to help look for a most unusual sort of trespasser: a man caught on tape scaling a barrier and slapping one of two hippos in the pen below. The now-viral video, recorded from the other side of the enclosure by what sounds to be a young woman, shows the man slowly climbing over a railing, then reaching down to slap the butt of 4-year-old Rosie, who appeared to be snacking alongside her mother, Mara. Mara looks up briefly, and the person shooting the video can be heard giggling as the man lifts his arms up in an apparent victory stretch and runs off. But zoo officials warn that what happened was anything but funny. \"Any unauthorized interaction with an animal is unsafe for the animal and potentially unsafe for the patron,\" a zoo spokeswoman says, noting something like this also breaks down the animals\\' trust that zookeepers have worked so hard to instill. The BBC notes hippos are responsible for more human deaths in Africa than any other big animal. The suspect could be hit with a misdemeanor charge or other infraction—California law bars anyone from climbing into zoo enclosures—but the case is being investigated as a trespassing violation, not an animal cruelty one, as the animals didn\\'t seem particularly fazed by the incident.\\n'}),\n",
       " (1245,\n",
       "  {'articles': [],\n",
       "   'summary': '– An Italian WWII pilot who died battling US pilots 70 years ago has been found 13 feet underground, his remains still at the controls of a fighter plane armed with machine guns and cannons, Discovery reports. Lt. Guerrino Bortolani went down in a losing battle against Allied planes on March 11, 1944, and hit the ground so hard that he literally vanished into the countryside outside Padua in northern Italy. \"The crash site is now a cornfield,\" says a member of the wreck-hunting crew that found Bortolani. \"We were able to find the remains with the help of an elderly man, who on that day witnessed the fighter going into a nosedive and hit the ground.\" Bortolani was flying the best Italian fighter plane (the Macchi C.205) in a squadron led by the renowned Italian ace Adriano Visconti. But they went up against a daunting strike by the Mediterranean Allied Strategic Air Force—which had sent 111 B-17 planes over Padua to drop more than 300 tons of bombs. Allies said the Axis defense was \"aggressive,\" but five German planes and four Italian planes went down. Bortolani was \"dutiful until the end,\" the Week notes, sitting on his closed parachute and wearing a ring given him by a fighter pilot academy. Wreck-hunters found several parts of the plane as well, including the tail wheel, control stick, and pieces of the engine. Bortolani is expected to have a proper burial once relatives are found. (Read about a German U-boat found off North Carolina.)\\n'}),\n",
       " (1972,\n",
       "  {'articles': [],\n",
       "   'summary': '– A Florida police union is calling for a national boycott of Arby\\'s after one of the restaurant\\'s employees allegedly refused to serve an officer this week, CBS Miami reports. According to Local 10 News, 19-year-old Kenneth Davenport failed to serve Sgt. Jennifer Martin, who was in uniform and driving a patrol car according to USA Today, after she ordered in the drive-thru. Davenport\\'s manager allegedly told Martin that Davenport didn\\'t want to serve her because she was an officer and laughed while telling her Davenport had the right to not serve her, but then gave her the food himself. She was ultimately given a refund, though, after deciding she didn\\'t want to eat the food. “I am offended and appalled that an individual within our community would treat a police officer in such a manner,\" the Pembroke Pines chief of police tells CBS. \"It is unacceptable.\" In response to the alleged slight, officers\\' wives protested outside the restaurant today, and the Dade County Police Benevolent Association called for a boycott of Arby\\'s until the employee or employees responsible are fired, Local 10 reports. \"This is yet another example of the hostile treatment of our brave men and women simply because they wear a badge,\" according to a statement from the union president, who tells Local 10 he blames Obama for the lack of respect shown officers. Arby\\'s executives have apologized to the chief of police.\\n'}),\n",
       " (4148,\n",
       "  {'articles': [],\n",
       "   'summary': '– What was Michael Phelps doing before he was arrested on DUI charges early yesterday? According to TMZ and its \"casino sources,\" he was on an eight-hour \"gambling binge.\" The sources say Phelps was playing blackjack and drinking beer in a private VIP room at Baltimore\\'s Horseshoe Casino starting around 5pm Monday; he left around 1am was pulled over around 1:40am a few miles from the casino. He\\'s said to be a regular there, usually playing poker; it\\'s not clear whether he played other card games Monday. Phelps apologized on Twitter yesterday: \"I understand the severity of my actions and take full responsibility,\" he wrote. \"I know these words may not mean much right now but I am deeply sorry to everyone I have let down.\"\\n'}),\n",
       " (4442,\n",
       "  {'articles': [],\n",
       "   'summary': '– A month after stunning Hollywood and sparking questions about her mental stability with the news of her retirement, Amanda Bynes wants a do-over. \"I\\'ve unretired,\" the 24-year-old on-again-off-again actress tweeted. She\\'s a co-star of the buzzed-about high school comedy Easy A, notes People—and within minutes of \"unretiring,\" Bynes was tweeting about the trailer.\\n'}),\n",
       " (4882,\n",
       "  {'articles': [],\n",
       "   'summary': '– A \"mini-mammoth\" the size of a baby elephant has been identified on the island of Crete. Mammuthus creticus is the tiniest mammoth ever found, and is another example of \"dwarfism\" on islands, where scare resources can keep animals small, notes the Telegraph. Fossilized teeth of the three-foot-tall mammoth were first discovered in 1904, but were initially believed to be elephant teeth. Scientists only recently re-examined them and determined they were evidence of a miniature mammoth. They also returned to the spot in Crete and discovered a mini leg bone. \"Dwarfism is a well-known evolutionary response of large mammals to island environments,\" said lead researcher Victoria Herrige from London\\'s Natural History Museum. \"Our findings show that on Crete, island dwarfism occurred to an extreme degree, producing the smallest mammoth known so far.\" Researchers believe the animals may have evolved from regular-sized mammoths as long as 3.5 million years ago.\\n'}),\n",
       " (5091,\n",
       "  {'articles': [],\n",
       "   'summary': '– If President Obama absolutely killed Al Green\\'s \"Let\\'s Stay Together,\" Mitt Romney has apparently responded by just plain murdering a patriotic standard. The Republican candidate was caught on camera last night at a Florida campaign rally warbling \"America the Beautiful,\" which the Washington Post notes he has often called his favorite patriotic hymn. The unguarded moment on the eve of the primary is a departure for Romney, but the clip prompts Pier Morgan over at CNN to joke, \"I think this could be an actual issue.\"\\n'}),\n",
       " (5119,\n",
       "  {'articles': [],\n",
       "   'summary': '– The Telegraph reported yesterday on a crazy court case in the UK: After a pregnant Italian woman, in town for business, had a panic attack, social service workers in Essex got a court order allowing the woman to be forcibly sedated and undergo a C-section so they could take her baby. Fifteen months later, the little girl is still with social service workers, who won\\'t return her to her mother. The case is now \"an international legal row,\" the Telegraph says, and the anonymous woman\\'s lawyers call it \"unprecedented.\" The woman was in Britain in July 2012 for an airline training course, and called police when she suffered the panic attack. They arrived while she was on the phone with her mother, who told police the woman suffered from bipolar disorder and was off her medication, according to a Telegraph columnist. Police took her to a psychiatric facility, and restrained her under the Mental Health Act when she said she wanted to go back to her hotel. She underwent the C-section after having been there five weeks. The case is ongoing; the mother says she has made a full recovery, but a judge nonetheless ruled that her daughter should be put up for adoption. More on the case here and here.\\n'}),\n",
       " (5478,\n",
       "  {'articles': [],\n",
       "   'summary': \"– They've been living separately for a while, and now Mariah Carey and Nick Cannon are making the split official, reports People. Cannon filed divorce papers last month, and TMZ reports that the couple has worked out a deal to split their property. (They've also got 3-year-old twins.) The website takes note of an unusual feature of their prenup: If Cannon violates a confidentiality clause and talks about their marriage, he has to pay up $250,000; if Carey talks, she has to pay $500,000. The reason is simple: She's got a lot more money than he does, and an upcoming artist-in-residence gig in Vegas will only widen the gap.\\n\"})]"
      ]
     },
     "execution_count": 11,
     "metadata": {},
     "output_type": "execute_result"
    }
   ],
   "source": [
    "[(idx, c) for idx, c in enumerate(filtered_test_lines) if len(c['articles']) == 0]"
   ]
  },
  {
   "cell_type": "code",
   "execution_count": 19,
   "metadata": {},
   "outputs": [
    {
     "name": "stdout",
     "output_type": "stream",
     "text": [
      "wrote 5613 to ../data/multi-news/filtered_test.jsonl, dropped 9 because they contained no actual articles\n",
      "the articles in 780 clusters changed after the filtering process\n"
     ]
    }
   ],
   "source": [
    "# write out filtered dataset, dropping broken lines\n",
    "\n",
    "with open('../data/multi-news/filtered_test.jsonl', 'w') as out:\n",
    "    dropped_lines = 0\n",
    "    output_lines = 0\n",
    "    changed_clusters = 0\n",
    "    for c_idx, c in enumerate(filtered_test_lines):\n",
    "        if len(c['articles']) > 0:\n",
    "            out.write(f'{json.dumps(c)}\\n')\n",
    "            output_lines += 1\n",
    "            if len(test_lines[c_idx]['articles']) != len(c['articles']):\n",
    "                changed_clusters += 1\n",
    "        else:\n",
    "            dropped_lines += 1\n",
    "    print(f'wrote {output_lines} to {out.name}, dropped {dropped_lines} because they contained no actual articles')\n",
    "    print(f'the articles in {changed_clusters} clusters changed after the filtering process')\n"
   ]
  },
  {
   "cell_type": "code",
   "execution_count": null,
   "metadata": {},
   "outputs": [],
   "source": []
  }
 ],
 "metadata": {
  "kernelspec": {
   "display_name": "Python 3",
   "language": "python",
   "name": "python3"
  },
  "language_info": {
   "codemirror_mode": {
    "name": "ipython",
    "version": 3
   },
   "file_extension": ".py",
   "mimetype": "text/x-python",
   "name": "python",
   "nbconvert_exporter": "python",
   "pygments_lexer": "ipython3",
   "version": "3.6.10"
  }
 },
 "nbformat": 4,
 "nbformat_minor": 4
}
