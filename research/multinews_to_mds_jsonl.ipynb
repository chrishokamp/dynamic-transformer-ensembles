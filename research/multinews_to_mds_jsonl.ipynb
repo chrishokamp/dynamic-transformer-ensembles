{
 "cells": [
  {
   "cell_type": "code",
   "execution_count": 1,
   "metadata": {},
   "outputs": [],
   "source": [
    "# convert the multinews dataset to aylien's MDS jsonl format"
   ]
  },
  {
   "cell_type": "code",
   "execution_count": 3,
   "metadata": {},
   "outputs": [],
   "source": [
    "from pathlib import Path\n",
    "import json\n"
   ]
  },
  {
   "cell_type": "code",
   "execution_count": 4,
   "metadata": {},
   "outputs": [],
   "source": [
    "DATADIR = Path('/home/chris/projects/aylien/dynamic-ensembles/data/multi-news/')"
   ]
  },
  {
   "cell_type": "code",
   "execution_count": 6,
   "metadata": {},
   "outputs": [],
   "source": [
    "\n",
    "\n",
    "source_targets = {\n",
    "    'test': (DATADIR / 'test.src.cleaned', DATADIR / 'test.tgt')\n",
    "}\n",
    "\n"
   ]
  },
  {
   "cell_type": "code",
   "execution_count": 10,
   "metadata": {},
   "outputs": [],
   "source": [
    "from collections import Counter\n",
    "\n",
    "import numpy as np"
   ]
  },
  {
   "cell_type": "code",
   "execution_count": 19,
   "metadata": {},
   "outputs": [
    {
     "name": "stdout",
     "output_type": "stream",
     "text": [
      "[(2, 3022), (3, 1540), (4, 609), (5, 219), (6, 96), (1, 72), (7, 40), (8, 15), (9, 8), (10, 1)]\n",
      "(216.9884382781928, 4514.869485679133, 67.19277852328428)\n"
     ]
    }
   ],
   "source": [
    "multinews_article_delimiter = ' ||||| '\n",
    "cluster_rows = []\n",
    "\n",
    "article_cnts = Counter()\n",
    "summary_lens = []\n",
    "\n",
    "for prefix, (srcs_f, tgt_f) in source_targets.items():\n",
    "    with open(srcs_f) as c_srcs, open(tgt_f) as c_tgt, open(DATADIR / (prefix + '.jsonl'), 'w') as out:\n",
    "        for srcs, tgt in zip(c_srcs, c_tgt):\n",
    "            articles = [{'title': '', 'text': t} for t in srcs.split(multinews_article_delimiter)]\n",
    "            out.write(f'{json.dumps({\"articles\": articles, \"summary\": tgt})}\\n')\n",
    "            article_cnts.update([len(articles)])\n",
    "            summary_lens.append(len(tgt.split()))\n",
    "\n",
    "print(article_cnts.most_common())\n",
    "print((np.mean(summary_lens), np.var(summary_lens), np.std(summary_lens)))"
   ]
  },
  {
   "cell_type": "code",
   "execution_count": null,
   "metadata": {},
   "outputs": [],
   "source": []
  }
 ],
 "metadata": {
  "kernelspec": {
   "display_name": "Python 3",
   "language": "python",
   "name": "python3"
  },
  "language_info": {
   "codemirror_mode": {
    "name": "ipython",
    "version": 3
   },
   "file_extension": ".py",
   "mimetype": "text/x-python",
   "name": "python",
   "nbconvert_exporter": "python",
   "pygments_lexer": "ipython3",
   "version": "3.6.10"
  }
 },
 "nbformat": 4,
 "nbformat_minor": 4
}
