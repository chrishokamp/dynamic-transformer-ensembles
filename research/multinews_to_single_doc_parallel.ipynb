{
 "cells": [
  {
   "cell_type": "code",
   "execution_count": 5,
   "metadata": {},
   "outputs": [],
   "source": [
    "# multinews has documents in each cluster separated by ' ||||| ', we just take the first one \n",
    "\n",
    "from pathlib import Path\n",
    "import json\n",
    "from collections import Counter\n",
    "\n",
    "import numpy as np"
   ]
  },
  {
   "cell_type": "code",
   "execution_count": 6,
   "metadata": {},
   "outputs": [],
   "source": [
    "DATADIR = Path('/home/chris/projects/aylien/dynamic-ensembles/data/multi-news/')"
   ]
  },
  {
   "cell_type": "code",
   "execution_count": 7,
   "metadata": {},
   "outputs": [],
   "source": [
    "source_targets = {\n",
    "    'train': (DATADIR / 'train.src.cleaned', DATADIR / 'train.tgt'),\n",
    "    'val': (DATADIR / 'val.src.cleaned', DATADIR / 'val.tgt')\n",
    "}"
   ]
  },
  {
   "cell_type": "code",
   "execution_count": 11,
   "metadata": {},
   "outputs": [
    {
     "name": "stdout",
     "output_type": "stream",
     "text": [
      "train\n",
      "[(2, 23741), (3, 12577), (4, 4921), (5, 1846), (6, 706), (1, 506), (7, 371), (8, 194), (9, 81), (10, 29)]\n",
      "Input stats:\n",
      "(685.2630908519233, 3145179.089993763, 1773.4652773577957)\n",
      "Summary stats:\n",
      "(218.25813839722494, 4630.282181609593, 68.04617683315935)\n",
      "val\n",
      "[(2, 3066), (3, 1555), (4, 610), (5, 195), (6, 79), (1, 59), (7, 38), (8, 13), (9, 7)]\n",
      "Input stats:\n",
      "(684.0616682039795, 1994918.9491552613, 1412.415997203112)\n",
      "Summary stats:\n",
      "(216.71380291711134, 4577.909731215516, 67.6602522254796)\n"
     ]
    }
   ],
   "source": [
    "# extract first doc from each source cluster and use cnn-dm filename convention\n",
    "\n",
    "multinews_article_delimiter = ' ||||| '\n",
    "\n",
    "\n",
    "\n",
    "for prefix, (srcs_f, tgt_f) in source_targets.items():\n",
    "    article_cnts = Counter()\n",
    "    source_lens = []\n",
    "    summary_lens = []\n",
    "    with open(srcs_f) as c_srcs, open(tgt_f) as c_tgts, open(DATADIR / (prefix + '.source'), 'w') as out:\n",
    "        for srcs, tgt in zip(c_srcs, c_tgts):\n",
    "            articles = srcs.split(multinews_article_delimiter)\n",
    "            out.write(f'{articles[0].strip()}\\n')\n",
    "            article_cnts.update([len(articles)])\n",
    "            summary_lens.append(len(tgt.split()))\n",
    "            source_lens.extend([len(s.split()) for s in articles])\n",
    "    print(prefix)\n",
    "    print(article_cnts.most_common())\n",
    "    print('Input stats:')\n",
    "    print((np.mean(source_lens), np.var(source_lens), np.std(source_lens)))\n",
    "    print('Summary stats:')\n",
    "    print((np.mean(summary_lens), np.var(summary_lens), np.std(summary_lens)))\n"
   ]
  },
  {
   "cell_type": "code",
   "execution_count": 12,
   "metadata": {},
   "outputs": [
    {
     "data": {
      "text/plain": [
       "768"
      ]
     },
     "execution_count": 12,
     "metadata": {},
     "output_type": "execute_result"
    }
   ],
   "source": [
    "256 *3"
   ]
  },
  {
   "cell_type": "code",
   "execution_count": null,
   "metadata": {},
   "outputs": [],
   "source": []
  }
 ],
 "metadata": {
  "kernelspec": {
   "display_name": "Python 3",
   "language": "python",
   "name": "python3"
  },
  "language_info": {
   "codemirror_mode": {
    "name": "ipython",
    "version": 3
   },
   "file_extension": ".py",
   "mimetype": "text/x-python",
   "name": "python",
   "nbconvert_exporter": "python",
   "pygments_lexer": "ipython3",
   "version": "3.6.10"
  }
 },
 "nbformat": 4,
 "nbformat_minor": 4
}
