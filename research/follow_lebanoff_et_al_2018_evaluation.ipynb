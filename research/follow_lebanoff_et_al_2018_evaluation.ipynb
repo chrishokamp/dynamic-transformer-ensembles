{
 "cells": [
  {
   "cell_type": "code",
   "execution_count": 1,
   "metadata": {},
   "outputs": [],
   "source": [
    "# trying to recreate the lebanoff et al 2018 evaluation setup\n",
    "# working from here: \n",
    "# https://github.com/ucfnlp/multidoc_summarization/blob/ae30c9ee039d4ad5ff64fd2245faafc5a62c4dd7/decode.py\n",
    "\n",
    "# install pyrouge\n",
    "# https://stackoverflow.com/questions/45894212/installing-pyrouge-gets-error-in-ubuntu"
   ]
  },
  {
   "cell_type": "code",
   "execution_count": 2,
   "metadata": {},
   "outputs": [
    {
     "name": "stderr",
     "output_type": "stream",
     "text": [
      "WARNING:root:This caffe2 python run does not have GPU support. Will run in CPU only mode.\n"
     ]
    }
   ],
   "source": [
    "from pathlib import Path\n",
    "import json\n",
    "import os\n",
    "import logging\n",
    "\n",
    "from transformer_decoding.evaluate import lebanoff_2018_rouge"
   ]
  },
  {
   "cell_type": "code",
   "execution_count": 8,
   "metadata": {},
   "outputs": [],
   "source": [
    "TEMP_EVAL_DIR = Path('rouge_evaluation_tempdir')\n",
    "os.makedirs(TEMP_EVAL_DIR, exist_ok=True)\n",
    "\n",
    "# GLOBALS\n",
    "rouge_dec_dir = TEMP_EVAL_DIR / 'rouge_dec_dir'  \n",
    "rouge_ref_dir = TEMP_EVAL_DIR / 'rouge_ref_dir'\n",
    "\n",
    "rouge_dec_dir.mkdir(parents=True, exist_ok=True)\n",
    "rouge_ref_dir.mkdir(parents=True, exist_ok=True)\n",
    "# END GLOBALS\n",
    "\n",
    "evaluation_dataset = '/home/chris/projects/aylien/dynamic-ensembles/data/DUC2004/DUC2004_test.jsonl'\n",
    "\n",
    "# system_hypotheses = '/home/chris/projects/aylien/dynamic-ensembles/data/DUC2004/system_hypotheses/2020-05-14/eval_predicted_summaries.out.1_doc_in_cluster'\n",
    "# system_hypotheses = '/home/chris/projects/aylien/dynamic-ensembles/data/DUC2004/system_hypotheses/2020-05-14/eval_predicted_summaries.out.5_docs_in_cluster'\n",
    "system_hypotheses = '/home/chris/projects/aylien/dynamic-ensembles/data/DUC2004/system_hypotheses/2020-05-14/eval_predicted_summaries.out.8_docs_in_cluster'\n",
    "\n",
    "# TODO: rm tempdir after eval\n",
    "\n",
    "dataset_rows = [json.loads(l) for l in open(evaluation_dataset)]\n",
    "orig_system_hyps = [h.strip() for h in open(system_hypotheses)]"
   ]
  },
  {
   "cell_type": "code",
   "execution_count": 9,
   "metadata": {},
   "outputs": [
    {
     "name": "stdout",
     "output_type": "stream",
     "text": [
      "\n",
      "ROUGE-1:\n",
      "rouge_1_f_score: 0.3321 with confidence interval (0.3200, 0.3442)\n",
      "rouge_1_recall: 0.2676 with confidence interval (0.2571, 0.2784)\n",
      "rouge_1_precision: 0.4409 with confidence interval (0.4241, 0.4584)\n",
      "\n",
      "ROUGE-2:\n",
      "rouge_2_f_score: 0.0806 with confidence interval (0.0721, 0.0904)\n",
      "rouge_2_recall: 0.0649 with confidence interval (0.0577, 0.0727)\n",
      "rouge_2_precision: 0.1074 with confidence interval (0.0961, 0.1201)\n",
      "\n",
      "ROUGE-l:\n",
      "rouge_l_f_score: 0.2998 with confidence interval (0.2886, 0.3115)\n",
      "rouge_l_recall: 0.2415 with confidence interval (0.2317, 0.2514)\n",
      "rouge_l_precision: 0.3981 with confidence interval (0.3815, 0.4143)\n",
      "\n",
      "ROUGE-s4:\n",
      "rouge_s4_f_score: 0.0698 with confidence interval (0.0639, 0.0763)\n",
      "rouge_s4_recall: 0.0558 with confidence interval (0.0511, 0.0609)\n",
      "rouge_s4_precision: 0.0939 with confidence interval (0.0859, 0.1027)\n",
      "\n",
      "ROUGE-su4:\n",
      "rouge_su4_f_score: 0.1147 with confidence interval (0.1080, 0.1221)\n",
      "rouge_su4_recall: 0.0918 with confidence interval (0.0862, 0.0977)\n",
      "rouge_su4_precision: 0.1542 with confidence interval (0.1445, 0.1639)\n",
      "\n"
     ]
    }
   ],
   "source": [
    "lebanoff_2018_rouge(system_hypotheses, evaluation_dataset)"
   ]
  },
  {
   "cell_type": "code",
   "execution_count": null,
   "metadata": {},
   "outputs": [],
   "source": [
    "print(f'rows in dataset: {len(dataset_rows)}, rows in system hyps: {len(system_hyp_tokens)}')"
   ]
  },
  {
   "cell_type": "code",
   "execution_count": null,
   "metadata": {},
   "outputs": [],
   "source": [
    "# our implementation\n",
    "print_mean(*evaluate_rouge(all_hyps, all_summaries))"
   ]
  },
  {
   "cell_type": "code",
   "execution_count": null,
   "metadata": {},
   "outputs": [],
   "source": []
  }
 ],
 "metadata": {
  "kernelspec": {
   "display_name": "Python 3",
   "language": "python",
   "name": "python3"
  },
  "language_info": {
   "codemirror_mode": {
    "name": "ipython",
    "version": 3
   },
   "file_extension": ".py",
   "mimetype": "text/x-python",
   "name": "python",
   "nbconvert_exporter": "python",
   "pygments_lexer": "ipython3",
   "version": "3.6.10"
  }
 },
 "nbformat": 4,
 "nbformat_minor": 4
}
