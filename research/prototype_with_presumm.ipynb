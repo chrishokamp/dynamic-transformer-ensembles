{
 "cells": [
  {
   "cell_type": "code",
   "execution_count": null,
   "metadata": {},
   "outputs": [],
   "source": [
    "# using a pre-trained summarization model, create one instance for every input, then decode from the ensemble"
   ]
  },
  {
   "cell_type": "code",
   "execution_count": 1,
   "metadata": {},
   "outputs": [],
   "source": [
    "# https://github.com/nlpyang/PreSumm"
   ]
  },
  {
   "cell_type": "markdown",
   "metadata": {},
   "source": [
    "#### Updates: For encoding a text longer than 512 tokens, for example 800. Set max_pos to 800 during both preprocessing and training.\n",
    "\n",
    "-mode can be {validate, test}, where validate will inspect the model directory and evaluate the model for each newly saved checkpoint, test need to be used with -test_from, indicating the checkpoint you want to use\n",
    "MODEL_PATH is the directory of saved checkpoints\n",
    "use -mode valiadte with -test_all, the system will load all saved checkpoints and select the top ones to generate summaries (this will take a while)"
   ]
  },
  {
   "cell_type": "code",
   "execution_count": null,
   "metadata": {},
   "outputs": [],
   "source": [
    "# the baseline setup results in memory error, try building on MT-GPU, or containerize for ease of use "
   ]
  },
  {
   "cell_type": "code",
   "execution_count": null,
   "metadata": {},
   "outputs": [],
   "source": [
    "%bash\n",
    "\n",
    "# probably pytorch version in their requirements.txt\n",
    "# RuntimeError: cuda runtime error (38) : no CUDA-capable device is detected at /pytorch/aten/src/THC/THCGeneral.cpp:51\n",
    "\n",
    "\n",
    "cd ~/projects/PreSumm/src\n",
    "\n",
    "source activate presumm\n",
    "\n",
    "BATCH_SIZE=1\n",
    "# note last part of BERT_DATA_PATH is model prefix\n",
    "BERT_DATA_PATH=/data/PreSumm_data/bert_data/bert_data_cnndm_final/cnndm\n",
    "MODEL_PATH=/data/PreSumm_data/models\n",
    "\n",
    "python train.py \\\n",
    "  -task abs \\\n",
    "  -mode validate \\\n",
    "  -batch_size ${BATCH_SIZE} \\\n",
    "  -test_batch_size ${BATCH_SIZE} \\\n",
    "  -bert_data_path ${BERT_DATA_PATH} \\\n",
    "  -log_file ../logs/val_abs_bert_cnndm \\\n",
    "  -model_path ${MODEL_PATH} \\\n",
    "  -sep_optim true \\\n",
    "  -use_interval true \\\n",
    "  -visible_gpus -1 \\\n",
    "  -max_pos 512 \\\n",
    "  -max_length 200 \\\n",
    "  -alpha 0.95 \\\n",
    "  -min_length 50 \\\n",
    "  -result_path ../logs/abs_bert_cnndm \n"
   ]
  }
 ],
 "metadata": {
  "kernelspec": {
   "display_name": "Python 3",
   "language": "python",
   "name": "python3"
  },
  "language_info": {
   "codemirror_mode": {
    "name": "ipython",
    "version": 3
   },
   "file_extension": ".py",
   "mimetype": "text/x-python",
   "name": "python",
   "nbconvert_exporter": "python",
   "pygments_lexer": "ipython3",
   "version": "3.6.8"
  }
 },
 "nbformat": 4,
 "nbformat_minor": 2
}
